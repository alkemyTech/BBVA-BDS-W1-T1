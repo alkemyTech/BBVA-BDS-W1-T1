{
  "cells": [
    {
      "cell_type": "markdown",
      "metadata": {
        "id": "D5swiFXGtQNi"
      },
      "source": [
        "# Proyecto X"
      ]
    },
    {
      "cell_type": "markdown",
      "metadata": {
        "id": "FJFs_T5xvlBv"
      },
      "source": [
        "## Lectura de los datos y exploración de los encabezados de los archivos."
      ]
    },
    {
      "cell_type": "code",
      "execution_count": 1,
      "metadata": {
        "id": "dDoeFBjQv4pR"
      },
      "outputs": [],
      "source": [
        "import pandas as pd"
      ]
    },
    {
      "cell_type": "code",
      "execution_count": 2,
      "metadata": {
        "id": "4oAl0GY5vRLk"
      },
      "outputs": [],
      "source": [
        "geolocation = pd.read_csv('./content/Copia de ecommerce_geolocation_dataset.csv')\n",
        "customers = pd.read_csv('./content/Copia de ecommerce_customers_dataset.csv')\n",
        "order_items = pd.read_csv('./content/Copia de ecommerce_order_items_dataset.csv')\n",
        "order_payments = pd.read_csv('./content/Copia de ecommerce_order_payments_dataset.csv')\n",
        "order_reviews = pd.read_csv('./content/Copia de ecommerce_order_reviews_dataset.csv')\n",
        "orders = pd.read_csv('./content/Copia de ecommerce_orders_dataset.csv')\n",
        "products = pd.read_csv('./content/Copia de ecommerce_products_dataset.csv')\n",
        "sellers = pd.read_csv('./content/Copia de ecommerce_sellers_dataset.csv')\n",
        "category_names = pd.read_csv('./content/Copia de product_category_name_translation.csv')"
      ]
    },
    {
      "cell_type": "code",
      "execution_count": 3,
      "metadata": {
        "colab": {
          "base_uri": "https://localhost:8080/"
        },
        "id": "UdCM6FD9x34w",
        "outputId": "1c1b87c2-bd4d-40eb-8cf2-cbb9cc80ae05"
      },
      "outputs": [
        {
          "name": "stdout",
          "output_type": "stream",
          "text": [
            "['geolocation_zip_code_prefix', 'geolocation_lat', 'geolocation_lng', 'geolocation_city', 'geolocation_state']\n"
          ]
        }
      ],
      "source": [
        "print(geolocation.columns.tolist())"
      ]
    },
    {
      "cell_type": "code",
      "execution_count": 4,
      "metadata": {
        "colab": {
          "base_uri": "https://localhost:8080/"
        },
        "id": "WH_g1J_0yLeq",
        "outputId": "1d52453c-0131-4e93-aa06-18b80e7ede3d"
      },
      "outputs": [
        {
          "name": "stdout",
          "output_type": "stream",
          "text": [
            "['customer_id', 'customer_unique_id', 'customer_zip_code_prefix', 'customer_city', 'customer_state']\n"
          ]
        }
      ],
      "source": [
        "print(customers.columns.tolist())"
      ]
    },
    {
      "cell_type": "code",
      "execution_count": 5,
      "metadata": {
        "colab": {
          "base_uri": "https://localhost:8080/"
        },
        "id": "AfB6m4G6yT3f",
        "outputId": "05109e14-ce61-4b34-fea0-056612524bb7"
      },
      "outputs": [
        {
          "name": "stdout",
          "output_type": "stream",
          "text": [
            "['order_id', 'order_item_id', 'product_id', 'seller_id', 'shipping_limit_date', 'price', 'freight_value']\n"
          ]
        }
      ],
      "source": [
        "print(order_items.columns.tolist())"
      ]
    },
    {
      "cell_type": "code",
      "execution_count": 6,
      "metadata": {
        "colab": {
          "base_uri": "https://localhost:8080/"
        },
        "id": "auQmphxMybOM",
        "outputId": "c8249034-db68-476b-d1e8-22e44978983e"
      },
      "outputs": [
        {
          "name": "stdout",
          "output_type": "stream",
          "text": [
            "['order_id', 'payment_sequential', 'payment_type', 'payment_installments', 'payment_value']\n"
          ]
        }
      ],
      "source": [
        "print(order_payments.columns.tolist())"
      ]
    },
    {
      "cell_type": "code",
      "execution_count": 7,
      "metadata": {
        "colab": {
          "base_uri": "https://localhost:8080/"
        },
        "id": "4AdZtJXJybLe",
        "outputId": "abdb1756-49a4-47b0-dce7-72ef05e60e04"
      },
      "outputs": [
        {
          "name": "stdout",
          "output_type": "stream",
          "text": [
            "['review_id', 'order_id', 'review_score', 'review_comment_title', 'review_comment_message', 'review_creation_date', 'review_answer_timestamp']\n"
          ]
        }
      ],
      "source": [
        "print(order_reviews.columns.tolist())"
      ]
    },
    {
      "cell_type": "code",
      "execution_count": 8,
      "metadata": {
        "colab": {
          "base_uri": "https://localhost:8080/"
        },
        "id": "vRoIAUpMybIu",
        "outputId": "1caf4fbc-405b-4111-d647-a05aad4447b7"
      },
      "outputs": [
        {
          "name": "stdout",
          "output_type": "stream",
          "text": [
            "['order_id', 'customer_id', 'order_status', 'order_purchase_timestamp', 'order_approved_at', 'order_delivered_carrier_date', 'order_delivered_customer_date', 'order_estimated_delivery_date']\n"
          ]
        }
      ],
      "source": [
        "print(orders.columns.tolist())"
      ]
    },
    {
      "cell_type": "code",
      "execution_count": 9,
      "metadata": {
        "colab": {
          "base_uri": "https://localhost:8080/"
        },
        "id": "5mlHmDfVybFS",
        "outputId": "55c2c9af-3992-4d4e-bd2e-ed8812280d37"
      },
      "outputs": [
        {
          "name": "stdout",
          "output_type": "stream",
          "text": [
            "['product_id', 'product_category_name', 'product_name_lenght', 'product_description_lenght', 'product_photos_qty', 'product_weight_g', 'product_length_cm', 'product_height_cm', 'product_width_cm']\n"
          ]
        }
      ],
      "source": [
        "print(products.columns.tolist())"
      ]
    },
    {
      "cell_type": "code",
      "execution_count": 10,
      "metadata": {
        "colab": {
          "base_uri": "https://localhost:8080/"
        },
        "id": "w78VArU-ybBr",
        "outputId": "8566223c-64dc-4f79-93fa-11b49ba4f042"
      },
      "outputs": [
        {
          "name": "stdout",
          "output_type": "stream",
          "text": [
            "['seller_id', 'seller_zip_code_prefix', 'seller_city', 'seller_state']\n"
          ]
        }
      ],
      "source": [
        "print(sellers.columns.tolist())"
      ]
    },
    {
      "cell_type": "code",
      "execution_count": 11,
      "metadata": {
        "colab": {
          "base_uri": "https://localhost:8080/"
        },
        "id": "RrZuNnQHya-K",
        "outputId": "8f7ee24c-df66-4895-f186-3b4aed8d7926"
      },
      "outputs": [
        {
          "name": "stdout",
          "output_type": "stream",
          "text": [
            "['product_category_name', 'product_category_name_english']\n"
          ]
        }
      ],
      "source": [
        "print(category_names.columns.tolist())"
      ]
    },
    {
      "cell_type": "markdown",
      "metadata": {
        "id": "7efjGfOGtVP0"
      },
      "source": [
        "## BBT1-14 Creación de la base de datos y carga de datos"
      ]
    },
    {
      "cell_type": "markdown",
      "metadata": {
        "id": "nTo6jE-ccKhT"
      },
      "source": [
        "**Descripción**\n",
        "Crear una conexión a la base de datos de SQLite llamada ecommerce.db\n",
        "Importar los archivos y Guardar los DataFrames en la base de datos como tablas:\n",
        "\n",
        "ecommerce_customers_dataset.csv\n",
        "\n",
        "ecommerce_order_items_dataset.csv\n",
        "\n",
        "ecommerce_order_payments_dataset.csv\n",
        "\n",
        "ecommerce_order_reviews_dataset.csv\n",
        "\n",
        "ecommerce_orders_dataset.csv\n",
        "\n",
        "ecommerce_products_dataset.csv\n",
        "\n",
        "ecommerce_sellers_dataset.csv\n",
        "\n",
        "product_category_name_translation.csv\n"
      ]
    },
    {
      "cell_type": "code",
      "execution_count": 12,
      "metadata": {
        "id": "6cGRlxuEs7PZ"
      },
      "outputs": [],
      "source": [
        "import sqlite3 as sql\n",
        "\n",
        "\n",
        "#Conexion a la base de datos\n",
        "conn = sql.connect('ecommerce.db')\n",
        "cursor = conn.cursor()\n",
        "\n",
        "#script de creacion de tablas\n",
        "script = '''\n",
        "CREATE TABLE products (\n",
        "    product_id TEXT PRIMARY KEY,\n",
        "    product_category_name TEXT,\n",
        "    product_name_lenght REAL,\n",
        "    product_description_lenght REAL,\n",
        "    product_photos_qty REAL,\n",
        "    product_weight_g REAL,\n",
        "    product_length_cm REAL,\n",
        "    product_height_cm REAL,\n",
        "    product_width_cm REAL\n",
        ");\n",
        "CREATE TABLE order_items (\n",
        "    order_id TEXT,\n",
        "    order_item_id INTEGER,\n",
        "    product_id TEXT,\n",
        "    seller_id TEXT,\n",
        "    shipping_limit_date TEXT,\n",
        "    price REAL,\n",
        "    freight_value REAL,\n",
        "    PRIMARY KEY (order_id, order_item_id)\n",
        ");\n",
        "CREATE TABLE order_payments (\n",
        "    order_id TEXT,\n",
        "    payment_sequential INTEGER,\n",
        "    payment_type TEXT,\n",
        "    payment_installments INTEGER,\n",
        "    payment_value REAL,\n",
        "    PRIMARY KEY(order_id,payment_sequential)\n",
        ");\n",
        "CREATE TABLE orders (\n",
        "    order_id TEXT PRIMARY KEY,\n",
        "    customer_id TEXT,\n",
        "    order_status TEXT,\n",
        "    order_purchase_timestamp TEXT,\n",
        "    order_approved_at TEXT,\n",
        "    order_delivered_carrier_date TEXT,\n",
        "    order_delivered_customer_date TEXT,\n",
        "    order_estimated_delivery_date TEXT\n",
        ");\n",
        "CREATE TABLE customers (\n",
        "    customer_id TEXT PRIMARY KEY,\n",
        "    customer_unique_id TEXT,\n",
        "    customer_zip_code_prefix INTEGER,\n",
        "    customer_city TEXT,\n",
        "    customer_state TEXT\n",
        ");\n",
        "CREATE TABLE geolocation(\n",
        "  geolocation_zip_code_prefix INTEGER PRIMARY KEY ,\n",
        "  geolocation_lat REAL,\n",
        "  geolocation_lng REAL,\n",
        "  geolocation_city TEXT,\n",
        "  geolocation_state TEXT\n",
        ");\n",
        "CREATE TABLE order_review(\n",
        "  review_id TEXT,\n",
        "  order_id TEXT,\n",
        "  review_score INT,\n",
        "  review_comment_title TEXT,\n",
        "  review_comment_message TEXT,\n",
        "  review_creation_date TEXT,\n",
        "  review_answer_timestamp TEXT,\n",
        "  PRIMARY KEY(order_id,review_id)\n",
        ");\n",
        "CREATE TABLE sellers(\n",
        "  seller_id TEXT PRIMARY KEY,\n",
        "  seller_zip_code_prefix INTEGER,\n",
        "  seller_city TEXT,\n",
        "  seller_state TEXT\n",
        ");\n",
        "CREATE TABLE category(\n",
        "  product_category_name TEXT,\n",
        "  product_category_name_english TEXT\n",
        ");\n",
        "'''\n",
        "cursor.executescript(script)\n",
        "conn.commit()\n"
      ]
    },
    {
      "cell_type": "markdown",
      "metadata": {
        "id": "3TIQciNRu1Bh"
      },
      "source": [
        "Inserción de los datos de los csv a la base de datos"
      ]
    },
    {
      "cell_type": "code",
      "execution_count": 13,
      "metadata": {
        "colab": {
          "base_uri": "https://localhost:8080/"
        },
        "id": "zFrpa5i6t2i9",
        "outputId": "c60dcadf-073a-4170-8dfc-206e6b74a737"
      },
      "outputs": [
        {
          "data": {
            "text/plain": [
              "71"
            ]
          },
          "execution_count": 13,
          "metadata": {},
          "output_type": "execute_result"
        }
      ],
      "source": [
        "geolocation.to_sql('geolocation',conn, index=True, if_exists='replace')\n",
        "customers.to_sql('customers',conn, index=True, if_exists='replace')\n",
        "order_items.to_sql('order_items',conn, index=True, if_exists = 'replace')\n",
        "order_payments.to_sql('order_payments',conn, index=True, if_exists = 'replace')\n",
        "order_reviews.to_sql('order_review',conn, index=True, if_exists = 'replace')\n",
        "orders.to_sql('orders',conn, index=True, if_exists = 'replace')\n",
        "products.to_sql('products',conn, index=True, if_exists = 'replace')\n",
        "sellers.to_sql('sellers',conn, index=True, if_exists = 'replace')\n",
        "category_names.to_sql('category',conn, index=True, if_exists = 'replace')"
      ]
    },
    {
      "cell_type": "markdown",
      "metadata": {
        "id": "pMx3d6BFg_gv"
      },
      "source": [
        "Creación de tabla geolocation2 con latitudes y longitudes promedio\n",
        "\n",
        "Con el fin de evitar la duplicidad de datos usando el criterio de promediar latitudes y longitudes agrupando por código postal."
      ]
    },
    {
      "cell_type": "code",
      "execution_count": 14,
      "metadata": {
        "id": "LPFvG62Gg_gv"
      },
      "outputs": [],
      "source": [
        "query_geo = '''\n",
        "  SELECT geolocation_zip_code_prefix, AVG(geolocation_lat) as promedio_latitud, AVG(geolocation_lng) as promedio_longitud, geolocation_city, geolocation_state\n",
        "  FROM geolocation\n",
        "  GROUP BY geolocation_zip_code_prefix\n",
        "  ORDER BY geolocation_zip_code_prefix;\n",
        "  '''\n",
        "geo_2 = pd.read_sql_query(query_geo, conn)\n",
        "geo_2\n",
        "\n",
        "geo_2.set_index('geolocation_zip_code_prefix', inplace=True)"
      ]
    },
    {
      "cell_type": "code",
      "execution_count": 15,
      "metadata": {
        "colab": {
          "base_uri": "https://localhost:8080/"
        },
        "id": "NPFaT1Zog_gv",
        "outputId": "3d95c9a0-05ba-4ad3-aee4-bce031d92563"
      },
      "outputs": [
        {
          "data": {
            "text/plain": [
              "19015"
            ]
          },
          "execution_count": 15,
          "metadata": {},
          "output_type": "execute_result"
        }
      ],
      "source": [
        "geo_2.to_sql('geolocation2', conn, index=True, if_exists='replace')"
      ]
    },
    {
      "cell_type": "markdown",
      "metadata": {
        "id": "aQGRXVEHbVDQ"
      },
      "source": [
        "Creación de tabla geolocation2 con latitudes y longitudes promedio\n",
        "\n",
        "Con el fin de evitar la duplicidad de datos usando el criterio de promediar latitudes y longitudes agrupando por código postal."
      ]
    },
    {
      "cell_type": "code",
      "execution_count": 16,
      "metadata": {
        "colab": {
          "base_uri": "https://localhost:8080/"
        },
        "id": "8SDyPzgJbVDQ",
        "outputId": "7f85211f-3e25-4b45-f63c-a71832992a55"
      },
      "outputs": [
        {
          "name": "stdout",
          "output_type": "stream",
          "text": [
            "   geolocation_zip_code_prefix  promedio_latitud  promedio_longitud  \\\n",
            "0                         1001        -23.550190         -46.634024   \n",
            "1                         1002        -23.548146         -46.634979   \n",
            "2                         1003        -23.548994         -46.635731   \n",
            "3                         1004        -23.549799         -46.634757   \n",
            "4                         1005        -23.549456         -46.636733   \n",
            "\n",
            "  geolocation_city geolocation_state  \n",
            "0        sao paulo                SP  \n",
            "1        sao paulo                SP  \n",
            "2        sao paulo                SP  \n",
            "3        sao paulo                SP  \n",
            "4        sao paulo                SP  \n"
          ]
        }
      ],
      "source": [
        "query_geo = '''\n",
        "  SELECT geolocation_zip_code_prefix, AVG(geolocation_lat) as promedio_latitud, AVG(geolocation_lng) as promedio_longitud, geolocation_city, geolocation_state\n",
        "  FROM geolocation\n",
        "  GROUP BY geolocation_zip_code_prefix\n",
        "  ORDER BY geolocation_zip_code_prefix;\n",
        "  '''\n",
        "geo_2 = pd.read_sql_query(query_geo, conn)\n",
        "print(geo_2.head(5))\n",
        "\n",
        "geo_2.set_index('geolocation_zip_code_prefix', inplace=True)"
      ]
    },
    {
      "cell_type": "code",
      "execution_count": 17,
      "metadata": {
        "colab": {
          "base_uri": "https://localhost:8080/"
        },
        "id": "eLs4E_j5bVDQ",
        "outputId": "0df79937-77e5-4a43-81b4-0b1b861dd554"
      },
      "outputs": [
        {
          "data": {
            "text/plain": [
              "19015"
            ]
          },
          "execution_count": 17,
          "metadata": {},
          "output_type": "execute_result"
        }
      ],
      "source": [
        "geo_2.to_sql('geolocation2', conn, index=True, if_exists='replace')"
      ]
    },
    {
      "cell_type": "markdown",
      "metadata": {
        "id": "Hv9PVZwUtwde"
      },
      "source": [
        "## BBT1-18 - Extracción de datos desde las tablas customers y orders"
      ]
    },
    {
      "cell_type": "markdown",
      "metadata": {
        "id": "Fq3S6qHJdLlz"
      },
      "source": [
        "**Descripción**\n",
        "\n",
        "COMO: desarrollador\n",
        "\n",
        "QUIERO: Crear un DataFrame que contenga el JOIN de la tabla customers y tabla orders.\n",
        "\n",
        "PARA: Extraer los datos de clientes con sus ordenes"
      ]
    },
    {
      "cell_type": "code",
      "execution_count": 18,
      "metadata": {
        "colab": {
          "base_uri": "https://localhost:8080/",
          "height": 261
        },
        "id": "6gCpAFKatzq7",
        "outputId": "bda14e92-1ab4-41a3-dce5-72d896b33a0b"
      },
      "outputs": [
        {
          "data": {
            "text/html": [
              "<div>\n",
              "<style scoped>\n",
              "    .dataframe tbody tr th:only-of-type {\n",
              "        vertical-align: middle;\n",
              "    }\n",
              "\n",
              "    .dataframe tbody tr th {\n",
              "        vertical-align: top;\n",
              "    }\n",
              "\n",
              "    .dataframe thead th {\n",
              "        text-align: right;\n",
              "    }\n",
              "</style>\n",
              "<table border=\"1\" class=\"dataframe\">\n",
              "  <thead>\n",
              "    <tr style=\"text-align: right;\">\n",
              "      <th></th>\n",
              "      <th>customer_unique_id</th>\n",
              "      <th>customer_zip_code_prefix</th>\n",
              "      <th>customer_city</th>\n",
              "      <th>customer_state</th>\n",
              "      <th>customer_id</th>\n",
              "      <th>order_status</th>\n",
              "      <th>order_purchase_timestamp</th>\n",
              "      <th>order_approved_at</th>\n",
              "      <th>order_delivered_carrier_date</th>\n",
              "      <th>order_delivered_customer_date</th>\n",
              "      <th>order_estimated_delivery_date</th>\n",
              "    </tr>\n",
              "  </thead>\n",
              "  <tbody>\n",
              "    <tr>\n",
              "      <th>0</th>\n",
              "      <td>861eff4711a542e4b93843c6dd7febb0</td>\n",
              "      <td>14409</td>\n",
              "      <td>franca</td>\n",
              "      <td>SP</td>\n",
              "      <td>06b8999e2fba1a1fbc88172c00ba8bc7</td>\n",
              "      <td>delivered</td>\n",
              "      <td>2017-05-16 15:05:35</td>\n",
              "      <td>2017-05-16 15:22:12</td>\n",
              "      <td>2017-05-23 10:47:57</td>\n",
              "      <td>2017-05-25 10:35:35</td>\n",
              "      <td>2017-06-05 00:00:00</td>\n",
              "    </tr>\n",
              "    <tr>\n",
              "      <th>1</th>\n",
              "      <td>290c77bc529b7ac935b93aa66c333dc3</td>\n",
              "      <td>9790</td>\n",
              "      <td>sao bernardo do campo</td>\n",
              "      <td>SP</td>\n",
              "      <td>18955e83d337fd6b2def6b18a428ac77</td>\n",
              "      <td>delivered</td>\n",
              "      <td>2018-01-12 20:48:24</td>\n",
              "      <td>2018-01-12 20:58:32</td>\n",
              "      <td>2018-01-15 17:14:59</td>\n",
              "      <td>2018-01-29 12:41:19</td>\n",
              "      <td>2018-02-06 00:00:00</td>\n",
              "    </tr>\n",
              "    <tr>\n",
              "      <th>2</th>\n",
              "      <td>060e732b5b29e8181a18229c7b0b2b5e</td>\n",
              "      <td>1151</td>\n",
              "      <td>sao paulo</td>\n",
              "      <td>SP</td>\n",
              "      <td>4e7b3e00288586ebd08712fdd0374a03</td>\n",
              "      <td>delivered</td>\n",
              "      <td>2018-05-19 16:07:45</td>\n",
              "      <td>2018-05-20 16:19:10</td>\n",
              "      <td>2018-06-11 14:31:00</td>\n",
              "      <td>2018-06-14 17:58:51</td>\n",
              "      <td>2018-06-13 00:00:00</td>\n",
              "    </tr>\n",
              "    <tr>\n",
              "      <th>3</th>\n",
              "      <td>259dac757896d24d7702b9acbbff3f3c</td>\n",
              "      <td>8775</td>\n",
              "      <td>mogi das cruzes</td>\n",
              "      <td>SP</td>\n",
              "      <td>b2b6027bc5c5109e529d4dc6358b12c3</td>\n",
              "      <td>delivered</td>\n",
              "      <td>2018-03-13 16:06:38</td>\n",
              "      <td>2018-03-13 17:29:19</td>\n",
              "      <td>2018-03-27 23:22:42</td>\n",
              "      <td>2018-03-28 16:04:25</td>\n",
              "      <td>2018-04-10 00:00:00</td>\n",
              "    </tr>\n",
              "    <tr>\n",
              "      <th>4</th>\n",
              "      <td>345ecd01c38d18a9036ed96c73b8d066</td>\n",
              "      <td>13056</td>\n",
              "      <td>campinas</td>\n",
              "      <td>SP</td>\n",
              "      <td>4f2d8ab171c80ec8364f7c12e35b23ad</td>\n",
              "      <td>delivered</td>\n",
              "      <td>2018-07-29 09:51:30</td>\n",
              "      <td>2018-07-29 10:10:09</td>\n",
              "      <td>2018-07-30 15:16:00</td>\n",
              "      <td>2018-08-09 20:55:48</td>\n",
              "      <td>2018-08-15 00:00:00</td>\n",
              "    </tr>\n",
              "  </tbody>\n",
              "</table>\n",
              "</div>"
            ],
            "text/plain": [
              "                 customer_unique_id  customer_zip_code_prefix  \\\n",
              "0  861eff4711a542e4b93843c6dd7febb0                     14409   \n",
              "1  290c77bc529b7ac935b93aa66c333dc3                      9790   \n",
              "2  060e732b5b29e8181a18229c7b0b2b5e                      1151   \n",
              "3  259dac757896d24d7702b9acbbff3f3c                      8775   \n",
              "4  345ecd01c38d18a9036ed96c73b8d066                     13056   \n",
              "\n",
              "           customer_city customer_state                       customer_id  \\\n",
              "0                 franca             SP  06b8999e2fba1a1fbc88172c00ba8bc7   \n",
              "1  sao bernardo do campo             SP  18955e83d337fd6b2def6b18a428ac77   \n",
              "2              sao paulo             SP  4e7b3e00288586ebd08712fdd0374a03   \n",
              "3        mogi das cruzes             SP  b2b6027bc5c5109e529d4dc6358b12c3   \n",
              "4               campinas             SP  4f2d8ab171c80ec8364f7c12e35b23ad   \n",
              "\n",
              "  order_status order_purchase_timestamp    order_approved_at  \\\n",
              "0    delivered      2017-05-16 15:05:35  2017-05-16 15:22:12   \n",
              "1    delivered      2018-01-12 20:48:24  2018-01-12 20:58:32   \n",
              "2    delivered      2018-05-19 16:07:45  2018-05-20 16:19:10   \n",
              "3    delivered      2018-03-13 16:06:38  2018-03-13 17:29:19   \n",
              "4    delivered      2018-07-29 09:51:30  2018-07-29 10:10:09   \n",
              "\n",
              "  order_delivered_carrier_date order_delivered_customer_date  \\\n",
              "0          2017-05-23 10:47:57           2017-05-25 10:35:35   \n",
              "1          2018-01-15 17:14:59           2018-01-29 12:41:19   \n",
              "2          2018-06-11 14:31:00           2018-06-14 17:58:51   \n",
              "3          2018-03-27 23:22:42           2018-03-28 16:04:25   \n",
              "4          2018-07-30 15:16:00           2018-08-09 20:55:48   \n",
              "\n",
              "  order_estimated_delivery_date  \n",
              "0           2017-06-05 00:00:00  \n",
              "1           2018-02-06 00:00:00  \n",
              "2           2018-06-13 00:00:00  \n",
              "3           2018-04-10 00:00:00  \n",
              "4           2018-08-15 00:00:00  "
            ]
          },
          "execution_count": 18,
          "metadata": {},
          "output_type": "execute_result"
        }
      ],
      "source": [
        "query_1 = '''\n",
        "SELECT c.customer_unique_id,c.customer_zip_code_prefix,c.customer_city, c.customer_state,\n",
        "      o.customer_id,o.order_status,o.order_purchase_timestamp,o.order_approved_at,o.order_delivered_carrier_date ,o.order_delivered_customer_date ,o.order_estimated_delivery_date\n",
        "FROM customers AS c\n",
        "JOIN orders as o ON c.customer_id = o.customer_id;\n",
        "\n",
        "'''\n",
        "df_customers_orders = pd.read_sql_query(query_1, conn)\n",
        "\n",
        "df_customers_orders.head(5)"
      ]
    },
    {
      "cell_type": "markdown",
      "metadata": {
        "id": "n1b92XBOux2X"
      },
      "source": [
        "## BBT1-19  Extracción de datos desde las tablas orders y orders_items"
      ]
    },
    {
      "cell_type": "markdown",
      "metadata": {
        "id": "YitgAeSrdP8c"
      },
      "source": [
        "**Descripción**\n",
        "\n",
        "COMO: desarrollador\n",
        "\n",
        "QUIERO: Crear un DataFrame que contenga el JOIN de la tabla orders y tabla orders_items.\n",
        "\n",
        "PARA: Extraer los datos de ordenes con sus items"
      ]
    },
    {
      "cell_type": "code",
      "execution_count": 19,
      "metadata": {
        "colab": {
          "base_uri": "https://localhost:8080/",
          "height": 226
        },
        "id": "uRF-SpxZuzZu",
        "outputId": "7decd1d2-a441-49e3-b349-f6829ad47b40"
      },
      "outputs": [
        {
          "data": {
            "text/html": [
              "<div>\n",
              "<style scoped>\n",
              "    .dataframe tbody tr th:only-of-type {\n",
              "        vertical-align: middle;\n",
              "    }\n",
              "\n",
              "    .dataframe tbody tr th {\n",
              "        vertical-align: top;\n",
              "    }\n",
              "\n",
              "    .dataframe thead th {\n",
              "        text-align: right;\n",
              "    }\n",
              "</style>\n",
              "<table border=\"1\" class=\"dataframe\">\n",
              "  <thead>\n",
              "    <tr style=\"text-align: right;\">\n",
              "      <th></th>\n",
              "      <th>customer_id</th>\n",
              "      <th>order_status</th>\n",
              "      <th>order_purchase_timestamp</th>\n",
              "      <th>order_approved_at</th>\n",
              "      <th>order_delivered_carrier_date</th>\n",
              "      <th>order_delivered_customer_date</th>\n",
              "      <th>order_estimated_delivery_date</th>\n",
              "      <th>order_id</th>\n",
              "      <th>order_item_id</th>\n",
              "      <th>product_id</th>\n",
              "      <th>seller_id</th>\n",
              "      <th>shipping_limit_date</th>\n",
              "      <th>price</th>\n",
              "      <th>freight_value</th>\n",
              "    </tr>\n",
              "  </thead>\n",
              "  <tbody>\n",
              "    <tr>\n",
              "      <th>0</th>\n",
              "      <td>9ef432eb6251297304e76186b10a928d</td>\n",
              "      <td>delivered</td>\n",
              "      <td>2017-10-02 10:56:33</td>\n",
              "      <td>2017-10-02 11:07:15</td>\n",
              "      <td>2017-10-04 19:55:00</td>\n",
              "      <td>2017-10-10 21:25:13</td>\n",
              "      <td>2017-10-18 00:00:00</td>\n",
              "      <td>e481f51cbdc54678b7cc49136f2d6af7</td>\n",
              "      <td>1</td>\n",
              "      <td>87285b34884572647811a353c7ac498a</td>\n",
              "      <td>3504c0cb71d7fa48d967e0e4c94d59d9</td>\n",
              "      <td>2017-10-06 11:07:15</td>\n",
              "      <td>29.99</td>\n",
              "      <td>8.72</td>\n",
              "    </tr>\n",
              "    <tr>\n",
              "      <th>1</th>\n",
              "      <td>b0830fb4747a6c6d20dea0b8c802d7ef</td>\n",
              "      <td>delivered</td>\n",
              "      <td>2018-07-24 20:41:37</td>\n",
              "      <td>2018-07-26 03:24:27</td>\n",
              "      <td>2018-07-26 14:31:00</td>\n",
              "      <td>2018-08-07 15:27:45</td>\n",
              "      <td>2018-08-13 00:00:00</td>\n",
              "      <td>53cdb2fc8bc7dce0b6741e2150273451</td>\n",
              "      <td>1</td>\n",
              "      <td>595fac2a385ac33a80bd5114aec74eb8</td>\n",
              "      <td>289cdb325fb7e7f891c38608bf9e0962</td>\n",
              "      <td>2018-07-30 03:24:27</td>\n",
              "      <td>118.70</td>\n",
              "      <td>22.76</td>\n",
              "    </tr>\n",
              "    <tr>\n",
              "      <th>2</th>\n",
              "      <td>41ce2a54c0b03bf3443c3d931a367089</td>\n",
              "      <td>delivered</td>\n",
              "      <td>2018-08-08 08:38:49</td>\n",
              "      <td>2018-08-08 08:55:23</td>\n",
              "      <td>2018-08-08 13:50:00</td>\n",
              "      <td>2018-08-17 18:06:29</td>\n",
              "      <td>2018-09-04 00:00:00</td>\n",
              "      <td>47770eb9100c2d0c44946d9cf07ec65d</td>\n",
              "      <td>1</td>\n",
              "      <td>aa4383b373c6aca5d8797843e5594415</td>\n",
              "      <td>4869f7a5dfa277a7dca6462dcf3b52b2</td>\n",
              "      <td>2018-08-13 08:55:23</td>\n",
              "      <td>159.90</td>\n",
              "      <td>19.22</td>\n",
              "    </tr>\n",
              "    <tr>\n",
              "      <th>3</th>\n",
              "      <td>f88197465ea7920adcdbec7375364d82</td>\n",
              "      <td>delivered</td>\n",
              "      <td>2017-11-18 19:28:06</td>\n",
              "      <td>2017-11-18 19:45:59</td>\n",
              "      <td>2017-11-22 13:39:59</td>\n",
              "      <td>2017-12-02 00:28:42</td>\n",
              "      <td>2017-12-15 00:00:00</td>\n",
              "      <td>949d5b44dbf5de918fe9c16f97b45f8a</td>\n",
              "      <td>1</td>\n",
              "      <td>d0b61bfb1de832b15ba9d266ca96e5b0</td>\n",
              "      <td>66922902710d126a0e7d26b0e3805106</td>\n",
              "      <td>2017-11-23 19:45:59</td>\n",
              "      <td>45.00</td>\n",
              "      <td>27.20</td>\n",
              "    </tr>\n",
              "    <tr>\n",
              "      <th>4</th>\n",
              "      <td>8ab97904e6daea8866dbdbc4fb7aad2c</td>\n",
              "      <td>delivered</td>\n",
              "      <td>2018-02-13 21:18:39</td>\n",
              "      <td>2018-02-13 22:20:29</td>\n",
              "      <td>2018-02-14 19:46:34</td>\n",
              "      <td>2018-02-16 18:17:02</td>\n",
              "      <td>2018-02-26 00:00:00</td>\n",
              "      <td>ad21c59c0840e6cb83a9ceb5573f8159</td>\n",
              "      <td>1</td>\n",
              "      <td>65266b2da20d04dbe00c5c2d3bb7859e</td>\n",
              "      <td>2c9e548be18521d1c43cde1c582c6de8</td>\n",
              "      <td>2018-02-19 20:31:37</td>\n",
              "      <td>19.90</td>\n",
              "      <td>8.72</td>\n",
              "    </tr>\n",
              "  </tbody>\n",
              "</table>\n",
              "</div>"
            ],
            "text/plain": [
              "                        customer_id order_status order_purchase_timestamp  \\\n",
              "0  9ef432eb6251297304e76186b10a928d    delivered      2017-10-02 10:56:33   \n",
              "1  b0830fb4747a6c6d20dea0b8c802d7ef    delivered      2018-07-24 20:41:37   \n",
              "2  41ce2a54c0b03bf3443c3d931a367089    delivered      2018-08-08 08:38:49   \n",
              "3  f88197465ea7920adcdbec7375364d82    delivered      2017-11-18 19:28:06   \n",
              "4  8ab97904e6daea8866dbdbc4fb7aad2c    delivered      2018-02-13 21:18:39   \n",
              "\n",
              "     order_approved_at order_delivered_carrier_date  \\\n",
              "0  2017-10-02 11:07:15          2017-10-04 19:55:00   \n",
              "1  2018-07-26 03:24:27          2018-07-26 14:31:00   \n",
              "2  2018-08-08 08:55:23          2018-08-08 13:50:00   \n",
              "3  2017-11-18 19:45:59          2017-11-22 13:39:59   \n",
              "4  2018-02-13 22:20:29          2018-02-14 19:46:34   \n",
              "\n",
              "  order_delivered_customer_date order_estimated_delivery_date  \\\n",
              "0           2017-10-10 21:25:13           2017-10-18 00:00:00   \n",
              "1           2018-08-07 15:27:45           2018-08-13 00:00:00   \n",
              "2           2018-08-17 18:06:29           2018-09-04 00:00:00   \n",
              "3           2017-12-02 00:28:42           2017-12-15 00:00:00   \n",
              "4           2018-02-16 18:17:02           2018-02-26 00:00:00   \n",
              "\n",
              "                           order_id  order_item_id  \\\n",
              "0  e481f51cbdc54678b7cc49136f2d6af7              1   \n",
              "1  53cdb2fc8bc7dce0b6741e2150273451              1   \n",
              "2  47770eb9100c2d0c44946d9cf07ec65d              1   \n",
              "3  949d5b44dbf5de918fe9c16f97b45f8a              1   \n",
              "4  ad21c59c0840e6cb83a9ceb5573f8159              1   \n",
              "\n",
              "                         product_id                         seller_id  \\\n",
              "0  87285b34884572647811a353c7ac498a  3504c0cb71d7fa48d967e0e4c94d59d9   \n",
              "1  595fac2a385ac33a80bd5114aec74eb8  289cdb325fb7e7f891c38608bf9e0962   \n",
              "2  aa4383b373c6aca5d8797843e5594415  4869f7a5dfa277a7dca6462dcf3b52b2   \n",
              "3  d0b61bfb1de832b15ba9d266ca96e5b0  66922902710d126a0e7d26b0e3805106   \n",
              "4  65266b2da20d04dbe00c5c2d3bb7859e  2c9e548be18521d1c43cde1c582c6de8   \n",
              "\n",
              "   shipping_limit_date   price  freight_value  \n",
              "0  2017-10-06 11:07:15   29.99           8.72  \n",
              "1  2018-07-30 03:24:27  118.70          22.76  \n",
              "2  2018-08-13 08:55:23  159.90          19.22  \n",
              "3  2017-11-23 19:45:59   45.00          27.20  \n",
              "4  2018-02-19 20:31:37   19.90           8.72  "
            ]
          },
          "execution_count": 19,
          "metadata": {},
          "output_type": "execute_result"
        }
      ],
      "source": [
        "query_2 = '''\n",
        "SELECT o.customer_id,o.order_status,o.order_purchase_timestamp,o.order_approved_at,o.order_delivered_carrier_date ,o.order_delivered_customer_date ,o.order_estimated_delivery_date,\n",
        "       oi.order_id, oi.order_item_id , oi.product_id , oi.seller_id , oi.shipping_limit_date , oi.price  , oi.freight_value\n",
        "FROM orders AS o\n",
        "JOIN order_items AS oi ON o.order_id = oi.order_id;\n",
        "'''\n",
        "df_orders_ordersitems = pd.read_sql_query(query_2,conn)\n",
        "df_orders_ordersitems.head(5)"
      ]
    },
    {
      "cell_type": "markdown",
      "metadata": {
        "id": "0YVOJBQBvBED"
      },
      "source": [
        "## BBT1-20  Extracción de datos desde las tablas orders_items y sellers"
      ]
    },
    {
      "cell_type": "markdown",
      "metadata": {
        "id": "8S16rQPGdQnF"
      },
      "source": [
        "**Descripción**\n",
        "\n",
        "COMO: desarrollador\n",
        "\n",
        "QUIERO: Crear un DataFrame que contenga el JOIN de la tabla orders_items y tabla sellers.\n",
        "\n",
        "PARA: Extraer los datos de items con por sellers"
      ]
    },
    {
      "cell_type": "code",
      "execution_count": 20,
      "metadata": {
        "colab": {
          "base_uri": "https://localhost:8080/",
          "height": 261
        },
        "id": "wYTi10fovD7-",
        "outputId": "288574b4-28a4-45b9-d269-8883a6c2fd9e"
      },
      "outputs": [
        {
          "data": {
            "text/html": [
              "<div>\n",
              "<style scoped>\n",
              "    .dataframe tbody tr th:only-of-type {\n",
              "        vertical-align: middle;\n",
              "    }\n",
              "\n",
              "    .dataframe tbody tr th {\n",
              "        vertical-align: top;\n",
              "    }\n",
              "\n",
              "    .dataframe thead th {\n",
              "        text-align: right;\n",
              "    }\n",
              "</style>\n",
              "<table border=\"1\" class=\"dataframe\">\n",
              "  <thead>\n",
              "    <tr style=\"text-align: right;\">\n",
              "      <th></th>\n",
              "      <th>order_id</th>\n",
              "      <th>order_item_id</th>\n",
              "      <th>product_id</th>\n",
              "      <th>seller_id</th>\n",
              "      <th>shipping_limit_date</th>\n",
              "      <th>price</th>\n",
              "      <th>freight_value</th>\n",
              "      <th>seller_zip_code_prefix</th>\n",
              "      <th>seller_city</th>\n",
              "      <th>seller_state</th>\n",
              "    </tr>\n",
              "  </thead>\n",
              "  <tbody>\n",
              "    <tr>\n",
              "      <th>0</th>\n",
              "      <td>00010242fe8c5a6d1ba2dd792cb16214</td>\n",
              "      <td>1</td>\n",
              "      <td>4244733e06e7ecb4970a6e2683c13e61</td>\n",
              "      <td>48436dade18ac8b2bce089ec2a041202</td>\n",
              "      <td>2017-09-19 09:45:35</td>\n",
              "      <td>58.90</td>\n",
              "      <td>13.29</td>\n",
              "      <td>27277</td>\n",
              "      <td>volta redonda</td>\n",
              "      <td>SP</td>\n",
              "    </tr>\n",
              "    <tr>\n",
              "      <th>1</th>\n",
              "      <td>00018f77f2f0320c557190d7a144bdd3</td>\n",
              "      <td>1</td>\n",
              "      <td>e5f2d52b802189ee658865ca93d83a8f</td>\n",
              "      <td>dd7ddc04e1b6c2c614352b383efe2d36</td>\n",
              "      <td>2017-05-03 11:05:13</td>\n",
              "      <td>239.90</td>\n",
              "      <td>19.93</td>\n",
              "      <td>3471</td>\n",
              "      <td>sao paulo</td>\n",
              "      <td>SP</td>\n",
              "    </tr>\n",
              "    <tr>\n",
              "      <th>2</th>\n",
              "      <td>000229ec398224ef6ca0657da4fc703e</td>\n",
              "      <td>1</td>\n",
              "      <td>c777355d18b72b67abbeef9df44fd0fd</td>\n",
              "      <td>5b51032eddd242adc84c38acab88f23d</td>\n",
              "      <td>2018-01-18 14:48:30</td>\n",
              "      <td>199.00</td>\n",
              "      <td>17.87</td>\n",
              "      <td>37564</td>\n",
              "      <td>borda da mata</td>\n",
              "      <td>MG</td>\n",
              "    </tr>\n",
              "    <tr>\n",
              "      <th>3</th>\n",
              "      <td>00024acbcdf0a6daa1e931b038114c75</td>\n",
              "      <td>1</td>\n",
              "      <td>7634da152a4610f1595efa32f14722fc</td>\n",
              "      <td>9d7a1d34a5052409006425275ba1c2b4</td>\n",
              "      <td>2018-08-15 10:10:18</td>\n",
              "      <td>12.99</td>\n",
              "      <td>12.79</td>\n",
              "      <td>14403</td>\n",
              "      <td>franca</td>\n",
              "      <td>SP</td>\n",
              "    </tr>\n",
              "    <tr>\n",
              "      <th>4</th>\n",
              "      <td>00042b26cf59d7ce69dfabb4e55b4fd9</td>\n",
              "      <td>1</td>\n",
              "      <td>ac6c3623068f30de03045865e4e10089</td>\n",
              "      <td>df560393f3a51e74553ab94004ba5c87</td>\n",
              "      <td>2017-02-13 13:57:51</td>\n",
              "      <td>199.90</td>\n",
              "      <td>18.14</td>\n",
              "      <td>87900</td>\n",
              "      <td>loanda</td>\n",
              "      <td>PR</td>\n",
              "    </tr>\n",
              "  </tbody>\n",
              "</table>\n",
              "</div>"
            ],
            "text/plain": [
              "                           order_id  order_item_id  \\\n",
              "0  00010242fe8c5a6d1ba2dd792cb16214              1   \n",
              "1  00018f77f2f0320c557190d7a144bdd3              1   \n",
              "2  000229ec398224ef6ca0657da4fc703e              1   \n",
              "3  00024acbcdf0a6daa1e931b038114c75              1   \n",
              "4  00042b26cf59d7ce69dfabb4e55b4fd9              1   \n",
              "\n",
              "                         product_id                         seller_id  \\\n",
              "0  4244733e06e7ecb4970a6e2683c13e61  48436dade18ac8b2bce089ec2a041202   \n",
              "1  e5f2d52b802189ee658865ca93d83a8f  dd7ddc04e1b6c2c614352b383efe2d36   \n",
              "2  c777355d18b72b67abbeef9df44fd0fd  5b51032eddd242adc84c38acab88f23d   \n",
              "3  7634da152a4610f1595efa32f14722fc  9d7a1d34a5052409006425275ba1c2b4   \n",
              "4  ac6c3623068f30de03045865e4e10089  df560393f3a51e74553ab94004ba5c87   \n",
              "\n",
              "   shipping_limit_date   price  freight_value  seller_zip_code_prefix  \\\n",
              "0  2017-09-19 09:45:35   58.90          13.29                   27277   \n",
              "1  2017-05-03 11:05:13  239.90          19.93                    3471   \n",
              "2  2018-01-18 14:48:30  199.00          17.87                   37564   \n",
              "3  2018-08-15 10:10:18   12.99          12.79                   14403   \n",
              "4  2017-02-13 13:57:51  199.90          18.14                   87900   \n",
              "\n",
              "     seller_city seller_state  \n",
              "0  volta redonda           SP  \n",
              "1      sao paulo           SP  \n",
              "2  borda da mata           MG  \n",
              "3         franca           SP  \n",
              "4         loanda           PR  "
            ]
          },
          "execution_count": 20,
          "metadata": {},
          "output_type": "execute_result"
        }
      ],
      "source": [
        "query_3 = '''\n",
        "SELECT oi.order_id, oi.order_item_id , oi.product_id , oi.seller_id , oi.shipping_limit_date , oi.price  , oi.freight_value,\n",
        "        s.seller_zip_code_prefix, s.seller_city, s.seller_state\n",
        "FROM order_items AS oi\n",
        "JOIN sellers AS s ON oi.seller_id = s.seller_id;\n",
        "'''\n",
        "df_orderitems_sellers = pd.read_sql_query(query_3, conn)\n",
        "df_orderitems_sellers.head(5)"
      ]
    },
    {
      "cell_type": "markdown",
      "metadata": {
        "id": "-S-ueznfbVDQ"
      },
      "source": [
        "## BBT1-21  Extracción de datos desde las tablas orders_items y products"
      ]
    },
    {
      "cell_type": "markdown",
      "metadata": {
        "id": "CFGQV7GtdRrd"
      },
      "source": [
        "**Descripción**\n",
        "Crear un DataFrame que contenga el JOIN de la tabla orders_items (oi) y tabla products (p).\n",
        "Extraer los datos de items con categorias"
      ]
    },
    {
      "cell_type": "code",
      "execution_count": 21,
      "metadata": {
        "colab": {
          "base_uri": "https://localhost:8080/",
          "height": 226
        },
        "id": "OglLgcg_bVDQ",
        "outputId": "b2f3dc17-9848-484e-c4ce-6a15115cf273"
      },
      "outputs": [
        {
          "data": {
            "text/html": [
              "<div>\n",
              "<style scoped>\n",
              "    .dataframe tbody tr th:only-of-type {\n",
              "        vertical-align: middle;\n",
              "    }\n",
              "\n",
              "    .dataframe tbody tr th {\n",
              "        vertical-align: top;\n",
              "    }\n",
              "\n",
              "    .dataframe thead th {\n",
              "        text-align: right;\n",
              "    }\n",
              "</style>\n",
              "<table border=\"1\" class=\"dataframe\">\n",
              "  <thead>\n",
              "    <tr style=\"text-align: right;\">\n",
              "      <th></th>\n",
              "      <th>index</th>\n",
              "      <th>order_id</th>\n",
              "      <th>order_item_id</th>\n",
              "      <th>product_id</th>\n",
              "      <th>seller_id</th>\n",
              "      <th>shipping_limit_date</th>\n",
              "      <th>price</th>\n",
              "      <th>freight_value</th>\n",
              "      <th>product_category_name</th>\n",
              "    </tr>\n",
              "  </thead>\n",
              "  <tbody>\n",
              "    <tr>\n",
              "      <th>0</th>\n",
              "      <td>123</td>\n",
              "      <td>0046e1d57f4c07c8c92ab26be8c3dfc0</td>\n",
              "      <td>1</td>\n",
              "      <td>ff6caf9340512b8bf6d2a2a6df032cfa</td>\n",
              "      <td>38e6dada03429a47197d5d584d793b41</td>\n",
              "      <td>2017-10-02 15:49:17</td>\n",
              "      <td>7.79</td>\n",
              "      <td>7.78</td>\n",
              "      <td>None</td>\n",
              "    </tr>\n",
              "    <tr>\n",
              "      <th>1</th>\n",
              "      <td>125</td>\n",
              "      <td>00482f2670787292280e0a8153d82467</td>\n",
              "      <td>1</td>\n",
              "      <td>a9c404971d1a5b1cbc2e4070e02731fd</td>\n",
              "      <td>702835e4b785b67a084280efca355756</td>\n",
              "      <td>2017-02-17 16:18:07</td>\n",
              "      <td>7.60</td>\n",
              "      <td>10.96</td>\n",
              "      <td>None</td>\n",
              "    </tr>\n",
              "    <tr>\n",
              "      <th>2</th>\n",
              "      <td>132</td>\n",
              "      <td>004f5d8f238e8908e6864b874eda3391</td>\n",
              "      <td>1</td>\n",
              "      <td>5a848e4ab52fd5445cdc07aab1c40e48</td>\n",
              "      <td>c826c40d7b19f62a09e2d7c5e7295ee2</td>\n",
              "      <td>2018-03-06 09:29:25</td>\n",
              "      <td>122.99</td>\n",
              "      <td>15.61</td>\n",
              "      <td>None</td>\n",
              "    </tr>\n",
              "    <tr>\n",
              "      <th>3</th>\n",
              "      <td>142</td>\n",
              "      <td>0057199db02d1a5ef41bacbf41f8f63b</td>\n",
              "      <td>1</td>\n",
              "      <td>41eee23c25f7a574dfaf8d5c151dbb12</td>\n",
              "      <td>e5a3438891c0bfdb9394643f95273d8e</td>\n",
              "      <td>2018-01-25 09:07:51</td>\n",
              "      <td>20.30</td>\n",
              "      <td>16.79</td>\n",
              "      <td>None</td>\n",
              "    </tr>\n",
              "    <tr>\n",
              "      <th>4</th>\n",
              "      <td>171</td>\n",
              "      <td>006cb7cafc99b29548d4f412c7f9f493</td>\n",
              "      <td>1</td>\n",
              "      <td>e10758160da97891c2fdcbc35f0f031d</td>\n",
              "      <td>323ce52b5b81df2cd804b017b7f09aa7</td>\n",
              "      <td>2018-02-22 13:35:28</td>\n",
              "      <td>56.00</td>\n",
              "      <td>14.14</td>\n",
              "      <td>None</td>\n",
              "    </tr>\n",
              "  </tbody>\n",
              "</table>\n",
              "</div>"
            ],
            "text/plain": [
              "   index                          order_id  order_item_id  \\\n",
              "0    123  0046e1d57f4c07c8c92ab26be8c3dfc0              1   \n",
              "1    125  00482f2670787292280e0a8153d82467              1   \n",
              "2    132  004f5d8f238e8908e6864b874eda3391              1   \n",
              "3    142  0057199db02d1a5ef41bacbf41f8f63b              1   \n",
              "4    171  006cb7cafc99b29548d4f412c7f9f493              1   \n",
              "\n",
              "                         product_id                         seller_id  \\\n",
              "0  ff6caf9340512b8bf6d2a2a6df032cfa  38e6dada03429a47197d5d584d793b41   \n",
              "1  a9c404971d1a5b1cbc2e4070e02731fd  702835e4b785b67a084280efca355756   \n",
              "2  5a848e4ab52fd5445cdc07aab1c40e48  c826c40d7b19f62a09e2d7c5e7295ee2   \n",
              "3  41eee23c25f7a574dfaf8d5c151dbb12  e5a3438891c0bfdb9394643f95273d8e   \n",
              "4  e10758160da97891c2fdcbc35f0f031d  323ce52b5b81df2cd804b017b7f09aa7   \n",
              "\n",
              "   shipping_limit_date   price  freight_value product_category_name  \n",
              "0  2017-10-02 15:49:17    7.79           7.78                  None  \n",
              "1  2017-02-17 16:18:07    7.60          10.96                  None  \n",
              "2  2018-03-06 09:29:25  122.99          15.61                  None  \n",
              "3  2018-01-25 09:07:51   20.30          16.79                  None  \n",
              "4  2018-02-22 13:35:28   56.00          14.14                  None  "
            ]
          },
          "execution_count": 21,
          "metadata": {},
          "output_type": "execute_result"
        }
      ],
      "source": [
        "BBT1_21_query = '''\n",
        "SELECT oi.*, p.product_category_name\n",
        "FROM order_items oi\n",
        "JOIN products p ON oi.product_id = p.product_id\n",
        "ORDER BY p.product_category_name ASC;\n",
        "'''\n",
        "\n",
        "BBT1_21 = pd.read_sql_query(BBT1_21_query, conn)\n",
        "BBT1_21.head(5)"
      ]
    },
    {
      "cell_type": "markdown",
      "metadata": {
        "id": "xdZNIKZ4bVDQ"
      },
      "source": [
        "## BBT1-22 Extracción de datos desde las tablas order y payments"
      ]
    },
    {
      "cell_type": "markdown",
      "metadata": {
        "id": "N_POyPtOdSHt"
      },
      "source": [
        "**Descripción**\n",
        "Crear un DataFrame que contenga el JOIN de la tabla orders (o) y tabla payments (op). Extraer los datos de órdenes con sus pagos asociados."
      ]
    },
    {
      "cell_type": "code",
      "execution_count": 22,
      "metadata": {
        "colab": {
          "base_uri": "https://localhost:8080/",
          "height": 226
        },
        "id": "UYKXHwS3bVDQ",
        "outputId": "5b8d1804-4c36-4053-8dbf-ceedb3de2153"
      },
      "outputs": [
        {
          "data": {
            "text/html": [
              "<div>\n",
              "<style scoped>\n",
              "    .dataframe tbody tr th:only-of-type {\n",
              "        vertical-align: middle;\n",
              "    }\n",
              "\n",
              "    .dataframe tbody tr th {\n",
              "        vertical-align: top;\n",
              "    }\n",
              "\n",
              "    .dataframe thead th {\n",
              "        text-align: right;\n",
              "    }\n",
              "</style>\n",
              "<table border=\"1\" class=\"dataframe\">\n",
              "  <thead>\n",
              "    <tr style=\"text-align: right;\">\n",
              "      <th></th>\n",
              "      <th>customer_id</th>\n",
              "      <th>order_id</th>\n",
              "      <th>order_status</th>\n",
              "      <th>payment_type</th>\n",
              "      <th>payment_value</th>\n",
              "      <th>payment_sequential</th>\n",
              "      <th>payment_installments</th>\n",
              "      <th>order_purchase_timestamp</th>\n",
              "      <th>order_approved_at</th>\n",
              "      <th>order_delivered_carrier_date</th>\n",
              "      <th>order_delivered_customer_date</th>\n",
              "      <th>order_estimated_delivery_date</th>\n",
              "    </tr>\n",
              "  </thead>\n",
              "  <tbody>\n",
              "    <tr>\n",
              "      <th>0</th>\n",
              "      <td>9ef432eb6251297304e76186b10a928d</td>\n",
              "      <td>e481f51cbdc54678b7cc49136f2d6af7</td>\n",
              "      <td>delivered</td>\n",
              "      <td>credit_card</td>\n",
              "      <td>18.12</td>\n",
              "      <td>1</td>\n",
              "      <td>1</td>\n",
              "      <td>2017-10-02 10:56:33</td>\n",
              "      <td>2017-10-02 11:07:15</td>\n",
              "      <td>2017-10-04 19:55:00</td>\n",
              "      <td>2017-10-10 21:25:13</td>\n",
              "      <td>2017-10-18 00:00:00</td>\n",
              "    </tr>\n",
              "    <tr>\n",
              "      <th>1</th>\n",
              "      <td>9ef432eb6251297304e76186b10a928d</td>\n",
              "      <td>e481f51cbdc54678b7cc49136f2d6af7</td>\n",
              "      <td>delivered</td>\n",
              "      <td>voucher</td>\n",
              "      <td>18.59</td>\n",
              "      <td>2</td>\n",
              "      <td>1</td>\n",
              "      <td>2017-10-02 10:56:33</td>\n",
              "      <td>2017-10-02 11:07:15</td>\n",
              "      <td>2017-10-04 19:55:00</td>\n",
              "      <td>2017-10-10 21:25:13</td>\n",
              "      <td>2017-10-18 00:00:00</td>\n",
              "    </tr>\n",
              "    <tr>\n",
              "      <th>2</th>\n",
              "      <td>9ef432eb6251297304e76186b10a928d</td>\n",
              "      <td>e481f51cbdc54678b7cc49136f2d6af7</td>\n",
              "      <td>delivered</td>\n",
              "      <td>voucher</td>\n",
              "      <td>2.00</td>\n",
              "      <td>3</td>\n",
              "      <td>1</td>\n",
              "      <td>2017-10-02 10:56:33</td>\n",
              "      <td>2017-10-02 11:07:15</td>\n",
              "      <td>2017-10-04 19:55:00</td>\n",
              "      <td>2017-10-10 21:25:13</td>\n",
              "      <td>2017-10-18 00:00:00</td>\n",
              "    </tr>\n",
              "    <tr>\n",
              "      <th>3</th>\n",
              "      <td>b0830fb4747a6c6d20dea0b8c802d7ef</td>\n",
              "      <td>53cdb2fc8bc7dce0b6741e2150273451</td>\n",
              "      <td>delivered</td>\n",
              "      <td>boleto</td>\n",
              "      <td>141.46</td>\n",
              "      <td>1</td>\n",
              "      <td>1</td>\n",
              "      <td>2018-07-24 20:41:37</td>\n",
              "      <td>2018-07-26 03:24:27</td>\n",
              "      <td>2018-07-26 14:31:00</td>\n",
              "      <td>2018-08-07 15:27:45</td>\n",
              "      <td>2018-08-13 00:00:00</td>\n",
              "    </tr>\n",
              "    <tr>\n",
              "      <th>4</th>\n",
              "      <td>41ce2a54c0b03bf3443c3d931a367089</td>\n",
              "      <td>47770eb9100c2d0c44946d9cf07ec65d</td>\n",
              "      <td>delivered</td>\n",
              "      <td>credit_card</td>\n",
              "      <td>179.12</td>\n",
              "      <td>1</td>\n",
              "      <td>3</td>\n",
              "      <td>2018-08-08 08:38:49</td>\n",
              "      <td>2018-08-08 08:55:23</td>\n",
              "      <td>2018-08-08 13:50:00</td>\n",
              "      <td>2018-08-17 18:06:29</td>\n",
              "      <td>2018-09-04 00:00:00</td>\n",
              "    </tr>\n",
              "  </tbody>\n",
              "</table>\n",
              "</div>"
            ],
            "text/plain": [
              "                        customer_id                          order_id  \\\n",
              "0  9ef432eb6251297304e76186b10a928d  e481f51cbdc54678b7cc49136f2d6af7   \n",
              "1  9ef432eb6251297304e76186b10a928d  e481f51cbdc54678b7cc49136f2d6af7   \n",
              "2  9ef432eb6251297304e76186b10a928d  e481f51cbdc54678b7cc49136f2d6af7   \n",
              "3  b0830fb4747a6c6d20dea0b8c802d7ef  53cdb2fc8bc7dce0b6741e2150273451   \n",
              "4  41ce2a54c0b03bf3443c3d931a367089  47770eb9100c2d0c44946d9cf07ec65d   \n",
              "\n",
              "  order_status payment_type  payment_value  payment_sequential  \\\n",
              "0    delivered  credit_card          18.12                   1   \n",
              "1    delivered      voucher          18.59                   2   \n",
              "2    delivered      voucher           2.00                   3   \n",
              "3    delivered       boleto         141.46                   1   \n",
              "4    delivered  credit_card         179.12                   1   \n",
              "\n",
              "   payment_installments order_purchase_timestamp    order_approved_at  \\\n",
              "0                     1      2017-10-02 10:56:33  2017-10-02 11:07:15   \n",
              "1                     1      2017-10-02 10:56:33  2017-10-02 11:07:15   \n",
              "2                     1      2017-10-02 10:56:33  2017-10-02 11:07:15   \n",
              "3                     1      2018-07-24 20:41:37  2018-07-26 03:24:27   \n",
              "4                     3      2018-08-08 08:38:49  2018-08-08 08:55:23   \n",
              "\n",
              "  order_delivered_carrier_date order_delivered_customer_date  \\\n",
              "0          2017-10-04 19:55:00           2017-10-10 21:25:13   \n",
              "1          2017-10-04 19:55:00           2017-10-10 21:25:13   \n",
              "2          2017-10-04 19:55:00           2017-10-10 21:25:13   \n",
              "3          2018-07-26 14:31:00           2018-08-07 15:27:45   \n",
              "4          2018-08-08 13:50:00           2018-08-17 18:06:29   \n",
              "\n",
              "  order_estimated_delivery_date  \n",
              "0           2017-10-18 00:00:00  \n",
              "1           2017-10-18 00:00:00  \n",
              "2           2017-10-18 00:00:00  \n",
              "3           2018-08-13 00:00:00  \n",
              "4           2018-09-04 00:00:00  "
            ]
          },
          "execution_count": 22,
          "metadata": {},
          "output_type": "execute_result"
        }
      ],
      "source": [
        "BBT1_22_query = '''\n",
        "  SELECT o.customer_id, o.order_id, o.order_status, op.payment_type, op.payment_value,\n",
        "         op.payment_sequential, op.payment_installments, o.order_purchase_timestamp, o.order_approved_at,\n",
        "         o.order_delivered_carrier_date, o.order_delivered_customer_date, o.order_estimated_delivery_date\n",
        "  FROM orders o\n",
        "  JOIN order_payments op ON o.order_id = op.order_id\n",
        "  ;\n",
        "'''\n",
        "\n",
        "BBT1_22 = pd.read_sql_query(BBT1_22_query, conn)\n",
        "BBT1_22.head(5)"
      ]
    },
    {
      "cell_type": "markdown",
      "metadata": {
        "id": "QnwHqr2sbVDR"
      },
      "source": [
        "## BBT1-23 Extracción de datos desde las tablas customers y geolocation2"
      ]
    },
    {
      "cell_type": "markdown",
      "metadata": {
        "id": "oNW-UfsudStk"
      },
      "source": [
        "**Descripción**\n",
        "COMO: desarrollador\n",
        "\n",
        "QUIERO: Crear un DataFrame que contenga el JOIN de la tabla customers y tabla geolocation.\n",
        "  \n",
        "PARA: Extraer los datos de customers con sus latitudes y longitudes"
      ]
    },
    {
      "cell_type": "code",
      "execution_count": 23,
      "metadata": {
        "colab": {
          "base_uri": "https://localhost:8080/",
          "height": 206
        },
        "id": "xorFmsD2bVDR",
        "outputId": "89c52814-4347-4c9e-813c-02c17382d34c"
      },
      "outputs": [
        {
          "data": {
            "text/html": [
              "<div>\n",
              "<style scoped>\n",
              "    .dataframe tbody tr th:only-of-type {\n",
              "        vertical-align: middle;\n",
              "    }\n",
              "\n",
              "    .dataframe tbody tr th {\n",
              "        vertical-align: top;\n",
              "    }\n",
              "\n",
              "    .dataframe thead th {\n",
              "        text-align: right;\n",
              "    }\n",
              "</style>\n",
              "<table border=\"1\" class=\"dataframe\">\n",
              "  <thead>\n",
              "    <tr style=\"text-align: right;\">\n",
              "      <th></th>\n",
              "      <th>customer_unique_id</th>\n",
              "      <th>geolocation_zip_code_prefix</th>\n",
              "      <th>promedio_latitud</th>\n",
              "      <th>promedio_longitud</th>\n",
              "      <th>geolocation_city</th>\n",
              "    </tr>\n",
              "  </thead>\n",
              "  <tbody>\n",
              "    <tr>\n",
              "      <th>0</th>\n",
              "      <td>0c1a20644f0dc126c3eaff8dbc1bd12c</td>\n",
              "      <td>1003</td>\n",
              "      <td>-23.548994</td>\n",
              "      <td>-46.635731</td>\n",
              "      <td>sao paulo</td>\n",
              "    </tr>\n",
              "    <tr>\n",
              "      <th>1</th>\n",
              "      <td>095e7c124c5c1ccb1eb9f731152eae6a</td>\n",
              "      <td>1004</td>\n",
              "      <td>-23.549799</td>\n",
              "      <td>-46.634757</td>\n",
              "      <td>sao paulo</td>\n",
              "    </tr>\n",
              "    <tr>\n",
              "      <th>2</th>\n",
              "      <td>968f6d2f674977d88a4b445a5117ccd8</td>\n",
              "      <td>1004</td>\n",
              "      <td>-23.549799</td>\n",
              "      <td>-46.634757</td>\n",
              "      <td>sao paulo</td>\n",
              "    </tr>\n",
              "    <tr>\n",
              "      <th>3</th>\n",
              "      <td>57f0ea1c7f6b9ef8615c0a0b8f06fe57</td>\n",
              "      <td>1005</td>\n",
              "      <td>-23.549456</td>\n",
              "      <td>-46.636733</td>\n",
              "      <td>sao paulo</td>\n",
              "    </tr>\n",
              "    <tr>\n",
              "      <th>4</th>\n",
              "      <td>84a7776f914ff19505e44effba86455f</td>\n",
              "      <td>1005</td>\n",
              "      <td>-23.549456</td>\n",
              "      <td>-46.636733</td>\n",
              "      <td>sao paulo</td>\n",
              "    </tr>\n",
              "  </tbody>\n",
              "</table>\n",
              "</div>"
            ],
            "text/plain": [
              "                 customer_unique_id  geolocation_zip_code_prefix  \\\n",
              "0  0c1a20644f0dc126c3eaff8dbc1bd12c                         1003   \n",
              "1  095e7c124c5c1ccb1eb9f731152eae6a                         1004   \n",
              "2  968f6d2f674977d88a4b445a5117ccd8                         1004   \n",
              "3  57f0ea1c7f6b9ef8615c0a0b8f06fe57                         1005   \n",
              "4  84a7776f914ff19505e44effba86455f                         1005   \n",
              "\n",
              "   promedio_latitud  promedio_longitud geolocation_city  \n",
              "0        -23.548994         -46.635731        sao paulo  \n",
              "1        -23.549799         -46.634757        sao paulo  \n",
              "2        -23.549799         -46.634757        sao paulo  \n",
              "3        -23.549456         -46.636733        sao paulo  \n",
              "4        -23.549456         -46.636733        sao paulo  "
            ]
          },
          "execution_count": 23,
          "metadata": {},
          "output_type": "execute_result"
        }
      ],
      "source": [
        "query_bbt1_23 = '''\n",
        "  SELECT customer_unique_id, geolocation_zip_code_prefix, promedio_latitud, promedio_longitud, geolocation_city\n",
        "  FROM customers c\n",
        "  JOIN geolocation2 g\n",
        "  ON g.geolocation_zip_code_prefix = c.customer_zip_code_prefix\n",
        "  GROUP BY customer_unique_id\n",
        "  ORDER BY customer_zip_code_prefix\n",
        "  '''\n",
        "cust_geo = pd.read_sql_query(query_bbt1_23, conn)\n",
        "cust_geo.head(5)"
      ]
    },
    {
      "cell_type": "markdown",
      "metadata": {
        "id": "IqwOPFS5bVDR"
      },
      "source": [
        "## BBT1-24 Extracción de datos desde las tablas orders y geolocation2"
      ]
    },
    {
      "cell_type": "markdown",
      "metadata": {
        "id": "5lPNNg2_dTUX"
      },
      "source": [
        "**Descripción**\n",
        "COMO: desarrollador\n",
        "\n",
        "QUIERO: Crear un DataFrame que contenga el JOIN de la tabla orders y tabla geolocation.\n",
        "  \n",
        "PARA: Extraer los datos de órdenes con sus latitudes y longitudes"
      ]
    },
    {
      "cell_type": "code",
      "execution_count": 24,
      "metadata": {
        "colab": {
          "base_uri": "https://localhost:8080/",
          "height": 206
        },
        "id": "F8J5JPuTbVDR",
        "outputId": "a7a58878-b7ad-4caa-ffaa-81b722cf4c18"
      },
      "outputs": [
        {
          "data": {
            "text/html": [
              "<div>\n",
              "<style scoped>\n",
              "    .dataframe tbody tr th:only-of-type {\n",
              "        vertical-align: middle;\n",
              "    }\n",
              "\n",
              "    .dataframe tbody tr th {\n",
              "        vertical-align: top;\n",
              "    }\n",
              "\n",
              "    .dataframe thead th {\n",
              "        text-align: right;\n",
              "    }\n",
              "</style>\n",
              "<table border=\"1\" class=\"dataframe\">\n",
              "  <thead>\n",
              "    <tr style=\"text-align: right;\">\n",
              "      <th></th>\n",
              "      <th>order_id</th>\n",
              "      <th>geolocation_zip_code_prefix</th>\n",
              "      <th>promedio_latitud</th>\n",
              "      <th>promedio_longitud</th>\n",
              "      <th>geolocation_city</th>\n",
              "    </tr>\n",
              "  </thead>\n",
              "  <tbody>\n",
              "    <tr>\n",
              "      <th>0</th>\n",
              "      <td>d454d6650d375ebc3f9667a4d2fe161c</td>\n",
              "      <td>1003</td>\n",
              "      <td>-23.548994</td>\n",
              "      <td>-46.635731</td>\n",
              "      <td>sao paulo</td>\n",
              "    </tr>\n",
              "    <tr>\n",
              "      <th>1</th>\n",
              "      <td>3fe4ba391eeff167bfdda2c590013b02</td>\n",
              "      <td>1004</td>\n",
              "      <td>-23.549799</td>\n",
              "      <td>-46.634757</td>\n",
              "      <td>sao paulo</td>\n",
              "    </tr>\n",
              "    <tr>\n",
              "      <th>2</th>\n",
              "      <td>ed415dd934c5bb15a4a2fd223bb0a43e</td>\n",
              "      <td>1004</td>\n",
              "      <td>-23.549799</td>\n",
              "      <td>-46.634757</td>\n",
              "      <td>sao paulo</td>\n",
              "    </tr>\n",
              "    <tr>\n",
              "      <th>3</th>\n",
              "      <td>08cae26133a5501cdf7b13db6bcf39e6</td>\n",
              "      <td>1005</td>\n",
              "      <td>-23.549456</td>\n",
              "      <td>-46.636733</td>\n",
              "      <td>sao paulo</td>\n",
              "    </tr>\n",
              "    <tr>\n",
              "      <th>4</th>\n",
              "      <td>ae28255c7b837ba319c9cbf1dfeeea0d</td>\n",
              "      <td>1005</td>\n",
              "      <td>-23.549456</td>\n",
              "      <td>-46.636733</td>\n",
              "      <td>sao paulo</td>\n",
              "    </tr>\n",
              "  </tbody>\n",
              "</table>\n",
              "</div>"
            ],
            "text/plain": [
              "                           order_id  geolocation_zip_code_prefix  \\\n",
              "0  d454d6650d375ebc3f9667a4d2fe161c                         1003   \n",
              "1  3fe4ba391eeff167bfdda2c590013b02                         1004   \n",
              "2  ed415dd934c5bb15a4a2fd223bb0a43e                         1004   \n",
              "3  08cae26133a5501cdf7b13db6bcf39e6                         1005   \n",
              "4  ae28255c7b837ba319c9cbf1dfeeea0d                         1005   \n",
              "\n",
              "   promedio_latitud  promedio_longitud geolocation_city  \n",
              "0        -23.548994         -46.635731        sao paulo  \n",
              "1        -23.549799         -46.634757        sao paulo  \n",
              "2        -23.549799         -46.634757        sao paulo  \n",
              "3        -23.549456         -46.636733        sao paulo  \n",
              "4        -23.549456         -46.636733        sao paulo  "
            ]
          },
          "execution_count": 24,
          "metadata": {},
          "output_type": "execute_result"
        }
      ],
      "source": [
        "query_bbt1_24 = '''\n",
        "  SELECT order_id, geolocation_zip_code_prefix, promedio_latitud, promedio_longitud, geolocation_city\n",
        "  FROM customers c\n",
        "  JOIN orders o\n",
        "  ON c.customer_id = o.customer_id\n",
        "  JOIN geolocation2 g\n",
        "  ON g.geolocation_zip_code_prefix = c.customer_zip_code_prefix\n",
        "  ORDER BY geolocation_zip_code_prefix\n",
        "  '''\n",
        "orders_geo = pd.read_sql_query(query_bbt1_24, conn)\n",
        "orders_geo.head(5)"
      ]
    },
    {
      "cell_type": "markdown",
      "metadata": {
        "id": "4_L9g8b5bVDR"
      },
      "source": [
        "## BBT1-25 Extracción de datos desde las tablas orders y reviews"
      ]
    },
    {
      "cell_type": "markdown",
      "metadata": {
        "id": "DXuSIl7EdT2W"
      },
      "source": [
        "**Descripción**\n",
        "\n",
        "COMO: desarrollador\n",
        "\n",
        "QUIERO: Crear un DataFrame que contenga el JOIN de la tabla orders y tabla reviews.\n",
        "\n",
        "PARA: Extraer los datos de órdenes con sus scores"
      ]
    },
    {
      "cell_type": "code",
      "execution_count": 25,
      "metadata": {
        "colab": {
          "base_uri": "https://localhost:8080/",
          "height": 206
        },
        "id": "7ky1OLItbVDR",
        "outputId": "c26e2e7d-a8fe-4e6f-e690-d26c62d72a84"
      },
      "outputs": [
        {
          "data": {
            "text/html": [
              "<div>\n",
              "<style scoped>\n",
              "    .dataframe tbody tr th:only-of-type {\n",
              "        vertical-align: middle;\n",
              "    }\n",
              "\n",
              "    .dataframe tbody tr th {\n",
              "        vertical-align: top;\n",
              "    }\n",
              "\n",
              "    .dataframe thead th {\n",
              "        text-align: right;\n",
              "    }\n",
              "</style>\n",
              "<table border=\"1\" class=\"dataframe\">\n",
              "  <thead>\n",
              "    <tr style=\"text-align: right;\">\n",
              "      <th></th>\n",
              "      <th>order_id</th>\n",
              "      <th>review_score</th>\n",
              "    </tr>\n",
              "  </thead>\n",
              "  <tbody>\n",
              "    <tr>\n",
              "      <th>0</th>\n",
              "      <td>76c6e866289321a7c93b82b54852dc33</td>\n",
              "      <td>1</td>\n",
              "    </tr>\n",
              "    <tr>\n",
              "      <th>1</th>\n",
              "      <td>e6ce16cb79ec1d90b1da9085a6118aeb</td>\n",
              "      <td>1</td>\n",
              "    </tr>\n",
              "    <tr>\n",
              "      <th>2</th>\n",
              "      <td>acce194856392f074dbf9dada14d8d82</td>\n",
              "      <td>1</td>\n",
              "    </tr>\n",
              "    <tr>\n",
              "      <th>3</th>\n",
              "      <td>1790eea0b567cf50911c057cf20f90f9</td>\n",
              "      <td>1</td>\n",
              "    </tr>\n",
              "    <tr>\n",
              "      <th>4</th>\n",
              "      <td>6ea2f835b4556291ffdc53fa0b3b95e8</td>\n",
              "      <td>1</td>\n",
              "    </tr>\n",
              "  </tbody>\n",
              "</table>\n",
              "</div>"
            ],
            "text/plain": [
              "                           order_id  review_score\n",
              "0  76c6e866289321a7c93b82b54852dc33             1\n",
              "1  e6ce16cb79ec1d90b1da9085a6118aeb             1\n",
              "2  acce194856392f074dbf9dada14d8d82             1\n",
              "3  1790eea0b567cf50911c057cf20f90f9             1\n",
              "4  6ea2f835b4556291ffdc53fa0b3b95e8             1"
            ]
          },
          "execution_count": 25,
          "metadata": {},
          "output_type": "execute_result"
        }
      ],
      "source": [
        "query_bbt1_25 = '''\n",
        "  SELECT o.order_id, review_score\n",
        "  FROM orders o\n",
        "  JOIN order_review r\n",
        "  ON o.order_id = r.order_id\n",
        "  ORDER BY review_score\n",
        "  LIMIT 10\n",
        "  '''\n",
        "orders_score = pd.read_sql_query(query_bbt1_25, conn)\n",
        "orders_score.head(5)"
      ]
    },
    {
      "cell_type": "markdown",
      "metadata": {
        "id": "TNTPS8JfbVDR"
      },
      "source": [
        "## BT1-26 Extracción de datos desde las tablas orders_items, products y products_category_translation"
      ]
    },
    {
      "cell_type": "markdown",
      "metadata": {
        "id": "9NRcaUNydUaD"
      },
      "source": [
        "**Descripción**\n",
        "\n",
        "COMO: desarrollador\n",
        "\n",
        "QUIERO: Crear un DataFrame que contenga el JOIN de la tabla orders_items, tabla products y product_category_name_translation.  \n",
        "\n",
        "PARA: Extraer los datos de items con por categorias pero con su nombre traducido en inglés"
      ]
    },
    {
      "cell_type": "code",
      "execution_count": 26,
      "metadata": {
        "colab": {
          "base_uri": "https://localhost:8080/",
          "height": 206
        },
        "id": "QmX_bVP8bVDR",
        "outputId": "2b209c17-26da-4888-c2c8-850010ab6a65"
      },
      "outputs": [
        {
          "data": {
            "text/html": [
              "<div>\n",
              "<style scoped>\n",
              "    .dataframe tbody tr th:only-of-type {\n",
              "        vertical-align: middle;\n",
              "    }\n",
              "\n",
              "    .dataframe tbody tr th {\n",
              "        vertical-align: top;\n",
              "    }\n",
              "\n",
              "    .dataframe thead th {\n",
              "        text-align: right;\n",
              "    }\n",
              "</style>\n",
              "<table border=\"1\" class=\"dataframe\">\n",
              "  <thead>\n",
              "    <tr style=\"text-align: right;\">\n",
              "      <th></th>\n",
              "      <th>index</th>\n",
              "      <th>order_id</th>\n",
              "      <th>order_item_id</th>\n",
              "      <th>product_id</th>\n",
              "      <th>seller_id</th>\n",
              "      <th>shipping_limit_date</th>\n",
              "      <th>price</th>\n",
              "      <th>freight_value</th>\n",
              "      <th>product_name</th>\n",
              "    </tr>\n",
              "  </thead>\n",
              "  <tbody>\n",
              "    <tr>\n",
              "      <th>0</th>\n",
              "      <td>0</td>\n",
              "      <td>00010242fe8c5a6d1ba2dd792cb16214</td>\n",
              "      <td>1</td>\n",
              "      <td>4244733e06e7ecb4970a6e2683c13e61</td>\n",
              "      <td>48436dade18ac8b2bce089ec2a041202</td>\n",
              "      <td>2017-09-19 09:45:35</td>\n",
              "      <td>58.9</td>\n",
              "      <td>13.29</td>\n",
              "      <td>cool_stuff</td>\n",
              "    </tr>\n",
              "    <tr>\n",
              "      <th>1</th>\n",
              "      <td>1</td>\n",
              "      <td>00018f77f2f0320c557190d7a144bdd3</td>\n",
              "      <td>1</td>\n",
              "      <td>e5f2d52b802189ee658865ca93d83a8f</td>\n",
              "      <td>dd7ddc04e1b6c2c614352b383efe2d36</td>\n",
              "      <td>2017-05-03 11:05:13</td>\n",
              "      <td>239.9</td>\n",
              "      <td>19.93</td>\n",
              "      <td>pet_shop</td>\n",
              "    </tr>\n",
              "    <tr>\n",
              "      <th>2</th>\n",
              "      <td>16</td>\n",
              "      <td>0009c9a17f916a706d71784483a5d643</td>\n",
              "      <td>1</td>\n",
              "      <td>3f27ac8e699df3d300ec4a5d8c5cf0b2</td>\n",
              "      <td>fcb5ace8bcc92f75707dc0f01a27d269</td>\n",
              "      <td>2018-05-02 09:31:53</td>\n",
              "      <td>639.0</td>\n",
              "      <td>11.34</td>\n",
              "      <td>consoles_games</td>\n",
              "    </tr>\n",
              "    <tr>\n",
              "      <th>3</th>\n",
              "      <td>19</td>\n",
              "      <td>000e562887b1f2006d75e0be9558292e</td>\n",
              "      <td>1</td>\n",
              "      <td>5ed9eaf534f6936b51d0b6c5e4d5c2e9</td>\n",
              "      <td>8cbac7e12637ed9cffa18c7875207478</td>\n",
              "      <td>2018-02-28 12:08:37</td>\n",
              "      <td>25.0</td>\n",
              "      <td>16.11</td>\n",
              "      <td>cool_stuff</td>\n",
              "    </tr>\n",
              "    <tr>\n",
              "      <th>4</th>\n",
              "      <td>24</td>\n",
              "      <td>0010b2e5201cc5f1ae7e9c6cc8f5bd00</td>\n",
              "      <td>1</td>\n",
              "      <td>5a419dbf24a8c9718fe522b81c69f61a</td>\n",
              "      <td>3504c0cb71d7fa48d967e0e4c94d59d9</td>\n",
              "      <td>2017-09-15 18:04:37</td>\n",
              "      <td>48.9</td>\n",
              "      <td>16.60</td>\n",
              "      <td>cool_stuff</td>\n",
              "    </tr>\n",
              "  </tbody>\n",
              "</table>\n",
              "</div>"
            ],
            "text/plain": [
              "   index                          order_id  order_item_id  \\\n",
              "0      0  00010242fe8c5a6d1ba2dd792cb16214              1   \n",
              "1      1  00018f77f2f0320c557190d7a144bdd3              1   \n",
              "2     16  0009c9a17f916a706d71784483a5d643              1   \n",
              "3     19  000e562887b1f2006d75e0be9558292e              1   \n",
              "4     24  0010b2e5201cc5f1ae7e9c6cc8f5bd00              1   \n",
              "\n",
              "                         product_id                         seller_id  \\\n",
              "0  4244733e06e7ecb4970a6e2683c13e61  48436dade18ac8b2bce089ec2a041202   \n",
              "1  e5f2d52b802189ee658865ca93d83a8f  dd7ddc04e1b6c2c614352b383efe2d36   \n",
              "2  3f27ac8e699df3d300ec4a5d8c5cf0b2  fcb5ace8bcc92f75707dc0f01a27d269   \n",
              "3  5ed9eaf534f6936b51d0b6c5e4d5c2e9  8cbac7e12637ed9cffa18c7875207478   \n",
              "4  5a419dbf24a8c9718fe522b81c69f61a  3504c0cb71d7fa48d967e0e4c94d59d9   \n",
              "\n",
              "   shipping_limit_date  price  freight_value    product_name  \n",
              "0  2017-09-19 09:45:35   58.9          13.29      cool_stuff  \n",
              "1  2017-05-03 11:05:13  239.9          19.93        pet_shop  \n",
              "2  2018-05-02 09:31:53  639.0          11.34  consoles_games  \n",
              "3  2018-02-28 12:08:37   25.0          16.11      cool_stuff  \n",
              "4  2017-09-15 18:04:37   48.9          16.60      cool_stuff  "
            ]
          },
          "execution_count": 26,
          "metadata": {},
          "output_type": "execute_result"
        }
      ],
      "source": [
        "bt1_26_query = '''\n",
        "    SELECT oi.*, c.product_category_name_english AS product_name\n",
        "    FROM order_items AS oi\n",
        "    INNER JOIN products AS p\n",
        "        ON oi.product_id = p.product_id\n",
        "    INNER JOIN category AS c\n",
        "        ON p.product_category_name = c.product_category_name_english\n",
        ";\n",
        "'''\n",
        "BT1_26 = pd.read_sql_query(bt1_26_query, conn)\n",
        "BT1_26.head(5)"
      ]
    },
    {
      "cell_type": "markdown",
      "metadata": {
        "id": "HRacMdAXbVDR"
      },
      "source": [
        "## BT1_27  Extracción de datos desde las tablas orders, payments y customers"
      ]
    },
    {
      "cell_type": "markdown",
      "metadata": {
        "id": "cp9QbtlZdU_t"
      },
      "source": [
        "**Descripción**\n",
        "\n",
        "COMO: desarrollador\n",
        "\n",
        "QUIERO: Crear un DataFrame que contenga el JOIN de la tabla orders, tabla payments y customers.\n",
        "  \n",
        "PARA: Extraer los datos de clientes con sus métodos de pagos por ciudad."
      ]
    },
    {
      "cell_type": "code",
      "execution_count": 27,
      "metadata": {
        "colab": {
          "base_uri": "https://localhost:8080/",
          "height": 206
        },
        "id": "iGQLqnuCbVDR",
        "outputId": "bba797c3-0068-4712-806e-357c413fe6ac"
      },
      "outputs": [
        {
          "data": {
            "text/html": [
              "<div>\n",
              "<style scoped>\n",
              "    .dataframe tbody tr th:only-of-type {\n",
              "        vertical-align: middle;\n",
              "    }\n",
              "\n",
              "    .dataframe tbody tr th {\n",
              "        vertical-align: top;\n",
              "    }\n",
              "\n",
              "    .dataframe thead th {\n",
              "        text-align: right;\n",
              "    }\n",
              "</style>\n",
              "<table border=\"1\" class=\"dataframe\">\n",
              "  <thead>\n",
              "    <tr style=\"text-align: right;\">\n",
              "      <th></th>\n",
              "      <th>customer_unique_id</th>\n",
              "      <th>payment_type</th>\n",
              "      <th>customer_city</th>\n",
              "      <th>customer_state</th>\n",
              "    </tr>\n",
              "  </thead>\n",
              "  <tbody>\n",
              "    <tr>\n",
              "      <th>0</th>\n",
              "      <td>861eff4711a542e4b93843c6dd7febb0</td>\n",
              "      <td>credit_card</td>\n",
              "      <td>franca</td>\n",
              "      <td>SP</td>\n",
              "    </tr>\n",
              "    <tr>\n",
              "      <th>1</th>\n",
              "      <td>290c77bc529b7ac935b93aa66c333dc3</td>\n",
              "      <td>credit_card</td>\n",
              "      <td>sao bernardo do campo</td>\n",
              "      <td>SP</td>\n",
              "    </tr>\n",
              "    <tr>\n",
              "      <th>2</th>\n",
              "      <td>060e732b5b29e8181a18229c7b0b2b5e</td>\n",
              "      <td>credit_card</td>\n",
              "      <td>sao paulo</td>\n",
              "      <td>SP</td>\n",
              "    </tr>\n",
              "    <tr>\n",
              "      <th>3</th>\n",
              "      <td>259dac757896d24d7702b9acbbff3f3c</td>\n",
              "      <td>credit_card</td>\n",
              "      <td>mogi das cruzes</td>\n",
              "      <td>SP</td>\n",
              "    </tr>\n",
              "    <tr>\n",
              "      <th>4</th>\n",
              "      <td>345ecd01c38d18a9036ed96c73b8d066</td>\n",
              "      <td>credit_card</td>\n",
              "      <td>campinas</td>\n",
              "      <td>SP</td>\n",
              "    </tr>\n",
              "  </tbody>\n",
              "</table>\n",
              "</div>"
            ],
            "text/plain": [
              "                 customer_unique_id payment_type          customer_city  \\\n",
              "0  861eff4711a542e4b93843c6dd7febb0  credit_card                 franca   \n",
              "1  290c77bc529b7ac935b93aa66c333dc3  credit_card  sao bernardo do campo   \n",
              "2  060e732b5b29e8181a18229c7b0b2b5e  credit_card              sao paulo   \n",
              "3  259dac757896d24d7702b9acbbff3f3c  credit_card        mogi das cruzes   \n",
              "4  345ecd01c38d18a9036ed96c73b8d066  credit_card               campinas   \n",
              "\n",
              "  customer_state  \n",
              "0             SP  \n",
              "1             SP  \n",
              "2             SP  \n",
              "3             SP  \n",
              "4             SP  "
            ]
          },
          "execution_count": 27,
          "metadata": {},
          "output_type": "execute_result"
        }
      ],
      "source": [
        "bt1_27_query = '''\n",
        "    SELECT c.customer_unique_id, op.payment_type, c.customer_city, c.customer_state\n",
        "    FROM customers AS c\n",
        "    INNER JOIN orders AS o\n",
        "        ON c.customer_id = o.customer_id\n",
        "    INNER JOIN order_payments AS op\n",
        "        ON o.order_id = op.order_id\n",
        "\n",
        ";\n",
        "'''\n",
        "BT1_27 = pd.read_sql_query(bt1_27_query, conn)\n",
        "\n",
        "BT1_27.groupby(['payment_type'])[['customer_unique_id']].count().sort_values(by='customer_unique_id', ascending=False)\n",
        "\n",
        "BT1_27.head(5)"
      ]
    },
    {
      "cell_type": "markdown",
      "metadata": {
        "id": "JM3hDo0_bVDS"
      },
      "source": [
        "## BBT1-28 Filtrar datos, reducir volumen de customers y orders."
      ]
    },
    {
      "cell_type": "markdown",
      "metadata": {
        "id": "SeWNNcNzhNvi"
      },
      "source": [
        "**Descripción**\n",
        "\n",
        "COMO: desarrollador\n",
        "\n",
        "QUIERO: Filtrar el DataFrame de clientes y órdenes para resguardar las 3 órdenes más actuales de cada cliente.\n",
        "\n",
        "PARA: Reducir el volumen de datos y trabajar solo con las últimas órdenes de los clientes."
      ]
    },
    {
      "cell_type": "code",
      "execution_count": 28,
      "metadata": {
        "colab": {
          "base_uri": "https://localhost:8080/"
        },
        "id": "YxJ3bEnPRz6Q",
        "outputId": "ff81f8fa-395f-4d86-9e76-a194adfd7f64"
      },
      "outputs": [
        {
          "data": {
            "text/plain": [
              "99441"
            ]
          },
          "execution_count": 28,
          "metadata": {},
          "output_type": "execute_result"
        }
      ],
      "source": [
        "# Renombrar la columna 'index' a 'customer_order_index' en el DataFrame\n",
        "df_customers_orders.rename(columns={'index': 'customer_order_index'}, inplace=True)\n",
        "\n",
        "# Guardar el DataFrame en la base de datos sin incluir el índice\n",
        "df_customers_orders.to_sql('customers_orders', conn, if_exists='replace', index=False)\n"
      ]
    },
    {
      "cell_type": "code",
      "execution_count": 29,
      "metadata": {
        "colab": {
          "base_uri": "https://localhost:8080/",
          "height": 206
        },
        "id": "1QeVspMZEuZj",
        "outputId": "bc600b4f-fcd8-4652-a05c-51b4fcdab5ee"
      },
      "outputs": [
        {
          "data": {
            "text/html": [
              "<div>\n",
              "<style scoped>\n",
              "    .dataframe tbody tr th:only-of-type {\n",
              "        vertical-align: middle;\n",
              "    }\n",
              "\n",
              "    .dataframe tbody tr th {\n",
              "        vertical-align: top;\n",
              "    }\n",
              "\n",
              "    .dataframe thead th {\n",
              "        text-align: right;\n",
              "    }\n",
              "</style>\n",
              "<table border=\"1\" class=\"dataframe\">\n",
              "  <thead>\n",
              "    <tr style=\"text-align: right;\">\n",
              "      <th></th>\n",
              "      <th>cliente_compra</th>\n",
              "      <th>order_id</th>\n",
              "    </tr>\n",
              "  </thead>\n",
              "  <tbody>\n",
              "    <tr>\n",
              "      <th>0</th>\n",
              "      <td>cliente 00a9fd000ff87bb48b989df819c418f5 compra 1</td>\n",
              "      <td>7290f24ffc8f84166426d8727c15af13</td>\n",
              "    </tr>\n",
              "    <tr>\n",
              "      <th>1</th>\n",
              "      <td>cliente 00face5c8f7dbb7eefd4112722f26903 compra 1</td>\n",
              "      <td>fefbe15ebcd87ab3fb8577e635a8b31c</td>\n",
              "    </tr>\n",
              "    <tr>\n",
              "      <th>2</th>\n",
              "      <td>cliente 012452d40dafae4df401bced74cdb490 compra 1</td>\n",
              "      <td>e49d0607832db7c3b1343764225d8df6</td>\n",
              "    </tr>\n",
              "    <tr>\n",
              "      <th>3</th>\n",
              "      <td>cliente 012a218df8995d3ec3bb221828360c86 compra 1</td>\n",
              "      <td>207258d556f9b9784b54de837ae49286</td>\n",
              "    </tr>\n",
              "    <tr>\n",
              "      <th>4</th>\n",
              "      <td>cliente 01399b72331afe80cc0c3a982cafb177 compra 1</td>\n",
              "      <td>0ccb5b7bf95c5b642f3717b08c633361</td>\n",
              "    </tr>\n",
              "  </tbody>\n",
              "</table>\n",
              "</div>"
            ],
            "text/plain": [
              "                                      cliente_compra  \\\n",
              "0  cliente 00a9fd000ff87bb48b989df819c418f5 compra 1   \n",
              "1  cliente 00face5c8f7dbb7eefd4112722f26903 compra 1   \n",
              "2  cliente 012452d40dafae4df401bced74cdb490 compra 1   \n",
              "3  cliente 012a218df8995d3ec3bb221828360c86 compra 1   \n",
              "4  cliente 01399b72331afe80cc0c3a982cafb177 compra 1   \n",
              "\n",
              "                           order_id  \n",
              "0  7290f24ffc8f84166426d8727c15af13  \n",
              "1  fefbe15ebcd87ab3fb8577e635a8b31c  \n",
              "2  e49d0607832db7c3b1343764225d8df6  \n",
              "3  207258d556f9b9784b54de837ae49286  \n",
              "4  0ccb5b7bf95c5b642f3717b08c633361  "
            ]
          },
          "execution_count": 29,
          "metadata": {},
          "output_type": "execute_result"
        }
      ],
      "source": [
        "query_2 = '''\n",
        "WITH ComprasClientes AS (\n",
        "    SELECT\n",
        "        c.customer_unique_id,\n",
        "        o.order_id,\n",
        "        ROW_NUMBER() OVER (PARTITION BY c.customer_unique_id ORDER BY o.order_purchase_timestamp DESC) AS rn\n",
        "    FROM\n",
        "        customers AS c\n",
        "    JOIN\n",
        "        orders AS o ON c.customer_id = o.customer_id\n",
        "    JOIN\n",
        "        order_payments AS op ON o.order_id = op.order_id\n",
        "    WHERE\n",
        "        o.order_status != 'canceled'\n",
        ")\n",
        "SELECT\n",
        "    'cliente ' || cc.customer_unique_id || ' compra ' || cc.rn AS cliente_compra,\n",
        "    cc.order_id\n",
        "FROM\n",
        "    ComprasClientes AS cc\n",
        "WHERE\n",
        "    cc.rn <= 3\n",
        "GROUP BY\n",
        "    cc.customer_unique_id\n",
        "HAVING\n",
        "    COUNT(cc.order_id) = 3;\n",
        "\n",
        "\n",
        "'''\n",
        "\n",
        "# Ejecutar la consulta y obtener los resultados en un DataFrame\n",
        "BBT1_31 = pd.read_sql_query(query_2, conn)\n",
        "BBT1_31.head(5)"
      ]
    },
    {
      "cell_type": "code",
      "execution_count": 30,
      "metadata": {
        "colab": {
          "base_uri": "https://localhost:8080/"
        },
        "id": "089FxrGFhQ04",
        "outputId": "185bff4e-c98e-409f-dd8a-7d7f06cfbfc3"
      },
      "outputs": [
        {
          "name": "stdout",
          "output_type": "stream",
          "text": [
            "Número de filas: 909\n"
          ]
        }
      ],
      "source": [
        "\n",
        "num_filas, num_columnas = BBT1_31.shape\n",
        "\n",
        "# Imprime el número de filas\n",
        "print(f'Número de filas: {num_filas}')"
      ]
    },
    {
      "cell_type": "markdown",
      "metadata": {
        "id": "5QOdEJcHm9It"
      },
      "source": [
        "## BBT1-29 Filtrar datos, reducir volumen de orders y orders_items"
      ]
    },
    {
      "cell_type": "markdown",
      "metadata": {
        "id": "0Om-GeqmnGp7"
      },
      "source": [
        "**Descripción**\n",
        "\n",
        "COMO: desarrollador\n",
        "\n",
        "QUIERO: Filtrar el DataFrame de órdenes e ítems de órdenes para resguardar los 3 items de mayor importe de compra.\n",
        "\n",
        "PARA: Reducir el volumen de datos y trabajar solo con los ítems que mas ingreso generan."
      ]
    },
    {
      "cell_type": "code",
      "execution_count": 31,
      "metadata": {
        "colab": {
          "base_uri": "https://localhost:8080/"
        },
        "id": "rWoMVoKpbSq1",
        "outputId": "e9f69215-714e-429b-92fc-7bd652707398"
      },
      "outputs": [
        {
          "data": {
            "text/plain": [
              "112650"
            ]
          },
          "execution_count": 31,
          "metadata": {},
          "output_type": "execute_result"
        }
      ],
      "source": [
        "# Renombrar la columna 'index' a 'orders_items_index' en el DataFrame\n",
        "df_orders_ordersitems.rename(columns={'index': 'orders_items_index'}, inplace=True)\n",
        "df_orders_ordersitems.to_sql('orders_items', conn, if_exists='replace', index=False)"
      ]
    },
    {
      "cell_type": "code",
      "execution_count": 32,
      "metadata": {
        "colab": {
          "base_uri": "https://localhost:8080/",
          "height": 226
        },
        "id": "-EnQA9oASgrI",
        "outputId": "506e603d-6deb-4382-fefc-15f1fe3947ea"
      },
      "outputs": [
        {
          "data": {
            "text/html": [
              "<div>\n",
              "<style scoped>\n",
              "    .dataframe tbody tr th:only-of-type {\n",
              "        vertical-align: middle;\n",
              "    }\n",
              "\n",
              "    .dataframe tbody tr th {\n",
              "        vertical-align: top;\n",
              "    }\n",
              "\n",
              "    .dataframe thead th {\n",
              "        text-align: right;\n",
              "    }\n",
              "</style>\n",
              "<table border=\"1\" class=\"dataframe\">\n",
              "  <thead>\n",
              "    <tr style=\"text-align: right;\">\n",
              "      <th></th>\n",
              "      <th>customer_id</th>\n",
              "      <th>order_status</th>\n",
              "      <th>order_purchase_timestamp</th>\n",
              "      <th>order_approved_at</th>\n",
              "      <th>order_delivered_carrier_date</th>\n",
              "      <th>order_delivered_customer_date</th>\n",
              "      <th>order_estimated_delivery_date</th>\n",
              "      <th>order_id</th>\n",
              "      <th>order_item_id</th>\n",
              "      <th>product_id</th>\n",
              "      <th>seller_id</th>\n",
              "      <th>shipping_limit_date</th>\n",
              "      <th>price</th>\n",
              "      <th>freight_value</th>\n",
              "    </tr>\n",
              "  </thead>\n",
              "  <tbody>\n",
              "    <tr>\n",
              "      <th>0</th>\n",
              "      <td>c6e2731c5b391845f6800c97401a43a9</td>\n",
              "      <td>delivered</td>\n",
              "      <td>2017-02-12 20:37:36</td>\n",
              "      <td>2017-02-12 20:45:12</td>\n",
              "      <td>2017-02-16 09:23:13</td>\n",
              "      <td>2017-03-03 14:23:18</td>\n",
              "      <td>2017-03-09 00:00:00</td>\n",
              "      <td>0812eb902a67711a1cb742b3cdaa65ae</td>\n",
              "      <td>1</td>\n",
              "      <td>489ae2aa008f021502940f251d4cce7f</td>\n",
              "      <td>e3b4998c7a498169dc7bce44e6bb6277</td>\n",
              "      <td>2017-02-16 20:37:36</td>\n",
              "      <td>6735.0</td>\n",
              "      <td>194.31</td>\n",
              "    </tr>\n",
              "    <tr>\n",
              "      <th>1</th>\n",
              "      <td>f48d464a0baaea338cb25f816991ab1f</td>\n",
              "      <td>delivered</td>\n",
              "      <td>2018-07-25 18:10:17</td>\n",
              "      <td>2018-07-27 04:05:13</td>\n",
              "      <td>2018-08-03 14:42:00</td>\n",
              "      <td>2018-08-15 14:57:50</td>\n",
              "      <td>2018-08-10 00:00:00</td>\n",
              "      <td>fefacc66af859508bf1a7934eab1e97f</td>\n",
              "      <td>1</td>\n",
              "      <td>69c590f7ffc7bf8db97190b6cb6ed62e</td>\n",
              "      <td>80ceebb4ee9b31afb6c6a916a574a1e2</td>\n",
              "      <td>2018-08-02 04:05:13</td>\n",
              "      <td>6729.0</td>\n",
              "      <td>193.21</td>\n",
              "    </tr>\n",
              "    <tr>\n",
              "      <th>2</th>\n",
              "      <td>3fd6777bbce08a352fddd04e4a7cc8f6</td>\n",
              "      <td>delivered</td>\n",
              "      <td>2017-05-24 18:14:34</td>\n",
              "      <td>2017-05-26 02:45:17</td>\n",
              "      <td>2017-05-26 11:20:47</td>\n",
              "      <td>2017-06-05 17:09:48</td>\n",
              "      <td>2017-06-28 00:00:00</td>\n",
              "      <td>f5136e38d1a14a4dbd87dff67da82701</td>\n",
              "      <td>1</td>\n",
              "      <td>1bdf5e6731585cf01aa8169c7028d6ad</td>\n",
              "      <td>ee27a8f15b1dded4d213a468ba4eb391</td>\n",
              "      <td>2017-06-15 02:45:17</td>\n",
              "      <td>6499.0</td>\n",
              "      <td>227.66</td>\n",
              "    </tr>\n",
              "    <tr>\n",
              "      <th>3</th>\n",
              "      <td>df55c14d1476a9a3467f131269c2477f</td>\n",
              "      <td>delivered</td>\n",
              "      <td>2017-04-01 15:58:40</td>\n",
              "      <td>2017-04-03 13:25:18</td>\n",
              "      <td>2017-04-11 15:10:34</td>\n",
              "      <td>2017-04-17 11:04:45</td>\n",
              "      <td>2017-05-02 00:00:00</td>\n",
              "      <td>a96610ab360d42a2e5335a3998b4718a</td>\n",
              "      <td>1</td>\n",
              "      <td>a6492cc69376c469ab6f61d8f44de961</td>\n",
              "      <td>59417c56835dd8e2e72f91f809cd4092</td>\n",
              "      <td>2017-04-18 13:25:18</td>\n",
              "      <td>4799.0</td>\n",
              "      <td>151.34</td>\n",
              "    </tr>\n",
              "    <tr>\n",
              "      <th>4</th>\n",
              "      <td>24bbf5fd2f2e1b359ee7de94defc4a15</td>\n",
              "      <td>delivered</td>\n",
              "      <td>2017-04-18 18:50:13</td>\n",
              "      <td>2017-04-19 15:50:15</td>\n",
              "      <td>2017-04-25 13:39:59</td>\n",
              "      <td>2017-05-07 10:42:39</td>\n",
              "      <td>2017-05-15 00:00:00</td>\n",
              "      <td>199af31afc78c699f0dbf71fb178d4d4</td>\n",
              "      <td>1</td>\n",
              "      <td>c3ed642d592594bb648ff4a04cee2747</td>\n",
              "      <td>59417c56835dd8e2e72f91f809cd4092</td>\n",
              "      <td>2017-05-09 15:50:15</td>\n",
              "      <td>4690.0</td>\n",
              "      <td>74.34</td>\n",
              "    </tr>\n",
              "  </tbody>\n",
              "</table>\n",
              "</div>"
            ],
            "text/plain": [
              "                        customer_id order_status order_purchase_timestamp  \\\n",
              "0  c6e2731c5b391845f6800c97401a43a9    delivered      2017-02-12 20:37:36   \n",
              "1  f48d464a0baaea338cb25f816991ab1f    delivered      2018-07-25 18:10:17   \n",
              "2  3fd6777bbce08a352fddd04e4a7cc8f6    delivered      2017-05-24 18:14:34   \n",
              "3  df55c14d1476a9a3467f131269c2477f    delivered      2017-04-01 15:58:40   \n",
              "4  24bbf5fd2f2e1b359ee7de94defc4a15    delivered      2017-04-18 18:50:13   \n",
              "\n",
              "     order_approved_at order_delivered_carrier_date  \\\n",
              "0  2017-02-12 20:45:12          2017-02-16 09:23:13   \n",
              "1  2018-07-27 04:05:13          2018-08-03 14:42:00   \n",
              "2  2017-05-26 02:45:17          2017-05-26 11:20:47   \n",
              "3  2017-04-03 13:25:18          2017-04-11 15:10:34   \n",
              "4  2017-04-19 15:50:15          2017-04-25 13:39:59   \n",
              "\n",
              "  order_delivered_customer_date order_estimated_delivery_date  \\\n",
              "0           2017-03-03 14:23:18           2017-03-09 00:00:00   \n",
              "1           2018-08-15 14:57:50           2018-08-10 00:00:00   \n",
              "2           2017-06-05 17:09:48           2017-06-28 00:00:00   \n",
              "3           2017-04-17 11:04:45           2017-05-02 00:00:00   \n",
              "4           2017-05-07 10:42:39           2017-05-15 00:00:00   \n",
              "\n",
              "                           order_id  order_item_id  \\\n",
              "0  0812eb902a67711a1cb742b3cdaa65ae              1   \n",
              "1  fefacc66af859508bf1a7934eab1e97f              1   \n",
              "2  f5136e38d1a14a4dbd87dff67da82701              1   \n",
              "3  a96610ab360d42a2e5335a3998b4718a              1   \n",
              "4  199af31afc78c699f0dbf71fb178d4d4              1   \n",
              "\n",
              "                         product_id                         seller_id  \\\n",
              "0  489ae2aa008f021502940f251d4cce7f  e3b4998c7a498169dc7bce44e6bb6277   \n",
              "1  69c590f7ffc7bf8db97190b6cb6ed62e  80ceebb4ee9b31afb6c6a916a574a1e2   \n",
              "2  1bdf5e6731585cf01aa8169c7028d6ad  ee27a8f15b1dded4d213a468ba4eb391   \n",
              "3  a6492cc69376c469ab6f61d8f44de961  59417c56835dd8e2e72f91f809cd4092   \n",
              "4  c3ed642d592594bb648ff4a04cee2747  59417c56835dd8e2e72f91f809cd4092   \n",
              "\n",
              "   shipping_limit_date   price  freight_value  \n",
              "0  2017-02-16 20:37:36  6735.0         194.31  \n",
              "1  2018-08-02 04:05:13  6729.0         193.21  \n",
              "2  2017-06-15 02:45:17  6499.0         227.66  \n",
              "3  2017-04-18 13:25:18  4799.0         151.34  \n",
              "4  2017-05-09 15:50:15  4690.0          74.34  "
            ]
          },
          "execution_count": 32,
          "metadata": {},
          "output_type": "execute_result"
        }
      ],
      "source": [
        "BBT1_29 = '''\n",
        "WITH TopItems AS (\n",
        "  SELECT\n",
        "    oi.order_id,\n",
        "    oi.order_item_id,\n",
        "    oi.product_id,\n",
        "    oi.seller_id,\n",
        "    oi.shipping_limit_date,\n",
        "    oi.price,\n",
        "    oi.freight_value,\n",
        "    ROW_NUMBER() OVER (PARTITION BY oi.order_id ORDER BY oi.price DESC) AS row_num\n",
        "  FROM orders_items AS oi\n",
        ")\n",
        "SELECT\n",
        "  o.customer_id,\n",
        "  o.order_status,\n",
        "  o.order_purchase_timestamp,\n",
        "  o.order_approved_at,\n",
        "  o.order_delivered_carrier_date,\n",
        "  o.order_delivered_customer_date,\n",
        "  o.order_estimated_delivery_date,\n",
        "  ti.order_id,\n",
        "  ti.order_item_id,\n",
        "  ti.product_id,\n",
        "  ti.seller_id,\n",
        "  ti.shipping_limit_date,\n",
        "  ti.price,\n",
        "  ti.freight_value\n",
        "FROM TopItems AS ti\n",
        "JOIN orders AS o ON ti.order_id = o.order_id\n",
        "WHERE ti.row_num <= 3\n",
        "ORDER BY ti.price DESC;\n",
        "\n",
        "'''\n",
        "bt_29 = pd.read_sql_query(BBT1_29, conn)\n",
        "bt_29.head(5)\n"
      ]
    },
    {
      "cell_type": "code",
      "execution_count": 33,
      "metadata": {
        "colab": {
          "base_uri": "https://localhost:8080/",
          "height": 101
        },
        "id": "DV3F8PF3nMjy",
        "outputId": "f7cfbd23-88fd-4911-df80-2f81cbc77866"
      },
      "outputs": [
        {
          "data": {
            "text/html": [
              "<div>\n",
              "<style scoped>\n",
              "    .dataframe tbody tr th:only-of-type {\n",
              "        vertical-align: middle;\n",
              "    }\n",
              "\n",
              "    .dataframe tbody tr th {\n",
              "        vertical-align: top;\n",
              "    }\n",
              "\n",
              "    .dataframe thead th {\n",
              "        text-align: right;\n",
              "    }\n",
              "</style>\n",
              "<table border=\"1\" class=\"dataframe\">\n",
              "  <thead>\n",
              "    <tr style=\"text-align: right;\">\n",
              "      <th></th>\n",
              "      <th>customer_id</th>\n",
              "      <th>order_status</th>\n",
              "      <th>order_purchase_timestamp</th>\n",
              "      <th>order_approved_at</th>\n",
              "      <th>order_delivered_carrier_date</th>\n",
              "      <th>order_delivered_customer_date</th>\n",
              "      <th>order_estimated_delivery_date</th>\n",
              "      <th>order_id</th>\n",
              "      <th>order_item_id</th>\n",
              "      <th>product_id</th>\n",
              "      <th>seller_id</th>\n",
              "      <th>shipping_limit_date</th>\n",
              "      <th>price</th>\n",
              "      <th>freight_value</th>\n",
              "    </tr>\n",
              "  </thead>\n",
              "  <tbody>\n",
              "    <tr>\n",
              "      <th>4</th>\n",
              "      <td>24bbf5fd2f2e1b359ee7de94defc4a15</td>\n",
              "      <td>delivered</td>\n",
              "      <td>2017-04-18 18:50:13</td>\n",
              "      <td>2017-04-19 15:50:15</td>\n",
              "      <td>2017-04-25 13:39:59</td>\n",
              "      <td>2017-05-07 10:42:39</td>\n",
              "      <td>2017-05-15 00:00:00</td>\n",
              "      <td>199af31afc78c699f0dbf71fb178d4d4</td>\n",
              "      <td>1</td>\n",
              "      <td>c3ed642d592594bb648ff4a04cee2747</td>\n",
              "      <td>59417c56835dd8e2e72f91f809cd4092</td>\n",
              "      <td>2017-05-09 15:50:15</td>\n",
              "      <td>4690.0</td>\n",
              "      <td>74.34</td>\n",
              "    </tr>\n",
              "  </tbody>\n",
              "</table>\n",
              "</div>"
            ],
            "text/plain": [
              "                        customer_id order_status order_purchase_timestamp  \\\n",
              "4  24bbf5fd2f2e1b359ee7de94defc4a15    delivered      2017-04-18 18:50:13   \n",
              "\n",
              "     order_approved_at order_delivered_carrier_date  \\\n",
              "4  2017-04-19 15:50:15          2017-04-25 13:39:59   \n",
              "\n",
              "  order_delivered_customer_date order_estimated_delivery_date  \\\n",
              "4           2017-05-07 10:42:39           2017-05-15 00:00:00   \n",
              "\n",
              "                           order_id  order_item_id  \\\n",
              "4  199af31afc78c699f0dbf71fb178d4d4              1   \n",
              "\n",
              "                         product_id                         seller_id  \\\n",
              "4  c3ed642d592594bb648ff4a04cee2747  59417c56835dd8e2e72f91f809cd4092   \n",
              "\n",
              "   shipping_limit_date   price  freight_value  \n",
              "4  2017-05-09 15:50:15  4690.0          74.34  "
            ]
          },
          "execution_count": 33,
          "metadata": {},
          "output_type": "execute_result"
        }
      ],
      "source": [
        "resultados = bt_29[bt_29['order_id'] == '199af31afc78c699f0dbf71fb178d4d4']\n",
        "resultados"
      ]
    },
    {
      "cell_type": "markdown",
      "metadata": {
        "id": "q96K3ZO5oVyG"
      },
      "source": [
        "## BBT1- 30 Filtrar datos, reducir volumen de orders_items y sellers"
      ]
    },
    {
      "cell_type": "markdown",
      "metadata": {
        "id": "ky31yVDHofeB"
      },
      "source": [
        "**Descripción**\n",
        "\n",
        "COMO: desarrollador\n",
        "\n",
        "QUIERO: Filtrar el DataFrame de los vendedores e ítems para resguardar los 3 ítems de mayor importe.\n",
        "  \n",
        "PARA: Reducir el volumen de datos y trabajar solo con los ítems que mayor ingreso generan por vendedor."
      ]
    },
    {
      "cell_type": "code",
      "execution_count": 34,
      "metadata": {
        "colab": {
          "base_uri": "https://localhost:8080/"
        },
        "id": "-j9AtwTYoenR",
        "outputId": "c26b1702-e83c-450f-cce0-6c756f57fcab"
      },
      "outputs": [
        {
          "data": {
            "text/plain": [
              "112650"
            ]
          },
          "execution_count": 34,
          "metadata": {},
          "output_type": "execute_result"
        }
      ],
      "source": [
        "# Renombrar la columna 'index' a 'orders_items_index' en el DataFrame\n",
        "df_orderitems_sellers.rename(columns={'index': 'orderitems_sellers_index'}, inplace=True)\n",
        "df_orderitems_sellers.to_sql('orderitems_sellers', conn, if_exists='replace', index=False)"
      ]
    },
    {
      "cell_type": "code",
      "execution_count": 35,
      "metadata": {
        "colab": {
          "base_uri": "https://localhost:8080/",
          "height": 206
        },
        "id": "ZtHVWccCpvXc",
        "outputId": "e259b423-6fb9-4078-af3f-97ad6d2993d4"
      },
      "outputs": [
        {
          "data": {
            "text/html": [
              "<div>\n",
              "<style scoped>\n",
              "    .dataframe tbody tr th:only-of-type {\n",
              "        vertical-align: middle;\n",
              "    }\n",
              "\n",
              "    .dataframe tbody tr th {\n",
              "        vertical-align: top;\n",
              "    }\n",
              "\n",
              "    .dataframe thead th {\n",
              "        text-align: right;\n",
              "    }\n",
              "</style>\n",
              "<table border=\"1\" class=\"dataframe\">\n",
              "  <thead>\n",
              "    <tr style=\"text-align: right;\">\n",
              "      <th></th>\n",
              "      <th>seller_id</th>\n",
              "      <th>order_item_id</th>\n",
              "      <th>product_id</th>\n",
              "      <th>shipping_limit_date</th>\n",
              "      <th>price</th>\n",
              "      <th>freight_value</th>\n",
              "      <th>seller_zip_code_prefix</th>\n",
              "      <th>seller_city</th>\n",
              "      <th>seller_state</th>\n",
              "    </tr>\n",
              "  </thead>\n",
              "  <tbody>\n",
              "    <tr>\n",
              "      <th>0</th>\n",
              "      <td>0015a82c2db000af6aaaf3ae2ecb0532</td>\n",
              "      <td>1</td>\n",
              "      <td>a2ff5a97bf95719e38ea2e3b4105bce8</td>\n",
              "      <td>2017-10-24 23:56:20</td>\n",
              "      <td>895.0</td>\n",
              "      <td>21.02</td>\n",
              "      <td>9080</td>\n",
              "      <td>santo andre</td>\n",
              "      <td>SP</td>\n",
              "    </tr>\n",
              "    <tr>\n",
              "      <th>1</th>\n",
              "      <td>0015a82c2db000af6aaaf3ae2ecb0532</td>\n",
              "      <td>1</td>\n",
              "      <td>a2ff5a97bf95719e38ea2e3b4105bce8</td>\n",
              "      <td>2017-10-18 14:49:22</td>\n",
              "      <td>895.0</td>\n",
              "      <td>21.02</td>\n",
              "      <td>9080</td>\n",
              "      <td>santo andre</td>\n",
              "      <td>SP</td>\n",
              "    </tr>\n",
              "    <tr>\n",
              "      <th>2</th>\n",
              "      <td>0015a82c2db000af6aaaf3ae2ecb0532</td>\n",
              "      <td>1</td>\n",
              "      <td>a2ff5a97bf95719e38ea2e3b4105bce8</td>\n",
              "      <td>2017-10-12 22:24:16</td>\n",
              "      <td>895.0</td>\n",
              "      <td>21.02</td>\n",
              "      <td>9080</td>\n",
              "      <td>santo andre</td>\n",
              "      <td>SP</td>\n",
              "    </tr>\n",
              "    <tr>\n",
              "      <th>3</th>\n",
              "      <td>001cca7ae9ae17fb1caed9dfb1094831</td>\n",
              "      <td>1</td>\n",
              "      <td>e251ebd2858be1aa7d9b2087a6992580</td>\n",
              "      <td>2017-05-05 15:10:21</td>\n",
              "      <td>199.0</td>\n",
              "      <td>17.09</td>\n",
              "      <td>29156</td>\n",
              "      <td>cariacica</td>\n",
              "      <td>ES</td>\n",
              "    </tr>\n",
              "    <tr>\n",
              "      <th>4</th>\n",
              "      <td>001cca7ae9ae17fb1caed9dfb1094831</td>\n",
              "      <td>1</td>\n",
              "      <td>98a8c2fa16d7239c606640f5555768e4</td>\n",
              "      <td>2018-04-17 11:10:23</td>\n",
              "      <td>169.0</td>\n",
              "      <td>114.62</td>\n",
              "      <td>29156</td>\n",
              "      <td>cariacica</td>\n",
              "      <td>ES</td>\n",
              "    </tr>\n",
              "  </tbody>\n",
              "</table>\n",
              "</div>"
            ],
            "text/plain": [
              "                          seller_id  order_item_id  \\\n",
              "0  0015a82c2db000af6aaaf3ae2ecb0532              1   \n",
              "1  0015a82c2db000af6aaaf3ae2ecb0532              1   \n",
              "2  0015a82c2db000af6aaaf3ae2ecb0532              1   \n",
              "3  001cca7ae9ae17fb1caed9dfb1094831              1   \n",
              "4  001cca7ae9ae17fb1caed9dfb1094831              1   \n",
              "\n",
              "                         product_id  shipping_limit_date  price  \\\n",
              "0  a2ff5a97bf95719e38ea2e3b4105bce8  2017-10-24 23:56:20  895.0   \n",
              "1  a2ff5a97bf95719e38ea2e3b4105bce8  2017-10-18 14:49:22  895.0   \n",
              "2  a2ff5a97bf95719e38ea2e3b4105bce8  2017-10-12 22:24:16  895.0   \n",
              "3  e251ebd2858be1aa7d9b2087a6992580  2017-05-05 15:10:21  199.0   \n",
              "4  98a8c2fa16d7239c606640f5555768e4  2018-04-17 11:10:23  169.0   \n",
              "\n",
              "   freight_value  seller_zip_code_prefix  seller_city seller_state  \n",
              "0          21.02                    9080  santo andre           SP  \n",
              "1          21.02                    9080  santo andre           SP  \n",
              "2          21.02                    9080  santo andre           SP  \n",
              "3          17.09                   29156    cariacica           ES  \n",
              "4         114.62                   29156    cariacica           ES  "
            ]
          },
          "execution_count": 35,
          "metadata": {},
          "output_type": "execute_result"
        }
      ],
      "source": [
        "BBT1_30= '''\n",
        "WITH TopItemsPerSeller AS (\n",
        "  SELECT\n",
        "    s.seller_id,\n",
        "    oi.order_item_id,\n",
        "    oi.product_id,\n",
        "    oi.shipping_limit_date,\n",
        "    oi.price,\n",
        "    oi.freight_value,\n",
        "    ROW_NUMBER() OVER (PARTITION BY s.seller_id ORDER BY oi.price DESC) AS row_num\n",
        "  FROM order_items AS oi\n",
        "  JOIN sellers AS s ON oi.seller_id = s.seller_id\n",
        ")\n",
        "SELECT\n",
        "  ti.seller_id,\n",
        "--  oi.order_id,\n",
        "  ti.order_item_id,\n",
        "  ti.product_id,\n",
        "  ti.shipping_limit_date,\n",
        "  ti.price,\n",
        "  ti.freight_value,\n",
        "  s.seller_zip_code_prefix,\n",
        "  s.seller_city,\n",
        "  s.seller_state\n",
        "FROM TopItemsPerSeller AS ti\n",
        "--JOIN orderitems_sellers AS oi ON ti.order_item_id = oi.order_item_id\n",
        "JOIN sellers AS s ON ti.seller_id = s.seller_id\n",
        "WHERE ti.row_num <= 3\n",
        "ORDER BY ti.seller_id, ti.price DESC;\n",
        "\n",
        "'''\n",
        "query_30 = pd.read_sql_query(BBT1_30, conn)\n",
        "query_30.head(5)"
      ]
    },
    {
      "cell_type": "markdown",
      "metadata": {
        "id": "lanmpUKYuZbU"
      },
      "source": [
        "## BBT1-31 Filtrar datos, reducir volumen de orders_items y products"
      ]
    },
    {
      "cell_type": "markdown",
      "metadata": {
        "id": "CpYRv8sgum7e"
      },
      "source": [
        "Filtrar el DataFrame de las categorías e ítems para resguardar los 3 ítems de mayor importe.   \n",
        "PARA: Reducir el volumen de datos y trabajar solo con los ítems que mayor ingreso generan por categoría."
      ]
    },
    {
      "cell_type": "code",
      "execution_count": 36,
      "metadata": {
        "colab": {
          "base_uri": "https://localhost:8080/"
        },
        "id": "f7eDZwZyy8LU",
        "outputId": "ae726d00-176a-41d5-d34b-1d07c27c8927"
      },
      "outputs": [
        {
          "data": {
            "text/plain": [
              "112650"
            ]
          },
          "execution_count": 36,
          "metadata": {},
          "output_type": "execute_result"
        }
      ],
      "source": [
        "#Guardar el DF en la base de datos como tabla\n",
        "BBT1_21.to_sql('Query_BBT1_21', conn, if_exists='replace', index=True)"
      ]
    },
    {
      "cell_type": "code",
      "execution_count": 38,
      "metadata": {
        "colab": {
          "base_uri": "https://localhost:8080/",
          "height": 332
        },
        "id": "wf_8_iOOx0RY",
        "outputId": "4e1fe7f7-1a21-4fa4-9657-f12639e54c58"
      },
      "outputs": [
        {
          "data": {
            "text/html": [
              "<div>\n",
              "<style scoped>\n",
              "    .dataframe tbody tr th:only-of-type {\n",
              "        vertical-align: middle;\n",
              "    }\n",
              "\n",
              "    .dataframe tbody tr th {\n",
              "        vertical-align: top;\n",
              "    }\n",
              "\n",
              "    .dataframe thead th {\n",
              "        text-align: right;\n",
              "    }\n",
              "</style>\n",
              "<table border=\"1\" class=\"dataframe\">\n",
              "  <thead>\n",
              "    <tr style=\"text-align: right;\">\n",
              "      <th></th>\n",
              "      <th>product_id</th>\n",
              "      <th>product_category_name</th>\n",
              "      <th>price</th>\n",
              "      <th>freight_value</th>\n",
              "    </tr>\n",
              "  </thead>\n",
              "  <tbody>\n",
              "    <tr>\n",
              "      <th>0</th>\n",
              "      <td>4c50dcc50f1512f46096d6ef0142c4a9</td>\n",
              "      <td>None</td>\n",
              "      <td>3980.00</td>\n",
              "      <td>62.74</td>\n",
              "    </tr>\n",
              "    <tr>\n",
              "      <th>1</th>\n",
              "      <td>0e030462875259ec0cb868f7ecf1fd5e</td>\n",
              "      <td>None</td>\n",
              "      <td>2740.00</td>\n",
              "      <td>54.50</td>\n",
              "    </tr>\n",
              "    <tr>\n",
              "      <th>2</th>\n",
              "      <td>eed5cbd74fac3bd79b7c7ec95fa7507d</td>\n",
              "      <td>None</td>\n",
              "      <td>1989.00</td>\n",
              "      <td>34.58</td>\n",
              "    </tr>\n",
              "    <tr>\n",
              "      <th>3</th>\n",
              "      <td>2b69866f22de8dad69c976771daba91c</td>\n",
              "      <td>agro_industria_e_comercio</td>\n",
              "      <td>2990.00</td>\n",
              "      <td>194.55</td>\n",
              "    </tr>\n",
              "    <tr>\n",
              "      <th>4</th>\n",
              "      <td>b7a60a397d4efd05c1b5d398fb9f9097</td>\n",
              "      <td>agro_industria_e_comercio</td>\n",
              "      <td>2399.00</td>\n",
              "      <td>68.33</td>\n",
              "    </tr>\n",
              "    <tr>\n",
              "      <th>5</th>\n",
              "      <td>cd2f5c10e4e8dbc701f0bb68a09fdfe8</td>\n",
              "      <td>agro_industria_e_comercio</td>\n",
              "      <td>2199.00</td>\n",
              "      <td>116.83</td>\n",
              "    </tr>\n",
              "    <tr>\n",
              "      <th>6</th>\n",
              "      <td>21b4d9c7183dd6f20f584f35c09bd361</td>\n",
              "      <td>alimentos</td>\n",
              "      <td>274.99</td>\n",
              "      <td>10.74</td>\n",
              "    </tr>\n",
              "    <tr>\n",
              "      <th>7</th>\n",
              "      <td>618c65cb5359281b2c830b9f3f2e1f36</td>\n",
              "      <td>alimentos</td>\n",
              "      <td>219.00</td>\n",
              "      <td>19.58</td>\n",
              "    </tr>\n",
              "    <tr>\n",
              "      <th>8</th>\n",
              "      <td>53d71d8d9d6878f6f0b9fe0ed79445d5</td>\n",
              "      <td>alimentos</td>\n",
              "      <td>210.00</td>\n",
              "      <td>16.57</td>\n",
              "    </tr>\n",
              "  </tbody>\n",
              "</table>\n",
              "</div>"
            ],
            "text/plain": [
              "                         product_id      product_category_name    price  \\\n",
              "0  4c50dcc50f1512f46096d6ef0142c4a9                       None  3980.00   \n",
              "1  0e030462875259ec0cb868f7ecf1fd5e                       None  2740.00   \n",
              "2  eed5cbd74fac3bd79b7c7ec95fa7507d                       None  1989.00   \n",
              "3  2b69866f22de8dad69c976771daba91c  agro_industria_e_comercio  2990.00   \n",
              "4  b7a60a397d4efd05c1b5d398fb9f9097  agro_industria_e_comercio  2399.00   \n",
              "5  cd2f5c10e4e8dbc701f0bb68a09fdfe8  agro_industria_e_comercio  2199.00   \n",
              "6  21b4d9c7183dd6f20f584f35c09bd361                  alimentos   274.99   \n",
              "7  618c65cb5359281b2c830b9f3f2e1f36                  alimentos   219.00   \n",
              "8  53d71d8d9d6878f6f0b9fe0ed79445d5                  alimentos   210.00   \n",
              "\n",
              "   freight_value  \n",
              "0          62.74  \n",
              "1          54.50  \n",
              "2          34.58  \n",
              "3         194.55  \n",
              "4          68.33  \n",
              "5         116.83  \n",
              "6          10.74  \n",
              "7          19.58  \n",
              "8          16.57  "
            ]
          },
          "execution_count": 38,
          "metadata": {},
          "output_type": "execute_result"
        }
      ],
      "source": [
        "#Filtrar el DataFrame de las categorías e ítems para resguardar los 3 ítems de mayor importe por categoria\n",
        "\n",
        "BBT1_31_query = '''\n",
        "SELECT product_id, product_category_name, price, freight_value\n",
        "FROM (\n",
        "  SELECT product_id, product_category_name, price, freight_value,\n",
        "         ROW_NUMBER() OVER (PARTITION BY product_category_name ORDER BY price DESC) AS rn\n",
        "  FROM Query_BBT1_21\n",
        ") ranked\n",
        "  WHERE rn <=3\n",
        "  ORDER BY product_category_name ASC;\n",
        "'''\n",
        "\n",
        "BBT1_31 = pd.read_sql_query(BBT1_31_query, conn)\n",
        "BBT1_31.head(9)"
      ]
    },
    {
      "cell_type": "markdown",
      "metadata": {
        "id": "fzQNkPz_u3mA"
      },
      "source": [
        "## BBT1-32 Filtrar datos, reducir volumen de order y payments"
      ]
    },
    {
      "cell_type": "markdown",
      "metadata": {
        "id": "tFKbd0EKu7ea"
      },
      "source": [
        "Filtrar el DataFrame de órdenes y pagos para resguardar los 3 pagos de mayor importe por cliente.   \n",
        "PARA: Reducir el volumen de datos y trabajar solo con los clientes que generan mas ingreso y analizar sus métodos de pagos."
      ]
    },
    {
      "cell_type": "code",
      "execution_count": null,
      "metadata": {
        "colab": {
          "base_uri": "https://localhost:8080/"
        },
        "id": "WWZXZMQBu-Jn",
        "outputId": "f68265c3-2816-4b61-c55b-4fee1af964d5"
      },
      "outputs": [],
      "source": [
        "#Guardar el DF en la base de datos como tabla\n",
        "BBT1_22.to_sql('Query_BBT1_22', conn, if_exists='replace', index=True)"
      ]
    },
    {
      "cell_type": "markdown",
      "metadata": {
        "id": "MXGVaD7W9f0r"
      },
      "source": [
        "A fin de analizar la ordenes de mayor valor, y poder a su vez analizar sus métodos de pago, se crea una CTE que sume los pagos parciales por método de pago de cada orden, para poder en primera instancia reconocer las ordenes de mayor valor y luego analizar luego sus métodos de pago.\n",
        "Dado que los clientes que generaron mayores ingresos no realizaron más de 3 pagos, se limitan a 20 los registros para analisis."
      ]
    },
    {
      "cell_type": "code",
      "execution_count": null,
      "metadata": {
        "colab": {
          "base_uri": "https://localhost:8080/",
          "height": 677
        },
        "id": "FNTEGcGEWXcO",
        "outputId": "970eec7c-9626-482a-8504-aec83aaa780c"
      },
      "outputs": [],
      "source": [
        "#Filtrar el DataFrame de ordenes y pagos para resguardar las ordenes que generaron mayores ingresos.\n",
        "\n",
        "BBT1_32_query = '''\n",
        "WITH OrderTotal AS (\n",
        "    SELECT order_id, sum(payment_value) as total_price\n",
        "    FROM Query_BBT1_22\n",
        "    GROUP BY order_id\n",
        "  )\n",
        "\n",
        "  SELECT q.customer_id, q.order_id, q.order_status, q.payment_type, q.payment_value, ot.total_price\n",
        "  FROM Query_BBT1_22 q\n",
        "  JOIN OrderTotal ot ON ot.order_id = q.order_id\n",
        "  ORDER BY total_price DESC, customer_id\n",
        "  LIMIT 20\n",
        "  ;\n",
        "\n",
        "'''\n",
        "\n",
        "BBT1_32 = pd.read_sql_query(BBT1_32_query, conn)\n",
        "BBT1_32"
      ]
    },
    {
      "cell_type": "code",
      "execution_count": null,
      "metadata": {
        "colab": {
          "base_uri": "https://localhost:8080/"
        },
        "id": "2Cb91-twhedm",
        "outputId": "61be6d49-f21b-4170-ca34-561da879d5d2"
      },
      "outputs": [],
      "source": [
        "#Guardar el DF en la base de datos como tabla para analizar\n",
        "BBT1_32.to_sql('Query_BBT1_32', conn, if_exists='replace', index=True)"
      ]
    },
    {
      "cell_type": "markdown",
      "metadata": {
        "id": "tW0HJDHOiWk7"
      },
      "source": [
        "Se genera segundo filtro sobre el DF generado en esta story para analizar los métodos de pago de las ordenes que generaron mayores ingresos."
      ]
    },
    {
      "cell_type": "code",
      "execution_count": null,
      "metadata": {
        "colab": {
          "base_uri": "https://localhost:8080/",
          "height": 143
        },
        "id": "0z79d5XlhCLI",
        "outputId": "e7230ecf-ea6a-45f7-d101-5211094bc7b9"
      },
      "outputs": [],
      "source": [
        "BBT1_32_query_bis = '''\n",
        "SELECT payment_type, sum(payment_value) AS ingreso_total, count(payment_type) as cant_transacciones\n",
        "FROM Query_BBT1_32\n",
        "GROUP BY payment_type\n",
        "ORDER BY ingreso_total DESC\n",
        ";\n",
        "'''\n",
        "\n",
        "BBT1_32_bis = pd.read_sql_query(BBT1_32_query_bis, conn)\n",
        "BBT1_32_bis"
      ]
    },
    {
      "cell_type": "markdown",
      "metadata": {
        "id": "K0An880Yv6-Q"
      },
      "source": [
        "## BBT1-33 Filtrar datos, reducir volumen de costumers y geolocation2"
      ]
    },
    {
      "cell_type": "markdown",
      "metadata": {
        "id": "5aQQxDpC_Sav"
      },
      "source": [
        "COMO: desarrollador\n",
        "\n",
        "QUIERO: Filtrar el DataFrame de clientes para resguardar los últimos 30 clientes de cada ciudad.\n",
        "\n",
        "PARA: Reducir el volumen de datos y trabajar solo con las latitudes y longitudes de los últimos clientes."
      ]
    },
    {
      "cell_type": "code",
      "execution_count": 37,
      "metadata": {
        "colab": {
          "base_uri": "https://localhost:8080/"
        },
        "id": "76MrKl91C7kl",
        "outputId": "b28b1994-eeea-4669-9ce7-fce2a85b03b7"
      },
      "outputs": [
        {
          "data": {
            "text/plain": [
              "95828"
            ]
          },
          "execution_count": 37,
          "metadata": {},
          "output_type": "execute_result"
        }
      ],
      "source": [
        "#Guardo el DataFrame que tiene la información de customers y geolocation2 en la base de datos como tabla\n",
        "cust_geo.to_sql('query_bbt1_23', conn, if_exists='replace', index=True)"
      ]
    },
    {
      "cell_type": "code",
      "execution_count": 38,
      "metadata": {
        "colab": {
          "base_uri": "https://localhost:8080/",
          "height": 206
        },
        "id": "1AV3uQTjYVJr",
        "outputId": "e58df39b-e3f6-41b1-c09d-a7356246ad39"
      },
      "outputs": [
        {
          "data": {
            "text/html": [
              "<div>\n",
              "<style scoped>\n",
              "    .dataframe tbody tr th:only-of-type {\n",
              "        vertical-align: middle;\n",
              "    }\n",
              "\n",
              "    .dataframe tbody tr th {\n",
              "        vertical-align: top;\n",
              "    }\n",
              "\n",
              "    .dataframe thead th {\n",
              "        text-align: right;\n",
              "    }\n",
              "</style>\n",
              "<table border=\"1\" class=\"dataframe\">\n",
              "  <thead>\n",
              "    <tr style=\"text-align: right;\">\n",
              "      <th></th>\n",
              "      <th>customer_unique_id</th>\n",
              "      <th>geolocation_zip_code_prefix</th>\n",
              "      <th>promedio_latitud</th>\n",
              "      <th>promedio_longitud</th>\n",
              "      <th>geolocation_city</th>\n",
              "    </tr>\n",
              "  </thead>\n",
              "  <tbody>\n",
              "    <tr>\n",
              "      <th>0</th>\n",
              "      <td>e1feae9083c4c2895ddf6dc80526a85d</td>\n",
              "      <td>38540</td>\n",
              "      <td>-18.474476</td>\n",
              "      <td>-47.407837</td>\n",
              "      <td>abadia dos dourados</td>\n",
              "    </tr>\n",
              "    <tr>\n",
              "      <th>1</th>\n",
              "      <td>afddf43a03a9941624ed42c0b2c17280</td>\n",
              "      <td>38540</td>\n",
              "      <td>-18.474476</td>\n",
              "      <td>-47.407837</td>\n",
              "      <td>abadia dos dourados</td>\n",
              "    </tr>\n",
              "    <tr>\n",
              "      <th>2</th>\n",
              "      <td>64ee476500a01beb94df40f97a108c50</td>\n",
              "      <td>38540</td>\n",
              "      <td>-18.474476</td>\n",
              "      <td>-47.407837</td>\n",
              "      <td>abadia dos dourados</td>\n",
              "    </tr>\n",
              "    <tr>\n",
              "      <th>3</th>\n",
              "      <td>8d76b559181609308fcae630ea64cd61</td>\n",
              "      <td>72940</td>\n",
              "      <td>-16.193742</td>\n",
              "      <td>-48.709521</td>\n",
              "      <td>abadiania</td>\n",
              "    </tr>\n",
              "    <tr>\n",
              "      <th>4</th>\n",
              "      <td>ca1a0307fe782c9125fd9264c92db778</td>\n",
              "      <td>35620</td>\n",
              "      <td>-19.158206</td>\n",
              "      <td>-45.446300</td>\n",
              "      <td>abaete</td>\n",
              "    </tr>\n",
              "  </tbody>\n",
              "</table>\n",
              "</div>"
            ],
            "text/plain": [
              "                 customer_unique_id  geolocation_zip_code_prefix  \\\n",
              "0  e1feae9083c4c2895ddf6dc80526a85d                        38540   \n",
              "1  afddf43a03a9941624ed42c0b2c17280                        38540   \n",
              "2  64ee476500a01beb94df40f97a108c50                        38540   \n",
              "3  8d76b559181609308fcae630ea64cd61                        72940   \n",
              "4  ca1a0307fe782c9125fd9264c92db778                        35620   \n",
              "\n",
              "   promedio_latitud  promedio_longitud     geolocation_city  \n",
              "0        -18.474476         -47.407837  abadia dos dourados  \n",
              "1        -18.474476         -47.407837  abadia dos dourados  \n",
              "2        -18.474476         -47.407837  abadia dos dourados  \n",
              "3        -16.193742         -48.709521            abadiania  \n",
              "4        -19.158206         -45.446300               abaete  "
            ]
          },
          "execution_count": 38,
          "metadata": {},
          "output_type": "execute_result"
        }
      ],
      "source": [
        "query_bbt1_33 = '''\n",
        "WITH CustomersCity AS (\n",
        "  SELECT *,\n",
        "    ROW_NUMBER() OVER (PARTITION BY geolocation_city ORDER BY customer_unique_id DESC) AS row_num\n",
        "  FROM query_bbt1_23\n",
        ")\n",
        "SELECT customer_unique_id, geolocation_zip_code_prefix, promedio_latitud, promedio_longitud, geolocation_city\n",
        "FROM CustomersCity cc\n",
        "WHERE cc.row_num <= 30;\n",
        "'''\n",
        "\n",
        "filtro_clientes_ciudad = pd.read_sql_query(query_bbt1_33, conn)\n",
        "filtro_clientes_ciudad.head(5)"
      ]
    },
    {
      "cell_type": "markdown",
      "metadata": {
        "id": "ZfS4QagA_iAA"
      },
      "source": [
        "## BBT1-34 Filtrar datos, reducir volumen de orders y geolocation2"
      ]
    },
    {
      "cell_type": "markdown",
      "metadata": {
        "id": "BSHBqr97_qy5"
      },
      "source": [
        "COMO: desarrollador\n",
        "\n",
        "QUIERO: Filtrar el DataFrame de órdenes para resguardar las últimas 30 órdenes de cada ciudad.\n",
        "\n",
        "PARA: Reducir el volumen de datos y trabajar solo con las latitudes y longitudes de las últimas órdenes."
      ]
    },
    {
      "cell_type": "code",
      "execution_count": 39,
      "metadata": {
        "colab": {
          "base_uri": "https://localhost:8080/"
        },
        "id": "TZ9v1qsZ_puU",
        "outputId": "26e4c3f6-a05f-49a3-bfb3-fff5bc8d81e0"
      },
      "outputs": [
        {
          "data": {
            "text/plain": [
              "99163"
            ]
          },
          "execution_count": 39,
          "metadata": {},
          "output_type": "execute_result"
        }
      ],
      "source": [
        "#Guardar el DataFrame en la base de datos como tabla\n",
        "orders_geo.to_sql('query_bbt1_24', conn, if_exists='replace', index=True)"
      ]
    },
    {
      "cell_type": "code",
      "execution_count": 40,
      "metadata": {
        "colab": {
          "base_uri": "https://localhost:8080/",
          "height": 206
        },
        "id": "iGaFJ79SVlPp",
        "outputId": "46f75413-bca4-4c60-f450-494332c625c7"
      },
      "outputs": [
        {
          "data": {
            "text/html": [
              "<div>\n",
              "<style scoped>\n",
              "    .dataframe tbody tr th:only-of-type {\n",
              "        vertical-align: middle;\n",
              "    }\n",
              "\n",
              "    .dataframe tbody tr th {\n",
              "        vertical-align: top;\n",
              "    }\n",
              "\n",
              "    .dataframe thead th {\n",
              "        text-align: right;\n",
              "    }\n",
              "</style>\n",
              "<table border=\"1\" class=\"dataframe\">\n",
              "  <thead>\n",
              "    <tr style=\"text-align: right;\">\n",
              "      <th></th>\n",
              "      <th>order_id</th>\n",
              "      <th>geolocation_zip_code_prefix</th>\n",
              "      <th>promedio_latitud</th>\n",
              "      <th>promedio_longitud</th>\n",
              "      <th>geolocation_city</th>\n",
              "    </tr>\n",
              "  </thead>\n",
              "  <tbody>\n",
              "    <tr>\n",
              "      <th>0</th>\n",
              "      <td>d99e6849f7676dade195f20c26f0eb4f</td>\n",
              "      <td>38540</td>\n",
              "      <td>-18.474476</td>\n",
              "      <td>-47.407837</td>\n",
              "      <td>abadia dos dourados</td>\n",
              "    </tr>\n",
              "    <tr>\n",
              "      <th>1</th>\n",
              "      <td>50ba38c4dc467baab1ea2c8c7747934d</td>\n",
              "      <td>38540</td>\n",
              "      <td>-18.474476</td>\n",
              "      <td>-47.407837</td>\n",
              "      <td>abadia dos dourados</td>\n",
              "    </tr>\n",
              "    <tr>\n",
              "      <th>2</th>\n",
              "      <td>0a9a43ac5fe59c6c4bee2a8f9b9fcce8</td>\n",
              "      <td>38540</td>\n",
              "      <td>-18.474476</td>\n",
              "      <td>-47.407837</td>\n",
              "      <td>abadia dos dourados</td>\n",
              "    </tr>\n",
              "    <tr>\n",
              "      <th>3</th>\n",
              "      <td>3f1294f87d79b57f5d55ba7b80c3d94f</td>\n",
              "      <td>72940</td>\n",
              "      <td>-16.193742</td>\n",
              "      <td>-48.709521</td>\n",
              "      <td>abadiania</td>\n",
              "    </tr>\n",
              "    <tr>\n",
              "      <th>4</th>\n",
              "      <td>ee2b11b5601e9de355fb771525a195ce</td>\n",
              "      <td>35620</td>\n",
              "      <td>-19.158206</td>\n",
              "      <td>-45.446300</td>\n",
              "      <td>abaete</td>\n",
              "    </tr>\n",
              "  </tbody>\n",
              "</table>\n",
              "</div>"
            ],
            "text/plain": [
              "                           order_id  geolocation_zip_code_prefix  \\\n",
              "0  d99e6849f7676dade195f20c26f0eb4f                        38540   \n",
              "1  50ba38c4dc467baab1ea2c8c7747934d                        38540   \n",
              "2  0a9a43ac5fe59c6c4bee2a8f9b9fcce8                        38540   \n",
              "3  3f1294f87d79b57f5d55ba7b80c3d94f                        72940   \n",
              "4  ee2b11b5601e9de355fb771525a195ce                        35620   \n",
              "\n",
              "   promedio_latitud  promedio_longitud     geolocation_city  \n",
              "0        -18.474476         -47.407837  abadia dos dourados  \n",
              "1        -18.474476         -47.407837  abadia dos dourados  \n",
              "2        -18.474476         -47.407837  abadia dos dourados  \n",
              "3        -16.193742         -48.709521            abadiania  \n",
              "4        -19.158206         -45.446300               abaete  "
            ]
          },
          "execution_count": 40,
          "metadata": {},
          "output_type": "execute_result"
        }
      ],
      "source": [
        "query_bbt1_34 = '''\n",
        "WITH OrdersCity AS (\n",
        "  SELECT *,\n",
        "    ROW_NUMBER() OVER (PARTITION BY geolocation_city ORDER BY order_id DESC) AS row_num\n",
        "  FROM query_bbt1_24\n",
        ")\n",
        "SELECT order_id, geolocation_zip_code_prefix, promedio_latitud, promedio_longitud, geolocation_city\n",
        "FROM OrdersCity oc\n",
        "WHERE oc.row_num <= 30;\n",
        "'''\n",
        "\n",
        "filtro_ordenes_ciudad = pd.read_sql_query(query_bbt1_34, conn)\n",
        "filtro_ordenes_ciudad.head(5)"
      ]
    },
    {
      "cell_type": "markdown",
      "metadata": {
        "id": "kGHu-bPwxgV6"
      },
      "source": [
        "## BBT1-35 - Filtrar datos, reducir volumen de orders y reviews"
      ]
    },
    {
      "cell_type": "markdown",
      "metadata": {
        "id": "v37sFWOQxkq6"
      },
      "source": [
        "COMO: desarrollador\n",
        "QUIERO: Filtrar el DataFrame de órdenes para resguardar las revisiones con puntaje mayor o igual a 3 y mayor importe de la órden.   \n",
        "PARA: Reducir el volumen de datos y trabajar solo con las revisiones de las órdenes con mayor ingreso."
      ]
    },
    {
      "cell_type": "code",
      "execution_count": 41,
      "metadata": {
        "colab": {
          "base_uri": "https://localhost:8080/",
          "height": 206
        },
        "id": "wc7Icp6dxlF0",
        "outputId": "d5a4d11b-b913-43c7-c75c-1f82f8cb38e0"
      },
      "outputs": [
        {
          "data": {
            "text/html": [
              "<div>\n",
              "<style scoped>\n",
              "    .dataframe tbody tr th:only-of-type {\n",
              "        vertical-align: middle;\n",
              "    }\n",
              "\n",
              "    .dataframe tbody tr th {\n",
              "        vertical-align: top;\n",
              "    }\n",
              "\n",
              "    .dataframe thead th {\n",
              "        text-align: right;\n",
              "    }\n",
              "</style>\n",
              "<table border=\"1\" class=\"dataframe\">\n",
              "  <thead>\n",
              "    <tr style=\"text-align: right;\">\n",
              "      <th></th>\n",
              "      <th>order_id</th>\n",
              "      <th>order_item_id</th>\n",
              "      <th>product_id</th>\n",
              "      <th>seller_id</th>\n",
              "      <th>shipping_limit_date</th>\n",
              "      <th>total_price</th>\n",
              "      <th>freight_value</th>\n",
              "    </tr>\n",
              "  </thead>\n",
              "  <tbody>\n",
              "    <tr>\n",
              "      <th>0</th>\n",
              "      <td>00010242fe8c5a6d1ba2dd792cb16214</td>\n",
              "      <td>1</td>\n",
              "      <td>4244733e06e7ecb4970a6e2683c13e61</td>\n",
              "      <td>48436dade18ac8b2bce089ec2a041202</td>\n",
              "      <td>2017-09-19 09:45:35</td>\n",
              "      <td>58.90</td>\n",
              "      <td>13.29</td>\n",
              "    </tr>\n",
              "    <tr>\n",
              "      <th>1</th>\n",
              "      <td>00018f77f2f0320c557190d7a144bdd3</td>\n",
              "      <td>1</td>\n",
              "      <td>e5f2d52b802189ee658865ca93d83a8f</td>\n",
              "      <td>dd7ddc04e1b6c2c614352b383efe2d36</td>\n",
              "      <td>2017-05-03 11:05:13</td>\n",
              "      <td>239.90</td>\n",
              "      <td>19.93</td>\n",
              "    </tr>\n",
              "    <tr>\n",
              "      <th>2</th>\n",
              "      <td>000229ec398224ef6ca0657da4fc703e</td>\n",
              "      <td>1</td>\n",
              "      <td>c777355d18b72b67abbeef9df44fd0fd</td>\n",
              "      <td>5b51032eddd242adc84c38acab88f23d</td>\n",
              "      <td>2018-01-18 14:48:30</td>\n",
              "      <td>199.00</td>\n",
              "      <td>17.87</td>\n",
              "    </tr>\n",
              "    <tr>\n",
              "      <th>3</th>\n",
              "      <td>00024acbcdf0a6daa1e931b038114c75</td>\n",
              "      <td>1</td>\n",
              "      <td>7634da152a4610f1595efa32f14722fc</td>\n",
              "      <td>9d7a1d34a5052409006425275ba1c2b4</td>\n",
              "      <td>2018-08-15 10:10:18</td>\n",
              "      <td>12.99</td>\n",
              "      <td>12.79</td>\n",
              "    </tr>\n",
              "    <tr>\n",
              "      <th>4</th>\n",
              "      <td>00042b26cf59d7ce69dfabb4e55b4fd9</td>\n",
              "      <td>1</td>\n",
              "      <td>ac6c3623068f30de03045865e4e10089</td>\n",
              "      <td>df560393f3a51e74553ab94004ba5c87</td>\n",
              "      <td>2017-02-13 13:57:51</td>\n",
              "      <td>199.90</td>\n",
              "      <td>18.14</td>\n",
              "    </tr>\n",
              "  </tbody>\n",
              "</table>\n",
              "</div>"
            ],
            "text/plain": [
              "                           order_id  order_item_id  \\\n",
              "0  00010242fe8c5a6d1ba2dd792cb16214              1   \n",
              "1  00018f77f2f0320c557190d7a144bdd3              1   \n",
              "2  000229ec398224ef6ca0657da4fc703e              1   \n",
              "3  00024acbcdf0a6daa1e931b038114c75              1   \n",
              "4  00042b26cf59d7ce69dfabb4e55b4fd9              1   \n",
              "\n",
              "                         product_id                         seller_id  \\\n",
              "0  4244733e06e7ecb4970a6e2683c13e61  48436dade18ac8b2bce089ec2a041202   \n",
              "1  e5f2d52b802189ee658865ca93d83a8f  dd7ddc04e1b6c2c614352b383efe2d36   \n",
              "2  c777355d18b72b67abbeef9df44fd0fd  5b51032eddd242adc84c38acab88f23d   \n",
              "3  7634da152a4610f1595efa32f14722fc  9d7a1d34a5052409006425275ba1c2b4   \n",
              "4  ac6c3623068f30de03045865e4e10089  df560393f3a51e74553ab94004ba5c87   \n",
              "\n",
              "   shipping_limit_date  total_price  freight_value  \n",
              "0  2017-09-19 09:45:35        58.90          13.29  \n",
              "1  2017-05-03 11:05:13       239.90          19.93  \n",
              "2  2018-01-18 14:48:30       199.00          17.87  \n",
              "3  2018-08-15 10:10:18        12.99          12.79  \n",
              "4  2017-02-13 13:57:51       199.90          18.14  "
            ]
          },
          "execution_count": 41,
          "metadata": {},
          "output_type": "execute_result"
        }
      ],
      "source": [
        "query_bbt1_35 = '''\n",
        "    SELECT\n",
        "        o.order_id,\n",
        "        o.order_item_id,\n",
        "        o.product_id,\n",
        "        o.seller_id,\n",
        "        o.shipping_limit_date,\n",
        "        SUM(o.price) AS total_price,\n",
        "        o.freight_value\n",
        "    FROM order_items AS o\n",
        "    INNER JOIN order_review AS r\n",
        "        ON o.order_id = r.order_id\n",
        "    WHERE r.review_score >= 3\n",
        "    GROUP BY o.order_id\n",
        ";\n",
        "'''\n",
        "# bt1_35 = pd.read_sql_query(query_bt1_35, conn).reset_index(drop=True)\n",
        "bbt1_35 = pd.read_sql_query(query_bbt1_35, conn)\n",
        "bbt1_35.head(5)"
      ]
    },
    {
      "cell_type": "markdown",
      "metadata": {
        "id": "w_bcxdGLxo4l"
      },
      "source": [
        "## BBT1-36 - Filtrar datos, reducir volumen de orders_items, products y products_category_translation"
      ]
    },
    {
      "cell_type": "markdown",
      "metadata": {
        "id": "N3J2ib2ZxqbI"
      },
      "source": [
        "COMO: desarrollador\n",
        "QUIERO: Filtrar el DataFrame de las órdenes con mayor o igual importe al promedio de venta y resguardarlos junto con la información de la categoría traducida.\n",
        "PARA: Reducir el volumen de datos y trabajar solo con las órdenes de mayor ingreso al promedio y entender cuales son las categorías de los productos.."
      ]
    },
    {
      "cell_type": "code",
      "execution_count": 42,
      "metadata": {
        "colab": {
          "base_uri": "https://localhost:8080/",
          "height": 206
        },
        "id": "aL_zWu6_xrft",
        "outputId": "3efb808c-6ba4-46df-99e0-ecee988a3640"
      },
      "outputs": [
        {
          "data": {
            "text/html": [
              "<div>\n",
              "<style scoped>\n",
              "    .dataframe tbody tr th:only-of-type {\n",
              "        vertical-align: middle;\n",
              "    }\n",
              "\n",
              "    .dataframe tbody tr th {\n",
              "        vertical-align: top;\n",
              "    }\n",
              "\n",
              "    .dataframe thead th {\n",
              "        text-align: right;\n",
              "    }\n",
              "</style>\n",
              "<table border=\"1\" class=\"dataframe\">\n",
              "  <thead>\n",
              "    <tr style=\"text-align: right;\">\n",
              "      <th></th>\n",
              "      <th>order_id</th>\n",
              "      <th>product_category_name_english</th>\n",
              "      <th>price</th>\n",
              "    </tr>\n",
              "  </thead>\n",
              "  <tbody>\n",
              "    <tr>\n",
              "      <th>0</th>\n",
              "      <td>0812eb902a67711a1cb742b3cdaa65ae</td>\n",
              "      <td>housewares</td>\n",
              "      <td>6735.0</td>\n",
              "    </tr>\n",
              "    <tr>\n",
              "      <th>1</th>\n",
              "      <td>fefacc66af859508bf1a7934eab1e97f</td>\n",
              "      <td>computers</td>\n",
              "      <td>6729.0</td>\n",
              "    </tr>\n",
              "    <tr>\n",
              "      <th>2</th>\n",
              "      <td>f5136e38d1a14a4dbd87dff67da82701</td>\n",
              "      <td>art</td>\n",
              "      <td>6499.0</td>\n",
              "    </tr>\n",
              "    <tr>\n",
              "      <th>3</th>\n",
              "      <td>a96610ab360d42a2e5335a3998b4718a</td>\n",
              "      <td>small_appliances</td>\n",
              "      <td>4799.0</td>\n",
              "    </tr>\n",
              "    <tr>\n",
              "      <th>4</th>\n",
              "      <td>199af31afc78c699f0dbf71fb178d4d4</td>\n",
              "      <td>small_appliances</td>\n",
              "      <td>4690.0</td>\n",
              "    </tr>\n",
              "  </tbody>\n",
              "</table>\n",
              "</div>"
            ],
            "text/plain": [
              "                           order_id product_category_name_english   price\n",
              "0  0812eb902a67711a1cb742b3cdaa65ae                    housewares  6735.0\n",
              "1  fefacc66af859508bf1a7934eab1e97f                     computers  6729.0\n",
              "2  f5136e38d1a14a4dbd87dff67da82701                           art  6499.0\n",
              "3  a96610ab360d42a2e5335a3998b4718a              small_appliances  4799.0\n",
              "4  199af31afc78c699f0dbf71fb178d4d4              small_appliances  4690.0"
            ]
          },
          "execution_count": 42,
          "metadata": {},
          "output_type": "execute_result"
        }
      ],
      "source": [
        "query_bbt1_36 = '''\n",
        "    SELECT oi.order_id, c.product_category_name_english, oi.price\n",
        "    FROM order_items AS oi\n",
        "    INNER JOIN products AS p\n",
        "        ON oi.product_id = p.product_id\n",
        "    INNER JOIN category AS c\n",
        "        ON p.product_category_name = c.product_category_name\n",
        "    WHERE oi.price > (SELECT avg(price) FROM order_items)\n",
        "    GROUP BY oi.order_id\n",
        "    ORDER BY oi.price DESC\n",
        ";\n",
        "'''\n",
        "bbt1_36 = pd.read_sql_query(query_bbt1_36, conn)\n",
        "bbt1_36.head(5)"
      ]
    },
    {
      "cell_type": "markdown",
      "metadata": {
        "id": "6d4tCRhfxwyc"
      },
      "source": [
        "## BBT1-37 - Filtrar datos, reducir volumen de orders, payments y customers"
      ]
    },
    {
      "cell_type": "markdown",
      "metadata": {
        "id": "6MQaKxg0x2Ef"
      },
      "source": [
        "Descripción\n",
        "\n",
        "COMO: desarrollador QUIERO: Filtrar el DataFrame de órdenes tomando sólo aquellos compras realizadas tarjeta de crédito y cuyo importe sea mayor que el promedio de los pagos resguardando la información requerida junto con las ciudades de los clientes.\n",
        "PARA: Reducir el volumen de datos y trabajar solo con aquelas órdenes que tienen un monto representativo con tarjeta de crédito y entender de que ciudades corresponden."
      ]
    },
    {
      "cell_type": "code",
      "execution_count": 43,
      "metadata": {
        "colab": {
          "base_uri": "https://localhost:8080/",
          "height": 261
        },
        "id": "j-hJPsOqx2oq",
        "outputId": "25fe3880-137c-4932-bc29-71169143ecb5"
      },
      "outputs": [
        {
          "data": {
            "text/html": [
              "<div>\n",
              "<style scoped>\n",
              "    .dataframe tbody tr th:only-of-type {\n",
              "        vertical-align: middle;\n",
              "    }\n",
              "\n",
              "    .dataframe tbody tr th {\n",
              "        vertical-align: top;\n",
              "    }\n",
              "\n",
              "    .dataframe thead th {\n",
              "        text-align: right;\n",
              "    }\n",
              "</style>\n",
              "<table border=\"1\" class=\"dataframe\">\n",
              "  <thead>\n",
              "    <tr style=\"text-align: right;\">\n",
              "      <th></th>\n",
              "      <th>index</th>\n",
              "      <th>order_id</th>\n",
              "      <th>customer_id</th>\n",
              "      <th>order_status</th>\n",
              "      <th>order_purchase_timestamp</th>\n",
              "      <th>order_approved_at</th>\n",
              "      <th>order_delivered_carrier_date</th>\n",
              "      <th>order_delivered_customer_date</th>\n",
              "      <th>order_estimated_delivery_date</th>\n",
              "      <th>payment_type</th>\n",
              "      <th>customer_city</th>\n",
              "      <th>customer_state</th>\n",
              "    </tr>\n",
              "  </thead>\n",
              "  <tbody>\n",
              "    <tr>\n",
              "      <th>0</th>\n",
              "      <td>90161</td>\n",
              "      <td>1f78449c87a54faf9e96e88ba1491fa9</td>\n",
              "      <td>68c9dafdf193586c290b19c71541357a</td>\n",
              "      <td>delivered</td>\n",
              "      <td>2018-07-22 14:07:35</td>\n",
              "      <td>2018-07-23 11:32:08</td>\n",
              "      <td>2018-07-23 12:58:00</td>\n",
              "      <td>2018-07-28 15:03:04</td>\n",
              "      <td>2018-08-14 00:00:00</td>\n",
              "      <td>credit_card</td>\n",
              "      <td>campina grande</td>\n",
              "      <td>PB</td>\n",
              "    </tr>\n",
              "    <tr>\n",
              "      <th>1</th>\n",
              "      <td>42220</td>\n",
              "      <td>d88e0d5fa41661ce03cf6cf336527646</td>\n",
              "      <td>fe0c5425832ac53c3be5cb4aea25b60f</td>\n",
              "      <td>delivered</td>\n",
              "      <td>2017-11-28 15:53:29</td>\n",
              "      <td>2017-11-28 16:17:30</td>\n",
              "      <td>2017-12-12 23:22:02</td>\n",
              "      <td>2017-12-19 20:49:52</td>\n",
              "      <td>2017-12-18 00:00:00</td>\n",
              "      <td>credit_card</td>\n",
              "      <td>marilia</td>\n",
              "      <td>SP</td>\n",
              "    </tr>\n",
              "    <tr>\n",
              "      <th>2</th>\n",
              "      <td>16686</td>\n",
              "      <td>12e5cfe0e4716b59afb0e0f4a3bd6570</td>\n",
              "      <td>041cd6848abb3d3ca45e83dc971488fd</td>\n",
              "      <td>delivered</td>\n",
              "      <td>2018-03-22 09:46:07</td>\n",
              "      <td>2018-03-23 09:48:20</td>\n",
              "      <td>2018-03-28 15:32:48</td>\n",
              "      <td>2018-04-26 16:38:53</td>\n",
              "      <td>2018-04-12 00:00:00</td>\n",
              "      <td>credit_card</td>\n",
              "      <td>cachoeiro de itapemirim</td>\n",
              "      <td>ES</td>\n",
              "    </tr>\n",
              "    <tr>\n",
              "      <th>3</th>\n",
              "      <td>56184</td>\n",
              "      <td>8ac09207f415d55acff302df7d6a895c</td>\n",
              "      <td>2d8bf5f6862af587af2e0b085a04bf0d</td>\n",
              "      <td>delivered</td>\n",
              "      <td>2018-01-29 14:50:01</td>\n",
              "      <td>2018-01-29 15:18:37</td>\n",
              "      <td>2018-01-30 17:36:57</td>\n",
              "      <td>2018-02-01 15:43:08</td>\n",
              "      <td>2018-02-14 00:00:00</td>\n",
              "      <td>credit_card</td>\n",
              "      <td>diadema</td>\n",
              "      <td>SP</td>\n",
              "    </tr>\n",
              "    <tr>\n",
              "      <th>4</th>\n",
              "      <td>76165</td>\n",
              "      <td>4214cda550ece8ee66441f459dc33a8c</td>\n",
              "      <td>be4ecdb7c9401fd98ed01456634cfcb2</td>\n",
              "      <td>delivered</td>\n",
              "      <td>2017-03-21 17:39:19</td>\n",
              "      <td>2017-03-21 17:39:19</td>\n",
              "      <td>2017-03-22 10:26:53</td>\n",
              "      <td>2017-03-30 15:05:20</td>\n",
              "      <td>2017-04-25 00:00:00</td>\n",
              "      <td>credit_card</td>\n",
              "      <td>pacaja</td>\n",
              "      <td>PA</td>\n",
              "    </tr>\n",
              "  </tbody>\n",
              "</table>\n",
              "</div>"
            ],
            "text/plain": [
              "   index                          order_id                       customer_id  \\\n",
              "0  90161  1f78449c87a54faf9e96e88ba1491fa9  68c9dafdf193586c290b19c71541357a   \n",
              "1  42220  d88e0d5fa41661ce03cf6cf336527646  fe0c5425832ac53c3be5cb4aea25b60f   \n",
              "2  16686  12e5cfe0e4716b59afb0e0f4a3bd6570  041cd6848abb3d3ca45e83dc971488fd   \n",
              "3  56184  8ac09207f415d55acff302df7d6a895c  2d8bf5f6862af587af2e0b085a04bf0d   \n",
              "4  76165  4214cda550ece8ee66441f459dc33a8c  be4ecdb7c9401fd98ed01456634cfcb2   \n",
              "\n",
              "  order_status order_purchase_timestamp    order_approved_at  \\\n",
              "0    delivered      2018-07-22 14:07:35  2018-07-23 11:32:08   \n",
              "1    delivered      2017-11-28 15:53:29  2017-11-28 16:17:30   \n",
              "2    delivered      2018-03-22 09:46:07  2018-03-23 09:48:20   \n",
              "3    delivered      2018-01-29 14:50:01  2018-01-29 15:18:37   \n",
              "4    delivered      2017-03-21 17:39:19  2017-03-21 17:39:19   \n",
              "\n",
              "  order_delivered_carrier_date order_delivered_customer_date  \\\n",
              "0          2018-07-23 12:58:00           2018-07-28 15:03:04   \n",
              "1          2017-12-12 23:22:02           2017-12-19 20:49:52   \n",
              "2          2018-03-28 15:32:48           2018-04-26 16:38:53   \n",
              "3          2018-01-30 17:36:57           2018-02-01 15:43:08   \n",
              "4          2017-03-22 10:26:53           2017-03-30 15:05:20   \n",
              "\n",
              "  order_estimated_delivery_date payment_type            customer_city  \\\n",
              "0           2018-08-14 00:00:00  credit_card           campina grande   \n",
              "1           2017-12-18 00:00:00  credit_card                  marilia   \n",
              "2           2018-04-12 00:00:00  credit_card  cachoeiro de itapemirim   \n",
              "3           2018-02-14 00:00:00  credit_card                  diadema   \n",
              "4           2017-04-25 00:00:00  credit_card                   pacaja   \n",
              "\n",
              "  customer_state  \n",
              "0             PB  \n",
              "1             SP  \n",
              "2             ES  \n",
              "3             SP  \n",
              "4             PA  "
            ]
          },
          "execution_count": 43,
          "metadata": {},
          "output_type": "execute_result"
        }
      ],
      "source": [
        "query_bbt1_37 = '''\n",
        "    SELECT\n",
        "        o.*,\n",
        "        op.payment_type,\n",
        "        c.customer_city,\n",
        "        c.customer_state\n",
        "    FROM orders as o\n",
        "    INNER JOIN order_payments AS op\n",
        "        ON o.order_id = op.order_id\n",
        "    INNER JOIN customers AS c\n",
        "        ON o.customer_id = c.customer_id\n",
        "    WHERE op.payment_type = 'credit_card'\n",
        "        AND op.payment_value > (SELECT avg(payment_value) FROM order_payments)\n",
        ";\n",
        "'''\n",
        "bbt1_37 = pd.read_sql_query(query_bbt1_37, conn)\n",
        "bbt1_37.head(5)"
      ]
    },
    {
      "cell_type": "markdown",
      "metadata": {
        "id": "ZW4mcBay-JwX"
      },
      "source": [
        "## BBT1-38 Carga de datos, generacion de archivos .csv de customers y orders"
      ]
    },
    {
      "cell_type": "markdown",
      "metadata": {
        "id": "y9yqlci__ZAE"
      },
      "source": [
        "**Descripción**\n",
        "\n",
        "COMO: desarrollador\n",
        "\n",
        "QUIERO: Generar archivos .csv a partir del Dataframe generado de customers y orders.\n",
        "\n",
        "Los archivos deben cumplir los siguientes requerimientos:\n",
        "\n",
        "*     Contener cabecera.\n",
        "*   Separador “,”.\n",
        "\n",
        "\n",
        "\n",
        "Ser guardados en un directorio llamado Results\\Analysis_A.\n"
      ]
    },
    {
      "cell_type": "code",
      "execution_count": 44,
      "metadata": {
        "colab": {
          "base_uri": "https://localhost:8080/"
        },
        "id": "qGOjqth3rcjq",
        "outputId": "a88bd3d7-d0be-4404-9334-591932210cf5"
      },
      "outputs": [
        {
          "name": "stdout",
          "output_type": "stream",
          "text": [
            "Archivo CSV guardado en: Results/Analysis_A/BBT1_38.csv\n"
          ]
        }
      ],
      "source": [
        "#Nombre del archivo.csv\n",
        "csv_filename = 'BBT1_38.csv'\n",
        "\n",
        "# Ruta completa del archivo CSV\n",
        "csv_path = 'Results/Analysis_A/' + csv_filename\n",
        "\n",
        "BBT1_31.to_csv('BBT1_38.csv', index=False, sep=',', header=True)\n",
        "\n",
        "print(f'Archivo CSV guardado en: {csv_path}')"
      ]
    },
    {
      "cell_type": "markdown",
      "metadata": {
        "id": "y7NEPlmRATaO"
      },
      "source": [
        "## BBT1-39 Carga de datos, generacion de archivos .csv de orders y orders_items"
      ]
    },
    {
      "cell_type": "markdown",
      "metadata": {
        "id": "OX8LtcLhBPBZ"
      },
      "source": [
        "**Descripción**\n",
        "\n",
        "COMO: desarrollador\n",
        "\n",
        "QUIERO: Generar archivos .csv a partir del Dataframe generado de orders y orders_items.\n",
        "\n",
        "Los archivos deben cumplir los siguientes requerimientos:\n",
        "Contener cabecera.\n",
        "\n",
        "Separador “,”.\n",
        "\n",
        "Ser guardados en un directorio llamado Results\\Analysis_B.\n",
        "\n"
      ]
    },
    {
      "cell_type": "code",
      "execution_count": 45,
      "metadata": {
        "colab": {
          "base_uri": "https://localhost:8080/"
        },
        "id": "Cf4Xcd3YBE-7",
        "outputId": "58b3cfac-66a0-4173-8e87-b33e3b037509"
      },
      "outputs": [
        {
          "name": "stdout",
          "output_type": "stream",
          "text": [
            "Archivo CSV guardado en: Results/Analysis_B/BBT1_39.csv\n"
          ]
        }
      ],
      "source": [
        "#Nombre del archivo.csv\n",
        "csv_filename = 'BBT1_39.csv'\n",
        "\n",
        "# Ruta completa del archivo CSV\n",
        "csv_path = 'Results/Analysis_B/' + csv_filename\n",
        "\n",
        "bt_29.to_csv(csv_path, index=False, sep=',', header=True)\n",
        "\n",
        "print(f'Archivo CSV guardado en: {csv_path}')"
      ]
    },
    {
      "cell_type": "markdown",
      "metadata": {
        "id": "gi0j0wb4Bznl"
      },
      "source": [
        "## BBT1-40 Carga de datos, generacion de archivos .csv de orders_items y sellers"
      ]
    },
    {
      "cell_type": "markdown",
      "metadata": {
        "id": "7VVP1TsoB_1Q"
      },
      "source": [
        "**Descripción**\n",
        "COMO: desarrollador\n",
        "\n",
        "QUIERO: Generar archivos .csv a partir del Dataframe generado de orders_items y sellers.\n",
        "\n",
        "Los archivos deben cumplir los siguientes requerimientos:\n",
        "\n",
        "*     Contener cabecera.\n",
        "*   Separador “,”.\n",
        "\n",
        "\n",
        "\n",
        "Ser guardados en un directorio llamado Results\\Analysis_A."
      ]
    },
    {
      "cell_type": "code",
      "execution_count": 46,
      "metadata": {
        "colab": {
          "base_uri": "https://localhost:8080/"
        },
        "id": "5NoyoiIBB-f3",
        "outputId": "d50a018b-f07b-481c-fe42-6efcf218cd0d"
      },
      "outputs": [
        {
          "name": "stdout",
          "output_type": "stream",
          "text": [
            "Archivo CSV guardado en: Results/Analysis_C/BBT1_40.csv\n"
          ]
        }
      ],
      "source": [
        "#Nombre del archivo.csv\n",
        "csv_filename = 'BBT1_40.csv'\n",
        "\n",
        "# Ruta completa del archivo CSV\n",
        "csv_path = 'Results/Analysis_C/' + csv_filename\n",
        "\n",
        "query_30.to_csv(csv_path, index=False, sep=',', header=True)\n",
        "\n",
        "print(f'Archivo CSV guardado en: {csv_path}')"
      ]
    },
    {
      "cell_type": "markdown",
      "metadata": {
        "id": "aG2Za9VDvGV2"
      },
      "source": [
        "## BBT1-41 Carga de datos, generacion de archivos .csv de orders_items y products"
      ]
    },
    {
      "cell_type": "markdown",
      "metadata": {
        "id": "8ThioTeTvPma"
      },
      "source": [
        "Generar archivos .csv a partir del Dataframe generado de orders_items y products.\n",
        "Los archivos deben cumplir los siguientes requerimientos:\n",
        "Contener cabecera.\n",
        "Separador “,”.\n",
        "Ser guardados en un directorio llamado Results\\Analysis_D.\n",
        "PARA: Resguardar los datos enriquecidos, según requerimiento."
      ]
    },
    {
      "cell_type": "markdown",
      "metadata": {
        "id": "6ZQ9FmjDmlEr"
      },
      "source": [
        "**Se omite la creación del directorio y se asume que el directorio especificado ya existe:**"
      ]
    },
    {
      "cell_type": "code",
      "execution_count": 47,
      "metadata": {
        "colab": {
          "base_uri": "https://localhost:8080/"
        },
        "id": "OXecJs3TvWb8",
        "outputId": "3b0948e2-e7ae-4b46-cf2c-0f71ff62b967"
      },
      "outputs": [
        {
          "name": "stdout",
          "output_type": "stream",
          "text": [
            "Archivo CSV guardado en: Results/Analysis_D/BBT1_31.csv\n"
          ]
        }
      ],
      "source": [
        "#Nombre del archivo.csv\n",
        "csv_filename = 'BBT1_31.csv'\n",
        "\n",
        "# Ruta completa del archivo CSV\n",
        "csv_path = 'Results/Analysis_D/' + csv_filename\n",
        "\n",
        "BBT1_31.to_csv(csv_path, index=False, sep=',', header=True)\n",
        "\n",
        "print(f'Archivo CSV guardado en: {csv_path}')"
      ]
    },
    {
      "cell_type": "markdown",
      "metadata": {
        "id": "g-3iovN_vJa7"
      },
      "source": [
        "## BBT1-42 Carga de datos, generacion de archivos .csv  de order y payments"
      ]
    },
    {
      "cell_type": "markdown",
      "metadata": {
        "id": "E2YaWnzFvVFo"
      },
      "source": [
        "Generar archivos .csv a partir del Dataframe generado de orders y payments.\n",
        "Los archivos deben cumplir los siguientes requerimientos:\n",
        "Contener cabecera.\n",
        "Separador “,”.\n",
        "Ser guardados en un directorio llamado Results\\Analysis_E.\n",
        "PARA: Resguardar los datos enriquecidos, según requerimiento."
      ]
    },
    {
      "cell_type": "markdown",
      "metadata": {
        "id": "KS6roAlznrKm"
      },
      "source": [
        "**Se omite la creación del directorio y se asume que el directorio especificado ya existe:**"
      ]
    },
    {
      "cell_type": "code",
      "execution_count": 48,
      "metadata": {
        "colab": {
          "base_uri": "https://localhost:8080/"
        },
        "id": "1rjx3hBkvW-w",
        "outputId": "f9c6ab85-5274-4deb-c2b5-c55dd4ae3415"
      },
      "outputs": [
        {
          "ename": "NameError",
          "evalue": "name 'BBT1_32' is not defined",
          "output_type": "error",
          "traceback": [
            "\u001b[1;31m---------------------------------------------------------------------------\u001b[0m",
            "\u001b[1;31mNameError\u001b[0m                                 Traceback (most recent call last)",
            "\u001b[1;32md:\\github\\BBVA-BDS-W1-T1\\TP_final_sprint2.ipynb Cell 114\u001b[0m line \u001b[0;36m7\n\u001b[0;32m      <a href='vscode-notebook-cell:/d%3A/github/BBVA-BDS-W1-T1/TP_final_sprint2.ipynb#Y221sZmlsZQ%3D%3D?line=3'>4</a>\u001b[0m \u001b[39m# Ruta completa del archivo CSV\u001b[39;00m\n\u001b[0;32m      <a href='vscode-notebook-cell:/d%3A/github/BBVA-BDS-W1-T1/TP_final_sprint2.ipynb#Y221sZmlsZQ%3D%3D?line=4'>5</a>\u001b[0m csv_path \u001b[39m=\u001b[39m \u001b[39m'\u001b[39m\u001b[39mResults/Analysis_E/\u001b[39m\u001b[39m'\u001b[39m \u001b[39m+\u001b[39m csv_filename\n\u001b[1;32m----> <a href='vscode-notebook-cell:/d%3A/github/BBVA-BDS-W1-T1/TP_final_sprint2.ipynb#Y221sZmlsZQ%3D%3D?line=6'>7</a>\u001b[0m BBT1_32\u001b[39m.\u001b[39mto_csv(csv_path, index\u001b[39m=\u001b[39m\u001b[39mFalse\u001b[39;00m, sep\u001b[39m=\u001b[39m\u001b[39m'\u001b[39m\u001b[39m,\u001b[39m\u001b[39m'\u001b[39m, header\u001b[39m=\u001b[39m\u001b[39mTrue\u001b[39;00m)\n\u001b[0;32m      <a href='vscode-notebook-cell:/d%3A/github/BBVA-BDS-W1-T1/TP_final_sprint2.ipynb#Y221sZmlsZQ%3D%3D?line=8'>9</a>\u001b[0m \u001b[39mprint\u001b[39m(\u001b[39mf\u001b[39m\u001b[39m'\u001b[39m\u001b[39mArchivo CSV guardado en: \u001b[39m\u001b[39m{\u001b[39;00mcsv_path\u001b[39m}\u001b[39;00m\u001b[39m'\u001b[39m)\n",
            "\u001b[1;31mNameError\u001b[0m: name 'BBT1_32' is not defined"
          ]
        }
      ],
      "source": [
        "#Nombre del archivo.csv\n",
        "csv_filename = 'BBT1_32.csv'\n",
        "\n",
        "# Ruta completa del archivo CSV\n",
        "csv_path = 'Results/Analysis_E/' + csv_filename\n",
        "\n",
        "BBT1_32.to_csv(csv_path, index=False, sep=',', header=True)\n",
        "\n",
        "print(f'Archivo CSV guardado en: {csv_path}')"
      ]
    },
    {
      "cell_type": "markdown",
      "metadata": {
        "id": "kLd7Q_mI6M6g"
      },
      "source": [
        "Se realiza el guardado de la segunda consulta del filtrado tambien."
      ]
    },
    {
      "cell_type": "code",
      "execution_count": null,
      "metadata": {
        "colab": {
          "base_uri": "https://localhost:8080/"
        },
        "id": "CdUgS5Ib6GCs",
        "outputId": "0e0b35bd-ff48-4092-da53-f21494bf6618"
      },
      "outputs": [],
      "source": [
        "#Nombre del archivo.csv\n",
        "csv_filename = 'BBT1_32_bis.csv'\n",
        "\n",
        "# Ruta completa del archivo CSV\n",
        "csv_path = 'Results/Analysis_E/' + csv_filename\n",
        "\n",
        "BBT1_32_bis.to_csv('BBT1_32_bis.csv', index=False, sep=',', header=True)\n",
        "\n",
        "print(f'Archivo CSV guardado en: {csv_path}')"
      ]
    },
    {
      "cell_type": "markdown",
      "metadata": {
        "id": "gpbXeEilACr7"
      },
      "source": [
        "## BBT1-43 Carga de datos, generación de archivos .csv de customers y geolocation2"
      ]
    },
    {
      "cell_type": "markdown",
      "metadata": {
        "id": "OLEvwrhRAFlb"
      },
      "source": [
        "COMO: desarrollador\n",
        "\n",
        "QUIERO: Generar archivos .csv a partir del Dataframe generado de customers y geolocations.\n",
        "Los archivos deben cumplir los siguientes requerimientos:\n",
        "\n",
        "*   Contener cabecera.\n",
        "*   Separador \",\".\n",
        "*   Ser guardados en un directorio llamado Results\\Analysis_F.\n",
        "\n",
        "PARA: Resguardar los datos enriquecidos, según requerimiento."
      ]
    },
    {
      "cell_type": "code",
      "execution_count": 49,
      "metadata": {
        "id": "f8V7foiCGTzN"
      },
      "outputs": [],
      "source": [
        "import os"
      ]
    },
    {
      "cell_type": "code",
      "execution_count": 50,
      "metadata": {
        "id": "7NWCkUw_AxGe"
      },
      "outputs": [],
      "source": [
        "#Si no esta creado el directorio, lo crea\n",
        "if not os.path.exists('Results/Analysis_F'):\n",
        "  os.makedirs('Results/Analysis_F')\n",
        "\n",
        "csv_filename = 'BBT1-33.csv'\n",
        "\n",
        "csv_path = 'Results/Analysis_F/' + csv_filename\n",
        "\n",
        "filtro_clientes_ciudad.to_csv(path_or_buf=csv_path, index=False, sep=',', header=True)"
      ]
    },
    {
      "cell_type": "markdown",
      "metadata": {
        "id": "gC525MCNAhno"
      },
      "source": [
        "## BBT1-44 Carga de datos, generación de archivos .csv de orders y geolocation2"
      ]
    },
    {
      "cell_type": "markdown",
      "metadata": {
        "id": "_pVO5NW_Ajj-"
      },
      "source": [
        "COMO: desarrollador\n",
        "\n",
        "QUIERO: Generar archivos .csv a partir del Dataframe generado de orders y geolocations. Los archivos deben cumplir los siguientes requerimientos:\n",
        "*   Contener cabecera.\n",
        "*   Separador \",\".\n",
        "*   Ser guardados en un directorio llamado Results\\Analysis_G.\n",
        "\n",
        "PARA: Resguardar los datos enriquecidos, según requerimiento."
      ]
    },
    {
      "cell_type": "code",
      "execution_count": 51,
      "metadata": {
        "id": "KthWq1EJAxfL"
      },
      "outputs": [],
      "source": [
        "#Si no esta creado el directorio, lo crea\n",
        "if not os.path.exists('Results/Analysis_G'):\n",
        "  os.makedirs('Results/Analysis_G')\n",
        "\n",
        "csv_filename = 'BBT1-34.csv'\n",
        "\n",
        "csv_path = 'Results/Analysis_G/' + csv_filename\n",
        "\n",
        "filtro_ordenes_ciudad.to_csv(path_or_buf=csv_path, index=False, sep=',', header=True)"
      ]
    },
    {
      "cell_type": "markdown",
      "metadata": {
        "id": "6TF8_i7sxCOo"
      },
      "source": [
        "## BBT1-45 - Carga de datos, generacion de archivos .csv de orders y reviews"
      ]
    },
    {
      "cell_type": "markdown",
      "metadata": {
        "id": "AP7Z6JpuxEVF"
      },
      "source": [
        "Descripción\n",
        "\n",
        "COMO: desarrollador\n",
        "QUIERO: Generar archivos .csv a partir del Dataframe generado de orders y reviews. Los archivos deben cumplir los siguientes requerimientos:\n",
        "Contener cabecera.\n",
        "Separador “,”.\n",
        "Ser guardados en un directorio llamado Results\\Analysis_H.\n",
        "PARA: Resguardar los datos enriquecidos, según requerimiento."
      ]
    },
    {
      "cell_type": "code",
      "execution_count": null,
      "metadata": {
        "colab": {
          "base_uri": "https://localhost:8080/",
          "height": 35
        },
        "id": "O4fAJnJ8xF9U",
        "outputId": "b604e8a1-515c-42aa-dbb6-0ff3ebc867d6"
      },
      "outputs": [
        {
          "data": {
            "text/plain": [
              "\"\\nFormato para hacer las consultas\\n\\nBT1_NN.to_sql('Query_BT1_NN', conn, index=True, if_exists='replace')\\n\""
            ]
          },
          "execution_count": 54,
          "metadata": {},
          "output_type": "execute_result"
        }
      ],
      "source": [
        "'''\n",
        "Formato para hacer las consultas\n",
        "\n",
        "BT1_NN.to_sql('Query_BT1_NN', conn, index=True, if_exists='replace')\n",
        "'''"
      ]
    },
    {
      "cell_type": "code",
      "execution_count": 52,
      "metadata": {
        "colab": {
          "base_uri": "https://localhost:8080/"
        },
        "id": "y8mxzqKNxHia",
        "outputId": "fafb51e5-64e7-4c45-dd96-f993d94350af"
      },
      "outputs": [
        {
          "name": "stdout",
          "output_type": "stream",
          "text": [
            "Archivo CSV guardado en: Results/Analysis_H/bbt1_35.csv\n"
          ]
        }
      ],
      "source": [
        "#Nombre del archivo.csv\n",
        "csv_filename = 'bbt1_35.csv'\n",
        "\n",
        "# Ruta completa del archivo CSV\n",
        "csv_path = 'Results/Analysis_H/' + csv_filename\n",
        "\n",
        "bbt1_35.to_csv(csv_path, index=False, sep=',', header=True)\n",
        "\n",
        "print(f'Archivo CSV guardado en: {csv_path}')"
      ]
    },
    {
      "cell_type": "markdown",
      "metadata": {
        "id": "pqvN3B6PxN-m"
      },
      "source": [
        "## BBT1-46 - Carga de datos, generacion de archivos .csv de orders_items, products y products_category_translation"
      ]
    },
    {
      "cell_type": "markdown",
      "metadata": {
        "id": "bxVHTngHxQfE"
      },
      "source": [
        "Descripción\n",
        "\n",
        "COMO: desarrollador\n",
        "QUIERO: Generar archivos .csv a partir del Dataframe generado de orders_items, products y products_category_translation. Los archivos deben cumplir los siguientes requerimientos:\n",
        "Contener cabecera.\n",
        "Separador “,”.\n",
        "Ser guardados en un directorio llamado Results\\Analysis_I.\n",
        "PARA: Resguardar los datos enriquecidos, según requerimiento."
      ]
    },
    {
      "cell_type": "code",
      "execution_count": 53,
      "metadata": {
        "colab": {
          "base_uri": "https://localhost:8080/"
        },
        "id": "aQ0z2xN8xSgy",
        "outputId": "e24aac84-22f6-422a-d10d-1a6da23071ba"
      },
      "outputs": [
        {
          "name": "stdout",
          "output_type": "stream",
          "text": [
            "Archivo CSV guardado en: Results/Analysis_I/bbt1_36.csv\n"
          ]
        }
      ],
      "source": [
        "#Nombre del archivo.csv\n",
        "csv_filename = 'bbt1_36.csv'\n",
        "\n",
        "# Ruta completa del archivo CSV\n",
        "csv_path = 'Results/Analysis_I/' + csv_filename\n",
        "\n",
        "bbt1_36.to_csv(csv_path, index=False, sep=',', header=True)\n",
        "\n",
        "print(f'Archivo CSV guardado en: {csv_path}')"
      ]
    },
    {
      "cell_type": "markdown",
      "metadata": {
        "id": "a_L3VzYyxUck"
      },
      "source": [
        "## BBT1-47 - Carga de datos, generacion de archivos .csv de orders, payments y customers"
      ]
    },
    {
      "cell_type": "markdown",
      "metadata": {
        "id": "IR3IZtzMxWvq"
      },
      "source": [
        "Descripción\n",
        "\n",
        "COMO: desarrollador\n",
        "QUIERO: Generar archivos .csv a partir del Dataframe generado de orders, payments y customers. Los archivos deben cumplir los siguientes requerimientos:\n",
        "Contener cabecera.\n",
        "Separador “,”.\n",
        "Ser guardados en un directorio llamado Results\\Analysis_J.\n",
        "PARA: Resguardar los datos enriquecidos, según requerimiento."
      ]
    },
    {
      "cell_type": "code",
      "execution_count": 54,
      "metadata": {
        "colab": {
          "base_uri": "https://localhost:8080/"
        },
        "id": "E-Yz3iGbxYTW",
        "outputId": "4a3621d0-a84d-4ac8-8a10-6467e8d0fa16"
      },
      "outputs": [
        {
          "name": "stdout",
          "output_type": "stream",
          "text": [
            "Archivo CSV guardado en: Results/Analysis_J/bbt1_37.csv\n"
          ]
        }
      ],
      "source": [
        "#Nombre del archivo.csv\n",
        "csv_filename = 'bbt1_37.csv'\n",
        "\n",
        "# Ruta completa del archivo CSV\n",
        "csv_path = 'Results/Analysis_J/' + csv_filename\n",
        "\n",
        "bbt1_37.to_csv(csv_path, index=False, sep=',', header=True)\n",
        "\n",
        "print(f'Archivo CSV guardado en: {csv_path}')"
      ]
    },
    {
      "cell_type": "markdown",
      "metadata": {
        "id": "1sQsvxu0GCqu"
      },
      "source": [
        "## BBT1-48 Extraccion de datos desde .csv, análisis A"
      ]
    },
    {
      "cell_type": "markdown",
      "metadata": {
        "id": "hjR0ro_dGfVb"
      },
      "source": [
        "**Descripción**\n",
        "\n",
        "COMO: desarrollador\n",
        "\n",
        "QUIERO: Cargar los datos del análisis A generados en un DataFrame.\n",
        "\n",
        "PARA: Poder analizar el conjunto de datos."
      ]
    },
    {
      "cell_type": "code",
      "execution_count": null,
      "metadata": {
        "colab": {
          "base_uri": "https://localhost:8080/"
        },
        "id": "8W7amOFKGL7T",
        "outputId": "f4738b37-cfb1-4d75-bcfd-bc30cd00c781"
      },
      "outputs": [
        {
          "name": "stdout",
          "output_type": "stream",
          "text": [
            "Requirement already satisfied: pyspark in c:\\users\\gustavo\\appdata\\local\\programs\\python\\python310\\lib\\site-packages (3.4.1)\n",
            "Requirement already satisfied: py4j==0.10.9.7 in c:\\users\\gustavo\\appdata\\local\\programs\\python\\python310\\lib\\site-packages (from pyspark) (0.10.9.7)\n"
          ]
        }
      ],
      "source": [
        "!pip install pyspark"
      ]
    },
    {
      "cell_type": "code",
      "execution_count": 55,
      "metadata": {
        "id": "8l4m6kF3JiMe"
      },
      "outputs": [],
      "source": [
        "from pyspark.sql import SparkSession\n",
        "spark = SparkSession.builder.getOrCreate()"
      ]
    },
    {
      "cell_type": "code",
      "execution_count": 56,
      "metadata": {
        "id": "TZGzdXpnL4bM"
      },
      "outputs": [
        {
          "name": "stdout",
          "output_type": "stream",
          "text": [
            "+--------------------+---------------------+------+-------------+\n",
            "|          product_id|product_category_name| price|freight_value|\n",
            "+--------------------+---------------------+------+-------------+\n",
            "|4c50dcc50f1512f46...|                 null|3980.0|        62.74|\n",
            "|0e030462875259ec0...|                 null|2740.0|         54.5|\n",
            "|eed5cbd74fac3bd79...|                 null|1989.0|        34.58|\n",
            "|2b69866f22de8dad6...| agro_industria_e_...|2990.0|       194.55|\n",
            "|b7a60a397d4efd05c...| agro_industria_e_...|2399.0|        68.33|\n",
            "+--------------------+---------------------+------+-------------+\n",
            "only showing top 5 rows\n",
            "\n"
          ]
        }
      ],
      "source": [
        "path_bbt1_38 = './Results/Analysis_A/BBT1_38.csv'\n",
        "bbt1_48_spark = spark.read.load(path_bbt1_38, format='csv', sep=',', inferSchema='true', header='true')\n",
        "bbt1_48_spark.show(5)"
      ]
    },
    {
      "cell_type": "markdown",
      "metadata": {
        "id": "Ra4NVqw2GjuI"
      },
      "source": [
        "## BBT1-49 Extraccion de datos desde .csv, análisis B"
      ]
    },
    {
      "cell_type": "markdown",
      "metadata": {
        "id": "E-0AuVS7Gr0q"
      },
      "source": [
        "**Descripción**\n",
        "\n",
        "COMO: desarrollador\n",
        "\n",
        "QUIERO: Cargar los datos del análisis B generados en un DataFrame.\n",
        "\n",
        "PARA: Poder analizar el conjunto de datos."
      ]
    },
    {
      "cell_type": "code",
      "execution_count": 57,
      "metadata": {
        "id": "TB-Gvz2gGrGU"
      },
      "outputs": [
        {
          "name": "stdout",
          "output_type": "stream",
          "text": [
            "+--------------------+------------+------------------------+-------------------+----------------------------+-----------------------------+-----------------------------+--------------------+-------------+--------------------+--------------------+-------------------+------+-------------+\n",
            "|         customer_id|order_status|order_purchase_timestamp|  order_approved_at|order_delivered_carrier_date|order_delivered_customer_date|order_estimated_delivery_date|            order_id|order_item_id|          product_id|           seller_id|shipping_limit_date| price|freight_value|\n",
            "+--------------------+------------+------------------------+-------------------+----------------------------+-----------------------------+-----------------------------+--------------------+-------------+--------------------+--------------------+-------------------+------+-------------+\n",
            "|c6e2731c5b391845f...|   delivered|     2017-02-12 20:37:36|2017-02-12 20:45:12|         2017-02-16 09:23:13|          2017-03-03 14:23:18|          2017-03-09 00:00:00|0812eb902a67711a1...|            1|489ae2aa008f02150...|e3b4998c7a498169d...|2017-02-16 20:37:36|6735.0|       194.31|\n",
            "|f48d464a0baaea338...|   delivered|     2018-07-25 18:10:17|2018-07-27 04:05:13|         2018-08-03 14:42:00|          2018-08-15 14:57:50|          2018-08-10 00:00:00|fefacc66af859508b...|            1|69c590f7ffc7bf8db...|80ceebb4ee9b31afb...|2018-08-02 04:05:13|6729.0|       193.21|\n",
            "|3fd6777bbce08a352...|   delivered|     2017-05-24 18:14:34|2017-05-26 02:45:17|         2017-05-26 11:20:47|          2017-06-05 17:09:48|          2017-06-28 00:00:00|f5136e38d1a14a4db...|            1|1bdf5e6731585cf01...|ee27a8f15b1dded4d...|2017-06-15 02:45:17|6499.0|       227.66|\n",
            "|df55c14d1476a9a34...|   delivered|     2017-04-01 15:58:40|2017-04-03 13:25:18|         2017-04-11 15:10:34|          2017-04-17 11:04:45|          2017-05-02 00:00:00|a96610ab360d42a2e...|            1|a6492cc69376c469a...|59417c56835dd8e2e...|2017-04-18 13:25:18|4799.0|       151.34|\n",
            "|24bbf5fd2f2e1b359...|   delivered|     2017-04-18 18:50:13|2017-04-19 15:50:15|         2017-04-25 13:39:59|          2017-05-07 10:42:39|          2017-05-15 00:00:00|199af31afc78c699f...|            1|c3ed642d592594bb6...|59417c56835dd8e2e...|2017-05-09 15:50:15|4690.0|        74.34|\n",
            "+--------------------+------------+------------------------+-------------------+----------------------------+-----------------------------+-----------------------------+--------------------+-------------+--------------------+--------------------+-------------------+------+-------------+\n",
            "only showing top 5 rows\n",
            "\n"
          ]
        }
      ],
      "source": [
        "path_bbt1_49 = './Results/Analysis_B/BBT1_39.csv'\n",
        "bbt1_49_spark = spark.read.load(path_bbt1_49, format='csv', sep=',', inferSchema='true', header='true')\n",
        "bbt1_49_spark.show(5)"
      ]
    },
    {
      "cell_type": "markdown",
      "metadata": {
        "id": "-kVXbS9dGw1Q"
      },
      "source": [
        "## BBT1-50 Extraccion de datos desde .csv, análisis C"
      ]
    },
    {
      "cell_type": "markdown",
      "metadata": {
        "id": "sLHr3NwjG3wY"
      },
      "source": [
        "**Descripción**\n",
        "\n",
        "COMO: desarrollador\n",
        "\n",
        "QUIERO: Cargar los datos del análisis C generados en un DataFrame.\n",
        "\n",
        "PARA: Poder analizar el conjunto de datos."
      ]
    },
    {
      "cell_type": "code",
      "execution_count": 58,
      "metadata": {
        "id": "V0QUm1kzG2wW"
      },
      "outputs": [
        {
          "name": "stdout",
          "output_type": "stream",
          "text": [
            "+--------------------+-------------+--------------------+-------------------+-----+-------------+----------------------+-----------+------------+\n",
            "|           seller_id|order_item_id|          product_id|shipping_limit_date|price|freight_value|seller_zip_code_prefix|seller_city|seller_state|\n",
            "+--------------------+-------------+--------------------+-------------------+-----+-------------+----------------------+-----------+------------+\n",
            "|0015a82c2db000af6...|            1|a2ff5a97bf95719e3...|2017-10-24 23:56:20|895.0|        21.02|                  9080|santo andre|          SP|\n",
            "|0015a82c2db000af6...|            1|a2ff5a97bf95719e3...|2017-10-18 14:49:22|895.0|        21.02|                  9080|santo andre|          SP|\n",
            "|0015a82c2db000af6...|            1|a2ff5a97bf95719e3...|2017-10-12 22:24:16|895.0|        21.02|                  9080|santo andre|          SP|\n",
            "|001cca7ae9ae17fb1...|            1|e251ebd2858be1aa7...|2017-05-05 15:10:21|199.0|        17.09|                 29156|  cariacica|          ES|\n",
            "|001cca7ae9ae17fb1...|            1|98a8c2fa16d7239c6...|2018-04-17 11:10:23|169.0|       114.62|                 29156|  cariacica|          ES|\n",
            "+--------------------+-------------+--------------------+-------------------+-----+-------------+----------------------+-----------+------------+\n",
            "only showing top 5 rows\n",
            "\n"
          ]
        }
      ],
      "source": [
        "path_bbt1_50 = './Results/Analysis_C/BBT1_40.csv'\n",
        "bbt1_50_spark = spark.read.load(path_bbt1_50, format='csv', sep=',', inferSchema='true', header='true')\n",
        "bbt1_50_spark.show(5)"
      ]
    },
    {
      "cell_type": "markdown",
      "metadata": {
        "id": "wRRYigMlvZ0K"
      },
      "source": [
        "## BBT1-51 Extraccion de datos desde .csv, análisis D"
      ]
    },
    {
      "cell_type": "markdown",
      "metadata": {
        "id": "qNtMtNlQvacl"
      },
      "source": [
        "QUIERO: Cargar los datos del análisis D generados en un DataFrame.\n",
        "PARA: Poder analizar el conjunto de datos."
      ]
    },
    {
      "cell_type": "code",
      "execution_count": 59,
      "metadata": {
        "id": "SYz103NrvimV"
      },
      "outputs": [
        {
          "name": "stdout",
          "output_type": "stream",
          "text": [
            "Requirement already satisfied: pyspark in c:\\users\\gustavo\\appdata\\local\\programs\\python\\python310\\lib\\site-packages (3.4.1)\n",
            "Requirement already satisfied: py4j==0.10.9.7 in c:\\users\\gustavo\\appdata\\local\\programs\\python\\python310\\lib\\site-packages (from pyspark) (0.10.9.7)\n"
          ]
        }
      ],
      "source": [
        "!pip install pyspark"
      ]
    },
    {
      "cell_type": "code",
      "execution_count": 60,
      "metadata": {
        "id": "8pcaooN1uHcw"
      },
      "outputs": [],
      "source": [
        "from pyspark.sql import SparkSession\n",
        "spark = SparkSession.builder.getOrCreate()"
      ]
    },
    {
      "cell_type": "code",
      "execution_count": 61,
      "metadata": {
        "colab": {
          "base_uri": "https://localhost:8080/"
        },
        "id": "ebLjdAoPuIEU",
        "outputId": "b45cc1d1-82f8-4848-ff8f-8e25b43f6389"
      },
      "outputs": [
        {
          "name": "stdout",
          "output_type": "stream",
          "text": [
            "+--------------------+--------------------+\n",
            "|      cliente_compra|            order_id|\n",
            "+--------------------+--------------------+\n",
            "|cliente 00a9fd000...|7290f24ffc8f84166...|\n",
            "|cliente 00face5c8...|fefbe15ebcd87ab3f...|\n",
            "|cliente 012452d40...|e49d0607832db7c3b...|\n",
            "|cliente 012a218df...|207258d556f9b9784...|\n",
            "|cliente 01399b723...|0ccb5b7bf95c5b642...|\n",
            "+--------------------+--------------------+\n",
            "only showing top 5 rows\n",
            "\n"
          ]
        }
      ],
      "source": [
        "path_bbt1_31 = './Results/Analysis_D/BBT1_31.csv'\n",
        "bbt1_21_spark = spark.read.load(path_bbt1_31, format='csv', sep=',', inferSchema='true', header='true')\n",
        "bbt1_21_spark.show(5)"
      ]
    },
    {
      "cell_type": "markdown",
      "metadata": {
        "id": "Zh5XCGP7va6U"
      },
      "source": [
        "## BBT1-52 Extraccion de datos desde .csv, análisis E"
      ]
    },
    {
      "cell_type": "markdown",
      "metadata": {
        "id": "GOqiA84rvbLi"
      },
      "source": [
        "QUIERO: Cargar los datos del análisis E generados en un DataFrame.\n",
        "PARA: Poder analizar el conjunto de datos."
      ]
    },
    {
      "cell_type": "code",
      "execution_count": 62,
      "metadata": {
        "id": "x8-ple7xvoDc"
      },
      "outputs": [],
      "source": [
        "from pyspark.sql import SparkSession\n",
        "spark = SparkSession.builder.getOrCreate()"
      ]
    },
    {
      "cell_type": "code",
      "execution_count": 63,
      "metadata": {
        "colab": {
          "base_uri": "https://localhost:8080/"
        },
        "id": "oWs5pt-lurs8",
        "outputId": "4bdb72ac-d721-4822-8098-399a84c1cb1b"
      },
      "outputs": [
        {
          "ename": "AnalysisException",
          "evalue": "[PATH_NOT_FOUND] Path does not exist: file:/d:/github/BBVA-BDS-W1-T1/.Results/Analysis_E/BBT1_32.csv.",
          "output_type": "error",
          "traceback": [
            "\u001b[1;31m---------------------------------------------------------------------------\u001b[0m",
            "\u001b[1;31mAnalysisException\u001b[0m                         Traceback (most recent call last)",
            "\u001b[1;32md:\\github\\BBVA-BDS-W1-T1\\TP_final_sprint2.ipynb Cell 153\u001b[0m line \u001b[0;36m2\n\u001b[0;32m      <a href='vscode-notebook-cell:/d%3A/github/BBVA-BDS-W1-T1/TP_final_sprint2.ipynb#Y305sZmlsZQ%3D%3D?line=0'>1</a>\u001b[0m path_bbt1_32 \u001b[39m=\u001b[39m \u001b[39m'\u001b[39m\u001b[39m.Results/Analysis_E/BBT1_32.csv\u001b[39m\u001b[39m'\u001b[39m\n\u001b[1;32m----> <a href='vscode-notebook-cell:/d%3A/github/BBVA-BDS-W1-T1/TP_final_sprint2.ipynb#Y305sZmlsZQ%3D%3D?line=1'>2</a>\u001b[0m bbt1_32_spark \u001b[39m=\u001b[39m spark\u001b[39m.\u001b[39;49mread\u001b[39m.\u001b[39;49mload(path_bbt1_32, \u001b[39mformat\u001b[39;49m\u001b[39m=\u001b[39;49m\u001b[39m'\u001b[39;49m\u001b[39mcsv\u001b[39;49m\u001b[39m'\u001b[39;49m, sep\u001b[39m=\u001b[39;49m\u001b[39m'\u001b[39;49m\u001b[39m,\u001b[39;49m\u001b[39m'\u001b[39;49m, inferSchema\u001b[39m=\u001b[39;49m\u001b[39m'\u001b[39;49m\u001b[39mtrue\u001b[39;49m\u001b[39m'\u001b[39;49m, header\u001b[39m=\u001b[39;49m\u001b[39m'\u001b[39;49m\u001b[39mtrue\u001b[39;49m\u001b[39m'\u001b[39;49m)\n\u001b[0;32m      <a href='vscode-notebook-cell:/d%3A/github/BBVA-BDS-W1-T1/TP_final_sprint2.ipynb#Y305sZmlsZQ%3D%3D?line=2'>3</a>\u001b[0m bbt1_32_spark\u001b[39m.\u001b[39mshow(\u001b[39m5\u001b[39m)\n",
            "File \u001b[1;32mc:\\Users\\gustavo\\AppData\\Local\\Programs\\Python\\Python310\\lib\\site-packages\\pyspark\\sql\\readwriter.py:300\u001b[0m, in \u001b[0;36mDataFrameReader.load\u001b[1;34m(self, path, format, schema, **options)\u001b[0m\n\u001b[0;32m    298\u001b[0m \u001b[39mself\u001b[39m\u001b[39m.\u001b[39moptions(\u001b[39m*\u001b[39m\u001b[39m*\u001b[39moptions)\n\u001b[0;32m    299\u001b[0m \u001b[39mif\u001b[39;00m \u001b[39misinstance\u001b[39m(path, \u001b[39mstr\u001b[39m):\n\u001b[1;32m--> 300\u001b[0m     \u001b[39mreturn\u001b[39;00m \u001b[39mself\u001b[39m\u001b[39m.\u001b[39m_df(\u001b[39mself\u001b[39;49m\u001b[39m.\u001b[39;49m_jreader\u001b[39m.\u001b[39;49mload(path))\n\u001b[0;32m    301\u001b[0m \u001b[39melif\u001b[39;00m path \u001b[39mis\u001b[39;00m \u001b[39mnot\u001b[39;00m \u001b[39mNone\u001b[39;00m:\n\u001b[0;32m    302\u001b[0m     \u001b[39mif\u001b[39;00m \u001b[39mtype\u001b[39m(path) \u001b[39m!=\u001b[39m \u001b[39mlist\u001b[39m:\n",
            "File \u001b[1;32mc:\\Users\\gustavo\\AppData\\Local\\Programs\\Python\\Python310\\lib\\site-packages\\py4j\\java_gateway.py:1322\u001b[0m, in \u001b[0;36mJavaMember.__call__\u001b[1;34m(self, *args)\u001b[0m\n\u001b[0;32m   1316\u001b[0m command \u001b[39m=\u001b[39m proto\u001b[39m.\u001b[39mCALL_COMMAND_NAME \u001b[39m+\u001b[39m\\\n\u001b[0;32m   1317\u001b[0m     \u001b[39mself\u001b[39m\u001b[39m.\u001b[39mcommand_header \u001b[39m+\u001b[39m\\\n\u001b[0;32m   1318\u001b[0m     args_command \u001b[39m+\u001b[39m\\\n\u001b[0;32m   1319\u001b[0m     proto\u001b[39m.\u001b[39mEND_COMMAND_PART\n\u001b[0;32m   1321\u001b[0m answer \u001b[39m=\u001b[39m \u001b[39mself\u001b[39m\u001b[39m.\u001b[39mgateway_client\u001b[39m.\u001b[39msend_command(command)\n\u001b[1;32m-> 1322\u001b[0m return_value \u001b[39m=\u001b[39m get_return_value(\n\u001b[0;32m   1323\u001b[0m     answer, \u001b[39mself\u001b[39;49m\u001b[39m.\u001b[39;49mgateway_client, \u001b[39mself\u001b[39;49m\u001b[39m.\u001b[39;49mtarget_id, \u001b[39mself\u001b[39;49m\u001b[39m.\u001b[39;49mname)\n\u001b[0;32m   1325\u001b[0m \u001b[39mfor\u001b[39;00m temp_arg \u001b[39min\u001b[39;00m temp_args:\n\u001b[0;32m   1326\u001b[0m     \u001b[39mif\u001b[39;00m \u001b[39mhasattr\u001b[39m(temp_arg, \u001b[39m\"\u001b[39m\u001b[39m_detach\u001b[39m\u001b[39m\"\u001b[39m):\n",
            "File \u001b[1;32mc:\\Users\\gustavo\\AppData\\Local\\Programs\\Python\\Python310\\lib\\site-packages\\pyspark\\errors\\exceptions\\captured.py:175\u001b[0m, in \u001b[0;36mcapture_sql_exception.<locals>.deco\u001b[1;34m(*a, **kw)\u001b[0m\n\u001b[0;32m    171\u001b[0m converted \u001b[39m=\u001b[39m convert_exception(e\u001b[39m.\u001b[39mjava_exception)\n\u001b[0;32m    172\u001b[0m \u001b[39mif\u001b[39;00m \u001b[39mnot\u001b[39;00m \u001b[39misinstance\u001b[39m(converted, UnknownException):\n\u001b[0;32m    173\u001b[0m     \u001b[39m# Hide where the exception came from that shows a non-Pythonic\u001b[39;00m\n\u001b[0;32m    174\u001b[0m     \u001b[39m# JVM exception message.\u001b[39;00m\n\u001b[1;32m--> 175\u001b[0m     \u001b[39mraise\u001b[39;00m converted \u001b[39mfrom\u001b[39;00m \u001b[39mNone\u001b[39;00m\n\u001b[0;32m    176\u001b[0m \u001b[39melse\u001b[39;00m:\n\u001b[0;32m    177\u001b[0m     \u001b[39mraise\u001b[39;00m\n",
            "\u001b[1;31mAnalysisException\u001b[0m: [PATH_NOT_FOUND] Path does not exist: file:/d:/github/BBVA-BDS-W1-T1/.Results/Analysis_E/BBT1_32.csv."
          ]
        }
      ],
      "source": [
        "path_bbt1_32 = '.Results/Analysis_E/BBT1_32.csv'\n",
        "bbt1_32_spark = spark.read.load(path_bbt1_32, format='csv', sep=',', inferSchema='true', header='true')\n",
        "bbt1_32_spark.show(5)"
      ]
    },
    {
      "cell_type": "markdown",
      "metadata": {
        "id": "hf1v0T3163N-"
      },
      "source": [
        "Extraccion de datos desde segunda tabla creada anteriormente"
      ]
    },
    {
      "cell_type": "code",
      "execution_count": null,
      "metadata": {
        "id": "7xNRZVkV66su"
      },
      "outputs": [],
      "source": [
        "from pyspark.sql import SparkSession\n",
        "spark = SparkSession.builder.getOrCreate()"
      ]
    },
    {
      "cell_type": "code",
      "execution_count": null,
      "metadata": {
        "colab": {
          "base_uri": "https://localhost:8080/"
        },
        "id": "mqnaRBjb67yV",
        "outputId": "9a6a180c-dff7-44f4-a944-eeeef0e71830"
      },
      "outputs": [
        {
          "ename": "AnalysisException",
          "evalue": "[PATH_NOT_FOUND] Path does not exist: file:/d:/github/BBVA-BDS-W1-T1/.Results/Analysis_E/BBT1_32_bis.csv.",
          "output_type": "error",
          "traceback": [
            "\u001b[1;31m---------------------------------------------------------------------------\u001b[0m",
            "\u001b[1;31mAnalysisException\u001b[0m                         Traceback (most recent call last)",
            "\u001b[1;32md:\\github\\BBVA-BDS-W1-T1\\TP_final_sprint2.ipynb Cell 156\u001b[0m line \u001b[0;36m2\n\u001b[0;32m      <a href='vscode-notebook-cell:/d%3A/github/BBVA-BDS-W1-T1/TP_final_sprint2.ipynb#Y524sZmlsZQ%3D%3D?line=0'>1</a>\u001b[0m path_bbt1_32_bis \u001b[39m=\u001b[39m \u001b[39m'\u001b[39m\u001b[39m.Results/Analysis_E/BBT1_32_bis.csv\u001b[39m\u001b[39m'\u001b[39m\n\u001b[1;32m----> <a href='vscode-notebook-cell:/d%3A/github/BBVA-BDS-W1-T1/TP_final_sprint2.ipynb#Y524sZmlsZQ%3D%3D?line=1'>2</a>\u001b[0m bbt1_32_bis_spark \u001b[39m=\u001b[39m spark\u001b[39m.\u001b[39;49mread\u001b[39m.\u001b[39;49mload(path_bbt1_32_bis, \u001b[39mformat\u001b[39;49m\u001b[39m=\u001b[39;49m\u001b[39m'\u001b[39;49m\u001b[39mcsv\u001b[39;49m\u001b[39m'\u001b[39;49m, sep\u001b[39m=\u001b[39;49m\u001b[39m'\u001b[39;49m\u001b[39m,\u001b[39;49m\u001b[39m'\u001b[39;49m, inferSchema\u001b[39m=\u001b[39;49m\u001b[39m'\u001b[39;49m\u001b[39mtrue\u001b[39;49m\u001b[39m'\u001b[39;49m, header\u001b[39m=\u001b[39;49m\u001b[39m'\u001b[39;49m\u001b[39mtrue\u001b[39;49m\u001b[39m'\u001b[39;49m)\n\u001b[0;32m      <a href='vscode-notebook-cell:/d%3A/github/BBVA-BDS-W1-T1/TP_final_sprint2.ipynb#Y524sZmlsZQ%3D%3D?line=2'>3</a>\u001b[0m bbt1_32_bis_spark\u001b[39m.\u001b[39mshow(\u001b[39m5\u001b[39m)\n",
            "File \u001b[1;32mc:\\Users\\gustavo\\AppData\\Local\\Programs\\Python\\Python310\\lib\\site-packages\\pyspark\\sql\\readwriter.py:300\u001b[0m, in \u001b[0;36mDataFrameReader.load\u001b[1;34m(self, path, format, schema, **options)\u001b[0m\n\u001b[0;32m    298\u001b[0m \u001b[39mself\u001b[39m\u001b[39m.\u001b[39moptions(\u001b[39m*\u001b[39m\u001b[39m*\u001b[39moptions)\n\u001b[0;32m    299\u001b[0m \u001b[39mif\u001b[39;00m \u001b[39misinstance\u001b[39m(path, \u001b[39mstr\u001b[39m):\n\u001b[1;32m--> 300\u001b[0m     \u001b[39mreturn\u001b[39;00m \u001b[39mself\u001b[39m\u001b[39m.\u001b[39m_df(\u001b[39mself\u001b[39;49m\u001b[39m.\u001b[39;49m_jreader\u001b[39m.\u001b[39;49mload(path))\n\u001b[0;32m    301\u001b[0m \u001b[39melif\u001b[39;00m path \u001b[39mis\u001b[39;00m \u001b[39mnot\u001b[39;00m \u001b[39mNone\u001b[39;00m:\n\u001b[0;32m    302\u001b[0m     \u001b[39mif\u001b[39;00m \u001b[39mtype\u001b[39m(path) \u001b[39m!=\u001b[39m \u001b[39mlist\u001b[39m:\n",
            "File \u001b[1;32mc:\\Users\\gustavo\\AppData\\Local\\Programs\\Python\\Python310\\lib\\site-packages\\py4j\\java_gateway.py:1322\u001b[0m, in \u001b[0;36mJavaMember.__call__\u001b[1;34m(self, *args)\u001b[0m\n\u001b[0;32m   1316\u001b[0m command \u001b[39m=\u001b[39m proto\u001b[39m.\u001b[39mCALL_COMMAND_NAME \u001b[39m+\u001b[39m\\\n\u001b[0;32m   1317\u001b[0m     \u001b[39mself\u001b[39m\u001b[39m.\u001b[39mcommand_header \u001b[39m+\u001b[39m\\\n\u001b[0;32m   1318\u001b[0m     args_command \u001b[39m+\u001b[39m\\\n\u001b[0;32m   1319\u001b[0m     proto\u001b[39m.\u001b[39mEND_COMMAND_PART\n\u001b[0;32m   1321\u001b[0m answer \u001b[39m=\u001b[39m \u001b[39mself\u001b[39m\u001b[39m.\u001b[39mgateway_client\u001b[39m.\u001b[39msend_command(command)\n\u001b[1;32m-> 1322\u001b[0m return_value \u001b[39m=\u001b[39m get_return_value(\n\u001b[0;32m   1323\u001b[0m     answer, \u001b[39mself\u001b[39;49m\u001b[39m.\u001b[39;49mgateway_client, \u001b[39mself\u001b[39;49m\u001b[39m.\u001b[39;49mtarget_id, \u001b[39mself\u001b[39;49m\u001b[39m.\u001b[39;49mname)\n\u001b[0;32m   1325\u001b[0m \u001b[39mfor\u001b[39;00m temp_arg \u001b[39min\u001b[39;00m temp_args:\n\u001b[0;32m   1326\u001b[0m     \u001b[39mif\u001b[39;00m \u001b[39mhasattr\u001b[39m(temp_arg, \u001b[39m\"\u001b[39m\u001b[39m_detach\u001b[39m\u001b[39m\"\u001b[39m):\n",
            "File \u001b[1;32mc:\\Users\\gustavo\\AppData\\Local\\Programs\\Python\\Python310\\lib\\site-packages\\pyspark\\errors\\exceptions\\captured.py:175\u001b[0m, in \u001b[0;36mcapture_sql_exception.<locals>.deco\u001b[1;34m(*a, **kw)\u001b[0m\n\u001b[0;32m    171\u001b[0m converted \u001b[39m=\u001b[39m convert_exception(e\u001b[39m.\u001b[39mjava_exception)\n\u001b[0;32m    172\u001b[0m \u001b[39mif\u001b[39;00m \u001b[39mnot\u001b[39;00m \u001b[39misinstance\u001b[39m(converted, UnknownException):\n\u001b[0;32m    173\u001b[0m     \u001b[39m# Hide where the exception came from that shows a non-Pythonic\u001b[39;00m\n\u001b[0;32m    174\u001b[0m     \u001b[39m# JVM exception message.\u001b[39;00m\n\u001b[1;32m--> 175\u001b[0m     \u001b[39mraise\u001b[39;00m converted \u001b[39mfrom\u001b[39;00m \u001b[39mNone\u001b[39;00m\n\u001b[0;32m    176\u001b[0m \u001b[39melse\u001b[39;00m:\n\u001b[0;32m    177\u001b[0m     \u001b[39mraise\u001b[39;00m\n",
            "\u001b[1;31mAnalysisException\u001b[0m: [PATH_NOT_FOUND] Path does not exist: file:/d:/github/BBVA-BDS-W1-T1/.Results/Analysis_E/BBT1_32_bis.csv."
          ]
        }
      ],
      "source": [
        "path_bbt1_32_bis = '.Results/Analysis_E/BBT1_32_bis.csv'\n",
        "bbt1_32_bis_spark = spark.read.load(path_bbt1_32_bis, format='csv', sep=',', inferSchema='true', header='true')\n",
        "bbt1_32_bis_spark.show(5)"
      ]
    },
    {
      "cell_type": "markdown",
      "metadata": {
        "id": "hM3yRZnnA0hP"
      },
      "source": [
        "## BBT1-53 Extracción de datos desde .csv, análisis F"
      ]
    },
    {
      "cell_type": "markdown",
      "metadata": {
        "id": "aXfz0ePOA62d"
      },
      "source": [
        "COMO: desarrollador\n",
        "\n",
        "QUIERO: Cargar los datos del análisis F generados en un DataFrame.\n",
        "\n",
        "PARA: Poder analizar el conjunto de datos."
      ]
    },
    {
      "cell_type": "markdown",
      "metadata": {
        "id": "niweCbnPNBkE"
      },
      "source": [
        "Se instala e importa la librería necesaria para trabajar con PySpark"
      ]
    },
    {
      "cell_type": "code",
      "execution_count": null,
      "metadata": {
        "id": "2vQ1ydRdA6Yk"
      },
      "outputs": [],
      "source": [
        "#!pip install pyspark\n",
        "from pyspark.sql import SparkSession"
      ]
    },
    {
      "cell_type": "markdown",
      "metadata": {
        "id": "bFP1kmuXNNMu"
      },
      "source": [
        "Se inicia la sesión en PySpark"
      ]
    },
    {
      "cell_type": "code",
      "execution_count": null,
      "metadata": {
        "id": "mtq0ELrGNMg_"
      },
      "outputs": [],
      "source": [
        "spark = SparkSession.builder.getOrCreate()"
      ]
    },
    {
      "cell_type": "code",
      "execution_count": 64,
      "metadata": {
        "id": "n8ObGlwBOTuu"
      },
      "outputs": [],
      "source": [
        "bbt1_53_spark = spark.read.csv(\"./Results/Analysis_F/BBT1-33.csv\", header=True, inferSchema=True, sep=',')"
      ]
    },
    {
      "cell_type": "code",
      "execution_count": 65,
      "metadata": {
        "colab": {
          "base_uri": "https://localhost:8080/"
        },
        "id": "mYKQjNaXPDaA",
        "outputId": "57ad6f4f-f455-43eb-d64e-30b8bc8b57e0"
      },
      "outputs": [
        {
          "name": "stdout",
          "output_type": "stream",
          "text": [
            "+--------------------+---------------------------+-------------------+------------------+-------------------+\n",
            "|  customer_unique_id|geolocation_zip_code_prefix|   promedio_latitud| promedio_longitud|   geolocation_city|\n",
            "+--------------------+---------------------------+-------------------+------------------+-------------------+\n",
            "|e1feae9083c4c2895...|                      38540|-18.474476487136116| -47.4078365252738|abadia dos dourados|\n",
            "|afddf43a03a994162...|                      38540|-18.474476487136116| -47.4078365252738|abadia dos dourados|\n",
            "|64ee476500a01beb9...|                      38540|-18.474476487136116| -47.4078365252738|abadia dos dourados|\n",
            "|8d76b559181609308...|                      72940|-16.193742416316265|-48.70952130337259|          abadiania|\n",
            "|ca1a0307fe782c912...|                      35620|-19.158206495625087| -45.4463002987293|             abaete|\n",
            "+--------------------+---------------------------+-------------------+------------------+-------------------+\n",
            "only showing top 5 rows\n",
            "\n"
          ]
        }
      ],
      "source": [
        "bbt1_53_spark.show(5)"
      ]
    },
    {
      "cell_type": "markdown",
      "metadata": {
        "id": "AJ9oYa0cBIbp"
      },
      "source": [
        "## BBT1-54 Extracción de datos desde .csv, análisis G"
      ]
    },
    {
      "cell_type": "markdown",
      "metadata": {
        "id": "a0ewfdLyBOyT"
      },
      "source": [
        "COMO: desarrollador\n",
        "\n",
        "QUIERO: Cargar los datos del análisis G generados en un DataFrame.\n",
        "\n",
        "PARA: Poder analizar el conjunto de datos."
      ]
    },
    {
      "cell_type": "code",
      "execution_count": 66,
      "metadata": {
        "id": "-X__LEU_BZaH"
      },
      "outputs": [],
      "source": [
        "bbt1_54_spark = spark.read.csv(\"./Results/Analysis_G/BBT1-34.csv\", header=True, inferSchema=True, sep=',')"
      ]
    },
    {
      "cell_type": "code",
      "execution_count": 67,
      "metadata": {
        "colab": {
          "base_uri": "https://localhost:8080/"
        },
        "id": "dpLL5BjJPQh1",
        "outputId": "b9a8da4c-7831-4336-a5e5-25a0ea2fb7e1"
      },
      "outputs": [
        {
          "name": "stdout",
          "output_type": "stream",
          "text": [
            "+--------------------+---------------------------+-------------------+-----------------+-------------------+\n",
            "|            order_id|geolocation_zip_code_prefix|   promedio_latitud|promedio_longitud|   geolocation_city|\n",
            "+--------------------+---------------------------+-------------------+-----------------+-------------------+\n",
            "|d99e6849f7676dade...|                      38540|-18.474476487136116|-47.4078365252738|abadia dos dourados|\n",
            "|50ba38c4dc467baab...|                      38540|-18.474476487136116|-47.4078365252738|abadia dos dourados|\n",
            "+--------------------+---------------------------+-------------------+-----------------+-------------------+\n",
            "only showing top 2 rows\n",
            "\n"
          ]
        }
      ],
      "source": [
        "bbt1_54_spark.show(2)"
      ]
    },
    {
      "cell_type": "markdown",
      "metadata": {
        "id": "hWQT0B0zwl7V"
      },
      "source": [
        "## BBT1-55 - Extraccion de datos desde .csv, análisis H"
      ]
    },
    {
      "cell_type": "markdown",
      "metadata": {
        "id": "I9xrZKlkwp4S"
      },
      "source": [
        "Descripción\n",
        "\n",
        "COMO: desarrollador\n",
        "QUIERO: Cargar los datos del análisis H generados en un DataFrame.\n",
        "PARA: Poder analizar el conjunto de datos."
      ]
    },
    {
      "cell_type": "code",
      "execution_count": 68,
      "metadata": {
        "id": "goK1W491wrdL"
      },
      "outputs": [],
      "source": [
        "# !pip install pyspark\n",
        "from pyspark.sql import SparkSession\n",
        "spark = SparkSession.builder.getOrCreate()"
      ]
    },
    {
      "cell_type": "code",
      "execution_count": 70,
      "metadata": {
        "id": "Dz2cZ5fMwtA2"
      },
      "outputs": [
        {
          "name": "stdout",
          "output_type": "stream",
          "text": [
            "+--------------------+-------------+--------------------+--------------------+-------------------+-----------+-------------+\n",
            "|            order_id|order_item_id|          product_id|           seller_id|shipping_limit_date|total_price|freight_value|\n",
            "+--------------------+-------------+--------------------+--------------------+-------------------+-----------+-------------+\n",
            "|00010242fe8c5a6d1...|            1|4244733e06e7ecb49...|48436dade18ac8b2b...|2017-09-19 09:45:35|       58.9|        13.29|\n",
            "|00018f77f2f0320c5...|            1|e5f2d52b802189ee6...|dd7ddc04e1b6c2c61...|2017-05-03 11:05:13|      239.9|        19.93|\n",
            "|000229ec398224ef6...|            1|c777355d18b72b67a...|5b51032eddd242adc...|2018-01-18 14:48:30|      199.0|        17.87|\n",
            "|00024acbcdf0a6daa...|            1|7634da152a4610f15...|9d7a1d34a50524090...|2018-08-15 10:10:18|      12.99|        12.79|\n",
            "|00042b26cf59d7ce6...|            1|ac6c3623068f30de0...|df560393f3a51e745...|2017-02-13 13:57:51|      199.9|        18.14|\n",
            "+--------------------+-------------+--------------------+--------------------+-------------------+-----------+-------------+\n",
            "only showing top 5 rows\n",
            "\n"
          ]
        }
      ],
      "source": [
        "path_bbt1_35 = './Results/Analysis_H/bbt1_35.csv'\n",
        "bbt1_35_spark = spark.read.load(path_bbt1_35, format='csv', sep=',', inferSchema='true', header='true')\n",
        "bbt1_35_spark.show(5)"
      ]
    },
    {
      "cell_type": "markdown",
      "metadata": {
        "id": "XRnBskB7wvUW"
      },
      "source": [
        "## BBT1-56 - Extraccion de datos desde .csv, análisis I"
      ]
    },
    {
      "cell_type": "markdown",
      "metadata": {
        "id": "ibFIauvxwy7X"
      },
      "source": [
        "Descripción\n",
        "\n",
        "COMO: desarrollador\n",
        "QUIERO: Cargar los datos del análisis I generados en un DataFrame.\n",
        "PARA: Poder analizar el conjunto de datos."
      ]
    },
    {
      "cell_type": "code",
      "execution_count": 71,
      "metadata": {
        "id": "4XHrGg7_w0vW"
      },
      "outputs": [
        {
          "name": "stdout",
          "output_type": "stream",
          "text": [
            "+--------------------+-----------------------------+------+\n",
            "|            order_id|product_category_name_english| price|\n",
            "+--------------------+-----------------------------+------+\n",
            "|0812eb902a67711a1...|                   housewares|6735.0|\n",
            "|fefacc66af859508b...|                    computers|6729.0|\n",
            "|f5136e38d1a14a4db...|                          art|6499.0|\n",
            "|a96610ab360d42a2e...|             small_appliances|4799.0|\n",
            "|199af31afc78c699f...|             small_appliances|4690.0|\n",
            "+--------------------+-----------------------------+------+\n",
            "only showing top 5 rows\n",
            "\n"
          ]
        }
      ],
      "source": [
        "path_bbt1_36 = './Results/Analysis_I/bbt1_36.csv'\n",
        "bbt1_36_spark = spark.read.load(path_bbt1_36, format='csv', sep=',', inferSchema='true', header='true')\n",
        "bbt1_36_spark.show(5)"
      ]
    },
    {
      "cell_type": "markdown",
      "metadata": {
        "id": "VXiY7C9lw3am"
      },
      "source": [
        "## BBT1-57 - Extraccion de datos desde .csv, análisis J"
      ]
    },
    {
      "cell_type": "markdown",
      "metadata": {
        "id": "AoDTvozMw5dk"
      },
      "source": [
        "Descripción\n",
        "\n",
        "COMO: desarrollador\n",
        "QUIERO: Cargar los datos del análisis J generados en un DataFrame.\n",
        "PARA: Poder analizar el conjunto de datos."
      ]
    },
    {
      "cell_type": "code",
      "execution_count": 72,
      "metadata": {
        "id": "NM09fuKXw6ll"
      },
      "outputs": [
        {
          "name": "stdout",
          "output_type": "stream",
          "text": [
            "+-----+--------------------+--------------------+------------+------------------------+-------------------+----------------------------+-----------------------------+-----------------------------+------------+--------------------+--------------+\n",
            "|index|            order_id|         customer_id|order_status|order_purchase_timestamp|  order_approved_at|order_delivered_carrier_date|order_delivered_customer_date|order_estimated_delivery_date|payment_type|       customer_city|customer_state|\n",
            "+-----+--------------------+--------------------+------------+------------------------+-------------------+----------------------------+-----------------------------+-----------------------------+------------+--------------------+--------------+\n",
            "|90161|1f78449c87a54faf9...|68c9dafdf193586c2...|   delivered|     2018-07-22 14:07:35|2018-07-23 11:32:08|         2018-07-23 12:58:00|          2018-07-28 15:03:04|          2018-08-14 00:00:00| credit_card|      campina grande|            PB|\n",
            "|42220|d88e0d5fa41661ce0...|fe0c5425832ac53c3...|   delivered|     2017-11-28 15:53:29|2017-11-28 16:17:30|         2017-12-12 23:22:02|          2017-12-19 20:49:52|          2017-12-18 00:00:00| credit_card|             marilia|            SP|\n",
            "|16686|12e5cfe0e4716b59a...|041cd6848abb3d3ca...|   delivered|     2018-03-22 09:46:07|2018-03-23 09:48:20|         2018-03-28 15:32:48|          2018-04-26 16:38:53|          2018-04-12 00:00:00| credit_card|cachoeiro de itap...|            ES|\n",
            "|56184|8ac09207f415d55ac...|2d8bf5f6862af587a...|   delivered|     2018-01-29 14:50:01|2018-01-29 15:18:37|         2018-01-30 17:36:57|          2018-02-01 15:43:08|          2018-02-14 00:00:00| credit_card|             diadema|            SP|\n",
            "|76165|4214cda550ece8ee6...|be4ecdb7c9401fd98...|   delivered|     2017-03-21 17:39:19|2017-03-21 17:39:19|         2017-03-22 10:26:53|          2017-03-30 15:05:20|          2017-04-25 00:00:00| credit_card|              pacaja|            PA|\n",
            "+-----+--------------------+--------------------+------------+------------------------+-------------------+----------------------------+-----------------------------+-----------------------------+------------+--------------------+--------------+\n",
            "only showing top 5 rows\n",
            "\n"
          ]
        }
      ],
      "source": [
        "path_bbt1_37 = './Results/Analysis_J/bbt1_37.csv'\n",
        "bbt1_37_spark = spark.read.load(path_bbt1_37, format='csv', sep=',', inferSchema='true', header='true')\n",
        "bbt1_37_spark.show(5)"
      ]
    },
    {
      "cell_type": "markdown",
      "metadata": {},
      "source": [
        "## BBT1-65 - Creacion de vistas temporales, análisis H"
      ]
    },
    {
      "cell_type": "markdown",
      "metadata": {},
      "source": [
        "Descripción\n",
        "\n",
        "- COMO: desarrollador\n",
        "- QUIERO: Generar una vista temporal a partir del DataFrame de Análisis H.\n",
        "- PARA: Preparar los datos para trabajar con SparkSQL."
      ]
    },
    {
      "cell_type": "code",
      "execution_count": 73,
      "metadata": {},
      "outputs": [
        {
          "name": "stdout",
          "output_type": "stream",
          "text": [
            "+--------------------+-------------+--------------------+--------------------+-------------------+-----------+-------------+\n",
            "|            order_id|order_item_id|          product_id|           seller_id|shipping_limit_date|total_price|freight_value|\n",
            "+--------------------+-------------+--------------------+--------------------+-------------------+-----------+-------------+\n",
            "|00010242fe8c5a6d1...|            1|4244733e06e7ecb49...|48436dade18ac8b2b...|2017-09-19 09:45:35|       58.9|        13.29|\n",
            "|00018f77f2f0320c5...|            1|e5f2d52b802189ee6...|dd7ddc04e1b6c2c61...|2017-05-03 11:05:13|      239.9|        19.93|\n",
            "+--------------------+-------------+--------------------+--------------------+-------------------+-----------+-------------+\n",
            "only showing top 2 rows\n",
            "\n"
          ]
        },
        {
          "name": "stderr",
          "output_type": "stream",
          "text": [
            "c:\\Users\\gustavo\\AppData\\Local\\Programs\\Python\\Python310\\lib\\site-packages\\pyspark\\sql\\context.py:112: FutureWarning: Deprecated in 3.0.0. Use SparkSession.builder.getOrCreate() instead.\n",
            "  warnings.warn(\n",
            "c:\\Users\\gustavo\\AppData\\Local\\Programs\\Python\\Python310\\lib\\site-packages\\pyspark\\sql\\dataframe.py:330: FutureWarning: Deprecated in 2.0, use createOrReplaceTempView instead.\n",
            "  warnings.warn(\"Deprecated in 2.0, use createOrReplaceTempView instead.\", FutureWarning)\n"
          ]
        }
      ],
      "source": [
        "from pyspark.sql import SQLContext\n",
        "sqlContext = SQLContext(spark)\n",
        "\n",
        "bbt1_35_spark.registerTempTable('df_analysis_h')\n",
        "newDF_h = sqlContext.sql('Select * from df_analysis_h')\n",
        "newDF_h.show(2)"
      ]
    },
    {
      "cell_type": "markdown",
      "metadata": {},
      "source": [
        "## BBT1-66 - Creacion de vistas temporales, análisis I"
      ]
    },
    {
      "cell_type": "markdown",
      "metadata": {},
      "source": [
        "Descripción\n",
        "\n",
        "- COMO: desarrollador\n",
        "- QUIERO: Generar una vista temporal a partir del DataFrame de Análisis I.\n",
        "- PARA: Preparar los datos para trabajar con SparkSQL."
      ]
    },
    {
      "cell_type": "code",
      "execution_count": 74,
      "metadata": {},
      "outputs": [
        {
          "name": "stdout",
          "output_type": "stream",
          "text": [
            "+--------------------+-----------------------------+------+\n",
            "|            order_id|product_category_name_english| price|\n",
            "+--------------------+-----------------------------+------+\n",
            "|0812eb902a67711a1...|                   housewares|6735.0|\n",
            "|fefacc66af859508b...|                    computers|6729.0|\n",
            "+--------------------+-----------------------------+------+\n",
            "only showing top 2 rows\n",
            "\n"
          ]
        }
      ],
      "source": [
        "bbt1_36_spark.registerTempTable('df_analysis_i')\n",
        "newDF_i = sqlContext.sql('Select * from df_analysis_i')\n",
        "newDF_i.show(2)"
      ]
    },
    {
      "cell_type": "markdown",
      "metadata": {},
      "source": [
        "## BBT1-67 - Creacion de vistas temporales, análisis J"
      ]
    },
    {
      "cell_type": "markdown",
      "metadata": {},
      "source": [
        "Descripción\n",
        "\n",
        "- COMO: desarrollador\n",
        "- QUIERO: Generar una vista temporal a partir del DataFrame de Análisis J.\n",
        "- PARA: Preparar los datos para trabajar con SparkSQL."
      ]
    },
    {
      "cell_type": "code",
      "execution_count": 75,
      "metadata": {},
      "outputs": [
        {
          "name": "stdout",
          "output_type": "stream",
          "text": [
            "+-----+--------------------+--------------------+------------+------------------------+-------------------+----------------------------+-----------------------------+-----------------------------+------------+--------------+--------------+\n",
            "|index|            order_id|         customer_id|order_status|order_purchase_timestamp|  order_approved_at|order_delivered_carrier_date|order_delivered_customer_date|order_estimated_delivery_date|payment_type| customer_city|customer_state|\n",
            "+-----+--------------------+--------------------+------------+------------------------+-------------------+----------------------------+-----------------------------+-----------------------------+------------+--------------+--------------+\n",
            "|90161|1f78449c87a54faf9...|68c9dafdf193586c2...|   delivered|     2018-07-22 14:07:35|2018-07-23 11:32:08|         2018-07-23 12:58:00|          2018-07-28 15:03:04|          2018-08-14 00:00:00| credit_card|campina grande|            PB|\n",
            "|42220|d88e0d5fa41661ce0...|fe0c5425832ac53c3...|   delivered|     2017-11-28 15:53:29|2017-11-28 16:17:30|         2017-12-12 23:22:02|          2017-12-19 20:49:52|          2017-12-18 00:00:00| credit_card|       marilia|            SP|\n",
            "+-----+--------------------+--------------------+------------+------------------------+-------------------+----------------------------+-----------------------------+-----------------------------+------------+--------------+--------------+\n",
            "only showing top 2 rows\n",
            "\n"
          ]
        }
      ],
      "source": [
        "bbt1_37_spark.registerTempTable('df_analysis_j')\n",
        "newDF_j = sqlContext.sql('Select * from df_analysis_j')\n",
        "newDF_j.show(2)"
      ]
    },
    {
      "cell_type": "markdown",
      "metadata": {},
      "source": [
        "## BBT1-75 - Querys en spark SQL, análisis H"
      ]
    },
    {
      "cell_type": "markdown",
      "metadata": {},
      "source": [
        "Descripción\n",
        "\n",
        "- COMO: desarrollador\n",
        "- QUIERO: Generar una consulta que cumpla los siguientes puntos: Calcular el puntaje máximo, mínimo, promedio de compra y de las órdenes agrupadas por año, mes.\n",
        "- PARA: Enriquecer el análisis de los datos según requerimiento. Para entender el nivel de satisfacción de los compradores respecto al consumo mensual en promedio."
      ]
    },
    {
      "cell_type": "code",
      "execution_count": 76,
      "metadata": {},
      "outputs": [],
      "source": [
        "query_spark_bbt1_75 = '''\n",
        "    SELECT\n",
        "        YEAR(shipping_limit_date) AS year,\n",
        "        MONTH(shipping_limit_date) AS month,\n",
        "        MAX(total_price) AS max_price,\n",
        "        MIN(total_price) AS min_price,\n",
        "        AVG(total_price) AS avg_price\n",
        "    FROM df_analysis_h\n",
        "    GROUP BY 1, 2\n",
        "    ORDER BY 1 DESC, 2 DESC\n",
        ";\n",
        "'''\n",
        "\n",
        "bbt1_75_spark = sqlContext.sql(query_spark_bbt1_75)"
      ]
    },
    {
      "cell_type": "code",
      "execution_count": 77,
      "metadata": {},
      "outputs": [
        {
          "name": "stdout",
          "output_type": "stream",
          "text": [
            "+----+-----+---------+---------+------------------+\n",
            "|year|month|max_price|min_price|         avg_price|\n",
            "+----+-----+---------+---------+------------------+\n",
            "|2020|    4|   199.98|   199.98|            199.98|\n",
            "|2018|    9|   2299.0|      6.9|191.93549295774642|\n",
            "|2018|    8|  4399.87|      2.2|133.58644031141833|\n",
            "|2018|    7|   3089.0|      3.0|131.12004005340316|\n",
            "|2018|    6|   4590.0|      3.5|142.30326728971855|\n",
            "|2018|    5|   3930.0|     0.85| 140.1386661654129|\n",
            "|2018|    4|  4099.99|     4.99|  140.958613668554|\n",
            "|2018|    3|   3700.0|     4.99|128.35428046861185|\n",
            "|2018|    2|   3690.0|     2.99|122.25218257733748|\n",
            "|2018|    1|   2110.0|      5.2| 121.2293687766697|\n",
            "+----+-----+---------+---------+------------------+\n",
            "only showing top 10 rows\n",
            "\n"
          ]
        }
      ],
      "source": [
        "bbt1_75_spark.show(10)"
      ]
    },
    {
      "cell_type": "code",
      "execution_count": 82,
      "metadata": {},
      "outputs": [],
      "source": [
        "from matplotlib import pyplot as plt"
      ]
    },
    {
      "cell_type": "code",
      "execution_count": 84,
      "metadata": {},
      "outputs": [],
      "source": [
        "bbt1_75_pandas = bbt1_75_spark.toPandas()"
      ]
    },
    {
      "cell_type": "code",
      "execution_count": 87,
      "metadata": {},
      "outputs": [
        {
          "data": {
            "text/html": [
              "<div>\n",
              "<style scoped>\n",
              "    .dataframe tbody tr th:only-of-type {\n",
              "        vertical-align: middle;\n",
              "    }\n",
              "\n",
              "    .dataframe tbody tr th {\n",
              "        vertical-align: top;\n",
              "    }\n",
              "\n",
              "    .dataframe thead th {\n",
              "        text-align: right;\n",
              "    }\n",
              "</style>\n",
              "<table border=\"1\" class=\"dataframe\">\n",
              "  <thead>\n",
              "    <tr style=\"text-align: right;\">\n",
              "      <th></th>\n",
              "      <th>year</th>\n",
              "      <th>month</th>\n",
              "      <th>max_price</th>\n",
              "      <th>min_price</th>\n",
              "      <th>avg_price</th>\n",
              "    </tr>\n",
              "  </thead>\n",
              "  <tbody>\n",
              "    <tr>\n",
              "      <th>0</th>\n",
              "      <td>2020</td>\n",
              "      <td>4</td>\n",
              "      <td>199.98</td>\n",
              "      <td>199.98</td>\n",
              "      <td>199.98</td>\n",
              "    </tr>\n",
              "  </tbody>\n",
              "</table>\n",
              "</div>"
            ],
            "text/plain": [
              "   year  month  max_price  min_price  avg_price\n",
              "0  2020      4     199.98     199.98     199.98"
            ]
          },
          "execution_count": 87,
          "metadata": {},
          "output_type": "execute_result"
        }
      ],
      "source": [
        "bbt1_75_pandas.head(1)"
      ]
    },
    {
      "cell_type": "code",
      "execution_count": 207,
      "metadata": {},
      "outputs": [
        {
          "data": {
            "image/png": "[encoded data removed]",
            "text/plain": [
              "<Figure size 640x480 with 1 Axes>"
            ]
          },
          "metadata": {},
          "output_type": "display_data"
        }
      ],
      "source": [
        "# Tu código para crear el gráfico de barras\n",
        "ax = bbt1_75_pandas[['year', 'avg_price']].groupby('year').mean().plot(kind='bar')\n",
        "plt.title('Promedio de precios por año', fontsize=20)\n",
        "plt.ylabel('Precios promedio (en $)')\n",
        "plt.xlabel('Años')\n",
        "plt.xticks(rotation=45)\n",
        "plt.tight_layout()\n",
        "\n",
        "# Agrega etiquetas de valor sobre las barras\n",
        "ax.bar_label(ax.containers[0], fmt='%.2f', label_type='edge', fontsize=10, color='black')\n",
        "\n",
        "# Modificamos el texto de la leyenda y su posición\n",
        "handles, labels = plt.gca().get_legend_handles_labels()\n",
        "new_labels = ['Precio promedio']\n",
        "plt.legend(handles, new_labels, loc='upper left')\n",
        "\n",
        "# Mostramos el gráfico\n",
        "plt.show()"
      ]
    },
    {
      "cell_type": "markdown",
      "metadata": {},
      "source": [
        "## BBT1-76 - Querys en spark SQL, análisis I"
      ]
    },
    {
      "cell_type": "markdown",
      "metadata": {},
      "source": [
        "Descripción\n",
        "\n",
        "- COMO: desarrollador\n",
        "- QUIERO: Generar una consulta que cumpla los siguientes puntos: Calcular el maximo monto mensual por categoria de producto y estado de envío, agrupado por año y mes de envio.\n",
        "- PARA: Enriquecer el análisis de los datos según requerimiento. Para entender el comportamiento de compra de los productos y su estado de envío mensual."
      ]
    },
    {
      "cell_type": "code",
      "execution_count": 79,
      "metadata": {},
      "outputs": [
        {
          "name": "stdout",
          "output_type": "stream",
          "text": [
            "+----+-----+-----------------------------+------------+-----------------+\n",
            "|year|month|product_category_name_english|order_status|max_monthly_price|\n",
            "+----+-----+-----------------------------+------------+-----------------+\n",
            "|2018|    1|         agro_industry_and...|   delivered|           934.94|\n",
            "|2018|    2|         agro_industry_and...|   delivered|            824.0|\n",
            "|2018|    3|         agro_industry_and...|   delivered|            940.5|\n",
            "|2018|    4|         agro_industry_and...|   delivered|            465.0|\n",
            "|2018|    5|         agro_industry_and...|   delivered|           1180.0|\n",
            "|2018|    6|         agro_industry_and...|   delivered|           1234.0|\n",
            "|2018|    7|         agro_industry_and...|   delivered|            940.5|\n",
            "|2018|    8|         agro_industry_and...|   delivered|           1899.0|\n",
            "|2017|    5|         agro_industry_and...|   delivered|           869.97|\n",
            "|2017|    7|         agro_industry_and...|   delivered|           1180.0|\n",
            "+----+-----+-----------------------------+------------+-----------------+\n",
            "only showing top 10 rows\n",
            "\n"
          ]
        }
      ],
      "source": [
        "query_bbt1_76 = '''\n",
        "    SELECT \n",
        "        YEAR(dj.order_delivered_carrier_date) AS year,\n",
        "        MONTH(dj.order_delivered_carrier_date) AS month,\n",
        "        di.product_category_name_english,\n",
        "        dj.order_status,\n",
        "        MAX(dh.total_price) AS max_monthly_price\n",
        "    FROM \n",
        "        df_analysis_h AS dh\n",
        "    JOIN \n",
        "        df_analysis_i AS di\n",
        "            ON dh.order_id = di.order_id\n",
        "    JOIN \n",
        "        df_analysis_j AS dj\n",
        "        ON dh.order_id = dj.order_id\n",
        "    GROUP BY \n",
        "        1, 2, 3, 4\n",
        "    ORDER BY\n",
        "        3 ASC, 1 DESC, 2 ASC\n",
        "    ;\n",
        "'''\n",
        "\n",
        "bbt1_76_spark = spark.sql(query_bbt1_76)\n",
        "\n",
        "bbt1_76_spark.show(10)"
      ]
    },
    {
      "cell_type": "code",
      "execution_count": 90,
      "metadata": {},
      "outputs": [],
      "source": [
        "bbt1_76_pandas = bbt1_76_spark.toPandas()"
      ]
    },
    {
      "cell_type": "code",
      "execution_count": 193,
      "metadata": {},
      "outputs": [
        {
          "data": {
            "text/html": [
              "<div>\n",
              "<style scoped>\n",
              "    .dataframe tbody tr th:only-of-type {\n",
              "        vertical-align: middle;\n",
              "    }\n",
              "\n",
              "    .dataframe tbody tr th {\n",
              "        vertical-align: top;\n",
              "    }\n",
              "\n",
              "    .dataframe thead th {\n",
              "        text-align: right;\n",
              "    }\n",
              "</style>\n",
              "<table border=\"1\" class=\"dataframe\">\n",
              "  <thead>\n",
              "    <tr style=\"text-align: right;\">\n",
              "      <th></th>\n",
              "      <th></th>\n",
              "      <th>count</th>\n",
              "    </tr>\n",
              "    <tr>\n",
              "      <th>year</th>\n",
              "      <th>order_status</th>\n",
              "      <th></th>\n",
              "    </tr>\n",
              "  </thead>\n",
              "  <tbody>\n",
              "    <tr>\n",
              "      <th>2016.0</th>\n",
              "      <th>delivered</th>\n",
              "      <td>22</td>\n",
              "    </tr>\n",
              "    <tr>\n",
              "      <th rowspan=\"2\" valign=\"top\">2017.0</th>\n",
              "      <th>delivered</th>\n",
              "      <td>488</td>\n",
              "    </tr>\n",
              "    <tr>\n",
              "      <th>shipped</th>\n",
              "      <td>32</td>\n",
              "    </tr>\n",
              "    <tr>\n",
              "      <th rowspan=\"3\" valign=\"top\">2018.0</th>\n",
              "      <th>delivered</th>\n",
              "      <td>401</td>\n",
              "    </tr>\n",
              "    <tr>\n",
              "      <th>shipped</th>\n",
              "      <td>31</td>\n",
              "    </tr>\n",
              "    <tr>\n",
              "      <th>canceled</th>\n",
              "      <td>3</td>\n",
              "    </tr>\n",
              "  </tbody>\n",
              "</table>\n",
              "</div>"
            ],
            "text/plain": [
              "                     count\n",
              "year   order_status       \n",
              "2016.0 delivered        22\n",
              "2017.0 delivered       488\n",
              "       shipped          32\n",
              "2018.0 delivered       401\n",
              "       shipped          31\n",
              "       canceled          3"
            ]
          },
          "execution_count": 193,
          "metadata": {},
          "output_type": "execute_result"
        }
      ],
      "source": [
        "# Use matplotlib to plot the results of bbt1_76_pandas as a pie chart of order_status\n",
        "\n",
        "bbt1_76_pandas[['year', 'order_status']].groupby(['year']).value_counts().to_frame()"
      ]
    },
    {
      "cell_type": "code",
      "execution_count": 136,
      "metadata": {},
      "outputs": [
        {
          "data": {
            "text/plain": [
              "order_status\n",
              "delivered       913\n",
              "shipped          63\n",
              "canceled         14\n",
              "Name: count, dtype: int64"
            ]
          },
          "execution_count": 136,
          "metadata": {},
          "output_type": "execute_result"
        }
      ],
      "source": [
        "bbt1_76_pandas[['order_status']].value_counts().head(3)"
      ]
    },
    {
      "cell_type": "code",
      "execution_count": 172,
      "metadata": {},
      "outputs": [
        {
          "data": {
            "text/plain": [
              "<matplotlib.legend.Legend at 0x1de50c67370>"
            ]
          },
          "execution_count": 172,
          "metadata": {},
          "output_type": "execute_result"
        },
        {
          "data": {
            "image/png": "[encoded data removed]",
            "text/plain": [
              "<Figure size 500x500 with 1 Axes>"
            ]
          },
          "metadata": {},
          "output_type": "display_data"
        }
      ],
      "source": [
        "bbt1_76_pandas[['order_status']].value_counts().head(3).plot( \\\n",
        "    kind='pie',\n",
        "    autopct='%.1f',\n",
        "    figsize=(5, 5),\n",
        "    legend=True,\n",
        "    title='Order Status',\n",
        "    explode=(0.1, 0.2, 0.3),\n",
        "    labels=['Delivered', 'Shipped', 'Canceled'],\n",
        "    labeldistance=1.1,\n",
        "    fontsize=10,\n",
        "    ylabel='')\n",
        "\n",
        "plt.title('Order Status', fontsize=20)\n",
        "plt.tight_layout()\n",
        "plt.legend(loc='lower left', fontsize=10)"
      ]
    },
    {
      "cell_type": "markdown",
      "metadata": {},
      "source": [
        "## BBT1-77 - Querys en spark SQL, análisis J"
      ]
    },
    {
      "cell_type": "markdown",
      "metadata": {},
      "source": [
        "Descripción\n",
        "\n",
        "- COMO: desarrollador\n",
        "- QUIERO: Generar una consulta que cumpla los siguientes puntos: Calcular el momto máximo de compra por ciudad, agrupando tambien por mes y año.\n",
        "- PARA: Enriquecer el análisis de los datos según requerimiento. Para entender variabilidad de preferencias de compra de los clientes por ciudad, mes a mes segun el medio de pago con tarjeta de crédito."
      ]
    },
    {
      "cell_type": "code",
      "execution_count": 80,
      "metadata": {},
      "outputs": [
        {
          "name": "stdout",
          "output_type": "stream",
          "text": [
            "+-------------------+----+-----+-------------------+\n",
            "|      customer_city|year|month|max_purchase_amount|\n",
            "+-------------------+----+-----+-------------------+\n",
            "|abadia dos dourados|2018|    3|              199.0|\n",
            "|          abadiania|2018|    2|             949.99|\n",
            "|             abaete|2017|    5|              208.9|\n",
            "|             abaete|2017|    7|             189.99|\n",
            "|             abaete|2017|    9|              449.0|\n",
            "|             abaete|2018|    6|              225.9|\n",
            "|         abaetetuba|2017|    4|             255.61|\n",
            "|         abaetetuba|2017|   12|             580.27|\n",
            "|         abaetetuba|2018|    3|               70.8|\n",
            "|         abaetetuba|2018|    5|              797.6|\n",
            "+-------------------+----+-----+-------------------+\n",
            "only showing top 10 rows\n",
            "\n"
          ]
        }
      ],
      "source": [
        "query_bbt1_77 = '''\n",
        "    SELECT \n",
        "        j.customer_city,\n",
        "        EXTRACT(YEAR FROM j.order_delivered_carrier_date) AS year,\n",
        "        EXTRACT(MONTH FROM j.order_delivered_carrier_date) AS month,\n",
        "        MAX(h.total_price) AS max_purchase_amount\n",
        "    FROM\n",
        "        df_analysis_j AS j\n",
        "    JOIN\n",
        "    df_analysis_h AS h\n",
        "        ON j.order_id = h.order_id\n",
        "    GROUP BY\n",
        "        1, 2, 3\n",
        "    ORDER BY\n",
        "        1 ASC, 2 ASC, 3 ASC\n",
        ";\n",
        "'''\n",
        "bbt1_77_spark = spark.sql(query_bbt1_77)\n",
        "\n",
        "bbt1_77_spark.show(10)"
      ]
    },
    {
      "cell_type": "markdown",
      "metadata": {},
      "source": [
        "## BBT1-85 - Carga de datos, generacion de archivos .parquet de análisis H"
      ]
    },
    {
      "cell_type": "markdown",
      "metadata": {},
      "source": [
        "Descripción\n",
        "\n",
        "- COMO: desarrollador\n",
        "- QUIERO: Guardar las agregaciones generadas en un archivo parquet dentro de un directorio llamado Results_Parquets\\Analysis_H, XXXXXXX.\n",
        "- PARA: Dar acceso a los datos a otros interesados."
      ]
    },
    {
      "cell_type": "code",
      "execution_count": 81,
      "metadata": {},
      "outputs": [
        {
          "ename": "Py4JJavaError",
          "evalue": "An error occurred while calling o122.parquet.\n: java.lang.RuntimeException: java.io.FileNotFoundException: java.io.FileNotFoundException: HADOOP_HOME and hadoop.home.dir are unset. -see https://wiki.apache.org/hadoop/WindowsProblems\r\n\tat org.apache.hadoop.util.Shell.getWinUtilsPath(Shell.java:735)\r\n\tat org.apache.hadoop.util.Shell.getSetPermissionCommand(Shell.java:270)\r\n\tat org.apache.hadoop.util.Shell.getSetPermissionCommand(Shell.java:286)\r\n\tat org.apache.hadoop.fs.RawLocalFileSystem.setPermission(RawLocalFileSystem.java:978)\r\n\tat org.apache.hadoop.fs.RawLocalFileSystem.mkOneDirWithMode(RawLocalFileSystem.java:660)\r\n\tat org.apache.hadoop.fs.RawLocalFileSystem.mkdirsWithOptionalPermission(RawLocalFileSystem.java:700)\r\n\tat org.apache.hadoop.fs.RawLocalFileSystem.mkdirs(RawLocalFileSystem.java:672)\r\n\tat org.apache.hadoop.fs.RawLocalFileSystem.mkdirsWithOptionalPermission(RawLocalFileSystem.java:699)\r\n\tat org.apache.hadoop.fs.RawLocalFileSystem.mkdirs(RawLocalFileSystem.java:672)\r\n\tat org.apache.hadoop.fs.RawLocalFileSystem.mkdirsWithOptionalPermission(RawLocalFileSystem.java:699)\r\n\tat org.apache.hadoop.fs.RawLocalFileSystem.mkdirs(RawLocalFileSystem.java:672)\r\n\tat org.apache.hadoop.fs.RawLocalFileSystem.mkdirsWithOptionalPermission(RawLocalFileSystem.java:699)\r\n\tat org.apache.hadoop.fs.RawLocalFileSystem.mkdirs(RawLocalFileSystem.java:672)\r\n\tat org.apache.hadoop.fs.RawLocalFileSystem.mkdirsWithOptionalPermission(RawLocalFileSystem.java:699)\r\n\tat org.apache.hadoop.fs.RawLocalFileSystem.mkdirs(RawLocalFileSystem.java:672)\r\n\tat org.apache.hadoop.fs.ChecksumFileSystem.mkdirs(ChecksumFileSystem.java:788)\r\n\tat org.apache.hadoop.mapreduce.lib.output.FileOutputCommitter.setupJob(FileOutputCommitter.java:356)\r\n\tat org.apache.spark.internal.io.HadoopMapReduceCommitProtocol.setupJob(HadoopMapReduceCommitProtocol.scala:188)\r\n\tat org.apache.spark.sql.execution.datasources.FileFormatWriter$.writeAndCommit(FileFormatWriter.scala:269)\r\n\tat org.apache.spark.sql.execution.datasources.FileFormatWriter$.executeWrite(FileFormatWriter.scala:304)\r\n\tat org.apache.spark.sql.execution.datasources.FileFormatWriter$.write(FileFormatWriter.scala:190)\r\n\tat org.apache.spark.sql.execution.datasources.InsertIntoHadoopFsRelationCommand.run(InsertIntoHadoopFsRelationCommand.scala:190)\r\n\tat org.apache.spark.sql.execution.command.DataWritingCommandExec.sideEffectResult$lzycompute(commands.scala:113)\r\n\tat org.apache.spark.sql.execution.command.DataWritingCommandExec.sideEffectResult(commands.scala:111)\r\n\tat org.apache.spark.sql.execution.command.DataWritingCommandExec.executeCollect(commands.scala:125)\r\n\tat org.apache.spark.sql.execution.adaptive.AdaptiveSparkPlanExec.$anonfun$executeCollect$1(AdaptiveSparkPlanExec.scala:354)\r\n\tat org.apache.spark.sql.execution.adaptive.AdaptiveSparkPlanExec.withFinalPlanUpdate(AdaptiveSparkPlanExec.scala:382)\r\n\tat org.apache.spark.sql.execution.adaptive.AdaptiveSparkPlanExec.executeCollect(AdaptiveSparkPlanExec.scala:354)\r\n\tat org.apache.spark.sql.execution.QueryExecution$$anonfun$eagerlyExecuteCommands$1.$anonfun$applyOrElse$1(QueryExecution.scala:98)\r\n\tat org.apache.spark.sql.execution.SQLExecution$.$anonfun$withNewExecutionId$6(SQLExecution.scala:118)\r\n\tat org.apache.spark.sql.execution.SQLExecution$.withSQLConfPropagated(SQLExecution.scala:195)\r\n\tat org.apache.spark.sql.execution.SQLExecution$.$anonfun$withNewExecutionId$1(SQLExecution.scala:103)\r\n\tat org.apache.spark.sql.SparkSession.withActive(SparkSession.scala:827)\r\n\tat org.apache.spark.sql.execution.SQLExecution$.withNewExecutionId(SQLExecution.scala:65)\r\n\tat org.apache.spark.sql.execution.QueryExecution$$anonfun$eagerlyExecuteCommands$1.applyOrElse(QueryExecution.scala:98)\r\n\tat org.apache.spark.sql.execution.QueryExecution$$anonfun$eagerlyExecuteCommands$1.applyOrElse(QueryExecution.scala:94)\r\n\tat org.apache.spark.sql.catalyst.trees.TreeNode.$anonfun$transformDownWithPruning$1(TreeNode.scala:512)\r\n\tat org.apache.spark.sql.catalyst.trees.CurrentOrigin$.withOrigin(TreeNode.scala:104)\r\n\tat org.apache.spark.sql.catalyst.trees.TreeNode.transformDownWithPruning(TreeNode.scala:512)\r\n\tat org.apache.spark.sql.catalyst.plans.logical.LogicalPlan.org$apache$spark$sql$catalyst$plans$logical$AnalysisHelper$$super$transformDownWithPruning(LogicalPlan.scala:31)\r\n\tat org.apache.spark.sql.catalyst.plans.logical.AnalysisHelper.transformDownWithPruning(AnalysisHelper.scala:267)\r\n\tat org.apache.spark.sql.catalyst.plans.logical.AnalysisHelper.transformDownWithPruning$(AnalysisHelper.scala:263)\r\n\tat org.apache.spark.sql.catalyst.plans.logical.LogicalPlan.transformDownWithPruning(LogicalPlan.scala:31)\r\n\tat org.apache.spark.sql.catalyst.plans.logical.LogicalPlan.transformDownWithPruning(LogicalPlan.scala:31)\r\n\tat org.apache.spark.sql.catalyst.trees.TreeNode.transformDown(TreeNode.scala:488)\r\n\tat org.apache.spark.sql.execution.QueryExecution.eagerlyExecuteCommands(QueryExecution.scala:94)\r\n\tat org.apache.spark.sql.execution.QueryExecution.commandExecuted$lzycompute(QueryExecution.scala:81)\r\n\tat org.apache.spark.sql.execution.QueryExecution.commandExecuted(QueryExecution.scala:79)\r\n\tat org.apache.spark.sql.execution.QueryExecution.assertCommandExecuted(QueryExecution.scala:133)\r\n\tat org.apache.spark.sql.DataFrameWriter.runCommand(DataFrameWriter.scala:856)\r\n\tat org.apache.spark.sql.DataFrameWriter.saveToV1Source(DataFrameWriter.scala:387)\r\n\tat org.apache.spark.sql.DataFrameWriter.saveInternal(DataFrameWriter.scala:360)\r\n\tat org.apache.spark.sql.DataFrameWriter.save(DataFrameWriter.scala:239)\r\n\tat org.apache.spark.sql.DataFrameWriter.parquet(DataFrameWriter.scala:789)\r\n\tat java.base/jdk.internal.reflect.NativeMethodAccessorImpl.invoke0(Native Method)\r\n\tat java.base/jdk.internal.reflect.NativeMethodAccessorImpl.invoke(NativeMethodAccessorImpl.java:75)\r\n\tat java.base/jdk.internal.reflect.DelegatingMethodAccessorImpl.invoke(DelegatingMethodAccessorImpl.java:52)\r\n\tat java.base/java.lang.reflect.Method.invoke(Method.java:578)\r\n\tat py4j.reflection.MethodInvoker.invoke(MethodInvoker.java:244)\r\n\tat py4j.reflection.ReflectionEngine.invoke(ReflectionEngine.java:374)\r\n\tat py4j.Gateway.invoke(Gateway.java:282)\r\n\tat py4j.commands.AbstractCommand.invokeMethod(AbstractCommand.java:132)\r\n\tat py4j.commands.CallCommand.execute(CallCommand.java:79)\r\n\tat py4j.ClientServerConnection.waitForCommands(ClientServerConnection.java:182)\r\n\tat py4j.ClientServerConnection.run(ClientServerConnection.java:106)\r\n\tat java.base/java.lang.Thread.run(Thread.java:1623)\r\nCaused by: java.io.FileNotFoundException: java.io.FileNotFoundException: HADOOP_HOME and hadoop.home.dir are unset. -see https://wiki.apache.org/hadoop/WindowsProblems\r\n\tat org.apache.hadoop.util.Shell.fileNotFoundException(Shell.java:547)\r\n\tat org.apache.hadoop.util.Shell.getHadoopHomeDir(Shell.java:568)\r\n\tat org.apache.hadoop.util.Shell.getQualifiedBin(Shell.java:591)\r\n\tat org.apache.hadoop.util.Shell.<clinit>(Shell.java:688)\r\n\tat org.apache.hadoop.util.StringUtils.<clinit>(StringUtils.java:79)\r\n\tat org.apache.hadoop.conf.Configuration.getTimeDurationHelper(Configuration.java:1907)\r\n\tat org.apache.hadoop.conf.Configuration.getTimeDuration(Configuration.java:1867)\r\n\tat org.apache.hadoop.conf.Configuration.getTimeDuration(Configuration.java:1840)\r\n\tat org.apache.hadoop.util.ShutdownHookManager.getShutdownTimeout(ShutdownHookManager.java:183)\r\n\tat org.apache.hadoop.util.ShutdownHookManager$HookEntry.<init>(ShutdownHookManager.java:207)\r\n\tat org.apache.hadoop.util.ShutdownHookManager.addShutdownHook(ShutdownHookManager.java:304)\r\n\tat org.apache.spark.util.SparkShutdownHookManager.install(ShutdownHookManager.scala:181)\r\n\tat org.apache.spark.util.ShutdownHookManager$.shutdownHooks$lzycompute(ShutdownHookManager.scala:50)\r\n\tat org.apache.spark.util.ShutdownHookManager$.shutdownHooks(ShutdownHookManager.scala:48)\r\n\tat org.apache.spark.util.ShutdownHookManager$.addShutdownHook(ShutdownHookManager.scala:153)\r\n\tat org.apache.spark.util.ShutdownHookManager$.<init>(ShutdownHookManager.scala:58)\r\n\tat org.apache.spark.util.ShutdownHookManager$.<clinit>(ShutdownHookManager.scala)\r\n\tat org.apache.spark.util.Utils$.createTempDir(Utils.scala:341)\r\n\tat org.apache.spark.util.Utils$.createTempDir(Utils.scala:331)\r\n\tat org.apache.spark.deploy.SparkSubmit.prepareSubmitEnvironment(SparkSubmit.scala:370)\r\n\tat org.apache.spark.deploy.SparkSubmit.org$apache$spark$deploy$SparkSubmit$$runMain(SparkSubmit.scala:955)\r\n\tat org.apache.spark.deploy.SparkSubmit.doRunMain$1(SparkSubmit.scala:192)\r\n\tat org.apache.spark.deploy.SparkSubmit.submit(SparkSubmit.scala:215)\r\n\tat org.apache.spark.deploy.SparkSubmit.doSubmit(SparkSubmit.scala:91)\r\n\tat org.apache.spark.deploy.SparkSubmit$$anon$2.doSubmit(SparkSubmit.scala:1111)\r\n\tat org.apache.spark.deploy.SparkSubmit$.main(SparkSubmit.scala:1120)\r\n\tat org.apache.spark.deploy.SparkSubmit.main(SparkSubmit.scala)\r\nCaused by: java.io.FileNotFoundException: HADOOP_HOME and hadoop.home.dir are unset.\r\n\tat org.apache.hadoop.util.Shell.checkHadoopHomeInner(Shell.java:467)\r\n\tat org.apache.hadoop.util.Shell.checkHadoopHome(Shell.java:438)\r\n\tat org.apache.hadoop.util.Shell.<clinit>(Shell.java:515)\r\n\t... 23 more\r\n",
          "output_type": "error",
          "traceback": [
            "\u001b[1;31m---------------------------------------------------------------------------\u001b[0m",
            "\u001b[1;31mPy4JJavaError\u001b[0m                             Traceback (most recent call last)",
            "\u001b[1;32md:\\github\\BBVA-BDS-W1-T1\\TP_final_sprint2.ipynb Cell 201\u001b[0m line \u001b[0;36m1\n\u001b[1;32m----> <a href='vscode-notebook-cell:/d%3A/github/BBVA-BDS-W1-T1/TP_final_sprint2.ipynb#Y404sZmlsZQ%3D%3D?line=0'>1</a>\u001b[0m bbt1_75_spark\u001b[39m.\u001b[39;49mwrite\u001b[39m.\u001b[39;49mparquet(\u001b[39m'\u001b[39;49m\u001b[39m./Results_Parquet/Analysis_H/BBT1_75.parquet\u001b[39;49m\u001b[39m'\u001b[39;49m)\n",
            "File \u001b[1;32mc:\\Users\\gustavo\\AppData\\Local\\Programs\\Python\\Python310\\lib\\site-packages\\pyspark\\sql\\readwriter.py:1656\u001b[0m, in \u001b[0;36mDataFrameWriter.parquet\u001b[1;34m(self, path, mode, partitionBy, compression)\u001b[0m\n\u001b[0;32m   1654\u001b[0m     \u001b[39mself\u001b[39m\u001b[39m.\u001b[39mpartitionBy(partitionBy)\n\u001b[0;32m   1655\u001b[0m \u001b[39mself\u001b[39m\u001b[39m.\u001b[39m_set_opts(compression\u001b[39m=\u001b[39mcompression)\n\u001b[1;32m-> 1656\u001b[0m \u001b[39mself\u001b[39;49m\u001b[39m.\u001b[39;49m_jwrite\u001b[39m.\u001b[39;49mparquet(path)\n",
            "File \u001b[1;32mc:\\Users\\gustavo\\AppData\\Local\\Programs\\Python\\Python310\\lib\\site-packages\\py4j\\java_gateway.py:1322\u001b[0m, in \u001b[0;36mJavaMember.__call__\u001b[1;34m(self, *args)\u001b[0m\n\u001b[0;32m   1316\u001b[0m command \u001b[39m=\u001b[39m proto\u001b[39m.\u001b[39mCALL_COMMAND_NAME \u001b[39m+\u001b[39m\\\n\u001b[0;32m   1317\u001b[0m     \u001b[39mself\u001b[39m\u001b[39m.\u001b[39mcommand_header \u001b[39m+\u001b[39m\\\n\u001b[0;32m   1318\u001b[0m     args_command \u001b[39m+\u001b[39m\\\n\u001b[0;32m   1319\u001b[0m     proto\u001b[39m.\u001b[39mEND_COMMAND_PART\n\u001b[0;32m   1321\u001b[0m answer \u001b[39m=\u001b[39m \u001b[39mself\u001b[39m\u001b[39m.\u001b[39mgateway_client\u001b[39m.\u001b[39msend_command(command)\n\u001b[1;32m-> 1322\u001b[0m return_value \u001b[39m=\u001b[39m get_return_value(\n\u001b[0;32m   1323\u001b[0m     answer, \u001b[39mself\u001b[39;49m\u001b[39m.\u001b[39;49mgateway_client, \u001b[39mself\u001b[39;49m\u001b[39m.\u001b[39;49mtarget_id, \u001b[39mself\u001b[39;49m\u001b[39m.\u001b[39;49mname)\n\u001b[0;32m   1325\u001b[0m \u001b[39mfor\u001b[39;00m temp_arg \u001b[39min\u001b[39;00m temp_args:\n\u001b[0;32m   1326\u001b[0m     \u001b[39mif\u001b[39;00m \u001b[39mhasattr\u001b[39m(temp_arg, \u001b[39m\"\u001b[39m\u001b[39m_detach\u001b[39m\u001b[39m\"\u001b[39m):\n",
            "File \u001b[1;32mc:\\Users\\gustavo\\AppData\\Local\\Programs\\Python\\Python310\\lib\\site-packages\\pyspark\\errors\\exceptions\\captured.py:169\u001b[0m, in \u001b[0;36mcapture_sql_exception.<locals>.deco\u001b[1;34m(*a, **kw)\u001b[0m\n\u001b[0;32m    167\u001b[0m \u001b[39mdef\u001b[39;00m \u001b[39mdeco\u001b[39m(\u001b[39m*\u001b[39ma: Any, \u001b[39m*\u001b[39m\u001b[39m*\u001b[39mkw: Any) \u001b[39m-\u001b[39m\u001b[39m>\u001b[39m Any:\n\u001b[0;32m    168\u001b[0m     \u001b[39mtry\u001b[39;00m:\n\u001b[1;32m--> 169\u001b[0m         \u001b[39mreturn\u001b[39;00m f(\u001b[39m*\u001b[39ma, \u001b[39m*\u001b[39m\u001b[39m*\u001b[39mkw)\n\u001b[0;32m    170\u001b[0m     \u001b[39mexcept\u001b[39;00m Py4JJavaError \u001b[39mas\u001b[39;00m e:\n\u001b[0;32m    171\u001b[0m         converted \u001b[39m=\u001b[39m convert_exception(e\u001b[39m.\u001b[39mjava_exception)\n",
            "File \u001b[1;32mc:\\Users\\gustavo\\AppData\\Local\\Programs\\Python\\Python310\\lib\\site-packages\\py4j\\protocol.py:326\u001b[0m, in \u001b[0;36mget_return_value\u001b[1;34m(answer, gateway_client, target_id, name)\u001b[0m\n\u001b[0;32m    324\u001b[0m value \u001b[39m=\u001b[39m OUTPUT_CONVERTER[\u001b[39mtype\u001b[39m](answer[\u001b[39m2\u001b[39m:], gateway_client)\n\u001b[0;32m    325\u001b[0m \u001b[39mif\u001b[39;00m answer[\u001b[39m1\u001b[39m] \u001b[39m==\u001b[39m REFERENCE_TYPE:\n\u001b[1;32m--> 326\u001b[0m     \u001b[39mraise\u001b[39;00m Py4JJavaError(\n\u001b[0;32m    327\u001b[0m         \u001b[39m\"\u001b[39m\u001b[39mAn error occurred while calling \u001b[39m\u001b[39m{0}\u001b[39;00m\u001b[39m{1}\u001b[39;00m\u001b[39m{2}\u001b[39;00m\u001b[39m.\u001b[39m\u001b[39m\\n\u001b[39;00m\u001b[39m\"\u001b[39m\u001b[39m.\u001b[39m\n\u001b[0;32m    328\u001b[0m         \u001b[39mformat\u001b[39m(target_id, \u001b[39m\"\u001b[39m\u001b[39m.\u001b[39m\u001b[39m\"\u001b[39m, name), value)\n\u001b[0;32m    329\u001b[0m \u001b[39melse\u001b[39;00m:\n\u001b[0;32m    330\u001b[0m     \u001b[39mraise\u001b[39;00m Py4JError(\n\u001b[0;32m    331\u001b[0m         \u001b[39m\"\u001b[39m\u001b[39mAn error occurred while calling \u001b[39m\u001b[39m{0}\u001b[39;00m\u001b[39m{1}\u001b[39;00m\u001b[39m{2}\u001b[39;00m\u001b[39m. Trace:\u001b[39m\u001b[39m\\n\u001b[39;00m\u001b[39m{3}\u001b[39;00m\u001b[39m\\n\u001b[39;00m\u001b[39m\"\u001b[39m\u001b[39m.\u001b[39m\n\u001b[0;32m    332\u001b[0m         \u001b[39mformat\u001b[39m(target_id, \u001b[39m\"\u001b[39m\u001b[39m.\u001b[39m\u001b[39m\"\u001b[39m, name, value))\n",
            "\u001b[1;31mPy4JJavaError\u001b[0m: An error occurred while calling o122.parquet.\n: java.lang.RuntimeException: java.io.FileNotFoundException: java.io.FileNotFoundException: HADOOP_HOME and hadoop.home.dir are unset. -see https://wiki.apache.org/hadoop/WindowsProblems\r\n\tat org.apache.hadoop.util.Shell.getWinUtilsPath(Shell.java:735)\r\n\tat org.apache.hadoop.util.Shell.getSetPermissionCommand(Shell.java:270)\r\n\tat org.apache.hadoop.util.Shell.getSetPermissionCommand(Shell.java:286)\r\n\tat org.apache.hadoop.fs.RawLocalFileSystem.setPermission(RawLocalFileSystem.java:978)\r\n\tat org.apache.hadoop.fs.RawLocalFileSystem.mkOneDirWithMode(RawLocalFileSystem.java:660)\r\n\tat org.apache.hadoop.fs.RawLocalFileSystem.mkdirsWithOptionalPermission(RawLocalFileSystem.java:700)\r\n\tat org.apache.hadoop.fs.RawLocalFileSystem.mkdirs(RawLocalFileSystem.java:672)\r\n\tat org.apache.hadoop.fs.RawLocalFileSystem.mkdirsWithOptionalPermission(RawLocalFileSystem.java:699)\r\n\tat org.apache.hadoop.fs.RawLocalFileSystem.mkdirs(RawLocalFileSystem.java:672)\r\n\tat org.apache.hadoop.fs.RawLocalFileSystem.mkdirsWithOptionalPermission(RawLocalFileSystem.java:699)\r\n\tat org.apache.hadoop.fs.RawLocalFileSystem.mkdirs(RawLocalFileSystem.java:672)\r\n\tat org.apache.hadoop.fs.RawLocalFileSystem.mkdirsWithOptionalPermission(RawLocalFileSystem.java:699)\r\n\tat org.apache.hadoop.fs.RawLocalFileSystem.mkdirs(RawLocalFileSystem.java:672)\r\n\tat org.apache.hadoop.fs.RawLocalFileSystem.mkdirsWithOptionalPermission(RawLocalFileSystem.java:699)\r\n\tat org.apache.hadoop.fs.RawLocalFileSystem.mkdirs(RawLocalFileSystem.java:672)\r\n\tat org.apache.hadoop.fs.ChecksumFileSystem.mkdirs(ChecksumFileSystem.java:788)\r\n\tat org.apache.hadoop.mapreduce.lib.output.FileOutputCommitter.setupJob(FileOutputCommitter.java:356)\r\n\tat org.apache.spark.internal.io.HadoopMapReduceCommitProtocol.setupJob(HadoopMapReduceCommitProtocol.scala:188)\r\n\tat org.apache.spark.sql.execution.datasources.FileFormatWriter$.writeAndCommit(FileFormatWriter.scala:269)\r\n\tat org.apache.spark.sql.execution.datasources.FileFormatWriter$.executeWrite(FileFormatWriter.scala:304)\r\n\tat org.apache.spark.sql.execution.datasources.FileFormatWriter$.write(FileFormatWriter.scala:190)\r\n\tat org.apache.spark.sql.execution.datasources.InsertIntoHadoopFsRelationCommand.run(InsertIntoHadoopFsRelationCommand.scala:190)\r\n\tat org.apache.spark.sql.execution.command.DataWritingCommandExec.sideEffectResult$lzycompute(commands.scala:113)\r\n\tat org.apache.spark.sql.execution.command.DataWritingCommandExec.sideEffectResult(commands.scala:111)\r\n\tat org.apache.spark.sql.execution.command.DataWritingCommandExec.executeCollect(commands.scala:125)\r\n\tat org.apache.spark.sql.execution.adaptive.AdaptiveSparkPlanExec.$anonfun$executeCollect$1(AdaptiveSparkPlanExec.scala:354)\r\n\tat org.apache.spark.sql.execution.adaptive.AdaptiveSparkPlanExec.withFinalPlanUpdate(AdaptiveSparkPlanExec.scala:382)\r\n\tat org.apache.spark.sql.execution.adaptive.AdaptiveSparkPlanExec.executeCollect(AdaptiveSparkPlanExec.scala:354)\r\n\tat org.apache.spark.sql.execution.QueryExecution$$anonfun$eagerlyExecuteCommands$1.$anonfun$applyOrElse$1(QueryExecution.scala:98)\r\n\tat org.apache.spark.sql.execution.SQLExecution$.$anonfun$withNewExecutionId$6(SQLExecution.scala:118)\r\n\tat org.apache.spark.sql.execution.SQLExecution$.withSQLConfPropagated(SQLExecution.scala:195)\r\n\tat org.apache.spark.sql.execution.SQLExecution$.$anonfun$withNewExecutionId$1(SQLExecution.scala:103)\r\n\tat org.apache.spark.sql.SparkSession.withActive(SparkSession.scala:827)\r\n\tat org.apache.spark.sql.execution.SQLExecution$.withNewExecutionId(SQLExecution.scala:65)\r\n\tat org.apache.spark.sql.execution.QueryExecution$$anonfun$eagerlyExecuteCommands$1.applyOrElse(QueryExecution.scala:98)\r\n\tat org.apache.spark.sql.execution.QueryExecution$$anonfun$eagerlyExecuteCommands$1.applyOrElse(QueryExecution.scala:94)\r\n\tat org.apache.spark.sql.catalyst.trees.TreeNode.$anonfun$transformDownWithPruning$1(TreeNode.scala:512)\r\n\tat org.apache.spark.sql.catalyst.trees.CurrentOrigin$.withOrigin(TreeNode.scala:104)\r\n\tat org.apache.spark.sql.catalyst.trees.TreeNode.transformDownWithPruning(TreeNode.scala:512)\r\n\tat org.apache.spark.sql.catalyst.plans.logical.LogicalPlan.org$apache$spark$sql$catalyst$plans$logical$AnalysisHelper$$super$transformDownWithPruning(LogicalPlan.scala:31)\r\n\tat org.apache.spark.sql.catalyst.plans.logical.AnalysisHelper.transformDownWithPruning(AnalysisHelper.scala:267)\r\n\tat org.apache.spark.sql.catalyst.plans.logical.AnalysisHelper.transformDownWithPruning$(AnalysisHelper.scala:263)\r\n\tat org.apache.spark.sql.catalyst.plans.logical.LogicalPlan.transformDownWithPruning(LogicalPlan.scala:31)\r\n\tat org.apache.spark.sql.catalyst.plans.logical.LogicalPlan.transformDownWithPruning(LogicalPlan.scala:31)\r\n\tat org.apache.spark.sql.catalyst.trees.TreeNode.transformDown(TreeNode.scala:488)\r\n\tat org.apache.spark.sql.execution.QueryExecution.eagerlyExecuteCommands(QueryExecution.scala:94)\r\n\tat org.apache.spark.sql.execution.QueryExecution.commandExecuted$lzycompute(QueryExecution.scala:81)\r\n\tat org.apache.spark.sql.execution.QueryExecution.commandExecuted(QueryExecution.scala:79)\r\n\tat org.apache.spark.sql.execution.QueryExecution.assertCommandExecuted(QueryExecution.scala:133)\r\n\tat org.apache.spark.sql.DataFrameWriter.runCommand(DataFrameWriter.scala:856)\r\n\tat org.apache.spark.sql.DataFrameWriter.saveToV1Source(DataFrameWriter.scala:387)\r\n\tat org.apache.spark.sql.DataFrameWriter.saveInternal(DataFrameWriter.scala:360)\r\n\tat org.apache.spark.sql.DataFrameWriter.save(DataFrameWriter.scala:239)\r\n\tat org.apache.spark.sql.DataFrameWriter.parquet(DataFrameWriter.scala:789)\r\n\tat java.base/jdk.internal.reflect.NativeMethodAccessorImpl.invoke0(Native Method)\r\n\tat java.base/jdk.internal.reflect.NativeMethodAccessorImpl.invoke(NativeMethodAccessorImpl.java:75)\r\n\tat java.base/jdk.internal.reflect.DelegatingMethodAccessorImpl.invoke(DelegatingMethodAccessorImpl.java:52)\r\n\tat java.base/java.lang.reflect.Method.invoke(Method.java:578)\r\n\tat py4j.reflection.MethodInvoker.invoke(MethodInvoker.java:244)\r\n\tat py4j.reflection.ReflectionEngine.invoke(ReflectionEngine.java:374)\r\n\tat py4j.Gateway.invoke(Gateway.java:282)\r\n\tat py4j.commands.AbstractCommand.invokeMethod(AbstractCommand.java:132)\r\n\tat py4j.commands.CallCommand.execute(CallCommand.java:79)\r\n\tat py4j.ClientServerConnection.waitForCommands(ClientServerConnection.java:182)\r\n\tat py4j.ClientServerConnection.run(ClientServerConnection.java:106)\r\n\tat java.base/java.lang.Thread.run(Thread.java:1623)\r\nCaused by: java.io.FileNotFoundException: java.io.FileNotFoundException: HADOOP_HOME and hadoop.home.dir are unset. -see https://wiki.apache.org/hadoop/WindowsProblems\r\n\tat org.apache.hadoop.util.Shell.fileNotFoundException(Shell.java:547)\r\n\tat org.apache.hadoop.util.Shell.getHadoopHomeDir(Shell.java:568)\r\n\tat org.apache.hadoop.util.Shell.getQualifiedBin(Shell.java:591)\r\n\tat org.apache.hadoop.util.Shell.<clinit>(Shell.java:688)\r\n\tat org.apache.hadoop.util.StringUtils.<clinit>(StringUtils.java:79)\r\n\tat org.apache.hadoop.conf.Configuration.getTimeDurationHelper(Configuration.java:1907)\r\n\tat org.apache.hadoop.conf.Configuration.getTimeDuration(Configuration.java:1867)\r\n\tat org.apache.hadoop.conf.Configuration.getTimeDuration(Configuration.java:1840)\r\n\tat org.apache.hadoop.util.ShutdownHookManager.getShutdownTimeout(ShutdownHookManager.java:183)\r\n\tat org.apache.hadoop.util.ShutdownHookManager$HookEntry.<init>(ShutdownHookManager.java:207)\r\n\tat org.apache.hadoop.util.ShutdownHookManager.addShutdownHook(ShutdownHookManager.java:304)\r\n\tat org.apache.spark.util.SparkShutdownHookManager.install(ShutdownHookManager.scala:181)\r\n\tat org.apache.spark.util.ShutdownHookManager$.shutdownHooks$lzycompute(ShutdownHookManager.scala:50)\r\n\tat org.apache.spark.util.ShutdownHookManager$.shutdownHooks(ShutdownHookManager.scala:48)\r\n\tat org.apache.spark.util.ShutdownHookManager$.addShutdownHook(ShutdownHookManager.scala:153)\r\n\tat org.apache.spark.util.ShutdownHookManager$.<init>(ShutdownHookManager.scala:58)\r\n\tat org.apache.spark.util.ShutdownHookManager$.<clinit>(ShutdownHookManager.scala)\r\n\tat org.apache.spark.util.Utils$.createTempDir(Utils.scala:341)\r\n\tat org.apache.spark.util.Utils$.createTempDir(Utils.scala:331)\r\n\tat org.apache.spark.deploy.SparkSubmit.prepareSubmitEnvironment(SparkSubmit.scala:370)\r\n\tat org.apache.spark.deploy.SparkSubmit.org$apache$spark$deploy$SparkSubmit$$runMain(SparkSubmit.scala:955)\r\n\tat org.apache.spark.deploy.SparkSubmit.doRunMain$1(SparkSubmit.scala:192)\r\n\tat org.apache.spark.deploy.SparkSubmit.submit(SparkSubmit.scala:215)\r\n\tat org.apache.spark.deploy.SparkSubmit.doSubmit(SparkSubmit.scala:91)\r\n\tat org.apache.spark.deploy.SparkSubmit$$anon$2.doSubmit(SparkSubmit.scala:1111)\r\n\tat org.apache.spark.deploy.SparkSubmit$.main(SparkSubmit.scala:1120)\r\n\tat org.apache.spark.deploy.SparkSubmit.main(SparkSubmit.scala)\r\nCaused by: java.io.FileNotFoundException: HADOOP_HOME and hadoop.home.dir are unset.\r\n\tat org.apache.hadoop.util.Shell.checkHadoopHomeInner(Shell.java:467)\r\n\tat org.apache.hadoop.util.Shell.checkHadoopHome(Shell.java:438)\r\n\tat org.apache.hadoop.util.Shell.<clinit>(Shell.java:515)\r\n\t... 23 more\r\n"
          ]
        }
      ],
      "source": [
        "bbt1_75_spark.write.parquet('./Results_Parquet/Analysis_H/BBT1_75.parquet')"
      ]
    },
    {
      "cell_type": "markdown",
      "metadata": {},
      "source": [
        "## BBT1-86 - Carga de datos, generacion de archivos .parquet de análisis I"
      ]
    },
    {
      "cell_type": "markdown",
      "metadata": {},
      "source": [
        "Descripción\n",
        "\n",
        "- COMO: desarrollador\n",
        "- QUIERO: Guardar las agregaciones generadas en un archivo parquet dentro de un directorio llamado Results_Parquets\\Analysis_I, XXXXXXX.\n",
        "- PARA: Dar acceso a los datos a otros interesados."
      ]
    },
    {
      "cell_type": "code",
      "execution_count": null,
      "metadata": {},
      "outputs": [],
      "source": [
        "bbt1_76_spark.write.parquet('./Results_Parquet/Analysis_I/BBT1_76.parquet')"
      ]
    },
    {
      "cell_type": "markdown",
      "metadata": {},
      "source": [
        "## BBT1-87 - Carga de datos, generacion de archivos .parquet de análisis J"
      ]
    },
    {
      "cell_type": "markdown",
      "metadata": {},
      "source": [
        "Descripción\n",
        "\n",
        "- COMO: desarrollador\n",
        "- QUIERO: Guardar las agregaciones generadas en un archivo parquet dentro de un directorio llamado Results_Parquets\\Analysis_J, XXXXXXX.\n",
        "- PARA: Dar acceso a los datos a otros interesados."
      ]
    },
    {
      "cell_type": "code",
      "execution_count": null,
      "metadata": {},
      "outputs": [],
      "source": [
        "bbt1_77_spark.write.parquet('./Results_Parquet/Analysis_J/BBT1_77.parquet')"
      ]
    }
  ],
  "metadata": {
    "colab": {
      "provenance": []
    },
    "kernelspec": {
      "display_name": "Python 3",
      "name": "python3"
    },
    "language_info": {
      "codemirror_mode": {
        "name": "ipython",
        "version": 3
      },
      "file_extension": ".py",
      "mimetype": "text/x-python",
      "name": "python",
      "nbconvert_exporter": "python",
      "pygments_lexer": "ipython3",
      "version": "3.10.11"
    }
  },
  "nbformat": 4,
  "nbformat_minor": 0
}
