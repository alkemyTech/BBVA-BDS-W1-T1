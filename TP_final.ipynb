{
  "cells": [
    {
      "cell_type": "markdown",
      "metadata": {
        "id": "D5swiFXGtQNi"
      },
      "source": [
        "# Proyecto X"
      ]
    },
    {
      "cell_type": "markdown",
      "metadata": {
        "id": "FJFs_T5xvlBv"
      },
      "source": [
        "## Lectura de los datos y exploración de los encabezados de los archivos."
      ]
    },
    {
      "cell_type": "code",
      "execution_count": 1,
      "metadata": {
        "id": "dDoeFBjQv4pR"
      },
      "outputs": [],
      "source": [
        "import pandas as pd"
      ]
    },
    {
      "cell_type": "code",
      "execution_count": 2,
      "metadata": {
        "id": "4oAl0GY5vRLk"
      },
      "outputs": [],
      "source": [
        "geolocation = pd.read_csv('./content/Copia de ecommerce_geolocation_dataset.csv')\n",
        "customers = pd.read_csv('./content/Copia de ecommerce_customers_dataset.csv')\n",
        "order_items = pd.read_csv('./content/Copia de ecommerce_order_items_dataset.csv')\n",
        "order_payments = pd.read_csv('./content/Copia de ecommerce_order_payments_dataset.csv')\n",
        "order_reviews = pd.read_csv('./content/Copia de ecommerce_order_reviews_dataset.csv')\n",
        "orders = pd.read_csv('./content/Copia de ecommerce_orders_dataset.csv')\n",
        "products = pd.read_csv('./content/Copia de ecommerce_products_dataset.csv')\n",
        "sellers = pd.read_csv('./content/Copia de ecommerce_sellers_dataset.csv')\n",
        "category_names = pd.read_csv('./content/Copia de product_category_name_translation.csv')"
      ]
    },
    {
      "cell_type": "markdown",
      "metadata": {
        "id": "7efjGfOGtVP0"
      },
      "source": [
        "## BBT1-14 Creación de la base de datos y carga de datos"
      ]
    },
    {
      "cell_type": "markdown",
      "metadata": {
        "id": "nTo6jE-ccKhT"
      },
      "source": [
        "**Descripción**\n",
        "Crear una conexión a la base de datos de SQLite llamada ecommerce.db\n",
        "Importar los archivos y Guardar los DataFrames en la base de datos como tablas:\n",
        "\n",
        "ecommerce_customers_dataset.csv\n",
        "\n",
        "ecommerce_order_items_dataset.csv\n",
        "\n",
        "ecommerce_order_payments_dataset.csv\n",
        "\n",
        "ecommerce_order_reviews_dataset.csv\n",
        "\n",
        "ecommerce_orders_dataset.csv\n",
        "\n",
        "ecommerce_products_dataset.csv\n",
        "\n",
        "ecommerce_sellers_dataset.csv\n",
        "\n",
        "product_category_name_translation.csv\n"
      ]
    },
    {
      "cell_type": "code",
      "execution_count": 3,
      "metadata": {
        "colab": {
          "base_uri": "https://localhost:8080/",
          "height": 227
        },
        "id": "6cGRlxuEs7PZ",
        "outputId": "ffa4aeb9-bb45-42e6-e7b9-93b6b008c232"
      },
      "outputs": [],
      "source": [
        "import sqlite3 as sql\n",
        "\n",
        "\n",
        "#Conexion a la base de datos\n",
        "conn = sql.connect('ecommerce.db')\n",
        "cursor = conn.cursor()\n",
        "\n",
        "#script de creacion de tablas\n",
        "script = '''\n",
        "CREATE TABLE products (\n",
        "    product_id TEXT PRIMARY KEY,\n",
        "    product_category_name TEXT,\n",
        "    product_name_lenght REAL,\n",
        "    product_description_lenght REAL,\n",
        "    product_photos_qty REAL,\n",
        "    product_weight_g REAL,\n",
        "    product_length_cm REAL,\n",
        "    product_height_cm REAL,\n",
        "    product_width_cm REAL\n",
        ");\n",
        "CREATE TABLE order_items (\n",
        "    order_id TEXT,\n",
        "    order_item_id INTEGER,\n",
        "    product_id TEXT,\n",
        "    seller_id TEXT,\n",
        "    shipping_limit_date TEXT,\n",
        "    price REAL,\n",
        "    freight_value REAL,\n",
        "    PRIMARY KEY (order_id, order_item_id)\n",
        ");\n",
        "CREATE TABLE order_payments (\n",
        "    order_id TEXT,\n",
        "    payment_sequential INTEGER,\n",
        "    payment_type TEXT,\n",
        "    payment_installments INTEGER,\n",
        "    payment_value REAL,\n",
        "    PRIMARY KEY(order_id,payment_sequential)\n",
        ");\n",
        "CREATE TABLE orders (\n",
        "    order_id TEXT PRIMARY KEY,\n",
        "    customer_id TEXT,\n",
        "    order_status TEXT,\n",
        "    order_purchase_timestamp TEXT,\n",
        "    order_approved_at TEXT,\n",
        "    order_delivered_carrier_date TEXT,\n",
        "    order_delivered_customer_date TEXT,\n",
        "    order_estimated_delivery_date TEXT\n",
        ");\n",
        "CREATE TABLE customers (\n",
        "    customer_id TEXT PRIMARY KEY,\n",
        "    customer_unique_id TEXT,\n",
        "    customer_zip_code_prefix INTEGER,\n",
        "    customer_city TEXT,\n",
        "    customer_state TEXT\n",
        ");\n",
        "CREATE TABLE geolocation(\n",
        "  geolocation_zip_code_prefix INTEGER PRIMARY KEY,\n",
        "  geolocation_lat REAL,\n",
        "  geolocation_lng REAL,\n",
        "  geolocation_city TEXT,\n",
        "  geolocation_state TEXT\n",
        ");\n",
        "CREATE TABLE order_review(\n",
        "  review_id TEXT,\n",
        "  order_id TEXT,\n",
        "  review_score INT,\n",
        "  review_comment_title TEXT,\n",
        "  review_comment_message TEXT,\n",
        "  review_creation_date TEXT,\n",
        "  review_answer_timestamp TEXT,\n",
        "  PRIMARY KEY(order_id,review_id)\n",
        ");\n",
        "CREATE TABLE sellers(\n",
        "  seller_id TEXT PRIMARY KEY,\n",
        "  seller_zip_code_prefix INTEGER,\n",
        "  seller_city TEXT,\n",
        "  seller_state TEXT\n",
        ");\n",
        "CREATE TABLE category(\n",
        "  product_category_name TEXT,\n",
        "  product_category_name_english TEXT\n",
        ");\n",
        "'''\n",
        "# cursor.executescript(script)\n",
        "conn.commit()"
      ]
    },
    {
      "cell_type": "markdown",
      "metadata": {
        "id": "3TIQciNRu1Bh"
      },
      "source": [
        "Inserción de los datos de los csv a la base de datos"
      ]
    },
    {
      "cell_type": "code",
      "execution_count": null,
      "metadata": {
        "colab": {
          "base_uri": "https://localhost:8080/"
        },
        "id": "zFrpa5i6t2i9",
        "outputId": "dfe46655-673f-43a0-9879-4d5b36815791"
      },
      "outputs": [],
      "source": [
        "geolocation.to_sql('geolocation',conn, index=True, if_exists='replace')\n",
        "customers.to_sql('customers',conn, index=True, if_exists='replace')\n",
        "order_items.to_sql('order_items',conn, index=True, if_exists = 'replace')\n",
        "order_payments.to_sql('order_payments',conn, index=True, if_exists = 'replace')\n",
        "order_reviews.to_sql('order_review',conn, index=True, if_exists = 'replace')\n",
        "orders.to_sql('orders',conn, index=True, if_exists = 'replace')\n",
        "products.to_sql('products',conn, index=True, if_exists = 'replace')\n",
        "sellers.to_sql('sellers',conn, index=True, if_exists = 'replace')\n",
        "category_names.to_sql('category',conn, index=True, if_exists = 'replace')"
      ]
    },
    {
      "cell_type": "markdown",
      "metadata": {
        "id": "aQGRXVEHbVDQ"
      },
      "source": [
        "Creación de tabla geolocation2 con latitudes y longitudes promedio\n",
        "\n",
        "Con el fin de evitar la duplicidad de datos usando el criterio de promediar latitudes y longitudes agrupando por código postal."
      ]
    },
    {
      "cell_type": "code",
      "execution_count": null,
      "metadata": {
        "colab": {
          "base_uri": "https://localhost:8080/"
        },
        "id": "8SDyPzgJbVDQ",
        "outputId": "3d8315b5-f034-495b-b264-d746b1ba7204"
      },
      "outputs": [],
      "source": [
        "query_geo = '''\n",
        "  SELECT geolocation_zip_code_prefix, AVG(geolocation_lat) as promedio_latitud, AVG(geolocation_lng) as promedio_longitud, geolocation_city, geolocation_state\n",
        "  FROM geolocation\n",
        "  GROUP BY geolocation_zip_code_prefix\n",
        "  ORDER BY geolocation_zip_code_prefix;\n",
        "  '''\n",
        "geo_2 = pd.read_sql_query(query_geo, conn)\n",
        "print(geo_2.head(5))\n",
        "\n",
        "geo_2.set_index('geolocation_zip_code_prefix', inplace=True)"
      ]
    },
    {
      "cell_type": "code",
      "execution_count": null,
      "metadata": {
        "colab": {
          "base_uri": "https://localhost:8080/"
        },
        "id": "eLs4E_j5bVDQ",
        "outputId": "0376d29a-790d-4358-c6e5-b8e987e6f73e"
      },
      "outputs": [],
      "source": [
        "geo_2.to_sql('geolocation2', conn, index=True, if_exists='replace')"
      ]
    },
    {
      "cell_type": "markdown",
      "metadata": {
        "id": "Hv9PVZwUtwde"
      },
      "source": [
        "## BBT1-18 - Extracción de datos desde las tablas customers y orders"
      ]
    },
    {
      "cell_type": "markdown",
      "metadata": {
        "id": "Fq3S6qHJdLlz"
      },
      "source": [
        "**Descripción**\n",
        "\n",
        "COMO: desarrollador\n",
        "\n",
        "QUIERO: Crear un DataFrame que contenga el JOIN de la tabla customers y tabla orders.\n",
        "\n",
        "PARA: Extraer los datos de clientes con sus ordenes"
      ]
    },
    {
      "cell_type": "code",
      "execution_count": null,
      "metadata": {
        "colab": {
          "base_uri": "https://localhost:8080/",
          "height": 244
        },
        "id": "6gCpAFKatzq7",
        "outputId": "f990fa89-b13d-48bc-a925-d389e20fcb00"
      },
      "outputs": [],
      "source": [
        "query_1 = '''\n",
        "SELECT c.*, o.*\n",
        "FROM customers AS c\n",
        "JOIN orders as o ON c.customer_id = o.customer_id;\n",
        "\n",
        "'''\n",
        "df_customers_orders = pd.read_sql_query(query_1, conn)\n",
        "\n",
        "df_customers_orders.head(5)"
      ]
    },
    {
      "cell_type": "markdown",
      "metadata": {
        "id": "n1b92XBOux2X"
      },
      "source": [
        "## BBT1-19  Extracción de datos desde las tablas orders y orders_items"
      ]
    },
    {
      "cell_type": "markdown",
      "metadata": {
        "id": "YitgAeSrdP8c"
      },
      "source": [
        "**Descripción**\n",
        "\n",
        "COMO: desarrollador\n",
        "\n",
        "QUIERO: Crear un DataFrame que contenga el JOIN de la tabla orders y tabla orders_items.\n",
        "\n",
        "PARA: Extraer los datos de ordenes con sus items"
      ]
    },
    {
      "cell_type": "code",
      "execution_count": null,
      "metadata": {
        "colab": {
          "base_uri": "https://localhost:8080/",
          "height": 226
        },
        "id": "uRF-SpxZuzZu",
        "outputId": "c11ec5fa-6b5e-4c8b-d50c-dad51df6acbe"
      },
      "outputs": [],
      "source": [
        "query_2 = '''\n",
        "SELECT o.*, oi.*\n",
        "FROM orders AS o\n",
        "JOIN order_items AS oi ON o.order_id = oi.order_id;\n",
        "'''\n",
        "df_orders_ordersitems = pd.read_sql_query(query_2,conn)\n",
        "df_orders_ordersitems.head(5)"
      ]
    },
    {
      "cell_type": "markdown",
      "metadata": {
        "id": "0YVOJBQBvBED"
      },
      "source": [
        "## BBT1-20  Extracción de datos desde las tablas orders_items y sellers"
      ]
    },
    {
      "cell_type": "markdown",
      "metadata": {
        "id": "8S16rQPGdQnF"
      },
      "source": [
        "**Descripción**\n",
        "\n",
        "COMO: desarrollador\n",
        "\n",
        "QUIERO: Crear un DataFrame que contenga el JOIN de la tabla orders_items y tabla sellers.\n",
        "\n",
        "PARA: Extraer los datos de items con por sellers"
      ]
    },
    {
      "cell_type": "code",
      "execution_count": null,
      "metadata": {
        "colab": {
          "base_uri": "https://localhost:8080/",
          "height": 261
        },
        "id": "wYTi10fovD7-",
        "outputId": "ea7ec9bb-55ad-4421-9f19-d4652d0a49d1"
      },
      "outputs": [],
      "source": [
        "query_3 = '''\n",
        "SELECT oi.*, s.*\n",
        "FROM order_items AS oi\n",
        "JOIN sellers AS s ON oi.seller_id = s.seller_id;\n",
        "'''\n",
        "df_orderitems_sellers = pd.read_sql_query(query_3, conn)\n",
        "df_orderitems_sellers.head(5)"
      ]
    },
    {
      "cell_type": "markdown",
      "metadata": {
        "id": "-S-ueznfbVDQ"
      },
      "source": [
        "## BBT1-21  Extracción de datos desde las tablas orders_items y products"
      ]
    },
    {
      "cell_type": "markdown",
      "metadata": {
        "id": "CFGQV7GtdRrd"
      },
      "source": [
        "**Descripción**\n",
        "COMO: desarrollador\n",
        "\n",
        "QUIERO: Crear un DataFrame que contenga el JOIN de la tabla orders_items y tabla products.\n",
        "\n",
        "PARA: Extraer los datos de items con por categorias"
      ]
    },
    {
      "cell_type": "code",
      "execution_count": null,
      "metadata": {
        "colab": {
          "base_uri": "https://localhost:8080/",
          "height": 226
        },
        "id": "OglLgcg_bVDQ",
        "outputId": "32539b34-98a0-474d-8f20-be8e16c7534f"
      },
      "outputs": [],
      "source": [
        "BBT1_21_query = '''\n",
        "SELECT oi.*, p.*\n",
        "FROM order_items oi\n",
        "JOIN products p ON oi.product_id = p.product_id\n",
        "ORDER BY p.product_category_name ASC;\n",
        "'''\n",
        "\n",
        "BBT1_21 = pd.read_sql_query(BBT1_21_query, conn)\n",
        "BBT1_21.head(5)"
      ]
    },
    {
      "cell_type": "markdown",
      "metadata": {
        "id": "xdZNIKZ4bVDQ"
      },
      "source": [
        "## BBT1-22 Extracción de datos desde las tablas order y payments"
      ]
    },
    {
      "cell_type": "markdown",
      "metadata": {
        "id": "N_POyPtOdSHt"
      },
      "source": [
        "**Descripción**\n",
        "COMO: desarrollador\n",
        "\n",
        "QUIERO: Crear un DataFrame que contenga el JOIN de la tabla orders y tabla payments.  \n",
        "\n",
        "PARA: Extraer los datos de órdenes con sus pagos asociados"
      ]
    },
    {
      "cell_type": "code",
      "execution_count": null,
      "metadata": {
        "colab": {
          "base_uri": "https://localhost:8080/",
          "height": 226
        },
        "id": "UYKXHwS3bVDQ",
        "outputId": "c4509467-d222-4924-916a-e74605524a91"
      },
      "outputs": [],
      "source": [
        "BBT1_22_query = '''\n",
        "  SELECT o.*, op.*\n",
        "  FROM orders o\n",
        "  JOIN order_payments op ON o.order_id = op.order_id;\n",
        "'''\n",
        "\n",
        "BBT1_22 = pd.read_sql_query(BBT1_22_query, conn)\n",
        "BBT1_22.head(5)"
      ]
    },
    {
      "cell_type": "markdown",
      "metadata": {
        "id": "QnwHqr2sbVDR"
      },
      "source": [
        "## BBT1-23 Extracción de datos desde las tablas customers y geolocation2"
      ]
    },
    {
      "cell_type": "markdown",
      "metadata": {
        "id": "oNW-UfsudStk"
      },
      "source": [
        "**Descripción**\n",
        "COMO: desarrollador\n",
        "\n",
        "QUIERO: Crear un DataFrame que contenga el JOIN de la tabla customers y tabla geolocation.\n",
        "  \n",
        "PARA: Extraer los datos de customers con sus latitudes y longitudes"
      ]
    },
    {
      "cell_type": "code",
      "execution_count": null,
      "metadata": {
        "colab": {
          "base_uri": "https://localhost:8080/",
          "height": 206
        },
        "id": "xorFmsD2bVDR",
        "outputId": "04ae5dc0-681d-4826-80e0-1880b4772c05"
      },
      "outputs": [],
      "source": [
        "query_bbt1_23 = '''\n",
        "  SELECT customer_unique_id, geolocation_zip_code_prefix, promedio_latitud, promedio_longitud\n",
        "  FROM customers c\n",
        "  JOIN geolocation2 g\n",
        "  ON g.geolocation_zip_code_prefix = c.customer_zip_code_prefix\n",
        "  GROUP BY customer_unique_id\n",
        "  ORDER BY customer_zip_code_prefix\n",
        "  '''\n",
        "cust_geo = pd.read_sql_query(query_bbt1_23, conn)\n",
        "cust_geo.head(5)"
      ]
    },
    {
      "cell_type": "markdown",
      "metadata": {
        "id": "IqwOPFS5bVDR"
      },
      "source": [
        "## BBT1-24 Extracción de datos desde las tablas orders y geolocation2"
      ]
    },
    {
      "cell_type": "markdown",
      "metadata": {
        "id": "5lPNNg2_dTUX"
      },
      "source": [
        "**Descripción**\n",
        "COMO: desarrollador\n",
        "\n",
        "QUIERO: Crear un DataFrame que contenga el JOIN de la tabla orders y tabla geolocation.\n",
        "  \n",
        "PARA: Extraer los datos de órdenes con sus latitudes y longitudes"
      ]
    },
    {
      "cell_type": "code",
      "execution_count": null,
      "metadata": {
        "colab": {
          "base_uri": "https://localhost:8080/",
          "height": 206
        },
        "id": "F8J5JPuTbVDR",
        "outputId": "5a882a0a-62cf-4484-ea25-97c7c4d6f999"
      },
      "outputs": [],
      "source": [
        "query_bbt1_24 = '''\n",
        "  SELECT order_id, geolocation_zip_code_prefix, promedio_latitud, promedio_longitud\n",
        "  FROM customers c\n",
        "  JOIN orders o\n",
        "  ON c.customer_id = o.customer_id\n",
        "  JOIN geolocation2 g\n",
        "  ON g.geolocation_zip_code_prefix = c.customer_zip_code_prefix\n",
        "  ORDER BY geolocation_zip_code_prefix\n",
        "  LIMIT 10\n",
        "  '''\n",
        "orders_geo = pd.read_sql_query(query_bbt1_24, conn)\n",
        "orders_geo.head(5)"
      ]
    },
    {
      "cell_type": "markdown",
      "metadata": {
        "id": "4_L9g8b5bVDR"
      },
      "source": [
        "## BBT1-25 Extracción de datos desde las tablas orders y reviews"
      ]
    },
    {
      "cell_type": "markdown",
      "metadata": {
        "id": "DXuSIl7EdT2W"
      },
      "source": [
        "**Descripción**\n",
        "\n",
        "COMO: desarrollador\n",
        "\n",
        "QUIERO: Crear un DataFrame que contenga el JOIN de la tabla orders y tabla reviews.\n",
        "\n",
        "PARA: Extraer los datos de órdenes con sus scores"
      ]
    },
    {
      "cell_type": "code",
      "execution_count": null,
      "metadata": {
        "colab": {
          "base_uri": "https://localhost:8080/",
          "height": 206
        },
        "id": "7ky1OLItbVDR",
        "outputId": "871fdf7e-fa7a-4845-f619-3334ed6718c9"
      },
      "outputs": [],
      "source": [
        "query_bbt1_25 = '''\n",
        "  SELECT o.order_id, review_score\n",
        "  FROM orders o\n",
        "  JOIN order_review r\n",
        "  ON o.order_id = r.order_id\n",
        "  ORDER BY review_score\n",
        "  LIMIT 10\n",
        "  '''\n",
        "orders_score = pd.read_sql_query(query_bbt1_25, conn)\n",
        "orders_score.head(5)"
      ]
    },
    {
      "cell_type": "markdown",
      "metadata": {
        "id": "TNTPS8JfbVDR"
      },
      "source": [
        "## BT1-26 Extracción de datos desde las tablas orders_items, products y products_category_translation"
      ]
    },
    {
      "cell_type": "markdown",
      "metadata": {
        "id": "9NRcaUNydUaD"
      },
      "source": [
        "**Descripción**\n",
        "\n",
        "COMO: desarrollador\n",
        "\n",
        "QUIERO: Crear un DataFrame que contenga el JOIN de la tabla orders_items, tabla products y product_category_name_translation.  \n",
        "\n",
        "PARA: Extraer los datos de items con por categorias pero con su nombre traducido en inglés"
      ]
    },
    {
      "cell_type": "code",
      "execution_count": null,
      "metadata": {
        "colab": {
          "base_uri": "https://localhost:8080/",
          "height": 206
        },
        "id": "QmX_bVP8bVDR",
        "outputId": "07899261-8610-4e97-ddf7-e4d5cff7e476"
      },
      "outputs": [],
      "source": [
        "bt1_26_query = '''\n",
        "    SELECT oi.*, c.product_category_name_english AS product_name\n",
        "    FROM order_items AS oi\n",
        "    INNER JOIN products AS p\n",
        "        ON oi.product_id = p.product_id\n",
        "    INNER JOIN category AS c\n",
        "        ON p.product_category_name = c.product_category_name_english\n",
        ";\n",
        "'''\n",
        "BT1_26 = pd.read_sql_query(bt1_26_query, conn)\n",
        "BT1_26.head(5)"
      ]
    },
    {
      "cell_type": "markdown",
      "metadata": {
        "id": "HRacMdAXbVDR"
      },
      "source": [
        "## BT1_27  Extracción de datos desde las tablas orders, payments y customers"
      ]
    },
    {
      "cell_type": "markdown",
      "metadata": {
        "id": "cp9QbtlZdU_t"
      },
      "source": [
        "**Descripción**\n",
        "\n",
        "COMO: desarrollador\n",
        "\n",
        "QUIERO: Crear un DataFrame que contenga el JOIN de la tabla orders, tabla payments y customers.\n",
        "  \n",
        "PARA: Extraer los datos de clientes con sus métodos de pagos por ciudad."
      ]
    },
    {
      "cell_type": "code",
      "execution_count": null,
      "metadata": {
        "colab": {
          "base_uri": "https://localhost:8080/",
          "height": 206
        },
        "id": "iGQLqnuCbVDR",
        "outputId": "57525a6c-a58c-45e6-86b2-933442187197"
      },
      "outputs": [],
      "source": [
        "bt1_27_query = '''\n",
        "    SELECT c.customer_unique_id, op.payment_type, c.customer_city, c.customer_state\n",
        "    FROM customers AS c\n",
        "    INNER JOIN orders AS o\n",
        "        ON c.customer_id = o.customer_id\n",
        "    INNER JOIN order_payments AS op\n",
        "        ON o.order_id = op.order_id\n",
        "\n",
        ";\n",
        "'''\n",
        "BT1_27 = pd.read_sql_query(bt1_27_query, conn)\n",
        "\n",
        "BT1_27.groupby(['payment_type'])[['customer_unique_id']].count().sort_values(by='customer_unique_id', ascending=False)\n",
        "\n",
        "BT1_27.head(5)"
      ]
    },
    {
      "cell_type": "markdown",
      "metadata": {},
      "source": [
        "## BBT1-35 - Filtrar datos, reducir volumen de orders y reviews"
      ]
    },
    {
      "cell_type": "code",
      "execution_count": 17,
      "metadata": {},
      "outputs": [
        {
          "data": {
            "text/html": [
              "<div>\n",
              "<style scoped>\n",
              "    .dataframe tbody tr th:only-of-type {\n",
              "        vertical-align: middle;\n",
              "    }\n",
              "\n",
              "    .dataframe tbody tr th {\n",
              "        vertical-align: top;\n",
              "    }\n",
              "\n",
              "    .dataframe thead th {\n",
              "        text-align: right;\n",
              "    }\n",
              "</style>\n",
              "<table border=\"1\" class=\"dataframe\">\n",
              "  <thead>\n",
              "    <tr style=\"text-align: right;\">\n",
              "      <th></th>\n",
              "      <th>order_id</th>\n",
              "      <th>order_item_id</th>\n",
              "      <th>product_id</th>\n",
              "      <th>seller_id</th>\n",
              "      <th>shipping_limit_date</th>\n",
              "      <th>total_price</th>\n",
              "      <th>freight_value</th>\n",
              "    </tr>\n",
              "  </thead>\n",
              "  <tbody>\n",
              "    <tr>\n",
              "      <th>0</th>\n",
              "      <td>00010242fe8c5a6d1ba2dd792cb16214</td>\n",
              "      <td>1</td>\n",
              "      <td>4244733e06e7ecb4970a6e2683c13e61</td>\n",
              "      <td>48436dade18ac8b2bce089ec2a041202</td>\n",
              "      <td>2017-09-19 09:45:35</td>\n",
              "      <td>58.90</td>\n",
              "      <td>13.29</td>\n",
              "    </tr>\n",
              "    <tr>\n",
              "      <th>1</th>\n",
              "      <td>00018f77f2f0320c557190d7a144bdd3</td>\n",
              "      <td>1</td>\n",
              "      <td>e5f2d52b802189ee658865ca93d83a8f</td>\n",
              "      <td>dd7ddc04e1b6c2c614352b383efe2d36</td>\n",
              "      <td>2017-05-03 11:05:13</td>\n",
              "      <td>239.90</td>\n",
              "      <td>19.93</td>\n",
              "    </tr>\n",
              "    <tr>\n",
              "      <th>2</th>\n",
              "      <td>000229ec398224ef6ca0657da4fc703e</td>\n",
              "      <td>1</td>\n",
              "      <td>c777355d18b72b67abbeef9df44fd0fd</td>\n",
              "      <td>5b51032eddd242adc84c38acab88f23d</td>\n",
              "      <td>2018-01-18 14:48:30</td>\n",
              "      <td>199.00</td>\n",
              "      <td>17.87</td>\n",
              "    </tr>\n",
              "    <tr>\n",
              "      <th>3</th>\n",
              "      <td>00024acbcdf0a6daa1e931b038114c75</td>\n",
              "      <td>1</td>\n",
              "      <td>7634da152a4610f1595efa32f14722fc</td>\n",
              "      <td>9d7a1d34a5052409006425275ba1c2b4</td>\n",
              "      <td>2018-08-15 10:10:18</td>\n",
              "      <td>12.99</td>\n",
              "      <td>12.79</td>\n",
              "    </tr>\n",
              "    <tr>\n",
              "      <th>4</th>\n",
              "      <td>00042b26cf59d7ce69dfabb4e55b4fd9</td>\n",
              "      <td>1</td>\n",
              "      <td>ac6c3623068f30de03045865e4e10089</td>\n",
              "      <td>df560393f3a51e74553ab94004ba5c87</td>\n",
              "      <td>2017-02-13 13:57:51</td>\n",
              "      <td>199.90</td>\n",
              "      <td>18.14</td>\n",
              "    </tr>\n",
              "  </tbody>\n",
              "</table>\n",
              "</div>"
            ],
            "text/plain": [
              "                           order_id  order_item_id  \\\n",
              "0  00010242fe8c5a6d1ba2dd792cb16214              1   \n",
              "1  00018f77f2f0320c557190d7a144bdd3              1   \n",
              "2  000229ec398224ef6ca0657da4fc703e              1   \n",
              "3  00024acbcdf0a6daa1e931b038114c75              1   \n",
              "4  00042b26cf59d7ce69dfabb4e55b4fd9              1   \n",
              "\n",
              "                         product_id                         seller_id  \\\n",
              "0  4244733e06e7ecb4970a6e2683c13e61  48436dade18ac8b2bce089ec2a041202   \n",
              "1  e5f2d52b802189ee658865ca93d83a8f  dd7ddc04e1b6c2c614352b383efe2d36   \n",
              "2  c777355d18b72b67abbeef9df44fd0fd  5b51032eddd242adc84c38acab88f23d   \n",
              "3  7634da152a4610f1595efa32f14722fc  9d7a1d34a5052409006425275ba1c2b4   \n",
              "4  ac6c3623068f30de03045865e4e10089  df560393f3a51e74553ab94004ba5c87   \n",
              "\n",
              "   shipping_limit_date  total_price  freight_value  \n",
              "0  2017-09-19 09:45:35        58.90          13.29  \n",
              "1  2017-05-03 11:05:13       239.90          19.93  \n",
              "2  2018-01-18 14:48:30       199.00          17.87  \n",
              "3  2018-08-15 10:10:18        12.99          12.79  \n",
              "4  2017-02-13 13:57:51       199.90          18.14  "
            ]
          },
          "execution_count": 17,
          "metadata": {},
          "output_type": "execute_result"
        }
      ],
      "source": [
        "query_bbt1_35 = '''\n",
        "    SELECT\n",
        "        o.order_id,\n",
        "        o.order_item_id,\n",
        "        o.product_id,\n",
        "        o.seller_id,\n",
        "        o.shipping_limit_date,\n",
        "        SUM(o.price) AS total_price,\n",
        "        o.freight_value        \n",
        "    FROM order_items AS o\n",
        "    INNER JOIN order_review AS r\n",
        "        ON o.order_id = r.order_id\n",
        "    WHERE r.review_score >= 3\n",
        "    GROUP BY o.order_id\n",
        ";\n",
        "'''\n",
        "# bt1_35 = pd.read_sql_query(query_bt1_35, conn).reset_index(drop=True)\n",
        "bbt1_35 = pd.read_sql_query(query_bbt1_35, conn)\n",
        "bbt1_35.head(5)"
      ]
    },
    {
      "cell_type": "markdown",
      "metadata": {
        "id": "JM3hDo0_bVDS"
      },
      "source": [
        "## BBT1-36 - Filtrar datos, reducir volumen de orders_items, products y products_category_translation"
      ]
    },
    {
      "cell_type": "markdown",
      "metadata": {},
      "source": [
        "- COMO: desarrollador\n",
        "- QUIERO: Filtrar el DataFrame de las órdenes con mayor o igual importe al promedio de venta y resguardarlos junto con la información de la categoría traducida.   \n",
        "- PARA: Reducir el volumen de datos y trabajar solo con las órdenes de mayor ingreso al promedio y entender cuales son las categorías de los productos.."
      ]
    },
    {
      "cell_type": "code",
      "execution_count": 21,
      "metadata": {},
      "outputs": [
        {
          "data": {
            "text/html": [
              "<div>\n",
              "<style scoped>\n",
              "    .dataframe tbody tr th:only-of-type {\n",
              "        vertical-align: middle;\n",
              "    }\n",
              "\n",
              "    .dataframe tbody tr th {\n",
              "        vertical-align: top;\n",
              "    }\n",
              "\n",
              "    .dataframe thead th {\n",
              "        text-align: right;\n",
              "    }\n",
              "</style>\n",
              "<table border=\"1\" class=\"dataframe\">\n",
              "  <thead>\n",
              "    <tr style=\"text-align: right;\">\n",
              "      <th></th>\n",
              "      <th>order_id</th>\n",
              "      <th>product_category_name_english</th>\n",
              "      <th>price</th>\n",
              "    </tr>\n",
              "  </thead>\n",
              "  <tbody>\n",
              "    <tr>\n",
              "      <th>0</th>\n",
              "      <td>0812eb902a67711a1cb742b3cdaa65ae</td>\n",
              "      <td>housewares</td>\n",
              "      <td>6735.0</td>\n",
              "    </tr>\n",
              "    <tr>\n",
              "      <th>1</th>\n",
              "      <td>fefacc66af859508bf1a7934eab1e97f</td>\n",
              "      <td>computers</td>\n",
              "      <td>6729.0</td>\n",
              "    </tr>\n",
              "    <tr>\n",
              "      <th>2</th>\n",
              "      <td>f5136e38d1a14a4dbd87dff67da82701</td>\n",
              "      <td>art</td>\n",
              "      <td>6499.0</td>\n",
              "    </tr>\n",
              "    <tr>\n",
              "      <th>3</th>\n",
              "      <td>a96610ab360d42a2e5335a3998b4718a</td>\n",
              "      <td>small_appliances</td>\n",
              "      <td>4799.0</td>\n",
              "    </tr>\n",
              "    <tr>\n",
              "      <th>4</th>\n",
              "      <td>199af31afc78c699f0dbf71fb178d4d4</td>\n",
              "      <td>small_appliances</td>\n",
              "      <td>4690.0</td>\n",
              "    </tr>\n",
              "  </tbody>\n",
              "</table>\n",
              "</div>"
            ],
            "text/plain": [
              "                           order_id product_category_name_english   price\n",
              "0  0812eb902a67711a1cb742b3cdaa65ae                    housewares  6735.0\n",
              "1  fefacc66af859508bf1a7934eab1e97f                     computers  6729.0\n",
              "2  f5136e38d1a14a4dbd87dff67da82701                           art  6499.0\n",
              "3  a96610ab360d42a2e5335a3998b4718a              small_appliances  4799.0\n",
              "4  199af31afc78c699f0dbf71fb178d4d4              small_appliances  4690.0"
            ]
          },
          "execution_count": 21,
          "metadata": {},
          "output_type": "execute_result"
        }
      ],
      "source": [
        "query_bbt1_36 = '''\n",
        "    SELECT oi.order_id, c.product_category_name_english, oi.price\n",
        "    FROM order_items AS oi\n",
        "    INNER JOIN products AS p\n",
        "        ON oi.product_id = p.product_id\n",
        "    INNER JOIN category AS c\n",
        "        ON p.product_category_name = c.product_category_name\n",
        "    WHERE oi.price > (SELECT avg(price) FROM order_items)\n",
        "    GROUP BY oi.order_id\n",
        "    ORDER BY oi.price DESC\n",
        ";\n",
        "'''\n",
        "bbt1_36 = pd.read_sql_query(query_bbt1_36, conn)\n",
        "bbt1_36.head(5)"
      ]
    },
    {
      "cell_type": "markdown",
      "metadata": {},
      "source": [
        "Descripción\n",
        "\n",
        "- COMO: desarrollador\n",
        "- QUIERO: Filtrar el DataFrame de órdenes para resguardar las revisiones con puntaje mayor o igual a 3 y mayor importe de la órden.   \n",
        "- PARA: Reducir el volumen de datos y trabajar solo con las revisiones de las órdenes con mayor ingreso."
      ]
    },
    {
      "cell_type": "markdown",
      "metadata": {},
      "source": [
        "## BBT1-37 - Filtrar datos, reducir volumen de orders, payments y customers"
      ]
    },
    {
      "cell_type": "markdown",
      "metadata": {},
      "source": [
        "Descripción\n",
        "\n",
        "COMO: desarrollador\n",
        "QUIERO: Filtrar el DataFrame de órdenes tomando sólo aquellos compras realizadas tarjeta de crédito y cuyo importe sea mayor que el promedio de los pagos resguardando la información requerida junto con las ciudades de los clientes.   \n",
        "PARA: Reducir el volumen de datos y trabajar solo con aquelas órdenes que tienen un monto representativo con tarjeta de crédito y entender de que ciudades corresponden."
      ]
    },
    {
      "cell_type": "code",
      "execution_count": 23,
      "metadata": {},
      "outputs": [
        {
          "data": {
            "text/html": [
              "<div>\n",
              "<style scoped>\n",
              "    .dataframe tbody tr th:only-of-type {\n",
              "        vertical-align: middle;\n",
              "    }\n",
              "\n",
              "    .dataframe tbody tr th {\n",
              "        vertical-align: top;\n",
              "    }\n",
              "\n",
              "    .dataframe thead th {\n",
              "        text-align: right;\n",
              "    }\n",
              "</style>\n",
              "<table border=\"1\" class=\"dataframe\">\n",
              "  <thead>\n",
              "    <tr style=\"text-align: right;\">\n",
              "      <th></th>\n",
              "      <th>index</th>\n",
              "      <th>order_id</th>\n",
              "      <th>customer_id</th>\n",
              "      <th>order_status</th>\n",
              "      <th>order_purchase_timestamp</th>\n",
              "      <th>order_approved_at</th>\n",
              "      <th>order_delivered_carrier_date</th>\n",
              "      <th>order_delivered_customer_date</th>\n",
              "      <th>order_estimated_delivery_date</th>\n",
              "      <th>payment_type</th>\n",
              "      <th>customer_city</th>\n",
              "      <th>customer_state</th>\n",
              "    </tr>\n",
              "  </thead>\n",
              "  <tbody>\n",
              "    <tr>\n",
              "      <th>0</th>\n",
              "      <td>90161</td>\n",
              "      <td>1f78449c87a54faf9e96e88ba1491fa9</td>\n",
              "      <td>68c9dafdf193586c290b19c71541357a</td>\n",
              "      <td>delivered</td>\n",
              "      <td>2018-07-22 14:07:35</td>\n",
              "      <td>2018-07-23 11:32:08</td>\n",
              "      <td>2018-07-23 12:58:00</td>\n",
              "      <td>2018-07-28 15:03:04</td>\n",
              "      <td>2018-08-14 00:00:00</td>\n",
              "      <td>credit_card</td>\n",
              "      <td>campina grande</td>\n",
              "      <td>PB</td>\n",
              "    </tr>\n",
              "    <tr>\n",
              "      <th>1</th>\n",
              "      <td>42220</td>\n",
              "      <td>d88e0d5fa41661ce03cf6cf336527646</td>\n",
              "      <td>fe0c5425832ac53c3be5cb4aea25b60f</td>\n",
              "      <td>delivered</td>\n",
              "      <td>2017-11-28 15:53:29</td>\n",
              "      <td>2017-11-28 16:17:30</td>\n",
              "      <td>2017-12-12 23:22:02</td>\n",
              "      <td>2017-12-19 20:49:52</td>\n",
              "      <td>2017-12-18 00:00:00</td>\n",
              "      <td>credit_card</td>\n",
              "      <td>marilia</td>\n",
              "      <td>SP</td>\n",
              "    </tr>\n",
              "    <tr>\n",
              "      <th>2</th>\n",
              "      <td>16686</td>\n",
              "      <td>12e5cfe0e4716b59afb0e0f4a3bd6570</td>\n",
              "      <td>041cd6848abb3d3ca45e83dc971488fd</td>\n",
              "      <td>delivered</td>\n",
              "      <td>2018-03-22 09:46:07</td>\n",
              "      <td>2018-03-23 09:48:20</td>\n",
              "      <td>2018-03-28 15:32:48</td>\n",
              "      <td>2018-04-26 16:38:53</td>\n",
              "      <td>2018-04-12 00:00:00</td>\n",
              "      <td>credit_card</td>\n",
              "      <td>cachoeiro de itapemirim</td>\n",
              "      <td>ES</td>\n",
              "    </tr>\n",
              "    <tr>\n",
              "      <th>3</th>\n",
              "      <td>56184</td>\n",
              "      <td>8ac09207f415d55acff302df7d6a895c</td>\n",
              "      <td>2d8bf5f6862af587af2e0b085a04bf0d</td>\n",
              "      <td>delivered</td>\n",
              "      <td>2018-01-29 14:50:01</td>\n",
              "      <td>2018-01-29 15:18:37</td>\n",
              "      <td>2018-01-30 17:36:57</td>\n",
              "      <td>2018-02-01 15:43:08</td>\n",
              "      <td>2018-02-14 00:00:00</td>\n",
              "      <td>credit_card</td>\n",
              "      <td>diadema</td>\n",
              "      <td>SP</td>\n",
              "    </tr>\n",
              "    <tr>\n",
              "      <th>4</th>\n",
              "      <td>76165</td>\n",
              "      <td>4214cda550ece8ee66441f459dc33a8c</td>\n",
              "      <td>be4ecdb7c9401fd98ed01456634cfcb2</td>\n",
              "      <td>delivered</td>\n",
              "      <td>2017-03-21 17:39:19</td>\n",
              "      <td>2017-03-21 17:39:19</td>\n",
              "      <td>2017-03-22 10:26:53</td>\n",
              "      <td>2017-03-30 15:05:20</td>\n",
              "      <td>2017-04-25 00:00:00</td>\n",
              "      <td>credit_card</td>\n",
              "      <td>pacaja</td>\n",
              "      <td>PA</td>\n",
              "    </tr>\n",
              "  </tbody>\n",
              "</table>\n",
              "</div>"
            ],
            "text/plain": [
              "   index                          order_id                       customer_id  \\\n",
              "0  90161  1f78449c87a54faf9e96e88ba1491fa9  68c9dafdf193586c290b19c71541357a   \n",
              "1  42220  d88e0d5fa41661ce03cf6cf336527646  fe0c5425832ac53c3be5cb4aea25b60f   \n",
              "2  16686  12e5cfe0e4716b59afb0e0f4a3bd6570  041cd6848abb3d3ca45e83dc971488fd   \n",
              "3  56184  8ac09207f415d55acff302df7d6a895c  2d8bf5f6862af587af2e0b085a04bf0d   \n",
              "4  76165  4214cda550ece8ee66441f459dc33a8c  be4ecdb7c9401fd98ed01456634cfcb2   \n",
              "\n",
              "  order_status order_purchase_timestamp    order_approved_at  \\\n",
              "0    delivered      2018-07-22 14:07:35  2018-07-23 11:32:08   \n",
              "1    delivered      2017-11-28 15:53:29  2017-11-28 16:17:30   \n",
              "2    delivered      2018-03-22 09:46:07  2018-03-23 09:48:20   \n",
              "3    delivered      2018-01-29 14:50:01  2018-01-29 15:18:37   \n",
              "4    delivered      2017-03-21 17:39:19  2017-03-21 17:39:19   \n",
              "\n",
              "  order_delivered_carrier_date order_delivered_customer_date  \\\n",
              "0          2018-07-23 12:58:00           2018-07-28 15:03:04   \n",
              "1          2017-12-12 23:22:02           2017-12-19 20:49:52   \n",
              "2          2018-03-28 15:32:48           2018-04-26 16:38:53   \n",
              "3          2018-01-30 17:36:57           2018-02-01 15:43:08   \n",
              "4          2017-03-22 10:26:53           2017-03-30 15:05:20   \n",
              "\n",
              "  order_estimated_delivery_date payment_type            customer_city  \\\n",
              "0           2018-08-14 00:00:00  credit_card           campina grande   \n",
              "1           2017-12-18 00:00:00  credit_card                  marilia   \n",
              "2           2018-04-12 00:00:00  credit_card  cachoeiro de itapemirim   \n",
              "3           2018-02-14 00:00:00  credit_card                  diadema   \n",
              "4           2017-04-25 00:00:00  credit_card                   pacaja   \n",
              "\n",
              "  customer_state  \n",
              "0             PB  \n",
              "1             SP  \n",
              "2             ES  \n",
              "3             SP  \n",
              "4             PA  "
            ]
          },
          "execution_count": 23,
          "metadata": {},
          "output_type": "execute_result"
        }
      ],
      "source": [
        "query_bbt1_37 = '''\n",
        "    SELECT\n",
        "        o.*,\n",
        "        op.payment_type,\n",
        "        c.customer_city,\n",
        "        c.customer_state\n",
        "    FROM orders as o\n",
        "    INNER JOIN order_payments AS op\n",
        "        ON o.order_id = op.order_id\n",
        "    INNER JOIN customers AS c\n",
        "        ON o.customer_id = c.customer_id\n",
        "    WHERE op.payment_type = 'credit_card'\n",
        "        AND op.payment_value > (SELECT avg(payment_value) FROM order_payments)\n",
        ";\n",
        "'''\n",
        "bbt1_37 = pd.read_sql_query(query_bbt1_37, conn)\n",
        "bbt1_37.head(5)"
      ]
    },
    {
      "cell_type": "markdown",
      "metadata": {},
      "source": [
        "## BBT1-45 - Carga de datos, generacion de archivos .csv de orders y reviews"
      ]
    },
    {
      "cell_type": "markdown",
      "metadata": {},
      "source": [
        "Descripción\n",
        "\n",
        "- COMO: desarrollador\n",
        "- QUIERO: Generar archivos .csv a partir del Dataframe generado de orders y reviews. Los archivos deben cumplir los siguientes requerimientos: \n",
        "   - Contener cabecera. \n",
        "   - Separador “,”. \n",
        "   - Ser guardados en un directorio llamado Results\\Analysis_H.\n",
        "- PARA: Resguardar los datos enriquecidos, según requerimiento."
      ]
    },
    {
      "cell_type": "code",
      "execution_count": null,
      "metadata": {},
      "outputs": [],
      "source": [
        "'''\n",
        "Formato para hacer las consultas\n",
        "\n",
        "BT1_NN.to_sql('Query_BT1_NN', conn, index=True, if_exists='replace')\n",
        "'''"
      ]
    },
    {
      "cell_type": "code",
      "execution_count": 20,
      "metadata": {},
      "outputs": [
        {
          "name": "stdout",
          "output_type": "stream",
          "text": [
            "Archivo CSV guardado en: Results/Analysis_H/BBT1-35.csv\n"
          ]
        }
      ],
      "source": [
        "#Nombre del archivo.csv\n",
        "csv_filename = 'BBT1-35.csv'\n",
        "\n",
        "# Ruta completa del archivo CSV\n",
        "csv_path = 'Results/Analysis_H/' + csv_filename\n",
        "\n",
        "bbt1_35.to_csv(path_or_buf=csv_path, index=False, sep=',', header=True)\n",
        "\n",
        "print(f'Archivo CSV guardado en: {csv_path}')"
      ]
    },
    {
      "cell_type": "markdown",
      "metadata": {},
      "source": [
        "## BBT1-46 - Carga de datos, generacion de archivos .csv de orders_items, products y products_category_translation"
      ]
    },
    {
      "cell_type": "markdown",
      "metadata": {},
      "source": [
        "Descripción\n",
        "\n",
        "- COMO: desarrollador\n",
        "- QUIERO: Generar archivos .csv a partir del Dataframe generado de orders_items, products y products_category_translation. Los archivos deben cumplir los siguientes requerimientos: \n",
        "    - Contener cabecera. \n",
        "    - Separador “,”. \n",
        "    - Ser guardados en un directorio llamado Results\\Analysis_I.\n",
        "PARA: Resguardar los datos enriquecidos, según requerimiento."
      ]
    },
    {
      "cell_type": "code",
      "execution_count": 25,
      "metadata": {},
      "outputs": [
        {
          "name": "stdout",
          "output_type": "stream",
          "text": [
            "Archivo CSV guardado en: Results/Analysis_I/BBT1-36.csv\n"
          ]
        }
      ],
      "source": [
        "#Nombre del archivo.csv\n",
        "csv_filename = 'BBT1-36.csv'\n",
        "\n",
        "# Ruta completa del archivo CSV\n",
        "csv_path = 'Results/Analysis_I/' + csv_filename\n",
        "\n",
        "bbt1_36.to_csv(path_or_buf=csv_path, index=False, sep=',', header=True)\n",
        "\n",
        "print(f'Archivo CSV guardado en: {csv_path}')"
      ]
    },
    {
      "cell_type": "markdown",
      "metadata": {},
      "source": [
        "## BBT1-47 - Carga de datos, generacion de archivos .csv de orders, payments y customers"
      ]
    },
    {
      "cell_type": "markdown",
      "metadata": {},
      "source": [
        "Descripción\n",
        "\n",
        "- COMO: desarrollador\n",
        "- QUIERO: Generar archivos .csv a partir del Dataframe generado de orders, payments y customers. Los archivos deben cumplir los siguientes requerimientos: \n",
        "    - Contener cabecera. \n",
        "    - Separador “,”. \n",
        "    - Ser guardados en un directorio llamado Results\\Analysis_J.\n",
        "- PARA: Resguardar los datos enriquecidos, según requerimiento."
      ]
    },
    {
      "cell_type": "code",
      "execution_count": 26,
      "metadata": {},
      "outputs": [
        {
          "name": "stdout",
          "output_type": "stream",
          "text": [
            "Archivo CSV guardado en: Results/Analysis_J/BBT1-37.csv\n"
          ]
        }
      ],
      "source": [
        "#Nombre del archivo.csv\n",
        "csv_filename = 'BBT1-37.csv'\n",
        "\n",
        "# Ruta completa del archivo CSV\n",
        "csv_path = 'Results/Analysis_J/' + csv_filename\n",
        "\n",
        "bbt1_37.to_csv(path_or_buf=csv_path, index=False, sep=',', header=True)\n",
        "\n",
        "print(f'Archivo CSV guardado en: {csv_path}')"
      ]
    },
    {
      "cell_type": "markdown",
      "metadata": {},
      "source": [
        "## BBT1-55 - Extraccion de datos desde .csv, análisis H"
      ]
    },
    {
      "cell_type": "markdown",
      "metadata": {},
      "source": [
        "Descripción\n",
        "\n",
        "- COMO: desarrollador\n",
        "- QUIERO: Cargar los datos del análisis H generados en un DataFrame.\n",
        "- PARA: Poder analizar el conjunto de datos."
      ]
    },
    {
      "cell_type": "code",
      "execution_count": 7,
      "metadata": {},
      "outputs": [],
      "source": [
        "# !pip install pyspark\n",
        "from pyspark.sql import SparkSession\n",
        "spark = SparkSession.builder.getOrCreate()"
      ]
    },
    {
      "cell_type": "code",
      "execution_count": 8,
      "metadata": {},
      "outputs": [
        {
          "name": "stdout",
          "output_type": "stream",
          "text": [
            "+--------------------+-------------+--------------------+--------------------+-------------------+-----------+-------------+\n",
            "|            order_id|order_item_id|          product_id|           seller_id|shipping_limit_date|total_price|freight_value|\n",
            "+--------------------+-------------+--------------------+--------------------+-------------------+-----------+-------------+\n",
            "|00010242fe8c5a6d1...|            1|4244733e06e7ecb49...|48436dade18ac8b2b...|2017-09-19 09:45:35|       58.9|        13.29|\n",
            "|00018f77f2f0320c5...|            1|e5f2d52b802189ee6...|dd7ddc04e1b6c2c61...|2017-05-03 11:05:13|      239.9|        19.93|\n",
            "|000229ec398224ef6...|            1|c777355d18b72b67a...|5b51032eddd242adc...|2018-01-18 14:48:30|      199.0|        17.87|\n",
            "|00024acbcdf0a6daa...|            1|7634da152a4610f15...|9d7a1d34a50524090...|2018-08-15 10:10:18|      12.99|        12.79|\n",
            "|00042b26cf59d7ce6...|            1|ac6c3623068f30de0...|df560393f3a51e745...|2017-02-13 13:57:51|      199.9|        18.14|\n",
            "+--------------------+-------------+--------------------+--------------------+-------------------+-----------+-------------+\n",
            "only showing top 5 rows\n",
            "\n"
          ]
        }
      ],
      "source": [
        "path_bbt1_35 = './Results/Analysis_H/BBT1-35.csv'\n",
        "bbt1_35_spark = spark.read.load(path_bbt1_35, format='csv', sep=',', inferSchema='true', header='true')\n",
        "bbt1_35_spark.show(5)"
      ]
    },
    {
      "cell_type": "markdown",
      "metadata": {},
      "source": [
        "## BBT1-56 - Extraccion de datos desde .csv, análisis I"
      ]
    },
    {
      "cell_type": "markdown",
      "metadata": {},
      "source": [
        "Descripción\n",
        "\n",
        "- COMO: desarrollador\n",
        "- QUIERO: Cargar los datos del análisis I generados en un DataFrame.\n",
        "- PARA: Poder analizar el conjunto de datos."
      ]
    },
    {
      "cell_type": "code",
      "execution_count": 9,
      "metadata": {},
      "outputs": [
        {
          "name": "stdout",
          "output_type": "stream",
          "text": [
            "+--------------------+-----------------------------+------+\n",
            "|            order_id|product_category_name_english| price|\n",
            "+--------------------+-----------------------------+------+\n",
            "|0812eb902a67711a1...|                   housewares|6735.0|\n",
            "|fefacc66af859508b...|                    computers|6729.0|\n",
            "|f5136e38d1a14a4db...|                          art|6499.0|\n",
            "|a96610ab360d42a2e...|             small_appliances|4799.0|\n",
            "|199af31afc78c699f...|             small_appliances|4690.0|\n",
            "+--------------------+-----------------------------+------+\n",
            "only showing top 5 rows\n",
            "\n"
          ]
        }
      ],
      "source": [
        "path_bbt1_36 = './Results/Analysis_I/BBT1-36.csv'\n",
        "bbt1_36_spark = spark.read.load(path_bbt1_36, format='csv', sep=',', inferSchema='true', header='true')\n",
        "bbt1_36_spark.show(5)"
      ]
    },
    {
      "cell_type": "markdown",
      "metadata": {},
      "source": [
        "## BBT1-57 - Extraccion de datos desde .csv, análisis J"
      ]
    },
    {
      "cell_type": "markdown",
      "metadata": {},
      "source": [
        "Descripción\n",
        "\n",
        "- COMO: desarrollador\n",
        "- QUIERO: Cargar los datos del análisis J generados en un DataFrame.\n",
        "- PARA: Poder analizar el conjunto de datos."
      ]
    },
    {
      "cell_type": "code",
      "execution_count": 10,
      "metadata": {},
      "outputs": [
        {
          "name": "stdout",
          "output_type": "stream",
          "text": [
            "+-----+--------------------+--------------------+------------+------------------------+-------------------+----------------------------+-----------------------------+-----------------------------+------------+--------------------+--------------+\n",
            "|index|            order_id|         customer_id|order_status|order_purchase_timestamp|  order_approved_at|order_delivered_carrier_date|order_delivered_customer_date|order_estimated_delivery_date|payment_type|       customer_city|customer_state|\n",
            "+-----+--------------------+--------------------+------------+------------------------+-------------------+----------------------------+-----------------------------+-----------------------------+------------+--------------------+--------------+\n",
            "|90161|1f78449c87a54faf9...|68c9dafdf193586c2...|   delivered|     2018-07-22 14:07:35|2018-07-23 11:32:08|         2018-07-23 12:58:00|          2018-07-28 15:03:04|          2018-08-14 00:00:00| credit_card|      campina grande|            PB|\n",
            "|42220|d88e0d5fa41661ce0...|fe0c5425832ac53c3...|   delivered|     2017-11-28 15:53:29|2017-11-28 16:17:30|         2017-12-12 23:22:02|          2017-12-19 20:49:52|          2017-12-18 00:00:00| credit_card|             marilia|            SP|\n",
            "|16686|12e5cfe0e4716b59a...|041cd6848abb3d3ca...|   delivered|     2018-03-22 09:46:07|2018-03-23 09:48:20|         2018-03-28 15:32:48|          2018-04-26 16:38:53|          2018-04-12 00:00:00| credit_card|cachoeiro de itap...|            ES|\n",
            "|56184|8ac09207f415d55ac...|2d8bf5f6862af587a...|   delivered|     2018-01-29 14:50:01|2018-01-29 15:18:37|         2018-01-30 17:36:57|          2018-02-01 15:43:08|          2018-02-14 00:00:00| credit_card|             diadema|            SP|\n",
            "|76165|4214cda550ece8ee6...|be4ecdb7c9401fd98...|   delivered|     2017-03-21 17:39:19|2017-03-21 17:39:19|         2017-03-22 10:26:53|          2017-03-30 15:05:20|          2017-04-25 00:00:00| credit_card|              pacaja|            PA|\n",
            "+-----+--------------------+--------------------+------------+------------------------+-------------------+----------------------------+-----------------------------+-----------------------------+------------+--------------------+--------------+\n",
            "only showing top 5 rows\n",
            "\n"
          ]
        }
      ],
      "source": [
        "path_bbt1_37 = './Results/Analysis_J/BBT1-37.csv'\n",
        "bbt1_37_spark = spark.read.load(path_bbt1_37, format='csv', sep=',', inferSchema='true', header='true')\n",
        "bbt1_37_spark.show(5)"
      ]
    }
  ],
  "metadata": {
    "colab": {
      "provenance": []
    },
    "kernelspec": {
      "display_name": "Python 3",
      "name": "python3"
    },
    "language_info": {
      "codemirror_mode": {
        "name": "ipython",
        "version": 3
      },
      "file_extension": ".py",
      "mimetype": "text/x-python",
      "name": "python",
      "nbconvert_exporter": "python",
      "pygments_lexer": "ipython3",
      "version": "3.10.11"
    }
  },
  "nbformat": 4,
  "nbformat_minor": 0
}
