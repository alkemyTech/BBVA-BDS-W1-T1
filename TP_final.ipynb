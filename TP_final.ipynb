{

  "nbformat": 4,
  "nbformat_minor": 0,
  "metadata": {
    "colab": {
      "provenance": []
    },
    "kernelspec": {
      "name": "python3",
      "display_name": "Python 3"
    },
    "language_info": {
      "name": "python"
    }
  },
  "cells": [
    {
      "cell_type": "markdown",
      "source": [
        "# Proyecto X"
      ],
      "metadata": {
        "id": "D5swiFXGtQNi"
      }
    },
    {
      "cell_type": "markdown",
      "source": [
        "## Lectura de los datos y exploración de los encabezados de los archivos."
      ],
      "metadata": {
        "id": "FJFs_T5xvlBv"
      }
    },
    {
      "cell_type": "code",
      "source": [
        "import pandas as pd"
      ],
      "metadata": {
        "id": "dDoeFBjQv4pR"
      },
      "execution_count": 1,
      "outputs": []
    },
    {
      "cell_type": "code",
      "source": [
        "geolocation = pd.read_csv('/content/Copia de ecommerce_geolocation_dataset.csv')\n",
        "customers = pd.read_csv('/content/Copia de ecommerce_customers_dataset.csv')\n",
        "order_items = pd.read_csv('/content/Copia de ecommerce_order_items_dataset.csv')\n",
        "order_payments = pd.read_csv('/content/Copia de ecommerce_order_payments_dataset.csv')\n",
        "order_reviews = pd.read_csv('/content/Copia de ecommerce_order_reviews_dataset.csv')\n",
        "orders = pd.read_csv('/content/Copia de ecommerce_orders_dataset.csv')\n",
        "products = pd.read_csv('/content/Copia de ecommerce_products_dataset.csv')\n",
        "sellers = pd.read_csv('/content/Copia de ecommerce_sellers_dataset.csv')\n",
        "category_names = pd.read_csv('/content/Copia de product_category_name_translation.csv')"
      ],
      "metadata": {
        "id": "4oAl0GY5vRLk"
      },
      "execution_count": 2,
      "outputs": []
    },
    {
      "cell_type": "code",
      "source": [
        "print(geolocation.columns.tolist())"
      ],

  "cells": [
    {
      "cell_type": "markdown",
      "metadata": {
        "id": "D5swiFXGtQNi"
      },
      "source": [
        "# Proyecto X"
      ]
    },
    {
      "cell_type": "markdown",
      "metadata": {
        "id": "FJFs_T5xvlBv"
      },
      "source": [
        "## Lectura de los datos y exploración de los encabezados de los archivos."
      ]
    },
    {
      "cell_type": "code",
      "execution_count": 1,
      "metadata": {
        "id": "dDoeFBjQv4pR"
      },
      "outputs": [],
      "source": [
        "import pandas as pd"
      ]
    },
    {
      "cell_type": "code",
      "execution_count": 3,
      "metadata": {
        "id": "4oAl0GY5vRLk"
      },
      "outputs": [],
      "source": [
        "geolocation = pd.read_csv('./content/Copia de ecommerce_geolocation_dataset.csv')\n",
        "customers = pd.read_csv('./content/Copia de ecommerce_customers_dataset.csv')\n",
        "order_items = pd.read_csv('./content/Copia de ecommerce_order_items_dataset.csv')\n",
        "order_payments = pd.read_csv('./content/Copia de ecommerce_order_payments_dataset.csv')\n",
        "order_reviews = pd.read_csv('./content/Copia de ecommerce_order_reviews_dataset.csv')\n",
        "orders = pd.read_csv('./content/Copia de ecommerce_orders_dataset.csv')\n",
        "products = pd.read_csv('./content/Copia de ecommerce_products_dataset.csv')\n",
        "sellers = pd.read_csv('./content/Copia de ecommerce_sellers_dataset.csv')\n",
        "category_names = pd.read_csv('./content/Copia de product_category_name_translation.csv')"
      ]
    },
    {
      "cell_type": "code",
      "execution_count": null,
      "metadata": {
        "id": "O5Ul3gg_wtu5"
      },
      "outputs": [],
      "source": [
        "#Establesco los índices\n",
        "#customers_df.set_index('customer_id', inplace=True)\n",
        "# orders_df.set_index('order_id',inplace=True)\n",
        "# order_items_df.set_index(['order_id', 'order_item_id'], inplace=True)\n",
        "# products_df.set_index('product_id',inplace=True)\n",
        "# order_payments_df.set_index('order_id', 'payment_sequential',inplace=True)"
      ]
    },
    {
      "cell_type": "code",
      "execution_count": null,
      "metadata": {
        "colab": {
          "base_uri": "https://localhost:8080/"
        },
        "id": "UdCM6FD9x34w",

        "outputId": "45b9f2f1-3954-4054-8fce-0317ac3db47a"
      },
      "execution_count": null,
      "outputs": [
        {
          "output_type": "stream",
          "name": "stdout",

        "outputId": "382c8b96-cd4f-4a02-ae7e-5713f0c36ba6"
      },
      "outputs": [
        {
          "name": "stdout",
          "output_type": "stream",
          "text": [
            "['geolocation_zip_code_prefix', 'geolocation_lat', 'geolocation_lng', 'geolocation_city', 'geolocation_state']\n"
          ]
        }

      ],
      "source": [
        "print(geolocation.columns.tolist())"
      ]
    },
    {
      "cell_type": "code",

      "source": [
        "print(customers.columns.tolist())"
      ],

      "execution_count": null,
      "metadata": {
        "colab": {
          "base_uri": "https://localhost:8080/"
        },
        "id": "WH_g1J_0yLeq",

        "outputId": "43e65084-5ff5-429d-e9be-2d929f65289c"
      },
      "execution_count": null,
      "outputs": [
        {
          "output_type": "stream",
          "name": "stdout",

        "outputId": "3e334e89-6c03-43ad-8d16-bd8691a4aaa3"
      },
      "outputs": [
        {
          "name": "stdout",
          "output_type": "stream",
          "text": [
            "['customer_id', 'customer_unique_id', 'customer_zip_code_prefix', 'customer_city', 'customer_state']\n"
          ]
        }

      ],
      "source": [
        "print(customers.columns.tolist())"

      ]
    },
    {
      "cell_type": "code",

      "source": [
        "print(order_items.columns.tolist())"
      ],

      "execution_count": null,

      "metadata": {
        "colab": {
          "base_uri": "https://localhost:8080/"
        },
        "id": "AfB6m4G6yT3f",

        "outputId": "43c8f0de-844a-44ad-db5b-ce6678b6fb5b"
      },
      "execution_count": null,
      "outputs": [
        {
          "output_type": "stream",
          "name": "stdout",

        "outputId": "d7c962ba-4fe7-4433-94d9-8151c78e4d9e"
      },
      "outputs": [
        {
          "name": "stdout",
          "output_type": "stream",

          "text": [
            "['order_id', 'order_item_id', 'product_id', 'seller_id', 'shipping_limit_date', 'price', 'freight_value']\n"
          ]
        }

      ],
      "source": [
        "print(order_items.columns.tolist())"

      ]
    },
    {
      "cell_type": "code",

      "source": [
        "print(order_payments.columns.tolist())"
      ],

      "execution_count": null,

      "metadata": {
        "colab": {
          "base_uri": "https://localhost:8080/"
        },
        "id": "auQmphxMybOM",

        "outputId": "08c853bd-5b0f-419e-b70d-5d62ea8a1692"
      },
      "execution_count": null,
      "outputs": [
        {
          "output_type": "stream",
          "name": "stdout",

        "outputId": "490fa866-d483-46c8-de7f-e4652fae130e"
      },
      "outputs": [
        {
          "name": "stdout",
          "output_type": "stream",

          "text": [
            "['order_id', 'payment_sequential', 'payment_type', 'payment_installments', 'payment_value']\n"
          ]
        }

      ],
      "source": [
        "print(order_payments.columns.tolist())"

      ]
    },
    {
      "cell_type": "code",

      "source": [
        "print(order_reviews.columns.tolist())"
      ],

      "execution_count": null,

      "metadata": {
        "colab": {
          "base_uri": "https://localhost:8080/"
        },
        "id": "4AdZtJXJybLe",

        "outputId": "337da9d7-1686-42c6-bf6e-58685f07efd6"
      },
      "execution_count": null,
      "outputs": [
        {
          "output_type": "stream",
          "name": "stdout",

        "outputId": "2e8304ca-3ae1-431d-d86c-900399ab88c0"
      },
      "outputs": [
        {
          "name": "stdout",
          "output_type": "stream",

          "text": [
            "['review_id', 'order_id', 'review_score', 'review_comment_title', 'review_comment_message', 'review_creation_date', 'review_answer_timestamp']\n"
          ]
        }

      ],
      "source": [
        "print(order_reviews.columns.tolist())"

      ]
    },
    {
      "cell_type": "code",

      "source": [
        "print(orders.columns.tolist())"
      ],

      "execution_count": null,

      "metadata": {
        "colab": {
          "base_uri": "https://localhost:8080/"
        },
        "id": "vRoIAUpMybIu",

        "outputId": "725a43b4-10bf-4a79-992c-d95118a45676"
      },
      "execution_count": null,
      "outputs": [
        {
          "output_type": "stream",
          "name": "stdout",

        "outputId": "ab717e17-46bc-4808-e2ac-b44a4485a525"
      },
      "outputs": [
        {
          "name": "stdout",
          "output_type": "stream",

          "text": [
            "['order_id', 'customer_id', 'order_status', 'order_purchase_timestamp', 'order_approved_at', 'order_delivered_carrier_date', 'order_delivered_customer_date', 'order_estimated_delivery_date']\n"
          ]
        }

      ],
      "source": [
        "print(orders.columns.tolist())"

      ]
    },
    {
      "cell_type": "code",

      "source": [
        "print(products.columns.tolist())"
      ],

      "execution_count": null,

      "metadata": {
        "colab": {
          "base_uri": "https://localhost:8080/"
        },
        "id": "5mlHmDfVybFS",

        "outputId": "03c00d8b-37ec-4445-a7c7-dd4640d0bf39"
      },
      "execution_count": null,
      "outputs": [
        {
          "output_type": "stream",
          "name": "stdout",

        "outputId": "e6a935d6-d7a6-498f-af71-295413680ba7"
      },
      "outputs": [
        {
          "name": "stdout",
          "output_type": "stream",

          "text": [
            "['product_id', 'product_category_name', 'product_name_lenght', 'product_description_lenght', 'product_photos_qty', 'product_weight_g', 'product_length_cm', 'product_height_cm', 'product_width_cm']\n"
          ]
        }

      ],
      "source": [
        "print(products.columns.tolist())"

      ]
    },
    {
      "cell_type": "code",

      "source": [
        "print(sellers.columns.tolist())"
      ],

      "execution_count": null,

      "metadata": {
        "colab": {
          "base_uri": "https://localhost:8080/"
        },
        "id": "w78VArU-ybBr",

        "outputId": "b246c125-fbfa-4a2c-ae04-16a502bb88cb"
      },
      "execution_count": null,
      "outputs": [
        {
          "output_type": "stream",
          "name": "stdout",

        "outputId": "70dc15f9-b92c-4190-87b2-b9ca3090bb7b"
      },
      "outputs": [
        {
          "name": "stdout",
          "output_type": "stream",

          "text": [
            "['seller_id', 'seller_zip_code_prefix', 'seller_city', 'seller_state']\n"
          ]
        }

      ],
      "source": [
        "print(sellers.columns.tolist())"

      ]
    },
    {
      "cell_type": "code",

      "source": [
        "print(category_names.columns.tolist())"
      ],

      "execution_count": null,

      "metadata": {
        "colab": {
          "base_uri": "https://localhost:8080/"
        },
        "id": "RrZuNnQHya-K",

        "outputId": "e231274f-2530-443c-f4e8-f2674589c77e"
      },
      "execution_count": null,
      "outputs": [
        {
          "output_type": "stream",
          "name": "stdout",

        "outputId": "9c3cfa1b-6746-40b7-9f3b-525ee588115e"
      },
      "outputs": [
        {
          "name": "stdout",
          "output_type": "stream",

          "text": [
            "['product_category_name', 'product_category_name_english']\n"
          ]
        }

      ]
    },
    {
      "cell_type": "markdown",
      "source": [
        "## BBT1-14 Creación de la base de datos y carga de datos"
      ],
      "metadata": {
        "id": "7efjGfOGtVP0"
      }
    },
    {
      "cell_type": "code",
      "execution_count": 3,
      "metadata": {
        "id": "6cGRlxuEs7PZ"
      },
      "outputs": [],
      "source": [
        "import sqlite3 as sql\n",
        "\n",
        "\n",
        "#Conexion a la base de datos\n",
        "conn = sql.connect('ecommerce.db')\n",
        "cursor = conn.cursor()\n",
        "\n",
        "#script de creacion de tablas\n",
        "script = '''\n",
        "CREATE TABLE products (\n",
        "    product_id TEXT PRIMARY KEY,\n",
        "    product_category_name TEXT,\n",
        "    product_name_lenght REAL,\n",
        "    product_description_lenght REAL,\n",
        "    product_photos_qty REAL,\n",
        "    product_weight_g REAL,\n",
        "    product_length_cm REAL,\n",
        "    product_height_cm REAL,\n",
        "    product_width_cm REAL\n",
        ");\n",
        "CREATE TABLE order_items (\n",
        "    order_id TEXT,\n",
        "    order_item_id INTEGER,\n",
        "    product_id TEXT,\n",
        "    seller_id TEXT,\n",
        "    shipping_limit_date TEXT,\n",
        "    price REAL,\n",
        "    freight_value REAL,\n",
        "    PRIMARY KEY (order_id, order_item_id)\n",
        ");\n",
        "CREATE TABLE order_payments (\n",
        "    order_id TEXT,\n",
        "    payment_sequential INTEGER,\n",
        "    payment_type TEXT,\n",
        "    payment_installments INTEGER,\n",
        "    payment_value REAL,\n",
        "    PRIMARY KEY(order_id,payment_sequential)\n",
        ");\n",
        "CREATE TABLE orders (\n",
        "    order_id TEXT PRIMARY KEY,\n",
        "    customer_id TEXT,\n",
        "    order_status TEXT,\n",
        "    order_purchase_timestamp TEXT,\n",
        "    order_approved_at TEXT,\n",
        "    order_delivered_carrier_date TEXT,\n",
        "    order_delivered_customer_date TEXT,\n",
        "    order_estimated_delivery_date TEXT\n",
        ");\n",
        "CREATE TABLE customers (\n",
        "    customer_id TEXT PRIMARY KEY,\n",
        "    customer_unique_id TEXT,\n",
        "    customer_zip_code_prefix INTEGER,\n",
        "    customer_city TEXT,\n",
        "    customer_state TEXT\n",
        ");\n",
        "CREATE TABLE geolocation(\n",
        "  geolocation_zip_code_prefix INTEGER PRIMARY KEY,\n",
        "  geolocation_lat REAL,\n",
        "  geolocation_lng REAL,\n",
        "  geolocation_city TEXT,\n",
        "  geolocation_state TEXT\n",
        ");\n",
        "CREATE TABLE order_review(\n",
        "  review_id TEXT,\n",
        "  order_id TEXT,\n",
        "  review_score INT,\n",
        "  review_comment_title TEXT,\n",
        "  review_comment_message TEXT,\n",
        "  review_creation_date TEXT,\n",
        "  review_answer_timestamp TEXT\n",
        "  PRIMARY KEY(order_id,review_id)\n",
        ");\n",
        "CREATE TABLE sellers(\n",
        "  seller_id TEXT PRIMARY KEY,\n",
        "  seller_zip_code_prefix INTEGER,\n",
        "  seller_city TEXT,\n",
        "  seller_state TEXT\n",
        ");\n",
        "CREATE TABLE category(\n",
        "  product_category_name TEXT,\n",
        "  product_category_name_english TEXT\n",
        ");\n",
        "'''\n",
        "# cursor.executescript(script)\n",
        "conn.commit()\n"
      ]
    },
    {
      "cell_type": "markdown",
      "source": [
        "Inserción de los datos de los csv a la base de datos"
      ],
      "metadata": {
        "id": "3TIQciNRu1Bh"
      }
    },
    {
      "cell_type": "code",
      "source": [
        "\n",
        "geolocation.to_sql('geolocation',conn, index=True, if_exists='replace')\n",
        "customers.to_sql('customers',conn, index=True, if_exists='replace')\n",
        "order_items.to_sql('order_items',conn, index=True, if_exists = 'replace')\n",
        "order_payments.to_sql('order_payments',conn, index=True, if_exists = 'replace')\n",
        "order_reviews.to_sql('order_review',conn, index=True, if_exists = 'replace')\n",
        "orders.to_sql('orders',conn, index=True, if_exists = 'replace')\n",
        "products.to_sql('products',conn, index=True, if_exists = 'replace')\n",
        "sellers.to_sql('sellers',conn, index=True, if_exists = 'replace')\n",
        "category_names.to_sql('category',conn, index=True, if_exists = 'replace')"
      ],
      "metadata": {
        "id": "zFrpa5i6t2i9",
        "colab": {
          "base_uri": "https://localhost:8080/"
        },
        "outputId": "f28167dd-f8f8-486c-c0e1-d1336cf3429d"
      },
      "execution_count": 4,
      "outputs": [
        {
          "output_type": "execute_result",
          "data": {
            "text/plain": [
              "71"
            ]
          },
          "metadata": {},
          "execution_count": 4
        }
      ]
    },
    {
      "cell_type": "markdown",
      "source": [
        "## BBT1-18 - Extracción de datos desde las tablas customers y orders"
      ],
      "metadata": {
        "id": "Hv9PVZwUtwde"
      }
    },
    {
      "cell_type": "code",
      "source": [
        "query_1 = '''\n",
        "SELECT c.*, o.*\n",
        "FROM customers AS c\n",
        "JOIN orders as o ON c.customer_id = o.customer_id;\n",
        "\n",
        "'''\n",
        "df_customers_orders = pd.read_sql_query(query_1, conn)\n",
        "\n"
      ],
      "metadata": {
        "id": "6gCpAFKatzq7"
      },
      "execution_count": null,
      "outputs": []
    },
    {
      "cell_type": "markdown",
      "source": [
        "## BBT1-19  Extracción de datos desde las tablas orders y orders_items"
      ],
      "metadata": {
        "id": "n1b92XBOux2X"
      }
    },
    {
      "cell_type": "code",
      "source": [
        "query_2 = '''\n",
        "SELECT o.*, oi.*\n",
        "FROM orders AS o\n",
        "JOIN order_items AS oi ON o.order_id = oi.order_id;\n",
        "'''\n",
        "df_orders_ordersitems = pd.read_sql_query(query_2,conn)"
      ],
      "metadata": {
        "id": "uRF-SpxZuzZu"
      },
      "execution_count": null,
      "outputs": []
    },
    {
      "cell_type": "markdown",
      "source": [
        "## BBT1-20  Extracción de datos desde las tablas orders_items y sellers"
      ],
      "metadata": {
        "id": "0YVOJBQBvBED"
      }
    },
    {
      "cell_type": "code",
      "source": [
        "query_3 = '''\n",
        "SELECT oi.*, s.*\n",
        "FROM order_items AS oi\n",
        "JOIN sellers AS s ON oi.seller_id = s.seller_id;\n",
        "'''\n",
        "df_orderitems_sellers = pd.read_sql_query(query_3, conn)"
      ],
      "metadata": {
        "id": "wYTi10fovD7-"
      },
      "execution_count": null,
      "outputs": []
    },
    {
      "cell_type": "markdown",
      "source": [
        "## BBT1-23 Extracción de datos desde las tablas customers y geolocations"
      ],
      "metadata": {
        "id": "F-gTAUMHvtRV"
      }
    },
    {
      "cell_type": "code",
      "source": [
        "# Crear un DataFrame que contenga el JOIN de la tabla customers y tabla geolocation para extraer los datos de customers con sus latitudes y longitudes\n",
        "\n",
        "query_bbt1_23 = '''\n",
        "  SELECT customer_unique_id, customer_zip_code_prefix as Zip_code, geolocation_lat as Latitud, geolocation_lng as Longitud\n",
        "  FROM customers c\n",
        "  JOIN geolocation g\n",
        "  ON g.geolocation_zip_code_prefix = c.customer_zip_code_prefix\n",
        "  LIMIT 10\n",
        "  '''\n",
        "cust_geo = pd.read_sql_query(query_bbt1_23, conn)\n",
        "cust_geo"
      ],
      "metadata": {
        "colab": {
          "base_uri": "https://localhost:8080/",
          "height": 363
        },
        "id": "PQM9eXezvsxN",
        "outputId": "325014c9-b0f8-4342-bfab-6513bcb7719b"
      },
      "execution_count": 15,
      "outputs": [
        {
          "output_type": "execute_result",
          "data": {
            "text/plain": [
              "                 customer_unique_id  Zip_code    Latitud   Longitud\n",
              "0  861eff4711a542e4b93843c6dd7febb0     14409 -20.519565 -47.391123\n",
              "1  861eff4711a542e4b93843c6dd7febb0     14409 -20.518938 -47.397374\n",
              "2  861eff4711a542e4b93843c6dd7febb0     14409 -20.518888 -47.394047\n",
              "3  861eff4711a542e4b93843c6dd7febb0     14409 -20.518675 -47.393997\n",
              "4  861eff4711a542e4b93843c6dd7febb0     14409 -20.518012 -47.397669\n",
              "5  861eff4711a542e4b93843c6dd7febb0     14409 -20.517861 -47.396860\n",
              "6  861eff4711a542e4b93843c6dd7febb0     14409 -20.517802 -47.396757\n",
              "7  861eff4711a542e4b93843c6dd7febb0     14409 -20.517560 -47.383913\n",
              "8  861eff4711a542e4b93843c6dd7febb0     14409 -20.517125 -47.394045\n",
              "9  861eff4711a542e4b93843c6dd7febb0     14409 -20.516322 -47.396535"
            ],
            "text/html": [
              "\n",
              "  <div id=\"df-43d8680a-297c-43f7-ba57-20a70a20d488\" class=\"colab-df-container\">\n",

      ],
      "source": [
        "print(category_names.columns.tolist())"
      ]
    },
    {
      "cell_type": "code",
      "execution_count": 4,
      "metadata": {
        "id": "WVaL7Q3GoLQm"
      },
      "outputs": [],
      "source": [
        "result = pd.merge(customers,geolocation, left_on='customer_zip_code_prefix', right_on='geolocation_zip_code_prefix', how='inner')"
      ]
    },
    {
      "cell_type": "code",
      "execution_count": null,
      "metadata": {
        "colab": {
          "base_uri": "https://localhost:8080/",
          "height": 530
        },
        "id": "IeNmIl15omJf",
        "outputId": "6b920ab4-7d75-4ca7-93a4-a2b2e5508e32"
      },
      "outputs": [
        {
          "data": {
            "text/html": [
              "\n",
              "  <div id=\"df-8af72364-9a20-4f5b-8878-7f232e7eacce\" class=\"colab-df-container\">\n",

              "    <div>\n",
              "<style scoped>\n",
              "    .dataframe tbody tr th:only-of-type {\n",
              "        vertical-align: middle;\n",
              "    }\n",
              "\n",
              "    .dataframe tbody tr th {\n",
              "        vertical-align: top;\n",
              "    }\n",
              "\n",
              "    .dataframe thead th {\n",
              "        text-align: right;\n",
              "    }\n",
              "</style>\n",
              "<table border=\"1\" class=\"dataframe\">\n",
              "  <thead>\n",
              "    <tr style=\"text-align: right;\">\n",
              "      <th></th>\n",

              "      <th>customer_unique_id</th>\n",
              "      <th>Zip_code</th>\n",
              "      <th>Latitud</th>\n",
              "      <th>Longitud</th>\n",

              "      <th>customer_id</th>\n",
              "      <th>customer_unique_id</th>\n",
              "      <th>customer_zip_code_prefix</th>\n",
              "      <th>customer_city</th>\n",
              "      <th>customer_state</th>\n",
              "      <th>geolocation_zip_code_prefix</th>\n",
              "      <th>geolocation_lat</th>\n",
              "      <th>geolocation_lng</th>\n",
              "      <th>geolocation_city</th>\n",
              "      <th>geolocation_state</th>\n",

              "    </tr>\n",
              "  </thead>\n",
              "  <tbody>\n",
              "    <tr>\n",
              "      <th>0</th>\n",

              "      <td>861eff4711a542e4b93843c6dd7febb0</td>\n",
              "      <td>14409</td>\n",
              "      <td>-20.519565</td>\n",
              "      <td>-47.391123</td>\n",
              "    </tr>\n",
              "    <tr>\n",
              "      <th>1</th>\n",
              "      <td>861eff4711a542e4b93843c6dd7febb0</td>\n",
              "      <td>14409</td>\n",
              "      <td>-20.518938</td>\n",
              "      <td>-47.397374</td>\n",
              "    </tr>\n",
              "    <tr>\n",
              "      <th>2</th>\n",
              "      <td>861eff4711a542e4b93843c6dd7febb0</td>\n",
              "      <td>14409</td>\n",
              "      <td>-20.518888</td>\n",
              "      <td>-47.394047</td>\n",
              "    </tr>\n",
              "    <tr>\n",
              "      <th>3</th>\n",
              "      <td>861eff4711a542e4b93843c6dd7febb0</td>\n",
              "      <td>14409</td>\n",
              "      <td>-20.518675</td>\n",
              "      <td>-47.393997</td>\n",
              "    </tr>\n",
              "    <tr>\n",
              "      <th>4</th>\n",
              "      <td>861eff4711a542e4b93843c6dd7febb0</td>\n",
              "      <td>14409</td>\n",
              "      <td>-20.518012</td>\n",
              "      <td>-47.397669</td>\n",
              "    </tr>\n",
              "    <tr>\n",
              "      <th>5</th>\n",
              "      <td>861eff4711a542e4b93843c6dd7febb0</td>\n",
              "      <td>14409</td>\n",
              "      <td>-20.517861</td>\n",
              "      <td>-47.396860</td>\n",
              "    </tr>\n",
              "    <tr>\n",
              "      <th>6</th>\n",
              "      <td>861eff4711a542e4b93843c6dd7febb0</td>\n",
              "      <td>14409</td>\n",
              "      <td>-20.517802</td>\n",
              "      <td>-47.396757</td>\n",
              "    </tr>\n",
              "    <tr>\n",
              "      <th>7</th>\n",
              "      <td>861eff4711a542e4b93843c6dd7febb0</td>\n",
              "      <td>14409</td>\n",
              "      <td>-20.517560</td>\n",
              "      <td>-47.383913</td>\n",
              "    </tr>\n",
              "    <tr>\n",
              "      <th>8</th>\n",
              "      <td>861eff4711a542e4b93843c6dd7febb0</td>\n",
              "      <td>14409</td>\n",
              "      <td>-20.517125</td>\n",
              "      <td>-47.394045</td>\n",
              "    </tr>\n",
              "    <tr>\n",
              "      <th>9</th>\n",
              "      <td>861eff4711a542e4b93843c6dd7febb0</td>\n",
              "      <td>14409</td>\n",
              "      <td>-20.516322</td>\n",
              "      <td>-47.396535</td>\n",
              "    </tr>\n",
              "  </tbody>\n",
              "</table>\n",

              "      <td>06b8999e2fba1a1fbc88172c00ba8bc7</td>\n",
              "      <td>861eff4711a542e4b93843c6dd7febb0</td>\n",
              "      <td>14409</td>\n",
              "      <td>franca</td>\n",
              "      <td>SP</td>\n",
              "      <td>14409</td>\n",
              "      <td>-20.509897</td>\n",
              "      <td>-47.397866</td>\n",
              "      <td>franca</td>\n",
              "      <td>SP</td>\n",
              "    </tr>\n",
              "    <tr>\n",
              "      <th>1</th>\n",
              "      <td>06b8999e2fba1a1fbc88172c00ba8bc7</td>\n",
              "      <td>861eff4711a542e4b93843c6dd7febb0</td>\n",
              "      <td>14409</td>\n",
              "      <td>franca</td>\n",
              "      <td>SP</td>\n",
              "      <td>14409</td>\n",
              "      <td>-20.497396</td>\n",
              "      <td>-47.399241</td>\n",
              "      <td>franca</td>\n",
              "      <td>SP</td>\n",
              "    </tr>\n",
              "    <tr>\n",
              "      <th>2</th>\n",
              "      <td>06b8999e2fba1a1fbc88172c00ba8bc7</td>\n",
              "      <td>861eff4711a542e4b93843c6dd7febb0</td>\n",
              "      <td>14409</td>\n",
              "      <td>franca</td>\n",
              "      <td>SP</td>\n",
              "      <td>14409</td>\n",
              "      <td>-20.510459</td>\n",
              "      <td>-47.399553</td>\n",
              "      <td>franca</td>\n",
              "      <td>SP</td>\n",
              "    </tr>\n",
              "    <tr>\n",
              "      <th>3</th>\n",
              "      <td>06b8999e2fba1a1fbc88172c00ba8bc7</td>\n",
              "      <td>861eff4711a542e4b93843c6dd7febb0</td>\n",
              "      <td>14409</td>\n",
              "      <td>franca</td>\n",
              "      <td>SP</td>\n",
              "      <td>14409</td>\n",
              "      <td>-20.480940</td>\n",
              "      <td>-47.394161</td>\n",
              "      <td>franca</td>\n",
              "      <td>SP</td>\n",
              "    </tr>\n",
              "    <tr>\n",
              "      <th>4</th>\n",
              "      <td>06b8999e2fba1a1fbc88172c00ba8bc7</td>\n",
              "      <td>861eff4711a542e4b93843c6dd7febb0</td>\n",
              "      <td>14409</td>\n",
              "      <td>franca</td>\n",
              "      <td>SP</td>\n",
              "      <td>14409</td>\n",
              "      <td>-20.515413</td>\n",
              "      <td>-47.398194</td>\n",
              "      <td>franca</td>\n",
              "      <td>SP</td>\n",
              "    </tr>\n",
              "    <tr>\n",
              "      <th>...</th>\n",
              "      <td>...</td>\n",
              "      <td>...</td>\n",
              "      <td>...</td>\n",
              "      <td>...</td>\n",
              "      <td>...</td>\n",
              "      <td>...</td>\n",
              "      <td>...</td>\n",
              "      <td>...</td>\n",
              "      <td>...</td>\n",
              "      <td>...</td>\n",
              "    </tr>\n",
              "    <tr>\n",
              "      <th>15083445</th>\n",
              "      <td>d9110683c7a282144e9fc97660026a28</td>\n",
              "      <td>5cbfdb85ec130898108b32c50d619c39</td>\n",
              "      <td>74980</td>\n",
              "      <td>aparecida de goiania</td>\n",
              "      <td>GO</td>\n",
              "      <td>74980</td>\n",
              "      <td>-16.823261</td>\n",
              "      <td>-49.247368</td>\n",
              "      <td>aparecida de goiânia</td>\n",
              "      <td>GO</td>\n",
              "    </tr>\n",
              "    <tr>\n",
              "      <th>15083446</th>\n",
              "      <td>d9110683c7a282144e9fc97660026a28</td>\n",
              "      <td>5cbfdb85ec130898108b32c50d619c39</td>\n",
              "      <td>74980</td>\n",
              "      <td>aparecida de goiania</td>\n",
              "      <td>GO</td>\n",
              "      <td>74980</td>\n",
              "      <td>-16.821866</td>\n",
              "      <td>-49.244027</td>\n",
              "      <td>aparecida de goiania</td>\n",
              "      <td>GO</td>\n",
              "    </tr>\n",
              "    <tr>\n",
              "      <th>15083447</th>\n",
              "      <td>d9110683c7a282144e9fc97660026a28</td>\n",
              "      <td>5cbfdb85ec130898108b32c50d619c39</td>\n",
              "      <td>74980</td>\n",
              "      <td>aparecida de goiania</td>\n",
              "      <td>GO</td>\n",
              "      <td>74980</td>\n",
              "      <td>-16.823261</td>\n",
              "      <td>-49.247368</td>\n",
              "      <td>aparecida de goiania</td>\n",
              "      <td>GO</td>\n",
              "    </tr>\n",
              "    <tr>\n",
              "      <th>15083448</th>\n",
              "      <td>d9110683c7a282144e9fc97660026a28</td>\n",
              "      <td>5cbfdb85ec130898108b32c50d619c39</td>\n",
              "      <td>74980</td>\n",
              "      <td>aparecida de goiania</td>\n",
              "      <td>GO</td>\n",
              "      <td>74980</td>\n",
              "      <td>-16.822945</td>\n",
              "      <td>-49.244615</td>\n",
              "      <td>aparecida de goiania</td>\n",
              "      <td>GO</td>\n",
              "    </tr>\n",
              "    <tr>\n",
              "      <th>15083449</th>\n",
              "      <td>d9110683c7a282144e9fc97660026a28</td>\n",
              "      <td>5cbfdb85ec130898108b32c50d619c39</td>\n",
              "      <td>74980</td>\n",
              "      <td>aparecida de goiania</td>\n",
              "      <td>GO</td>\n",
              "      <td>74980</td>\n",
              "      <td>-16.821692</td>\n",
              "      <td>-49.245116</td>\n",
              "      <td>aparecida de goiania</td>\n",
              "      <td>GO</td>\n",
              "    </tr>\n",
              "  </tbody>\n",
              "</table>\n",
              "<p>15083450 rows × 10 columns</p>\n",

              "</div>\n",
              "    <div class=\"colab-df-buttons\">\n",
              "\n",
              "  <div class=\"colab-df-container\">\n",

              "    <button class=\"colab-df-convert\" onclick=\"convertToInteractive('df-43d8680a-297c-43f7-ba57-20a70a20d488')\"\n",

              "    <button class=\"colab-df-convert\" onclick=\"convertToInteractive('df-8af72364-9a20-4f5b-8878-7f232e7eacce')\"\n",

              "            title=\"Convert this dataframe to an interactive table.\"\n",
              "            style=\"display:none;\">\n",
              "\n",
              "  <svg xmlns=\"http://www.w3.org/2000/svg\" height=\"24px\" viewBox=\"0 -960 960 960\">\n",
              "    <path d=\"M120-120v-720h720v720H120Zm60-500h600v-160H180v160Zm220 220h160v-160H400v160Zm0 220h160v-160H400v160ZM180-400h160v-160H180v160Zm440 0h160v-160H620v160ZM180-180h160v-160H180v160Zm440 0h160v-160H620v160Z\"/>\n",
              "  </svg>\n",
              "    </button>\n",
              "\n",
              "  <style>\n",
              "    .colab-df-container {\n",
              "      display:flex;\n",
              "      gap: 12px;\n",
              "    }\n",
              "\n",
              "    .colab-df-convert {\n",
              "      background-color: #E8F0FE;\n",
              "      border: none;\n",
              "      border-radius: 50%;\n",
              "      cursor: pointer;\n",
              "      display: none;\n",
              "      fill: #1967D2;\n",
              "      height: 32px;\n",
              "      padding: 0 0 0 0;\n",
              "      width: 32px;\n",
              "    }\n",
              "\n",
              "    .colab-df-convert:hover {\n",
              "      background-color: #E2EBFA;\n",
              "      box-shadow: 0px 1px 2px rgba(60, 64, 67, 0.3), 0px 1px 3px 1px rgba(60, 64, 67, 0.15);\n",
              "      fill: #174EA6;\n",
              "    }\n",
              "\n",
              "    .colab-df-buttons div {\n",
              "      margin-bottom: 4px;\n",
              "    }\n",
              "\n",
              "    [theme=dark] .colab-df-convert {\n",
              "      background-color: #3B4455;\n",
              "      fill: #D2E3FC;\n",
              "    }\n",
              "\n",
              "    [theme=dark] .colab-df-convert:hover {\n",
              "      background-color: #434B5C;\n",
              "      box-shadow: 0px 1px 3px 1px rgba(0, 0, 0, 0.15);\n",
              "      filter: drop-shadow(0px 1px 2px rgba(0, 0, 0, 0.3));\n",
              "      fill: #FFFFFF;\n",
              "    }\n",
              "  </style>\n",
              "\n",
              "    <script>\n",
              "      const buttonEl =\n",

              "        document.querySelector('#df-43d8680a-297c-43f7-ba57-20a70a20d488 button.colab-df-convert');\n",

              "        document.querySelector('#df-8af72364-9a20-4f5b-8878-7f232e7eacce button.colab-df-convert');\n",

              "      buttonEl.style.display =\n",
              "        google.colab.kernel.accessAllowed ? 'block' : 'none';\n",
              "\n",
              "      async function convertToInteractive(key) {\n",

              "        const element = document.querySelector('#df-43d8680a-297c-43f7-ba57-20a70a20d488');\n",

              "        const element = document.querySelector('#df-8af72364-9a20-4f5b-8878-7f232e7eacce');\n",

              "        const dataTable =\n",
              "          await google.colab.kernel.invokeFunction('convertToInteractive',\n",
              "                                                    [key], {});\n",
              "        if (!dataTable) return;\n",
              "\n",
              "        const docLinkHtml = 'Like what you see? Visit the ' +\n",
              "          '<a target=\"_blank\" href=https://colab.research.google.com/notebooks/data_table.ipynb>data table notebook</a>'\n",
              "          + ' to learn more about interactive tables.';\n",
              "        element.innerHTML = '';\n",
              "        dataTable['output_type'] = 'display_data';\n",
              "        await google.colab.output.renderOutput(dataTable, element);\n",
              "        const docLink = document.createElement('div');\n",
              "        docLink.innerHTML = docLinkHtml;\n",
              "        element.appendChild(docLink);\n",
              "      }\n",
              "    </script>\n",
              "  </div>\n",
              "\n",
              "\n",

              "<div id=\"df-c27ca3fc-59a6-4785-9dec-b2de5ad0ba65\">\n",
              "  <button class=\"colab-df-quickchart\" onclick=\"quickchart('df-c27ca3fc-59a6-4785-9dec-b2de5ad0ba65')\"\n",

              "<div id=\"df-62be528a-0204-49ae-9c63-6cd2b43ec445\">\n",
              "  <button class=\"colab-df-quickchart\" onclick=\"quickchart('df-62be528a-0204-49ae-9c63-6cd2b43ec445')\"\n",

              "            title=\"Suggest charts.\"\n",
              "            style=\"display:none;\">\n",
              "\n",
              "<svg xmlns=\"http://www.w3.org/2000/svg\" height=\"24px\"viewBox=\"0 0 24 24\"\n",
              "     width=\"24px\">\n",
              "    <g>\n",
              "        <path d=\"M19 3H5c-1.1 0-2 .9-2 2v14c0 1.1.9 2 2 2h14c1.1 0 2-.9 2-2V5c0-1.1-.9-2-2-2zM9 17H7v-7h2v7zm4 0h-2V7h2v10zm4 0h-2v-4h2v4z\"/>\n",
              "    </g>\n",
              "</svg>\n",
              "  </button>\n",
              "\n",
              "<style>\n",
              "  .colab-df-quickchart {\n",
              "      --bg-color: #E8F0FE;\n",
              "      --fill-color: #1967D2;\n",
              "      --hover-bg-color: #E2EBFA;\n",
              "      --hover-fill-color: #174EA6;\n",
              "      --disabled-fill-color: #AAA;\n",
              "      --disabled-bg-color: #DDD;\n",
              "  }\n",
              "\n",
              "  [theme=dark] .colab-df-quickchart {\n",
              "      --bg-color: #3B4455;\n",
              "      --fill-color: #D2E3FC;\n",
              "      --hover-bg-color: #434B5C;\n",
              "      --hover-fill-color: #FFFFFF;\n",
              "      --disabled-bg-color: #3B4455;\n",
              "      --disabled-fill-color: #666;\n",
              "  }\n",
              "\n",
              "  .colab-df-quickchart {\n",
              "    background-color: var(--bg-color);\n",
              "    border: none;\n",
              "    border-radius: 50%;\n",
              "    cursor: pointer;\n",
              "    display: none;\n",
              "    fill: var(--fill-color);\n",
              "    height: 32px;\n",
              "    padding: 0;\n",
              "    width: 32px;\n",
              "  }\n",
              "\n",
              "  .colab-df-quickchart:hover {\n",
              "    background-color: var(--hover-bg-color);\n",
              "    box-shadow: 0 1px 2px rgba(60, 64, 67, 0.3), 0 1px 3px 1px rgba(60, 64, 67, 0.15);\n",
              "    fill: var(--button-hover-fill-color);\n",
              "  }\n",
              "\n",
              "  .colab-df-quickchart-complete:disabled,\n",
              "  .colab-df-quickchart-complete:disabled:hover {\n",
              "    background-color: var(--disabled-bg-color);\n",
              "    fill: var(--disabled-fill-color);\n",
              "    box-shadow: none;\n",
              "  }\n",
              "\n",
              "  .colab-df-spinner {\n",
              "    border: 2px solid var(--fill-color);\n",
              "    border-color: transparent;\n",
              "    border-bottom-color: var(--fill-color);\n",
              "    animation:\n",
              "      spin 1s steps(1) infinite;\n",
              "  }\n",
              "\n",
              "  @keyframes spin {\n",
              "    0% {\n",
              "      border-color: transparent;\n",
              "      border-bottom-color: var(--fill-color);\n",
              "      border-left-color: var(--fill-color);\n",
              "    }\n",
              "    20% {\n",
              "      border-color: transparent;\n",
              "      border-left-color: var(--fill-color);\n",
              "      border-top-color: var(--fill-color);\n",
              "    }\n",
              "    30% {\n",
              "      border-color: transparent;\n",
              "      border-left-color: var(--fill-color);\n",
              "      border-top-color: var(--fill-color);\n",
              "      border-right-color: var(--fill-color);\n",
              "    }\n",
              "    40% {\n",
              "      border-color: transparent;\n",
              "      border-right-color: var(--fill-color);\n",
              "      border-top-color: var(--fill-color);\n",
              "    }\n",
              "    60% {\n",
              "      border-color: transparent;\n",
              "      border-right-color: var(--fill-color);\n",
              "    }\n",
              "    80% {\n",
              "      border-color: transparent;\n",
              "      border-right-color: var(--fill-color);\n",
              "      border-bottom-color: var(--fill-color);\n",
              "    }\n",
              "    90% {\n",
              "      border-color: transparent;\n",
              "      border-bottom-color: var(--fill-color);\n",
              "    }\n",
              "  }\n",
              "</style>\n",
              "\n",
              "  <script>\n",
              "    async function quickchart(key) {\n",
              "      const quickchartButtonEl =\n",
              "        document.querySelector('#' + key + ' button');\n",
              "      quickchartButtonEl.disabled = true;  // To prevent multiple clicks.\n",
              "      quickchartButtonEl.classList.add('colab-df-spinner');\n",
              "      try {\n",
              "        const charts = await google.colab.kernel.invokeFunction(\n",
              "            'suggestCharts', [key], {});\n",
              "      } catch (error) {\n",
              "        console.error('Error during call to suggestCharts:', error);\n",
              "      }\n",
              "      quickchartButtonEl.classList.remove('colab-df-spinner');\n",
              "      quickchartButtonEl.classList.add('colab-df-quickchart-complete');\n",
              "    }\n",
              "    (() => {\n",
              "      let quickchartButtonEl =\n",

              "        document.querySelector('#df-c27ca3fc-59a6-4785-9dec-b2de5ad0ba65 button');\n",

              "        document.querySelector('#df-62be528a-0204-49ae-9c63-6cd2b43ec445 button');\n",

              "      quickchartButtonEl.style.display =\n",
              "        google.colab.kernel.accessAllowed ? 'block' : 'none';\n",
              "    })();\n",
              "  </script>\n",
              "</div>\n",
              "    </div>\n",
              "  </div>\n"

            ]
          },
          "metadata": {},
          "execution_count": 15
        }

            ],
            "text/plain": [
              "                               customer_id                customer_unique_id  \\\n",
              "0         06b8999e2fba1a1fbc88172c00ba8bc7  861eff4711a542e4b93843c6dd7febb0   \n",
              "1         06b8999e2fba1a1fbc88172c00ba8bc7  861eff4711a542e4b93843c6dd7febb0   \n",
              "2         06b8999e2fba1a1fbc88172c00ba8bc7  861eff4711a542e4b93843c6dd7febb0   \n",
              "3         06b8999e2fba1a1fbc88172c00ba8bc7  861eff4711a542e4b93843c6dd7febb0   \n",
              "4         06b8999e2fba1a1fbc88172c00ba8bc7  861eff4711a542e4b93843c6dd7febb0   \n",
              "...                                    ...                               ...   \n",
              "15083445  d9110683c7a282144e9fc97660026a28  5cbfdb85ec130898108b32c50d619c39   \n",
              "15083446  d9110683c7a282144e9fc97660026a28  5cbfdb85ec130898108b32c50d619c39   \n",
              "15083447  d9110683c7a282144e9fc97660026a28  5cbfdb85ec130898108b32c50d619c39   \n",
              "15083448  d9110683c7a282144e9fc97660026a28  5cbfdb85ec130898108b32c50d619c39   \n",
              "15083449  d9110683c7a282144e9fc97660026a28  5cbfdb85ec130898108b32c50d619c39   \n",
              "\n",
              "          customer_zip_code_prefix         customer_city customer_state  \\\n",
              "0                            14409                franca             SP   \n",
              "1                            14409                franca             SP   \n",
              "2                            14409                franca             SP   \n",
              "3                            14409                franca             SP   \n",
              "4                            14409                franca             SP   \n",
              "...                            ...                   ...            ...   \n",
              "15083445                     74980  aparecida de goiania             GO   \n",
              "15083446                     74980  aparecida de goiania             GO   \n",
              "15083447                     74980  aparecida de goiania             GO   \n",
              "15083448                     74980  aparecida de goiania             GO   \n",
              "15083449                     74980  aparecida de goiania             GO   \n",
              "\n",
              "          geolocation_zip_code_prefix  geolocation_lat  geolocation_lng  \\\n",
              "0                               14409       -20.509897       -47.397866   \n",
              "1                               14409       -20.497396       -47.399241   \n",
              "2                               14409       -20.510459       -47.399553   \n",
              "3                               14409       -20.480940       -47.394161   \n",
              "4                               14409       -20.515413       -47.398194   \n",
              "...                               ...              ...              ...   \n",
              "15083445                        74980       -16.823261       -49.247368   \n",
              "15083446                        74980       -16.821866       -49.244027   \n",
              "15083447                        74980       -16.823261       -49.247368   \n",
              "15083448                        74980       -16.822945       -49.244615   \n",
              "15083449                        74980       -16.821692       -49.245116   \n",
              "\n",
              "              geolocation_city geolocation_state  \n",
              "0                       franca                SP  \n",
              "1                       franca                SP  \n",
              "2                       franca                SP  \n",
              "3                       franca                SP  \n",
              "4                       franca                SP  \n",
              "...                        ...               ...  \n",
              "15083445  aparecida de goiânia                GO  \n",
              "15083446  aparecida de goiania                GO  \n",
              "15083447  aparecida de goiania                GO  \n",
              "15083448  aparecida de goiania                GO  \n",
              "15083449  aparecida de goiania                GO  \n",
              "\n",
              "[15083450 rows x 10 columns]"
            ]
          },
          "execution_count": 12,
          "metadata": {},
          "output_type": "execute_result"
        }
      ],
      "source": [
        "result.head(-5)"

      ]
    },
    {
      "cell_type": "markdown",

      "source": [
        "## BBT1-24 Extracción de datos desde las tablas orders y geolocations"
      ],
      "metadata": {
        "id": "bakkJpjJwBFn"
      }
    },
    {
      "cell_type": "code",
      "source": [
        "# Crear un DataFrame que contenga el JOIN de la tabla orders y tabla geolocation para extraer los datos de órdenes con sus latitudes y longitudes\n",
        "\n",
        "query_bbt1_24 = '''\n",
        "  SELECT order_id, customer_zip_code_prefix as Zip_code, geolocation_lat as Latitud, geolocation_lng as Longitud\n",
        "  FROM customers c\n",
        "  JOIN orders o\n",
        "  ON c.customer_id = o.customer_id\n",
        "  JOIN geolocation g\n",
        "  ON g.geolocation_zip_code_prefix = c.customer_zip_code_prefix\n",
        "  LIMIT 10\n",
        "  '''\n",
        "orders_geo = pd.read_sql_query(query_bbt1_24, conn)\n",
        "orders_geo"
      ],
      "metadata": {
        "colab": {
          "base_uri": "https://localhost:8080/",
          "height": 363
        },
        "id": "7kaLtX3DwPGp",
        "outputId": "3bac59f5-49f2-4e4b-bc4d-90ad89bd997d"
      },
      "execution_count": 13,
      "outputs": [
        {
          "output_type": "execute_result",
          "data": {
            "text/plain": [
              "                           order_id  Zip_code    Latitud   Longitud\n",
              "0  00e7ee1b050b8499577073aeb2a297a1     14409 -20.519565 -47.391123\n",
              "1  00e7ee1b050b8499577073aeb2a297a1     14409 -20.518938 -47.397374\n",
              "2  00e7ee1b050b8499577073aeb2a297a1     14409 -20.518888 -47.394047\n",
              "3  00e7ee1b050b8499577073aeb2a297a1     14409 -20.518675 -47.393997\n",
              "4  00e7ee1b050b8499577073aeb2a297a1     14409 -20.518012 -47.397669\n",
              "5  00e7ee1b050b8499577073aeb2a297a1     14409 -20.517861 -47.396860\n",
              "6  00e7ee1b050b8499577073aeb2a297a1     14409 -20.517802 -47.396757\n",
              "7  00e7ee1b050b8499577073aeb2a297a1     14409 -20.517560 -47.383913\n",
              "8  00e7ee1b050b8499577073aeb2a297a1     14409 -20.517125 -47.394045\n",
              "9  00e7ee1b050b8499577073aeb2a297a1     14409 -20.516322 -47.396535"
            ],
            "text/html": [
              "\n",
              "  <div id=\"df-425c8b19-12bd-4913-b6c4-6caee2780226\" class=\"colab-df-container\">\n",
              "    <div>\n",
              "<style scoped>\n",
              "    .dataframe tbody tr th:only-of-type {\n",
              "        vertical-align: middle;\n",
              "    }\n",
              "\n",
              "    .dataframe tbody tr th {\n",
              "        vertical-align: top;\n",
              "    }\n",
              "\n",
              "    .dataframe thead th {\n",
              "        text-align: right;\n",
              "    }\n",
              "</style>\n",
              "<table border=\"1\" class=\"dataframe\">\n",
              "  <thead>\n",
              "    <tr style=\"text-align: right;\">\n",
              "      <th></th>\n",
              "      <th>order_id</th>\n",
              "      <th>Zip_code</th>\n",
              "      <th>Latitud</th>\n",
              "      <th>Longitud</th>\n",
              "    </tr>\n",

      "metadata": {
        "id": "7efjGfOGtVP0"
      },
      "source": [
        "## BBT1-14 Creación de la base de datos y carga de datos"
      ]
    },
    {
      "cell_type": "code",
      "execution_count": 4,
      "metadata": {
        "colab": {
          "base_uri": "https://localhost:8080/",
          "height": 228
        },
        "id": "6cGRlxuEs7PZ",
        "outputId": "d64c719d-18f4-482d-9885-fcb2228e1e7d"
      },
      "outputs": [
        {
          "output_type": "error",
          "ename": "OperationalError",
          "evalue": "ignored",
          "traceback": [
            "\u001b[0;31m---------------------------------------------------------------------------\u001b[0m",
            "\u001b[0;31mOperationalError\u001b[0m                          Traceback (most recent call last)",
            "\u001b[0;32m<ipython-input-4-c616e7cef18b>\u001b[0m in \u001b[0;36m<cell line: 84>\u001b[0;34m()\u001b[0m\n\u001b[1;32m     82\u001b[0m );\n\u001b[1;32m     83\u001b[0m '''\n\u001b[0;32m---> 84\u001b[0;31m \u001b[0mcursor\u001b[0m\u001b[0;34m.\u001b[0m\u001b[0mexecutescript\u001b[0m\u001b[0;34m(\u001b[0m\u001b[0mscript\u001b[0m\u001b[0;34m)\u001b[0m\u001b[0;34m\u001b[0m\u001b[0;34m\u001b[0m\u001b[0m\n\u001b[0m\u001b[1;32m     85\u001b[0m \u001b[0mconn\u001b[0m\u001b[0;34m.\u001b[0m\u001b[0mcommit\u001b[0m\u001b[0;34m(\u001b[0m\u001b[0;34m)\u001b[0m\u001b[0;34m\u001b[0m\u001b[0;34m\u001b[0m\u001b[0m\n",
            "\u001b[0;31mOperationalError\u001b[0m: table products already exists"
          ]
        }
      ],
      "source": [
        "import sqlite3 as sql\n",
        "\n",
        "\n",
        "#Coneccion a la base de datos\n",
        "conn = sql.connect('ecommerce.db')\n",
        "cursor = conn.cursor()\n",
        "\n",
        "#script de cracacion de tablas\n",
        "script = '''\n",
        "CREATE TABLE products (\n",
        "    product_id TEXT PRIMARY KEY,\n",
        "    product_category_name TEXT,\n",
        "    product_name_lenght REAL,\n",
        "    product_description_lenght REAL,\n",
        "    product_photos_qty REAL,\n",
        "    product_weight_g REAL,\n",
        "    product_length_cm REAL,\n",
        "    product_height_cm REAL,\n",
        "    product_width_cm REAL\n",
        ");\n",
        "CREATE TABLE order_items (\n",
        "    order_id TEXT,\n",
        "    order_item_id INTEGER,\n",
        "    product_id TEXT,\n",
        "    seller_id TEXT,\n",
        "    shipping_limit_date TEXT,\n",
        "    price REAL,\n",
        "    freight_value REAL,\n",
        "    PRIMARY KEY (order_id, order_item_id)\n",
        ");\n",
        "CREATE TABLE order_payments (\n",
        "    order_id TEXT,\n",
        "    payment_sequential INTEGER,\n",
        "    payment_type TEXT,\n",
        "    payment_installments INTEGER,\n",
        "    payment_value REAL,\n",
        "    PRIMARY KEY(order_id,payment_sequential)\n",
        ");\n",
        "CREATE TABLE orders (\n",
        "    order_id TEXT PRIMARY KEY,\n",
        "    customer_id TEXT,\n",
        "    order_status TEXT,\n",
        "    order_purchase_timestamp TEXT,\n",
        "    order_approved_at TEXT,\n",
        "    order_delivered_carrier_date TEXT,\n",
        "    order_delivered_customer_date TEXT,\n",
        "    order_estimated_delivery_date TEXT\n",
        ");\n",
        "CREATE TABLE customers (\n",
        "    customer_id TEXT PRIMARY KEY,\n",
        "    customer_unique_id TEXT,\n",
        "    customer_zip_code_prefix INTEGER,\n",
        "    customer_city TEXT,\n",
        "    customer_state TEXT\n",
        ");\n",
        "CREATE TABLE geolocation(\n",
        "  geolocation_zip_code_prefix INTEGER ,\n",
        "  geolocation_lat REAL,\n",
        "  geolocation_lng REAL,\n",
        "  geolocation_city TEXT,\n",
        "  geolocation_state TEXT\n",
        ");\n",
        "CREATE TABLE order_review(\n",
        "  review_id TEXT,\n",
        "  order_id TEXT,\n",
        "  review_score INT,\n",
        "  review_comment_title TEXT,\n",
        "  review_comment_message TEXT,\n",
        "  review_creation_date TEXT,\n",
        "  review_answer_timestamp TEXT\n",
        "  PRIMARY KEY(order_id,review_id)\n",
        ");\n",
        "CREATE TABLE sellers(\n",
        "  seller_id TEXT PRIMARY KEY,\n",
        "  seller_zip_code_prefix INTEGER,\n",
        "  seller_city TEXT,\n",
        "  seller_state TEXT\n",
        ");\n",
        "CREATE TABLE category(\n",
        "  product_category_name TEXT,\n",
        "  product_category_name_english TEXT\n",
        ");\n",
        "'''\n",
        "#cursor.executescript(script)\n",
        "conn.commit()\n"
      ]
    },
    {
      "cell_type": "markdown",
      "metadata": {
        "id": "3TIQciNRu1Bh"
      },
      "source": [
        "Inserción de los datos de los csv a la base de datos"
      ]
    },
    {
      "cell_type": "code",
      "execution_count": 5,
      "metadata": {
        "colab": {
          "base_uri": "https://localhost:8080/"
        },
        "id": "zFrpa5i6t2i9",
        "outputId": "19e7b007-db88-4a4b-aa16-89ca21b767fc"
      },
      "outputs": [
        {
          "data": {
            "text/plain": [
              "71"
            ]
          },
          "execution_count": 5,
          "metadata": {},
          "output_type": "execute_result"
        }
      ],
      "source": [
        "\n",
        "geolocation.to_sql('geolocation',conn, index=True, if_exists='replace')\n",
        "customers.to_sql('customers',conn, index=True, if_exists='replace')\n",
        "order_items.to_sql('order_items',conn, index=True, if_exists = 'replace')\n",
        "order_payments.to_sql('order_payments',conn, index=True, if_exists = 'replace')\n",
        "order_reviews.to_sql('order_review',conn, index=True, if_exists = 'replace')\n",
        "orders.to_sql('orders',conn, index=True, if_exists = 'replace')\n",
        "products.to_sql('products',conn, index=True, if_exists = 'replace')\n",
        "sellers.to_sql('sellers',conn, index=True, if_exists = 'replace')\n",
        "category_names.to_sql('category',conn, index=True, if_exists = 'replace')"
      ]
    },
    {
      "cell_type": "markdown",
      "metadata": {
        "id": "Hv9PVZwUtwde"
      },
      "source": [
        "## BBT1-18 - Extracción de datos desde las tablas customers y orders"
      ]
    },
    {
      "cell_type": "code",
      "execution_count": 6,
      "metadata": {
        "id": "6gCpAFKatzq7"
      },
      "outputs": [],
      "source": [
        "query_1 = '''\n",
        "SELECT c.*, o.*\n",
        "FROM customers AS c\n",
        "JOIN orders as o ON c.customer_id = o.customer_id;\n",
        "\n",
        "'''\n",
        "df_customers_orders = pd.read_sql_query(query_1, conn)\n",
        "\n"
      ]
    },
    {
      "cell_type": "markdown",
      "metadata": {
        "id": "n1b92XBOux2X"
      },
      "source": [
        "## BBT1-19  Extracción de datos desde las tablas orders y orders_items"
      ]
    },
    {
      "cell_type": "code",
      "execution_count": null,
      "metadata": {
        "id": "uRF-SpxZuzZu"
      },
      "outputs": [],
      "source": [
        "query_2 = '''\n",
        "SELECT o.*, oi.*\n",
        "FROM orders AS o\n",
        "JOIN order_items AS oi ON o.order_id = oi.order_id;\n",
        "'''\n",
        "df_orders_ordersitems = pd.read_sql_query(query_2,conn)"
      ]
    },
    {
      "cell_type": "markdown",
      "metadata": {
        "id": "0YVOJBQBvBED"
      },
      "source": [
        "## BBT1-20  Extracción de datos desde las tablas orders_items y sellers"
      ]
    },
    {
      "cell_type": "code",
      "execution_count": 6,
      "metadata": {
        "id": "wYTi10fovD7-"
      },
      "outputs": [],
      "source": [
        "query_3 = '''\n",
        "SELECT oi.*, s.*\n",
        "FROM order_items AS oi\n",
        "JOIN sellers AS s ON oi.seller_id = s.seller_id;\n",
        "'''\n",
        "df_orderitems_sellers = pd.read_sql_query(query_3, conn)"
      ]
    },
    {
      "cell_type": "markdown",
      "metadata": {
        "id": "9CqziOeT8GID"
      },
      "source": [
        "BBT1-21 - Extracción de datos desde las tablas orders_items y products"
      ]
    },
    {
      "cell_type": "code",
      "execution_count": null,
      "metadata": {
        "id": "f6kufSVgbQXA"
      },
      "outputs": [],
      "source": [
        "BBT1_21_query = '''\n",
        "SELECT oi.*, p.*\n",
        "FROM order_items oi\n",
        "JOIN products p ON oi.product_id = p.product_id\n",
        "ORDER BY p.product_category_name ASC;\n",
        "'''\n",
        "\n",
        "BBT1_21 = pd.read_sql_query(BBT1_21_query, conn)\n",
        "\n"
      ]
    },
    {
      "cell_type": "markdown",
      "metadata": {
        "id": "oceKYzMN8WYK"
      },
      "source": [
        "BBT1-22 - Extracción de datos desde las tablas order y payments"
      ]
    },
    {
      "cell_type": "code",
      "execution_count": null,
      "metadata": {
        "id": "m1HJ9nhf8jMX"
      },
      "outputs": [],
      "source": [
        "BBT1_22_query = '''\n",
        "  SELECT o.*, op.*\n",
        "  FROM orders o\n",
        "  JOIN order_payments op ON o.order_id = op.order_id;\n",
        "'''\n",
        "\n",
        "BBT1_22 = pd.read_sql_query(BBT1_22_query, conn)\n"
      ]
    },
    {
      "cell_type": "markdown",
      "metadata": {},
      "source": [
        "BT1-26 - Extracción de datos desde las tablas orders_items, products y products_category_translation"
      ]
    },
    {
      "cell_type": "code",
      "execution_count": 8,
      "metadata": {},
      "outputs": [
        {
          "data": {
            "text/html": [
              "<div>\n",
              "<style scoped>\n",
              "    .dataframe tbody tr th:only-of-type {\n",
              "        vertical-align: middle;\n",
              "    }\n",
              "\n",
              "    .dataframe tbody tr th {\n",
              "        vertical-align: top;\n",
              "    }\n",
              "\n",
              "    .dataframe thead th {\n",
              "        text-align: right;\n",
              "    }\n",
              "</style>\n",
              "<table border=\"1\" class=\"dataframe\">\n",
              "  <thead>\n",
              "    <tr style=\"text-align: right;\">\n",
              "      <th></th>\n",
              "      <th>order_id</th>\n",
              "      <th>order_item_id</th>\n",
              "      <th>product_id</th>\n",
              "      <th>seller_id</th>\n",
              "      <th>shipping_limit_date</th>\n",
              "      <th>price</th>\n",
              "      <th>freight_value</th>\n",
              "    </tr>\n",

              "  </thead>\n",
              "  <tbody>\n",
              "    <tr>\n",
              "      <th>0</th>\n",

              "      <td>00e7ee1b050b8499577073aeb2a297a1</td>\n",
              "      <td>14409</td>\n",
              "      <td>-20.519565</td>\n",
              "      <td>-47.391123</td>\n",
              "    </tr>\n",
              "    <tr>\n",
              "      <th>1</th>\n",
              "      <td>00e7ee1b050b8499577073aeb2a297a1</td>\n",
              "      <td>14409</td>\n",
              "      <td>-20.518938</td>\n",
              "      <td>-47.397374</td>\n",
              "    </tr>\n",
              "    <tr>\n",
              "      <th>2</th>\n",
              "      <td>00e7ee1b050b8499577073aeb2a297a1</td>\n",
              "      <td>14409</td>\n",
              "      <td>-20.518888</td>\n",
              "      <td>-47.394047</td>\n",
              "    </tr>\n",
              "    <tr>\n",
              "      <th>3</th>\n",
              "      <td>00e7ee1b050b8499577073aeb2a297a1</td>\n",
              "      <td>14409</td>\n",
              "      <td>-20.518675</td>\n",
              "      <td>-47.393997</td>\n",
              "    </tr>\n",
              "    <tr>\n",
              "      <th>4</th>\n",
              "      <td>00e7ee1b050b8499577073aeb2a297a1</td>\n",
              "      <td>14409</td>\n",
              "      <td>-20.518012</td>\n",
              "      <td>-47.397669</td>\n",
              "    </tr>\n",
              "    <tr>\n",
              "      <th>5</th>\n",
              "      <td>00e7ee1b050b8499577073aeb2a297a1</td>\n",
              "      <td>14409</td>\n",
              "      <td>-20.517861</td>\n",
              "      <td>-47.396860</td>\n",
              "    </tr>\n",
              "    <tr>\n",
              "      <th>6</th>\n",
              "      <td>00e7ee1b050b8499577073aeb2a297a1</td>\n",
              "      <td>14409</td>\n",
              "      <td>-20.517802</td>\n",
              "      <td>-47.396757</td>\n",
              "    </tr>\n",
              "    <tr>\n",
              "      <th>7</th>\n",
              "      <td>00e7ee1b050b8499577073aeb2a297a1</td>\n",
              "      <td>14409</td>\n",
              "      <td>-20.517560</td>\n",
              "      <td>-47.383913</td>\n",
              "    </tr>\n",
              "    <tr>\n",
              "      <th>8</th>\n",
              "      <td>00e7ee1b050b8499577073aeb2a297a1</td>\n",
              "      <td>14409</td>\n",
              "      <td>-20.517125</td>\n",
              "      <td>-47.394045</td>\n",
              "    </tr>\n",
              "    <tr>\n",
              "      <th>9</th>\n",
              "      <td>00e7ee1b050b8499577073aeb2a297a1</td>\n",
              "      <td>14409</td>\n",
              "      <td>-20.516322</td>\n",
              "      <td>-47.396535</td>\n",
              "    </tr>\n",
              "  </tbody>\n",
              "</table>\n",
              "</div>\n",
              "    <div class=\"colab-df-buttons\">\n",
              "\n",
              "  <div class=\"colab-df-container\">\n",
              "    <button class=\"colab-df-convert\" onclick=\"convertToInteractive('df-425c8b19-12bd-4913-b6c4-6caee2780226')\"\n",
              "            title=\"Convert this dataframe to an interactive table.\"\n",
              "            style=\"display:none;\">\n",
              "\n",
              "  <svg xmlns=\"http://www.w3.org/2000/svg\" height=\"24px\" viewBox=\"0 -960 960 960\">\n",
              "    <path d=\"M120-120v-720h720v720H120Zm60-500h600v-160H180v160Zm220 220h160v-160H400v160Zm0 220h160v-160H400v160ZM180-400h160v-160H180v160Zm440 0h160v-160H620v160ZM180-180h160v-160H180v160Zm440 0h160v-160H620v160Z\"/>\n",
              "  </svg>\n",
              "    </button>\n",
              "\n",
              "  <style>\n",
              "    .colab-df-container {\n",
              "      display:flex;\n",
              "      gap: 12px;\n",
              "    }\n",
              "\n",
              "    .colab-df-convert {\n",
              "      background-color: #E8F0FE;\n",
              "      border: none;\n",
              "      border-radius: 50%;\n",
              "      cursor: pointer;\n",
              "      display: none;\n",
              "      fill: #1967D2;\n",
              "      height: 32px;\n",
              "      padding: 0 0 0 0;\n",
              "      width: 32px;\n",
              "    }\n",
              "\n",
              "    .colab-df-convert:hover {\n",
              "      background-color: #E2EBFA;\n",
              "      box-shadow: 0px 1px 2px rgba(60, 64, 67, 0.3), 0px 1px 3px 1px rgba(60, 64, 67, 0.15);\n",
              "      fill: #174EA6;\n",
              "    }\n",
              "\n",
              "    .colab-df-buttons div {\n",
              "      margin-bottom: 4px;\n",
              "    }\n",
              "\n",
              "    [theme=dark] .colab-df-convert {\n",
              "      background-color: #3B4455;\n",
              "      fill: #D2E3FC;\n",
              "    }\n",
              "\n",
              "    [theme=dark] .colab-df-convert:hover {\n",
              "      background-color: #434B5C;\n",
              "      box-shadow: 0px 1px 3px 1px rgba(0, 0, 0, 0.15);\n",
              "      filter: drop-shadow(0px 1px 2px rgba(0, 0, 0, 0.3));\n",
              "      fill: #FFFFFF;\n",
              "    }\n",
              "  </style>\n",
              "\n",
              "    <script>\n",
              "      const buttonEl =\n",
              "        document.querySelector('#df-425c8b19-12bd-4913-b6c4-6caee2780226 button.colab-df-convert');\n",
              "      buttonEl.style.display =\n",
              "        google.colab.kernel.accessAllowed ? 'block' : 'none';\n",
              "\n",
              "      async function convertToInteractive(key) {\n",
              "        const element = document.querySelector('#df-425c8b19-12bd-4913-b6c4-6caee2780226');\n",
              "        const dataTable =\n",
              "          await google.colab.kernel.invokeFunction('convertToInteractive',\n",
              "                                                    [key], {});\n",
              "        if (!dataTable) return;\n",
              "\n",
              "        const docLinkHtml = 'Like what you see? Visit the ' +\n",
              "          '<a target=\"_blank\" href=https://colab.research.google.com/notebooks/data_table.ipynb>data table notebook</a>'\n",
              "          + ' to learn more about interactive tables.';\n",
              "        element.innerHTML = '';\n",
              "        dataTable['output_type'] = 'display_data';\n",
              "        await google.colab.output.renderOutput(dataTable, element);\n",
              "        const docLink = document.createElement('div');\n",
              "        docLink.innerHTML = docLinkHtml;\n",
              "        element.appendChild(docLink);\n",
              "      }\n",
              "    </script>\n",
              "  </div>\n",
              "\n",
              "\n",
              "<div id=\"df-f036602b-8674-4dbb-926d-a70bf8580a97\">\n",
              "  <button class=\"colab-df-quickchart\" onclick=\"quickchart('df-f036602b-8674-4dbb-926d-a70bf8580a97')\"\n",
              "            title=\"Suggest charts.\"\n",
              "            style=\"display:none;\">\n",
              "\n",
              "<svg xmlns=\"http://www.w3.org/2000/svg\" height=\"24px\"viewBox=\"0 0 24 24\"\n",
              "     width=\"24px\">\n",
              "    <g>\n",
              "        <path d=\"M19 3H5c-1.1 0-2 .9-2 2v14c0 1.1.9 2 2 2h14c1.1 0 2-.9 2-2V5c0-1.1-.9-2-2-2zM9 17H7v-7h2v7zm4 0h-2V7h2v10zm4 0h-2v-4h2v4z\"/>\n",
              "    </g>\n",
              "</svg>\n",
              "  </button>\n",
              "\n",
              "<style>\n",
              "  .colab-df-quickchart {\n",
              "      --bg-color: #E8F0FE;\n",
              "      --fill-color: #1967D2;\n",
              "      --hover-bg-color: #E2EBFA;\n",
              "      --hover-fill-color: #174EA6;\n",
              "      --disabled-fill-color: #AAA;\n",
              "      --disabled-bg-color: #DDD;\n",
              "  }\n",
              "\n",
              "  [theme=dark] .colab-df-quickchart {\n",
              "      --bg-color: #3B4455;\n",
              "      --fill-color: #D2E3FC;\n",
              "      --hover-bg-color: #434B5C;\n",
              "      --hover-fill-color: #FFFFFF;\n",
              "      --disabled-bg-color: #3B4455;\n",
              "      --disabled-fill-color: #666;\n",
              "  }\n",
              "\n",
              "  .colab-df-quickchart {\n",
              "    background-color: var(--bg-color);\n",
              "    border: none;\n",
              "    border-radius: 50%;\n",
              "    cursor: pointer;\n",
              "    display: none;\n",
              "    fill: var(--fill-color);\n",
              "    height: 32px;\n",
              "    padding: 0;\n",
              "    width: 32px;\n",
              "  }\n",
              "\n",
              "  .colab-df-quickchart:hover {\n",
              "    background-color: var(--hover-bg-color);\n",
              "    box-shadow: 0 1px 2px rgba(60, 64, 67, 0.3), 0 1px 3px 1px rgba(60, 64, 67, 0.15);\n",
              "    fill: var(--button-hover-fill-color);\n",
              "  }\n",
              "\n",
              "  .colab-df-quickchart-complete:disabled,\n",
              "  .colab-df-quickchart-complete:disabled:hover {\n",
              "    background-color: var(--disabled-bg-color);\n",
              "    fill: var(--disabled-fill-color);\n",
              "    box-shadow: none;\n",
              "  }\n",
              "\n",
              "  .colab-df-spinner {\n",
              "    border: 2px solid var(--fill-color);\n",
              "    border-color: transparent;\n",
              "    border-bottom-color: var(--fill-color);\n",
              "    animation:\n",
              "      spin 1s steps(1) infinite;\n",
              "  }\n",
              "\n",
              "  @keyframes spin {\n",
              "    0% {\n",
              "      border-color: transparent;\n",
              "      border-bottom-color: var(--fill-color);\n",
              "      border-left-color: var(--fill-color);\n",
              "    }\n",
              "    20% {\n",
              "      border-color: transparent;\n",
              "      border-left-color: var(--fill-color);\n",
              "      border-top-color: var(--fill-color);\n",
              "    }\n",
              "    30% {\n",
              "      border-color: transparent;\n",
              "      border-left-color: var(--fill-color);\n",
              "      border-top-color: var(--fill-color);\n",
              "      border-right-color: var(--fill-color);\n",
              "    }\n",
              "    40% {\n",
              "      border-color: transparent;\n",
              "      border-right-color: var(--fill-color);\n",
              "      border-top-color: var(--fill-color);\n",
              "    }\n",
              "    60% {\n",
              "      border-color: transparent;\n",
              "      border-right-color: var(--fill-color);\n",
              "    }\n",
              "    80% {\n",
              "      border-color: transparent;\n",
              "      border-right-color: var(--fill-color);\n",
              "      border-bottom-color: var(--fill-color);\n",
              "    }\n",
              "    90% {\n",
              "      border-color: transparent;\n",
              "      border-bottom-color: var(--fill-color);\n",
              "    }\n",
              "  }\n",
              "</style>\n",
              "\n",
              "  <script>\n",
              "    async function quickchart(key) {\n",
              "      const quickchartButtonEl =\n",
              "        document.querySelector('#' + key + ' button');\n",
              "      quickchartButtonEl.disabled = true;  // To prevent multiple clicks.\n",
              "      quickchartButtonEl.classList.add('colab-df-spinner');\n",
              "      try {\n",
              "        const charts = await google.colab.kernel.invokeFunction(\n",
              "            'suggestCharts', [key], {});\n",
              "      } catch (error) {\n",
              "        console.error('Error during call to suggestCharts:', error);\n",
              "      }\n",
              "      quickchartButtonEl.classList.remove('colab-df-spinner');\n",
              "      quickchartButtonEl.classList.add('colab-df-quickchart-complete');\n",
              "    }\n",
              "    (() => {\n",
              "      let quickchartButtonEl =\n",
              "        document.querySelector('#df-f036602b-8674-4dbb-926d-a70bf8580a97 button');\n",
              "      quickchartButtonEl.style.display =\n",
              "        google.colab.kernel.accessAllowed ? 'block' : 'none';\n",
              "    })();\n",
              "  </script>\n",
              "</div>\n",
              "    </div>\n",
              "  </div>\n"
            ]
          },
          "metadata": {},
          "execution_count": 13
        }
      ]
    },
    {
      "cell_type": "markdown",
      "source": [
        "## BBT1-25 Extracción de datos desde las tablas orders y reviews"
      ],
      "metadata": {
        "id": "CjtHz0aHwPit"
      }
    },
    {
      "cell_type": "code",
      "source": [
        "#Crear un DataFrame que contenga el JOIN de la tabla orders y tabla reviews para extraer los datos de órdenes con sus scores\n",
        "\n",
        "query_bbt1_25 = '''\n",
        "  SELECT o.order_id, review_score\n",
        "  FROM orders o\n",
        "  JOIN order_review r\n",
        "  ON o.order_id = r.order_id\n",
        "  ORDER BY review_score\n",
        "  LIMIT 10\n",
        "  '''\n",
        "orders_score = pd.read_sql_query(query_bbt1_25, conn)\n",
        "orders_score"
      ],
      "metadata": {
        "id": "WV0fJtXOwYSY",
        "colab": {
          "base_uri": "https://localhost:8080/",
          "height": 363
        },
        "outputId": "7d4ef6bc-1772-4513-cb3a-c22febbc040b"
      },
      "execution_count": 11,
      "outputs": [
        {
          "output_type": "execute_result",
          "data": {
            "text/plain": [
              "                           order_id  review_score\n",
              "0  76c6e866289321a7c93b82b54852dc33             1\n",
              "1  e6ce16cb79ec1d90b1da9085a6118aeb             1\n",
              "2  acce194856392f074dbf9dada14d8d82             1\n",
              "3  1790eea0b567cf50911c057cf20f90f9             1\n",
              "4  6ea2f835b4556291ffdc53fa0b3b95e8             1\n",
              "5  ee64d42b8cf066f35eac1cf57de1aa85             1\n",
              "6  6ebaec694d7025e2ad4a05dba887c032             1\n",
              "7  9faeb9b2746b9d7526aef5acb08e2aa0             1\n",
              "8  66e4624ae69e7dc89bd50222b59f581f             1\n",
              "9  a685d016c8a26f71a0bb67821070e398             1"
            ],
            "text/html": [
              "\n",
              "  <div id=\"df-d20c76e4-2446-41c8-8175-0baa88521f32\" class=\"colab-df-container\">\n",
              "    <div>\n",

              "      <td>00010242fe8c5a6d1ba2dd792cb16214</td>\n",
              "      <td>1</td>\n",
              "      <td>4244733e06e7ecb4970a6e2683c13e61</td>\n",
              "      <td>48436dade18ac8b2bce089ec2a041202</td>\n",
              "      <td>2017-09-19 09:45:35</td>\n",
              "      <td>58.9</td>\n",
              "      <td>13.29</td>\n",
              "    </tr>\n",
              "  </tbody>\n",
              "</table>\n",
              "</div>"
            ],
            "text/plain": [
              "                           order_id  order_item_id  \\\n",
              "0  00010242fe8c5a6d1ba2dd792cb16214              1   \n",
              "\n",
              "                         product_id                         seller_id  \\\n",
              "0  4244733e06e7ecb4970a6e2683c13e61  48436dade18ac8b2bce089ec2a041202   \n",
              "\n",
              "   shipping_limit_date  price  freight_value  \n",
              "0  2017-09-19 09:45:35   58.9          13.29  "
            ]
          },
          "execution_count": 8,
          "metadata": {},
          "output_type": "execute_result"
        }
      ],
      "source": [
        "order_items.head(1)"
      ]
    },
    {
      "cell_type": "code",
      "execution_count": 9,
      "metadata": {},
      "outputs": [
        {
          "data": {
            "text/html": [
              "<div>\n",
              "<style scoped>\n",
              "    .dataframe tbody tr th:only-of-type {\n",
              "        vertical-align: middle;\n",
              "    }\n",
              "\n",
              "    .dataframe tbody tr th {\n",
              "        vertical-align: top;\n",
              "    }\n",
              "\n",
              "    .dataframe thead th {\n",
              "        text-align: right;\n",
              "    }\n",
              "</style>\n",
              "<table border=\"1\" class=\"dataframe\">\n",
              "  <thead>\n",
              "    <tr style=\"text-align: right;\">\n",
              "      <th></th>\n",
              "      <th>product_id</th>\n",
              "      <th>product_category_name</th>\n",
              "      <th>product_name_lenght</th>\n",
              "      <th>product_description_lenght</th>\n",
              "      <th>product_photos_qty</th>\n",
              "      <th>product_weight_g</th>\n",
              "      <th>product_length_cm</th>\n",
              "      <th>product_height_cm</th>\n",
              "      <th>product_width_cm</th>\n",
              "    </tr>\n",
              "  </thead>\n",
              "  <tbody>\n",
              "    <tr>\n",
              "      <th>0</th>\n",
              "      <td>1e9e8ef04dbcff4541ed26657ea517e5</td>\n",
              "      <td>perfumaria</td>\n",
              "      <td>40.0</td>\n",
              "      <td>287.0</td>\n",
              "      <td>1.0</td>\n",
              "      <td>225.0</td>\n",
              "      <td>16.0</td>\n",
              "      <td>10.0</td>\n",
              "      <td>14.0</td>\n",
              "    </tr>\n",
              "  </tbody>\n",
              "</table>\n",
              "</div>"
            ],
            "text/plain": [
              "                         product_id product_category_name  \\\n",
              "0  1e9e8ef04dbcff4541ed26657ea517e5            perfumaria   \n",
              "\n",
              "   product_name_lenght  product_description_lenght  product_photos_qty  \\\n",
              "0                 40.0                       287.0                 1.0   \n",
              "\n",
              "   product_weight_g  product_length_cm  product_height_cm  product_width_cm  \n",
              "0             225.0               16.0               10.0              14.0  "
            ]
          },
          "execution_count": 9,
          "metadata": {},
          "output_type": "execute_result"
        }
      ],
      "source": [
        "products.head(1)"
      ]
    },
    {
      "cell_type": "code",
      "execution_count": 10,
      "metadata": {},
      "outputs": [
        {
          "data": {
            "text/html": [
              "<div>\n",
              "<style scoped>\n",
              "    .dataframe tbody tr th:only-of-type {\n",
              "        vertical-align: middle;\n",
              "    }\n",
              "\n",
              "    .dataframe tbody tr th {\n",
              "        vertical-align: top;\n",
              "    }\n",
              "\n",
              "    .dataframe thead th {\n",
              "        text-align: right;\n",
              "    }\n",
              "</style>\n",
              "<table border=\"1\" class=\"dataframe\">\n",
              "  <thead>\n",
              "    <tr style=\"text-align: right;\">\n",
              "      <th></th>\n",
              "      <th>product_category_name</th>\n",
              "      <th>product_category_name_english</th>\n",
              "    </tr>\n",
              "  </thead>\n",
              "  <tbody>\n",
              "    <tr>\n",
              "      <th>0</th>\n",
              "      <td>beleza_saude</td>\n",
              "      <td>health_beauty</td>\n",
              "    </tr>\n",
              "  </tbody>\n",
              "</table>\n",
              "</div>"
            ],
            "text/plain": [
              "  product_category_name product_category_name_english\n",
              "0          beleza_saude                 health_beauty"
            ]
          },
          "execution_count": 10,
          "metadata": {},
          "output_type": "execute_result"
        }
      ],
      "source": [
        "category_names.head(1)"
      ]
    },
    {
      "cell_type": "code",
      "execution_count": 12,
      "metadata": {},
      "outputs": [],
      "source": [
        "bt1_26_query = '''\n",
        "    SELECT oi.*, c.product_category_name_english AS product_name\n",
        "    FROM order_items AS oi\n",
        "    INNER JOIN products AS p\n",
        "        ON oi.product_id = p.product_id\n",
        "    INNER JOIN category AS c\n",
        "        ON p.product_category_name = c.product_category_name_english\n",
        ";\n",
        "'''\n",
        "BT1_26 = pd.read_sql_query(bt1_26_query, conn)"
      ]
    },
    {
      "cell_type": "code",
      "execution_count": 13,
      "metadata": {},
      "outputs": [
        {
          "data": {
            "text/html": [
              "<div>\n",
              "<style scoped>\n",
              "    .dataframe tbody tr th:only-of-type {\n",
              "        vertical-align: middle;\n",
              "    }\n",
              "\n",
              "    .dataframe tbody tr th {\n",
              "        vertical-align: top;\n",
              "    }\n",
              "\n",
              "    .dataframe thead th {\n",
              "        text-align: right;\n",
              "    }\n",
              "</style>\n",
              "<table border=\"1\" class=\"dataframe\">\n",
              "  <thead>\n",
              "    <tr style=\"text-align: right;\">\n",
              "      <th></th>\n",
              "      <th>index</th>\n",
              "      <th>order_id</th>\n",
              "      <th>order_item_id</th>\n",
              "      <th>product_id</th>\n",
              "      <th>seller_id</th>\n",
              "      <th>shipping_limit_date</th>\n",
              "      <th>price</th>\n",
              "      <th>freight_value</th>\n",
              "      <th>product_name</th>\n",
              "    </tr>\n",
              "  </thead>\n",
              "  <tbody>\n",
              "    <tr>\n",
              "      <th>0</th>\n",
              "      <td>0</td>\n",
              "      <td>00010242fe8c5a6d1ba2dd792cb16214</td>\n",
              "      <td>1</td>\n",
              "      <td>4244733e06e7ecb4970a6e2683c13e61</td>\n",
              "      <td>48436dade18ac8b2bce089ec2a041202</td>\n",
              "      <td>2017-09-19 09:45:35</td>\n",
              "      <td>58.9</td>\n",
              "      <td>13.29</td>\n",
              "      <td>cool_stuff</td>\n",
              "    </tr>\n",
              "    <tr>\n",
              "      <th>1</th>\n",
              "      <td>1</td>\n",
              "      <td>00018f77f2f0320c557190d7a144bdd3</td>\n",
              "      <td>1</td>\n",
              "      <td>e5f2d52b802189ee658865ca93d83a8f</td>\n",
              "      <td>dd7ddc04e1b6c2c614352b383efe2d36</td>\n",
              "      <td>2017-05-03 11:05:13</td>\n",
              "      <td>239.9</td>\n",
              "      <td>19.93</td>\n",
              "      <td>pet_shop</td>\n",
              "    </tr>\n",
              "    <tr>\n",
              "      <th>2</th>\n",
              "      <td>16</td>\n",
              "      <td>0009c9a17f916a706d71784483a5d643</td>\n",
              "      <td>1</td>\n",
              "      <td>3f27ac8e699df3d300ec4a5d8c5cf0b2</td>\n",
              "      <td>fcb5ace8bcc92f75707dc0f01a27d269</td>\n",
              "      <td>2018-05-02 09:31:53</td>\n",
              "      <td>639.0</td>\n",
              "      <td>11.34</td>\n",
              "      <td>consoles_games</td>\n",
              "    </tr>\n",
              "    <tr>\n",
              "      <th>3</th>\n",
              "      <td>19</td>\n",
              "      <td>000e562887b1f2006d75e0be9558292e</td>\n",
              "      <td>1</td>\n",
              "      <td>5ed9eaf534f6936b51d0b6c5e4d5c2e9</td>\n",
              "      <td>8cbac7e12637ed9cffa18c7875207478</td>\n",
              "      <td>2018-02-28 12:08:37</td>\n",
              "      <td>25.0</td>\n",
              "      <td>16.11</td>\n",
              "      <td>cool_stuff</td>\n",
              "    </tr>\n",
              "    <tr>\n",
              "      <th>4</th>\n",
              "      <td>24</td>\n",
              "      <td>0010b2e5201cc5f1ae7e9c6cc8f5bd00</td>\n",
              "      <td>1</td>\n",
              "      <td>5a419dbf24a8c9718fe522b81c69f61a</td>\n",
              "      <td>3504c0cb71d7fa48d967e0e4c94d59d9</td>\n",
              "      <td>2017-09-15 18:04:37</td>\n",
              "      <td>48.9</td>\n",
              "      <td>16.60</td>\n",
              "      <td>cool_stuff</td>\n",
              "    </tr>\n",
              "  </tbody>\n",
              "</table>\n",
              "</div>"
            ],
            "text/plain": [
              "   index                          order_id  order_item_id  \\\n",
              "0      0  00010242fe8c5a6d1ba2dd792cb16214              1   \n",
              "1      1  00018f77f2f0320c557190d7a144bdd3              1   \n",
              "2     16  0009c9a17f916a706d71784483a5d643              1   \n",
              "3     19  000e562887b1f2006d75e0be9558292e              1   \n",
              "4     24  0010b2e5201cc5f1ae7e9c6cc8f5bd00              1   \n",
              "\n",
              "                         product_id                         seller_id  \\\n",
              "0  4244733e06e7ecb4970a6e2683c13e61  48436dade18ac8b2bce089ec2a041202   \n",
              "1  e5f2d52b802189ee658865ca93d83a8f  dd7ddc04e1b6c2c614352b383efe2d36   \n",
              "2  3f27ac8e699df3d300ec4a5d8c5cf0b2  fcb5ace8bcc92f75707dc0f01a27d269   \n",
              "3  5ed9eaf534f6936b51d0b6c5e4d5c2e9  8cbac7e12637ed9cffa18c7875207478   \n",
              "4  5a419dbf24a8c9718fe522b81c69f61a  3504c0cb71d7fa48d967e0e4c94d59d9   \n",
              "\n",
              "   shipping_limit_date  price  freight_value    product_name  \n",
              "0  2017-09-19 09:45:35   58.9          13.29      cool_stuff  \n",
              "1  2017-05-03 11:05:13  239.9          19.93        pet_shop  \n",
              "2  2018-05-02 09:31:53  639.0          11.34  consoles_games  \n",
              "3  2018-02-28 12:08:37   25.0          16.11      cool_stuff  \n",
              "4  2017-09-15 18:04:37   48.9          16.60      cool_stuff  "
            ]
          },
          "execution_count": 13,
          "metadata": {},
          "output_type": "execute_result"
        }
      ],
      "source": [
        "BT1_26.head()"
      ]
    },
    {
      "cell_type": "markdown",
      "metadata": {},
      "source": [
        "BT1_27 - Extracción de datos desde las tablas orders, payments y customers"
      ]
    },
    {
      "cell_type": "code",
      "execution_count": 14,
      "metadata": {},
      "outputs": [
        {
          "data": {
            "text/html": [
              "<div>\n",
              "<style scoped>\n",
              "    .dataframe tbody tr th:only-of-type {\n",
              "        vertical-align: middle;\n",
              "    }\n",
              "\n",
              "    .dataframe tbody tr th {\n",
              "        vertical-align: top;\n",
              "    }\n",
              "\n",
              "    .dataframe thead th {\n",
              "        text-align: right;\n",
              "    }\n",
              "</style>\n",
              "<table border=\"1\" class=\"dataframe\">\n",
              "  <thead>\n",
              "    <tr style=\"text-align: right;\">\n",
              "      <th></th>\n",
              "      <th>order_id</th>\n",
              "      <th>customer_id</th>\n",
              "      <th>order_status</th>\n",
              "      <th>order_purchase_timestamp</th>\n",
              "      <th>order_approved_at</th>\n",
              "      <th>order_delivered_carrier_date</th>\n",
              "      <th>order_delivered_customer_date</th>\n",
              "      <th>order_estimated_delivery_date</th>\n",
              "    </tr>\n",
              "  </thead>\n",
              "  <tbody>\n",
              "    <tr>\n",
              "      <th>0</th>\n",
              "      <td>e481f51cbdc54678b7cc49136f2d6af7</td>\n",
              "      <td>9ef432eb6251297304e76186b10a928d</td>\n",
              "      <td>delivered</td>\n",
              "      <td>2017-10-02 10:56:33</td>\n",
              "      <td>2017-10-02 11:07:15</td>\n",
              "      <td>2017-10-04 19:55:00</td>\n",
              "      <td>2017-10-10 21:25:13</td>\n",
              "      <td>2017-10-18 00:00:00</td>\n",
              "    </tr>\n",
              "  </tbody>\n",
              "</table>\n",
              "</div>"
            ],
            "text/plain": [
              "                           order_id                       customer_id  \\\n",
              "0  e481f51cbdc54678b7cc49136f2d6af7  9ef432eb6251297304e76186b10a928d   \n",
              "\n",
              "  order_status order_purchase_timestamp    order_approved_at  \\\n",
              "0    delivered      2017-10-02 10:56:33  2017-10-02 11:07:15   \n",
              "\n",
              "  order_delivered_carrier_date order_delivered_customer_date  \\\n",
              "0          2017-10-04 19:55:00           2017-10-10 21:25:13   \n",
              "\n",
              "  order_estimated_delivery_date  \n",
              "0           2017-10-18 00:00:00  "
            ]
          },
          "execution_count": 14,
          "metadata": {},
          "output_type": "execute_result"
        }
      ],
      "source": [
        "orders.head(1)"
      ]
    },
    {
      "cell_type": "code",
      "execution_count": 16,
      "metadata": {},
      "outputs": [
        {
          "data": {
            "text/html": [
              "<div>\n",
              "<style scoped>\n",
              "    .dataframe tbody tr th:only-of-type {\n",
              "        vertical-align: middle;\n",
              "    }\n",
              "\n",
              "    .dataframe tbody tr th {\n",
              "        vertical-align: top;\n",
              "    }\n",
              "\n",
              "    .dataframe thead th {\n",
              "        text-align: right;\n",
              "    }\n",
              "</style>\n",
              "<table border=\"1\" class=\"dataframe\">\n",
              "  <thead>\n",
              "    <tr style=\"text-align: right;\">\n",
              "      <th></th>\n",
              "      <th>order_id</th>\n",
              "      <th>payment_sequential</th>\n",
              "      <th>payment_type</th>\n",
              "      <th>payment_installments</th>\n",
              "      <th>payment_value</th>\n",
              "    </tr>\n",
              "  </thead>\n",
              "  <tbody>\n",
              "    <tr>\n",
              "      <th>0</th>\n",
              "      <td>b81ef226f3fe1789b1e8b2acac839d17</td>\n",
              "      <td>1</td>\n",
              "      <td>credit_card</td>\n",
              "      <td>8</td>\n",
              "      <td>99.33</td>\n",
              "    </tr>\n",
              "  </tbody>\n",
              "</table>\n",
              "</div>"
            ],
            "text/plain": [
              "                           order_id  payment_sequential payment_type  \\\n",
              "0  b81ef226f3fe1789b1e8b2acac839d17                   1  credit_card   \n",
              "\n",
              "   payment_installments  payment_value  \n",
              "0                     8          99.33  "
            ]
          },
          "execution_count": 16,
          "metadata": {},
          "output_type": "execute_result"
        }
      ],
      "source": [
        "order_payments.head(1)"
      ]
    },
    {
      "cell_type": "code",
      "execution_count": 17,
      "metadata": {},
      "outputs": [
        {
          "data": {
            "text/html": [
              "<div>\n",
              "<style scoped>\n",
              "    .dataframe tbody tr th:only-of-type {\n",
              "        vertical-align: middle;\n",
              "    }\n",
              "\n",
              "    .dataframe tbody tr th {\n",
              "        vertical-align: top;\n",
              "    }\n",
              "\n",
              "    .dataframe thead th {\n",
              "        text-align: right;\n",
              "    }\n",
              "</style>\n",
              "<table border=\"1\" class=\"dataframe\">\n",
              "  <thead>\n",
              "    <tr style=\"text-align: right;\">\n",
              "      <th></th>\n",
              "      <th>customer_id</th>\n",
              "      <th>customer_unique_id</th>\n",
              "      <th>customer_zip_code_prefix</th>\n",
              "      <th>customer_city</th>\n",
              "      <th>customer_state</th>\n",
              "    </tr>\n",
              "  </thead>\n",
              "  <tbody>\n",
              "    <tr>\n",
              "      <th>0</th>\n",
              "      <td>06b8999e2fba1a1fbc88172c00ba8bc7</td>\n",
              "      <td>861eff4711a542e4b93843c6dd7febb0</td>\n",
              "      <td>14409</td>\n",
              "      <td>franca</td>\n",
              "      <td>SP</td>\n",
              "    </tr>\n",
              "  </tbody>\n",
              "</table>\n",
              "</div>"
            ],
            "text/plain": [
              "                        customer_id                customer_unique_id  \\\n",
              "0  06b8999e2fba1a1fbc88172c00ba8bc7  861eff4711a542e4b93843c6dd7febb0   \n",
              "\n",
              "   customer_zip_code_prefix customer_city customer_state  \n",
              "0                     14409        franca             SP  "
            ]
          },
          "execution_count": 17,
          "metadata": {},
          "output_type": "execute_result"
        }
      ],
      "source": [
        "customers.head(1)"
      ]
    },
    {
      "cell_type": "code",
      "execution_count": 19,
      "metadata": {},
      "outputs": [],
      "source": [
        "bt1_27_query = '''\n",
        "    SELECT c.customer_unique_id, op.payment_type, c.customer_city, c.customer_state\n",
        "    FROM customers AS c\n",
        "    INNER JOIN orders AS o\n",
        "        ON c.customer_id = o.customer_id\n",
        "    INNER JOIN order_payments AS op\n",
        "        ON o.order_id = op.order_id\n",
        "        \n",
        ";\n",
        "'''\n",
        "BT1_27 = pd.read_sql_query(bt1_27_query, conn)"
      ]
    },
    {
      "cell_type": "code",
      "execution_count": 34,
      "metadata": {},
      "outputs": [
        {
          "data": {
            "text/html": [
              "<div>\n",

              "<style scoped>\n",
              "    .dataframe tbody tr th:only-of-type {\n",
              "        vertical-align: middle;\n",
              "    }\n",
              "\n",
              "    .dataframe tbody tr th {\n",
              "        vertical-align: top;\n",
              "    }\n",
              "\n",
              "    .dataframe thead th {\n",
              "        text-align: right;\n",
              "    }\n",
              "</style>\n",
              "<table border=\"1\" class=\"dataframe\">\n",
              "  <thead>\n",
              "    <tr style=\"text-align: right;\">\n",
              "      <th></th>\n",

              "      <th>order_id</th>\n",
              "      <th>review_score</th>\n",
              "    </tr>\n",
              "  </thead>\n",
              "  <tbody>\n",
              "    <tr>\n",
              "      <th>0</th>\n",
              "      <td>76c6e866289321a7c93b82b54852dc33</td>\n",
              "      <td>1</td>\n",
              "    </tr>\n",
              "    <tr>\n",
              "      <th>1</th>\n",
              "      <td>e6ce16cb79ec1d90b1da9085a6118aeb</td>\n",
              "      <td>1</td>\n",
              "    </tr>\n",
              "    <tr>\n",
              "      <th>2</th>\n",
              "      <td>acce194856392f074dbf9dada14d8d82</td>\n",
              "      <td>1</td>\n",
              "    </tr>\n",
              "    <tr>\n",
              "      <th>3</th>\n",
              "      <td>1790eea0b567cf50911c057cf20f90f9</td>\n",
              "      <td>1</td>\n",
              "    </tr>\n",
              "    <tr>\n",
              "      <th>4</th>\n",
              "      <td>6ea2f835b4556291ffdc53fa0b3b95e8</td>\n",
              "      <td>1</td>\n",
              "    </tr>\n",
              "    <tr>\n",
              "      <th>5</th>\n",
              "      <td>ee64d42b8cf066f35eac1cf57de1aa85</td>\n",
              "      <td>1</td>\n",
              "    </tr>\n",
              "    <tr>\n",
              "      <th>6</th>\n",
              "      <td>6ebaec694d7025e2ad4a05dba887c032</td>\n",
              "      <td>1</td>\n",
              "    </tr>\n",
              "    <tr>\n",
              "      <th>7</th>\n",
              "      <td>9faeb9b2746b9d7526aef5acb08e2aa0</td>\n",
              "      <td>1</td>\n",
              "    </tr>\n",
              "    <tr>\n",
              "      <th>8</th>\n",
              "      <td>66e4624ae69e7dc89bd50222b59f581f</td>\n",
              "      <td>1</td>\n",
              "    </tr>\n",
              "    <tr>\n",
              "      <th>9</th>\n",
              "      <td>a685d016c8a26f71a0bb67821070e398</td>\n",
              "      <td>1</td>\n",
              "    </tr>\n",
              "  </tbody>\n",
              "</table>\n",
              "</div>\n",
              "    <div class=\"colab-df-buttons\">\n",
              "\n",
              "  <div class=\"colab-df-container\">\n",
              "    <button class=\"colab-df-convert\" onclick=\"convertToInteractive('df-d20c76e4-2446-41c8-8175-0baa88521f32')\"\n",
              "            title=\"Convert this dataframe to an interactive table.\"\n",
              "            style=\"display:none;\">\n",
              "\n",
              "  <svg xmlns=\"http://www.w3.org/2000/svg\" height=\"24px\" viewBox=\"0 -960 960 960\">\n",
              "    <path d=\"M120-120v-720h720v720H120Zm60-500h600v-160H180v160Zm220 220h160v-160H400v160Zm0 220h160v-160H400v160ZM180-400h160v-160H180v160Zm440 0h160v-160H620v160ZM180-180h160v-160H180v160Zm440 0h160v-160H620v160Z\"/>\n",
              "  </svg>\n",
              "    </button>\n",
              "\n",
              "  <style>\n",
              "    .colab-df-container {\n",
              "      display:flex;\n",
              "      gap: 12px;\n",
              "    }\n",
              "\n",
              "    .colab-df-convert {\n",
              "      background-color: #E8F0FE;\n",
              "      border: none;\n",
              "      border-radius: 50%;\n",
              "      cursor: pointer;\n",
              "      display: none;\n",
              "      fill: #1967D2;\n",
              "      height: 32px;\n",
              "      padding: 0 0 0 0;\n",
              "      width: 32px;\n",
              "    }\n",
              "\n",
              "    .colab-df-convert:hover {\n",
              "      background-color: #E2EBFA;\n",
              "      box-shadow: 0px 1px 2px rgba(60, 64, 67, 0.3), 0px 1px 3px 1px rgba(60, 64, 67, 0.15);\n",
              "      fill: #174EA6;\n",
              "    }\n",
              "\n",
              "    .colab-df-buttons div {\n",
              "      margin-bottom: 4px;\n",
              "    }\n",
              "\n",
              "    [theme=dark] .colab-df-convert {\n",
              "      background-color: #3B4455;\n",
              "      fill: #D2E3FC;\n",
              "    }\n",
              "\n",
              "    [theme=dark] .colab-df-convert:hover {\n",
              "      background-color: #434B5C;\n",
              "      box-shadow: 0px 1px 3px 1px rgba(0, 0, 0, 0.15);\n",
              "      filter: drop-shadow(0px 1px 2px rgba(0, 0, 0, 0.3));\n",
              "      fill: #FFFFFF;\n",
              "    }\n",
              "  </style>\n",
              "\n",
              "    <script>\n",
              "      const buttonEl =\n",
              "        document.querySelector('#df-d20c76e4-2446-41c8-8175-0baa88521f32 button.colab-df-convert');\n",
              "      buttonEl.style.display =\n",
              "        google.colab.kernel.accessAllowed ? 'block' : 'none';\n",
              "\n",
              "      async function convertToInteractive(key) {\n",
              "        const element = document.querySelector('#df-d20c76e4-2446-41c8-8175-0baa88521f32');\n",
              "        const dataTable =\n",
              "          await google.colab.kernel.invokeFunction('convertToInteractive',\n",
              "                                                    [key], {});\n",
              "        if (!dataTable) return;\n",
              "\n",
              "        const docLinkHtml = 'Like what you see? Visit the ' +\n",
              "          '<a target=\"_blank\" href=https://colab.research.google.com/notebooks/data_table.ipynb>data table notebook</a>'\n",
              "          + ' to learn more about interactive tables.';\n",
              "        element.innerHTML = '';\n",
              "        dataTable['output_type'] = 'display_data';\n",
              "        await google.colab.output.renderOutput(dataTable, element);\n",
              "        const docLink = document.createElement('div');\n",
              "        docLink.innerHTML = docLinkHtml;\n",
              "        element.appendChild(docLink);\n",
              "      }\n",
              "    </script>\n",
              "  </div>\n",
              "\n",
              "\n",
              "<div id=\"df-888f6ad9-848a-45e3-8209-acb5a37ce227\">\n",
              "  <button class=\"colab-df-quickchart\" onclick=\"quickchart('df-888f6ad9-848a-45e3-8209-acb5a37ce227')\"\n",
              "            title=\"Suggest charts.\"\n",
              "            style=\"display:none;\">\n",
              "\n",
              "<svg xmlns=\"http://www.w3.org/2000/svg\" height=\"24px\"viewBox=\"0 0 24 24\"\n",
              "     width=\"24px\">\n",
              "    <g>\n",
              "        <path d=\"M19 3H5c-1.1 0-2 .9-2 2v14c0 1.1.9 2 2 2h14c1.1 0 2-.9 2-2V5c0-1.1-.9-2-2-2zM9 17H7v-7h2v7zm4 0h-2V7h2v10zm4 0h-2v-4h2v4z\"/>\n",
              "    </g>\n",
              "</svg>\n",
              "  </button>\n",
              "\n",
              "<style>\n",
              "  .colab-df-quickchart {\n",
              "      --bg-color: #E8F0FE;\n",
              "      --fill-color: #1967D2;\n",
              "      --hover-bg-color: #E2EBFA;\n",
              "      --hover-fill-color: #174EA6;\n",
              "      --disabled-fill-color: #AAA;\n",
              "      --disabled-bg-color: #DDD;\n",
              "  }\n",
              "\n",
              "  [theme=dark] .colab-df-quickchart {\n",
              "      --bg-color: #3B4455;\n",
              "      --fill-color: #D2E3FC;\n",
              "      --hover-bg-color: #434B5C;\n",
              "      --hover-fill-color: #FFFFFF;\n",
              "      --disabled-bg-color: #3B4455;\n",
              "      --disabled-fill-color: #666;\n",
              "  }\n",
              "\n",
              "  .colab-df-quickchart {\n",
              "    background-color: var(--bg-color);\n",
              "    border: none;\n",
              "    border-radius: 50%;\n",
              "    cursor: pointer;\n",
              "    display: none;\n",
              "    fill: var(--fill-color);\n",
              "    height: 32px;\n",
              "    padding: 0;\n",
              "    width: 32px;\n",
              "  }\n",
              "\n",
              "  .colab-df-quickchart:hover {\n",
              "    background-color: var(--hover-bg-color);\n",
              "    box-shadow: 0 1px 2px rgba(60, 64, 67, 0.3), 0 1px 3px 1px rgba(60, 64, 67, 0.15);\n",
              "    fill: var(--button-hover-fill-color);\n",
              "  }\n",
              "\n",
              "  .colab-df-quickchart-complete:disabled,\n",
              "  .colab-df-quickchart-complete:disabled:hover {\n",
              "    background-color: var(--disabled-bg-color);\n",
              "    fill: var(--disabled-fill-color);\n",
              "    box-shadow: none;\n",
              "  }\n",
              "\n",
              "  .colab-df-spinner {\n",
              "    border: 2px solid var(--fill-color);\n",
              "    border-color: transparent;\n",
              "    border-bottom-color: var(--fill-color);\n",
              "    animation:\n",
              "      spin 1s steps(1) infinite;\n",
              "  }\n",
              "\n",
              "  @keyframes spin {\n",
              "    0% {\n",
              "      border-color: transparent;\n",
              "      border-bottom-color: var(--fill-color);\n",
              "      border-left-color: var(--fill-color);\n",
              "    }\n",
              "    20% {\n",
              "      border-color: transparent;\n",
              "      border-left-color: var(--fill-color);\n",
              "      border-top-color: var(--fill-color);\n",
              "    }\n",
              "    30% {\n",
              "      border-color: transparent;\n",
              "      border-left-color: var(--fill-color);\n",
              "      border-top-color: var(--fill-color);\n",
              "      border-right-color: var(--fill-color);\n",
              "    }\n",
              "    40% {\n",
              "      border-color: transparent;\n",
              "      border-right-color: var(--fill-color);\n",
              "      border-top-color: var(--fill-color);\n",
              "    }\n",
              "    60% {\n",
              "      border-color: transparent;\n",
              "      border-right-color: var(--fill-color);\n",
              "    }\n",
              "    80% {\n",
              "      border-color: transparent;\n",
              "      border-right-color: var(--fill-color);\n",
              "      border-bottom-color: var(--fill-color);\n",
              "    }\n",
              "    90% {\n",
              "      border-color: transparent;\n",
              "      border-bottom-color: var(--fill-color);\n",
              "    }\n",
              "  }\n",
              "</style>\n",
              "\n",
              "  <script>\n",
              "    async function quickchart(key) {\n",
              "      const quickchartButtonEl =\n",
              "        document.querySelector('#' + key + ' button');\n",
              "      quickchartButtonEl.disabled = true;  // To prevent multiple clicks.\n",
              "      quickchartButtonEl.classList.add('colab-df-spinner');\n",
              "      try {\n",
              "        const charts = await google.colab.kernel.invokeFunction(\n",
              "            'suggestCharts', [key], {});\n",
              "      } catch (error) {\n",
              "        console.error('Error during call to suggestCharts:', error);\n",
              "      }\n",
              "      quickchartButtonEl.classList.remove('colab-df-spinner');\n",
              "      quickchartButtonEl.classList.add('colab-df-quickchart-complete');\n",
              "    }\n",
              "    (() => {\n",
              "      let quickchartButtonEl =\n",
              "        document.querySelector('#df-888f6ad9-848a-45e3-8209-acb5a37ce227 button');\n",
              "      quickchartButtonEl.style.display =\n",
              "        google.colab.kernel.accessAllowed ? 'block' : 'none';\n",
              "    })();\n",
              "  </script>\n",
              "</div>\n",
              "    </div>\n",
              "  </div>\n"
            ]
          },
          "metadata": {},
          "execution_count": 11
        }
      ]
    }
  ]
}

              "      <th>customer_unique_id</th>\n",
              "    </tr>\n",
              "    <tr>\n",
              "      <th>payment_type</th>\n",
              "      <th></th>\n",
              "    </tr>\n",
              "  </thead>\n",
              "  <tbody>\n",
              "    <tr>\n",
              "      <th>credit_card</th>\n",
              "      <td>76795</td>\n",
              "    </tr>\n",
              "    <tr>\n",
              "      <th>boleto</th>\n",
              "      <td>19784</td>\n",
              "    </tr>\n",
              "    <tr>\n",
              "      <th>voucher</th>\n",
              "      <td>5775</td>\n",
              "    </tr>\n",
              "    <tr>\n",
              "      <th>debit_card</th>\n",
              "      <td>1529</td>\n",
              "    </tr>\n",
              "    <tr>\n",
              "      <th>not_defined</th>\n",
              "      <td>3</td>\n",
              "    </tr>\n",
              "  </tbody>\n",
              "</table>\n",
              "</div>"
            ],
            "text/plain": [
              "              customer_unique_id\n",
              "payment_type                    \n",
              "credit_card                76795\n",
              "boleto                     19784\n",
              "voucher                     5775\n",
              "debit_card                  1529\n",
              "not_defined                    3"
            ]
          },
          "execution_count": 34,
          "metadata": {},
          "output_type": "execute_result"
        }
      ],
      "source": [
        "BT1_27.groupby(['payment_type'])[['customer_unique_id']].count().sort_values(by='customer_unique_id', ascending=False)"
      ]
    }
  ],
  "metadata": {
    "colab": {
      "provenance": []
    },
    "kernelspec": {
      "display_name": "Python 3",
      "name": "python3"
    },
    "language_info": {
      "codemirror_mode": {
        "name": "ipython",
        "version": 3
      },
      "file_extension": ".py",
      "mimetype": "text/x-python",
      "name": "python",
      "nbconvert_exporter": "python",
      "pygments_lexer": "ipython3",
      "version": "3.10.11"
    }
  },
  "nbformat": 4,
  "nbformat_minor": 0
}

