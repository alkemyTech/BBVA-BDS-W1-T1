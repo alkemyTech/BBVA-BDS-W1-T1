{
  "cells": [
    {
      "cell_type": "markdown",
      "metadata": {
        "id": "D5swiFXGtQNi"
      },
      "source": [
        "# Proyecto X"
      ]
    },
    {
      "cell_type": "markdown",
      "metadata": {
        "id": "FJFs_T5xvlBv"
      },
      "source": [
        "## Lectura de los datos y exploración de los encabezados de los archivos."
      ]
    },
    {
      "cell_type": "code",
      "execution_count": 1,
      "metadata": {
        "id": "dDoeFBjQv4pR"
      },
      "outputs": [],
      "source": [
        "import pandas as pd"
      ]
    },
    {
      "cell_type": "code",
      "execution_count": 4,
      "metadata": {
        "id": "4oAl0GY5vRLk"
      },
      "outputs": [],
      "source": [
        "orders_review = pd.read_csv('./content/Copia de ecommerce_geolocation_dataset.csv')\n",
        "customers = pd.read_csv('./content/Copia de ecommerce_customers_dataset.csv')\n",
        "order_items = pd.read_csv('./content/Copia de ecommerce_order_items_dataset.csv')\n",
        "order_payments = pd.read_csv('./content/Copia de ecommerce_order_payments_dataset.csv')\n",
        "order_reviews = pd.read_csv('./content/Copia de ecommerce_order_reviews_dataset.csv')\n",
        "orders = pd.read_csv('./content/Copia de ecommerce_orders_dataset.csv')\n",
        "products = pd.read_csv('./content/Copia de ecommerce_products_dataset.csv')\n",
        "sellers = pd.read_csv('./content/Copia de ecommerce_sellers_dataset.csv')\n",
        "category_names = pd.read_csv('./content/Copia de product_category_name_translation.csv')"
      ]
    },
    {
      "cell_type": "code",
      "execution_count": null,
      "metadata": {
        "id": "O5Ul3gg_wtu5"
      },
      "outputs": [],
      "source": [
        "#Establezco los índices\n",
        "#customers_df.set_index('customer_id', inplace=True)\n",
        "# orders_df.set_index('order_id',inplace=True)\n",
        "# order_items_df.set_index(['order_id', 'order_item_id'], inplace=True)\n",
        "# products_df.set_index('product_id',inplace=True)\n",
        "# order_payments_df.set_index('order_id', 'payment_sequential',inplace=True)"
      ]
    },
    {
      "cell_type": "code",
      "execution_count": 7,
      "metadata": {
        "colab": {
          "base_uri": "https://localhost:8080/"
        },
        "id": "UdCM6FD9x34w",
        "outputId": "382c8b96-cd4f-4a02-ae7e-5713f0c36ba6"
      },
      "outputs": [
        {
          "name": "stdout",
          "output_type": "stream",
          "text": [
            "['geolocation_zip_code_prefix', 'geolocation_lat', 'geolocation_lng', 'geolocation_city', 'geolocation_state']\n"
          ]
        }
      ],
      "source": [
        "print(orders_review.columns.tolist())"
      ]
    },
    {
      "cell_type": "code",
      "execution_count": 8,
      "metadata": {
        "colab": {
          "base_uri": "https://localhost:8080/"
        },
        "id": "WH_g1J_0yLeq",
        "outputId": "3e334e89-6c03-43ad-8d16-bd8691a4aaa3"
      },
      "outputs": [
        {
          "name": "stdout",
          "output_type": "stream",
          "text": [
            "['customer_id', 'customer_unique_id', 'customer_zip_code_prefix', 'customer_city', 'customer_state']\n"
          ]
        }
      ],
      "source": [
        "print(customers.columns.tolist())"
      ]
    },
    {
      "cell_type": "code",
      "execution_count": 9,
      "metadata": {
        "colab": {
          "base_uri": "https://localhost:8080/"
        },
        "id": "AfB6m4G6yT3f",
        "outputId": "d7c962ba-4fe7-4433-94d9-8151c78e4d9e"
      },
      "outputs": [
        {
          "name": "stdout",
          "output_type": "stream",
          "text": [
            "['order_id', 'order_item_id', 'product_id', 'seller_id', 'shipping_limit_date', 'price', 'freight_value']\n"
          ]
        }
      ],
      "source": [
        "print(order_items.columns.tolist())"
      ]
    },
    {
      "cell_type": "code",
      "execution_count": 10,
      "metadata": {
        "colab": {
          "base_uri": "https://localhost:8080/"
        },
        "id": "auQmphxMybOM",
        "outputId": "490fa866-d483-46c8-de7f-e4652fae130e"
      },
      "outputs": [
        {
          "name": "stdout",
          "output_type": "stream",
          "text": [
            "['order_id', 'payment_sequential', 'payment_type', 'payment_installments', 'payment_value']\n"
          ]
        }
      ],
      "source": [
        "print(order_payments.columns.tolist())"
      ]
    },
    {
      "cell_type": "code",
      "execution_count": 11,
      "metadata": {
        "colab": {
          "base_uri": "https://localhost:8080/"
        },
        "id": "4AdZtJXJybLe",
        "outputId": "2e8304ca-3ae1-431d-d86c-900399ab88c0"
      },
      "outputs": [
        {
          "name": "stdout",
          "output_type": "stream",
          "text": [
            "['review_id', 'order_id', 'review_score', 'review_comment_title', 'review_comment_message', 'review_creation_date', 'review_answer_timestamp']\n"
          ]
        }
      ],
      "source": [
        "print(order_reviews.columns.tolist())"
      ]
    },
    {
      "cell_type": "code",
      "execution_count": 12,
      "metadata": {
        "colab": {
          "base_uri": "https://localhost:8080/"
        },
        "id": "vRoIAUpMybIu",
        "outputId": "ab717e17-46bc-4808-e2ac-b44a4485a525"
      },
      "outputs": [
        {
          "name": "stdout",
          "output_type": "stream",
          "text": [
            "['order_id', 'customer_id', 'order_status', 'order_purchase_timestamp', 'order_approved_at', 'order_delivered_carrier_date', 'order_delivered_customer_date', 'order_estimated_delivery_date']\n"
          ]
        }
      ],
      "source": [
        "print(orders.columns.tolist())"
      ]
    },
    {
      "cell_type": "code",
      "execution_count": 13,
      "metadata": {
        "colab": {
          "base_uri": "https://localhost:8080/"
        },
        "id": "5mlHmDfVybFS",
        "outputId": "e6a935d6-d7a6-498f-af71-295413680ba7"
      },
      "outputs": [
        {
          "name": "stdout",
          "output_type": "stream",
          "text": [
            "['product_id', 'product_category_name', 'product_name_lenght', 'product_description_lenght', 'product_photos_qty', 'product_weight_g', 'product_length_cm', 'product_height_cm', 'product_width_cm']\n"
          ]
        }
      ],
      "source": [
        "print(products.columns.tolist())"
      ]
    },
    {
      "cell_type": "code",
      "execution_count": 16,
      "metadata": {
        "colab": {
          "base_uri": "https://localhost:8080/"
        },
        "id": "w78VArU-ybBr",
        "outputId": "70dc15f9-b92c-4190-87b2-b9ca3090bb7b"
      },
      "outputs": [
        {
          "name": "stdout",
          "output_type": "stream",
          "text": [
            "['seller_id', 'seller_zip_code_prefix', 'seller_city', 'seller_state']\n"
          ]
        }
      ],
      "source": [
        "print(sellers.columns.tolist())"
      ]
    },
    {
      "cell_type": "code",
      "execution_count": 17,
      "metadata": {
        "colab": {
          "base_uri": "https://localhost:8080/"
        },
        "id": "RrZuNnQHya-K",
        "outputId": "9c3cfa1b-6746-40b7-9f3b-525ee588115e"
      },
      "outputs": [
        {
          "name": "stdout",
          "output_type": "stream",
          "text": [
            "['product_category_name', 'product_category_name_english']\n"
          ]
        }
      ],
      "source": [
        "print(category_names.columns.tolist())"
      ]
    },
    {
      "cell_type": "markdown",
      "metadata": {
        "id": "7efjGfOGtVP0"
      },
      "source": [
        "##Creación de la base de datos y carga de datos"
      ]
    },
    {
      "cell_type": "code",
      "execution_count": null,
      "metadata": {
        "id": "6cGRlxuEs7PZ"
      },
      "outputs": [],
      "source": [
        "import sqlite3 as sql\n",
        "\n",
        "\n",
        "#Coneccion a la base de datos\n",
        "conn = sql.connect('ecommerce.db')\n",
        "cursor = conn.cursor()\n",
        "\n",
        "#script de cracacion de tablas\n",
        "script = '''\n",
        "CREATE TABLE products (\n",
        "    product_id TEXT PRIMARY KEY,\n",
        "    product_category_name TEXT,\n",
        "    product_name_lenght REAL,\n",
        "    product_description_lenght REAL,\n",
        "    product_photos_qty REAL,\n",
        "    product_weight_g REAL,\n",
        "    product_length_cm REAL,\n",
        "    product_height_cm REAL,\n",
        "    product_width_cm REAL\n",
        ");\n",
        "CREATE TABLE order_items (\n",
        "    order_id TEXT,\n",
        "    order_item_id INTEGER,\n",
        "    product_id TEXT,\n",
        "    seller_id TEXT,\n",
        "    shipping_limit_date TEXT,\n",
        "    price REAL,\n",
        "    freight_value REAL,\n",
        "    PRIMARY KEY (order_id, order_item_id)\n",
        ");\n",
        "CREATE TABLE order_payments (\n",
        "    order_id TEXT,\n",
        "    payment_sequential INTEGER,\n",
        "    payment_type TEXT,\n",
        "    payment_installments INTEGER,\n",
        "    payment_value REAL,\n",
        "    PRIMARY KEY(order_id,payment_sequential)\n",
        ");\n",
        "CREATE TABLE orders (\n",
        "    order_id TEXT PRIMARY KEY,\n",
        "    customer_id TEXT,\n",
        "    order_status TEXT,\n",
        "    order_purchase_timestamp TEXT,\n",
        "    order_approved_at TEXT,\n",
        "    order_delivered_carrier_date TEXT,\n",
        "    order_delivered_customer_date TEXT,\n",
        "    order_estimated_delivery_date TEXT\n",
        ");\n",
        "CREATE TABLE customers (\n",
        "    customer_id TEXT PRIMARY KEY,\n",
        "    customer_unique_id TEXT,\n",
        "    customer_zip_code_prefix INTEGER,\n",
        "    customer_city TEXT,\n",
        "    customer_state TEXT\n",
        ");\n",
        "'''\n",
        "cursor.executescript(script)\n",
        "conn.commit()\n"
      ]
    },
    {
      "cell_type": "markdown",
      "metadata": {
        "id": "3TIQciNRu1Bh"
      },
      "source": [
        "Inserción de los datos de los csv a la base de datos"
      ]
    },
    {
      "cell_type": "code",
      "execution_count": null,
      "metadata": {
        "id": "zFrpa5i6t2i9"
      },
      "outputs": [],
      "source": [
        "# customers_df.to_sql('customers', conn, index=True, if_exists='replace')\n",
        "# orders_df.to_sql('orders', conn, index=True, if_exists='replace')\n",
        "# order_items_df.to_sql('order_items', conn, index=True, if_exists='replace')\n",
        "# products_df.to_sql('products', conn, index=True, if_exists='replace')\n",
        "# order_payments_df.to_sql('order_payments', conn, index=True, if_exists='replace')"
      ]
    },
    {
      "cell_type": "code",
      "execution_count": null,
      "metadata": {},
      "outputs": [],
      "source": []
    }
  ],
  "metadata": {
    "colab": {
      "provenance": []
    },
    "kernelspec": {
      "display_name": "Python 3",
      "name": "python3"
    },
    "language_info": {
      "codemirror_mode": {
        "name": "ipython",
        "version": 3
      },
      "file_extension": ".py",
      "mimetype": "text/x-python",
      "name": "python",
      "nbconvert_exporter": "python",
      "pygments_lexer": "ipython3",
      "version": "3.11.3"
    }
  },
  "nbformat": 4,
  "nbformat_minor": 0
}
