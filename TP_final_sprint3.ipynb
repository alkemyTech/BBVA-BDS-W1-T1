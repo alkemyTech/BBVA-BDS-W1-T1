{
  "cells": [
    {
      "cell_type": "markdown",
      "metadata": {
        "id": "D5swiFXGtQNi"
      },
      "source": [
        "# Proyecto X"
      ]
    },
    {
      "cell_type": "markdown",
      "metadata": {
        "id": "FJFs_T5xvlBv"
      },
      "source": [
        "## Lectura de los datos y exploración de los encabezados de los archivos."
      ]
    },
    {
      "cell_type": "code",
      "execution_count": 1,
      "metadata": {
        "id": "dDoeFBjQv4pR"
      },
      "outputs": [],
      "source": [
        "import pandas as pd"
      ]
    },
    {
      "cell_type": "code",
      "execution_count": 2,
      "metadata": {
        "id": "4oAl0GY5vRLk"
      },
      "outputs": [],
      "source": [
        "geolocation = pd.read_csv('/content/Copia de ecommerce_geolocation_dataset.csv')\n",
        "customers = pd.read_csv('/content/Copia de ecommerce_customers_dataset.csv')\n",
        "order_items = pd.read_csv('/content/Copia de ecommerce_order_items_dataset.csv')\n",
        "order_payments = pd.read_csv('/content/Copia de ecommerce_order_payments_dataset.csv')\n",
        "order_reviews = pd.read_csv('/content/Copia de ecommerce_order_reviews_dataset.csv')\n",
        "orders = pd.read_csv('/content/Copia de ecommerce_orders_dataset.csv')\n",
        "products = pd.read_csv('/content/Copia de ecommerce_products_dataset.csv')\n",
        "sellers = pd.read_csv('/content/Copia de ecommerce_sellers_dataset.csv')\n",
        "category_names = pd.read_csv('/content/Copia de product_category_name_translation.csv')"
      ]
    },
    {
      "cell_type": "code",
      "execution_count": 3,
      "metadata": {
        "colab": {
          "base_uri": "https://localhost:8080/"
        },
        "id": "UdCM6FD9x34w",
        "outputId": "c483740f-c31c-40ce-d807-4b362b286cdb"
      },
      "outputs": [
        {
          "output_type": "stream",
          "name": "stdout",
          "text": [
            "['geolocation_zip_code_prefix', 'geolocation_lat', 'geolocation_lng', 'geolocation_city', 'geolocation_state']\n"
          ]
        }
      ],
      "source": [
        "print(geolocation.columns.tolist())"
      ]
    },
    {
      "cell_type": "code",
      "execution_count": 4,
      "metadata": {
        "colab": {
          "base_uri": "https://localhost:8080/"
        },
        "id": "WH_g1J_0yLeq",
        "outputId": "7fdf2cdc-75aa-4174-b08c-c87d4c0cf327"
      },
      "outputs": [
        {
          "output_type": "stream",
          "name": "stdout",
          "text": [
            "['customer_id', 'customer_unique_id', 'customer_zip_code_prefix', 'customer_city', 'customer_state']\n"
          ]
        }
      ],
      "source": [
        "print(customers.columns.tolist())"
      ]
    },
    {
      "cell_type": "code",
      "execution_count": 5,
      "metadata": {
        "colab": {
          "base_uri": "https://localhost:8080/"
        },
        "id": "AfB6m4G6yT3f",
        "outputId": "d5074f9e-5d74-4c56-f7a9-ee7fa4c20cd5"
      },
      "outputs": [
        {
          "output_type": "stream",
          "name": "stdout",
          "text": [
            "['order_id', 'order_item_id', 'product_id', 'seller_id', 'shipping_limit_date', 'price', 'freight_value']\n"
          ]
        }
      ],
      "source": [
        "print(order_items.columns.tolist())"
      ]
    },
    {
      "cell_type": "code",
      "execution_count": 6,
      "metadata": {
        "colab": {
          "base_uri": "https://localhost:8080/"
        },
        "id": "auQmphxMybOM",
        "outputId": "da9667a6-7e92-4f13-ba43-f82523fbb093"
      },
      "outputs": [
        {
          "output_type": "stream",
          "name": "stdout",
          "text": [
            "['order_id', 'payment_sequential', 'payment_type', 'payment_installments', 'payment_value']\n"
          ]
        }
      ],
      "source": [
        "print(order_payments.columns.tolist())"
      ]
    },
    {
      "cell_type": "code",
      "execution_count": 7,
      "metadata": {
        "colab": {
          "base_uri": "https://localhost:8080/"
        },
        "id": "4AdZtJXJybLe",
        "outputId": "876881ed-249d-4d53-8532-88ab0359110c"
      },
      "outputs": [
        {
          "output_type": "stream",
          "name": "stdout",
          "text": [
            "['review_id', 'order_id', 'review_score', 'review_comment_title', 'review_comment_message', 'review_creation_date', 'review_answer_timestamp']\n"
          ]
        }
      ],
      "source": [
        "print(order_reviews.columns.tolist())"
      ]
    },
    {
      "cell_type": "code",
      "execution_count": 8,
      "metadata": {
        "colab": {
          "base_uri": "https://localhost:8080/"
        },
        "id": "vRoIAUpMybIu",
        "outputId": "0cfe445c-0ffb-4a3c-99ed-f60d6d0a97ce"
      },
      "outputs": [
        {
          "output_type": "stream",
          "name": "stdout",
          "text": [
            "['order_id', 'customer_id', 'order_status', 'order_purchase_timestamp', 'order_approved_at', 'order_delivered_carrier_date', 'order_delivered_customer_date', 'order_estimated_delivery_date']\n"
          ]
        }
      ],
      "source": [
        "print(orders.columns.tolist())"
      ]
    },
    {
      "cell_type": "code",
      "execution_count": 9,
      "metadata": {
        "colab": {
          "base_uri": "https://localhost:8080/"
        },
        "id": "5mlHmDfVybFS",
        "outputId": "a35b3fed-d8d7-4e05-b345-c20d443dd72c"
      },
      "outputs": [
        {
          "output_type": "stream",
          "name": "stdout",
          "text": [
            "['product_id', 'product_category_name', 'product_name_lenght', 'product_description_lenght', 'product_photos_qty', 'product_weight_g', 'product_length_cm', 'product_height_cm', 'product_width_cm']\n"
          ]
        }
      ],
      "source": [
        "print(products.columns.tolist())"
      ]
    },
    {
      "cell_type": "code",
      "execution_count": 10,
      "metadata": {
        "colab": {
          "base_uri": "https://localhost:8080/"
        },
        "id": "w78VArU-ybBr",
        "outputId": "377ba26d-ef8d-432a-fa2f-a874ec273052"
      },
      "outputs": [
        {
          "output_type": "stream",
          "name": "stdout",
          "text": [
            "['seller_id', 'seller_zip_code_prefix', 'seller_city', 'seller_state']\n"
          ]
        }
      ],
      "source": [
        "print(sellers.columns.tolist())"
      ]
    },
    {
      "cell_type": "code",
      "execution_count": 11,
      "metadata": {
        "colab": {
          "base_uri": "https://localhost:8080/"
        },
        "id": "RrZuNnQHya-K",
        "outputId": "5e154cab-8c7e-40d6-edc3-113289a63d64"
      },
      "outputs": [
        {
          "output_type": "stream",
          "name": "stdout",
          "text": [
            "['product_category_name', 'product_category_name_english']\n"
          ]
        }
      ],
      "source": [
        "print(category_names.columns.tolist())"
      ]
    },
    {
      "cell_type": "markdown",
      "metadata": {
        "id": "7efjGfOGtVP0"
      },
      "source": [
        "## BBT1-14 Creación de la base de datos y carga de datos"
      ]
    },
    {
      "cell_type": "markdown",
      "source": [
        "**Descripción**\n",
        "Crear una conexión a la base de datos de SQLite llamada ecommerce.db\n",
        "Importar los archivos y Guardar los DataFrames en la base de datos como tablas:\n",
        "\n",
        "ecommerce_customers_dataset.csv\n",
        "\n",
        "ecommerce_order_items_dataset.csv\n",
        "\n",
        "ecommerce_order_payments_dataset.csv\n",
        "\n",
        "ecommerce_order_reviews_dataset.csv\n",
        "\n",
        "ecommerce_orders_dataset.csv\n",
        "\n",
        "ecommerce_products_dataset.csv\n",
        "\n",
        "ecommerce_sellers_dataset.csv\n",
        "\n",
        "product_category_name_translation.csv\n"
      ],
      "metadata": {
        "id": "nTo6jE-ccKhT"
      }
    },
    {
      "cell_type": "code",
      "execution_count": 12,
      "metadata": {
        "id": "6cGRlxuEs7PZ"
      },
      "outputs": [],
      "source": [
        "import sqlite3 as sql\n",
        "\n",
        "\n",
        "#Conexion a la base de datos\n",
        "conn = sql.connect('ecommerce.db')\n",
        "cursor = conn.cursor()\n",
        "\n",
        "#script de creacion de tablas\n",
        "script = '''\n",
        "CREATE TABLE products (\n",
        "    product_id TEXT PRIMARY KEY,\n",
        "    product_category_name TEXT,\n",
        "    product_name_lenght REAL,\n",
        "    product_description_lenght REAL,\n",
        "    product_photos_qty REAL,\n",
        "    product_weight_g REAL,\n",
        "    product_length_cm REAL,\n",
        "    product_height_cm REAL,\n",
        "    product_width_cm REAL\n",
        ");\n",
        "CREATE TABLE order_items (\n",
        "    order_id TEXT,\n",
        "    order_item_id INTEGER,\n",
        "    product_id TEXT,\n",
        "    seller_id TEXT,\n",
        "    shipping_limit_date TEXT,\n",
        "    price REAL,\n",
        "    freight_value REAL,\n",
        "    PRIMARY KEY (order_id, order_item_id)\n",
        ");\n",
        "CREATE TABLE order_payments (\n",
        "    order_id TEXT,\n",
        "    payment_sequential INTEGER,\n",
        "    payment_type TEXT,\n",
        "    payment_installments INTEGER,\n",
        "    payment_value REAL,\n",
        "    PRIMARY KEY(order_id,payment_sequential)\n",
        ");\n",
        "CREATE TABLE orders (\n",
        "    order_id TEXT PRIMARY KEY,\n",
        "    customer_id TEXT,\n",
        "    order_status TEXT,\n",
        "    order_purchase_timestamp TEXT,\n",
        "    order_approved_at TEXT,\n",
        "    order_delivered_carrier_date TEXT,\n",
        "    order_delivered_customer_date TEXT,\n",
        "    order_estimated_delivery_date TEXT\n",
        ");\n",
        "CREATE TABLE customers (\n",
        "    customer_id TEXT PRIMARY KEY,\n",
        "    customer_unique_id TEXT,\n",
        "    customer_zip_code_prefix INTEGER,\n",
        "    customer_city TEXT,\n",
        "    customer_state TEXT\n",
        ");\n",
        "CREATE TABLE geolocation(\n",
        "  geolocation_zip_code_prefix INTEGER PRIMARY KEY ,\n",
        "  geolocation_lat REAL,\n",
        "  geolocation_lng REAL,\n",
        "  geolocation_city TEXT,\n",
        "  geolocation_state TEXT\n",
        ");\n",
        "CREATE TABLE order_review(\n",
        "  review_id TEXT,\n",
        "  order_id TEXT,\n",
        "  review_score INT,\n",
        "  review_comment_title TEXT,\n",
        "  review_comment_message TEXT,\n",
        "  review_creation_date TEXT,\n",
        "  review_answer_timestamp TEXT,\n",
        "  PRIMARY KEY(order_id,review_id)\n",
        ");\n",
        "CREATE TABLE sellers(\n",
        "  seller_id TEXT PRIMARY KEY,\n",
        "  seller_zip_code_prefix INTEGER,\n",
        "  seller_city TEXT,\n",
        "  seller_state TEXT\n",
        ");\n",
        "CREATE TABLE category(\n",
        "  product_category_name TEXT,\n",
        "  product_category_name_english TEXT\n",
        ");\n",
        "'''\n",
        "cursor.executescript(script)\n",
        "conn.commit()\n"
      ]
    },
    {
      "cell_type": "markdown",
      "metadata": {
        "id": "3TIQciNRu1Bh"
      },
      "source": [
        "Inserción de los datos de los csv a la base de datos"
      ]
    },
    {
      "cell_type": "code",
      "execution_count": 13,
      "metadata": {
        "id": "zFrpa5i6t2i9",
        "colab": {
          "base_uri": "https://localhost:8080/"
        },
        "outputId": "2429e262-63f4-437a-9258-d7e3ebf8e602"
      },
      "outputs": [
        {
          "output_type": "execute_result",
          "data": {
            "text/plain": [
              "71"
            ]
          },
          "metadata": {},
          "execution_count": 13
        }
      ],
      "source": [
        "geolocation.to_sql('geolocation',conn, index=True, if_exists='replace')\n",
        "customers.to_sql('customers',conn, index=True, if_exists='replace')\n",
        "order_items.to_sql('order_items',conn, index=True, if_exists = 'replace')\n",
        "order_payments.to_sql('order_payments',conn, index=True, if_exists = 'replace')\n",
        "order_reviews.to_sql('order_review',conn, index=True, if_exists = 'replace')\n",
        "orders.to_sql('orders',conn, index=True, if_exists = 'replace')\n",
        "products.to_sql('products',conn, index=True, if_exists = 'replace')\n",
        "sellers.to_sql('sellers',conn, index=True, if_exists = 'replace')\n",
        "category_names.to_sql('category',conn, index=True, if_exists = 'replace')"
      ]
    },
    {
      "cell_type": "markdown",
      "metadata": {
        "id": "pMx3d6BFg_gv"
      },
      "source": [
        "Creación de tabla geolocation2 con latitudes y longitudes promedio\n",
        "\n",
        "Con el fin de evitar la duplicidad de datos usando el criterio de promediar latitudes y longitudes agrupando por código postal."
      ]
    },
    {
      "cell_type": "code",
      "execution_count": 14,
      "metadata": {
        "id": "LPFvG62Gg_gv"
      },
      "outputs": [],
      "source": [
        "query_geo = '''\n",
        "  SELECT geolocation_zip_code_prefix, AVG(geolocation_lat) as promedio_latitud, AVG(geolocation_lng) as promedio_longitud, geolocation_city, geolocation_state\n",
        "  FROM geolocation\n",
        "  GROUP BY geolocation_zip_code_prefix\n",
        "  ORDER BY geolocation_zip_code_prefix;\n",
        "  '''\n",
        "geo_2 = pd.read_sql_query(query_geo, conn)\n",
        "geo_2\n",
        "\n",
        "geo_2.set_index('geolocation_zip_code_prefix', inplace=True)"
      ]
    },
    {
      "cell_type": "code",
      "execution_count": 15,
      "metadata": {
        "id": "NPFaT1Zog_gv",
        "colab": {
          "base_uri": "https://localhost:8080/"
        },
        "outputId": "ddd4e19d-8208-41bd-8aac-b817cdf1ff74"
      },
      "outputs": [
        {
          "output_type": "execute_result",
          "data": {
            "text/plain": [
              "19015"
            ]
          },
          "metadata": {},
          "execution_count": 15
        }
      ],
      "source": [
        "geo_2.to_sql('geolocation2', conn, index=True, if_exists='replace')"
      ]
    },
    {
      "cell_type": "markdown",
      "metadata": {
        "id": "aQGRXVEHbVDQ"
      },
      "source": [
        "Creación de tabla geolocation2 con latitudes y longitudes promedio\n",
        "\n",
        "Con el fin de evitar la duplicidad de datos usando el criterio de promediar latitudes y longitudes agrupando por código postal."
      ]
    },
    {
      "cell_type": "code",
      "execution_count": 16,
      "metadata": {
        "colab": {
          "base_uri": "https://localhost:8080/"
        },
        "id": "8SDyPzgJbVDQ",
        "outputId": "44514329-69c1-406e-a8cc-1571b4cd88f8"
      },
      "outputs": [
        {
          "output_type": "stream",
          "name": "stdout",
          "text": [
            "   geolocation_zip_code_prefix  promedio_latitud  promedio_longitud  \\\n",
            "0                         1001        -23.550190         -46.634024   \n",
            "1                         1002        -23.548146         -46.634979   \n",
            "2                         1003        -23.548994         -46.635731   \n",
            "3                         1004        -23.549799         -46.634757   \n",
            "4                         1005        -23.549456         -46.636733   \n",
            "\n",
            "  geolocation_city geolocation_state  \n",
            "0        sao paulo                SP  \n",
            "1        sao paulo                SP  \n",
            "2        sao paulo                SP  \n",
            "3        sao paulo                SP  \n",
            "4        sao paulo                SP  \n"
          ]
        }
      ],
      "source": [
        "query_geo = '''\n",
        "  SELECT geolocation_zip_code_prefix, AVG(geolocation_lat) as promedio_latitud, AVG(geolocation_lng) as promedio_longitud, geolocation_city, geolocation_state\n",
        "  FROM geolocation\n",
        "  GROUP BY geolocation_zip_code_prefix\n",
        "  ORDER BY geolocation_zip_code_prefix;\n",
        "  '''\n",
        "geo_2 = pd.read_sql_query(query_geo, conn)\n",
        "print(geo_2.head(5))\n",
        "\n",
        "geo_2.set_index('geolocation_zip_code_prefix', inplace=True)"
      ]
    },
    {
      "cell_type": "code",
      "execution_count": 17,
      "metadata": {
        "colab": {
          "base_uri": "https://localhost:8080/"
        },
        "id": "eLs4E_j5bVDQ",
        "outputId": "a8e6ac75-c216-4bc7-8f86-8626afd2f802"
      },
      "outputs": [
        {
          "output_type": "execute_result",
          "data": {
            "text/plain": [
              "19015"
            ]
          },
          "metadata": {},
          "execution_count": 17
        }
      ],
      "source": [
        "geo_2.to_sql('geolocation2', conn, index=True, if_exists='replace')"
      ]
    },
    {
      "cell_type": "markdown",
      "metadata": {
        "id": "Hv9PVZwUtwde"
      },
      "source": [
        "## BBT1-18 - Extracción de datos desde las tablas customers y orders"
      ]
    },
    {
      "cell_type": "markdown",
      "source": [
        "**Descripción**\n",
        "\n",
        "COMO: desarrollador\n",
        "\n",
        "QUIERO: Crear un DataFrame que contenga el JOIN de la tabla customers y tabla orders.\n",
        "\n",
        "PARA: Extraer los datos de clientes con sus ordenes"
      ],
      "metadata": {
        "id": "Fq3S6qHJdLlz"
      }
    },
    {
      "cell_type": "code",
      "execution_count": 18,
      "metadata": {
        "id": "6gCpAFKatzq7",
        "colab": {
          "base_uri": "https://localhost:8080/",
          "height": 0
        },
        "outputId": "3188e99e-f370-49b9-e9a1-5df2014399ae"
      },
      "outputs": [
        {
          "output_type": "execute_result",
          "data": {
            "text/plain": [
              "                 customer_unique_id  customer_zip_code_prefix  \\\n",
              "0  861eff4711a542e4b93843c6dd7febb0                     14409   \n",
              "1  290c77bc529b7ac935b93aa66c333dc3                      9790   \n",
              "2  060e732b5b29e8181a18229c7b0b2b5e                      1151   \n",
              "3  259dac757896d24d7702b9acbbff3f3c                      8775   \n",
              "4  345ecd01c38d18a9036ed96c73b8d066                     13056   \n",
              "\n",
              "           customer_city customer_state                       customer_id  \\\n",
              "0                 franca             SP  06b8999e2fba1a1fbc88172c00ba8bc7   \n",
              "1  sao bernardo do campo             SP  18955e83d337fd6b2def6b18a428ac77   \n",
              "2              sao paulo             SP  4e7b3e00288586ebd08712fdd0374a03   \n",
              "3        mogi das cruzes             SP  b2b6027bc5c5109e529d4dc6358b12c3   \n",
              "4               campinas             SP  4f2d8ab171c80ec8364f7c12e35b23ad   \n",
              "\n",
              "  order_status order_purchase_timestamp    order_approved_at  \\\n",
              "0    delivered      2017-05-16 15:05:35  2017-05-16 15:22:12   \n",
              "1    delivered      2018-01-12 20:48:24  2018-01-12 20:58:32   \n",
              "2    delivered      2018-05-19 16:07:45  2018-05-20 16:19:10   \n",
              "3    delivered      2018-03-13 16:06:38  2018-03-13 17:29:19   \n",
              "4    delivered      2018-07-29 09:51:30  2018-07-29 10:10:09   \n",
              "\n",
              "  order_delivered_carrier_date order_delivered_customer_date  \\\n",
              "0          2017-05-23 10:47:57           2017-05-25 10:35:35   \n",
              "1          2018-01-15 17:14:59           2018-01-29 12:41:19   \n",
              "2          2018-06-11 14:31:00           2018-06-14 17:58:51   \n",
              "3          2018-03-27 23:22:42           2018-03-28 16:04:25   \n",
              "4          2018-07-30 15:16:00           2018-08-09 20:55:48   \n",
              "\n",
              "  order_estimated_delivery_date  \n",
              "0           2017-06-05 00:00:00  \n",
              "1           2018-02-06 00:00:00  \n",
              "2           2018-06-13 00:00:00  \n",
              "3           2018-04-10 00:00:00  \n",
              "4           2018-08-15 00:00:00  "
            ],
            "text/html": [
              "\n",
              "  <div id=\"df-60238a12-079e-4e6c-bc5f-3ecd81834e47\" class=\"colab-df-container\">\n",
              "    <div>\n",
              "<style scoped>\n",
              "    .dataframe tbody tr th:only-of-type {\n",
              "        vertical-align: middle;\n",
              "    }\n",
              "\n",
              "    .dataframe tbody tr th {\n",
              "        vertical-align: top;\n",
              "    }\n",
              "\n",
              "    .dataframe thead th {\n",
              "        text-align: right;\n",
              "    }\n",
              "</style>\n",
              "<table border=\"1\" class=\"dataframe\">\n",
              "  <thead>\n",
              "    <tr style=\"text-align: right;\">\n",
              "      <th></th>\n",
              "      <th>customer_unique_id</th>\n",
              "      <th>customer_zip_code_prefix</th>\n",
              "      <th>customer_city</th>\n",
              "      <th>customer_state</th>\n",
              "      <th>customer_id</th>\n",
              "      <th>order_status</th>\n",
              "      <th>order_purchase_timestamp</th>\n",
              "      <th>order_approved_at</th>\n",
              "      <th>order_delivered_carrier_date</th>\n",
              "      <th>order_delivered_customer_date</th>\n",
              "      <th>order_estimated_delivery_date</th>\n",
              "    </tr>\n",
              "  </thead>\n",
              "  <tbody>\n",
              "    <tr>\n",
              "      <th>0</th>\n",
              "      <td>861eff4711a542e4b93843c6dd7febb0</td>\n",
              "      <td>14409</td>\n",
              "      <td>franca</td>\n",
              "      <td>SP</td>\n",
              "      <td>06b8999e2fba1a1fbc88172c00ba8bc7</td>\n",
              "      <td>delivered</td>\n",
              "      <td>2017-05-16 15:05:35</td>\n",
              "      <td>2017-05-16 15:22:12</td>\n",
              "      <td>2017-05-23 10:47:57</td>\n",
              "      <td>2017-05-25 10:35:35</td>\n",
              "      <td>2017-06-05 00:00:00</td>\n",
              "    </tr>\n",
              "    <tr>\n",
              "      <th>1</th>\n",
              "      <td>290c77bc529b7ac935b93aa66c333dc3</td>\n",
              "      <td>9790</td>\n",
              "      <td>sao bernardo do campo</td>\n",
              "      <td>SP</td>\n",
              "      <td>18955e83d337fd6b2def6b18a428ac77</td>\n",
              "      <td>delivered</td>\n",
              "      <td>2018-01-12 20:48:24</td>\n",
              "      <td>2018-01-12 20:58:32</td>\n",
              "      <td>2018-01-15 17:14:59</td>\n",
              "      <td>2018-01-29 12:41:19</td>\n",
              "      <td>2018-02-06 00:00:00</td>\n",
              "    </tr>\n",
              "    <tr>\n",
              "      <th>2</th>\n",
              "      <td>060e732b5b29e8181a18229c7b0b2b5e</td>\n",
              "      <td>1151</td>\n",
              "      <td>sao paulo</td>\n",
              "      <td>SP</td>\n",
              "      <td>4e7b3e00288586ebd08712fdd0374a03</td>\n",
              "      <td>delivered</td>\n",
              "      <td>2018-05-19 16:07:45</td>\n",
              "      <td>2018-05-20 16:19:10</td>\n",
              "      <td>2018-06-11 14:31:00</td>\n",
              "      <td>2018-06-14 17:58:51</td>\n",
              "      <td>2018-06-13 00:00:00</td>\n",
              "    </tr>\n",
              "    <tr>\n",
              "      <th>3</th>\n",
              "      <td>259dac757896d24d7702b9acbbff3f3c</td>\n",
              "      <td>8775</td>\n",
              "      <td>mogi das cruzes</td>\n",
              "      <td>SP</td>\n",
              "      <td>b2b6027bc5c5109e529d4dc6358b12c3</td>\n",
              "      <td>delivered</td>\n",
              "      <td>2018-03-13 16:06:38</td>\n",
              "      <td>2018-03-13 17:29:19</td>\n",
              "      <td>2018-03-27 23:22:42</td>\n",
              "      <td>2018-03-28 16:04:25</td>\n",
              "      <td>2018-04-10 00:00:00</td>\n",
              "    </tr>\n",
              "    <tr>\n",
              "      <th>4</th>\n",
              "      <td>345ecd01c38d18a9036ed96c73b8d066</td>\n",
              "      <td>13056</td>\n",
              "      <td>campinas</td>\n",
              "      <td>SP</td>\n",
              "      <td>4f2d8ab171c80ec8364f7c12e35b23ad</td>\n",
              "      <td>delivered</td>\n",
              "      <td>2018-07-29 09:51:30</td>\n",
              "      <td>2018-07-29 10:10:09</td>\n",
              "      <td>2018-07-30 15:16:00</td>\n",
              "      <td>2018-08-09 20:55:48</td>\n",
              "      <td>2018-08-15 00:00:00</td>\n",
              "    </tr>\n",
              "  </tbody>\n",
              "</table>\n",
              "</div>\n",
              "    <div class=\"colab-df-buttons\">\n",
              "\n",
              "  <div class=\"colab-df-container\">\n",
              "    <button class=\"colab-df-convert\" onclick=\"convertToInteractive('df-60238a12-079e-4e6c-bc5f-3ecd81834e47')\"\n",
              "            title=\"Convert this dataframe to an interactive table.\"\n",
              "            style=\"display:none;\">\n",
              "\n",
              "  <svg xmlns=\"http://www.w3.org/2000/svg\" height=\"24px\" viewBox=\"0 -960 960 960\">\n",
              "    <path d=\"M120-120v-720h720v720H120Zm60-500h600v-160H180v160Zm220 220h160v-160H400v160Zm0 220h160v-160H400v160ZM180-400h160v-160H180v160Zm440 0h160v-160H620v160ZM180-180h160v-160H180v160Zm440 0h160v-160H620v160Z\"/>\n",
              "  </svg>\n",
              "    </button>\n",
              "\n",
              "  <style>\n",
              "    .colab-df-container {\n",
              "      display:flex;\n",
              "      gap: 12px;\n",
              "    }\n",
              "\n",
              "    .colab-df-convert {\n",
              "      background-color: #E8F0FE;\n",
              "      border: none;\n",
              "      border-radius: 50%;\n",
              "      cursor: pointer;\n",
              "      display: none;\n",
              "      fill: #1967D2;\n",
              "      height: 32px;\n",
              "      padding: 0 0 0 0;\n",
              "      width: 32px;\n",
              "    }\n",
              "\n",
              "    .colab-df-convert:hover {\n",
              "      background-color: #E2EBFA;\n",
              "      box-shadow: 0px 1px 2px rgba(60, 64, 67, 0.3), 0px 1px 3px 1px rgba(60, 64, 67, 0.15);\n",
              "      fill: #174EA6;\n",
              "    }\n",
              "\n",
              "    .colab-df-buttons div {\n",
              "      margin-bottom: 4px;\n",
              "    }\n",
              "\n",
              "    [theme=dark] .colab-df-convert {\n",
              "      background-color: #3B4455;\n",
              "      fill: #D2E3FC;\n",
              "    }\n",
              "\n",
              "    [theme=dark] .colab-df-convert:hover {\n",
              "      background-color: #434B5C;\n",
              "      box-shadow: 0px 1px 3px 1px rgba(0, 0, 0, 0.15);\n",
              "      filter: drop-shadow(0px 1px 2px rgba(0, 0, 0, 0.3));\n",
              "      fill: #FFFFFF;\n",
              "    }\n",
              "  </style>\n",
              "\n",
              "    <script>\n",
              "      const buttonEl =\n",
              "        document.querySelector('#df-60238a12-079e-4e6c-bc5f-3ecd81834e47 button.colab-df-convert');\n",
              "      buttonEl.style.display =\n",
              "        google.colab.kernel.accessAllowed ? 'block' : 'none';\n",
              "\n",
              "      async function convertToInteractive(key) {\n",
              "        const element = document.querySelector('#df-60238a12-079e-4e6c-bc5f-3ecd81834e47');\n",
              "        const dataTable =\n",
              "          await google.colab.kernel.invokeFunction('convertToInteractive',\n",
              "                                                    [key], {});\n",
              "        if (!dataTable) return;\n",
              "\n",
              "        const docLinkHtml = 'Like what you see? Visit the ' +\n",
              "          '<a target=\"_blank\" href=https://colab.research.google.com/notebooks/data_table.ipynb>data table notebook</a>'\n",
              "          + ' to learn more about interactive tables.';\n",
              "        element.innerHTML = '';\n",
              "        dataTable['output_type'] = 'display_data';\n",
              "        await google.colab.output.renderOutput(dataTable, element);\n",
              "        const docLink = document.createElement('div');\n",
              "        docLink.innerHTML = docLinkHtml;\n",
              "        element.appendChild(docLink);\n",
              "      }\n",
              "    </script>\n",
              "  </div>\n",
              "\n",
              "\n",
              "<div id=\"df-cf3f2179-b7b9-4421-876f-4f412a8b9460\">\n",
              "  <button class=\"colab-df-quickchart\" onclick=\"quickchart('df-cf3f2179-b7b9-4421-876f-4f412a8b9460')\"\n",
              "            title=\"Suggest charts.\"\n",
              "            style=\"display:none;\">\n",
              "\n",
              "<svg xmlns=\"http://www.w3.org/2000/svg\" height=\"24px\"viewBox=\"0 0 24 24\"\n",
              "     width=\"24px\">\n",
              "    <g>\n",
              "        <path d=\"M19 3H5c-1.1 0-2 .9-2 2v14c0 1.1.9 2 2 2h14c1.1 0 2-.9 2-2V5c0-1.1-.9-2-2-2zM9 17H7v-7h2v7zm4 0h-2V7h2v10zm4 0h-2v-4h2v4z\"/>\n",
              "    </g>\n",
              "</svg>\n",
              "  </button>\n",
              "\n",
              "<style>\n",
              "  .colab-df-quickchart {\n",
              "      --bg-color: #E8F0FE;\n",
              "      --fill-color: #1967D2;\n",
              "      --hover-bg-color: #E2EBFA;\n",
              "      --hover-fill-color: #174EA6;\n",
              "      --disabled-fill-color: #AAA;\n",
              "      --disabled-bg-color: #DDD;\n",
              "  }\n",
              "\n",
              "  [theme=dark] .colab-df-quickchart {\n",
              "      --bg-color: #3B4455;\n",
              "      --fill-color: #D2E3FC;\n",
              "      --hover-bg-color: #434B5C;\n",
              "      --hover-fill-color: #FFFFFF;\n",
              "      --disabled-bg-color: #3B4455;\n",
              "      --disabled-fill-color: #666;\n",
              "  }\n",
              "\n",
              "  .colab-df-quickchart {\n",
              "    background-color: var(--bg-color);\n",
              "    border: none;\n",
              "    border-radius: 50%;\n",
              "    cursor: pointer;\n",
              "    display: none;\n",
              "    fill: var(--fill-color);\n",
              "    height: 32px;\n",
              "    padding: 0;\n",
              "    width: 32px;\n",
              "  }\n",
              "\n",
              "  .colab-df-quickchart:hover {\n",
              "    background-color: var(--hover-bg-color);\n",
              "    box-shadow: 0 1px 2px rgba(60, 64, 67, 0.3), 0 1px 3px 1px rgba(60, 64, 67, 0.15);\n",
              "    fill: var(--button-hover-fill-color);\n",
              "  }\n",
              "\n",
              "  .colab-df-quickchart-complete:disabled,\n",
              "  .colab-df-quickchart-complete:disabled:hover {\n",
              "    background-color: var(--disabled-bg-color);\n",
              "    fill: var(--disabled-fill-color);\n",
              "    box-shadow: none;\n",
              "  }\n",
              "\n",
              "  .colab-df-spinner {\n",
              "    border: 2px solid var(--fill-color);\n",
              "    border-color: transparent;\n",
              "    border-bottom-color: var(--fill-color);\n",
              "    animation:\n",
              "      spin 1s steps(1) infinite;\n",
              "  }\n",
              "\n",
              "  @keyframes spin {\n",
              "    0% {\n",
              "      border-color: transparent;\n",
              "      border-bottom-color: var(--fill-color);\n",
              "      border-left-color: var(--fill-color);\n",
              "    }\n",
              "    20% {\n",
              "      border-color: transparent;\n",
              "      border-left-color: var(--fill-color);\n",
              "      border-top-color: var(--fill-color);\n",
              "    }\n",
              "    30% {\n",
              "      border-color: transparent;\n",
              "      border-left-color: var(--fill-color);\n",
              "      border-top-color: var(--fill-color);\n",
              "      border-right-color: var(--fill-color);\n",
              "    }\n",
              "    40% {\n",
              "      border-color: transparent;\n",
              "      border-right-color: var(--fill-color);\n",
              "      border-top-color: var(--fill-color);\n",
              "    }\n",
              "    60% {\n",
              "      border-color: transparent;\n",
              "      border-right-color: var(--fill-color);\n",
              "    }\n",
              "    80% {\n",
              "      border-color: transparent;\n",
              "      border-right-color: var(--fill-color);\n",
              "      border-bottom-color: var(--fill-color);\n",
              "    }\n",
              "    90% {\n",
              "      border-color: transparent;\n",
              "      border-bottom-color: var(--fill-color);\n",
              "    }\n",
              "  }\n",
              "</style>\n",
              "\n",
              "  <script>\n",
              "    async function quickchart(key) {\n",
              "      const quickchartButtonEl =\n",
              "        document.querySelector('#' + key + ' button');\n",
              "      quickchartButtonEl.disabled = true;  // To prevent multiple clicks.\n",
              "      quickchartButtonEl.classList.add('colab-df-spinner');\n",
              "      try {\n",
              "        const charts = await google.colab.kernel.invokeFunction(\n",
              "            'suggestCharts', [key], {});\n",
              "      } catch (error) {\n",
              "        console.error('Error during call to suggestCharts:', error);\n",
              "      }\n",
              "      quickchartButtonEl.classList.remove('colab-df-spinner');\n",
              "      quickchartButtonEl.classList.add('colab-df-quickchart-complete');\n",
              "    }\n",
              "    (() => {\n",
              "      let quickchartButtonEl =\n",
              "        document.querySelector('#df-cf3f2179-b7b9-4421-876f-4f412a8b9460 button');\n",
              "      quickchartButtonEl.style.display =\n",
              "        google.colab.kernel.accessAllowed ? 'block' : 'none';\n",
              "    })();\n",
              "  </script>\n",
              "</div>\n",
              "    </div>\n",
              "  </div>\n"
            ]
          },
          "metadata": {},
          "execution_count": 18
        }
      ],
      "source": [
        "query_1 = '''\n",
        "SELECT c.customer_unique_id,c.customer_zip_code_prefix,c.customer_city, c.customer_state,\n",
        "      o.customer_id,o.order_status,o.order_purchase_timestamp,o.order_approved_at,o.order_delivered_carrier_date ,o.order_delivered_customer_date ,o.order_estimated_delivery_date\n",
        "FROM customers AS c\n",
        "JOIN orders as o ON c.customer_id = o.customer_id;\n",
        "\n",
        "'''\n",
        "df_customers_orders = pd.read_sql_query(query_1, conn)\n",
        "\n",
        "df_customers_orders.head(5)"
      ]
    },
    {
      "cell_type": "markdown",
      "metadata": {
        "id": "n1b92XBOux2X"
      },
      "source": [
        "## BBT1-19  Extracción de datos desde las tablas orders y orders_items"
      ]
    },
    {
      "cell_type": "markdown",
      "source": [
        "**Descripción**\n",
        "\n",
        "COMO: desarrollador\n",
        "\n",
        "QUIERO: Crear un DataFrame que contenga el JOIN de la tabla orders y tabla orders_items.\n",
        "\n",
        "PARA: Extraer los datos de ordenes con sus items"
      ],
      "metadata": {
        "id": "YitgAeSrdP8c"
      }
    },
    {
      "cell_type": "code",
      "execution_count": 19,
      "metadata": {
        "id": "uRF-SpxZuzZu",
        "colab": {
          "base_uri": "https://localhost:8080/",
          "height": 0
        },
        "outputId": "f047b552-59a5-4152-96fe-6858582c9e4d"
      },
      "outputs": [
        {
          "output_type": "execute_result",
          "data": {
            "text/plain": [
              "                        customer_id order_status order_purchase_timestamp  \\\n",
              "0  9ef432eb6251297304e76186b10a928d    delivered      2017-10-02 10:56:33   \n",
              "1  b0830fb4747a6c6d20dea0b8c802d7ef    delivered      2018-07-24 20:41:37   \n",
              "2  41ce2a54c0b03bf3443c3d931a367089    delivered      2018-08-08 08:38:49   \n",
              "3  f88197465ea7920adcdbec7375364d82    delivered      2017-11-18 19:28:06   \n",
              "4  8ab97904e6daea8866dbdbc4fb7aad2c    delivered      2018-02-13 21:18:39   \n",
              "\n",
              "     order_approved_at order_delivered_carrier_date  \\\n",
              "0  2017-10-02 11:07:15          2017-10-04 19:55:00   \n",
              "1  2018-07-26 03:24:27          2018-07-26 14:31:00   \n",
              "2  2018-08-08 08:55:23          2018-08-08 13:50:00   \n",
              "3  2017-11-18 19:45:59          2017-11-22 13:39:59   \n",
              "4  2018-02-13 22:20:29          2018-02-14 19:46:34   \n",
              "\n",
              "  order_delivered_customer_date order_estimated_delivery_date  \\\n",
              "0           2017-10-10 21:25:13           2017-10-18 00:00:00   \n",
              "1           2018-08-07 15:27:45           2018-08-13 00:00:00   \n",
              "2           2018-08-17 18:06:29           2018-09-04 00:00:00   \n",
              "3           2017-12-02 00:28:42           2017-12-15 00:00:00   \n",
              "4           2018-02-16 18:17:02           2018-02-26 00:00:00   \n",
              "\n",
              "                           order_id  order_item_id  \\\n",
              "0  e481f51cbdc54678b7cc49136f2d6af7              1   \n",
              "1  53cdb2fc8bc7dce0b6741e2150273451              1   \n",
              "2  47770eb9100c2d0c44946d9cf07ec65d              1   \n",
              "3  949d5b44dbf5de918fe9c16f97b45f8a              1   \n",
              "4  ad21c59c0840e6cb83a9ceb5573f8159              1   \n",
              "\n",
              "                         product_id                         seller_id  \\\n",
              "0  87285b34884572647811a353c7ac498a  3504c0cb71d7fa48d967e0e4c94d59d9   \n",
              "1  595fac2a385ac33a80bd5114aec74eb8  289cdb325fb7e7f891c38608bf9e0962   \n",
              "2  aa4383b373c6aca5d8797843e5594415  4869f7a5dfa277a7dca6462dcf3b52b2   \n",
              "3  d0b61bfb1de832b15ba9d266ca96e5b0  66922902710d126a0e7d26b0e3805106   \n",
              "4  65266b2da20d04dbe00c5c2d3bb7859e  2c9e548be18521d1c43cde1c582c6de8   \n",
              "\n",
              "   shipping_limit_date   price  freight_value  \n",
              "0  2017-10-06 11:07:15   29.99           8.72  \n",
              "1  2018-07-30 03:24:27  118.70          22.76  \n",
              "2  2018-08-13 08:55:23  159.90          19.22  \n",
              "3  2017-11-23 19:45:59   45.00          27.20  \n",
              "4  2018-02-19 20:31:37   19.90           8.72  "
            ],
            "text/html": [
              "\n",
              "  <div id=\"df-bfe0cb99-b533-4f13-b5e2-6dc4cbfcc17c\" class=\"colab-df-container\">\n",
              "    <div>\n",
              "<style scoped>\n",
              "    .dataframe tbody tr th:only-of-type {\n",
              "        vertical-align: middle;\n",
              "    }\n",
              "\n",
              "    .dataframe tbody tr th {\n",
              "        vertical-align: top;\n",
              "    }\n",
              "\n",
              "    .dataframe thead th {\n",
              "        text-align: right;\n",
              "    }\n",
              "</style>\n",
              "<table border=\"1\" class=\"dataframe\">\n",
              "  <thead>\n",
              "    <tr style=\"text-align: right;\">\n",
              "      <th></th>\n",
              "      <th>customer_id</th>\n",
              "      <th>order_status</th>\n",
              "      <th>order_purchase_timestamp</th>\n",
              "      <th>order_approved_at</th>\n",
              "      <th>order_delivered_carrier_date</th>\n",
              "      <th>order_delivered_customer_date</th>\n",
              "      <th>order_estimated_delivery_date</th>\n",
              "      <th>order_id</th>\n",
              "      <th>order_item_id</th>\n",
              "      <th>product_id</th>\n",
              "      <th>seller_id</th>\n",
              "      <th>shipping_limit_date</th>\n",
              "      <th>price</th>\n",
              "      <th>freight_value</th>\n",
              "    </tr>\n",
              "  </thead>\n",
              "  <tbody>\n",
              "    <tr>\n",
              "      <th>0</th>\n",
              "      <td>9ef432eb6251297304e76186b10a928d</td>\n",
              "      <td>delivered</td>\n",
              "      <td>2017-10-02 10:56:33</td>\n",
              "      <td>2017-10-02 11:07:15</td>\n",
              "      <td>2017-10-04 19:55:00</td>\n",
              "      <td>2017-10-10 21:25:13</td>\n",
              "      <td>2017-10-18 00:00:00</td>\n",
              "      <td>e481f51cbdc54678b7cc49136f2d6af7</td>\n",
              "      <td>1</td>\n",
              "      <td>87285b34884572647811a353c7ac498a</td>\n",
              "      <td>3504c0cb71d7fa48d967e0e4c94d59d9</td>\n",
              "      <td>2017-10-06 11:07:15</td>\n",
              "      <td>29.99</td>\n",
              "      <td>8.72</td>\n",
              "    </tr>\n",
              "    <tr>\n",
              "      <th>1</th>\n",
              "      <td>b0830fb4747a6c6d20dea0b8c802d7ef</td>\n",
              "      <td>delivered</td>\n",
              "      <td>2018-07-24 20:41:37</td>\n",
              "      <td>2018-07-26 03:24:27</td>\n",
              "      <td>2018-07-26 14:31:00</td>\n",
              "      <td>2018-08-07 15:27:45</td>\n",
              "      <td>2018-08-13 00:00:00</td>\n",
              "      <td>53cdb2fc8bc7dce0b6741e2150273451</td>\n",
              "      <td>1</td>\n",
              "      <td>595fac2a385ac33a80bd5114aec74eb8</td>\n",
              "      <td>289cdb325fb7e7f891c38608bf9e0962</td>\n",
              "      <td>2018-07-30 03:24:27</td>\n",
              "      <td>118.70</td>\n",
              "      <td>22.76</td>\n",
              "    </tr>\n",
              "    <tr>\n",
              "      <th>2</th>\n",
              "      <td>41ce2a54c0b03bf3443c3d931a367089</td>\n",
              "      <td>delivered</td>\n",
              "      <td>2018-08-08 08:38:49</td>\n",
              "      <td>2018-08-08 08:55:23</td>\n",
              "      <td>2018-08-08 13:50:00</td>\n",
              "      <td>2018-08-17 18:06:29</td>\n",
              "      <td>2018-09-04 00:00:00</td>\n",
              "      <td>47770eb9100c2d0c44946d9cf07ec65d</td>\n",
              "      <td>1</td>\n",
              "      <td>aa4383b373c6aca5d8797843e5594415</td>\n",
              "      <td>4869f7a5dfa277a7dca6462dcf3b52b2</td>\n",
              "      <td>2018-08-13 08:55:23</td>\n",
              "      <td>159.90</td>\n",
              "      <td>19.22</td>\n",
              "    </tr>\n",
              "    <tr>\n",
              "      <th>3</th>\n",
              "      <td>f88197465ea7920adcdbec7375364d82</td>\n",
              "      <td>delivered</td>\n",
              "      <td>2017-11-18 19:28:06</td>\n",
              "      <td>2017-11-18 19:45:59</td>\n",
              "      <td>2017-11-22 13:39:59</td>\n",
              "      <td>2017-12-02 00:28:42</td>\n",
              "      <td>2017-12-15 00:00:00</td>\n",
              "      <td>949d5b44dbf5de918fe9c16f97b45f8a</td>\n",
              "      <td>1</td>\n",
              "      <td>d0b61bfb1de832b15ba9d266ca96e5b0</td>\n",
              "      <td>66922902710d126a0e7d26b0e3805106</td>\n",
              "      <td>2017-11-23 19:45:59</td>\n",
              "      <td>45.00</td>\n",
              "      <td>27.20</td>\n",
              "    </tr>\n",
              "    <tr>\n",
              "      <th>4</th>\n",
              "      <td>8ab97904e6daea8866dbdbc4fb7aad2c</td>\n",
              "      <td>delivered</td>\n",
              "      <td>2018-02-13 21:18:39</td>\n",
              "      <td>2018-02-13 22:20:29</td>\n",
              "      <td>2018-02-14 19:46:34</td>\n",
              "      <td>2018-02-16 18:17:02</td>\n",
              "      <td>2018-02-26 00:00:00</td>\n",
              "      <td>ad21c59c0840e6cb83a9ceb5573f8159</td>\n",
              "      <td>1</td>\n",
              "      <td>65266b2da20d04dbe00c5c2d3bb7859e</td>\n",
              "      <td>2c9e548be18521d1c43cde1c582c6de8</td>\n",
              "      <td>2018-02-19 20:31:37</td>\n",
              "      <td>19.90</td>\n",
              "      <td>8.72</td>\n",
              "    </tr>\n",
              "  </tbody>\n",
              "</table>\n",
              "</div>\n",
              "    <div class=\"colab-df-buttons\">\n",
              "\n",
              "  <div class=\"colab-df-container\">\n",
              "    <button class=\"colab-df-convert\" onclick=\"convertToInteractive('df-bfe0cb99-b533-4f13-b5e2-6dc4cbfcc17c')\"\n",
              "            title=\"Convert this dataframe to an interactive table.\"\n",
              "            style=\"display:none;\">\n",
              "\n",
              "  <svg xmlns=\"http://www.w3.org/2000/svg\" height=\"24px\" viewBox=\"0 -960 960 960\">\n",
              "    <path d=\"M120-120v-720h720v720H120Zm60-500h600v-160H180v160Zm220 220h160v-160H400v160Zm0 220h160v-160H400v160ZM180-400h160v-160H180v160Zm440 0h160v-160H620v160ZM180-180h160v-160H180v160Zm440 0h160v-160H620v160Z\"/>\n",
              "  </svg>\n",
              "    </button>\n",
              "\n",
              "  <style>\n",
              "    .colab-df-container {\n",
              "      display:flex;\n",
              "      gap: 12px;\n",
              "    }\n",
              "\n",
              "    .colab-df-convert {\n",
              "      background-color: #E8F0FE;\n",
              "      border: none;\n",
              "      border-radius: 50%;\n",
              "      cursor: pointer;\n",
              "      display: none;\n",
              "      fill: #1967D2;\n",
              "      height: 32px;\n",
              "      padding: 0 0 0 0;\n",
              "      width: 32px;\n",
              "    }\n",
              "\n",
              "    .colab-df-convert:hover {\n",
              "      background-color: #E2EBFA;\n",
              "      box-shadow: 0px 1px 2px rgba(60, 64, 67, 0.3), 0px 1px 3px 1px rgba(60, 64, 67, 0.15);\n",
              "      fill: #174EA6;\n",
              "    }\n",
              "\n",
              "    .colab-df-buttons div {\n",
              "      margin-bottom: 4px;\n",
              "    }\n",
              "\n",
              "    [theme=dark] .colab-df-convert {\n",
              "      background-color: #3B4455;\n",
              "      fill: #D2E3FC;\n",
              "    }\n",
              "\n",
              "    [theme=dark] .colab-df-convert:hover {\n",
              "      background-color: #434B5C;\n",
              "      box-shadow: 0px 1px 3px 1px rgba(0, 0, 0, 0.15);\n",
              "      filter: drop-shadow(0px 1px 2px rgba(0, 0, 0, 0.3));\n",
              "      fill: #FFFFFF;\n",
              "    }\n",
              "  </style>\n",
              "\n",
              "    <script>\n",
              "      const buttonEl =\n",
              "        document.querySelector('#df-bfe0cb99-b533-4f13-b5e2-6dc4cbfcc17c button.colab-df-convert');\n",
              "      buttonEl.style.display =\n",
              "        google.colab.kernel.accessAllowed ? 'block' : 'none';\n",
              "\n",
              "      async function convertToInteractive(key) {\n",
              "        const element = document.querySelector('#df-bfe0cb99-b533-4f13-b5e2-6dc4cbfcc17c');\n",
              "        const dataTable =\n",
              "          await google.colab.kernel.invokeFunction('convertToInteractive',\n",
              "                                                    [key], {});\n",
              "        if (!dataTable) return;\n",
              "\n",
              "        const docLinkHtml = 'Like what you see? Visit the ' +\n",
              "          '<a target=\"_blank\" href=https://colab.research.google.com/notebooks/data_table.ipynb>data table notebook</a>'\n",
              "          + ' to learn more about interactive tables.';\n",
              "        element.innerHTML = '';\n",
              "        dataTable['output_type'] = 'display_data';\n",
              "        await google.colab.output.renderOutput(dataTable, element);\n",
              "        const docLink = document.createElement('div');\n",
              "        docLink.innerHTML = docLinkHtml;\n",
              "        element.appendChild(docLink);\n",
              "      }\n",
              "    </script>\n",
              "  </div>\n",
              "\n",
              "\n",
              "<div id=\"df-fb6fd396-f808-4008-9064-e27923b1c42d\">\n",
              "  <button class=\"colab-df-quickchart\" onclick=\"quickchart('df-fb6fd396-f808-4008-9064-e27923b1c42d')\"\n",
              "            title=\"Suggest charts.\"\n",
              "            style=\"display:none;\">\n",
              "\n",
              "<svg xmlns=\"http://www.w3.org/2000/svg\" height=\"24px\"viewBox=\"0 0 24 24\"\n",
              "     width=\"24px\">\n",
              "    <g>\n",
              "        <path d=\"M19 3H5c-1.1 0-2 .9-2 2v14c0 1.1.9 2 2 2h14c1.1 0 2-.9 2-2V5c0-1.1-.9-2-2-2zM9 17H7v-7h2v7zm4 0h-2V7h2v10zm4 0h-2v-4h2v4z\"/>\n",
              "    </g>\n",
              "</svg>\n",
              "  </button>\n",
              "\n",
              "<style>\n",
              "  .colab-df-quickchart {\n",
              "      --bg-color: #E8F0FE;\n",
              "      --fill-color: #1967D2;\n",
              "      --hover-bg-color: #E2EBFA;\n",
              "      --hover-fill-color: #174EA6;\n",
              "      --disabled-fill-color: #AAA;\n",
              "      --disabled-bg-color: #DDD;\n",
              "  }\n",
              "\n",
              "  [theme=dark] .colab-df-quickchart {\n",
              "      --bg-color: #3B4455;\n",
              "      --fill-color: #D2E3FC;\n",
              "      --hover-bg-color: #434B5C;\n",
              "      --hover-fill-color: #FFFFFF;\n",
              "      --disabled-bg-color: #3B4455;\n",
              "      --disabled-fill-color: #666;\n",
              "  }\n",
              "\n",
              "  .colab-df-quickchart {\n",
              "    background-color: var(--bg-color);\n",
              "    border: none;\n",
              "    border-radius: 50%;\n",
              "    cursor: pointer;\n",
              "    display: none;\n",
              "    fill: var(--fill-color);\n",
              "    height: 32px;\n",
              "    padding: 0;\n",
              "    width: 32px;\n",
              "  }\n",
              "\n",
              "  .colab-df-quickchart:hover {\n",
              "    background-color: var(--hover-bg-color);\n",
              "    box-shadow: 0 1px 2px rgba(60, 64, 67, 0.3), 0 1px 3px 1px rgba(60, 64, 67, 0.15);\n",
              "    fill: var(--button-hover-fill-color);\n",
              "  }\n",
              "\n",
              "  .colab-df-quickchart-complete:disabled,\n",
              "  .colab-df-quickchart-complete:disabled:hover {\n",
              "    background-color: var(--disabled-bg-color);\n",
              "    fill: var(--disabled-fill-color);\n",
              "    box-shadow: none;\n",
              "  }\n",
              "\n",
              "  .colab-df-spinner {\n",
              "    border: 2px solid var(--fill-color);\n",
              "    border-color: transparent;\n",
              "    border-bottom-color: var(--fill-color);\n",
              "    animation:\n",
              "      spin 1s steps(1) infinite;\n",
              "  }\n",
              "\n",
              "  @keyframes spin {\n",
              "    0% {\n",
              "      border-color: transparent;\n",
              "      border-bottom-color: var(--fill-color);\n",
              "      border-left-color: var(--fill-color);\n",
              "    }\n",
              "    20% {\n",
              "      border-color: transparent;\n",
              "      border-left-color: var(--fill-color);\n",
              "      border-top-color: var(--fill-color);\n",
              "    }\n",
              "    30% {\n",
              "      border-color: transparent;\n",
              "      border-left-color: var(--fill-color);\n",
              "      border-top-color: var(--fill-color);\n",
              "      border-right-color: var(--fill-color);\n",
              "    }\n",
              "    40% {\n",
              "      border-color: transparent;\n",
              "      border-right-color: var(--fill-color);\n",
              "      border-top-color: var(--fill-color);\n",
              "    }\n",
              "    60% {\n",
              "      border-color: transparent;\n",
              "      border-right-color: var(--fill-color);\n",
              "    }\n",
              "    80% {\n",
              "      border-color: transparent;\n",
              "      border-right-color: var(--fill-color);\n",
              "      border-bottom-color: var(--fill-color);\n",
              "    }\n",
              "    90% {\n",
              "      border-color: transparent;\n",
              "      border-bottom-color: var(--fill-color);\n",
              "    }\n",
              "  }\n",
              "</style>\n",
              "\n",
              "  <script>\n",
              "    async function quickchart(key) {\n",
              "      const quickchartButtonEl =\n",
              "        document.querySelector('#' + key + ' button');\n",
              "      quickchartButtonEl.disabled = true;  // To prevent multiple clicks.\n",
              "      quickchartButtonEl.classList.add('colab-df-spinner');\n",
              "      try {\n",
              "        const charts = await google.colab.kernel.invokeFunction(\n",
              "            'suggestCharts', [key], {});\n",
              "      } catch (error) {\n",
              "        console.error('Error during call to suggestCharts:', error);\n",
              "      }\n",
              "      quickchartButtonEl.classList.remove('colab-df-spinner');\n",
              "      quickchartButtonEl.classList.add('colab-df-quickchart-complete');\n",
              "    }\n",
              "    (() => {\n",
              "      let quickchartButtonEl =\n",
              "        document.querySelector('#df-fb6fd396-f808-4008-9064-e27923b1c42d button');\n",
              "      quickchartButtonEl.style.display =\n",
              "        google.colab.kernel.accessAllowed ? 'block' : 'none';\n",
              "    })();\n",
              "  </script>\n",
              "</div>\n",
              "    </div>\n",
              "  </div>\n"
            ]
          },
          "metadata": {},
          "execution_count": 19
        }
      ],
      "source": [
        "query_2 = '''\n",
        "SELECT o.customer_id,o.order_status,o.order_purchase_timestamp,o.order_approved_at,o.order_delivered_carrier_date ,o.order_delivered_customer_date ,o.order_estimated_delivery_date,\n",
        "       oi.order_id, oi.order_item_id , oi.product_id , oi.seller_id , oi.shipping_limit_date , oi.price  , oi.freight_value\n",
        "FROM orders AS o\n",
        "JOIN order_items AS oi ON o.order_id = oi.order_id;\n",
        "'''\n",
        "df_orders_ordersitems = pd.read_sql_query(query_2,conn)\n",
        "df_orders_ordersitems.head(5)"
      ]
    },
    {
      "cell_type": "markdown",
      "metadata": {
        "id": "0YVOJBQBvBED"
      },
      "source": [
        "## BBT1-20  Extracción de datos desde las tablas orders_items y sellers"
      ]
    },
    {
      "cell_type": "markdown",
      "source": [
        "**Descripción**\n",
        "\n",
        "COMO: desarrollador\n",
        "\n",
        "QUIERO: Crear un DataFrame que contenga el JOIN de la tabla orders_items y tabla sellers.\n",
        "\n",
        "PARA: Extraer los datos de items con por sellers"
      ],
      "metadata": {
        "id": "8S16rQPGdQnF"
      }
    },
    {
      "cell_type": "code",
      "execution_count": 20,
      "metadata": {
        "id": "wYTi10fovD7-",
        "colab": {
          "base_uri": "https://localhost:8080/",
          "height": 0
        },
        "outputId": "c051cc98-af8b-4fcc-f2d0-0bb38f76fd76"
      },
      "outputs": [
        {
          "output_type": "execute_result",
          "data": {
            "text/plain": [
              "                           order_id  order_item_id  \\\n",
              "0  00010242fe8c5a6d1ba2dd792cb16214              1   \n",
              "1  00018f77f2f0320c557190d7a144bdd3              1   \n",
              "2  000229ec398224ef6ca0657da4fc703e              1   \n",
              "3  00024acbcdf0a6daa1e931b038114c75              1   \n",
              "4  00042b26cf59d7ce69dfabb4e55b4fd9              1   \n",
              "\n",
              "                         product_id                         seller_id  \\\n",
              "0  4244733e06e7ecb4970a6e2683c13e61  48436dade18ac8b2bce089ec2a041202   \n",
              "1  e5f2d52b802189ee658865ca93d83a8f  dd7ddc04e1b6c2c614352b383efe2d36   \n",
              "2  c777355d18b72b67abbeef9df44fd0fd  5b51032eddd242adc84c38acab88f23d   \n",
              "3  7634da152a4610f1595efa32f14722fc  9d7a1d34a5052409006425275ba1c2b4   \n",
              "4  ac6c3623068f30de03045865e4e10089  df560393f3a51e74553ab94004ba5c87   \n",
              "\n",
              "   shipping_limit_date   price  freight_value  seller_zip_code_prefix  \\\n",
              "0  2017-09-19 09:45:35   58.90          13.29                   27277   \n",
              "1  2017-05-03 11:05:13  239.90          19.93                    3471   \n",
              "2  2018-01-18 14:48:30  199.00          17.87                   37564   \n",
              "3  2018-08-15 10:10:18   12.99          12.79                   14403   \n",
              "4  2017-02-13 13:57:51  199.90          18.14                   87900   \n",
              "\n",
              "     seller_city seller_state  \n",
              "0  volta redonda           SP  \n",
              "1      sao paulo           SP  \n",
              "2  borda da mata           MG  \n",
              "3         franca           SP  \n",
              "4         loanda           PR  "
            ],
            "text/html": [
              "\n",
              "  <div id=\"df-00e99ad4-903e-4858-ac29-ca96267ec53f\" class=\"colab-df-container\">\n",
              "    <div>\n",
              "<style scoped>\n",
              "    .dataframe tbody tr th:only-of-type {\n",
              "        vertical-align: middle;\n",
              "    }\n",
              "\n",
              "    .dataframe tbody tr th {\n",
              "        vertical-align: top;\n",
              "    }\n",
              "\n",
              "    .dataframe thead th {\n",
              "        text-align: right;\n",
              "    }\n",
              "</style>\n",
              "<table border=\"1\" class=\"dataframe\">\n",
              "  <thead>\n",
              "    <tr style=\"text-align: right;\">\n",
              "      <th></th>\n",
              "      <th>order_id</th>\n",
              "      <th>order_item_id</th>\n",
              "      <th>product_id</th>\n",
              "      <th>seller_id</th>\n",
              "      <th>shipping_limit_date</th>\n",
              "      <th>price</th>\n",
              "      <th>freight_value</th>\n",
              "      <th>seller_zip_code_prefix</th>\n",
              "      <th>seller_city</th>\n",
              "      <th>seller_state</th>\n",
              "    </tr>\n",
              "  </thead>\n",
              "  <tbody>\n",
              "    <tr>\n",
              "      <th>0</th>\n",
              "      <td>00010242fe8c5a6d1ba2dd792cb16214</td>\n",
              "      <td>1</td>\n",
              "      <td>4244733e06e7ecb4970a6e2683c13e61</td>\n",
              "      <td>48436dade18ac8b2bce089ec2a041202</td>\n",
              "      <td>2017-09-19 09:45:35</td>\n",
              "      <td>58.90</td>\n",
              "      <td>13.29</td>\n",
              "      <td>27277</td>\n",
              "      <td>volta redonda</td>\n",
              "      <td>SP</td>\n",
              "    </tr>\n",
              "    <tr>\n",
              "      <th>1</th>\n",
              "      <td>00018f77f2f0320c557190d7a144bdd3</td>\n",
              "      <td>1</td>\n",
              "      <td>e5f2d52b802189ee658865ca93d83a8f</td>\n",
              "      <td>dd7ddc04e1b6c2c614352b383efe2d36</td>\n",
              "      <td>2017-05-03 11:05:13</td>\n",
              "      <td>239.90</td>\n",
              "      <td>19.93</td>\n",
              "      <td>3471</td>\n",
              "      <td>sao paulo</td>\n",
              "      <td>SP</td>\n",
              "    </tr>\n",
              "    <tr>\n",
              "      <th>2</th>\n",
              "      <td>000229ec398224ef6ca0657da4fc703e</td>\n",
              "      <td>1</td>\n",
              "      <td>c777355d18b72b67abbeef9df44fd0fd</td>\n",
              "      <td>5b51032eddd242adc84c38acab88f23d</td>\n",
              "      <td>2018-01-18 14:48:30</td>\n",
              "      <td>199.00</td>\n",
              "      <td>17.87</td>\n",
              "      <td>37564</td>\n",
              "      <td>borda da mata</td>\n",
              "      <td>MG</td>\n",
              "    </tr>\n",
              "    <tr>\n",
              "      <th>3</th>\n",
              "      <td>00024acbcdf0a6daa1e931b038114c75</td>\n",
              "      <td>1</td>\n",
              "      <td>7634da152a4610f1595efa32f14722fc</td>\n",
              "      <td>9d7a1d34a5052409006425275ba1c2b4</td>\n",
              "      <td>2018-08-15 10:10:18</td>\n",
              "      <td>12.99</td>\n",
              "      <td>12.79</td>\n",
              "      <td>14403</td>\n",
              "      <td>franca</td>\n",
              "      <td>SP</td>\n",
              "    </tr>\n",
              "    <tr>\n",
              "      <th>4</th>\n",
              "      <td>00042b26cf59d7ce69dfabb4e55b4fd9</td>\n",
              "      <td>1</td>\n",
              "      <td>ac6c3623068f30de03045865e4e10089</td>\n",
              "      <td>df560393f3a51e74553ab94004ba5c87</td>\n",
              "      <td>2017-02-13 13:57:51</td>\n",
              "      <td>199.90</td>\n",
              "      <td>18.14</td>\n",
              "      <td>87900</td>\n",
              "      <td>loanda</td>\n",
              "      <td>PR</td>\n",
              "    </tr>\n",
              "  </tbody>\n",
              "</table>\n",
              "</div>\n",
              "    <div class=\"colab-df-buttons\">\n",
              "\n",
              "  <div class=\"colab-df-container\">\n",
              "    <button class=\"colab-df-convert\" onclick=\"convertToInteractive('df-00e99ad4-903e-4858-ac29-ca96267ec53f')\"\n",
              "            title=\"Convert this dataframe to an interactive table.\"\n",
              "            style=\"display:none;\">\n",
              "\n",
              "  <svg xmlns=\"http://www.w3.org/2000/svg\" height=\"24px\" viewBox=\"0 -960 960 960\">\n",
              "    <path d=\"M120-120v-720h720v720H120Zm60-500h600v-160H180v160Zm220 220h160v-160H400v160Zm0 220h160v-160H400v160ZM180-400h160v-160H180v160Zm440 0h160v-160H620v160ZM180-180h160v-160H180v160Zm440 0h160v-160H620v160Z\"/>\n",
              "  </svg>\n",
              "    </button>\n",
              "\n",
              "  <style>\n",
              "    .colab-df-container {\n",
              "      display:flex;\n",
              "      gap: 12px;\n",
              "    }\n",
              "\n",
              "    .colab-df-convert {\n",
              "      background-color: #E8F0FE;\n",
              "      border: none;\n",
              "      border-radius: 50%;\n",
              "      cursor: pointer;\n",
              "      display: none;\n",
              "      fill: #1967D2;\n",
              "      height: 32px;\n",
              "      padding: 0 0 0 0;\n",
              "      width: 32px;\n",
              "    }\n",
              "\n",
              "    .colab-df-convert:hover {\n",
              "      background-color: #E2EBFA;\n",
              "      box-shadow: 0px 1px 2px rgba(60, 64, 67, 0.3), 0px 1px 3px 1px rgba(60, 64, 67, 0.15);\n",
              "      fill: #174EA6;\n",
              "    }\n",
              "\n",
              "    .colab-df-buttons div {\n",
              "      margin-bottom: 4px;\n",
              "    }\n",
              "\n",
              "    [theme=dark] .colab-df-convert {\n",
              "      background-color: #3B4455;\n",
              "      fill: #D2E3FC;\n",
              "    }\n",
              "\n",
              "    [theme=dark] .colab-df-convert:hover {\n",
              "      background-color: #434B5C;\n",
              "      box-shadow: 0px 1px 3px 1px rgba(0, 0, 0, 0.15);\n",
              "      filter: drop-shadow(0px 1px 2px rgba(0, 0, 0, 0.3));\n",
              "      fill: #FFFFFF;\n",
              "    }\n",
              "  </style>\n",
              "\n",
              "    <script>\n",
              "      const buttonEl =\n",
              "        document.querySelector('#df-00e99ad4-903e-4858-ac29-ca96267ec53f button.colab-df-convert');\n",
              "      buttonEl.style.display =\n",
              "        google.colab.kernel.accessAllowed ? 'block' : 'none';\n",
              "\n",
              "      async function convertToInteractive(key) {\n",
              "        const element = document.querySelector('#df-00e99ad4-903e-4858-ac29-ca96267ec53f');\n",
              "        const dataTable =\n",
              "          await google.colab.kernel.invokeFunction('convertToInteractive',\n",
              "                                                    [key], {});\n",
              "        if (!dataTable) return;\n",
              "\n",
              "        const docLinkHtml = 'Like what you see? Visit the ' +\n",
              "          '<a target=\"_blank\" href=https://colab.research.google.com/notebooks/data_table.ipynb>data table notebook</a>'\n",
              "          + ' to learn more about interactive tables.';\n",
              "        element.innerHTML = '';\n",
              "        dataTable['output_type'] = 'display_data';\n",
              "        await google.colab.output.renderOutput(dataTable, element);\n",
              "        const docLink = document.createElement('div');\n",
              "        docLink.innerHTML = docLinkHtml;\n",
              "        element.appendChild(docLink);\n",
              "      }\n",
              "    </script>\n",
              "  </div>\n",
              "\n",
              "\n",
              "<div id=\"df-843a9186-9bd3-4f59-8cb3-a77f7ee47809\">\n",
              "  <button class=\"colab-df-quickchart\" onclick=\"quickchart('df-843a9186-9bd3-4f59-8cb3-a77f7ee47809')\"\n",
              "            title=\"Suggest charts.\"\n",
              "            style=\"display:none;\">\n",
              "\n",
              "<svg xmlns=\"http://www.w3.org/2000/svg\" height=\"24px\"viewBox=\"0 0 24 24\"\n",
              "     width=\"24px\">\n",
              "    <g>\n",
              "        <path d=\"M19 3H5c-1.1 0-2 .9-2 2v14c0 1.1.9 2 2 2h14c1.1 0 2-.9 2-2V5c0-1.1-.9-2-2-2zM9 17H7v-7h2v7zm4 0h-2V7h2v10zm4 0h-2v-4h2v4z\"/>\n",
              "    </g>\n",
              "</svg>\n",
              "  </button>\n",
              "\n",
              "<style>\n",
              "  .colab-df-quickchart {\n",
              "      --bg-color: #E8F0FE;\n",
              "      --fill-color: #1967D2;\n",
              "      --hover-bg-color: #E2EBFA;\n",
              "      --hover-fill-color: #174EA6;\n",
              "      --disabled-fill-color: #AAA;\n",
              "      --disabled-bg-color: #DDD;\n",
              "  }\n",
              "\n",
              "  [theme=dark] .colab-df-quickchart {\n",
              "      --bg-color: #3B4455;\n",
              "      --fill-color: #D2E3FC;\n",
              "      --hover-bg-color: #434B5C;\n",
              "      --hover-fill-color: #FFFFFF;\n",
              "      --disabled-bg-color: #3B4455;\n",
              "      --disabled-fill-color: #666;\n",
              "  }\n",
              "\n",
              "  .colab-df-quickchart {\n",
              "    background-color: var(--bg-color);\n",
              "    border: none;\n",
              "    border-radius: 50%;\n",
              "    cursor: pointer;\n",
              "    display: none;\n",
              "    fill: var(--fill-color);\n",
              "    height: 32px;\n",
              "    padding: 0;\n",
              "    width: 32px;\n",
              "  }\n",
              "\n",
              "  .colab-df-quickchart:hover {\n",
              "    background-color: var(--hover-bg-color);\n",
              "    box-shadow: 0 1px 2px rgba(60, 64, 67, 0.3), 0 1px 3px 1px rgba(60, 64, 67, 0.15);\n",
              "    fill: var(--button-hover-fill-color);\n",
              "  }\n",
              "\n",
              "  .colab-df-quickchart-complete:disabled,\n",
              "  .colab-df-quickchart-complete:disabled:hover {\n",
              "    background-color: var(--disabled-bg-color);\n",
              "    fill: var(--disabled-fill-color);\n",
              "    box-shadow: none;\n",
              "  }\n",
              "\n",
              "  .colab-df-spinner {\n",
              "    border: 2px solid var(--fill-color);\n",
              "    border-color: transparent;\n",
              "    border-bottom-color: var(--fill-color);\n",
              "    animation:\n",
              "      spin 1s steps(1) infinite;\n",
              "  }\n",
              "\n",
              "  @keyframes spin {\n",
              "    0% {\n",
              "      border-color: transparent;\n",
              "      border-bottom-color: var(--fill-color);\n",
              "      border-left-color: var(--fill-color);\n",
              "    }\n",
              "    20% {\n",
              "      border-color: transparent;\n",
              "      border-left-color: var(--fill-color);\n",
              "      border-top-color: var(--fill-color);\n",
              "    }\n",
              "    30% {\n",
              "      border-color: transparent;\n",
              "      border-left-color: var(--fill-color);\n",
              "      border-top-color: var(--fill-color);\n",
              "      border-right-color: var(--fill-color);\n",
              "    }\n",
              "    40% {\n",
              "      border-color: transparent;\n",
              "      border-right-color: var(--fill-color);\n",
              "      border-top-color: var(--fill-color);\n",
              "    }\n",
              "    60% {\n",
              "      border-color: transparent;\n",
              "      border-right-color: var(--fill-color);\n",
              "    }\n",
              "    80% {\n",
              "      border-color: transparent;\n",
              "      border-right-color: var(--fill-color);\n",
              "      border-bottom-color: var(--fill-color);\n",
              "    }\n",
              "    90% {\n",
              "      border-color: transparent;\n",
              "      border-bottom-color: var(--fill-color);\n",
              "    }\n",
              "  }\n",
              "</style>\n",
              "\n",
              "  <script>\n",
              "    async function quickchart(key) {\n",
              "      const quickchartButtonEl =\n",
              "        document.querySelector('#' + key + ' button');\n",
              "      quickchartButtonEl.disabled = true;  // To prevent multiple clicks.\n",
              "      quickchartButtonEl.classList.add('colab-df-spinner');\n",
              "      try {\n",
              "        const charts = await google.colab.kernel.invokeFunction(\n",
              "            'suggestCharts', [key], {});\n",
              "      } catch (error) {\n",
              "        console.error('Error during call to suggestCharts:', error);\n",
              "      }\n",
              "      quickchartButtonEl.classList.remove('colab-df-spinner');\n",
              "      quickchartButtonEl.classList.add('colab-df-quickchart-complete');\n",
              "    }\n",
              "    (() => {\n",
              "      let quickchartButtonEl =\n",
              "        document.querySelector('#df-843a9186-9bd3-4f59-8cb3-a77f7ee47809 button');\n",
              "      quickchartButtonEl.style.display =\n",
              "        google.colab.kernel.accessAllowed ? 'block' : 'none';\n",
              "    })();\n",
              "  </script>\n",
              "</div>\n",
              "    </div>\n",
              "  </div>\n"
            ]
          },
          "metadata": {},
          "execution_count": 20
        }
      ],
      "source": [
        "query_3 = '''\n",
        "SELECT oi.order_id, oi.order_item_id , oi.product_id , oi.seller_id , oi.shipping_limit_date , oi.price  , oi.freight_value,\n",
        "        s.seller_zip_code_prefix, s.seller_city, s.seller_state\n",
        "FROM order_items AS oi\n",
        "JOIN sellers AS s ON oi.seller_id = s.seller_id;\n",
        "'''\n",
        "df_orderitems_sellers = pd.read_sql_query(query_3, conn)\n",
        "df_orderitems_sellers.head(5)"
      ]
    },
    {
      "cell_type": "markdown",
      "metadata": {
        "id": "-S-ueznfbVDQ"
      },
      "source": [
        "## BBT1-21  Extracción de datos desde las tablas orders_items y products"
      ]
    },
    {
      "cell_type": "markdown",
      "source": [
        "**Descripción**\n",
        "Crear un DataFrame que contenga el JOIN de la tabla orders_items (oi) y tabla products (p).\n",
        "Extraer los datos de items con categorias"
      ],
      "metadata": {
        "id": "CFGQV7GtdRrd"
      }
    },
    {
      "cell_type": "code",
      "execution_count": 21,
      "metadata": {
        "colab": {
          "base_uri": "https://localhost:8080/",
          "height": 0
        },
        "id": "OglLgcg_bVDQ",
        "outputId": "3b57f807-5400-465b-da41-adb478b97c7a"
      },
      "outputs": [
        {
          "output_type": "execute_result",
          "data": {
            "text/plain": [
              "   index                          order_id  order_item_id  \\\n",
              "0    123  0046e1d57f4c07c8c92ab26be8c3dfc0              1   \n",
              "1    125  00482f2670787292280e0a8153d82467              1   \n",
              "2    132  004f5d8f238e8908e6864b874eda3391              1   \n",
              "3    142  0057199db02d1a5ef41bacbf41f8f63b              1   \n",
              "4    171  006cb7cafc99b29548d4f412c7f9f493              1   \n",
              "\n",
              "                         product_id                         seller_id  \\\n",
              "0  ff6caf9340512b8bf6d2a2a6df032cfa  38e6dada03429a47197d5d584d793b41   \n",
              "1  a9c404971d1a5b1cbc2e4070e02731fd  702835e4b785b67a084280efca355756   \n",
              "2  5a848e4ab52fd5445cdc07aab1c40e48  c826c40d7b19f62a09e2d7c5e7295ee2   \n",
              "3  41eee23c25f7a574dfaf8d5c151dbb12  e5a3438891c0bfdb9394643f95273d8e   \n",
              "4  e10758160da97891c2fdcbc35f0f031d  323ce52b5b81df2cd804b017b7f09aa7   \n",
              "\n",
              "   shipping_limit_date   price  freight_value product_category_name  \n",
              "0  2017-10-02 15:49:17    7.79           7.78                  None  \n",
              "1  2017-02-17 16:18:07    7.60          10.96                  None  \n",
              "2  2018-03-06 09:29:25  122.99          15.61                  None  \n",
              "3  2018-01-25 09:07:51   20.30          16.79                  None  \n",
              "4  2018-02-22 13:35:28   56.00          14.14                  None  "
            ],
            "text/html": [
              "\n",
              "  <div id=\"df-b0427c70-ae63-4534-ace5-d68ade50d7a4\" class=\"colab-df-container\">\n",
              "    <div>\n",
              "<style scoped>\n",
              "    .dataframe tbody tr th:only-of-type {\n",
              "        vertical-align: middle;\n",
              "    }\n",
              "\n",
              "    .dataframe tbody tr th {\n",
              "        vertical-align: top;\n",
              "    }\n",
              "\n",
              "    .dataframe thead th {\n",
              "        text-align: right;\n",
              "    }\n",
              "</style>\n",
              "<table border=\"1\" class=\"dataframe\">\n",
              "  <thead>\n",
              "    <tr style=\"text-align: right;\">\n",
              "      <th></th>\n",
              "      <th>index</th>\n",
              "      <th>order_id</th>\n",
              "      <th>order_item_id</th>\n",
              "      <th>product_id</th>\n",
              "      <th>seller_id</th>\n",
              "      <th>shipping_limit_date</th>\n",
              "      <th>price</th>\n",
              "      <th>freight_value</th>\n",
              "      <th>product_category_name</th>\n",
              "    </tr>\n",
              "  </thead>\n",
              "  <tbody>\n",
              "    <tr>\n",
              "      <th>0</th>\n",
              "      <td>123</td>\n",
              "      <td>0046e1d57f4c07c8c92ab26be8c3dfc0</td>\n",
              "      <td>1</td>\n",
              "      <td>ff6caf9340512b8bf6d2a2a6df032cfa</td>\n",
              "      <td>38e6dada03429a47197d5d584d793b41</td>\n",
              "      <td>2017-10-02 15:49:17</td>\n",
              "      <td>7.79</td>\n",
              "      <td>7.78</td>\n",
              "      <td>None</td>\n",
              "    </tr>\n",
              "    <tr>\n",
              "      <th>1</th>\n",
              "      <td>125</td>\n",
              "      <td>00482f2670787292280e0a8153d82467</td>\n",
              "      <td>1</td>\n",
              "      <td>a9c404971d1a5b1cbc2e4070e02731fd</td>\n",
              "      <td>702835e4b785b67a084280efca355756</td>\n",
              "      <td>2017-02-17 16:18:07</td>\n",
              "      <td>7.60</td>\n",
              "      <td>10.96</td>\n",
              "      <td>None</td>\n",
              "    </tr>\n",
              "    <tr>\n",
              "      <th>2</th>\n",
              "      <td>132</td>\n",
              "      <td>004f5d8f238e8908e6864b874eda3391</td>\n",
              "      <td>1</td>\n",
              "      <td>5a848e4ab52fd5445cdc07aab1c40e48</td>\n",
              "      <td>c826c40d7b19f62a09e2d7c5e7295ee2</td>\n",
              "      <td>2018-03-06 09:29:25</td>\n",
              "      <td>122.99</td>\n",
              "      <td>15.61</td>\n",
              "      <td>None</td>\n",
              "    </tr>\n",
              "    <tr>\n",
              "      <th>3</th>\n",
              "      <td>142</td>\n",
              "      <td>0057199db02d1a5ef41bacbf41f8f63b</td>\n",
              "      <td>1</td>\n",
              "      <td>41eee23c25f7a574dfaf8d5c151dbb12</td>\n",
              "      <td>e5a3438891c0bfdb9394643f95273d8e</td>\n",
              "      <td>2018-01-25 09:07:51</td>\n",
              "      <td>20.30</td>\n",
              "      <td>16.79</td>\n",
              "      <td>None</td>\n",
              "    </tr>\n",
              "    <tr>\n",
              "      <th>4</th>\n",
              "      <td>171</td>\n",
              "      <td>006cb7cafc99b29548d4f412c7f9f493</td>\n",
              "      <td>1</td>\n",
              "      <td>e10758160da97891c2fdcbc35f0f031d</td>\n",
              "      <td>323ce52b5b81df2cd804b017b7f09aa7</td>\n",
              "      <td>2018-02-22 13:35:28</td>\n",
              "      <td>56.00</td>\n",
              "      <td>14.14</td>\n",
              "      <td>None</td>\n",
              "    </tr>\n",
              "  </tbody>\n",
              "</table>\n",
              "</div>\n",
              "    <div class=\"colab-df-buttons\">\n",
              "\n",
              "  <div class=\"colab-df-container\">\n",
              "    <button class=\"colab-df-convert\" onclick=\"convertToInteractive('df-b0427c70-ae63-4534-ace5-d68ade50d7a4')\"\n",
              "            title=\"Convert this dataframe to an interactive table.\"\n",
              "            style=\"display:none;\">\n",
              "\n",
              "  <svg xmlns=\"http://www.w3.org/2000/svg\" height=\"24px\" viewBox=\"0 -960 960 960\">\n",
              "    <path d=\"M120-120v-720h720v720H120Zm60-500h600v-160H180v160Zm220 220h160v-160H400v160Zm0 220h160v-160H400v160ZM180-400h160v-160H180v160Zm440 0h160v-160H620v160ZM180-180h160v-160H180v160Zm440 0h160v-160H620v160Z\"/>\n",
              "  </svg>\n",
              "    </button>\n",
              "\n",
              "  <style>\n",
              "    .colab-df-container {\n",
              "      display:flex;\n",
              "      gap: 12px;\n",
              "    }\n",
              "\n",
              "    .colab-df-convert {\n",
              "      background-color: #E8F0FE;\n",
              "      border: none;\n",
              "      border-radius: 50%;\n",
              "      cursor: pointer;\n",
              "      display: none;\n",
              "      fill: #1967D2;\n",
              "      height: 32px;\n",
              "      padding: 0 0 0 0;\n",
              "      width: 32px;\n",
              "    }\n",
              "\n",
              "    .colab-df-convert:hover {\n",
              "      background-color: #E2EBFA;\n",
              "      box-shadow: 0px 1px 2px rgba(60, 64, 67, 0.3), 0px 1px 3px 1px rgba(60, 64, 67, 0.15);\n",
              "      fill: #174EA6;\n",
              "    }\n",
              "\n",
              "    .colab-df-buttons div {\n",
              "      margin-bottom: 4px;\n",
              "    }\n",
              "\n",
              "    [theme=dark] .colab-df-convert {\n",
              "      background-color: #3B4455;\n",
              "      fill: #D2E3FC;\n",
              "    }\n",
              "\n",
              "    [theme=dark] .colab-df-convert:hover {\n",
              "      background-color: #434B5C;\n",
              "      box-shadow: 0px 1px 3px 1px rgba(0, 0, 0, 0.15);\n",
              "      filter: drop-shadow(0px 1px 2px rgba(0, 0, 0, 0.3));\n",
              "      fill: #FFFFFF;\n",
              "    }\n",
              "  </style>\n",
              "\n",
              "    <script>\n",
              "      const buttonEl =\n",
              "        document.querySelector('#df-b0427c70-ae63-4534-ace5-d68ade50d7a4 button.colab-df-convert');\n",
              "      buttonEl.style.display =\n",
              "        google.colab.kernel.accessAllowed ? 'block' : 'none';\n",
              "\n",
              "      async function convertToInteractive(key) {\n",
              "        const element = document.querySelector('#df-b0427c70-ae63-4534-ace5-d68ade50d7a4');\n",
              "        const dataTable =\n",
              "          await google.colab.kernel.invokeFunction('convertToInteractive',\n",
              "                                                    [key], {});\n",
              "        if (!dataTable) return;\n",
              "\n",
              "        const docLinkHtml = 'Like what you see? Visit the ' +\n",
              "          '<a target=\"_blank\" href=https://colab.research.google.com/notebooks/data_table.ipynb>data table notebook</a>'\n",
              "          + ' to learn more about interactive tables.';\n",
              "        element.innerHTML = '';\n",
              "        dataTable['output_type'] = 'display_data';\n",
              "        await google.colab.output.renderOutput(dataTable, element);\n",
              "        const docLink = document.createElement('div');\n",
              "        docLink.innerHTML = docLinkHtml;\n",
              "        element.appendChild(docLink);\n",
              "      }\n",
              "    </script>\n",
              "  </div>\n",
              "\n",
              "\n",
              "<div id=\"df-b0e7372f-5252-4cc3-8ab1-5c33f7ef690c\">\n",
              "  <button class=\"colab-df-quickchart\" onclick=\"quickchart('df-b0e7372f-5252-4cc3-8ab1-5c33f7ef690c')\"\n",
              "            title=\"Suggest charts.\"\n",
              "            style=\"display:none;\">\n",
              "\n",
              "<svg xmlns=\"http://www.w3.org/2000/svg\" height=\"24px\"viewBox=\"0 0 24 24\"\n",
              "     width=\"24px\">\n",
              "    <g>\n",
              "        <path d=\"M19 3H5c-1.1 0-2 .9-2 2v14c0 1.1.9 2 2 2h14c1.1 0 2-.9 2-2V5c0-1.1-.9-2-2-2zM9 17H7v-7h2v7zm4 0h-2V7h2v10zm4 0h-2v-4h2v4z\"/>\n",
              "    </g>\n",
              "</svg>\n",
              "  </button>\n",
              "\n",
              "<style>\n",
              "  .colab-df-quickchart {\n",
              "      --bg-color: #E8F0FE;\n",
              "      --fill-color: #1967D2;\n",
              "      --hover-bg-color: #E2EBFA;\n",
              "      --hover-fill-color: #174EA6;\n",
              "      --disabled-fill-color: #AAA;\n",
              "      --disabled-bg-color: #DDD;\n",
              "  }\n",
              "\n",
              "  [theme=dark] .colab-df-quickchart {\n",
              "      --bg-color: #3B4455;\n",
              "      --fill-color: #D2E3FC;\n",
              "      --hover-bg-color: #434B5C;\n",
              "      --hover-fill-color: #FFFFFF;\n",
              "      --disabled-bg-color: #3B4455;\n",
              "      --disabled-fill-color: #666;\n",
              "  }\n",
              "\n",
              "  .colab-df-quickchart {\n",
              "    background-color: var(--bg-color);\n",
              "    border: none;\n",
              "    border-radius: 50%;\n",
              "    cursor: pointer;\n",
              "    display: none;\n",
              "    fill: var(--fill-color);\n",
              "    height: 32px;\n",
              "    padding: 0;\n",
              "    width: 32px;\n",
              "  }\n",
              "\n",
              "  .colab-df-quickchart:hover {\n",
              "    background-color: var(--hover-bg-color);\n",
              "    box-shadow: 0 1px 2px rgba(60, 64, 67, 0.3), 0 1px 3px 1px rgba(60, 64, 67, 0.15);\n",
              "    fill: var(--button-hover-fill-color);\n",
              "  }\n",
              "\n",
              "  .colab-df-quickchart-complete:disabled,\n",
              "  .colab-df-quickchart-complete:disabled:hover {\n",
              "    background-color: var(--disabled-bg-color);\n",
              "    fill: var(--disabled-fill-color);\n",
              "    box-shadow: none;\n",
              "  }\n",
              "\n",
              "  .colab-df-spinner {\n",
              "    border: 2px solid var(--fill-color);\n",
              "    border-color: transparent;\n",
              "    border-bottom-color: var(--fill-color);\n",
              "    animation:\n",
              "      spin 1s steps(1) infinite;\n",
              "  }\n",
              "\n",
              "  @keyframes spin {\n",
              "    0% {\n",
              "      border-color: transparent;\n",
              "      border-bottom-color: var(--fill-color);\n",
              "      border-left-color: var(--fill-color);\n",
              "    }\n",
              "    20% {\n",
              "      border-color: transparent;\n",
              "      border-left-color: var(--fill-color);\n",
              "      border-top-color: var(--fill-color);\n",
              "    }\n",
              "    30% {\n",
              "      border-color: transparent;\n",
              "      border-left-color: var(--fill-color);\n",
              "      border-top-color: var(--fill-color);\n",
              "      border-right-color: var(--fill-color);\n",
              "    }\n",
              "    40% {\n",
              "      border-color: transparent;\n",
              "      border-right-color: var(--fill-color);\n",
              "      border-top-color: var(--fill-color);\n",
              "    }\n",
              "    60% {\n",
              "      border-color: transparent;\n",
              "      border-right-color: var(--fill-color);\n",
              "    }\n",
              "    80% {\n",
              "      border-color: transparent;\n",
              "      border-right-color: var(--fill-color);\n",
              "      border-bottom-color: var(--fill-color);\n",
              "    }\n",
              "    90% {\n",
              "      border-color: transparent;\n",
              "      border-bottom-color: var(--fill-color);\n",
              "    }\n",
              "  }\n",
              "</style>\n",
              "\n",
              "  <script>\n",
              "    async function quickchart(key) {\n",
              "      const quickchartButtonEl =\n",
              "        document.querySelector('#' + key + ' button');\n",
              "      quickchartButtonEl.disabled = true;  // To prevent multiple clicks.\n",
              "      quickchartButtonEl.classList.add('colab-df-spinner');\n",
              "      try {\n",
              "        const charts = await google.colab.kernel.invokeFunction(\n",
              "            'suggestCharts', [key], {});\n",
              "      } catch (error) {\n",
              "        console.error('Error during call to suggestCharts:', error);\n",
              "      }\n",
              "      quickchartButtonEl.classList.remove('colab-df-spinner');\n",
              "      quickchartButtonEl.classList.add('colab-df-quickchart-complete');\n",
              "    }\n",
              "    (() => {\n",
              "      let quickchartButtonEl =\n",
              "        document.querySelector('#df-b0e7372f-5252-4cc3-8ab1-5c33f7ef690c button');\n",
              "      quickchartButtonEl.style.display =\n",
              "        google.colab.kernel.accessAllowed ? 'block' : 'none';\n",
              "    })();\n",
              "  </script>\n",
              "</div>\n",
              "    </div>\n",
              "  </div>\n"
            ]
          },
          "metadata": {},
          "execution_count": 21
        }
      ],
      "source": [
        "BBT1_21_query = '''\n",
        "SELECT oi.*, p.product_category_name\n",
        "FROM order_items oi\n",
        "JOIN products p ON oi.product_id = p.product_id\n",
        "ORDER BY p.product_category_name ASC;\n",
        "'''\n",
        "\n",
        "BBT1_21 = pd.read_sql_query(BBT1_21_query, conn)\n",
        "BBT1_21.head(5)"
      ]
    },
    {
      "cell_type": "markdown",
      "metadata": {
        "id": "xdZNIKZ4bVDQ"
      },
      "source": [
        "## BBT1-22 Extracción de datos desde las tablas order y payments"
      ]
    },
    {
      "cell_type": "markdown",
      "source": [
        "**Descripción**\n",
        "Crear un DataFrame que contenga el JOIN de la tabla orders (o) y tabla payments (op). Extraer los datos de órdenes con sus pagos asociados."
      ],
      "metadata": {
        "id": "N_POyPtOdSHt"
      }
    },
    {
      "cell_type": "code",
      "execution_count": 22,
      "metadata": {
        "colab": {
          "base_uri": "https://localhost:8080/",
          "height": 0
        },
        "id": "UYKXHwS3bVDQ",
        "outputId": "5930c97c-2881-4ced-fd3c-6ad9e0b99f6a"
      },
      "outputs": [
        {
          "output_type": "execute_result",
          "data": {
            "text/plain": [
              "                        customer_id                          order_id  \\\n",
              "0  9ef432eb6251297304e76186b10a928d  e481f51cbdc54678b7cc49136f2d6af7   \n",
              "1  9ef432eb6251297304e76186b10a928d  e481f51cbdc54678b7cc49136f2d6af7   \n",
              "2  9ef432eb6251297304e76186b10a928d  e481f51cbdc54678b7cc49136f2d6af7   \n",
              "3  b0830fb4747a6c6d20dea0b8c802d7ef  53cdb2fc8bc7dce0b6741e2150273451   \n",
              "4  41ce2a54c0b03bf3443c3d931a367089  47770eb9100c2d0c44946d9cf07ec65d   \n",
              "\n",
              "  order_status payment_type  payment_value  payment_sequential  \\\n",
              "0    delivered  credit_card          18.12                   1   \n",
              "1    delivered      voucher          18.59                   2   \n",
              "2    delivered      voucher           2.00                   3   \n",
              "3    delivered       boleto         141.46                   1   \n",
              "4    delivered  credit_card         179.12                   1   \n",
              "\n",
              "   payment_installments order_purchase_timestamp    order_approved_at  \\\n",
              "0                     1      2017-10-02 10:56:33  2017-10-02 11:07:15   \n",
              "1                     1      2017-10-02 10:56:33  2017-10-02 11:07:15   \n",
              "2                     1      2017-10-02 10:56:33  2017-10-02 11:07:15   \n",
              "3                     1      2018-07-24 20:41:37  2018-07-26 03:24:27   \n",
              "4                     3      2018-08-08 08:38:49  2018-08-08 08:55:23   \n",
              "\n",
              "  order_delivered_carrier_date order_delivered_customer_date  \\\n",
              "0          2017-10-04 19:55:00           2017-10-10 21:25:13   \n",
              "1          2017-10-04 19:55:00           2017-10-10 21:25:13   \n",
              "2          2017-10-04 19:55:00           2017-10-10 21:25:13   \n",
              "3          2018-07-26 14:31:00           2018-08-07 15:27:45   \n",
              "4          2018-08-08 13:50:00           2018-08-17 18:06:29   \n",
              "\n",
              "  order_estimated_delivery_date  \n",
              "0           2017-10-18 00:00:00  \n",
              "1           2017-10-18 00:00:00  \n",
              "2           2017-10-18 00:00:00  \n",
              "3           2018-08-13 00:00:00  \n",
              "4           2018-09-04 00:00:00  "
            ],
            "text/html": [
              "\n",
              "  <div id=\"df-1447cfba-e687-42ab-a467-f8d47e135c77\" class=\"colab-df-container\">\n",
              "    <div>\n",
              "<style scoped>\n",
              "    .dataframe tbody tr th:only-of-type {\n",
              "        vertical-align: middle;\n",
              "    }\n",
              "\n",
              "    .dataframe tbody tr th {\n",
              "        vertical-align: top;\n",
              "    }\n",
              "\n",
              "    .dataframe thead th {\n",
              "        text-align: right;\n",
              "    }\n",
              "</style>\n",
              "<table border=\"1\" class=\"dataframe\">\n",
              "  <thead>\n",
              "    <tr style=\"text-align: right;\">\n",
              "      <th></th>\n",
              "      <th>customer_id</th>\n",
              "      <th>order_id</th>\n",
              "      <th>order_status</th>\n",
              "      <th>payment_type</th>\n",
              "      <th>payment_value</th>\n",
              "      <th>payment_sequential</th>\n",
              "      <th>payment_installments</th>\n",
              "      <th>order_purchase_timestamp</th>\n",
              "      <th>order_approved_at</th>\n",
              "      <th>order_delivered_carrier_date</th>\n",
              "      <th>order_delivered_customer_date</th>\n",
              "      <th>order_estimated_delivery_date</th>\n",
              "    </tr>\n",
              "  </thead>\n",
              "  <tbody>\n",
              "    <tr>\n",
              "      <th>0</th>\n",
              "      <td>9ef432eb6251297304e76186b10a928d</td>\n",
              "      <td>e481f51cbdc54678b7cc49136f2d6af7</td>\n",
              "      <td>delivered</td>\n",
              "      <td>credit_card</td>\n",
              "      <td>18.12</td>\n",
              "      <td>1</td>\n",
              "      <td>1</td>\n",
              "      <td>2017-10-02 10:56:33</td>\n",
              "      <td>2017-10-02 11:07:15</td>\n",
              "      <td>2017-10-04 19:55:00</td>\n",
              "      <td>2017-10-10 21:25:13</td>\n",
              "      <td>2017-10-18 00:00:00</td>\n",
              "    </tr>\n",
              "    <tr>\n",
              "      <th>1</th>\n",
              "      <td>9ef432eb6251297304e76186b10a928d</td>\n",
              "      <td>e481f51cbdc54678b7cc49136f2d6af7</td>\n",
              "      <td>delivered</td>\n",
              "      <td>voucher</td>\n",
              "      <td>18.59</td>\n",
              "      <td>2</td>\n",
              "      <td>1</td>\n",
              "      <td>2017-10-02 10:56:33</td>\n",
              "      <td>2017-10-02 11:07:15</td>\n",
              "      <td>2017-10-04 19:55:00</td>\n",
              "      <td>2017-10-10 21:25:13</td>\n",
              "      <td>2017-10-18 00:00:00</td>\n",
              "    </tr>\n",
              "    <tr>\n",
              "      <th>2</th>\n",
              "      <td>9ef432eb6251297304e76186b10a928d</td>\n",
              "      <td>e481f51cbdc54678b7cc49136f2d6af7</td>\n",
              "      <td>delivered</td>\n",
              "      <td>voucher</td>\n",
              "      <td>2.00</td>\n",
              "      <td>3</td>\n",
              "      <td>1</td>\n",
              "      <td>2017-10-02 10:56:33</td>\n",
              "      <td>2017-10-02 11:07:15</td>\n",
              "      <td>2017-10-04 19:55:00</td>\n",
              "      <td>2017-10-10 21:25:13</td>\n",
              "      <td>2017-10-18 00:00:00</td>\n",
              "    </tr>\n",
              "    <tr>\n",
              "      <th>3</th>\n",
              "      <td>b0830fb4747a6c6d20dea0b8c802d7ef</td>\n",
              "      <td>53cdb2fc8bc7dce0b6741e2150273451</td>\n",
              "      <td>delivered</td>\n",
              "      <td>boleto</td>\n",
              "      <td>141.46</td>\n",
              "      <td>1</td>\n",
              "      <td>1</td>\n",
              "      <td>2018-07-24 20:41:37</td>\n",
              "      <td>2018-07-26 03:24:27</td>\n",
              "      <td>2018-07-26 14:31:00</td>\n",
              "      <td>2018-08-07 15:27:45</td>\n",
              "      <td>2018-08-13 00:00:00</td>\n",
              "    </tr>\n",
              "    <tr>\n",
              "      <th>4</th>\n",
              "      <td>41ce2a54c0b03bf3443c3d931a367089</td>\n",
              "      <td>47770eb9100c2d0c44946d9cf07ec65d</td>\n",
              "      <td>delivered</td>\n",
              "      <td>credit_card</td>\n",
              "      <td>179.12</td>\n",
              "      <td>1</td>\n",
              "      <td>3</td>\n",
              "      <td>2018-08-08 08:38:49</td>\n",
              "      <td>2018-08-08 08:55:23</td>\n",
              "      <td>2018-08-08 13:50:00</td>\n",
              "      <td>2018-08-17 18:06:29</td>\n",
              "      <td>2018-09-04 00:00:00</td>\n",
              "    </tr>\n",
              "  </tbody>\n",
              "</table>\n",
              "</div>\n",
              "    <div class=\"colab-df-buttons\">\n",
              "\n",
              "  <div class=\"colab-df-container\">\n",
              "    <button class=\"colab-df-convert\" onclick=\"convertToInteractive('df-1447cfba-e687-42ab-a467-f8d47e135c77')\"\n",
              "            title=\"Convert this dataframe to an interactive table.\"\n",
              "            style=\"display:none;\">\n",
              "\n",
              "  <svg xmlns=\"http://www.w3.org/2000/svg\" height=\"24px\" viewBox=\"0 -960 960 960\">\n",
              "    <path d=\"M120-120v-720h720v720H120Zm60-500h600v-160H180v160Zm220 220h160v-160H400v160Zm0 220h160v-160H400v160ZM180-400h160v-160H180v160Zm440 0h160v-160H620v160ZM180-180h160v-160H180v160Zm440 0h160v-160H620v160Z\"/>\n",
              "  </svg>\n",
              "    </button>\n",
              "\n",
              "  <style>\n",
              "    .colab-df-container {\n",
              "      display:flex;\n",
              "      gap: 12px;\n",
              "    }\n",
              "\n",
              "    .colab-df-convert {\n",
              "      background-color: #E8F0FE;\n",
              "      border: none;\n",
              "      border-radius: 50%;\n",
              "      cursor: pointer;\n",
              "      display: none;\n",
              "      fill: #1967D2;\n",
              "      height: 32px;\n",
              "      padding: 0 0 0 0;\n",
              "      width: 32px;\n",
              "    }\n",
              "\n",
              "    .colab-df-convert:hover {\n",
              "      background-color: #E2EBFA;\n",
              "      box-shadow: 0px 1px 2px rgba(60, 64, 67, 0.3), 0px 1px 3px 1px rgba(60, 64, 67, 0.15);\n",
              "      fill: #174EA6;\n",
              "    }\n",
              "\n",
              "    .colab-df-buttons div {\n",
              "      margin-bottom: 4px;\n",
              "    }\n",
              "\n",
              "    [theme=dark] .colab-df-convert {\n",
              "      background-color: #3B4455;\n",
              "      fill: #D2E3FC;\n",
              "    }\n",
              "\n",
              "    [theme=dark] .colab-df-convert:hover {\n",
              "      background-color: #434B5C;\n",
              "      box-shadow: 0px 1px 3px 1px rgba(0, 0, 0, 0.15);\n",
              "      filter: drop-shadow(0px 1px 2px rgba(0, 0, 0, 0.3));\n",
              "      fill: #FFFFFF;\n",
              "    }\n",
              "  </style>\n",
              "\n",
              "    <script>\n",
              "      const buttonEl =\n",
              "        document.querySelector('#df-1447cfba-e687-42ab-a467-f8d47e135c77 button.colab-df-convert');\n",
              "      buttonEl.style.display =\n",
              "        google.colab.kernel.accessAllowed ? 'block' : 'none';\n",
              "\n",
              "      async function convertToInteractive(key) {\n",
              "        const element = document.querySelector('#df-1447cfba-e687-42ab-a467-f8d47e135c77');\n",
              "        const dataTable =\n",
              "          await google.colab.kernel.invokeFunction('convertToInteractive',\n",
              "                                                    [key], {});\n",
              "        if (!dataTable) return;\n",
              "\n",
              "        const docLinkHtml = 'Like what you see? Visit the ' +\n",
              "          '<a target=\"_blank\" href=https://colab.research.google.com/notebooks/data_table.ipynb>data table notebook</a>'\n",
              "          + ' to learn more about interactive tables.';\n",
              "        element.innerHTML = '';\n",
              "        dataTable['output_type'] = 'display_data';\n",
              "        await google.colab.output.renderOutput(dataTable, element);\n",
              "        const docLink = document.createElement('div');\n",
              "        docLink.innerHTML = docLinkHtml;\n",
              "        element.appendChild(docLink);\n",
              "      }\n",
              "    </script>\n",
              "  </div>\n",
              "\n",
              "\n",
              "<div id=\"df-5c54dcf9-c2b2-43ae-b107-a60b485f628d\">\n",
              "  <button class=\"colab-df-quickchart\" onclick=\"quickchart('df-5c54dcf9-c2b2-43ae-b107-a60b485f628d')\"\n",
              "            title=\"Suggest charts.\"\n",
              "            style=\"display:none;\">\n",
              "\n",
              "<svg xmlns=\"http://www.w3.org/2000/svg\" height=\"24px\"viewBox=\"0 0 24 24\"\n",
              "     width=\"24px\">\n",
              "    <g>\n",
              "        <path d=\"M19 3H5c-1.1 0-2 .9-2 2v14c0 1.1.9 2 2 2h14c1.1 0 2-.9 2-2V5c0-1.1-.9-2-2-2zM9 17H7v-7h2v7zm4 0h-2V7h2v10zm4 0h-2v-4h2v4z\"/>\n",
              "    </g>\n",
              "</svg>\n",
              "  </button>\n",
              "\n",
              "<style>\n",
              "  .colab-df-quickchart {\n",
              "      --bg-color: #E8F0FE;\n",
              "      --fill-color: #1967D2;\n",
              "      --hover-bg-color: #E2EBFA;\n",
              "      --hover-fill-color: #174EA6;\n",
              "      --disabled-fill-color: #AAA;\n",
              "      --disabled-bg-color: #DDD;\n",
              "  }\n",
              "\n",
              "  [theme=dark] .colab-df-quickchart {\n",
              "      --bg-color: #3B4455;\n",
              "      --fill-color: #D2E3FC;\n",
              "      --hover-bg-color: #434B5C;\n",
              "      --hover-fill-color: #FFFFFF;\n",
              "      --disabled-bg-color: #3B4455;\n",
              "      --disabled-fill-color: #666;\n",
              "  }\n",
              "\n",
              "  .colab-df-quickchart {\n",
              "    background-color: var(--bg-color);\n",
              "    border: none;\n",
              "    border-radius: 50%;\n",
              "    cursor: pointer;\n",
              "    display: none;\n",
              "    fill: var(--fill-color);\n",
              "    height: 32px;\n",
              "    padding: 0;\n",
              "    width: 32px;\n",
              "  }\n",
              "\n",
              "  .colab-df-quickchart:hover {\n",
              "    background-color: var(--hover-bg-color);\n",
              "    box-shadow: 0 1px 2px rgba(60, 64, 67, 0.3), 0 1px 3px 1px rgba(60, 64, 67, 0.15);\n",
              "    fill: var(--button-hover-fill-color);\n",
              "  }\n",
              "\n",
              "  .colab-df-quickchart-complete:disabled,\n",
              "  .colab-df-quickchart-complete:disabled:hover {\n",
              "    background-color: var(--disabled-bg-color);\n",
              "    fill: var(--disabled-fill-color);\n",
              "    box-shadow: none;\n",
              "  }\n",
              "\n",
              "  .colab-df-spinner {\n",
              "    border: 2px solid var(--fill-color);\n",
              "    border-color: transparent;\n",
              "    border-bottom-color: var(--fill-color);\n",
              "    animation:\n",
              "      spin 1s steps(1) infinite;\n",
              "  }\n",
              "\n",
              "  @keyframes spin {\n",
              "    0% {\n",
              "      border-color: transparent;\n",
              "      border-bottom-color: var(--fill-color);\n",
              "      border-left-color: var(--fill-color);\n",
              "    }\n",
              "    20% {\n",
              "      border-color: transparent;\n",
              "      border-left-color: var(--fill-color);\n",
              "      border-top-color: var(--fill-color);\n",
              "    }\n",
              "    30% {\n",
              "      border-color: transparent;\n",
              "      border-left-color: var(--fill-color);\n",
              "      border-top-color: var(--fill-color);\n",
              "      border-right-color: var(--fill-color);\n",
              "    }\n",
              "    40% {\n",
              "      border-color: transparent;\n",
              "      border-right-color: var(--fill-color);\n",
              "      border-top-color: var(--fill-color);\n",
              "    }\n",
              "    60% {\n",
              "      border-color: transparent;\n",
              "      border-right-color: var(--fill-color);\n",
              "    }\n",
              "    80% {\n",
              "      border-color: transparent;\n",
              "      border-right-color: var(--fill-color);\n",
              "      border-bottom-color: var(--fill-color);\n",
              "    }\n",
              "    90% {\n",
              "      border-color: transparent;\n",
              "      border-bottom-color: var(--fill-color);\n",
              "    }\n",
              "  }\n",
              "</style>\n",
              "\n",
              "  <script>\n",
              "    async function quickchart(key) {\n",
              "      const quickchartButtonEl =\n",
              "        document.querySelector('#' + key + ' button');\n",
              "      quickchartButtonEl.disabled = true;  // To prevent multiple clicks.\n",
              "      quickchartButtonEl.classList.add('colab-df-spinner');\n",
              "      try {\n",
              "        const charts = await google.colab.kernel.invokeFunction(\n",
              "            'suggestCharts', [key], {});\n",
              "      } catch (error) {\n",
              "        console.error('Error during call to suggestCharts:', error);\n",
              "      }\n",
              "      quickchartButtonEl.classList.remove('colab-df-spinner');\n",
              "      quickchartButtonEl.classList.add('colab-df-quickchart-complete');\n",
              "    }\n",
              "    (() => {\n",
              "      let quickchartButtonEl =\n",
              "        document.querySelector('#df-5c54dcf9-c2b2-43ae-b107-a60b485f628d button');\n",
              "      quickchartButtonEl.style.display =\n",
              "        google.colab.kernel.accessAllowed ? 'block' : 'none';\n",
              "    })();\n",
              "  </script>\n",
              "</div>\n",
              "    </div>\n",
              "  </div>\n"
            ]
          },
          "metadata": {},
          "execution_count": 22
        }
      ],
      "source": [
        "BBT1_22_query = '''\n",
        "  SELECT o.customer_id, o.order_id, o.order_status, op.payment_type, op.payment_value,\n",
        "         op.payment_sequential, op.payment_installments, o.order_purchase_timestamp, o.order_approved_at,\n",
        "         o.order_delivered_carrier_date, o.order_delivered_customer_date, o.order_estimated_delivery_date\n",
        "  FROM orders o\n",
        "  JOIN order_payments op ON o.order_id = op.order_id\n",
        "  ;\n",
        "'''\n",
        "\n",
        "BBT1_22 = pd.read_sql_query(BBT1_22_query, conn)\n",
        "BBT1_22.head(5)"
      ]
    },
    {
      "cell_type": "markdown",
      "metadata": {
        "id": "QnwHqr2sbVDR"
      },
      "source": [
        "## BBT1-23 Extracción de datos desde las tablas customers y geolocation2"
      ]
    },
    {
      "cell_type": "markdown",
      "source": [
        "**Descripción**\n",
        "COMO: desarrollador\n",
        "\n",
        "QUIERO: Crear un DataFrame que contenga el JOIN de la tabla customers y tabla geolocation.\n",
        "  \n",
        "PARA: Extraer los datos de customers con sus latitudes y longitudes"
      ],
      "metadata": {
        "id": "oNW-UfsudStk"
      }
    },
    {
      "cell_type": "code",
      "execution_count": 23,
      "metadata": {
        "colab": {
          "base_uri": "https://localhost:8080/",
          "height": 0
        },
        "id": "xorFmsD2bVDR",
        "outputId": "a4764e55-a2cf-4293-dc45-1e048096c1a5"
      },
      "outputs": [
        {
          "output_type": "execute_result",
          "data": {
            "text/plain": [
              "                 customer_unique_id  geolocation_zip_code_prefix  \\\n",
              "0  0c1a20644f0dc126c3eaff8dbc1bd12c                         1003   \n",
              "1  095e7c124c5c1ccb1eb9f731152eae6a                         1004   \n",
              "2  968f6d2f674977d88a4b445a5117ccd8                         1004   \n",
              "3  57f0ea1c7f6b9ef8615c0a0b8f06fe57                         1005   \n",
              "4  84a7776f914ff19505e44effba86455f                         1005   \n",
              "\n",
              "   promedio_latitud  promedio_longitud geolocation_city  \n",
              "0        -23.548994         -46.635731        sao paulo  \n",
              "1        -23.549799         -46.634757        sao paulo  \n",
              "2        -23.549799         -46.634757        sao paulo  \n",
              "3        -23.549456         -46.636733        sao paulo  \n",
              "4        -23.549456         -46.636733        sao paulo  "
            ],
            "text/html": [
              "\n",
              "  <div id=\"df-eb90f23c-f070-44ec-bea9-3d858f44c1f9\" class=\"colab-df-container\">\n",
              "    <div>\n",
              "<style scoped>\n",
              "    .dataframe tbody tr th:only-of-type {\n",
              "        vertical-align: middle;\n",
              "    }\n",
              "\n",
              "    .dataframe tbody tr th {\n",
              "        vertical-align: top;\n",
              "    }\n",
              "\n",
              "    .dataframe thead th {\n",
              "        text-align: right;\n",
              "    }\n",
              "</style>\n",
              "<table border=\"1\" class=\"dataframe\">\n",
              "  <thead>\n",
              "    <tr style=\"text-align: right;\">\n",
              "      <th></th>\n",
              "      <th>customer_unique_id</th>\n",
              "      <th>geolocation_zip_code_prefix</th>\n",
              "      <th>promedio_latitud</th>\n",
              "      <th>promedio_longitud</th>\n",
              "      <th>geolocation_city</th>\n",
              "    </tr>\n",
              "  </thead>\n",
              "  <tbody>\n",
              "    <tr>\n",
              "      <th>0</th>\n",
              "      <td>0c1a20644f0dc126c3eaff8dbc1bd12c</td>\n",
              "      <td>1003</td>\n",
              "      <td>-23.548994</td>\n",
              "      <td>-46.635731</td>\n",
              "      <td>sao paulo</td>\n",
              "    </tr>\n",
              "    <tr>\n",
              "      <th>1</th>\n",
              "      <td>095e7c124c5c1ccb1eb9f731152eae6a</td>\n",
              "      <td>1004</td>\n",
              "      <td>-23.549799</td>\n",
              "      <td>-46.634757</td>\n",
              "      <td>sao paulo</td>\n",
              "    </tr>\n",
              "    <tr>\n",
              "      <th>2</th>\n",
              "      <td>968f6d2f674977d88a4b445a5117ccd8</td>\n",
              "      <td>1004</td>\n",
              "      <td>-23.549799</td>\n",
              "      <td>-46.634757</td>\n",
              "      <td>sao paulo</td>\n",
              "    </tr>\n",
              "    <tr>\n",
              "      <th>3</th>\n",
              "      <td>57f0ea1c7f6b9ef8615c0a0b8f06fe57</td>\n",
              "      <td>1005</td>\n",
              "      <td>-23.549456</td>\n",
              "      <td>-46.636733</td>\n",
              "      <td>sao paulo</td>\n",
              "    </tr>\n",
              "    <tr>\n",
              "      <th>4</th>\n",
              "      <td>84a7776f914ff19505e44effba86455f</td>\n",
              "      <td>1005</td>\n",
              "      <td>-23.549456</td>\n",
              "      <td>-46.636733</td>\n",
              "      <td>sao paulo</td>\n",
              "    </tr>\n",
              "  </tbody>\n",
              "</table>\n",
              "</div>\n",
              "    <div class=\"colab-df-buttons\">\n",
              "\n",
              "  <div class=\"colab-df-container\">\n",
              "    <button class=\"colab-df-convert\" onclick=\"convertToInteractive('df-eb90f23c-f070-44ec-bea9-3d858f44c1f9')\"\n",
              "            title=\"Convert this dataframe to an interactive table.\"\n",
              "            style=\"display:none;\">\n",
              "\n",
              "  <svg xmlns=\"http://www.w3.org/2000/svg\" height=\"24px\" viewBox=\"0 -960 960 960\">\n",
              "    <path d=\"M120-120v-720h720v720H120Zm60-500h600v-160H180v160Zm220 220h160v-160H400v160Zm0 220h160v-160H400v160ZM180-400h160v-160H180v160Zm440 0h160v-160H620v160ZM180-180h160v-160H180v160Zm440 0h160v-160H620v160Z\"/>\n",
              "  </svg>\n",
              "    </button>\n",
              "\n",
              "  <style>\n",
              "    .colab-df-container {\n",
              "      display:flex;\n",
              "      gap: 12px;\n",
              "    }\n",
              "\n",
              "    .colab-df-convert {\n",
              "      background-color: #E8F0FE;\n",
              "      border: none;\n",
              "      border-radius: 50%;\n",
              "      cursor: pointer;\n",
              "      display: none;\n",
              "      fill: #1967D2;\n",
              "      height: 32px;\n",
              "      padding: 0 0 0 0;\n",
              "      width: 32px;\n",
              "    }\n",
              "\n",
              "    .colab-df-convert:hover {\n",
              "      background-color: #E2EBFA;\n",
              "      box-shadow: 0px 1px 2px rgba(60, 64, 67, 0.3), 0px 1px 3px 1px rgba(60, 64, 67, 0.15);\n",
              "      fill: #174EA6;\n",
              "    }\n",
              "\n",
              "    .colab-df-buttons div {\n",
              "      margin-bottom: 4px;\n",
              "    }\n",
              "\n",
              "    [theme=dark] .colab-df-convert {\n",
              "      background-color: #3B4455;\n",
              "      fill: #D2E3FC;\n",
              "    }\n",
              "\n",
              "    [theme=dark] .colab-df-convert:hover {\n",
              "      background-color: #434B5C;\n",
              "      box-shadow: 0px 1px 3px 1px rgba(0, 0, 0, 0.15);\n",
              "      filter: drop-shadow(0px 1px 2px rgba(0, 0, 0, 0.3));\n",
              "      fill: #FFFFFF;\n",
              "    }\n",
              "  </style>\n",
              "\n",
              "    <script>\n",
              "      const buttonEl =\n",
              "        document.querySelector('#df-eb90f23c-f070-44ec-bea9-3d858f44c1f9 button.colab-df-convert');\n",
              "      buttonEl.style.display =\n",
              "        google.colab.kernel.accessAllowed ? 'block' : 'none';\n",
              "\n",
              "      async function convertToInteractive(key) {\n",
              "        const element = document.querySelector('#df-eb90f23c-f070-44ec-bea9-3d858f44c1f9');\n",
              "        const dataTable =\n",
              "          await google.colab.kernel.invokeFunction('convertToInteractive',\n",
              "                                                    [key], {});\n",
              "        if (!dataTable) return;\n",
              "\n",
              "        const docLinkHtml = 'Like what you see? Visit the ' +\n",
              "          '<a target=\"_blank\" href=https://colab.research.google.com/notebooks/data_table.ipynb>data table notebook</a>'\n",
              "          + ' to learn more about interactive tables.';\n",
              "        element.innerHTML = '';\n",
              "        dataTable['output_type'] = 'display_data';\n",
              "        await google.colab.output.renderOutput(dataTable, element);\n",
              "        const docLink = document.createElement('div');\n",
              "        docLink.innerHTML = docLinkHtml;\n",
              "        element.appendChild(docLink);\n",
              "      }\n",
              "    </script>\n",
              "  </div>\n",
              "\n",
              "\n",
              "<div id=\"df-f68f0247-eef5-4383-8a95-e8a548703a49\">\n",
              "  <button class=\"colab-df-quickchart\" onclick=\"quickchart('df-f68f0247-eef5-4383-8a95-e8a548703a49')\"\n",
              "            title=\"Suggest charts.\"\n",
              "            style=\"display:none;\">\n",
              "\n",
              "<svg xmlns=\"http://www.w3.org/2000/svg\" height=\"24px\"viewBox=\"0 0 24 24\"\n",
              "     width=\"24px\">\n",
              "    <g>\n",
              "        <path d=\"M19 3H5c-1.1 0-2 .9-2 2v14c0 1.1.9 2 2 2h14c1.1 0 2-.9 2-2V5c0-1.1-.9-2-2-2zM9 17H7v-7h2v7zm4 0h-2V7h2v10zm4 0h-2v-4h2v4z\"/>\n",
              "    </g>\n",
              "</svg>\n",
              "  </button>\n",
              "\n",
              "<style>\n",
              "  .colab-df-quickchart {\n",
              "      --bg-color: #E8F0FE;\n",
              "      --fill-color: #1967D2;\n",
              "      --hover-bg-color: #E2EBFA;\n",
              "      --hover-fill-color: #174EA6;\n",
              "      --disabled-fill-color: #AAA;\n",
              "      --disabled-bg-color: #DDD;\n",
              "  }\n",
              "\n",
              "  [theme=dark] .colab-df-quickchart {\n",
              "      --bg-color: #3B4455;\n",
              "      --fill-color: #D2E3FC;\n",
              "      --hover-bg-color: #434B5C;\n",
              "      --hover-fill-color: #FFFFFF;\n",
              "      --disabled-bg-color: #3B4455;\n",
              "      --disabled-fill-color: #666;\n",
              "  }\n",
              "\n",
              "  .colab-df-quickchart {\n",
              "    background-color: var(--bg-color);\n",
              "    border: none;\n",
              "    border-radius: 50%;\n",
              "    cursor: pointer;\n",
              "    display: none;\n",
              "    fill: var(--fill-color);\n",
              "    height: 32px;\n",
              "    padding: 0;\n",
              "    width: 32px;\n",
              "  }\n",
              "\n",
              "  .colab-df-quickchart:hover {\n",
              "    background-color: var(--hover-bg-color);\n",
              "    box-shadow: 0 1px 2px rgba(60, 64, 67, 0.3), 0 1px 3px 1px rgba(60, 64, 67, 0.15);\n",
              "    fill: var(--button-hover-fill-color);\n",
              "  }\n",
              "\n",
              "  .colab-df-quickchart-complete:disabled,\n",
              "  .colab-df-quickchart-complete:disabled:hover {\n",
              "    background-color: var(--disabled-bg-color);\n",
              "    fill: var(--disabled-fill-color);\n",
              "    box-shadow: none;\n",
              "  }\n",
              "\n",
              "  .colab-df-spinner {\n",
              "    border: 2px solid var(--fill-color);\n",
              "    border-color: transparent;\n",
              "    border-bottom-color: var(--fill-color);\n",
              "    animation:\n",
              "      spin 1s steps(1) infinite;\n",
              "  }\n",
              "\n",
              "  @keyframes spin {\n",
              "    0% {\n",
              "      border-color: transparent;\n",
              "      border-bottom-color: var(--fill-color);\n",
              "      border-left-color: var(--fill-color);\n",
              "    }\n",
              "    20% {\n",
              "      border-color: transparent;\n",
              "      border-left-color: var(--fill-color);\n",
              "      border-top-color: var(--fill-color);\n",
              "    }\n",
              "    30% {\n",
              "      border-color: transparent;\n",
              "      border-left-color: var(--fill-color);\n",
              "      border-top-color: var(--fill-color);\n",
              "      border-right-color: var(--fill-color);\n",
              "    }\n",
              "    40% {\n",
              "      border-color: transparent;\n",
              "      border-right-color: var(--fill-color);\n",
              "      border-top-color: var(--fill-color);\n",
              "    }\n",
              "    60% {\n",
              "      border-color: transparent;\n",
              "      border-right-color: var(--fill-color);\n",
              "    }\n",
              "    80% {\n",
              "      border-color: transparent;\n",
              "      border-right-color: var(--fill-color);\n",
              "      border-bottom-color: var(--fill-color);\n",
              "    }\n",
              "    90% {\n",
              "      border-color: transparent;\n",
              "      border-bottom-color: var(--fill-color);\n",
              "    }\n",
              "  }\n",
              "</style>\n",
              "\n",
              "  <script>\n",
              "    async function quickchart(key) {\n",
              "      const quickchartButtonEl =\n",
              "        document.querySelector('#' + key + ' button');\n",
              "      quickchartButtonEl.disabled = true;  // To prevent multiple clicks.\n",
              "      quickchartButtonEl.classList.add('colab-df-spinner');\n",
              "      try {\n",
              "        const charts = await google.colab.kernel.invokeFunction(\n",
              "            'suggestCharts', [key], {});\n",
              "      } catch (error) {\n",
              "        console.error('Error during call to suggestCharts:', error);\n",
              "      }\n",
              "      quickchartButtonEl.classList.remove('colab-df-spinner');\n",
              "      quickchartButtonEl.classList.add('colab-df-quickchart-complete');\n",
              "    }\n",
              "    (() => {\n",
              "      let quickchartButtonEl =\n",
              "        document.querySelector('#df-f68f0247-eef5-4383-8a95-e8a548703a49 button');\n",
              "      quickchartButtonEl.style.display =\n",
              "        google.colab.kernel.accessAllowed ? 'block' : 'none';\n",
              "    })();\n",
              "  </script>\n",
              "</div>\n",
              "    </div>\n",
              "  </div>\n"
            ]
          },
          "metadata": {},
          "execution_count": 23
        }
      ],
      "source": [
        "query_bbt1_23 = '''\n",
        "  SELECT customer_unique_id, geolocation_zip_code_prefix, promedio_latitud, promedio_longitud, geolocation_city\n",
        "  FROM customers c\n",
        "  JOIN geolocation2 g\n",
        "  ON g.geolocation_zip_code_prefix = c.customer_zip_code_prefix\n",
        "  GROUP BY customer_unique_id\n",
        "  ORDER BY customer_zip_code_prefix\n",
        "  '''\n",
        "cust_geo = pd.read_sql_query(query_bbt1_23, conn)\n",
        "cust_geo.head(5)"
      ]
    },
    {
      "cell_type": "markdown",
      "metadata": {
        "id": "IqwOPFS5bVDR"
      },
      "source": [
        "## BBT1-24 Extracción de datos desde las tablas orders y geolocation2"
      ]
    },
    {
      "cell_type": "markdown",
      "source": [
        "**Descripción**\n",
        "COMO: desarrollador\n",
        "\n",
        "QUIERO: Crear un DataFrame que contenga el JOIN de la tabla orders y tabla geolocation.\n",
        "  \n",
        "PARA: Extraer los datos de órdenes con sus latitudes y longitudes"
      ],
      "metadata": {
        "id": "5lPNNg2_dTUX"
      }
    },
    {
      "cell_type": "code",
      "execution_count": 24,
      "metadata": {
        "colab": {
          "base_uri": "https://localhost:8080/",
          "height": 0
        },
        "id": "F8J5JPuTbVDR",
        "outputId": "fd454025-ce3a-4440-a872-76e3eb4d896f"
      },
      "outputs": [
        {
          "output_type": "execute_result",
          "data": {
            "text/plain": [
              "                           order_id  geolocation_zip_code_prefix  \\\n",
              "0  d454d6650d375ebc3f9667a4d2fe161c                         1003   \n",
              "1  3fe4ba391eeff167bfdda2c590013b02                         1004   \n",
              "2  ed415dd934c5bb15a4a2fd223bb0a43e                         1004   \n",
              "3  08cae26133a5501cdf7b13db6bcf39e6                         1005   \n",
              "4  ae28255c7b837ba319c9cbf1dfeeea0d                         1005   \n",
              "\n",
              "   promedio_latitud  promedio_longitud geolocation_city  \\\n",
              "0        -23.548994         -46.635731        sao paulo   \n",
              "1        -23.549799         -46.634757        sao paulo   \n",
              "2        -23.549799         -46.634757        sao paulo   \n",
              "3        -23.549456         -46.636733        sao paulo   \n",
              "4        -23.549456         -46.636733        sao paulo   \n",
              "\n",
              "  order_purchase_timestamp  \n",
              "0      2018-05-10 09:12:16  \n",
              "1      2018-06-13 11:21:18  \n",
              "2      2017-04-16 17:17:57  \n",
              "3      2018-01-30 14:58:10  \n",
              "4      2018-08-14 14:48:11  "
            ],
            "text/html": [
              "\n",
              "  <div id=\"df-1f82e416-18ce-43b5-be09-e4357379953a\" class=\"colab-df-container\">\n",
              "    <div>\n",
              "<style scoped>\n",
              "    .dataframe tbody tr th:only-of-type {\n",
              "        vertical-align: middle;\n",
              "    }\n",
              "\n",
              "    .dataframe tbody tr th {\n",
              "        vertical-align: top;\n",
              "    }\n",
              "\n",
              "    .dataframe thead th {\n",
              "        text-align: right;\n",
              "    }\n",
              "</style>\n",
              "<table border=\"1\" class=\"dataframe\">\n",
              "  <thead>\n",
              "    <tr style=\"text-align: right;\">\n",
              "      <th></th>\n",
              "      <th>order_id</th>\n",
              "      <th>geolocation_zip_code_prefix</th>\n",
              "      <th>promedio_latitud</th>\n",
              "      <th>promedio_longitud</th>\n",
              "      <th>geolocation_city</th>\n",
              "      <th>order_purchase_timestamp</th>\n",
              "    </tr>\n",
              "  </thead>\n",
              "  <tbody>\n",
              "    <tr>\n",
              "      <th>0</th>\n",
              "      <td>d454d6650d375ebc3f9667a4d2fe161c</td>\n",
              "      <td>1003</td>\n",
              "      <td>-23.548994</td>\n",
              "      <td>-46.635731</td>\n",
              "      <td>sao paulo</td>\n",
              "      <td>2018-05-10 09:12:16</td>\n",
              "    </tr>\n",
              "    <tr>\n",
              "      <th>1</th>\n",
              "      <td>3fe4ba391eeff167bfdda2c590013b02</td>\n",
              "      <td>1004</td>\n",
              "      <td>-23.549799</td>\n",
              "      <td>-46.634757</td>\n",
              "      <td>sao paulo</td>\n",
              "      <td>2018-06-13 11:21:18</td>\n",
              "    </tr>\n",
              "    <tr>\n",
              "      <th>2</th>\n",
              "      <td>ed415dd934c5bb15a4a2fd223bb0a43e</td>\n",
              "      <td>1004</td>\n",
              "      <td>-23.549799</td>\n",
              "      <td>-46.634757</td>\n",
              "      <td>sao paulo</td>\n",
              "      <td>2017-04-16 17:17:57</td>\n",
              "    </tr>\n",
              "    <tr>\n",
              "      <th>3</th>\n",
              "      <td>08cae26133a5501cdf7b13db6bcf39e6</td>\n",
              "      <td>1005</td>\n",
              "      <td>-23.549456</td>\n",
              "      <td>-46.636733</td>\n",
              "      <td>sao paulo</td>\n",
              "      <td>2018-01-30 14:58:10</td>\n",
              "    </tr>\n",
              "    <tr>\n",
              "      <th>4</th>\n",
              "      <td>ae28255c7b837ba319c9cbf1dfeeea0d</td>\n",
              "      <td>1005</td>\n",
              "      <td>-23.549456</td>\n",
              "      <td>-46.636733</td>\n",
              "      <td>sao paulo</td>\n",
              "      <td>2018-08-14 14:48:11</td>\n",
              "    </tr>\n",
              "  </tbody>\n",
              "</table>\n",
              "</div>\n",
              "    <div class=\"colab-df-buttons\">\n",
              "\n",
              "  <div class=\"colab-df-container\">\n",
              "    <button class=\"colab-df-convert\" onclick=\"convertToInteractive('df-1f82e416-18ce-43b5-be09-e4357379953a')\"\n",
              "            title=\"Convert this dataframe to an interactive table.\"\n",
              "            style=\"display:none;\">\n",
              "\n",
              "  <svg xmlns=\"http://www.w3.org/2000/svg\" height=\"24px\" viewBox=\"0 -960 960 960\">\n",
              "    <path d=\"M120-120v-720h720v720H120Zm60-500h600v-160H180v160Zm220 220h160v-160H400v160Zm0 220h160v-160H400v160ZM180-400h160v-160H180v160Zm440 0h160v-160H620v160ZM180-180h160v-160H180v160Zm440 0h160v-160H620v160Z\"/>\n",
              "  </svg>\n",
              "    </button>\n",
              "\n",
              "  <style>\n",
              "    .colab-df-container {\n",
              "      display:flex;\n",
              "      gap: 12px;\n",
              "    }\n",
              "\n",
              "    .colab-df-convert {\n",
              "      background-color: #E8F0FE;\n",
              "      border: none;\n",
              "      border-radius: 50%;\n",
              "      cursor: pointer;\n",
              "      display: none;\n",
              "      fill: #1967D2;\n",
              "      height: 32px;\n",
              "      padding: 0 0 0 0;\n",
              "      width: 32px;\n",
              "    }\n",
              "\n",
              "    .colab-df-convert:hover {\n",
              "      background-color: #E2EBFA;\n",
              "      box-shadow: 0px 1px 2px rgba(60, 64, 67, 0.3), 0px 1px 3px 1px rgba(60, 64, 67, 0.15);\n",
              "      fill: #174EA6;\n",
              "    }\n",
              "\n",
              "    .colab-df-buttons div {\n",
              "      margin-bottom: 4px;\n",
              "    }\n",
              "\n",
              "    [theme=dark] .colab-df-convert {\n",
              "      background-color: #3B4455;\n",
              "      fill: #D2E3FC;\n",
              "    }\n",
              "\n",
              "    [theme=dark] .colab-df-convert:hover {\n",
              "      background-color: #434B5C;\n",
              "      box-shadow: 0px 1px 3px 1px rgba(0, 0, 0, 0.15);\n",
              "      filter: drop-shadow(0px 1px 2px rgba(0, 0, 0, 0.3));\n",
              "      fill: #FFFFFF;\n",
              "    }\n",
              "  </style>\n",
              "\n",
              "    <script>\n",
              "      const buttonEl =\n",
              "        document.querySelector('#df-1f82e416-18ce-43b5-be09-e4357379953a button.colab-df-convert');\n",
              "      buttonEl.style.display =\n",
              "        google.colab.kernel.accessAllowed ? 'block' : 'none';\n",
              "\n",
              "      async function convertToInteractive(key) {\n",
              "        const element = document.querySelector('#df-1f82e416-18ce-43b5-be09-e4357379953a');\n",
              "        const dataTable =\n",
              "          await google.colab.kernel.invokeFunction('convertToInteractive',\n",
              "                                                    [key], {});\n",
              "        if (!dataTable) return;\n",
              "\n",
              "        const docLinkHtml = 'Like what you see? Visit the ' +\n",
              "          '<a target=\"_blank\" href=https://colab.research.google.com/notebooks/data_table.ipynb>data table notebook</a>'\n",
              "          + ' to learn more about interactive tables.';\n",
              "        element.innerHTML = '';\n",
              "        dataTable['output_type'] = 'display_data';\n",
              "        await google.colab.output.renderOutput(dataTable, element);\n",
              "        const docLink = document.createElement('div');\n",
              "        docLink.innerHTML = docLinkHtml;\n",
              "        element.appendChild(docLink);\n",
              "      }\n",
              "    </script>\n",
              "  </div>\n",
              "\n",
              "\n",
              "<div id=\"df-02827dfd-b6fc-4dde-b2e9-50a5d40b1c9a\">\n",
              "  <button class=\"colab-df-quickchart\" onclick=\"quickchart('df-02827dfd-b6fc-4dde-b2e9-50a5d40b1c9a')\"\n",
              "            title=\"Suggest charts.\"\n",
              "            style=\"display:none;\">\n",
              "\n",
              "<svg xmlns=\"http://www.w3.org/2000/svg\" height=\"24px\"viewBox=\"0 0 24 24\"\n",
              "     width=\"24px\">\n",
              "    <g>\n",
              "        <path d=\"M19 3H5c-1.1 0-2 .9-2 2v14c0 1.1.9 2 2 2h14c1.1 0 2-.9 2-2V5c0-1.1-.9-2-2-2zM9 17H7v-7h2v7zm4 0h-2V7h2v10zm4 0h-2v-4h2v4z\"/>\n",
              "    </g>\n",
              "</svg>\n",
              "  </button>\n",
              "\n",
              "<style>\n",
              "  .colab-df-quickchart {\n",
              "      --bg-color: #E8F0FE;\n",
              "      --fill-color: #1967D2;\n",
              "      --hover-bg-color: #E2EBFA;\n",
              "      --hover-fill-color: #174EA6;\n",
              "      --disabled-fill-color: #AAA;\n",
              "      --disabled-bg-color: #DDD;\n",
              "  }\n",
              "\n",
              "  [theme=dark] .colab-df-quickchart {\n",
              "      --bg-color: #3B4455;\n",
              "      --fill-color: #D2E3FC;\n",
              "      --hover-bg-color: #434B5C;\n",
              "      --hover-fill-color: #FFFFFF;\n",
              "      --disabled-bg-color: #3B4455;\n",
              "      --disabled-fill-color: #666;\n",
              "  }\n",
              "\n",
              "  .colab-df-quickchart {\n",
              "    background-color: var(--bg-color);\n",
              "    border: none;\n",
              "    border-radius: 50%;\n",
              "    cursor: pointer;\n",
              "    display: none;\n",
              "    fill: var(--fill-color);\n",
              "    height: 32px;\n",
              "    padding: 0;\n",
              "    width: 32px;\n",
              "  }\n",
              "\n",
              "  .colab-df-quickchart:hover {\n",
              "    background-color: var(--hover-bg-color);\n",
              "    box-shadow: 0 1px 2px rgba(60, 64, 67, 0.3), 0 1px 3px 1px rgba(60, 64, 67, 0.15);\n",
              "    fill: var(--button-hover-fill-color);\n",
              "  }\n",
              "\n",
              "  .colab-df-quickchart-complete:disabled,\n",
              "  .colab-df-quickchart-complete:disabled:hover {\n",
              "    background-color: var(--disabled-bg-color);\n",
              "    fill: var(--disabled-fill-color);\n",
              "    box-shadow: none;\n",
              "  }\n",
              "\n",
              "  .colab-df-spinner {\n",
              "    border: 2px solid var(--fill-color);\n",
              "    border-color: transparent;\n",
              "    border-bottom-color: var(--fill-color);\n",
              "    animation:\n",
              "      spin 1s steps(1) infinite;\n",
              "  }\n",
              "\n",
              "  @keyframes spin {\n",
              "    0% {\n",
              "      border-color: transparent;\n",
              "      border-bottom-color: var(--fill-color);\n",
              "      border-left-color: var(--fill-color);\n",
              "    }\n",
              "    20% {\n",
              "      border-color: transparent;\n",
              "      border-left-color: var(--fill-color);\n",
              "      border-top-color: var(--fill-color);\n",
              "    }\n",
              "    30% {\n",
              "      border-color: transparent;\n",
              "      border-left-color: var(--fill-color);\n",
              "      border-top-color: var(--fill-color);\n",
              "      border-right-color: var(--fill-color);\n",
              "    }\n",
              "    40% {\n",
              "      border-color: transparent;\n",
              "      border-right-color: var(--fill-color);\n",
              "      border-top-color: var(--fill-color);\n",
              "    }\n",
              "    60% {\n",
              "      border-color: transparent;\n",
              "      border-right-color: var(--fill-color);\n",
              "    }\n",
              "    80% {\n",
              "      border-color: transparent;\n",
              "      border-right-color: var(--fill-color);\n",
              "      border-bottom-color: var(--fill-color);\n",
              "    }\n",
              "    90% {\n",
              "      border-color: transparent;\n",
              "      border-bottom-color: var(--fill-color);\n",
              "    }\n",
              "  }\n",
              "</style>\n",
              "\n",
              "  <script>\n",
              "    async function quickchart(key) {\n",
              "      const quickchartButtonEl =\n",
              "        document.querySelector('#' + key + ' button');\n",
              "      quickchartButtonEl.disabled = true;  // To prevent multiple clicks.\n",
              "      quickchartButtonEl.classList.add('colab-df-spinner');\n",
              "      try {\n",
              "        const charts = await google.colab.kernel.invokeFunction(\n",
              "            'suggestCharts', [key], {});\n",
              "      } catch (error) {\n",
              "        console.error('Error during call to suggestCharts:', error);\n",
              "      }\n",
              "      quickchartButtonEl.classList.remove('colab-df-spinner');\n",
              "      quickchartButtonEl.classList.add('colab-df-quickchart-complete');\n",
              "    }\n",
              "    (() => {\n",
              "      let quickchartButtonEl =\n",
              "        document.querySelector('#df-02827dfd-b6fc-4dde-b2e9-50a5d40b1c9a button');\n",
              "      quickchartButtonEl.style.display =\n",
              "        google.colab.kernel.accessAllowed ? 'block' : 'none';\n",
              "    })();\n",
              "  </script>\n",
              "</div>\n",
              "    </div>\n",
              "  </div>\n"
            ]
          },
          "metadata": {},
          "execution_count": 24
        }
      ],
      "source": [
        "query_bbt1_24 = '''\n",
        "  SELECT order_id, geolocation_zip_code_prefix, promedio_latitud, promedio_longitud, geolocation_city, order_purchase_timestamp\n",
        "  FROM customers c\n",
        "  JOIN orders o\n",
        "  ON c.customer_id = o.customer_id\n",
        "  JOIN geolocation2 g\n",
        "  ON g.geolocation_zip_code_prefix = c.customer_zip_code_prefix\n",
        "  ORDER BY geolocation_zip_code_prefix\n",
        "  '''\n",
        "orders_geo = pd.read_sql_query(query_bbt1_24, conn)\n",
        "orders_geo.head(5)"
      ]
    },
    {
      "cell_type": "markdown",
      "metadata": {
        "id": "4_L9g8b5bVDR"
      },
      "source": [
        "## BBT1-25 Extracción de datos desde las tablas orders y reviews"
      ]
    },
    {
      "cell_type": "markdown",
      "source": [
        "**Descripción**\n",
        "\n",
        "COMO: desarrollador\n",
        "\n",
        "QUIERO: Crear un DataFrame que contenga el JOIN de la tabla orders y tabla reviews.\n",
        "\n",
        "PARA: Extraer los datos de órdenes con sus scores"
      ],
      "metadata": {
        "id": "DXuSIl7EdT2W"
      }
    },
    {
      "cell_type": "code",
      "execution_count": 25,
      "metadata": {
        "colab": {
          "base_uri": "https://localhost:8080/",
          "height": 0
        },
        "id": "7ky1OLItbVDR",
        "outputId": "ec620945-55e7-4b77-de23-bbc7d7c6813b"
      },
      "outputs": [
        {
          "output_type": "execute_result",
          "data": {
            "text/plain": [
              "                           order_id  review_score\n",
              "0  76c6e866289321a7c93b82b54852dc33             1\n",
              "1  e6ce16cb79ec1d90b1da9085a6118aeb             1\n",
              "2  acce194856392f074dbf9dada14d8d82             1\n",
              "3  1790eea0b567cf50911c057cf20f90f9             1\n",
              "4  6ea2f835b4556291ffdc53fa0b3b95e8             1"
            ],
            "text/html": [
              "\n",
              "  <div id=\"df-1bb2f819-7a67-4a89-b0de-e1a0dcd4a11d\" class=\"colab-df-container\">\n",
              "    <div>\n",
              "<style scoped>\n",
              "    .dataframe tbody tr th:only-of-type {\n",
              "        vertical-align: middle;\n",
              "    }\n",
              "\n",
              "    .dataframe tbody tr th {\n",
              "        vertical-align: top;\n",
              "    }\n",
              "\n",
              "    .dataframe thead th {\n",
              "        text-align: right;\n",
              "    }\n",
              "</style>\n",
              "<table border=\"1\" class=\"dataframe\">\n",
              "  <thead>\n",
              "    <tr style=\"text-align: right;\">\n",
              "      <th></th>\n",
              "      <th>order_id</th>\n",
              "      <th>review_score</th>\n",
              "    </tr>\n",
              "  </thead>\n",
              "  <tbody>\n",
              "    <tr>\n",
              "      <th>0</th>\n",
              "      <td>76c6e866289321a7c93b82b54852dc33</td>\n",
              "      <td>1</td>\n",
              "    </tr>\n",
              "    <tr>\n",
              "      <th>1</th>\n",
              "      <td>e6ce16cb79ec1d90b1da9085a6118aeb</td>\n",
              "      <td>1</td>\n",
              "    </tr>\n",
              "    <tr>\n",
              "      <th>2</th>\n",
              "      <td>acce194856392f074dbf9dada14d8d82</td>\n",
              "      <td>1</td>\n",
              "    </tr>\n",
              "    <tr>\n",
              "      <th>3</th>\n",
              "      <td>1790eea0b567cf50911c057cf20f90f9</td>\n",
              "      <td>1</td>\n",
              "    </tr>\n",
              "    <tr>\n",
              "      <th>4</th>\n",
              "      <td>6ea2f835b4556291ffdc53fa0b3b95e8</td>\n",
              "      <td>1</td>\n",
              "    </tr>\n",
              "  </tbody>\n",
              "</table>\n",
              "</div>\n",
              "    <div class=\"colab-df-buttons\">\n",
              "\n",
              "  <div class=\"colab-df-container\">\n",
              "    <button class=\"colab-df-convert\" onclick=\"convertToInteractive('df-1bb2f819-7a67-4a89-b0de-e1a0dcd4a11d')\"\n",
              "            title=\"Convert this dataframe to an interactive table.\"\n",
              "            style=\"display:none;\">\n",
              "\n",
              "  <svg xmlns=\"http://www.w3.org/2000/svg\" height=\"24px\" viewBox=\"0 -960 960 960\">\n",
              "    <path d=\"M120-120v-720h720v720H120Zm60-500h600v-160H180v160Zm220 220h160v-160H400v160Zm0 220h160v-160H400v160ZM180-400h160v-160H180v160Zm440 0h160v-160H620v160ZM180-180h160v-160H180v160Zm440 0h160v-160H620v160Z\"/>\n",
              "  </svg>\n",
              "    </button>\n",
              "\n",
              "  <style>\n",
              "    .colab-df-container {\n",
              "      display:flex;\n",
              "      gap: 12px;\n",
              "    }\n",
              "\n",
              "    .colab-df-convert {\n",
              "      background-color: #E8F0FE;\n",
              "      border: none;\n",
              "      border-radius: 50%;\n",
              "      cursor: pointer;\n",
              "      display: none;\n",
              "      fill: #1967D2;\n",
              "      height: 32px;\n",
              "      padding: 0 0 0 0;\n",
              "      width: 32px;\n",
              "    }\n",
              "\n",
              "    .colab-df-convert:hover {\n",
              "      background-color: #E2EBFA;\n",
              "      box-shadow: 0px 1px 2px rgba(60, 64, 67, 0.3), 0px 1px 3px 1px rgba(60, 64, 67, 0.15);\n",
              "      fill: #174EA6;\n",
              "    }\n",
              "\n",
              "    .colab-df-buttons div {\n",
              "      margin-bottom: 4px;\n",
              "    }\n",
              "\n",
              "    [theme=dark] .colab-df-convert {\n",
              "      background-color: #3B4455;\n",
              "      fill: #D2E3FC;\n",
              "    }\n",
              "\n",
              "    [theme=dark] .colab-df-convert:hover {\n",
              "      background-color: #434B5C;\n",
              "      box-shadow: 0px 1px 3px 1px rgba(0, 0, 0, 0.15);\n",
              "      filter: drop-shadow(0px 1px 2px rgba(0, 0, 0, 0.3));\n",
              "      fill: #FFFFFF;\n",
              "    }\n",
              "  </style>\n",
              "\n",
              "    <script>\n",
              "      const buttonEl =\n",
              "        document.querySelector('#df-1bb2f819-7a67-4a89-b0de-e1a0dcd4a11d button.colab-df-convert');\n",
              "      buttonEl.style.display =\n",
              "        google.colab.kernel.accessAllowed ? 'block' : 'none';\n",
              "\n",
              "      async function convertToInteractive(key) {\n",
              "        const element = document.querySelector('#df-1bb2f819-7a67-4a89-b0de-e1a0dcd4a11d');\n",
              "        const dataTable =\n",
              "          await google.colab.kernel.invokeFunction('convertToInteractive',\n",
              "                                                    [key], {});\n",
              "        if (!dataTable) return;\n",
              "\n",
              "        const docLinkHtml = 'Like what you see? Visit the ' +\n",
              "          '<a target=\"_blank\" href=https://colab.research.google.com/notebooks/data_table.ipynb>data table notebook</a>'\n",
              "          + ' to learn more about interactive tables.';\n",
              "        element.innerHTML = '';\n",
              "        dataTable['output_type'] = 'display_data';\n",
              "        await google.colab.output.renderOutput(dataTable, element);\n",
              "        const docLink = document.createElement('div');\n",
              "        docLink.innerHTML = docLinkHtml;\n",
              "        element.appendChild(docLink);\n",
              "      }\n",
              "    </script>\n",
              "  </div>\n",
              "\n",
              "\n",
              "<div id=\"df-1c5aeecc-499b-4498-b736-219a9ef3a41a\">\n",
              "  <button class=\"colab-df-quickchart\" onclick=\"quickchart('df-1c5aeecc-499b-4498-b736-219a9ef3a41a')\"\n",
              "            title=\"Suggest charts.\"\n",
              "            style=\"display:none;\">\n",
              "\n",
              "<svg xmlns=\"http://www.w3.org/2000/svg\" height=\"24px\"viewBox=\"0 0 24 24\"\n",
              "     width=\"24px\">\n",
              "    <g>\n",
              "        <path d=\"M19 3H5c-1.1 0-2 .9-2 2v14c0 1.1.9 2 2 2h14c1.1 0 2-.9 2-2V5c0-1.1-.9-2-2-2zM9 17H7v-7h2v7zm4 0h-2V7h2v10zm4 0h-2v-4h2v4z\"/>\n",
              "    </g>\n",
              "</svg>\n",
              "  </button>\n",
              "\n",
              "<style>\n",
              "  .colab-df-quickchart {\n",
              "      --bg-color: #E8F0FE;\n",
              "      --fill-color: #1967D2;\n",
              "      --hover-bg-color: #E2EBFA;\n",
              "      --hover-fill-color: #174EA6;\n",
              "      --disabled-fill-color: #AAA;\n",
              "      --disabled-bg-color: #DDD;\n",
              "  }\n",
              "\n",
              "  [theme=dark] .colab-df-quickchart {\n",
              "      --bg-color: #3B4455;\n",
              "      --fill-color: #D2E3FC;\n",
              "      --hover-bg-color: #434B5C;\n",
              "      --hover-fill-color: #FFFFFF;\n",
              "      --disabled-bg-color: #3B4455;\n",
              "      --disabled-fill-color: #666;\n",
              "  }\n",
              "\n",
              "  .colab-df-quickchart {\n",
              "    background-color: var(--bg-color);\n",
              "    border: none;\n",
              "    border-radius: 50%;\n",
              "    cursor: pointer;\n",
              "    display: none;\n",
              "    fill: var(--fill-color);\n",
              "    height: 32px;\n",
              "    padding: 0;\n",
              "    width: 32px;\n",
              "  }\n",
              "\n",
              "  .colab-df-quickchart:hover {\n",
              "    background-color: var(--hover-bg-color);\n",
              "    box-shadow: 0 1px 2px rgba(60, 64, 67, 0.3), 0 1px 3px 1px rgba(60, 64, 67, 0.15);\n",
              "    fill: var(--button-hover-fill-color);\n",
              "  }\n",
              "\n",
              "  .colab-df-quickchart-complete:disabled,\n",
              "  .colab-df-quickchart-complete:disabled:hover {\n",
              "    background-color: var(--disabled-bg-color);\n",
              "    fill: var(--disabled-fill-color);\n",
              "    box-shadow: none;\n",
              "  }\n",
              "\n",
              "  .colab-df-spinner {\n",
              "    border: 2px solid var(--fill-color);\n",
              "    border-color: transparent;\n",
              "    border-bottom-color: var(--fill-color);\n",
              "    animation:\n",
              "      spin 1s steps(1) infinite;\n",
              "  }\n",
              "\n",
              "  @keyframes spin {\n",
              "    0% {\n",
              "      border-color: transparent;\n",
              "      border-bottom-color: var(--fill-color);\n",
              "      border-left-color: var(--fill-color);\n",
              "    }\n",
              "    20% {\n",
              "      border-color: transparent;\n",
              "      border-left-color: var(--fill-color);\n",
              "      border-top-color: var(--fill-color);\n",
              "    }\n",
              "    30% {\n",
              "      border-color: transparent;\n",
              "      border-left-color: var(--fill-color);\n",
              "      border-top-color: var(--fill-color);\n",
              "      border-right-color: var(--fill-color);\n",
              "    }\n",
              "    40% {\n",
              "      border-color: transparent;\n",
              "      border-right-color: var(--fill-color);\n",
              "      border-top-color: var(--fill-color);\n",
              "    }\n",
              "    60% {\n",
              "      border-color: transparent;\n",
              "      border-right-color: var(--fill-color);\n",
              "    }\n",
              "    80% {\n",
              "      border-color: transparent;\n",
              "      border-right-color: var(--fill-color);\n",
              "      border-bottom-color: var(--fill-color);\n",
              "    }\n",
              "    90% {\n",
              "      border-color: transparent;\n",
              "      border-bottom-color: var(--fill-color);\n",
              "    }\n",
              "  }\n",
              "</style>\n",
              "\n",
              "  <script>\n",
              "    async function quickchart(key) {\n",
              "      const quickchartButtonEl =\n",
              "        document.querySelector('#' + key + ' button');\n",
              "      quickchartButtonEl.disabled = true;  // To prevent multiple clicks.\n",
              "      quickchartButtonEl.classList.add('colab-df-spinner');\n",
              "      try {\n",
              "        const charts = await google.colab.kernel.invokeFunction(\n",
              "            'suggestCharts', [key], {});\n",
              "      } catch (error) {\n",
              "        console.error('Error during call to suggestCharts:', error);\n",
              "      }\n",
              "      quickchartButtonEl.classList.remove('colab-df-spinner');\n",
              "      quickchartButtonEl.classList.add('colab-df-quickchart-complete');\n",
              "    }\n",
              "    (() => {\n",
              "      let quickchartButtonEl =\n",
              "        document.querySelector('#df-1c5aeecc-499b-4498-b736-219a9ef3a41a button');\n",
              "      quickchartButtonEl.style.display =\n",
              "        google.colab.kernel.accessAllowed ? 'block' : 'none';\n",
              "    })();\n",
              "  </script>\n",
              "</div>\n",
              "    </div>\n",
              "  </div>\n"
            ]
          },
          "metadata": {},
          "execution_count": 25
        }
      ],
      "source": [
        "query_bbt1_25 = '''\n",
        "  SELECT o.order_id, review_score\n",
        "  FROM orders o\n",
        "  JOIN order_review r\n",
        "  ON o.order_id = r.order_id\n",
        "  ORDER BY review_score\n",
        "  LIMIT 10\n",
        "  '''\n",
        "orders_score = pd.read_sql_query(query_bbt1_25, conn)\n",
        "orders_score.head(5)"
      ]
    },
    {
      "cell_type": "markdown",
      "metadata": {
        "id": "TNTPS8JfbVDR"
      },
      "source": [
        "## BT1-26 Extracción de datos desde las tablas orders_items, products y products_category_translation"
      ]
    },
    {
      "cell_type": "markdown",
      "source": [
        "**Descripción**\n",
        "\n",
        "COMO: desarrollador\n",
        "\n",
        "QUIERO: Crear un DataFrame que contenga el JOIN de la tabla orders_items, tabla products y product_category_name_translation.  \n",
        "\n",
        "PARA: Extraer los datos de items con por categorias pero con su nombre traducido en inglés"
      ],
      "metadata": {
        "id": "9NRcaUNydUaD"
      }
    },
    {
      "cell_type": "code",
      "execution_count": 26,
      "metadata": {
        "colab": {
          "base_uri": "https://localhost:8080/",
          "height": 0
        },
        "id": "QmX_bVP8bVDR",
        "outputId": "5244df1e-7a93-4804-e7df-ac0bf5254d52"
      },
      "outputs": [
        {
          "output_type": "execute_result",
          "data": {
            "text/plain": [
              "   index                          order_id  order_item_id  \\\n",
              "0      0  00010242fe8c5a6d1ba2dd792cb16214              1   \n",
              "1      1  00018f77f2f0320c557190d7a144bdd3              1   \n",
              "2     16  0009c9a17f916a706d71784483a5d643              1   \n",
              "3     19  000e562887b1f2006d75e0be9558292e              1   \n",
              "4     24  0010b2e5201cc5f1ae7e9c6cc8f5bd00              1   \n",
              "\n",
              "                         product_id                         seller_id  \\\n",
              "0  4244733e06e7ecb4970a6e2683c13e61  48436dade18ac8b2bce089ec2a041202   \n",
              "1  e5f2d52b802189ee658865ca93d83a8f  dd7ddc04e1b6c2c614352b383efe2d36   \n",
              "2  3f27ac8e699df3d300ec4a5d8c5cf0b2  fcb5ace8bcc92f75707dc0f01a27d269   \n",
              "3  5ed9eaf534f6936b51d0b6c5e4d5c2e9  8cbac7e12637ed9cffa18c7875207478   \n",
              "4  5a419dbf24a8c9718fe522b81c69f61a  3504c0cb71d7fa48d967e0e4c94d59d9   \n",
              "\n",
              "   shipping_limit_date  price  freight_value    product_name  \n",
              "0  2017-09-19 09:45:35   58.9          13.29      cool_stuff  \n",
              "1  2017-05-03 11:05:13  239.9          19.93        pet_shop  \n",
              "2  2018-05-02 09:31:53  639.0          11.34  consoles_games  \n",
              "3  2018-02-28 12:08:37   25.0          16.11      cool_stuff  \n",
              "4  2017-09-15 18:04:37   48.9          16.60      cool_stuff  "
            ],
            "text/html": [
              "\n",
              "  <div id=\"df-d2a373eb-3bd3-4bec-b3eb-0a2692520ee9\" class=\"colab-df-container\">\n",
              "    <div>\n",
              "<style scoped>\n",
              "    .dataframe tbody tr th:only-of-type {\n",
              "        vertical-align: middle;\n",
              "    }\n",
              "\n",
              "    .dataframe tbody tr th {\n",
              "        vertical-align: top;\n",
              "    }\n",
              "\n",
              "    .dataframe thead th {\n",
              "        text-align: right;\n",
              "    }\n",
              "</style>\n",
              "<table border=\"1\" class=\"dataframe\">\n",
              "  <thead>\n",
              "    <tr style=\"text-align: right;\">\n",
              "      <th></th>\n",
              "      <th>index</th>\n",
              "      <th>order_id</th>\n",
              "      <th>order_item_id</th>\n",
              "      <th>product_id</th>\n",
              "      <th>seller_id</th>\n",
              "      <th>shipping_limit_date</th>\n",
              "      <th>price</th>\n",
              "      <th>freight_value</th>\n",
              "      <th>product_name</th>\n",
              "    </tr>\n",
              "  </thead>\n",
              "  <tbody>\n",
              "    <tr>\n",
              "      <th>0</th>\n",
              "      <td>0</td>\n",
              "      <td>00010242fe8c5a6d1ba2dd792cb16214</td>\n",
              "      <td>1</td>\n",
              "      <td>4244733e06e7ecb4970a6e2683c13e61</td>\n",
              "      <td>48436dade18ac8b2bce089ec2a041202</td>\n",
              "      <td>2017-09-19 09:45:35</td>\n",
              "      <td>58.9</td>\n",
              "      <td>13.29</td>\n",
              "      <td>cool_stuff</td>\n",
              "    </tr>\n",
              "    <tr>\n",
              "      <th>1</th>\n",
              "      <td>1</td>\n",
              "      <td>00018f77f2f0320c557190d7a144bdd3</td>\n",
              "      <td>1</td>\n",
              "      <td>e5f2d52b802189ee658865ca93d83a8f</td>\n",
              "      <td>dd7ddc04e1b6c2c614352b383efe2d36</td>\n",
              "      <td>2017-05-03 11:05:13</td>\n",
              "      <td>239.9</td>\n",
              "      <td>19.93</td>\n",
              "      <td>pet_shop</td>\n",
              "    </tr>\n",
              "    <tr>\n",
              "      <th>2</th>\n",
              "      <td>16</td>\n",
              "      <td>0009c9a17f916a706d71784483a5d643</td>\n",
              "      <td>1</td>\n",
              "      <td>3f27ac8e699df3d300ec4a5d8c5cf0b2</td>\n",
              "      <td>fcb5ace8bcc92f75707dc0f01a27d269</td>\n",
              "      <td>2018-05-02 09:31:53</td>\n",
              "      <td>639.0</td>\n",
              "      <td>11.34</td>\n",
              "      <td>consoles_games</td>\n",
              "    </tr>\n",
              "    <tr>\n",
              "      <th>3</th>\n",
              "      <td>19</td>\n",
              "      <td>000e562887b1f2006d75e0be9558292e</td>\n",
              "      <td>1</td>\n",
              "      <td>5ed9eaf534f6936b51d0b6c5e4d5c2e9</td>\n",
              "      <td>8cbac7e12637ed9cffa18c7875207478</td>\n",
              "      <td>2018-02-28 12:08:37</td>\n",
              "      <td>25.0</td>\n",
              "      <td>16.11</td>\n",
              "      <td>cool_stuff</td>\n",
              "    </tr>\n",
              "    <tr>\n",
              "      <th>4</th>\n",
              "      <td>24</td>\n",
              "      <td>0010b2e5201cc5f1ae7e9c6cc8f5bd00</td>\n",
              "      <td>1</td>\n",
              "      <td>5a419dbf24a8c9718fe522b81c69f61a</td>\n",
              "      <td>3504c0cb71d7fa48d967e0e4c94d59d9</td>\n",
              "      <td>2017-09-15 18:04:37</td>\n",
              "      <td>48.9</td>\n",
              "      <td>16.60</td>\n",
              "      <td>cool_stuff</td>\n",
              "    </tr>\n",
              "  </tbody>\n",
              "</table>\n",
              "</div>\n",
              "    <div class=\"colab-df-buttons\">\n",
              "\n",
              "  <div class=\"colab-df-container\">\n",
              "    <button class=\"colab-df-convert\" onclick=\"convertToInteractive('df-d2a373eb-3bd3-4bec-b3eb-0a2692520ee9')\"\n",
              "            title=\"Convert this dataframe to an interactive table.\"\n",
              "            style=\"display:none;\">\n",
              "\n",
              "  <svg xmlns=\"http://www.w3.org/2000/svg\" height=\"24px\" viewBox=\"0 -960 960 960\">\n",
              "    <path d=\"M120-120v-720h720v720H120Zm60-500h600v-160H180v160Zm220 220h160v-160H400v160Zm0 220h160v-160H400v160ZM180-400h160v-160H180v160Zm440 0h160v-160H620v160ZM180-180h160v-160H180v160Zm440 0h160v-160H620v160Z\"/>\n",
              "  </svg>\n",
              "    </button>\n",
              "\n",
              "  <style>\n",
              "    .colab-df-container {\n",
              "      display:flex;\n",
              "      gap: 12px;\n",
              "    }\n",
              "\n",
              "    .colab-df-convert {\n",
              "      background-color: #E8F0FE;\n",
              "      border: none;\n",
              "      border-radius: 50%;\n",
              "      cursor: pointer;\n",
              "      display: none;\n",
              "      fill: #1967D2;\n",
              "      height: 32px;\n",
              "      padding: 0 0 0 0;\n",
              "      width: 32px;\n",
              "    }\n",
              "\n",
              "    .colab-df-convert:hover {\n",
              "      background-color: #E2EBFA;\n",
              "      box-shadow: 0px 1px 2px rgba(60, 64, 67, 0.3), 0px 1px 3px 1px rgba(60, 64, 67, 0.15);\n",
              "      fill: #174EA6;\n",
              "    }\n",
              "\n",
              "    .colab-df-buttons div {\n",
              "      margin-bottom: 4px;\n",
              "    }\n",
              "\n",
              "    [theme=dark] .colab-df-convert {\n",
              "      background-color: #3B4455;\n",
              "      fill: #D2E3FC;\n",
              "    }\n",
              "\n",
              "    [theme=dark] .colab-df-convert:hover {\n",
              "      background-color: #434B5C;\n",
              "      box-shadow: 0px 1px 3px 1px rgba(0, 0, 0, 0.15);\n",
              "      filter: drop-shadow(0px 1px 2px rgba(0, 0, 0, 0.3));\n",
              "      fill: #FFFFFF;\n",
              "    }\n",
              "  </style>\n",
              "\n",
              "    <script>\n",
              "      const buttonEl =\n",
              "        document.querySelector('#df-d2a373eb-3bd3-4bec-b3eb-0a2692520ee9 button.colab-df-convert');\n",
              "      buttonEl.style.display =\n",
              "        google.colab.kernel.accessAllowed ? 'block' : 'none';\n",
              "\n",
              "      async function convertToInteractive(key) {\n",
              "        const element = document.querySelector('#df-d2a373eb-3bd3-4bec-b3eb-0a2692520ee9');\n",
              "        const dataTable =\n",
              "          await google.colab.kernel.invokeFunction('convertToInteractive',\n",
              "                                                    [key], {});\n",
              "        if (!dataTable) return;\n",
              "\n",
              "        const docLinkHtml = 'Like what you see? Visit the ' +\n",
              "          '<a target=\"_blank\" href=https://colab.research.google.com/notebooks/data_table.ipynb>data table notebook</a>'\n",
              "          + ' to learn more about interactive tables.';\n",
              "        element.innerHTML = '';\n",
              "        dataTable['output_type'] = 'display_data';\n",
              "        await google.colab.output.renderOutput(dataTable, element);\n",
              "        const docLink = document.createElement('div');\n",
              "        docLink.innerHTML = docLinkHtml;\n",
              "        element.appendChild(docLink);\n",
              "      }\n",
              "    </script>\n",
              "  </div>\n",
              "\n",
              "\n",
              "<div id=\"df-5afd4342-8cf9-4a63-a16c-e847a34f499a\">\n",
              "  <button class=\"colab-df-quickchart\" onclick=\"quickchart('df-5afd4342-8cf9-4a63-a16c-e847a34f499a')\"\n",
              "            title=\"Suggest charts.\"\n",
              "            style=\"display:none;\">\n",
              "\n",
              "<svg xmlns=\"http://www.w3.org/2000/svg\" height=\"24px\"viewBox=\"0 0 24 24\"\n",
              "     width=\"24px\">\n",
              "    <g>\n",
              "        <path d=\"M19 3H5c-1.1 0-2 .9-2 2v14c0 1.1.9 2 2 2h14c1.1 0 2-.9 2-2V5c0-1.1-.9-2-2-2zM9 17H7v-7h2v7zm4 0h-2V7h2v10zm4 0h-2v-4h2v4z\"/>\n",
              "    </g>\n",
              "</svg>\n",
              "  </button>\n",
              "\n",
              "<style>\n",
              "  .colab-df-quickchart {\n",
              "      --bg-color: #E8F0FE;\n",
              "      --fill-color: #1967D2;\n",
              "      --hover-bg-color: #E2EBFA;\n",
              "      --hover-fill-color: #174EA6;\n",
              "      --disabled-fill-color: #AAA;\n",
              "      --disabled-bg-color: #DDD;\n",
              "  }\n",
              "\n",
              "  [theme=dark] .colab-df-quickchart {\n",
              "      --bg-color: #3B4455;\n",
              "      --fill-color: #D2E3FC;\n",
              "      --hover-bg-color: #434B5C;\n",
              "      --hover-fill-color: #FFFFFF;\n",
              "      --disabled-bg-color: #3B4455;\n",
              "      --disabled-fill-color: #666;\n",
              "  }\n",
              "\n",
              "  .colab-df-quickchart {\n",
              "    background-color: var(--bg-color);\n",
              "    border: none;\n",
              "    border-radius: 50%;\n",
              "    cursor: pointer;\n",
              "    display: none;\n",
              "    fill: var(--fill-color);\n",
              "    height: 32px;\n",
              "    padding: 0;\n",
              "    width: 32px;\n",
              "  }\n",
              "\n",
              "  .colab-df-quickchart:hover {\n",
              "    background-color: var(--hover-bg-color);\n",
              "    box-shadow: 0 1px 2px rgba(60, 64, 67, 0.3), 0 1px 3px 1px rgba(60, 64, 67, 0.15);\n",
              "    fill: var(--button-hover-fill-color);\n",
              "  }\n",
              "\n",
              "  .colab-df-quickchart-complete:disabled,\n",
              "  .colab-df-quickchart-complete:disabled:hover {\n",
              "    background-color: var(--disabled-bg-color);\n",
              "    fill: var(--disabled-fill-color);\n",
              "    box-shadow: none;\n",
              "  }\n",
              "\n",
              "  .colab-df-spinner {\n",
              "    border: 2px solid var(--fill-color);\n",
              "    border-color: transparent;\n",
              "    border-bottom-color: var(--fill-color);\n",
              "    animation:\n",
              "      spin 1s steps(1) infinite;\n",
              "  }\n",
              "\n",
              "  @keyframes spin {\n",
              "    0% {\n",
              "      border-color: transparent;\n",
              "      border-bottom-color: var(--fill-color);\n",
              "      border-left-color: var(--fill-color);\n",
              "    }\n",
              "    20% {\n",
              "      border-color: transparent;\n",
              "      border-left-color: var(--fill-color);\n",
              "      border-top-color: var(--fill-color);\n",
              "    }\n",
              "    30% {\n",
              "      border-color: transparent;\n",
              "      border-left-color: var(--fill-color);\n",
              "      border-top-color: var(--fill-color);\n",
              "      border-right-color: var(--fill-color);\n",
              "    }\n",
              "    40% {\n",
              "      border-color: transparent;\n",
              "      border-right-color: var(--fill-color);\n",
              "      border-top-color: var(--fill-color);\n",
              "    }\n",
              "    60% {\n",
              "      border-color: transparent;\n",
              "      border-right-color: var(--fill-color);\n",
              "    }\n",
              "    80% {\n",
              "      border-color: transparent;\n",
              "      border-right-color: var(--fill-color);\n",
              "      border-bottom-color: var(--fill-color);\n",
              "    }\n",
              "    90% {\n",
              "      border-color: transparent;\n",
              "      border-bottom-color: var(--fill-color);\n",
              "    }\n",
              "  }\n",
              "</style>\n",
              "\n",
              "  <script>\n",
              "    async function quickchart(key) {\n",
              "      const quickchartButtonEl =\n",
              "        document.querySelector('#' + key + ' button');\n",
              "      quickchartButtonEl.disabled = true;  // To prevent multiple clicks.\n",
              "      quickchartButtonEl.classList.add('colab-df-spinner');\n",
              "      try {\n",
              "        const charts = await google.colab.kernel.invokeFunction(\n",
              "            'suggestCharts', [key], {});\n",
              "      } catch (error) {\n",
              "        console.error('Error during call to suggestCharts:', error);\n",
              "      }\n",
              "      quickchartButtonEl.classList.remove('colab-df-spinner');\n",
              "      quickchartButtonEl.classList.add('colab-df-quickchart-complete');\n",
              "    }\n",
              "    (() => {\n",
              "      let quickchartButtonEl =\n",
              "        document.querySelector('#df-5afd4342-8cf9-4a63-a16c-e847a34f499a button');\n",
              "      quickchartButtonEl.style.display =\n",
              "        google.colab.kernel.accessAllowed ? 'block' : 'none';\n",
              "    })();\n",
              "  </script>\n",
              "</div>\n",
              "    </div>\n",
              "  </div>\n"
            ]
          },
          "metadata": {},
          "execution_count": 26
        }
      ],
      "source": [
        "bt1_26_query = '''\n",
        "    SELECT oi.*, c.product_category_name_english AS product_name\n",
        "    FROM order_items AS oi\n",
        "    INNER JOIN products AS p\n",
        "        ON oi.product_id = p.product_id\n",
        "    INNER JOIN category AS c\n",
        "        ON p.product_category_name = c.product_category_name_english\n",
        ";\n",
        "'''\n",
        "BT1_26 = pd.read_sql_query(bt1_26_query, conn)\n",
        "BT1_26.head(5)"
      ]
    },
    {
      "cell_type": "markdown",
      "metadata": {
        "id": "HRacMdAXbVDR"
      },
      "source": [
        "## BT1_27  Extracción de datos desde las tablas orders, payments y customers"
      ]
    },
    {
      "cell_type": "markdown",
      "source": [
        "**Descripción**\n",
        "\n",
        "COMO: desarrollador\n",
        "\n",
        "QUIERO: Crear un DataFrame que contenga el JOIN de la tabla orders, tabla payments y customers.\n",
        "  \n",
        "PARA: Extraer los datos de clientes con sus métodos de pagos por ciudad."
      ],
      "metadata": {
        "id": "cp9QbtlZdU_t"
      }
    },
    {
      "cell_type": "code",
      "execution_count": 27,
      "metadata": {
        "colab": {
          "base_uri": "https://localhost:8080/",
          "height": 0
        },
        "id": "iGQLqnuCbVDR",
        "outputId": "6ec52cf5-9387-4fe1-b237-d71e440cedde"
      },
      "outputs": [
        {
          "output_type": "execute_result",
          "data": {
            "text/plain": [
              "                 customer_unique_id payment_type          customer_city  \\\n",
              "0  861eff4711a542e4b93843c6dd7febb0  credit_card                 franca   \n",
              "1  290c77bc529b7ac935b93aa66c333dc3  credit_card  sao bernardo do campo   \n",
              "2  060e732b5b29e8181a18229c7b0b2b5e  credit_card              sao paulo   \n",
              "3  259dac757896d24d7702b9acbbff3f3c  credit_card        mogi das cruzes   \n",
              "4  345ecd01c38d18a9036ed96c73b8d066  credit_card               campinas   \n",
              "\n",
              "  customer_state  \n",
              "0             SP  \n",
              "1             SP  \n",
              "2             SP  \n",
              "3             SP  \n",
              "4             SP  "
            ],
            "text/html": [
              "\n",
              "  <div id=\"df-04d2d905-d980-4c37-ac28-89b443af53a2\" class=\"colab-df-container\">\n",
              "    <div>\n",
              "<style scoped>\n",
              "    .dataframe tbody tr th:only-of-type {\n",
              "        vertical-align: middle;\n",
              "    }\n",
              "\n",
              "    .dataframe tbody tr th {\n",
              "        vertical-align: top;\n",
              "    }\n",
              "\n",
              "    .dataframe thead th {\n",
              "        text-align: right;\n",
              "    }\n",
              "</style>\n",
              "<table border=\"1\" class=\"dataframe\">\n",
              "  <thead>\n",
              "    <tr style=\"text-align: right;\">\n",
              "      <th></th>\n",
              "      <th>customer_unique_id</th>\n",
              "      <th>payment_type</th>\n",
              "      <th>customer_city</th>\n",
              "      <th>customer_state</th>\n",
              "    </tr>\n",
              "  </thead>\n",
              "  <tbody>\n",
              "    <tr>\n",
              "      <th>0</th>\n",
              "      <td>861eff4711a542e4b93843c6dd7febb0</td>\n",
              "      <td>credit_card</td>\n",
              "      <td>franca</td>\n",
              "      <td>SP</td>\n",
              "    </tr>\n",
              "    <tr>\n",
              "      <th>1</th>\n",
              "      <td>290c77bc529b7ac935b93aa66c333dc3</td>\n",
              "      <td>credit_card</td>\n",
              "      <td>sao bernardo do campo</td>\n",
              "      <td>SP</td>\n",
              "    </tr>\n",
              "    <tr>\n",
              "      <th>2</th>\n",
              "      <td>060e732b5b29e8181a18229c7b0b2b5e</td>\n",
              "      <td>credit_card</td>\n",
              "      <td>sao paulo</td>\n",
              "      <td>SP</td>\n",
              "    </tr>\n",
              "    <tr>\n",
              "      <th>3</th>\n",
              "      <td>259dac757896d24d7702b9acbbff3f3c</td>\n",
              "      <td>credit_card</td>\n",
              "      <td>mogi das cruzes</td>\n",
              "      <td>SP</td>\n",
              "    </tr>\n",
              "    <tr>\n",
              "      <th>4</th>\n",
              "      <td>345ecd01c38d18a9036ed96c73b8d066</td>\n",
              "      <td>credit_card</td>\n",
              "      <td>campinas</td>\n",
              "      <td>SP</td>\n",
              "    </tr>\n",
              "  </tbody>\n",
              "</table>\n",
              "</div>\n",
              "    <div class=\"colab-df-buttons\">\n",
              "\n",
              "  <div class=\"colab-df-container\">\n",
              "    <button class=\"colab-df-convert\" onclick=\"convertToInteractive('df-04d2d905-d980-4c37-ac28-89b443af53a2')\"\n",
              "            title=\"Convert this dataframe to an interactive table.\"\n",
              "            style=\"display:none;\">\n",
              "\n",
              "  <svg xmlns=\"http://www.w3.org/2000/svg\" height=\"24px\" viewBox=\"0 -960 960 960\">\n",
              "    <path d=\"M120-120v-720h720v720H120Zm60-500h600v-160H180v160Zm220 220h160v-160H400v160Zm0 220h160v-160H400v160ZM180-400h160v-160H180v160Zm440 0h160v-160H620v160ZM180-180h160v-160H180v160Zm440 0h160v-160H620v160Z\"/>\n",
              "  </svg>\n",
              "    </button>\n",
              "\n",
              "  <style>\n",
              "    .colab-df-container {\n",
              "      display:flex;\n",
              "      gap: 12px;\n",
              "    }\n",
              "\n",
              "    .colab-df-convert {\n",
              "      background-color: #E8F0FE;\n",
              "      border: none;\n",
              "      border-radius: 50%;\n",
              "      cursor: pointer;\n",
              "      display: none;\n",
              "      fill: #1967D2;\n",
              "      height: 32px;\n",
              "      padding: 0 0 0 0;\n",
              "      width: 32px;\n",
              "    }\n",
              "\n",
              "    .colab-df-convert:hover {\n",
              "      background-color: #E2EBFA;\n",
              "      box-shadow: 0px 1px 2px rgba(60, 64, 67, 0.3), 0px 1px 3px 1px rgba(60, 64, 67, 0.15);\n",
              "      fill: #174EA6;\n",
              "    }\n",
              "\n",
              "    .colab-df-buttons div {\n",
              "      margin-bottom: 4px;\n",
              "    }\n",
              "\n",
              "    [theme=dark] .colab-df-convert {\n",
              "      background-color: #3B4455;\n",
              "      fill: #D2E3FC;\n",
              "    }\n",
              "\n",
              "    [theme=dark] .colab-df-convert:hover {\n",
              "      background-color: #434B5C;\n",
              "      box-shadow: 0px 1px 3px 1px rgba(0, 0, 0, 0.15);\n",
              "      filter: drop-shadow(0px 1px 2px rgba(0, 0, 0, 0.3));\n",
              "      fill: #FFFFFF;\n",
              "    }\n",
              "  </style>\n",
              "\n",
              "    <script>\n",
              "      const buttonEl =\n",
              "        document.querySelector('#df-04d2d905-d980-4c37-ac28-89b443af53a2 button.colab-df-convert');\n",
              "      buttonEl.style.display =\n",
              "        google.colab.kernel.accessAllowed ? 'block' : 'none';\n",
              "\n",
              "      async function convertToInteractive(key) {\n",
              "        const element = document.querySelector('#df-04d2d905-d980-4c37-ac28-89b443af53a2');\n",
              "        const dataTable =\n",
              "          await google.colab.kernel.invokeFunction('convertToInteractive',\n",
              "                                                    [key], {});\n",
              "        if (!dataTable) return;\n",
              "\n",
              "        const docLinkHtml = 'Like what you see? Visit the ' +\n",
              "          '<a target=\"_blank\" href=https://colab.research.google.com/notebooks/data_table.ipynb>data table notebook</a>'\n",
              "          + ' to learn more about interactive tables.';\n",
              "        element.innerHTML = '';\n",
              "        dataTable['output_type'] = 'display_data';\n",
              "        await google.colab.output.renderOutput(dataTable, element);\n",
              "        const docLink = document.createElement('div');\n",
              "        docLink.innerHTML = docLinkHtml;\n",
              "        element.appendChild(docLink);\n",
              "      }\n",
              "    </script>\n",
              "  </div>\n",
              "\n",
              "\n",
              "<div id=\"df-bac6a910-0f2e-4979-9ccc-adebfeb79bc1\">\n",
              "  <button class=\"colab-df-quickchart\" onclick=\"quickchart('df-bac6a910-0f2e-4979-9ccc-adebfeb79bc1')\"\n",
              "            title=\"Suggest charts.\"\n",
              "            style=\"display:none;\">\n",
              "\n",
              "<svg xmlns=\"http://www.w3.org/2000/svg\" height=\"24px\"viewBox=\"0 0 24 24\"\n",
              "     width=\"24px\">\n",
              "    <g>\n",
              "        <path d=\"M19 3H5c-1.1 0-2 .9-2 2v14c0 1.1.9 2 2 2h14c1.1 0 2-.9 2-2V5c0-1.1-.9-2-2-2zM9 17H7v-7h2v7zm4 0h-2V7h2v10zm4 0h-2v-4h2v4z\"/>\n",
              "    </g>\n",
              "</svg>\n",
              "  </button>\n",
              "\n",
              "<style>\n",
              "  .colab-df-quickchart {\n",
              "      --bg-color: #E8F0FE;\n",
              "      --fill-color: #1967D2;\n",
              "      --hover-bg-color: #E2EBFA;\n",
              "      --hover-fill-color: #174EA6;\n",
              "      --disabled-fill-color: #AAA;\n",
              "      --disabled-bg-color: #DDD;\n",
              "  }\n",
              "\n",
              "  [theme=dark] .colab-df-quickchart {\n",
              "      --bg-color: #3B4455;\n",
              "      --fill-color: #D2E3FC;\n",
              "      --hover-bg-color: #434B5C;\n",
              "      --hover-fill-color: #FFFFFF;\n",
              "      --disabled-bg-color: #3B4455;\n",
              "      --disabled-fill-color: #666;\n",
              "  }\n",
              "\n",
              "  .colab-df-quickchart {\n",
              "    background-color: var(--bg-color);\n",
              "    border: none;\n",
              "    border-radius: 50%;\n",
              "    cursor: pointer;\n",
              "    display: none;\n",
              "    fill: var(--fill-color);\n",
              "    height: 32px;\n",
              "    padding: 0;\n",
              "    width: 32px;\n",
              "  }\n",
              "\n",
              "  .colab-df-quickchart:hover {\n",
              "    background-color: var(--hover-bg-color);\n",
              "    box-shadow: 0 1px 2px rgba(60, 64, 67, 0.3), 0 1px 3px 1px rgba(60, 64, 67, 0.15);\n",
              "    fill: var(--button-hover-fill-color);\n",
              "  }\n",
              "\n",
              "  .colab-df-quickchart-complete:disabled,\n",
              "  .colab-df-quickchart-complete:disabled:hover {\n",
              "    background-color: var(--disabled-bg-color);\n",
              "    fill: var(--disabled-fill-color);\n",
              "    box-shadow: none;\n",
              "  }\n",
              "\n",
              "  .colab-df-spinner {\n",
              "    border: 2px solid var(--fill-color);\n",
              "    border-color: transparent;\n",
              "    border-bottom-color: var(--fill-color);\n",
              "    animation:\n",
              "      spin 1s steps(1) infinite;\n",
              "  }\n",
              "\n",
              "  @keyframes spin {\n",
              "    0% {\n",
              "      border-color: transparent;\n",
              "      border-bottom-color: var(--fill-color);\n",
              "      border-left-color: var(--fill-color);\n",
              "    }\n",
              "    20% {\n",
              "      border-color: transparent;\n",
              "      border-left-color: var(--fill-color);\n",
              "      border-top-color: var(--fill-color);\n",
              "    }\n",
              "    30% {\n",
              "      border-color: transparent;\n",
              "      border-left-color: var(--fill-color);\n",
              "      border-top-color: var(--fill-color);\n",
              "      border-right-color: var(--fill-color);\n",
              "    }\n",
              "    40% {\n",
              "      border-color: transparent;\n",
              "      border-right-color: var(--fill-color);\n",
              "      border-top-color: var(--fill-color);\n",
              "    }\n",
              "    60% {\n",
              "      border-color: transparent;\n",
              "      border-right-color: var(--fill-color);\n",
              "    }\n",
              "    80% {\n",
              "      border-color: transparent;\n",
              "      border-right-color: var(--fill-color);\n",
              "      border-bottom-color: var(--fill-color);\n",
              "    }\n",
              "    90% {\n",
              "      border-color: transparent;\n",
              "      border-bottom-color: var(--fill-color);\n",
              "    }\n",
              "  }\n",
              "</style>\n",
              "\n",
              "  <script>\n",
              "    async function quickchart(key) {\n",
              "      const quickchartButtonEl =\n",
              "        document.querySelector('#' + key + ' button');\n",
              "      quickchartButtonEl.disabled = true;  // To prevent multiple clicks.\n",
              "      quickchartButtonEl.classList.add('colab-df-spinner');\n",
              "      try {\n",
              "        const charts = await google.colab.kernel.invokeFunction(\n",
              "            'suggestCharts', [key], {});\n",
              "      } catch (error) {\n",
              "        console.error('Error during call to suggestCharts:', error);\n",
              "      }\n",
              "      quickchartButtonEl.classList.remove('colab-df-spinner');\n",
              "      quickchartButtonEl.classList.add('colab-df-quickchart-complete');\n",
              "    }\n",
              "    (() => {\n",
              "      let quickchartButtonEl =\n",
              "        document.querySelector('#df-bac6a910-0f2e-4979-9ccc-adebfeb79bc1 button');\n",
              "      quickchartButtonEl.style.display =\n",
              "        google.colab.kernel.accessAllowed ? 'block' : 'none';\n",
              "    })();\n",
              "  </script>\n",
              "</div>\n",
              "    </div>\n",
              "  </div>\n"
            ]
          },
          "metadata": {},
          "execution_count": 27
        }
      ],
      "source": [
        "bt1_27_query = '''\n",
        "    SELECT c.customer_unique_id, op.payment_type, c.customer_city, c.customer_state\n",
        "    FROM customers AS c\n",
        "    INNER JOIN orders AS o\n",
        "        ON c.customer_id = o.customer_id\n",
        "    INNER JOIN order_payments AS op\n",
        "        ON o.order_id = op.order_id\n",
        "\n",
        ";\n",
        "'''\n",
        "BT1_27 = pd.read_sql_query(bt1_27_query, conn)\n",
        "\n",
        "BT1_27.groupby(['payment_type'])[['customer_unique_id']].count().sort_values(by='customer_unique_id', ascending=False)\n",
        "\n",
        "BT1_27.head(5)"
      ]
    },
    {
      "cell_type": "markdown",
      "metadata": {
        "id": "JM3hDo0_bVDS"
      },
      "source": [
        "## BBT1-28 Filtrar datos, reducir volumen de customers y orders."
      ]
    },
    {
      "cell_type": "markdown",
      "source": [
        "**Descripción**\n",
        "\n",
        "COMO: desarrollador\n",
        "\n",
        "QUIERO: Filtrar el DataFrame de clientes y órdenes para resguardar las 3 órdenes más actuales de cada cliente.\n",
        "\n",
        "PARA: Reducir el volumen de datos y trabajar solo con las últimas órdenes de los clientes."
      ],
      "metadata": {
        "id": "SeWNNcNzhNvi"
      }
    },
    {
      "cell_type": "code",
      "source": [
        "# Renombrar la columna 'index' a 'customer_order_index' en el DataFrame\n",
        "df_customers_orders.rename(columns={'index': 'customer_order_index'}, inplace=True)\n",
        "\n",
        "# Guardar el DataFrame en la base de datos sin incluir el índice\n",
        "df_customers_orders.to_sql('customers_orders', conn, if_exists='replace', index=False)\n"
      ],
      "metadata": {
        "colab": {
          "base_uri": "https://localhost:8080/"
        },
        "id": "YxJ3bEnPRz6Q",
        "outputId": "2b5a03ac-b120-433a-8230-5ce140032333"
      },
      "execution_count": 28,
      "outputs": [
        {
          "output_type": "execute_result",
          "data": {
            "text/plain": [
              "99441"
            ]
          },
          "metadata": {},
          "execution_count": 28
        }
      ]
    },
    {
      "cell_type": "code",
      "source": [
        "query_2 = '''\n",
        "WITH ComprasClientes AS (\n",
        "    SELECT\n",
        "        c.customer_unique_id,\n",
        "        o.order_id,\n",
        "        order_purchase_timestamp,\n",
        "        ROW_NUMBER() OVER (PARTITION BY c.customer_unique_id ORDER BY o.order_purchase_timestamp DESC) AS rn\n",
        "    FROM\n",
        "        customers AS c\n",
        "    JOIN\n",
        "        orders AS o ON c.customer_id = o.customer_id\n",
        "    JOIN\n",
        "        order_payments AS op ON o.order_id = op.order_id\n",
        "    WHERE\n",
        "        o.order_status != 'canceled'\n",
        ")\n",
        "SELECT\n",
        "    cc.customer_unique_id,\n",
        "    cc.order_id,\n",
        "    cc.order_purchase_timestamp\n",
        "FROM\n",
        "    ComprasClientes AS cc\n",
        "WHERE\n",
        "    cc.rn <= 3\n",
        "GROUP BY\n",
        "    cc.customer_unique_id\n",
        "\n",
        "\n",
        "\n",
        "'''\n",
        "\n",
        "# Ejecutar la consulta y obtener los resultados en un DataFrame\n",
        "BBT1_31 = pd.read_sql_query(query_2, conn)\n",
        "BBT1_31.head(5)"
      ],
      "metadata": {
        "colab": {
          "base_uri": "https://localhost:8080/",
          "height": 206
        },
        "id": "1QeVspMZEuZj",
        "outputId": "7d73c2ba-d326-487c-c65c-af0cdf961836"
      },
      "execution_count": 182,
      "outputs": [
        {
          "output_type": "execute_result",
          "data": {
            "text/plain": [
              "                 customer_unique_id                          order_id  \\\n",
              "0  0000366f3b9a7992bf8c76cfdf3221e2  e22acc9c116caa3f2b7121bbb380d08e   \n",
              "1  0000b849f77a49e4a4ce2b2a4ca5be3f  3594e05a005ac4d06a72673270ef9ec9   \n",
              "2  0000f46a3911fa3c0805444483337064  b33ec3b699337181488304f362a6b734   \n",
              "3  0000f6ccb0745a6a4b88665a16c9f078  41272756ecddd9a9ed0180413cc22fb6   \n",
              "4  0004aac84e0df4da2b147fca70cf8255  d957021f1127559cd947b62533f484f7   \n",
              "\n",
              "  order_purchase_timestamp  \n",
              "0      2018-05-10 10:56:27  \n",
              "1      2018-05-07 11:11:27  \n",
              "2      2017-03-10 21:05:03  \n",
              "3      2017-10-12 20:29:41  \n",
              "4      2017-11-14 19:45:42  "
            ],
            "text/html": [
              "\n",
              "  <div id=\"df-1c3c2f03-7e24-4d2b-b9e2-e6014dabe03b\" class=\"colab-df-container\">\n",
              "    <div>\n",
              "<style scoped>\n",
              "    .dataframe tbody tr th:only-of-type {\n",
              "        vertical-align: middle;\n",
              "    }\n",
              "\n",
              "    .dataframe tbody tr th {\n",
              "        vertical-align: top;\n",
              "    }\n",
              "\n",
              "    .dataframe thead th {\n",
              "        text-align: right;\n",
              "    }\n",
              "</style>\n",
              "<table border=\"1\" class=\"dataframe\">\n",
              "  <thead>\n",
              "    <tr style=\"text-align: right;\">\n",
              "      <th></th>\n",
              "      <th>customer_unique_id</th>\n",
              "      <th>order_id</th>\n",
              "      <th>order_purchase_timestamp</th>\n",
              "    </tr>\n",
              "  </thead>\n",
              "  <tbody>\n",
              "    <tr>\n",
              "      <th>0</th>\n",
              "      <td>0000366f3b9a7992bf8c76cfdf3221e2</td>\n",
              "      <td>e22acc9c116caa3f2b7121bbb380d08e</td>\n",
              "      <td>2018-05-10 10:56:27</td>\n",
              "    </tr>\n",
              "    <tr>\n",
              "      <th>1</th>\n",
              "      <td>0000b849f77a49e4a4ce2b2a4ca5be3f</td>\n",
              "      <td>3594e05a005ac4d06a72673270ef9ec9</td>\n",
              "      <td>2018-05-07 11:11:27</td>\n",
              "    </tr>\n",
              "    <tr>\n",
              "      <th>2</th>\n",
              "      <td>0000f46a3911fa3c0805444483337064</td>\n",
              "      <td>b33ec3b699337181488304f362a6b734</td>\n",
              "      <td>2017-03-10 21:05:03</td>\n",
              "    </tr>\n",
              "    <tr>\n",
              "      <th>3</th>\n",
              "      <td>0000f6ccb0745a6a4b88665a16c9f078</td>\n",
              "      <td>41272756ecddd9a9ed0180413cc22fb6</td>\n",
              "      <td>2017-10-12 20:29:41</td>\n",
              "    </tr>\n",
              "    <tr>\n",
              "      <th>4</th>\n",
              "      <td>0004aac84e0df4da2b147fca70cf8255</td>\n",
              "      <td>d957021f1127559cd947b62533f484f7</td>\n",
              "      <td>2017-11-14 19:45:42</td>\n",
              "    </tr>\n",
              "  </tbody>\n",
              "</table>\n",
              "</div>\n",
              "    <div class=\"colab-df-buttons\">\n",
              "\n",
              "  <div class=\"colab-df-container\">\n",
              "    <button class=\"colab-df-convert\" onclick=\"convertToInteractive('df-1c3c2f03-7e24-4d2b-b9e2-e6014dabe03b')\"\n",
              "            title=\"Convert this dataframe to an interactive table.\"\n",
              "            style=\"display:none;\">\n",
              "\n",
              "  <svg xmlns=\"http://www.w3.org/2000/svg\" height=\"24px\" viewBox=\"0 -960 960 960\">\n",
              "    <path d=\"M120-120v-720h720v720H120Zm60-500h600v-160H180v160Zm220 220h160v-160H400v160Zm0 220h160v-160H400v160ZM180-400h160v-160H180v160Zm440 0h160v-160H620v160ZM180-180h160v-160H180v160Zm440 0h160v-160H620v160Z\"/>\n",
              "  </svg>\n",
              "    </button>\n",
              "\n",
              "  <style>\n",
              "    .colab-df-container {\n",
              "      display:flex;\n",
              "      gap: 12px;\n",
              "    }\n",
              "\n",
              "    .colab-df-convert {\n",
              "      background-color: #E8F0FE;\n",
              "      border: none;\n",
              "      border-radius: 50%;\n",
              "      cursor: pointer;\n",
              "      display: none;\n",
              "      fill: #1967D2;\n",
              "      height: 32px;\n",
              "      padding: 0 0 0 0;\n",
              "      width: 32px;\n",
              "    }\n",
              "\n",
              "    .colab-df-convert:hover {\n",
              "      background-color: #E2EBFA;\n",
              "      box-shadow: 0px 1px 2px rgba(60, 64, 67, 0.3), 0px 1px 3px 1px rgba(60, 64, 67, 0.15);\n",
              "      fill: #174EA6;\n",
              "    }\n",
              "\n",
              "    .colab-df-buttons div {\n",
              "      margin-bottom: 4px;\n",
              "    }\n",
              "\n",
              "    [theme=dark] .colab-df-convert {\n",
              "      background-color: #3B4455;\n",
              "      fill: #D2E3FC;\n",
              "    }\n",
              "\n",
              "    [theme=dark] .colab-df-convert:hover {\n",
              "      background-color: #434B5C;\n",
              "      box-shadow: 0px 1px 3px 1px rgba(0, 0, 0, 0.15);\n",
              "      filter: drop-shadow(0px 1px 2px rgba(0, 0, 0, 0.3));\n",
              "      fill: #FFFFFF;\n",
              "    }\n",
              "  </style>\n",
              "\n",
              "    <script>\n",
              "      const buttonEl =\n",
              "        document.querySelector('#df-1c3c2f03-7e24-4d2b-b9e2-e6014dabe03b button.colab-df-convert');\n",
              "      buttonEl.style.display =\n",
              "        google.colab.kernel.accessAllowed ? 'block' : 'none';\n",
              "\n",
              "      async function convertToInteractive(key) {\n",
              "        const element = document.querySelector('#df-1c3c2f03-7e24-4d2b-b9e2-e6014dabe03b');\n",
              "        const dataTable =\n",
              "          await google.colab.kernel.invokeFunction('convertToInteractive',\n",
              "                                                    [key], {});\n",
              "        if (!dataTable) return;\n",
              "\n",
              "        const docLinkHtml = 'Like what you see? Visit the ' +\n",
              "          '<a target=\"_blank\" href=https://colab.research.google.com/notebooks/data_table.ipynb>data table notebook</a>'\n",
              "          + ' to learn more about interactive tables.';\n",
              "        element.innerHTML = '';\n",
              "        dataTable['output_type'] = 'display_data';\n",
              "        await google.colab.output.renderOutput(dataTable, element);\n",
              "        const docLink = document.createElement('div');\n",
              "        docLink.innerHTML = docLinkHtml;\n",
              "        element.appendChild(docLink);\n",
              "      }\n",
              "    </script>\n",
              "  </div>\n",
              "\n",
              "\n",
              "<div id=\"df-0f36c31d-6360-4088-848a-3bf9c9466fbb\">\n",
              "  <button class=\"colab-df-quickchart\" onclick=\"quickchart('df-0f36c31d-6360-4088-848a-3bf9c9466fbb')\"\n",
              "            title=\"Suggest charts.\"\n",
              "            style=\"display:none;\">\n",
              "\n",
              "<svg xmlns=\"http://www.w3.org/2000/svg\" height=\"24px\"viewBox=\"0 0 24 24\"\n",
              "     width=\"24px\">\n",
              "    <g>\n",
              "        <path d=\"M19 3H5c-1.1 0-2 .9-2 2v14c0 1.1.9 2 2 2h14c1.1 0 2-.9 2-2V5c0-1.1-.9-2-2-2zM9 17H7v-7h2v7zm4 0h-2V7h2v10zm4 0h-2v-4h2v4z\"/>\n",
              "    </g>\n",
              "</svg>\n",
              "  </button>\n",
              "\n",
              "<style>\n",
              "  .colab-df-quickchart {\n",
              "      --bg-color: #E8F0FE;\n",
              "      --fill-color: #1967D2;\n",
              "      --hover-bg-color: #E2EBFA;\n",
              "      --hover-fill-color: #174EA6;\n",
              "      --disabled-fill-color: #AAA;\n",
              "      --disabled-bg-color: #DDD;\n",
              "  }\n",
              "\n",
              "  [theme=dark] .colab-df-quickchart {\n",
              "      --bg-color: #3B4455;\n",
              "      --fill-color: #D2E3FC;\n",
              "      --hover-bg-color: #434B5C;\n",
              "      --hover-fill-color: #FFFFFF;\n",
              "      --disabled-bg-color: #3B4455;\n",
              "      --disabled-fill-color: #666;\n",
              "  }\n",
              "\n",
              "  .colab-df-quickchart {\n",
              "    background-color: var(--bg-color);\n",
              "    border: none;\n",
              "    border-radius: 50%;\n",
              "    cursor: pointer;\n",
              "    display: none;\n",
              "    fill: var(--fill-color);\n",
              "    height: 32px;\n",
              "    padding: 0;\n",
              "    width: 32px;\n",
              "  }\n",
              "\n",
              "  .colab-df-quickchart:hover {\n",
              "    background-color: var(--hover-bg-color);\n",
              "    box-shadow: 0 1px 2px rgba(60, 64, 67, 0.3), 0 1px 3px 1px rgba(60, 64, 67, 0.15);\n",
              "    fill: var(--button-hover-fill-color);\n",
              "  }\n",
              "\n",
              "  .colab-df-quickchart-complete:disabled,\n",
              "  .colab-df-quickchart-complete:disabled:hover {\n",
              "    background-color: var(--disabled-bg-color);\n",
              "    fill: var(--disabled-fill-color);\n",
              "    box-shadow: none;\n",
              "  }\n",
              "\n",
              "  .colab-df-spinner {\n",
              "    border: 2px solid var(--fill-color);\n",
              "    border-color: transparent;\n",
              "    border-bottom-color: var(--fill-color);\n",
              "    animation:\n",
              "      spin 1s steps(1) infinite;\n",
              "  }\n",
              "\n",
              "  @keyframes spin {\n",
              "    0% {\n",
              "      border-color: transparent;\n",
              "      border-bottom-color: var(--fill-color);\n",
              "      border-left-color: var(--fill-color);\n",
              "    }\n",
              "    20% {\n",
              "      border-color: transparent;\n",
              "      border-left-color: var(--fill-color);\n",
              "      border-top-color: var(--fill-color);\n",
              "    }\n",
              "    30% {\n",
              "      border-color: transparent;\n",
              "      border-left-color: var(--fill-color);\n",
              "      border-top-color: var(--fill-color);\n",
              "      border-right-color: var(--fill-color);\n",
              "    }\n",
              "    40% {\n",
              "      border-color: transparent;\n",
              "      border-right-color: var(--fill-color);\n",
              "      border-top-color: var(--fill-color);\n",
              "    }\n",
              "    60% {\n",
              "      border-color: transparent;\n",
              "      border-right-color: var(--fill-color);\n",
              "    }\n",
              "    80% {\n",
              "      border-color: transparent;\n",
              "      border-right-color: var(--fill-color);\n",
              "      border-bottom-color: var(--fill-color);\n",
              "    }\n",
              "    90% {\n",
              "      border-color: transparent;\n",
              "      border-bottom-color: var(--fill-color);\n",
              "    }\n",
              "  }\n",
              "</style>\n",
              "\n",
              "  <script>\n",
              "    async function quickchart(key) {\n",
              "      const quickchartButtonEl =\n",
              "        document.querySelector('#' + key + ' button');\n",
              "      quickchartButtonEl.disabled = true;  // To prevent multiple clicks.\n",
              "      quickchartButtonEl.classList.add('colab-df-spinner');\n",
              "      try {\n",
              "        const charts = await google.colab.kernel.invokeFunction(\n",
              "            'suggestCharts', [key], {});\n",
              "      } catch (error) {\n",
              "        console.error('Error during call to suggestCharts:', error);\n",
              "      }\n",
              "      quickchartButtonEl.classList.remove('colab-df-spinner');\n",
              "      quickchartButtonEl.classList.add('colab-df-quickchart-complete');\n",
              "    }\n",
              "    (() => {\n",
              "      let quickchartButtonEl =\n",
              "        document.querySelector('#df-0f36c31d-6360-4088-848a-3bf9c9466fbb button');\n",
              "      quickchartButtonEl.style.display =\n",
              "        google.colab.kernel.accessAllowed ? 'block' : 'none';\n",
              "    })();\n",
              "  </script>\n",
              "</div>\n",
              "    </div>\n",
              "  </div>\n"
            ]
          },
          "metadata": {},
          "execution_count": 182
        }
      ]
    },
    {
      "cell_type": "code",
      "source": [
        "\n",
        "num_filas, num_columnas = BBT1_31.shape\n",
        "\n",
        "# Imprime el número de filas\n",
        "print(f'Número de filas: {num_filas}')"
      ],
      "metadata": {
        "id": "089FxrGFhQ04",
        "colab": {
          "base_uri": "https://localhost:8080/"
        },
        "outputId": "6739445d-1de6-41a4-c6ff-1eceb68b14b6"
      },
      "execution_count": 30,
      "outputs": [
        {
          "output_type": "stream",
          "name": "stdout",
          "text": [
            "Número de filas: 909\n"
          ]
        }
      ]
    },
    {
      "cell_type": "markdown",
      "source": [
        "## BBT1-29 Filtrar datos, reducir volumen de orders y orders_items"
      ],
      "metadata": {
        "id": "5QOdEJcHm9It"
      }
    },
    {
      "cell_type": "markdown",
      "source": [
        "**Descripción**\n",
        "\n",
        "COMO: desarrollador\n",
        "\n",
        "QUIERO: Filtrar el DataFrame de órdenes e ítems de órdenes para resguardar los 3 items de mayor importe de compra.\n",
        "\n",
        "PARA: Reducir el volumen de datos y trabajar solo con los ítems que mas ingreso generan."
      ],
      "metadata": {
        "id": "0Om-GeqmnGp7"
      }
    },
    {
      "cell_type": "code",
      "source": [
        "# Renombrar la columna 'index' a 'orders_items_index' en el DataFrame\n",
        "df_orders_ordersitems.rename(columns={'index': 'orders_items_index'}, inplace=True)\n",
        "df_orders_ordersitems.to_sql('orders_items', conn, if_exists='replace', index=False)"
      ],
      "metadata": {
        "colab": {
          "base_uri": "https://localhost:8080/"
        },
        "id": "rWoMVoKpbSq1",
        "outputId": "7f5cb51b-1f0d-4a91-f449-4378f67c4918"
      },
      "execution_count": 31,
      "outputs": [
        {
          "output_type": "execute_result",
          "data": {
            "text/plain": [
              "112650"
            ]
          },
          "metadata": {},
          "execution_count": 31
        }
      ]
    },
    {
      "cell_type": "code",
      "source": [
        "BBT1_29 = '''\n",
        "WITH TopItems AS (\n",
        "  SELECT\n",
        "    oi.order_id,\n",
        "    oi.order_item_id,\n",
        "    oi.product_id,\n",
        "    oi.seller_id,\n",
        "    oi.shipping_limit_date,\n",
        "    oi.price,\n",
        "    oi.freight_value,\n",
        "    ROW_NUMBER() OVER (PARTITION BY oi.order_id ORDER BY oi.price DESC) AS row_num\n",
        "  FROM orders_items AS oi\n",
        ")\n",
        "SELECT\n",
        "  o.customer_id,\n",
        "  o.order_status,\n",
        "  o.order_purchase_timestamp,\n",
        "  o.order_approved_at,\n",
        "  o.order_delivered_carrier_date,\n",
        "  o.order_delivered_customer_date,\n",
        "  o.order_estimated_delivery_date,\n",
        "  ti.order_id,\n",
        "  ti.order_item_id,\n",
        "  ti.product_id,\n",
        "  ti.seller_id,\n",
        "  ti.shipping_limit_date,\n",
        "  ti.price,\n",
        "  ti.freight_value\n",
        "FROM TopItems AS ti\n",
        "JOIN orders AS o ON ti.order_id = o.order_id\n",
        "WHERE ti.row_num <= 3\n",
        "ORDER BY ti.price DESC;\n",
        "\n",
        "'''\n",
        "bt_29 = pd.read_sql_query(BBT1_29, conn)\n",
        "bt_29.head(5)\n"
      ],
      "metadata": {
        "id": "-EnQA9oASgrI",
        "colab": {
          "base_uri": "https://localhost:8080/",
          "height": 0
        },
        "outputId": "3b327d81-4c1b-474e-e220-a3b625ea6291"
      },
      "execution_count": 32,
      "outputs": [
        {
          "output_type": "execute_result",
          "data": {
            "text/plain": [
              "                        customer_id order_status order_purchase_timestamp  \\\n",
              "0  c6e2731c5b391845f6800c97401a43a9    delivered      2017-02-12 20:37:36   \n",
              "1  f48d464a0baaea338cb25f816991ab1f    delivered      2018-07-25 18:10:17   \n",
              "2  3fd6777bbce08a352fddd04e4a7cc8f6    delivered      2017-05-24 18:14:34   \n",
              "3  df55c14d1476a9a3467f131269c2477f    delivered      2017-04-01 15:58:40   \n",
              "4  24bbf5fd2f2e1b359ee7de94defc4a15    delivered      2017-04-18 18:50:13   \n",
              "\n",
              "     order_approved_at order_delivered_carrier_date  \\\n",
              "0  2017-02-12 20:45:12          2017-02-16 09:23:13   \n",
              "1  2018-07-27 04:05:13          2018-08-03 14:42:00   \n",
              "2  2017-05-26 02:45:17          2017-05-26 11:20:47   \n",
              "3  2017-04-03 13:25:18          2017-04-11 15:10:34   \n",
              "4  2017-04-19 15:50:15          2017-04-25 13:39:59   \n",
              "\n",
              "  order_delivered_customer_date order_estimated_delivery_date  \\\n",
              "0           2017-03-03 14:23:18           2017-03-09 00:00:00   \n",
              "1           2018-08-15 14:57:50           2018-08-10 00:00:00   \n",
              "2           2017-06-05 17:09:48           2017-06-28 00:00:00   \n",
              "3           2017-04-17 11:04:45           2017-05-02 00:00:00   \n",
              "4           2017-05-07 10:42:39           2017-05-15 00:00:00   \n",
              "\n",
              "                           order_id  order_item_id  \\\n",
              "0  0812eb902a67711a1cb742b3cdaa65ae              1   \n",
              "1  fefacc66af859508bf1a7934eab1e97f              1   \n",
              "2  f5136e38d1a14a4dbd87dff67da82701              1   \n",
              "3  a96610ab360d42a2e5335a3998b4718a              1   \n",
              "4  199af31afc78c699f0dbf71fb178d4d4              1   \n",
              "\n",
              "                         product_id                         seller_id  \\\n",
              "0  489ae2aa008f021502940f251d4cce7f  e3b4998c7a498169dc7bce44e6bb6277   \n",
              "1  69c590f7ffc7bf8db97190b6cb6ed62e  80ceebb4ee9b31afb6c6a916a574a1e2   \n",
              "2  1bdf5e6731585cf01aa8169c7028d6ad  ee27a8f15b1dded4d213a468ba4eb391   \n",
              "3  a6492cc69376c469ab6f61d8f44de961  59417c56835dd8e2e72f91f809cd4092   \n",
              "4  c3ed642d592594bb648ff4a04cee2747  59417c56835dd8e2e72f91f809cd4092   \n",
              "\n",
              "   shipping_limit_date   price  freight_value  \n",
              "0  2017-02-16 20:37:36  6735.0         194.31  \n",
              "1  2018-08-02 04:05:13  6729.0         193.21  \n",
              "2  2017-06-15 02:45:17  6499.0         227.66  \n",
              "3  2017-04-18 13:25:18  4799.0         151.34  \n",
              "4  2017-05-09 15:50:15  4690.0          74.34  "
            ],
            "text/html": [
              "\n",
              "  <div id=\"df-18f79f86-6c3f-40bb-836b-94e842a65745\" class=\"colab-df-container\">\n",
              "    <div>\n",
              "<style scoped>\n",
              "    .dataframe tbody tr th:only-of-type {\n",
              "        vertical-align: middle;\n",
              "    }\n",
              "\n",
              "    .dataframe tbody tr th {\n",
              "        vertical-align: top;\n",
              "    }\n",
              "\n",
              "    .dataframe thead th {\n",
              "        text-align: right;\n",
              "    }\n",
              "</style>\n",
              "<table border=\"1\" class=\"dataframe\">\n",
              "  <thead>\n",
              "    <tr style=\"text-align: right;\">\n",
              "      <th></th>\n",
              "      <th>customer_id</th>\n",
              "      <th>order_status</th>\n",
              "      <th>order_purchase_timestamp</th>\n",
              "      <th>order_approved_at</th>\n",
              "      <th>order_delivered_carrier_date</th>\n",
              "      <th>order_delivered_customer_date</th>\n",
              "      <th>order_estimated_delivery_date</th>\n",
              "      <th>order_id</th>\n",
              "      <th>order_item_id</th>\n",
              "      <th>product_id</th>\n",
              "      <th>seller_id</th>\n",
              "      <th>shipping_limit_date</th>\n",
              "      <th>price</th>\n",
              "      <th>freight_value</th>\n",
              "    </tr>\n",
              "  </thead>\n",
              "  <tbody>\n",
              "    <tr>\n",
              "      <th>0</th>\n",
              "      <td>c6e2731c5b391845f6800c97401a43a9</td>\n",
              "      <td>delivered</td>\n",
              "      <td>2017-02-12 20:37:36</td>\n",
              "      <td>2017-02-12 20:45:12</td>\n",
              "      <td>2017-02-16 09:23:13</td>\n",
              "      <td>2017-03-03 14:23:18</td>\n",
              "      <td>2017-03-09 00:00:00</td>\n",
              "      <td>0812eb902a67711a1cb742b3cdaa65ae</td>\n",
              "      <td>1</td>\n",
              "      <td>489ae2aa008f021502940f251d4cce7f</td>\n",
              "      <td>e3b4998c7a498169dc7bce44e6bb6277</td>\n",
              "      <td>2017-02-16 20:37:36</td>\n",
              "      <td>6735.0</td>\n",
              "      <td>194.31</td>\n",
              "    </tr>\n",
              "    <tr>\n",
              "      <th>1</th>\n",
              "      <td>f48d464a0baaea338cb25f816991ab1f</td>\n",
              "      <td>delivered</td>\n",
              "      <td>2018-07-25 18:10:17</td>\n",
              "      <td>2018-07-27 04:05:13</td>\n",
              "      <td>2018-08-03 14:42:00</td>\n",
              "      <td>2018-08-15 14:57:50</td>\n",
              "      <td>2018-08-10 00:00:00</td>\n",
              "      <td>fefacc66af859508bf1a7934eab1e97f</td>\n",
              "      <td>1</td>\n",
              "      <td>69c590f7ffc7bf8db97190b6cb6ed62e</td>\n",
              "      <td>80ceebb4ee9b31afb6c6a916a574a1e2</td>\n",
              "      <td>2018-08-02 04:05:13</td>\n",
              "      <td>6729.0</td>\n",
              "      <td>193.21</td>\n",
              "    </tr>\n",
              "    <tr>\n",
              "      <th>2</th>\n",
              "      <td>3fd6777bbce08a352fddd04e4a7cc8f6</td>\n",
              "      <td>delivered</td>\n",
              "      <td>2017-05-24 18:14:34</td>\n",
              "      <td>2017-05-26 02:45:17</td>\n",
              "      <td>2017-05-26 11:20:47</td>\n",
              "      <td>2017-06-05 17:09:48</td>\n",
              "      <td>2017-06-28 00:00:00</td>\n",
              "      <td>f5136e38d1a14a4dbd87dff67da82701</td>\n",
              "      <td>1</td>\n",
              "      <td>1bdf5e6731585cf01aa8169c7028d6ad</td>\n",
              "      <td>ee27a8f15b1dded4d213a468ba4eb391</td>\n",
              "      <td>2017-06-15 02:45:17</td>\n",
              "      <td>6499.0</td>\n",
              "      <td>227.66</td>\n",
              "    </tr>\n",
              "    <tr>\n",
              "      <th>3</th>\n",
              "      <td>df55c14d1476a9a3467f131269c2477f</td>\n",
              "      <td>delivered</td>\n",
              "      <td>2017-04-01 15:58:40</td>\n",
              "      <td>2017-04-03 13:25:18</td>\n",
              "      <td>2017-04-11 15:10:34</td>\n",
              "      <td>2017-04-17 11:04:45</td>\n",
              "      <td>2017-05-02 00:00:00</td>\n",
              "      <td>a96610ab360d42a2e5335a3998b4718a</td>\n",
              "      <td>1</td>\n",
              "      <td>a6492cc69376c469ab6f61d8f44de961</td>\n",
              "      <td>59417c56835dd8e2e72f91f809cd4092</td>\n",
              "      <td>2017-04-18 13:25:18</td>\n",
              "      <td>4799.0</td>\n",
              "      <td>151.34</td>\n",
              "    </tr>\n",
              "    <tr>\n",
              "      <th>4</th>\n",
              "      <td>24bbf5fd2f2e1b359ee7de94defc4a15</td>\n",
              "      <td>delivered</td>\n",
              "      <td>2017-04-18 18:50:13</td>\n",
              "      <td>2017-04-19 15:50:15</td>\n",
              "      <td>2017-04-25 13:39:59</td>\n",
              "      <td>2017-05-07 10:42:39</td>\n",
              "      <td>2017-05-15 00:00:00</td>\n",
              "      <td>199af31afc78c699f0dbf71fb178d4d4</td>\n",
              "      <td>1</td>\n",
              "      <td>c3ed642d592594bb648ff4a04cee2747</td>\n",
              "      <td>59417c56835dd8e2e72f91f809cd4092</td>\n",
              "      <td>2017-05-09 15:50:15</td>\n",
              "      <td>4690.0</td>\n",
              "      <td>74.34</td>\n",
              "    </tr>\n",
              "  </tbody>\n",
              "</table>\n",
              "</div>\n",
              "    <div class=\"colab-df-buttons\">\n",
              "\n",
              "  <div class=\"colab-df-container\">\n",
              "    <button class=\"colab-df-convert\" onclick=\"convertToInteractive('df-18f79f86-6c3f-40bb-836b-94e842a65745')\"\n",
              "            title=\"Convert this dataframe to an interactive table.\"\n",
              "            style=\"display:none;\">\n",
              "\n",
              "  <svg xmlns=\"http://www.w3.org/2000/svg\" height=\"24px\" viewBox=\"0 -960 960 960\">\n",
              "    <path d=\"M120-120v-720h720v720H120Zm60-500h600v-160H180v160Zm220 220h160v-160H400v160Zm0 220h160v-160H400v160ZM180-400h160v-160H180v160Zm440 0h160v-160H620v160ZM180-180h160v-160H180v160Zm440 0h160v-160H620v160Z\"/>\n",
              "  </svg>\n",
              "    </button>\n",
              "\n",
              "  <style>\n",
              "    .colab-df-container {\n",
              "      display:flex;\n",
              "      gap: 12px;\n",
              "    }\n",
              "\n",
              "    .colab-df-convert {\n",
              "      background-color: #E8F0FE;\n",
              "      border: none;\n",
              "      border-radius: 50%;\n",
              "      cursor: pointer;\n",
              "      display: none;\n",
              "      fill: #1967D2;\n",
              "      height: 32px;\n",
              "      padding: 0 0 0 0;\n",
              "      width: 32px;\n",
              "    }\n",
              "\n",
              "    .colab-df-convert:hover {\n",
              "      background-color: #E2EBFA;\n",
              "      box-shadow: 0px 1px 2px rgba(60, 64, 67, 0.3), 0px 1px 3px 1px rgba(60, 64, 67, 0.15);\n",
              "      fill: #174EA6;\n",
              "    }\n",
              "\n",
              "    .colab-df-buttons div {\n",
              "      margin-bottom: 4px;\n",
              "    }\n",
              "\n",
              "    [theme=dark] .colab-df-convert {\n",
              "      background-color: #3B4455;\n",
              "      fill: #D2E3FC;\n",
              "    }\n",
              "\n",
              "    [theme=dark] .colab-df-convert:hover {\n",
              "      background-color: #434B5C;\n",
              "      box-shadow: 0px 1px 3px 1px rgba(0, 0, 0, 0.15);\n",
              "      filter: drop-shadow(0px 1px 2px rgba(0, 0, 0, 0.3));\n",
              "      fill: #FFFFFF;\n",
              "    }\n",
              "  </style>\n",
              "\n",
              "    <script>\n",
              "      const buttonEl =\n",
              "        document.querySelector('#df-18f79f86-6c3f-40bb-836b-94e842a65745 button.colab-df-convert');\n",
              "      buttonEl.style.display =\n",
              "        google.colab.kernel.accessAllowed ? 'block' : 'none';\n",
              "\n",
              "      async function convertToInteractive(key) {\n",
              "        const element = document.querySelector('#df-18f79f86-6c3f-40bb-836b-94e842a65745');\n",
              "        const dataTable =\n",
              "          await google.colab.kernel.invokeFunction('convertToInteractive',\n",
              "                                                    [key], {});\n",
              "        if (!dataTable) return;\n",
              "\n",
              "        const docLinkHtml = 'Like what you see? Visit the ' +\n",
              "          '<a target=\"_blank\" href=https://colab.research.google.com/notebooks/data_table.ipynb>data table notebook</a>'\n",
              "          + ' to learn more about interactive tables.';\n",
              "        element.innerHTML = '';\n",
              "        dataTable['output_type'] = 'display_data';\n",
              "        await google.colab.output.renderOutput(dataTable, element);\n",
              "        const docLink = document.createElement('div');\n",
              "        docLink.innerHTML = docLinkHtml;\n",
              "        element.appendChild(docLink);\n",
              "      }\n",
              "    </script>\n",
              "  </div>\n",
              "\n",
              "\n",
              "<div id=\"df-c2225413-7a3a-47da-b0d3-f6fdd051874b\">\n",
              "  <button class=\"colab-df-quickchart\" onclick=\"quickchart('df-c2225413-7a3a-47da-b0d3-f6fdd051874b')\"\n",
              "            title=\"Suggest charts.\"\n",
              "            style=\"display:none;\">\n",
              "\n",
              "<svg xmlns=\"http://www.w3.org/2000/svg\" height=\"24px\"viewBox=\"0 0 24 24\"\n",
              "     width=\"24px\">\n",
              "    <g>\n",
              "        <path d=\"M19 3H5c-1.1 0-2 .9-2 2v14c0 1.1.9 2 2 2h14c1.1 0 2-.9 2-2V5c0-1.1-.9-2-2-2zM9 17H7v-7h2v7zm4 0h-2V7h2v10zm4 0h-2v-4h2v4z\"/>\n",
              "    </g>\n",
              "</svg>\n",
              "  </button>\n",
              "\n",
              "<style>\n",
              "  .colab-df-quickchart {\n",
              "      --bg-color: #E8F0FE;\n",
              "      --fill-color: #1967D2;\n",
              "      --hover-bg-color: #E2EBFA;\n",
              "      --hover-fill-color: #174EA6;\n",
              "      --disabled-fill-color: #AAA;\n",
              "      --disabled-bg-color: #DDD;\n",
              "  }\n",
              "\n",
              "  [theme=dark] .colab-df-quickchart {\n",
              "      --bg-color: #3B4455;\n",
              "      --fill-color: #D2E3FC;\n",
              "      --hover-bg-color: #434B5C;\n",
              "      --hover-fill-color: #FFFFFF;\n",
              "      --disabled-bg-color: #3B4455;\n",
              "      --disabled-fill-color: #666;\n",
              "  }\n",
              "\n",
              "  .colab-df-quickchart {\n",
              "    background-color: var(--bg-color);\n",
              "    border: none;\n",
              "    border-radius: 50%;\n",
              "    cursor: pointer;\n",
              "    display: none;\n",
              "    fill: var(--fill-color);\n",
              "    height: 32px;\n",
              "    padding: 0;\n",
              "    width: 32px;\n",
              "  }\n",
              "\n",
              "  .colab-df-quickchart:hover {\n",
              "    background-color: var(--hover-bg-color);\n",
              "    box-shadow: 0 1px 2px rgba(60, 64, 67, 0.3), 0 1px 3px 1px rgba(60, 64, 67, 0.15);\n",
              "    fill: var(--button-hover-fill-color);\n",
              "  }\n",
              "\n",
              "  .colab-df-quickchart-complete:disabled,\n",
              "  .colab-df-quickchart-complete:disabled:hover {\n",
              "    background-color: var(--disabled-bg-color);\n",
              "    fill: var(--disabled-fill-color);\n",
              "    box-shadow: none;\n",
              "  }\n",
              "\n",
              "  .colab-df-spinner {\n",
              "    border: 2px solid var(--fill-color);\n",
              "    border-color: transparent;\n",
              "    border-bottom-color: var(--fill-color);\n",
              "    animation:\n",
              "      spin 1s steps(1) infinite;\n",
              "  }\n",
              "\n",
              "  @keyframes spin {\n",
              "    0% {\n",
              "      border-color: transparent;\n",
              "      border-bottom-color: var(--fill-color);\n",
              "      border-left-color: var(--fill-color);\n",
              "    }\n",
              "    20% {\n",
              "      border-color: transparent;\n",
              "      border-left-color: var(--fill-color);\n",
              "      border-top-color: var(--fill-color);\n",
              "    }\n",
              "    30% {\n",
              "      border-color: transparent;\n",
              "      border-left-color: var(--fill-color);\n",
              "      border-top-color: var(--fill-color);\n",
              "      border-right-color: var(--fill-color);\n",
              "    }\n",
              "    40% {\n",
              "      border-color: transparent;\n",
              "      border-right-color: var(--fill-color);\n",
              "      border-top-color: var(--fill-color);\n",
              "    }\n",
              "    60% {\n",
              "      border-color: transparent;\n",
              "      border-right-color: var(--fill-color);\n",
              "    }\n",
              "    80% {\n",
              "      border-color: transparent;\n",
              "      border-right-color: var(--fill-color);\n",
              "      border-bottom-color: var(--fill-color);\n",
              "    }\n",
              "    90% {\n",
              "      border-color: transparent;\n",
              "      border-bottom-color: var(--fill-color);\n",
              "    }\n",
              "  }\n",
              "</style>\n",
              "\n",
              "  <script>\n",
              "    async function quickchart(key) {\n",
              "      const quickchartButtonEl =\n",
              "        document.querySelector('#' + key + ' button');\n",
              "      quickchartButtonEl.disabled = true;  // To prevent multiple clicks.\n",
              "      quickchartButtonEl.classList.add('colab-df-spinner');\n",
              "      try {\n",
              "        const charts = await google.colab.kernel.invokeFunction(\n",
              "            'suggestCharts', [key], {});\n",
              "      } catch (error) {\n",
              "        console.error('Error during call to suggestCharts:', error);\n",
              "      }\n",
              "      quickchartButtonEl.classList.remove('colab-df-spinner');\n",
              "      quickchartButtonEl.classList.add('colab-df-quickchart-complete');\n",
              "    }\n",
              "    (() => {\n",
              "      let quickchartButtonEl =\n",
              "        document.querySelector('#df-c2225413-7a3a-47da-b0d3-f6fdd051874b button');\n",
              "      quickchartButtonEl.style.display =\n",
              "        google.colab.kernel.accessAllowed ? 'block' : 'none';\n",
              "    })();\n",
              "  </script>\n",
              "</div>\n",
              "    </div>\n",
              "  </div>\n"
            ]
          },
          "metadata": {},
          "execution_count": 32
        }
      ]
    },
    {
      "cell_type": "code",
      "source": [
        "resultados = bt_29[bt_29['order_id'] == '199af31afc78c699f0dbf71fb178d4d4']\n",
        "resultados"
      ],
      "metadata": {
        "colab": {
          "base_uri": "https://localhost:8080/",
          "height": 0
        },
        "id": "DV3F8PF3nMjy",
        "outputId": "9a4c3edd-e22d-4ea4-d17c-e9ae6858669d"
      },
      "execution_count": 33,
      "outputs": [
        {
          "output_type": "execute_result",
          "data": {
            "text/plain": [
              "                        customer_id order_status order_purchase_timestamp  \\\n",
              "4  24bbf5fd2f2e1b359ee7de94defc4a15    delivered      2017-04-18 18:50:13   \n",
              "\n",
              "     order_approved_at order_delivered_carrier_date  \\\n",
              "4  2017-04-19 15:50:15          2017-04-25 13:39:59   \n",
              "\n",
              "  order_delivered_customer_date order_estimated_delivery_date  \\\n",
              "4           2017-05-07 10:42:39           2017-05-15 00:00:00   \n",
              "\n",
              "                           order_id  order_item_id  \\\n",
              "4  199af31afc78c699f0dbf71fb178d4d4              1   \n",
              "\n",
              "                         product_id                         seller_id  \\\n",
              "4  c3ed642d592594bb648ff4a04cee2747  59417c56835dd8e2e72f91f809cd4092   \n",
              "\n",
              "   shipping_limit_date   price  freight_value  \n",
              "4  2017-05-09 15:50:15  4690.0          74.34  "
            ],
            "text/html": [
              "\n",
              "  <div id=\"df-27955297-2b5c-4afc-aed7-572197af8db8\" class=\"colab-df-container\">\n",
              "    <div>\n",
              "<style scoped>\n",
              "    .dataframe tbody tr th:only-of-type {\n",
              "        vertical-align: middle;\n",
              "    }\n",
              "\n",
              "    .dataframe tbody tr th {\n",
              "        vertical-align: top;\n",
              "    }\n",
              "\n",
              "    .dataframe thead th {\n",
              "        text-align: right;\n",
              "    }\n",
              "</style>\n",
              "<table border=\"1\" class=\"dataframe\">\n",
              "  <thead>\n",
              "    <tr style=\"text-align: right;\">\n",
              "      <th></th>\n",
              "      <th>customer_id</th>\n",
              "      <th>order_status</th>\n",
              "      <th>order_purchase_timestamp</th>\n",
              "      <th>order_approved_at</th>\n",
              "      <th>order_delivered_carrier_date</th>\n",
              "      <th>order_delivered_customer_date</th>\n",
              "      <th>order_estimated_delivery_date</th>\n",
              "      <th>order_id</th>\n",
              "      <th>order_item_id</th>\n",
              "      <th>product_id</th>\n",
              "      <th>seller_id</th>\n",
              "      <th>shipping_limit_date</th>\n",
              "      <th>price</th>\n",
              "      <th>freight_value</th>\n",
              "    </tr>\n",
              "  </thead>\n",
              "  <tbody>\n",
              "    <tr>\n",
              "      <th>4</th>\n",
              "      <td>24bbf5fd2f2e1b359ee7de94defc4a15</td>\n",
              "      <td>delivered</td>\n",
              "      <td>2017-04-18 18:50:13</td>\n",
              "      <td>2017-04-19 15:50:15</td>\n",
              "      <td>2017-04-25 13:39:59</td>\n",
              "      <td>2017-05-07 10:42:39</td>\n",
              "      <td>2017-05-15 00:00:00</td>\n",
              "      <td>199af31afc78c699f0dbf71fb178d4d4</td>\n",
              "      <td>1</td>\n",
              "      <td>c3ed642d592594bb648ff4a04cee2747</td>\n",
              "      <td>59417c56835dd8e2e72f91f809cd4092</td>\n",
              "      <td>2017-05-09 15:50:15</td>\n",
              "      <td>4690.0</td>\n",
              "      <td>74.34</td>\n",
              "    </tr>\n",
              "  </tbody>\n",
              "</table>\n",
              "</div>\n",
              "    <div class=\"colab-df-buttons\">\n",
              "\n",
              "  <div class=\"colab-df-container\">\n",
              "    <button class=\"colab-df-convert\" onclick=\"convertToInteractive('df-27955297-2b5c-4afc-aed7-572197af8db8')\"\n",
              "            title=\"Convert this dataframe to an interactive table.\"\n",
              "            style=\"display:none;\">\n",
              "\n",
              "  <svg xmlns=\"http://www.w3.org/2000/svg\" height=\"24px\" viewBox=\"0 -960 960 960\">\n",
              "    <path d=\"M120-120v-720h720v720H120Zm60-500h600v-160H180v160Zm220 220h160v-160H400v160Zm0 220h160v-160H400v160ZM180-400h160v-160H180v160Zm440 0h160v-160H620v160ZM180-180h160v-160H180v160Zm440 0h160v-160H620v160Z\"/>\n",
              "  </svg>\n",
              "    </button>\n",
              "\n",
              "  <style>\n",
              "    .colab-df-container {\n",
              "      display:flex;\n",
              "      gap: 12px;\n",
              "    }\n",
              "\n",
              "    .colab-df-convert {\n",
              "      background-color: #E8F0FE;\n",
              "      border: none;\n",
              "      border-radius: 50%;\n",
              "      cursor: pointer;\n",
              "      display: none;\n",
              "      fill: #1967D2;\n",
              "      height: 32px;\n",
              "      padding: 0 0 0 0;\n",
              "      width: 32px;\n",
              "    }\n",
              "\n",
              "    .colab-df-convert:hover {\n",
              "      background-color: #E2EBFA;\n",
              "      box-shadow: 0px 1px 2px rgba(60, 64, 67, 0.3), 0px 1px 3px 1px rgba(60, 64, 67, 0.15);\n",
              "      fill: #174EA6;\n",
              "    }\n",
              "\n",
              "    .colab-df-buttons div {\n",
              "      margin-bottom: 4px;\n",
              "    }\n",
              "\n",
              "    [theme=dark] .colab-df-convert {\n",
              "      background-color: #3B4455;\n",
              "      fill: #D2E3FC;\n",
              "    }\n",
              "\n",
              "    [theme=dark] .colab-df-convert:hover {\n",
              "      background-color: #434B5C;\n",
              "      box-shadow: 0px 1px 3px 1px rgba(0, 0, 0, 0.15);\n",
              "      filter: drop-shadow(0px 1px 2px rgba(0, 0, 0, 0.3));\n",
              "      fill: #FFFFFF;\n",
              "    }\n",
              "  </style>\n",
              "\n",
              "    <script>\n",
              "      const buttonEl =\n",
              "        document.querySelector('#df-27955297-2b5c-4afc-aed7-572197af8db8 button.colab-df-convert');\n",
              "      buttonEl.style.display =\n",
              "        google.colab.kernel.accessAllowed ? 'block' : 'none';\n",
              "\n",
              "      async function convertToInteractive(key) {\n",
              "        const element = document.querySelector('#df-27955297-2b5c-4afc-aed7-572197af8db8');\n",
              "        const dataTable =\n",
              "          await google.colab.kernel.invokeFunction('convertToInteractive',\n",
              "                                                    [key], {});\n",
              "        if (!dataTable) return;\n",
              "\n",
              "        const docLinkHtml = 'Like what you see? Visit the ' +\n",
              "          '<a target=\"_blank\" href=https://colab.research.google.com/notebooks/data_table.ipynb>data table notebook</a>'\n",
              "          + ' to learn more about interactive tables.';\n",
              "        element.innerHTML = '';\n",
              "        dataTable['output_type'] = 'display_data';\n",
              "        await google.colab.output.renderOutput(dataTable, element);\n",
              "        const docLink = document.createElement('div');\n",
              "        docLink.innerHTML = docLinkHtml;\n",
              "        element.appendChild(docLink);\n",
              "      }\n",
              "    </script>\n",
              "  </div>\n",
              "\n",
              "    </div>\n",
              "  </div>\n"
            ]
          },
          "metadata": {},
          "execution_count": 33
        }
      ]
    },
    {
      "cell_type": "markdown",
      "source": [
        "## BBT1- 30 Filtrar datos, reducir volumen de orders_items y sellers"
      ],
      "metadata": {
        "id": "q96K3ZO5oVyG"
      }
    },
    {
      "cell_type": "markdown",
      "source": [
        "**Descripción**\n",
        "\n",
        "COMO: desarrollador\n",
        "\n",
        "QUIERO: Filtrar el DataFrame de los vendedores e ítems para resguardar los 3 ítems de mayor importe.\n",
        "  \n",
        "PARA: Reducir el volumen de datos y trabajar solo con los ítems que mayor ingreso generan por vendedor."
      ],
      "metadata": {
        "id": "ky31yVDHofeB"
      }
    },
    {
      "cell_type": "code",
      "source": [
        "# Renombrar la columna 'index' a 'orders_items_index' en el DataFrame\n",
        "df_orderitems_sellers.rename(columns={'index': 'orderitems_sellers_index'}, inplace=True)\n",
        "df_orderitems_sellers.to_sql('orderitems_sellers', conn, if_exists='replace', index=False)"
      ],
      "metadata": {
        "colab": {
          "base_uri": "https://localhost:8080/"
        },
        "id": "-j9AtwTYoenR",
        "outputId": "ac74ce4d-0c94-4b03-ab38-71408e6f519e"
      },
      "execution_count": 34,
      "outputs": [
        {
          "output_type": "execute_result",
          "data": {
            "text/plain": [
              "112650"
            ]
          },
          "metadata": {},
          "execution_count": 34
        }
      ]
    },
    {
      "cell_type": "code",
      "source": [
        "BBT1_30= '''\n",
        "WITH TopItemsPerSeller AS (\n",
        "  SELECT\n",
        "    s.seller_id,\n",
        "    oi.order_item_id,\n",
        "    oi.product_id,\n",
        "    oi.shipping_limit_date,\n",
        "    oi.price,\n",
        "    oi.freight_value,\n",
        "    ROW_NUMBER() OVER (PARTITION BY s.seller_id ORDER BY oi.price DESC) AS row_num\n",
        "  FROM order_items AS oi\n",
        "  JOIN sellers AS s ON oi.seller_id = s.seller_id\n",
        ")\n",
        "SELECT\n",
        "  ti.seller_id,\n",
        "--  oi.order_id,\n",
        "  ti.order_item_id,\n",
        "  ti.product_id,\n",
        "  ti.shipping_limit_date,\n",
        "  ti.price,\n",
        "  ti.freight_value,\n",
        "  s.seller_zip_code_prefix,\n",
        "  s.seller_city,\n",
        "  s.seller_state\n",
        "FROM TopItemsPerSeller AS ti\n",
        "--JOIN orderitems_sellers AS oi ON ti.order_item_id = oi.order_item_id\n",
        "JOIN sellers AS s ON ti.seller_id = s.seller_id\n",
        "WHERE ti.row_num <= 3\n",
        "ORDER BY ti.seller_id, ti.price DESC;\n",
        "\n",
        "'''\n",
        "query_30 = pd.read_sql_query(BBT1_30, conn)\n",
        "query_30.head(5)"
      ],
      "metadata": {
        "id": "ZtHVWccCpvXc",
        "colab": {
          "base_uri": "https://localhost:8080/",
          "height": 0
        },
        "outputId": "12d09549-a18b-40b7-8327-638e1d4f728f"
      },
      "execution_count": 35,
      "outputs": [
        {
          "output_type": "execute_result",
          "data": {
            "text/plain": [
              "                          seller_id  order_item_id  \\\n",
              "0  0015a82c2db000af6aaaf3ae2ecb0532              1   \n",
              "1  0015a82c2db000af6aaaf3ae2ecb0532              1   \n",
              "2  0015a82c2db000af6aaaf3ae2ecb0532              1   \n",
              "3  001cca7ae9ae17fb1caed9dfb1094831              1   \n",
              "4  001cca7ae9ae17fb1caed9dfb1094831              1   \n",
              "\n",
              "                         product_id  shipping_limit_date  price  \\\n",
              "0  a2ff5a97bf95719e38ea2e3b4105bce8  2017-10-12 22:24:16  895.0   \n",
              "1  a2ff5a97bf95719e38ea2e3b4105bce8  2017-10-18 14:49:22  895.0   \n",
              "2  a2ff5a97bf95719e38ea2e3b4105bce8  2017-10-24 23:56:20  895.0   \n",
              "3  e251ebd2858be1aa7d9b2087a6992580  2017-05-05 15:10:21  199.0   \n",
              "4  98a8c2fa16d7239c606640f5555768e4  2018-04-17 11:10:23  169.0   \n",
              "\n",
              "   freight_value  seller_zip_code_prefix  seller_city seller_state  \n",
              "0          21.02                    9080  santo andre           SP  \n",
              "1          21.02                    9080  santo andre           SP  \n",
              "2          21.02                    9080  santo andre           SP  \n",
              "3          17.09                   29156    cariacica           ES  \n",
              "4         114.62                   29156    cariacica           ES  "
            ],
            "text/html": [
              "\n",
              "  <div id=\"df-f987276f-4361-4a76-b2e3-daedb4b007ad\" class=\"colab-df-container\">\n",
              "    <div>\n",
              "<style scoped>\n",
              "    .dataframe tbody tr th:only-of-type {\n",
              "        vertical-align: middle;\n",
              "    }\n",
              "\n",
              "    .dataframe tbody tr th {\n",
              "        vertical-align: top;\n",
              "    }\n",
              "\n",
              "    .dataframe thead th {\n",
              "        text-align: right;\n",
              "    }\n",
              "</style>\n",
              "<table border=\"1\" class=\"dataframe\">\n",
              "  <thead>\n",
              "    <tr style=\"text-align: right;\">\n",
              "      <th></th>\n",
              "      <th>seller_id</th>\n",
              "      <th>order_item_id</th>\n",
              "      <th>product_id</th>\n",
              "      <th>shipping_limit_date</th>\n",
              "      <th>price</th>\n",
              "      <th>freight_value</th>\n",
              "      <th>seller_zip_code_prefix</th>\n",
              "      <th>seller_city</th>\n",
              "      <th>seller_state</th>\n",
              "    </tr>\n",
              "  </thead>\n",
              "  <tbody>\n",
              "    <tr>\n",
              "      <th>0</th>\n",
              "      <td>0015a82c2db000af6aaaf3ae2ecb0532</td>\n",
              "      <td>1</td>\n",
              "      <td>a2ff5a97bf95719e38ea2e3b4105bce8</td>\n",
              "      <td>2017-10-12 22:24:16</td>\n",
              "      <td>895.0</td>\n",
              "      <td>21.02</td>\n",
              "      <td>9080</td>\n",
              "      <td>santo andre</td>\n",
              "      <td>SP</td>\n",
              "    </tr>\n",
              "    <tr>\n",
              "      <th>1</th>\n",
              "      <td>0015a82c2db000af6aaaf3ae2ecb0532</td>\n",
              "      <td>1</td>\n",
              "      <td>a2ff5a97bf95719e38ea2e3b4105bce8</td>\n",
              "      <td>2017-10-18 14:49:22</td>\n",
              "      <td>895.0</td>\n",
              "      <td>21.02</td>\n",
              "      <td>9080</td>\n",
              "      <td>santo andre</td>\n",
              "      <td>SP</td>\n",
              "    </tr>\n",
              "    <tr>\n",
              "      <th>2</th>\n",
              "      <td>0015a82c2db000af6aaaf3ae2ecb0532</td>\n",
              "      <td>1</td>\n",
              "      <td>a2ff5a97bf95719e38ea2e3b4105bce8</td>\n",
              "      <td>2017-10-24 23:56:20</td>\n",
              "      <td>895.0</td>\n",
              "      <td>21.02</td>\n",
              "      <td>9080</td>\n",
              "      <td>santo andre</td>\n",
              "      <td>SP</td>\n",
              "    </tr>\n",
              "    <tr>\n",
              "      <th>3</th>\n",
              "      <td>001cca7ae9ae17fb1caed9dfb1094831</td>\n",
              "      <td>1</td>\n",
              "      <td>e251ebd2858be1aa7d9b2087a6992580</td>\n",
              "      <td>2017-05-05 15:10:21</td>\n",
              "      <td>199.0</td>\n",
              "      <td>17.09</td>\n",
              "      <td>29156</td>\n",
              "      <td>cariacica</td>\n",
              "      <td>ES</td>\n",
              "    </tr>\n",
              "    <tr>\n",
              "      <th>4</th>\n",
              "      <td>001cca7ae9ae17fb1caed9dfb1094831</td>\n",
              "      <td>1</td>\n",
              "      <td>98a8c2fa16d7239c606640f5555768e4</td>\n",
              "      <td>2018-04-17 11:10:23</td>\n",
              "      <td>169.0</td>\n",
              "      <td>114.62</td>\n",
              "      <td>29156</td>\n",
              "      <td>cariacica</td>\n",
              "      <td>ES</td>\n",
              "    </tr>\n",
              "  </tbody>\n",
              "</table>\n",
              "</div>\n",
              "    <div class=\"colab-df-buttons\">\n",
              "\n",
              "  <div class=\"colab-df-container\">\n",
              "    <button class=\"colab-df-convert\" onclick=\"convertToInteractive('df-f987276f-4361-4a76-b2e3-daedb4b007ad')\"\n",
              "            title=\"Convert this dataframe to an interactive table.\"\n",
              "            style=\"display:none;\">\n",
              "\n",
              "  <svg xmlns=\"http://www.w3.org/2000/svg\" height=\"24px\" viewBox=\"0 -960 960 960\">\n",
              "    <path d=\"M120-120v-720h720v720H120Zm60-500h600v-160H180v160Zm220 220h160v-160H400v160Zm0 220h160v-160H400v160ZM180-400h160v-160H180v160Zm440 0h160v-160H620v160ZM180-180h160v-160H180v160Zm440 0h160v-160H620v160Z\"/>\n",
              "  </svg>\n",
              "    </button>\n",
              "\n",
              "  <style>\n",
              "    .colab-df-container {\n",
              "      display:flex;\n",
              "      gap: 12px;\n",
              "    }\n",
              "\n",
              "    .colab-df-convert {\n",
              "      background-color: #E8F0FE;\n",
              "      border: none;\n",
              "      border-radius: 50%;\n",
              "      cursor: pointer;\n",
              "      display: none;\n",
              "      fill: #1967D2;\n",
              "      height: 32px;\n",
              "      padding: 0 0 0 0;\n",
              "      width: 32px;\n",
              "    }\n",
              "\n",
              "    .colab-df-convert:hover {\n",
              "      background-color: #E2EBFA;\n",
              "      box-shadow: 0px 1px 2px rgba(60, 64, 67, 0.3), 0px 1px 3px 1px rgba(60, 64, 67, 0.15);\n",
              "      fill: #174EA6;\n",
              "    }\n",
              "\n",
              "    .colab-df-buttons div {\n",
              "      margin-bottom: 4px;\n",
              "    }\n",
              "\n",
              "    [theme=dark] .colab-df-convert {\n",
              "      background-color: #3B4455;\n",
              "      fill: #D2E3FC;\n",
              "    }\n",
              "\n",
              "    [theme=dark] .colab-df-convert:hover {\n",
              "      background-color: #434B5C;\n",
              "      box-shadow: 0px 1px 3px 1px rgba(0, 0, 0, 0.15);\n",
              "      filter: drop-shadow(0px 1px 2px rgba(0, 0, 0, 0.3));\n",
              "      fill: #FFFFFF;\n",
              "    }\n",
              "  </style>\n",
              "\n",
              "    <script>\n",
              "      const buttonEl =\n",
              "        document.querySelector('#df-f987276f-4361-4a76-b2e3-daedb4b007ad button.colab-df-convert');\n",
              "      buttonEl.style.display =\n",
              "        google.colab.kernel.accessAllowed ? 'block' : 'none';\n",
              "\n",
              "      async function convertToInteractive(key) {\n",
              "        const element = document.querySelector('#df-f987276f-4361-4a76-b2e3-daedb4b007ad');\n",
              "        const dataTable =\n",
              "          await google.colab.kernel.invokeFunction('convertToInteractive',\n",
              "                                                    [key], {});\n",
              "        if (!dataTable) return;\n",
              "\n",
              "        const docLinkHtml = 'Like what you see? Visit the ' +\n",
              "          '<a target=\"_blank\" href=https://colab.research.google.com/notebooks/data_table.ipynb>data table notebook</a>'\n",
              "          + ' to learn more about interactive tables.';\n",
              "        element.innerHTML = '';\n",
              "        dataTable['output_type'] = 'display_data';\n",
              "        await google.colab.output.renderOutput(dataTable, element);\n",
              "        const docLink = document.createElement('div');\n",
              "        docLink.innerHTML = docLinkHtml;\n",
              "        element.appendChild(docLink);\n",
              "      }\n",
              "    </script>\n",
              "  </div>\n",
              "\n",
              "\n",
              "<div id=\"df-57adc13c-7fc7-479a-b01f-cb801cd95c4d\">\n",
              "  <button class=\"colab-df-quickchart\" onclick=\"quickchart('df-57adc13c-7fc7-479a-b01f-cb801cd95c4d')\"\n",
              "            title=\"Suggest charts.\"\n",
              "            style=\"display:none;\">\n",
              "\n",
              "<svg xmlns=\"http://www.w3.org/2000/svg\" height=\"24px\"viewBox=\"0 0 24 24\"\n",
              "     width=\"24px\">\n",
              "    <g>\n",
              "        <path d=\"M19 3H5c-1.1 0-2 .9-2 2v14c0 1.1.9 2 2 2h14c1.1 0 2-.9 2-2V5c0-1.1-.9-2-2-2zM9 17H7v-7h2v7zm4 0h-2V7h2v10zm4 0h-2v-4h2v4z\"/>\n",
              "    </g>\n",
              "</svg>\n",
              "  </button>\n",
              "\n",
              "<style>\n",
              "  .colab-df-quickchart {\n",
              "      --bg-color: #E8F0FE;\n",
              "      --fill-color: #1967D2;\n",
              "      --hover-bg-color: #E2EBFA;\n",
              "      --hover-fill-color: #174EA6;\n",
              "      --disabled-fill-color: #AAA;\n",
              "      --disabled-bg-color: #DDD;\n",
              "  }\n",
              "\n",
              "  [theme=dark] .colab-df-quickchart {\n",
              "      --bg-color: #3B4455;\n",
              "      --fill-color: #D2E3FC;\n",
              "      --hover-bg-color: #434B5C;\n",
              "      --hover-fill-color: #FFFFFF;\n",
              "      --disabled-bg-color: #3B4455;\n",
              "      --disabled-fill-color: #666;\n",
              "  }\n",
              "\n",
              "  .colab-df-quickchart {\n",
              "    background-color: var(--bg-color);\n",
              "    border: none;\n",
              "    border-radius: 50%;\n",
              "    cursor: pointer;\n",
              "    display: none;\n",
              "    fill: var(--fill-color);\n",
              "    height: 32px;\n",
              "    padding: 0;\n",
              "    width: 32px;\n",
              "  }\n",
              "\n",
              "  .colab-df-quickchart:hover {\n",
              "    background-color: var(--hover-bg-color);\n",
              "    box-shadow: 0 1px 2px rgba(60, 64, 67, 0.3), 0 1px 3px 1px rgba(60, 64, 67, 0.15);\n",
              "    fill: var(--button-hover-fill-color);\n",
              "  }\n",
              "\n",
              "  .colab-df-quickchart-complete:disabled,\n",
              "  .colab-df-quickchart-complete:disabled:hover {\n",
              "    background-color: var(--disabled-bg-color);\n",
              "    fill: var(--disabled-fill-color);\n",
              "    box-shadow: none;\n",
              "  }\n",
              "\n",
              "  .colab-df-spinner {\n",
              "    border: 2px solid var(--fill-color);\n",
              "    border-color: transparent;\n",
              "    border-bottom-color: var(--fill-color);\n",
              "    animation:\n",
              "      spin 1s steps(1) infinite;\n",
              "  }\n",
              "\n",
              "  @keyframes spin {\n",
              "    0% {\n",
              "      border-color: transparent;\n",
              "      border-bottom-color: var(--fill-color);\n",
              "      border-left-color: var(--fill-color);\n",
              "    }\n",
              "    20% {\n",
              "      border-color: transparent;\n",
              "      border-left-color: var(--fill-color);\n",
              "      border-top-color: var(--fill-color);\n",
              "    }\n",
              "    30% {\n",
              "      border-color: transparent;\n",
              "      border-left-color: var(--fill-color);\n",
              "      border-top-color: var(--fill-color);\n",
              "      border-right-color: var(--fill-color);\n",
              "    }\n",
              "    40% {\n",
              "      border-color: transparent;\n",
              "      border-right-color: var(--fill-color);\n",
              "      border-top-color: var(--fill-color);\n",
              "    }\n",
              "    60% {\n",
              "      border-color: transparent;\n",
              "      border-right-color: var(--fill-color);\n",
              "    }\n",
              "    80% {\n",
              "      border-color: transparent;\n",
              "      border-right-color: var(--fill-color);\n",
              "      border-bottom-color: var(--fill-color);\n",
              "    }\n",
              "    90% {\n",
              "      border-color: transparent;\n",
              "      border-bottom-color: var(--fill-color);\n",
              "    }\n",
              "  }\n",
              "</style>\n",
              "\n",
              "  <script>\n",
              "    async function quickchart(key) {\n",
              "      const quickchartButtonEl =\n",
              "        document.querySelector('#' + key + ' button');\n",
              "      quickchartButtonEl.disabled = true;  // To prevent multiple clicks.\n",
              "      quickchartButtonEl.classList.add('colab-df-spinner');\n",
              "      try {\n",
              "        const charts = await google.colab.kernel.invokeFunction(\n",
              "            'suggestCharts', [key], {});\n",
              "      } catch (error) {\n",
              "        console.error('Error during call to suggestCharts:', error);\n",
              "      }\n",
              "      quickchartButtonEl.classList.remove('colab-df-spinner');\n",
              "      quickchartButtonEl.classList.add('colab-df-quickchart-complete');\n",
              "    }\n",
              "    (() => {\n",
              "      let quickchartButtonEl =\n",
              "        document.querySelector('#df-57adc13c-7fc7-479a-b01f-cb801cd95c4d button');\n",
              "      quickchartButtonEl.style.display =\n",
              "        google.colab.kernel.accessAllowed ? 'block' : 'none';\n",
              "    })();\n",
              "  </script>\n",
              "</div>\n",
              "    </div>\n",
              "  </div>\n"
            ]
          },
          "metadata": {},
          "execution_count": 35
        }
      ]
    },
    {
      "cell_type": "markdown",
      "source": [
        "## BBT1-31 Filtrar datos, reducir volumen de orders_items y products"
      ],
      "metadata": {
        "id": "lanmpUKYuZbU"
      }
    },
    {
      "cell_type": "markdown",
      "source": [
        "Filtrar el DataFrame de las categorías e ítems para resguardar los 3 ítems de mayor importe.   \n",
        "PARA: Reducir el volumen de datos y trabajar solo con los ítems que mayor ingreso generan por categoría."
      ],
      "metadata": {
        "id": "CpYRv8sgum7e"
      }
    },
    {
      "cell_type": "code",
      "source": [
        "#Guardar el DF en la base de datos como tabla\n",
        "BBT1_21.to_sql('Query_BBT1_21', conn, if_exists='replace', index=True)"
      ],
      "metadata": {
        "colab": {
          "base_uri": "https://localhost:8080/"
        },
        "id": "f7eDZwZyy8LU",
        "outputId": "2a14de97-850a-43a3-a27f-197f8a626a50"
      },
      "execution_count": 36,
      "outputs": [
        {
          "output_type": "execute_result",
          "data": {
            "text/plain": [
              "112650"
            ]
          },
          "metadata": {},
          "execution_count": 36
        }
      ]
    },
    {
      "cell_type": "code",
      "source": [
        "#Filtrar el DataFrame de las categorías e ítems para resguardar los 3 ítems de mayor importe por categoria\n",
        "\n",
        "BBT1_31_query = '''\n",
        "SELECT product_id, product_category_name, price, freight_value, year_month\n",
        "FROM (\n",
        "  SELECT product_id, product_category_name, price, freight_value, strftime('%Y-%m', shipping_limit_date) AS year_month,\n",
        "         ROW_NUMBER() OVER (PARTITION BY product_category_name ORDER BY price DESC) AS rn\n",
        "  FROM Query_BBT1_21\n",
        ") ranked\n",
        "  WHERE rn <=3\n",
        "  ORDER BY product_category_name ASC;\n",
        "'''\n",
        "\n",
        "BBT1_31 = pd.read_sql_query(BBT1_31_query, conn)\n",
        "BBT1_31.head(9)"
      ],
      "metadata": {
        "colab": {
          "base_uri": "https://localhost:8080/",
          "height": 0
        },
        "id": "wf_8_iOOx0RY",
        "outputId": "3a7449e9-6705-4670-8967-420370d31380"
      },
      "execution_count": 37,
      "outputs": [
        {
          "output_type": "execute_result",
          "data": {
            "text/plain": [
              "                         product_id      product_category_name    price  \\\n",
              "0  4c50dcc50f1512f46096d6ef0142c4a9                       None  3980.00   \n",
              "1  0e030462875259ec0cb868f7ecf1fd5e                       None  2740.00   \n",
              "2  eed5cbd74fac3bd79b7c7ec95fa7507d                       None  1989.00   \n",
              "3  2b69866f22de8dad69c976771daba91c  agro_industria_e_comercio  2990.00   \n",
              "4  b7a60a397d4efd05c1b5d398fb9f9097  agro_industria_e_comercio  2399.00   \n",
              "5  cd2f5c10e4e8dbc701f0bb68a09fdfe8  agro_industria_e_comercio  2199.00   \n",
              "6  21b4d9c7183dd6f20f584f35c09bd361                  alimentos   274.99   \n",
              "7  618c65cb5359281b2c830b9f3f2e1f36                  alimentos   219.00   \n",
              "8  53d71d8d9d6878f6f0b9fe0ed79445d5                  alimentos   210.00   \n",
              "\n",
              "   freight_value year_month  \n",
              "0          62.74    2017-02  \n",
              "1          54.50    2017-05  \n",
              "2          34.58    2017-10  \n",
              "3         194.55    2017-11  \n",
              "4          68.33    2017-11  \n",
              "5         116.83    2017-12  \n",
              "6          10.74    2017-09  \n",
              "7          19.58    2018-08  \n",
              "8          16.57    2018-06  "
            ],
            "text/html": [
              "\n",
              "  <div id=\"df-bf77a9af-d5b4-4f15-ad4d-bb153dc11085\" class=\"colab-df-container\">\n",
              "    <div>\n",
              "<style scoped>\n",
              "    .dataframe tbody tr th:only-of-type {\n",
              "        vertical-align: middle;\n",
              "    }\n",
              "\n",
              "    .dataframe tbody tr th {\n",
              "        vertical-align: top;\n",
              "    }\n",
              "\n",
              "    .dataframe thead th {\n",
              "        text-align: right;\n",
              "    }\n",
              "</style>\n",
              "<table border=\"1\" class=\"dataframe\">\n",
              "  <thead>\n",
              "    <tr style=\"text-align: right;\">\n",
              "      <th></th>\n",
              "      <th>product_id</th>\n",
              "      <th>product_category_name</th>\n",
              "      <th>price</th>\n",
              "      <th>freight_value</th>\n",
              "      <th>year_month</th>\n",
              "    </tr>\n",
              "  </thead>\n",
              "  <tbody>\n",
              "    <tr>\n",
              "      <th>0</th>\n",
              "      <td>4c50dcc50f1512f46096d6ef0142c4a9</td>\n",
              "      <td>None</td>\n",
              "      <td>3980.00</td>\n",
              "      <td>62.74</td>\n",
              "      <td>2017-02</td>\n",
              "    </tr>\n",
              "    <tr>\n",
              "      <th>1</th>\n",
              "      <td>0e030462875259ec0cb868f7ecf1fd5e</td>\n",
              "      <td>None</td>\n",
              "      <td>2740.00</td>\n",
              "      <td>54.50</td>\n",
              "      <td>2017-05</td>\n",
              "    </tr>\n",
              "    <tr>\n",
              "      <th>2</th>\n",
              "      <td>eed5cbd74fac3bd79b7c7ec95fa7507d</td>\n",
              "      <td>None</td>\n",
              "      <td>1989.00</td>\n",
              "      <td>34.58</td>\n",
              "      <td>2017-10</td>\n",
              "    </tr>\n",
              "    <tr>\n",
              "      <th>3</th>\n",
              "      <td>2b69866f22de8dad69c976771daba91c</td>\n",
              "      <td>agro_industria_e_comercio</td>\n",
              "      <td>2990.00</td>\n",
              "      <td>194.55</td>\n",
              "      <td>2017-11</td>\n",
              "    </tr>\n",
              "    <tr>\n",
              "      <th>4</th>\n",
              "      <td>b7a60a397d4efd05c1b5d398fb9f9097</td>\n",
              "      <td>agro_industria_e_comercio</td>\n",
              "      <td>2399.00</td>\n",
              "      <td>68.33</td>\n",
              "      <td>2017-11</td>\n",
              "    </tr>\n",
              "    <tr>\n",
              "      <th>5</th>\n",
              "      <td>cd2f5c10e4e8dbc701f0bb68a09fdfe8</td>\n",
              "      <td>agro_industria_e_comercio</td>\n",
              "      <td>2199.00</td>\n",
              "      <td>116.83</td>\n",
              "      <td>2017-12</td>\n",
              "    </tr>\n",
              "    <tr>\n",
              "      <th>6</th>\n",
              "      <td>21b4d9c7183dd6f20f584f35c09bd361</td>\n",
              "      <td>alimentos</td>\n",
              "      <td>274.99</td>\n",
              "      <td>10.74</td>\n",
              "      <td>2017-09</td>\n",
              "    </tr>\n",
              "    <tr>\n",
              "      <th>7</th>\n",
              "      <td>618c65cb5359281b2c830b9f3f2e1f36</td>\n",
              "      <td>alimentos</td>\n",
              "      <td>219.00</td>\n",
              "      <td>19.58</td>\n",
              "      <td>2018-08</td>\n",
              "    </tr>\n",
              "    <tr>\n",
              "      <th>8</th>\n",
              "      <td>53d71d8d9d6878f6f0b9fe0ed79445d5</td>\n",
              "      <td>alimentos</td>\n",
              "      <td>210.00</td>\n",
              "      <td>16.57</td>\n",
              "      <td>2018-06</td>\n",
              "    </tr>\n",
              "  </tbody>\n",
              "</table>\n",
              "</div>\n",
              "    <div class=\"colab-df-buttons\">\n",
              "\n",
              "  <div class=\"colab-df-container\">\n",
              "    <button class=\"colab-df-convert\" onclick=\"convertToInteractive('df-bf77a9af-d5b4-4f15-ad4d-bb153dc11085')\"\n",
              "            title=\"Convert this dataframe to an interactive table.\"\n",
              "            style=\"display:none;\">\n",
              "\n",
              "  <svg xmlns=\"http://www.w3.org/2000/svg\" height=\"24px\" viewBox=\"0 -960 960 960\">\n",
              "    <path d=\"M120-120v-720h720v720H120Zm60-500h600v-160H180v160Zm220 220h160v-160H400v160Zm0 220h160v-160H400v160ZM180-400h160v-160H180v160Zm440 0h160v-160H620v160ZM180-180h160v-160H180v160Zm440 0h160v-160H620v160Z\"/>\n",
              "  </svg>\n",
              "    </button>\n",
              "\n",
              "  <style>\n",
              "    .colab-df-container {\n",
              "      display:flex;\n",
              "      gap: 12px;\n",
              "    }\n",
              "\n",
              "    .colab-df-convert {\n",
              "      background-color: #E8F0FE;\n",
              "      border: none;\n",
              "      border-radius: 50%;\n",
              "      cursor: pointer;\n",
              "      display: none;\n",
              "      fill: #1967D2;\n",
              "      height: 32px;\n",
              "      padding: 0 0 0 0;\n",
              "      width: 32px;\n",
              "    }\n",
              "\n",
              "    .colab-df-convert:hover {\n",
              "      background-color: #E2EBFA;\n",
              "      box-shadow: 0px 1px 2px rgba(60, 64, 67, 0.3), 0px 1px 3px 1px rgba(60, 64, 67, 0.15);\n",
              "      fill: #174EA6;\n",
              "    }\n",
              "\n",
              "    .colab-df-buttons div {\n",
              "      margin-bottom: 4px;\n",
              "    }\n",
              "\n",
              "    [theme=dark] .colab-df-convert {\n",
              "      background-color: #3B4455;\n",
              "      fill: #D2E3FC;\n",
              "    }\n",
              "\n",
              "    [theme=dark] .colab-df-convert:hover {\n",
              "      background-color: #434B5C;\n",
              "      box-shadow: 0px 1px 3px 1px rgba(0, 0, 0, 0.15);\n",
              "      filter: drop-shadow(0px 1px 2px rgba(0, 0, 0, 0.3));\n",
              "      fill: #FFFFFF;\n",
              "    }\n",
              "  </style>\n",
              "\n",
              "    <script>\n",
              "      const buttonEl =\n",
              "        document.querySelector('#df-bf77a9af-d5b4-4f15-ad4d-bb153dc11085 button.colab-df-convert');\n",
              "      buttonEl.style.display =\n",
              "        google.colab.kernel.accessAllowed ? 'block' : 'none';\n",
              "\n",
              "      async function convertToInteractive(key) {\n",
              "        const element = document.querySelector('#df-bf77a9af-d5b4-4f15-ad4d-bb153dc11085');\n",
              "        const dataTable =\n",
              "          await google.colab.kernel.invokeFunction('convertToInteractive',\n",
              "                                                    [key], {});\n",
              "        if (!dataTable) return;\n",
              "\n",
              "        const docLinkHtml = 'Like what you see? Visit the ' +\n",
              "          '<a target=\"_blank\" href=https://colab.research.google.com/notebooks/data_table.ipynb>data table notebook</a>'\n",
              "          + ' to learn more about interactive tables.';\n",
              "        element.innerHTML = '';\n",
              "        dataTable['output_type'] = 'display_data';\n",
              "        await google.colab.output.renderOutput(dataTable, element);\n",
              "        const docLink = document.createElement('div');\n",
              "        docLink.innerHTML = docLinkHtml;\n",
              "        element.appendChild(docLink);\n",
              "      }\n",
              "    </script>\n",
              "  </div>\n",
              "\n",
              "\n",
              "<div id=\"df-6fc4e4c0-f66e-4ad2-8bd0-23132ce2d7e7\">\n",
              "  <button class=\"colab-df-quickchart\" onclick=\"quickchart('df-6fc4e4c0-f66e-4ad2-8bd0-23132ce2d7e7')\"\n",
              "            title=\"Suggest charts.\"\n",
              "            style=\"display:none;\">\n",
              "\n",
              "<svg xmlns=\"http://www.w3.org/2000/svg\" height=\"24px\"viewBox=\"0 0 24 24\"\n",
              "     width=\"24px\">\n",
              "    <g>\n",
              "        <path d=\"M19 3H5c-1.1 0-2 .9-2 2v14c0 1.1.9 2 2 2h14c1.1 0 2-.9 2-2V5c0-1.1-.9-2-2-2zM9 17H7v-7h2v7zm4 0h-2V7h2v10zm4 0h-2v-4h2v4z\"/>\n",
              "    </g>\n",
              "</svg>\n",
              "  </button>\n",
              "\n",
              "<style>\n",
              "  .colab-df-quickchart {\n",
              "      --bg-color: #E8F0FE;\n",
              "      --fill-color: #1967D2;\n",
              "      --hover-bg-color: #E2EBFA;\n",
              "      --hover-fill-color: #174EA6;\n",
              "      --disabled-fill-color: #AAA;\n",
              "      --disabled-bg-color: #DDD;\n",
              "  }\n",
              "\n",
              "  [theme=dark] .colab-df-quickchart {\n",
              "      --bg-color: #3B4455;\n",
              "      --fill-color: #D2E3FC;\n",
              "      --hover-bg-color: #434B5C;\n",
              "      --hover-fill-color: #FFFFFF;\n",
              "      --disabled-bg-color: #3B4455;\n",
              "      --disabled-fill-color: #666;\n",
              "  }\n",
              "\n",
              "  .colab-df-quickchart {\n",
              "    background-color: var(--bg-color);\n",
              "    border: none;\n",
              "    border-radius: 50%;\n",
              "    cursor: pointer;\n",
              "    display: none;\n",
              "    fill: var(--fill-color);\n",
              "    height: 32px;\n",
              "    padding: 0;\n",
              "    width: 32px;\n",
              "  }\n",
              "\n",
              "  .colab-df-quickchart:hover {\n",
              "    background-color: var(--hover-bg-color);\n",
              "    box-shadow: 0 1px 2px rgba(60, 64, 67, 0.3), 0 1px 3px 1px rgba(60, 64, 67, 0.15);\n",
              "    fill: var(--button-hover-fill-color);\n",
              "  }\n",
              "\n",
              "  .colab-df-quickchart-complete:disabled,\n",
              "  .colab-df-quickchart-complete:disabled:hover {\n",
              "    background-color: var(--disabled-bg-color);\n",
              "    fill: var(--disabled-fill-color);\n",
              "    box-shadow: none;\n",
              "  }\n",
              "\n",
              "  .colab-df-spinner {\n",
              "    border: 2px solid var(--fill-color);\n",
              "    border-color: transparent;\n",
              "    border-bottom-color: var(--fill-color);\n",
              "    animation:\n",
              "      spin 1s steps(1) infinite;\n",
              "  }\n",
              "\n",
              "  @keyframes spin {\n",
              "    0% {\n",
              "      border-color: transparent;\n",
              "      border-bottom-color: var(--fill-color);\n",
              "      border-left-color: var(--fill-color);\n",
              "    }\n",
              "    20% {\n",
              "      border-color: transparent;\n",
              "      border-left-color: var(--fill-color);\n",
              "      border-top-color: var(--fill-color);\n",
              "    }\n",
              "    30% {\n",
              "      border-color: transparent;\n",
              "      border-left-color: var(--fill-color);\n",
              "      border-top-color: var(--fill-color);\n",
              "      border-right-color: var(--fill-color);\n",
              "    }\n",
              "    40% {\n",
              "      border-color: transparent;\n",
              "      border-right-color: var(--fill-color);\n",
              "      border-top-color: var(--fill-color);\n",
              "    }\n",
              "    60% {\n",
              "      border-color: transparent;\n",
              "      border-right-color: var(--fill-color);\n",
              "    }\n",
              "    80% {\n",
              "      border-color: transparent;\n",
              "      border-right-color: var(--fill-color);\n",
              "      border-bottom-color: var(--fill-color);\n",
              "    }\n",
              "    90% {\n",
              "      border-color: transparent;\n",
              "      border-bottom-color: var(--fill-color);\n",
              "    }\n",
              "  }\n",
              "</style>\n",
              "\n",
              "  <script>\n",
              "    async function quickchart(key) {\n",
              "      const quickchartButtonEl =\n",
              "        document.querySelector('#' + key + ' button');\n",
              "      quickchartButtonEl.disabled = true;  // To prevent multiple clicks.\n",
              "      quickchartButtonEl.classList.add('colab-df-spinner');\n",
              "      try {\n",
              "        const charts = await google.colab.kernel.invokeFunction(\n",
              "            'suggestCharts', [key], {});\n",
              "      } catch (error) {\n",
              "        console.error('Error during call to suggestCharts:', error);\n",
              "      }\n",
              "      quickchartButtonEl.classList.remove('colab-df-spinner');\n",
              "      quickchartButtonEl.classList.add('colab-df-quickchart-complete');\n",
              "    }\n",
              "    (() => {\n",
              "      let quickchartButtonEl =\n",
              "        document.querySelector('#df-6fc4e4c0-f66e-4ad2-8bd0-23132ce2d7e7 button');\n",
              "      quickchartButtonEl.style.display =\n",
              "        google.colab.kernel.accessAllowed ? 'block' : 'none';\n",
              "    })();\n",
              "  </script>\n",
              "</div>\n",
              "    </div>\n",
              "  </div>\n"
            ]
          },
          "metadata": {},
          "execution_count": 37
        }
      ]
    },
    {
      "cell_type": "markdown",
      "source": [
        "## BBT1-32 Filtrar datos, reducir volumen de order y payments"
      ],
      "metadata": {
        "id": "fzQNkPz_u3mA"
      }
    },
    {
      "cell_type": "markdown",
      "source": [
        "Filtrar el DataFrame de órdenes y pagos para resguardar los 3 pagos de mayor importe por cliente.   \n",
        "PARA: Reducir el volumen de datos y trabajar solo con los clientes que generan mas ingreso y analizar sus métodos de pagos."
      ],
      "metadata": {
        "id": "tFKbd0EKu7ea"
      }
    },
    {
      "cell_type": "code",
      "source": [
        "#Guardar el DF en la base de datos como tabla\n",
        "BBT1_22.to_sql('Query_BBT1_22', conn, if_exists='replace', index=True)"
      ],
      "metadata": {
        "id": "WWZXZMQBu-Jn",
        "colab": {
          "base_uri": "https://localhost:8080/"
        },
        "outputId": "818c67fb-da0e-4ac1-9c1d-b2530a12d472"
      },
      "execution_count": 38,
      "outputs": [
        {
          "output_type": "execute_result",
          "data": {
            "text/plain": [
              "103886"
            ]
          },
          "metadata": {},
          "execution_count": 38
        }
      ]
    },
    {
      "cell_type": "markdown",
      "source": [
        "A fin de analizar la ordenes de mayor valor, y poder a su vez analizar sus métodos de pago, se crea una CTE que sume los pagos parciales por método de pago de cada orden, para poder en primera instancia reconocer las ordenes de mayor valor y luego analizar luego sus métodos de pago.\n",
        "Dado que los clientes que generaron mayores ingresos no realizaron más de 3 pagos, se limitan a 20 los registros para analisis."
      ],
      "metadata": {
        "id": "MXGVaD7W9f0r"
      }
    },
    {
      "cell_type": "code",
      "source": [
        "#Filtrar el DataFrame de ordenes y pagos para resguardar las ordenes que generaron mayores ingresos.\n",
        "\n",
        "BBT1_32_query = '''\n",
        "WITH OrderTotal AS (\n",
        "    SELECT order_id, sum(payment_value) as total_price\n",
        "    FROM Query_BBT1_22\n",
        "    GROUP BY order_id\n",
        "  )\n",
        "\n",
        "  SELECT strftime('%Y-%m', order_purchase_timestamp) AS year_month, q.customer_id, q.order_id, q.order_status, q.payment_type, q.payment_value, ot.total_price\n",
        "  FROM Query_BBT1_22 q\n",
        "  JOIN OrderTotal ot ON ot.order_id = q.order_id\n",
        "  ORDER BY total_price DESC, customer_id\n",
        "\n",
        "  ;\n",
        "\n",
        "'''\n",
        "\n",
        "BBT1_32 = pd.read_sql_query(BBT1_32_query, conn)\n",
        "BBT1_32.head(10)"
      ],
      "metadata": {
        "colab": {
          "base_uri": "https://localhost:8080/",
          "height": 363
        },
        "id": "FNTEGcGEWXcO",
        "outputId": "47efeeec-cfb0-4270-a89b-3b82853a9ce6"
      },
      "execution_count": 39,
      "outputs": [
        {
          "output_type": "execute_result",
          "data": {
            "text/plain": [
              "  year_month                       customer_id  \\\n",
              "0    2017-09  1617b1357756262bfa56ab541c47bc16   \n",
              "1    2018-07  ec5b2ba62e574342386871631fafd3fc   \n",
              "2    2017-02  c6e2731c5b391845f6800c97401a43a9   \n",
              "3    2018-07  f48d464a0baaea338cb25f816991ab1f   \n",
              "4    2017-05  3fd6777bbce08a352fddd04e4a7cc8f6   \n",
              "5    2017-11  05455dfa7cd02f13d132aa7a6a9729c6   \n",
              "6    2017-04  df55c14d1476a9a3467f131269c2477f   \n",
              "7    2018-07  e0a2412720e9ea4f26c1ac985f6a7358   \n",
              "8    2017-04  24bbf5fd2f2e1b359ee7de94defc4a15   \n",
              "9    2018-06  3d979689f636322c62418b6346b1c6d2   \n",
              "\n",
              "                           order_id order_status payment_type  payment_value  \\\n",
              "0  03caa2c082116e1d31e67e9ae3700499    delivered  credit_card       13664.08   \n",
              "1  736e1922ae60d0d6a89247b851902527    delivered       boleto        7274.88   \n",
              "2  0812eb902a67711a1cb742b3cdaa65ae    delivered  credit_card        6929.31   \n",
              "3  fefacc66af859508bf1a7934eab1e97f    delivered       boleto        6922.21   \n",
              "4  f5136e38d1a14a4dbd87dff67da82701    delivered       boleto        6726.66   \n",
              "5  2cc9089445046817a7539d90805e6e5a    delivered       boleto        6081.54   \n",
              "6  a96610ab360d42a2e5335a3998b4718a    delivered  credit_card        4950.34   \n",
              "7  b4c4b76c642808cbe472a32b86cddc95     canceled  credit_card        4809.44   \n",
              "8  199af31afc78c699f0dbf71fb178d4d4    delivered  credit_card        4764.34   \n",
              "9  8dbc85d1447242f3b127dda390d56e19    delivered  credit_card        4681.78   \n",
              "\n",
              "   total_price  \n",
              "0     13664.08  \n",
              "1      7274.88  \n",
              "2      6929.31  \n",
              "3      6922.21  \n",
              "4      6726.66  \n",
              "5      6081.54  \n",
              "6      4950.34  \n",
              "7      4809.44  \n",
              "8      4764.34  \n",
              "9      4681.78  "
            ],
            "text/html": [
              "\n",
              "  <div id=\"df-42c24d39-ca8e-4766-81eb-9957e8360edd\" class=\"colab-df-container\">\n",
              "    <div>\n",
              "<style scoped>\n",
              "    .dataframe tbody tr th:only-of-type {\n",
              "        vertical-align: middle;\n",
              "    }\n",
              "\n",
              "    .dataframe tbody tr th {\n",
              "        vertical-align: top;\n",
              "    }\n",
              "\n",
              "    .dataframe thead th {\n",
              "        text-align: right;\n",
              "    }\n",
              "</style>\n",
              "<table border=\"1\" class=\"dataframe\">\n",
              "  <thead>\n",
              "    <tr style=\"text-align: right;\">\n",
              "      <th></th>\n",
              "      <th>year_month</th>\n",
              "      <th>customer_id</th>\n",
              "      <th>order_id</th>\n",
              "      <th>order_status</th>\n",
              "      <th>payment_type</th>\n",
              "      <th>payment_value</th>\n",
              "      <th>total_price</th>\n",
              "    </tr>\n",
              "  </thead>\n",
              "  <tbody>\n",
              "    <tr>\n",
              "      <th>0</th>\n",
              "      <td>2017-09</td>\n",
              "      <td>1617b1357756262bfa56ab541c47bc16</td>\n",
              "      <td>03caa2c082116e1d31e67e9ae3700499</td>\n",
              "      <td>delivered</td>\n",
              "      <td>credit_card</td>\n",
              "      <td>13664.08</td>\n",
              "      <td>13664.08</td>\n",
              "    </tr>\n",
              "    <tr>\n",
              "      <th>1</th>\n",
              "      <td>2018-07</td>\n",
              "      <td>ec5b2ba62e574342386871631fafd3fc</td>\n",
              "      <td>736e1922ae60d0d6a89247b851902527</td>\n",
              "      <td>delivered</td>\n",
              "      <td>boleto</td>\n",
              "      <td>7274.88</td>\n",
              "      <td>7274.88</td>\n",
              "    </tr>\n",
              "    <tr>\n",
              "      <th>2</th>\n",
              "      <td>2017-02</td>\n",
              "      <td>c6e2731c5b391845f6800c97401a43a9</td>\n",
              "      <td>0812eb902a67711a1cb742b3cdaa65ae</td>\n",
              "      <td>delivered</td>\n",
              "      <td>credit_card</td>\n",
              "      <td>6929.31</td>\n",
              "      <td>6929.31</td>\n",
              "    </tr>\n",
              "    <tr>\n",
              "      <th>3</th>\n",
              "      <td>2018-07</td>\n",
              "      <td>f48d464a0baaea338cb25f816991ab1f</td>\n",
              "      <td>fefacc66af859508bf1a7934eab1e97f</td>\n",
              "      <td>delivered</td>\n",
              "      <td>boleto</td>\n",
              "      <td>6922.21</td>\n",
              "      <td>6922.21</td>\n",
              "    </tr>\n",
              "    <tr>\n",
              "      <th>4</th>\n",
              "      <td>2017-05</td>\n",
              "      <td>3fd6777bbce08a352fddd04e4a7cc8f6</td>\n",
              "      <td>f5136e38d1a14a4dbd87dff67da82701</td>\n",
              "      <td>delivered</td>\n",
              "      <td>boleto</td>\n",
              "      <td>6726.66</td>\n",
              "      <td>6726.66</td>\n",
              "    </tr>\n",
              "    <tr>\n",
              "      <th>5</th>\n",
              "      <td>2017-11</td>\n",
              "      <td>05455dfa7cd02f13d132aa7a6a9729c6</td>\n",
              "      <td>2cc9089445046817a7539d90805e6e5a</td>\n",
              "      <td>delivered</td>\n",
              "      <td>boleto</td>\n",
              "      <td>6081.54</td>\n",
              "      <td>6081.54</td>\n",
              "    </tr>\n",
              "    <tr>\n",
              "      <th>6</th>\n",
              "      <td>2017-04</td>\n",
              "      <td>df55c14d1476a9a3467f131269c2477f</td>\n",
              "      <td>a96610ab360d42a2e5335a3998b4718a</td>\n",
              "      <td>delivered</td>\n",
              "      <td>credit_card</td>\n",
              "      <td>4950.34</td>\n",
              "      <td>4950.34</td>\n",
              "    </tr>\n",
              "    <tr>\n",
              "      <th>7</th>\n",
              "      <td>2018-07</td>\n",
              "      <td>e0a2412720e9ea4f26c1ac985f6a7358</td>\n",
              "      <td>b4c4b76c642808cbe472a32b86cddc95</td>\n",
              "      <td>canceled</td>\n",
              "      <td>credit_card</td>\n",
              "      <td>4809.44</td>\n",
              "      <td>4809.44</td>\n",
              "    </tr>\n",
              "    <tr>\n",
              "      <th>8</th>\n",
              "      <td>2017-04</td>\n",
              "      <td>24bbf5fd2f2e1b359ee7de94defc4a15</td>\n",
              "      <td>199af31afc78c699f0dbf71fb178d4d4</td>\n",
              "      <td>delivered</td>\n",
              "      <td>credit_card</td>\n",
              "      <td>4764.34</td>\n",
              "      <td>4764.34</td>\n",
              "    </tr>\n",
              "    <tr>\n",
              "      <th>9</th>\n",
              "      <td>2018-06</td>\n",
              "      <td>3d979689f636322c62418b6346b1c6d2</td>\n",
              "      <td>8dbc85d1447242f3b127dda390d56e19</td>\n",
              "      <td>delivered</td>\n",
              "      <td>credit_card</td>\n",
              "      <td>4681.78</td>\n",
              "      <td>4681.78</td>\n",
              "    </tr>\n",
              "  </tbody>\n",
              "</table>\n",
              "</div>\n",
              "    <div class=\"colab-df-buttons\">\n",
              "\n",
              "  <div class=\"colab-df-container\">\n",
              "    <button class=\"colab-df-convert\" onclick=\"convertToInteractive('df-42c24d39-ca8e-4766-81eb-9957e8360edd')\"\n",
              "            title=\"Convert this dataframe to an interactive table.\"\n",
              "            style=\"display:none;\">\n",
              "\n",
              "  <svg xmlns=\"http://www.w3.org/2000/svg\" height=\"24px\" viewBox=\"0 -960 960 960\">\n",
              "    <path d=\"M120-120v-720h720v720H120Zm60-500h600v-160H180v160Zm220 220h160v-160H400v160Zm0 220h160v-160H400v160ZM180-400h160v-160H180v160Zm440 0h160v-160H620v160ZM180-180h160v-160H180v160Zm440 0h160v-160H620v160Z\"/>\n",
              "  </svg>\n",
              "    </button>\n",
              "\n",
              "  <style>\n",
              "    .colab-df-container {\n",
              "      display:flex;\n",
              "      gap: 12px;\n",
              "    }\n",
              "\n",
              "    .colab-df-convert {\n",
              "      background-color: #E8F0FE;\n",
              "      border: none;\n",
              "      border-radius: 50%;\n",
              "      cursor: pointer;\n",
              "      display: none;\n",
              "      fill: #1967D2;\n",
              "      height: 32px;\n",
              "      padding: 0 0 0 0;\n",
              "      width: 32px;\n",
              "    }\n",
              "\n",
              "    .colab-df-convert:hover {\n",
              "      background-color: #E2EBFA;\n",
              "      box-shadow: 0px 1px 2px rgba(60, 64, 67, 0.3), 0px 1px 3px 1px rgba(60, 64, 67, 0.15);\n",
              "      fill: #174EA6;\n",
              "    }\n",
              "\n",
              "    .colab-df-buttons div {\n",
              "      margin-bottom: 4px;\n",
              "    }\n",
              "\n",
              "    [theme=dark] .colab-df-convert {\n",
              "      background-color: #3B4455;\n",
              "      fill: #D2E3FC;\n",
              "    }\n",
              "\n",
              "    [theme=dark] .colab-df-convert:hover {\n",
              "      background-color: #434B5C;\n",
              "      box-shadow: 0px 1px 3px 1px rgba(0, 0, 0, 0.15);\n",
              "      filter: drop-shadow(0px 1px 2px rgba(0, 0, 0, 0.3));\n",
              "      fill: #FFFFFF;\n",
              "    }\n",
              "  </style>\n",
              "\n",
              "    <script>\n",
              "      const buttonEl =\n",
              "        document.querySelector('#df-42c24d39-ca8e-4766-81eb-9957e8360edd button.colab-df-convert');\n",
              "      buttonEl.style.display =\n",
              "        google.colab.kernel.accessAllowed ? 'block' : 'none';\n",
              "\n",
              "      async function convertToInteractive(key) {\n",
              "        const element = document.querySelector('#df-42c24d39-ca8e-4766-81eb-9957e8360edd');\n",
              "        const dataTable =\n",
              "          await google.colab.kernel.invokeFunction('convertToInteractive',\n",
              "                                                    [key], {});\n",
              "        if (!dataTable) return;\n",
              "\n",
              "        const docLinkHtml = 'Like what you see? Visit the ' +\n",
              "          '<a target=\"_blank\" href=https://colab.research.google.com/notebooks/data_table.ipynb>data table notebook</a>'\n",
              "          + ' to learn more about interactive tables.';\n",
              "        element.innerHTML = '';\n",
              "        dataTable['output_type'] = 'display_data';\n",
              "        await google.colab.output.renderOutput(dataTable, element);\n",
              "        const docLink = document.createElement('div');\n",
              "        docLink.innerHTML = docLinkHtml;\n",
              "        element.appendChild(docLink);\n",
              "      }\n",
              "    </script>\n",
              "  </div>\n",
              "\n",
              "\n",
              "<div id=\"df-fd834517-4d84-45b9-b005-bf11c8d6bdfa\">\n",
              "  <button class=\"colab-df-quickchart\" onclick=\"quickchart('df-fd834517-4d84-45b9-b005-bf11c8d6bdfa')\"\n",
              "            title=\"Suggest charts.\"\n",
              "            style=\"display:none;\">\n",
              "\n",
              "<svg xmlns=\"http://www.w3.org/2000/svg\" height=\"24px\"viewBox=\"0 0 24 24\"\n",
              "     width=\"24px\">\n",
              "    <g>\n",
              "        <path d=\"M19 3H5c-1.1 0-2 .9-2 2v14c0 1.1.9 2 2 2h14c1.1 0 2-.9 2-2V5c0-1.1-.9-2-2-2zM9 17H7v-7h2v7zm4 0h-2V7h2v10zm4 0h-2v-4h2v4z\"/>\n",
              "    </g>\n",
              "</svg>\n",
              "  </button>\n",
              "\n",
              "<style>\n",
              "  .colab-df-quickchart {\n",
              "      --bg-color: #E8F0FE;\n",
              "      --fill-color: #1967D2;\n",
              "      --hover-bg-color: #E2EBFA;\n",
              "      --hover-fill-color: #174EA6;\n",
              "      --disabled-fill-color: #AAA;\n",
              "      --disabled-bg-color: #DDD;\n",
              "  }\n",
              "\n",
              "  [theme=dark] .colab-df-quickchart {\n",
              "      --bg-color: #3B4455;\n",
              "      --fill-color: #D2E3FC;\n",
              "      --hover-bg-color: #434B5C;\n",
              "      --hover-fill-color: #FFFFFF;\n",
              "      --disabled-bg-color: #3B4455;\n",
              "      --disabled-fill-color: #666;\n",
              "  }\n",
              "\n",
              "  .colab-df-quickchart {\n",
              "    background-color: var(--bg-color);\n",
              "    border: none;\n",
              "    border-radius: 50%;\n",
              "    cursor: pointer;\n",
              "    display: none;\n",
              "    fill: var(--fill-color);\n",
              "    height: 32px;\n",
              "    padding: 0;\n",
              "    width: 32px;\n",
              "  }\n",
              "\n",
              "  .colab-df-quickchart:hover {\n",
              "    background-color: var(--hover-bg-color);\n",
              "    box-shadow: 0 1px 2px rgba(60, 64, 67, 0.3), 0 1px 3px 1px rgba(60, 64, 67, 0.15);\n",
              "    fill: var(--button-hover-fill-color);\n",
              "  }\n",
              "\n",
              "  .colab-df-quickchart-complete:disabled,\n",
              "  .colab-df-quickchart-complete:disabled:hover {\n",
              "    background-color: var(--disabled-bg-color);\n",
              "    fill: var(--disabled-fill-color);\n",
              "    box-shadow: none;\n",
              "  }\n",
              "\n",
              "  .colab-df-spinner {\n",
              "    border: 2px solid var(--fill-color);\n",
              "    border-color: transparent;\n",
              "    border-bottom-color: var(--fill-color);\n",
              "    animation:\n",
              "      spin 1s steps(1) infinite;\n",
              "  }\n",
              "\n",
              "  @keyframes spin {\n",
              "    0% {\n",
              "      border-color: transparent;\n",
              "      border-bottom-color: var(--fill-color);\n",
              "      border-left-color: var(--fill-color);\n",
              "    }\n",
              "    20% {\n",
              "      border-color: transparent;\n",
              "      border-left-color: var(--fill-color);\n",
              "      border-top-color: var(--fill-color);\n",
              "    }\n",
              "    30% {\n",
              "      border-color: transparent;\n",
              "      border-left-color: var(--fill-color);\n",
              "      border-top-color: var(--fill-color);\n",
              "      border-right-color: var(--fill-color);\n",
              "    }\n",
              "    40% {\n",
              "      border-color: transparent;\n",
              "      border-right-color: var(--fill-color);\n",
              "      border-top-color: var(--fill-color);\n",
              "    }\n",
              "    60% {\n",
              "      border-color: transparent;\n",
              "      border-right-color: var(--fill-color);\n",
              "    }\n",
              "    80% {\n",
              "      border-color: transparent;\n",
              "      border-right-color: var(--fill-color);\n",
              "      border-bottom-color: var(--fill-color);\n",
              "    }\n",
              "    90% {\n",
              "      border-color: transparent;\n",
              "      border-bottom-color: var(--fill-color);\n",
              "    }\n",
              "  }\n",
              "</style>\n",
              "\n",
              "  <script>\n",
              "    async function quickchart(key) {\n",
              "      const quickchartButtonEl =\n",
              "        document.querySelector('#' + key + ' button');\n",
              "      quickchartButtonEl.disabled = true;  // To prevent multiple clicks.\n",
              "      quickchartButtonEl.classList.add('colab-df-spinner');\n",
              "      try {\n",
              "        const charts = await google.colab.kernel.invokeFunction(\n",
              "            'suggestCharts', [key], {});\n",
              "      } catch (error) {\n",
              "        console.error('Error during call to suggestCharts:', error);\n",
              "      }\n",
              "      quickchartButtonEl.classList.remove('colab-df-spinner');\n",
              "      quickchartButtonEl.classList.add('colab-df-quickchart-complete');\n",
              "    }\n",
              "    (() => {\n",
              "      let quickchartButtonEl =\n",
              "        document.querySelector('#df-fd834517-4d84-45b9-b005-bf11c8d6bdfa button');\n",
              "      quickchartButtonEl.style.display =\n",
              "        google.colab.kernel.accessAllowed ? 'block' : 'none';\n",
              "    })();\n",
              "  </script>\n",
              "</div>\n",
              "    </div>\n",
              "  </div>\n"
            ]
          },
          "metadata": {},
          "execution_count": 39
        }
      ]
    },
    {
      "cell_type": "code",
      "source": [
        "#Guardar el DF en la base de datos como tabla para analizar\n",
        "BBT1_32.to_sql('Query_BBT1_32', conn, if_exists='replace', index=True)"
      ],
      "metadata": {
        "colab": {
          "base_uri": "https://localhost:8080/"
        },
        "id": "2Cb91-twhedm",
        "outputId": "d465c85f-bc1b-4600-8958-8a7f3d49468a"
      },
      "execution_count": 40,
      "outputs": [
        {
          "output_type": "execute_result",
          "data": {
            "text/plain": [
              "103886"
            ]
          },
          "metadata": {},
          "execution_count": 40
        }
      ]
    },
    {
      "cell_type": "markdown",
      "source": [
        "Se genera segundo filtro sobre el DF generado en esta story para analizar los métodos de pago de las ordenes que generaron mayores ingresos."
      ],
      "metadata": {
        "id": "tW0HJDHOiWk7"
      }
    },
    {
      "cell_type": "code",
      "source": [
        "BBT1_32_query_bis = '''\n",
        "SELECT payment_type, sum(payment_value) AS ingreso_total, count(payment_type) as cant_transacciones\n",
        "FROM Query_BBT1_32\n",
        "GROUP BY payment_type\n",
        "ORDER BY ingreso_total DESC\n",
        ";\n",
        "'''\n",
        "\n",
        "BBT1_32_bis = pd.read_sql_query(BBT1_32_query_bis, conn)\n",
        "BBT1_32_bis"
      ],
      "metadata": {
        "colab": {
          "base_uri": "https://localhost:8080/",
          "height": 206
        },
        "id": "0z79d5XlhCLI",
        "outputId": "ddd1c349-365e-4d75-983d-35b490637855"
      },
      "execution_count": 80,
      "outputs": [
        {
          "output_type": "execute_result",
          "data": {
            "text/plain": [
              "  payment_type  ingreso_total  cant_transacciones\n",
              "0  credit_card   1.254208e+07               76795\n",
              "1       boleto   2.869361e+06               19784\n",
              "2      voucher   3.794369e+05                5775\n",
              "3   debit_card   2.179898e+05                1529\n",
              "4  not_defined   0.000000e+00                   3"
            ],
            "text/html": [
              "\n",
              "  <div id=\"df-e4f4c7d5-2b2a-40aa-abd3-fd9445a84b3d\" class=\"colab-df-container\">\n",
              "    <div>\n",
              "<style scoped>\n",
              "    .dataframe tbody tr th:only-of-type {\n",
              "        vertical-align: middle;\n",
              "    }\n",
              "\n",
              "    .dataframe tbody tr th {\n",
              "        vertical-align: top;\n",
              "    }\n",
              "\n",
              "    .dataframe thead th {\n",
              "        text-align: right;\n",
              "    }\n",
              "</style>\n",
              "<table border=\"1\" class=\"dataframe\">\n",
              "  <thead>\n",
              "    <tr style=\"text-align: right;\">\n",
              "      <th></th>\n",
              "      <th>payment_type</th>\n",
              "      <th>ingreso_total</th>\n",
              "      <th>cant_transacciones</th>\n",
              "    </tr>\n",
              "  </thead>\n",
              "  <tbody>\n",
              "    <tr>\n",
              "      <th>0</th>\n",
              "      <td>credit_card</td>\n",
              "      <td>1.254208e+07</td>\n",
              "      <td>76795</td>\n",
              "    </tr>\n",
              "    <tr>\n",
              "      <th>1</th>\n",
              "      <td>boleto</td>\n",
              "      <td>2.869361e+06</td>\n",
              "      <td>19784</td>\n",
              "    </tr>\n",
              "    <tr>\n",
              "      <th>2</th>\n",
              "      <td>voucher</td>\n",
              "      <td>3.794369e+05</td>\n",
              "      <td>5775</td>\n",
              "    </tr>\n",
              "    <tr>\n",
              "      <th>3</th>\n",
              "      <td>debit_card</td>\n",
              "      <td>2.179898e+05</td>\n",
              "      <td>1529</td>\n",
              "    </tr>\n",
              "    <tr>\n",
              "      <th>4</th>\n",
              "      <td>not_defined</td>\n",
              "      <td>0.000000e+00</td>\n",
              "      <td>3</td>\n",
              "    </tr>\n",
              "  </tbody>\n",
              "</table>\n",
              "</div>\n",
              "    <div class=\"colab-df-buttons\">\n",
              "\n",
              "  <div class=\"colab-df-container\">\n",
              "    <button class=\"colab-df-convert\" onclick=\"convertToInteractive('df-e4f4c7d5-2b2a-40aa-abd3-fd9445a84b3d')\"\n",
              "            title=\"Convert this dataframe to an interactive table.\"\n",
              "            style=\"display:none;\">\n",
              "\n",
              "  <svg xmlns=\"http://www.w3.org/2000/svg\" height=\"24px\" viewBox=\"0 -960 960 960\">\n",
              "    <path d=\"M120-120v-720h720v720H120Zm60-500h600v-160H180v160Zm220 220h160v-160H400v160Zm0 220h160v-160H400v160ZM180-400h160v-160H180v160Zm440 0h160v-160H620v160ZM180-180h160v-160H180v160Zm440 0h160v-160H620v160Z\"/>\n",
              "  </svg>\n",
              "    </button>\n",
              "\n",
              "  <style>\n",
              "    .colab-df-container {\n",
              "      display:flex;\n",
              "      gap: 12px;\n",
              "    }\n",
              "\n",
              "    .colab-df-convert {\n",
              "      background-color: #E8F0FE;\n",
              "      border: none;\n",
              "      border-radius: 50%;\n",
              "      cursor: pointer;\n",
              "      display: none;\n",
              "      fill: #1967D2;\n",
              "      height: 32px;\n",
              "      padding: 0 0 0 0;\n",
              "      width: 32px;\n",
              "    }\n",
              "\n",
              "    .colab-df-convert:hover {\n",
              "      background-color: #E2EBFA;\n",
              "      box-shadow: 0px 1px 2px rgba(60, 64, 67, 0.3), 0px 1px 3px 1px rgba(60, 64, 67, 0.15);\n",
              "      fill: #174EA6;\n",
              "    }\n",
              "\n",
              "    .colab-df-buttons div {\n",
              "      margin-bottom: 4px;\n",
              "    }\n",
              "\n",
              "    [theme=dark] .colab-df-convert {\n",
              "      background-color: #3B4455;\n",
              "      fill: #D2E3FC;\n",
              "    }\n",
              "\n",
              "    [theme=dark] .colab-df-convert:hover {\n",
              "      background-color: #434B5C;\n",
              "      box-shadow: 0px 1px 3px 1px rgba(0, 0, 0, 0.15);\n",
              "      filter: drop-shadow(0px 1px 2px rgba(0, 0, 0, 0.3));\n",
              "      fill: #FFFFFF;\n",
              "    }\n",
              "  </style>\n",
              "\n",
              "    <script>\n",
              "      const buttonEl =\n",
              "        document.querySelector('#df-e4f4c7d5-2b2a-40aa-abd3-fd9445a84b3d button.colab-df-convert');\n",
              "      buttonEl.style.display =\n",
              "        google.colab.kernel.accessAllowed ? 'block' : 'none';\n",
              "\n",
              "      async function convertToInteractive(key) {\n",
              "        const element = document.querySelector('#df-e4f4c7d5-2b2a-40aa-abd3-fd9445a84b3d');\n",
              "        const dataTable =\n",
              "          await google.colab.kernel.invokeFunction('convertToInteractive',\n",
              "                                                    [key], {});\n",
              "        if (!dataTable) return;\n",
              "\n",
              "        const docLinkHtml = 'Like what you see? Visit the ' +\n",
              "          '<a target=\"_blank\" href=https://colab.research.google.com/notebooks/data_table.ipynb>data table notebook</a>'\n",
              "          + ' to learn more about interactive tables.';\n",
              "        element.innerHTML = '';\n",
              "        dataTable['output_type'] = 'display_data';\n",
              "        await google.colab.output.renderOutput(dataTable, element);\n",
              "        const docLink = document.createElement('div');\n",
              "        docLink.innerHTML = docLinkHtml;\n",
              "        element.appendChild(docLink);\n",
              "      }\n",
              "    </script>\n",
              "  </div>\n",
              "\n",
              "\n",
              "<div id=\"df-c401dd96-9b03-48fa-933e-817fd35b5831\">\n",
              "  <button class=\"colab-df-quickchart\" onclick=\"quickchart('df-c401dd96-9b03-48fa-933e-817fd35b5831')\"\n",
              "            title=\"Suggest charts.\"\n",
              "            style=\"display:none;\">\n",
              "\n",
              "<svg xmlns=\"http://www.w3.org/2000/svg\" height=\"24px\"viewBox=\"0 0 24 24\"\n",
              "     width=\"24px\">\n",
              "    <g>\n",
              "        <path d=\"M19 3H5c-1.1 0-2 .9-2 2v14c0 1.1.9 2 2 2h14c1.1 0 2-.9 2-2V5c0-1.1-.9-2-2-2zM9 17H7v-7h2v7zm4 0h-2V7h2v10zm4 0h-2v-4h2v4z\"/>\n",
              "    </g>\n",
              "</svg>\n",
              "  </button>\n",
              "\n",
              "<style>\n",
              "  .colab-df-quickchart {\n",
              "      --bg-color: #E8F0FE;\n",
              "      --fill-color: #1967D2;\n",
              "      --hover-bg-color: #E2EBFA;\n",
              "      --hover-fill-color: #174EA6;\n",
              "      --disabled-fill-color: #AAA;\n",
              "      --disabled-bg-color: #DDD;\n",
              "  }\n",
              "\n",
              "  [theme=dark] .colab-df-quickchart {\n",
              "      --bg-color: #3B4455;\n",
              "      --fill-color: #D2E3FC;\n",
              "      --hover-bg-color: #434B5C;\n",
              "      --hover-fill-color: #FFFFFF;\n",
              "      --disabled-bg-color: #3B4455;\n",
              "      --disabled-fill-color: #666;\n",
              "  }\n",
              "\n",
              "  .colab-df-quickchart {\n",
              "    background-color: var(--bg-color);\n",
              "    border: none;\n",
              "    border-radius: 50%;\n",
              "    cursor: pointer;\n",
              "    display: none;\n",
              "    fill: var(--fill-color);\n",
              "    height: 32px;\n",
              "    padding: 0;\n",
              "    width: 32px;\n",
              "  }\n",
              "\n",
              "  .colab-df-quickchart:hover {\n",
              "    background-color: var(--hover-bg-color);\n",
              "    box-shadow: 0 1px 2px rgba(60, 64, 67, 0.3), 0 1px 3px 1px rgba(60, 64, 67, 0.15);\n",
              "    fill: var(--button-hover-fill-color);\n",
              "  }\n",
              "\n",
              "  .colab-df-quickchart-complete:disabled,\n",
              "  .colab-df-quickchart-complete:disabled:hover {\n",
              "    background-color: var(--disabled-bg-color);\n",
              "    fill: var(--disabled-fill-color);\n",
              "    box-shadow: none;\n",
              "  }\n",
              "\n",
              "  .colab-df-spinner {\n",
              "    border: 2px solid var(--fill-color);\n",
              "    border-color: transparent;\n",
              "    border-bottom-color: var(--fill-color);\n",
              "    animation:\n",
              "      spin 1s steps(1) infinite;\n",
              "  }\n",
              "\n",
              "  @keyframes spin {\n",
              "    0% {\n",
              "      border-color: transparent;\n",
              "      border-bottom-color: var(--fill-color);\n",
              "      border-left-color: var(--fill-color);\n",
              "    }\n",
              "    20% {\n",
              "      border-color: transparent;\n",
              "      border-left-color: var(--fill-color);\n",
              "      border-top-color: var(--fill-color);\n",
              "    }\n",
              "    30% {\n",
              "      border-color: transparent;\n",
              "      border-left-color: var(--fill-color);\n",
              "      border-top-color: var(--fill-color);\n",
              "      border-right-color: var(--fill-color);\n",
              "    }\n",
              "    40% {\n",
              "      border-color: transparent;\n",
              "      border-right-color: var(--fill-color);\n",
              "      border-top-color: var(--fill-color);\n",
              "    }\n",
              "    60% {\n",
              "      border-color: transparent;\n",
              "      border-right-color: var(--fill-color);\n",
              "    }\n",
              "    80% {\n",
              "      border-color: transparent;\n",
              "      border-right-color: var(--fill-color);\n",
              "      border-bottom-color: var(--fill-color);\n",
              "    }\n",
              "    90% {\n",
              "      border-color: transparent;\n",
              "      border-bottom-color: var(--fill-color);\n",
              "    }\n",
              "  }\n",
              "</style>\n",
              "\n",
              "  <script>\n",
              "    async function quickchart(key) {\n",
              "      const quickchartButtonEl =\n",
              "        document.querySelector('#' + key + ' button');\n",
              "      quickchartButtonEl.disabled = true;  // To prevent multiple clicks.\n",
              "      quickchartButtonEl.classList.add('colab-df-spinner');\n",
              "      try {\n",
              "        const charts = await google.colab.kernel.invokeFunction(\n",
              "            'suggestCharts', [key], {});\n",
              "      } catch (error) {\n",
              "        console.error('Error during call to suggestCharts:', error);\n",
              "      }\n",
              "      quickchartButtonEl.classList.remove('colab-df-spinner');\n",
              "      quickchartButtonEl.classList.add('colab-df-quickchart-complete');\n",
              "    }\n",
              "    (() => {\n",
              "      let quickchartButtonEl =\n",
              "        document.querySelector('#df-c401dd96-9b03-48fa-933e-817fd35b5831 button');\n",
              "      quickchartButtonEl.style.display =\n",
              "        google.colab.kernel.accessAllowed ? 'block' : 'none';\n",
              "    })();\n",
              "  </script>\n",
              "</div>\n",
              "    </div>\n",
              "  </div>\n"
            ]
          },
          "metadata": {},
          "execution_count": 80
        }
      ]
    },
    {
      "cell_type": "markdown",
      "metadata": {
        "id": "K0An880Yv6-Q"
      },
      "source": [
        "## BBT1-33 Filtrar datos, reducir volumen de costumers y geolocation2"
      ]
    },
    {
      "cell_type": "markdown",
      "source": [
        "COMO: desarrollador\n",
        "\n",
        "QUIERO: Filtrar el DataFrame de clientes para resguardar los últimos 30 clientes de cada ciudad.\n",
        "\n",
        "PARA: Reducir el volumen de datos y trabajar solo con las latitudes y longitudes de los últimos clientes."
      ],
      "metadata": {
        "id": "5aQQxDpC_Sav"
      }
    },
    {
      "cell_type": "code",
      "source": [
        "#Guardo el DataFrame que tiene la información de customers y geolocation2 en la base de datos como tabla\n",
        "cust_geo.to_sql('query_bbt1_23', conn, if_exists='replace', index=True)"
      ],
      "metadata": {
        "colab": {
          "base_uri": "https://localhost:8080/"
        },
        "id": "76MrKl91C7kl",
        "outputId": "c2f20560-804e-4fd6-e549-a30bb6bf1de4"
      },
      "execution_count": 42,
      "outputs": [
        {
          "output_type": "execute_result",
          "data": {
            "text/plain": [
              "95828"
            ]
          },
          "metadata": {},
          "execution_count": 42
        }
      ]
    },
    {
      "cell_type": "code",
      "source": [
        "query_bbt1_33 = '''\n",
        "WITH CustomersCity AS (\n",
        "  SELECT *,\n",
        "    ROW_NUMBER() OVER (PARTITION BY geolocation_city ORDER BY customer_unique_id DESC) AS row_num\n",
        "  FROM query_bbt1_23\n",
        ")\n",
        "SELECT customer_unique_id, geolocation_zip_code_prefix, promedio_latitud, promedio_longitud, geolocation_city\n",
        "FROM CustomersCity cc\n",
        "WHERE cc.row_num <= 30;\n",
        "'''\n",
        "\n",
        "filtro_clientes_ciudad = pd.read_sql_query(query_bbt1_33, conn)\n",
        "filtro_clientes_ciudad.head(5)"
      ],
      "metadata": {
        "colab": {
          "base_uri": "https://localhost:8080/",
          "height": 0
        },
        "id": "1AV3uQTjYVJr",
        "outputId": "1f8bf299-fc02-40e7-9e75-571c271da83b"
      },
      "execution_count": 43,
      "outputs": [
        {
          "output_type": "execute_result",
          "data": {
            "text/plain": [
              "                 customer_unique_id  geolocation_zip_code_prefix  \\\n",
              "0  e1feae9083c4c2895ddf6dc80526a85d                        38540   \n",
              "1  afddf43a03a9941624ed42c0b2c17280                        38540   \n",
              "2  64ee476500a01beb94df40f97a108c50                        38540   \n",
              "3  8d76b559181609308fcae630ea64cd61                        72940   \n",
              "4  ca1a0307fe782c9125fd9264c92db778                        35620   \n",
              "\n",
              "   promedio_latitud  promedio_longitud     geolocation_city  \n",
              "0        -18.474476         -47.407837  abadia dos dourados  \n",
              "1        -18.474476         -47.407837  abadia dos dourados  \n",
              "2        -18.474476         -47.407837  abadia dos dourados  \n",
              "3        -16.193742         -48.709521            abadiania  \n",
              "4        -19.158206         -45.446300               abaete  "
            ],
            "text/html": [
              "\n",
              "  <div id=\"df-934339c7-3137-4a1e-b61e-607285b90819\" class=\"colab-df-container\">\n",
              "    <div>\n",
              "<style scoped>\n",
              "    .dataframe tbody tr th:only-of-type {\n",
              "        vertical-align: middle;\n",
              "    }\n",
              "\n",
              "    .dataframe tbody tr th {\n",
              "        vertical-align: top;\n",
              "    }\n",
              "\n",
              "    .dataframe thead th {\n",
              "        text-align: right;\n",
              "    }\n",
              "</style>\n",
              "<table border=\"1\" class=\"dataframe\">\n",
              "  <thead>\n",
              "    <tr style=\"text-align: right;\">\n",
              "      <th></th>\n",
              "      <th>customer_unique_id</th>\n",
              "      <th>geolocation_zip_code_prefix</th>\n",
              "      <th>promedio_latitud</th>\n",
              "      <th>promedio_longitud</th>\n",
              "      <th>geolocation_city</th>\n",
              "    </tr>\n",
              "  </thead>\n",
              "  <tbody>\n",
              "    <tr>\n",
              "      <th>0</th>\n",
              "      <td>e1feae9083c4c2895ddf6dc80526a85d</td>\n",
              "      <td>38540</td>\n",
              "      <td>-18.474476</td>\n",
              "      <td>-47.407837</td>\n",
              "      <td>abadia dos dourados</td>\n",
              "    </tr>\n",
              "    <tr>\n",
              "      <th>1</th>\n",
              "      <td>afddf43a03a9941624ed42c0b2c17280</td>\n",
              "      <td>38540</td>\n",
              "      <td>-18.474476</td>\n",
              "      <td>-47.407837</td>\n",
              "      <td>abadia dos dourados</td>\n",
              "    </tr>\n",
              "    <tr>\n",
              "      <th>2</th>\n",
              "      <td>64ee476500a01beb94df40f97a108c50</td>\n",
              "      <td>38540</td>\n",
              "      <td>-18.474476</td>\n",
              "      <td>-47.407837</td>\n",
              "      <td>abadia dos dourados</td>\n",
              "    </tr>\n",
              "    <tr>\n",
              "      <th>3</th>\n",
              "      <td>8d76b559181609308fcae630ea64cd61</td>\n",
              "      <td>72940</td>\n",
              "      <td>-16.193742</td>\n",
              "      <td>-48.709521</td>\n",
              "      <td>abadiania</td>\n",
              "    </tr>\n",
              "    <tr>\n",
              "      <th>4</th>\n",
              "      <td>ca1a0307fe782c9125fd9264c92db778</td>\n",
              "      <td>35620</td>\n",
              "      <td>-19.158206</td>\n",
              "      <td>-45.446300</td>\n",
              "      <td>abaete</td>\n",
              "    </tr>\n",
              "  </tbody>\n",
              "</table>\n",
              "</div>\n",
              "    <div class=\"colab-df-buttons\">\n",
              "\n",
              "  <div class=\"colab-df-container\">\n",
              "    <button class=\"colab-df-convert\" onclick=\"convertToInteractive('df-934339c7-3137-4a1e-b61e-607285b90819')\"\n",
              "            title=\"Convert this dataframe to an interactive table.\"\n",
              "            style=\"display:none;\">\n",
              "\n",
              "  <svg xmlns=\"http://www.w3.org/2000/svg\" height=\"24px\" viewBox=\"0 -960 960 960\">\n",
              "    <path d=\"M120-120v-720h720v720H120Zm60-500h600v-160H180v160Zm220 220h160v-160H400v160Zm0 220h160v-160H400v160ZM180-400h160v-160H180v160Zm440 0h160v-160H620v160ZM180-180h160v-160H180v160Zm440 0h160v-160H620v160Z\"/>\n",
              "  </svg>\n",
              "    </button>\n",
              "\n",
              "  <style>\n",
              "    .colab-df-container {\n",
              "      display:flex;\n",
              "      gap: 12px;\n",
              "    }\n",
              "\n",
              "    .colab-df-convert {\n",
              "      background-color: #E8F0FE;\n",
              "      border: none;\n",
              "      border-radius: 50%;\n",
              "      cursor: pointer;\n",
              "      display: none;\n",
              "      fill: #1967D2;\n",
              "      height: 32px;\n",
              "      padding: 0 0 0 0;\n",
              "      width: 32px;\n",
              "    }\n",
              "\n",
              "    .colab-df-convert:hover {\n",
              "      background-color: #E2EBFA;\n",
              "      box-shadow: 0px 1px 2px rgba(60, 64, 67, 0.3), 0px 1px 3px 1px rgba(60, 64, 67, 0.15);\n",
              "      fill: #174EA6;\n",
              "    }\n",
              "\n",
              "    .colab-df-buttons div {\n",
              "      margin-bottom: 4px;\n",
              "    }\n",
              "\n",
              "    [theme=dark] .colab-df-convert {\n",
              "      background-color: #3B4455;\n",
              "      fill: #D2E3FC;\n",
              "    }\n",
              "\n",
              "    [theme=dark] .colab-df-convert:hover {\n",
              "      background-color: #434B5C;\n",
              "      box-shadow: 0px 1px 3px 1px rgba(0, 0, 0, 0.15);\n",
              "      filter: drop-shadow(0px 1px 2px rgba(0, 0, 0, 0.3));\n",
              "      fill: #FFFFFF;\n",
              "    }\n",
              "  </style>\n",
              "\n",
              "    <script>\n",
              "      const buttonEl =\n",
              "        document.querySelector('#df-934339c7-3137-4a1e-b61e-607285b90819 button.colab-df-convert');\n",
              "      buttonEl.style.display =\n",
              "        google.colab.kernel.accessAllowed ? 'block' : 'none';\n",
              "\n",
              "      async function convertToInteractive(key) {\n",
              "        const element = document.querySelector('#df-934339c7-3137-4a1e-b61e-607285b90819');\n",
              "        const dataTable =\n",
              "          await google.colab.kernel.invokeFunction('convertToInteractive',\n",
              "                                                    [key], {});\n",
              "        if (!dataTable) return;\n",
              "\n",
              "        const docLinkHtml = 'Like what you see? Visit the ' +\n",
              "          '<a target=\"_blank\" href=https://colab.research.google.com/notebooks/data_table.ipynb>data table notebook</a>'\n",
              "          + ' to learn more about interactive tables.';\n",
              "        element.innerHTML = '';\n",
              "        dataTable['output_type'] = 'display_data';\n",
              "        await google.colab.output.renderOutput(dataTable, element);\n",
              "        const docLink = document.createElement('div');\n",
              "        docLink.innerHTML = docLinkHtml;\n",
              "        element.appendChild(docLink);\n",
              "      }\n",
              "    </script>\n",
              "  </div>\n",
              "\n",
              "\n",
              "<div id=\"df-85ed0975-5960-4c7f-b37a-4ab5cbc0ad57\">\n",
              "  <button class=\"colab-df-quickchart\" onclick=\"quickchart('df-85ed0975-5960-4c7f-b37a-4ab5cbc0ad57')\"\n",
              "            title=\"Suggest charts.\"\n",
              "            style=\"display:none;\">\n",
              "\n",
              "<svg xmlns=\"http://www.w3.org/2000/svg\" height=\"24px\"viewBox=\"0 0 24 24\"\n",
              "     width=\"24px\">\n",
              "    <g>\n",
              "        <path d=\"M19 3H5c-1.1 0-2 .9-2 2v14c0 1.1.9 2 2 2h14c1.1 0 2-.9 2-2V5c0-1.1-.9-2-2-2zM9 17H7v-7h2v7zm4 0h-2V7h2v10zm4 0h-2v-4h2v4z\"/>\n",
              "    </g>\n",
              "</svg>\n",
              "  </button>\n",
              "\n",
              "<style>\n",
              "  .colab-df-quickchart {\n",
              "      --bg-color: #E8F0FE;\n",
              "      --fill-color: #1967D2;\n",
              "      --hover-bg-color: #E2EBFA;\n",
              "      --hover-fill-color: #174EA6;\n",
              "      --disabled-fill-color: #AAA;\n",
              "      --disabled-bg-color: #DDD;\n",
              "  }\n",
              "\n",
              "  [theme=dark] .colab-df-quickchart {\n",
              "      --bg-color: #3B4455;\n",
              "      --fill-color: #D2E3FC;\n",
              "      --hover-bg-color: #434B5C;\n",
              "      --hover-fill-color: #FFFFFF;\n",
              "      --disabled-bg-color: #3B4455;\n",
              "      --disabled-fill-color: #666;\n",
              "  }\n",
              "\n",
              "  .colab-df-quickchart {\n",
              "    background-color: var(--bg-color);\n",
              "    border: none;\n",
              "    border-radius: 50%;\n",
              "    cursor: pointer;\n",
              "    display: none;\n",
              "    fill: var(--fill-color);\n",
              "    height: 32px;\n",
              "    padding: 0;\n",
              "    width: 32px;\n",
              "  }\n",
              "\n",
              "  .colab-df-quickchart:hover {\n",
              "    background-color: var(--hover-bg-color);\n",
              "    box-shadow: 0 1px 2px rgba(60, 64, 67, 0.3), 0 1px 3px 1px rgba(60, 64, 67, 0.15);\n",
              "    fill: var(--button-hover-fill-color);\n",
              "  }\n",
              "\n",
              "  .colab-df-quickchart-complete:disabled,\n",
              "  .colab-df-quickchart-complete:disabled:hover {\n",
              "    background-color: var(--disabled-bg-color);\n",
              "    fill: var(--disabled-fill-color);\n",
              "    box-shadow: none;\n",
              "  }\n",
              "\n",
              "  .colab-df-spinner {\n",
              "    border: 2px solid var(--fill-color);\n",
              "    border-color: transparent;\n",
              "    border-bottom-color: var(--fill-color);\n",
              "    animation:\n",
              "      spin 1s steps(1) infinite;\n",
              "  }\n",
              "\n",
              "  @keyframes spin {\n",
              "    0% {\n",
              "      border-color: transparent;\n",
              "      border-bottom-color: var(--fill-color);\n",
              "      border-left-color: var(--fill-color);\n",
              "    }\n",
              "    20% {\n",
              "      border-color: transparent;\n",
              "      border-left-color: var(--fill-color);\n",
              "      border-top-color: var(--fill-color);\n",
              "    }\n",
              "    30% {\n",
              "      border-color: transparent;\n",
              "      border-left-color: var(--fill-color);\n",
              "      border-top-color: var(--fill-color);\n",
              "      border-right-color: var(--fill-color);\n",
              "    }\n",
              "    40% {\n",
              "      border-color: transparent;\n",
              "      border-right-color: var(--fill-color);\n",
              "      border-top-color: var(--fill-color);\n",
              "    }\n",
              "    60% {\n",
              "      border-color: transparent;\n",
              "      border-right-color: var(--fill-color);\n",
              "    }\n",
              "    80% {\n",
              "      border-color: transparent;\n",
              "      border-right-color: var(--fill-color);\n",
              "      border-bottom-color: var(--fill-color);\n",
              "    }\n",
              "    90% {\n",
              "      border-color: transparent;\n",
              "      border-bottom-color: var(--fill-color);\n",
              "    }\n",
              "  }\n",
              "</style>\n",
              "\n",
              "  <script>\n",
              "    async function quickchart(key) {\n",
              "      const quickchartButtonEl =\n",
              "        document.querySelector('#' + key + ' button');\n",
              "      quickchartButtonEl.disabled = true;  // To prevent multiple clicks.\n",
              "      quickchartButtonEl.classList.add('colab-df-spinner');\n",
              "      try {\n",
              "        const charts = await google.colab.kernel.invokeFunction(\n",
              "            'suggestCharts', [key], {});\n",
              "      } catch (error) {\n",
              "        console.error('Error during call to suggestCharts:', error);\n",
              "      }\n",
              "      quickchartButtonEl.classList.remove('colab-df-spinner');\n",
              "      quickchartButtonEl.classList.add('colab-df-quickchart-complete');\n",
              "    }\n",
              "    (() => {\n",
              "      let quickchartButtonEl =\n",
              "        document.querySelector('#df-85ed0975-5960-4c7f-b37a-4ab5cbc0ad57 button');\n",
              "      quickchartButtonEl.style.display =\n",
              "        google.colab.kernel.accessAllowed ? 'block' : 'none';\n",
              "    })();\n",
              "  </script>\n",
              "</div>\n",
              "    </div>\n",
              "  </div>\n"
            ]
          },
          "metadata": {},
          "execution_count": 43
        }
      ]
    },
    {
      "cell_type": "markdown",
      "source": [
        "## BBT1-34 Filtrar datos, reducir volumen de orders y geolocation2"
      ],
      "metadata": {
        "id": "ZfS4QagA_iAA"
      }
    },
    {
      "cell_type": "markdown",
      "source": [
        "COMO: desarrollador\n",
        "\n",
        "QUIERO: Filtrar el DataFrame de órdenes para resguardar las últimas 30 órdenes de cada ciudad.\n",
        "\n",
        "PARA: Reducir el volumen de datos y trabajar solo con las latitudes y longitudes de las últimas órdenes."
      ],
      "metadata": {
        "id": "BSHBqr97_qy5"
      }
    },
    {
      "cell_type": "code",
      "source": [
        "#Guardar el DataFrame en la base de datos como tabla\n",
        "orders_geo.to_sql('query_bbt1_24', conn, if_exists='replace', index=True)"
      ],
      "metadata": {
        "id": "TZ9v1qsZ_puU",
        "colab": {
          "base_uri": "https://localhost:8080/"
        },
        "outputId": "cf8cfb9a-54ac-4e18-8ab6-21094be8ab6a"
      },
      "execution_count": 44,
      "outputs": [
        {
          "output_type": "execute_result",
          "data": {
            "text/plain": [
              "99163"
            ]
          },
          "metadata": {},
          "execution_count": 44
        }
      ]
    },
    {
      "cell_type": "code",
      "source": [
        "query_bbt1_34 = '''\n",
        "WITH OrdersCity AS (\n",
        "  SELECT *,\n",
        "    ROW_NUMBER() OVER (PARTITION BY geolocation_city ORDER BY order_purchase_timestamp DESC) AS row_num\n",
        "  FROM query_bbt1_24\n",
        ")\n",
        "SELECT order_id, geolocation_zip_code_prefix, promedio_latitud, promedio_longitud, geolocation_city, order_purchase_timestamp\n",
        "FROM OrdersCity oc\n",
        "WHERE oc.row_num <= 30;\n",
        "'''\n",
        "\n",
        "filtro_ordenes_ciudad = pd.read_sql_query(query_bbt1_34, conn)\n",
        "filtro_ordenes_ciudad.head(10)"
      ],
      "metadata": {
        "colab": {
          "base_uri": "https://localhost:8080/",
          "height": 0
        },
        "id": "iGaFJ79SVlPp",
        "outputId": "6a4df519-02cb-4690-c0de-6db4ca766113"
      },
      "execution_count": 45,
      "outputs": [
        {
          "output_type": "execute_result",
          "data": {
            "text/plain": [
              "                           order_id  geolocation_zip_code_prefix  \\\n",
              "0  0a9a43ac5fe59c6c4bee2a8f9b9fcce8                        38540   \n",
              "1  50ba38c4dc467baab1ea2c8c7747934d                        38540   \n",
              "2  d99e6849f7676dade195f20c26f0eb4f                        38540   \n",
              "3  3f1294f87d79b57f5d55ba7b80c3d94f                        72940   \n",
              "4  5525ea8ee9e6150faa9b41dfc4024552                        35620   \n",
              "5  1c2f555edfc445e72867c301b68ac512                        35620   \n",
              "6  4ccc4e96e0fa5c35efbf9bf836ebef72                        35620   \n",
              "7  74bdc516d1c6a8e16cd1a546ea067c26                        35620   \n",
              "8  33d425553bc88c255ddeb68ab933167e                        35620   \n",
              "9  807756ebd577f025334944b87da7dbc3                        35620   \n",
              "\n",
              "   promedio_latitud  promedio_longitud     geolocation_city  \\\n",
              "0        -18.474476         -47.407837  abadia dos dourados   \n",
              "1        -18.474476         -47.407837  abadia dos dourados   \n",
              "2        -18.474476         -47.407837  abadia dos dourados   \n",
              "3        -16.193742         -48.709521            abadiania   \n",
              "4        -19.158206         -45.446300               abaete   \n",
              "5        -19.158206         -45.446300               abaete   \n",
              "6        -19.158206         -45.446300               abaete   \n",
              "7        -19.158206         -45.446300               abaete   \n",
              "8        -19.158206         -45.446300               abaete   \n",
              "9        -19.158206         -45.446300               abaete   \n",
              "\n",
              "  order_purchase_timestamp  \n",
              "0      2018-07-02 08:00:35  \n",
              "1      2018-03-02 21:32:44  \n",
              "2      2017-09-02 22:37:17  \n",
              "3      2018-01-28 14:21:58  \n",
              "4      2018-08-20 21:33:48  \n",
              "5      2018-06-28 16:12:59  \n",
              "6      2018-06-01 15:21:45  \n",
              "7      2018-03-27 11:00:09  \n",
              "8      2018-03-05 12:47:02  \n",
              "9      2017-11-23 16:47:19  "
            ],
            "text/html": [
              "\n",
              "  <div id=\"df-065678da-d7c1-45f7-a05e-b959ef83d9e1\" class=\"colab-df-container\">\n",
              "    <div>\n",
              "<style scoped>\n",
              "    .dataframe tbody tr th:only-of-type {\n",
              "        vertical-align: middle;\n",
              "    }\n",
              "\n",
              "    .dataframe tbody tr th {\n",
              "        vertical-align: top;\n",
              "    }\n",
              "\n",
              "    .dataframe thead th {\n",
              "        text-align: right;\n",
              "    }\n",
              "</style>\n",
              "<table border=\"1\" class=\"dataframe\">\n",
              "  <thead>\n",
              "    <tr style=\"text-align: right;\">\n",
              "      <th></th>\n",
              "      <th>order_id</th>\n",
              "      <th>geolocation_zip_code_prefix</th>\n",
              "      <th>promedio_latitud</th>\n",
              "      <th>promedio_longitud</th>\n",
              "      <th>geolocation_city</th>\n",
              "      <th>order_purchase_timestamp</th>\n",
              "    </tr>\n",
              "  </thead>\n",
              "  <tbody>\n",
              "    <tr>\n",
              "      <th>0</th>\n",
              "      <td>0a9a43ac5fe59c6c4bee2a8f9b9fcce8</td>\n",
              "      <td>38540</td>\n",
              "      <td>-18.474476</td>\n",
              "      <td>-47.407837</td>\n",
              "      <td>abadia dos dourados</td>\n",
              "      <td>2018-07-02 08:00:35</td>\n",
              "    </tr>\n",
              "    <tr>\n",
              "      <th>1</th>\n",
              "      <td>50ba38c4dc467baab1ea2c8c7747934d</td>\n",
              "      <td>38540</td>\n",
              "      <td>-18.474476</td>\n",
              "      <td>-47.407837</td>\n",
              "      <td>abadia dos dourados</td>\n",
              "      <td>2018-03-02 21:32:44</td>\n",
              "    </tr>\n",
              "    <tr>\n",
              "      <th>2</th>\n",
              "      <td>d99e6849f7676dade195f20c26f0eb4f</td>\n",
              "      <td>38540</td>\n",
              "      <td>-18.474476</td>\n",
              "      <td>-47.407837</td>\n",
              "      <td>abadia dos dourados</td>\n",
              "      <td>2017-09-02 22:37:17</td>\n",
              "    </tr>\n",
              "    <tr>\n",
              "      <th>3</th>\n",
              "      <td>3f1294f87d79b57f5d55ba7b80c3d94f</td>\n",
              "      <td>72940</td>\n",
              "      <td>-16.193742</td>\n",
              "      <td>-48.709521</td>\n",
              "      <td>abadiania</td>\n",
              "      <td>2018-01-28 14:21:58</td>\n",
              "    </tr>\n",
              "    <tr>\n",
              "      <th>4</th>\n",
              "      <td>5525ea8ee9e6150faa9b41dfc4024552</td>\n",
              "      <td>35620</td>\n",
              "      <td>-19.158206</td>\n",
              "      <td>-45.446300</td>\n",
              "      <td>abaete</td>\n",
              "      <td>2018-08-20 21:33:48</td>\n",
              "    </tr>\n",
              "    <tr>\n",
              "      <th>5</th>\n",
              "      <td>1c2f555edfc445e72867c301b68ac512</td>\n",
              "      <td>35620</td>\n",
              "      <td>-19.158206</td>\n",
              "      <td>-45.446300</td>\n",
              "      <td>abaete</td>\n",
              "      <td>2018-06-28 16:12:59</td>\n",
              "    </tr>\n",
              "    <tr>\n",
              "      <th>6</th>\n",
              "      <td>4ccc4e96e0fa5c35efbf9bf836ebef72</td>\n",
              "      <td>35620</td>\n",
              "      <td>-19.158206</td>\n",
              "      <td>-45.446300</td>\n",
              "      <td>abaete</td>\n",
              "      <td>2018-06-01 15:21:45</td>\n",
              "    </tr>\n",
              "    <tr>\n",
              "      <th>7</th>\n",
              "      <td>74bdc516d1c6a8e16cd1a546ea067c26</td>\n",
              "      <td>35620</td>\n",
              "      <td>-19.158206</td>\n",
              "      <td>-45.446300</td>\n",
              "      <td>abaete</td>\n",
              "      <td>2018-03-27 11:00:09</td>\n",
              "    </tr>\n",
              "    <tr>\n",
              "      <th>8</th>\n",
              "      <td>33d425553bc88c255ddeb68ab933167e</td>\n",
              "      <td>35620</td>\n",
              "      <td>-19.158206</td>\n",
              "      <td>-45.446300</td>\n",
              "      <td>abaete</td>\n",
              "      <td>2018-03-05 12:47:02</td>\n",
              "    </tr>\n",
              "    <tr>\n",
              "      <th>9</th>\n",
              "      <td>807756ebd577f025334944b87da7dbc3</td>\n",
              "      <td>35620</td>\n",
              "      <td>-19.158206</td>\n",
              "      <td>-45.446300</td>\n",
              "      <td>abaete</td>\n",
              "      <td>2017-11-23 16:47:19</td>\n",
              "    </tr>\n",
              "  </tbody>\n",
              "</table>\n",
              "</div>\n",
              "    <div class=\"colab-df-buttons\">\n",
              "\n",
              "  <div class=\"colab-df-container\">\n",
              "    <button class=\"colab-df-convert\" onclick=\"convertToInteractive('df-065678da-d7c1-45f7-a05e-b959ef83d9e1')\"\n",
              "            title=\"Convert this dataframe to an interactive table.\"\n",
              "            style=\"display:none;\">\n",
              "\n",
              "  <svg xmlns=\"http://www.w3.org/2000/svg\" height=\"24px\" viewBox=\"0 -960 960 960\">\n",
              "    <path d=\"M120-120v-720h720v720H120Zm60-500h600v-160H180v160Zm220 220h160v-160H400v160Zm0 220h160v-160H400v160ZM180-400h160v-160H180v160Zm440 0h160v-160H620v160ZM180-180h160v-160H180v160Zm440 0h160v-160H620v160Z\"/>\n",
              "  </svg>\n",
              "    </button>\n",
              "\n",
              "  <style>\n",
              "    .colab-df-container {\n",
              "      display:flex;\n",
              "      gap: 12px;\n",
              "    }\n",
              "\n",
              "    .colab-df-convert {\n",
              "      background-color: #E8F0FE;\n",
              "      border: none;\n",
              "      border-radius: 50%;\n",
              "      cursor: pointer;\n",
              "      display: none;\n",
              "      fill: #1967D2;\n",
              "      height: 32px;\n",
              "      padding: 0 0 0 0;\n",
              "      width: 32px;\n",
              "    }\n",
              "\n",
              "    .colab-df-convert:hover {\n",
              "      background-color: #E2EBFA;\n",
              "      box-shadow: 0px 1px 2px rgba(60, 64, 67, 0.3), 0px 1px 3px 1px rgba(60, 64, 67, 0.15);\n",
              "      fill: #174EA6;\n",
              "    }\n",
              "\n",
              "    .colab-df-buttons div {\n",
              "      margin-bottom: 4px;\n",
              "    }\n",
              "\n",
              "    [theme=dark] .colab-df-convert {\n",
              "      background-color: #3B4455;\n",
              "      fill: #D2E3FC;\n",
              "    }\n",
              "\n",
              "    [theme=dark] .colab-df-convert:hover {\n",
              "      background-color: #434B5C;\n",
              "      box-shadow: 0px 1px 3px 1px rgba(0, 0, 0, 0.15);\n",
              "      filter: drop-shadow(0px 1px 2px rgba(0, 0, 0, 0.3));\n",
              "      fill: #FFFFFF;\n",
              "    }\n",
              "  </style>\n",
              "\n",
              "    <script>\n",
              "      const buttonEl =\n",
              "        document.querySelector('#df-065678da-d7c1-45f7-a05e-b959ef83d9e1 button.colab-df-convert');\n",
              "      buttonEl.style.display =\n",
              "        google.colab.kernel.accessAllowed ? 'block' : 'none';\n",
              "\n",
              "      async function convertToInteractive(key) {\n",
              "        const element = document.querySelector('#df-065678da-d7c1-45f7-a05e-b959ef83d9e1');\n",
              "        const dataTable =\n",
              "          await google.colab.kernel.invokeFunction('convertToInteractive',\n",
              "                                                    [key], {});\n",
              "        if (!dataTable) return;\n",
              "\n",
              "        const docLinkHtml = 'Like what you see? Visit the ' +\n",
              "          '<a target=\"_blank\" href=https://colab.research.google.com/notebooks/data_table.ipynb>data table notebook</a>'\n",
              "          + ' to learn more about interactive tables.';\n",
              "        element.innerHTML = '';\n",
              "        dataTable['output_type'] = 'display_data';\n",
              "        await google.colab.output.renderOutput(dataTable, element);\n",
              "        const docLink = document.createElement('div');\n",
              "        docLink.innerHTML = docLinkHtml;\n",
              "        element.appendChild(docLink);\n",
              "      }\n",
              "    </script>\n",
              "  </div>\n",
              "\n",
              "\n",
              "<div id=\"df-8630390c-f75d-433a-a3b6-58bc9b324b50\">\n",
              "  <button class=\"colab-df-quickchart\" onclick=\"quickchart('df-8630390c-f75d-433a-a3b6-58bc9b324b50')\"\n",
              "            title=\"Suggest charts.\"\n",
              "            style=\"display:none;\">\n",
              "\n",
              "<svg xmlns=\"http://www.w3.org/2000/svg\" height=\"24px\"viewBox=\"0 0 24 24\"\n",
              "     width=\"24px\">\n",
              "    <g>\n",
              "        <path d=\"M19 3H5c-1.1 0-2 .9-2 2v14c0 1.1.9 2 2 2h14c1.1 0 2-.9 2-2V5c0-1.1-.9-2-2-2zM9 17H7v-7h2v7zm4 0h-2V7h2v10zm4 0h-2v-4h2v4z\"/>\n",
              "    </g>\n",
              "</svg>\n",
              "  </button>\n",
              "\n",
              "<style>\n",
              "  .colab-df-quickchart {\n",
              "      --bg-color: #E8F0FE;\n",
              "      --fill-color: #1967D2;\n",
              "      --hover-bg-color: #E2EBFA;\n",
              "      --hover-fill-color: #174EA6;\n",
              "      --disabled-fill-color: #AAA;\n",
              "      --disabled-bg-color: #DDD;\n",
              "  }\n",
              "\n",
              "  [theme=dark] .colab-df-quickchart {\n",
              "      --bg-color: #3B4455;\n",
              "      --fill-color: #D2E3FC;\n",
              "      --hover-bg-color: #434B5C;\n",
              "      --hover-fill-color: #FFFFFF;\n",
              "      --disabled-bg-color: #3B4455;\n",
              "      --disabled-fill-color: #666;\n",
              "  }\n",
              "\n",
              "  .colab-df-quickchart {\n",
              "    background-color: var(--bg-color);\n",
              "    border: none;\n",
              "    border-radius: 50%;\n",
              "    cursor: pointer;\n",
              "    display: none;\n",
              "    fill: var(--fill-color);\n",
              "    height: 32px;\n",
              "    padding: 0;\n",
              "    width: 32px;\n",
              "  }\n",
              "\n",
              "  .colab-df-quickchart:hover {\n",
              "    background-color: var(--hover-bg-color);\n",
              "    box-shadow: 0 1px 2px rgba(60, 64, 67, 0.3), 0 1px 3px 1px rgba(60, 64, 67, 0.15);\n",
              "    fill: var(--button-hover-fill-color);\n",
              "  }\n",
              "\n",
              "  .colab-df-quickchart-complete:disabled,\n",
              "  .colab-df-quickchart-complete:disabled:hover {\n",
              "    background-color: var(--disabled-bg-color);\n",
              "    fill: var(--disabled-fill-color);\n",
              "    box-shadow: none;\n",
              "  }\n",
              "\n",
              "  .colab-df-spinner {\n",
              "    border: 2px solid var(--fill-color);\n",
              "    border-color: transparent;\n",
              "    border-bottom-color: var(--fill-color);\n",
              "    animation:\n",
              "      spin 1s steps(1) infinite;\n",
              "  }\n",
              "\n",
              "  @keyframes spin {\n",
              "    0% {\n",
              "      border-color: transparent;\n",
              "      border-bottom-color: var(--fill-color);\n",
              "      border-left-color: var(--fill-color);\n",
              "    }\n",
              "    20% {\n",
              "      border-color: transparent;\n",
              "      border-left-color: var(--fill-color);\n",
              "      border-top-color: var(--fill-color);\n",
              "    }\n",
              "    30% {\n",
              "      border-color: transparent;\n",
              "      border-left-color: var(--fill-color);\n",
              "      border-top-color: var(--fill-color);\n",
              "      border-right-color: var(--fill-color);\n",
              "    }\n",
              "    40% {\n",
              "      border-color: transparent;\n",
              "      border-right-color: var(--fill-color);\n",
              "      border-top-color: var(--fill-color);\n",
              "    }\n",
              "    60% {\n",
              "      border-color: transparent;\n",
              "      border-right-color: var(--fill-color);\n",
              "    }\n",
              "    80% {\n",
              "      border-color: transparent;\n",
              "      border-right-color: var(--fill-color);\n",
              "      border-bottom-color: var(--fill-color);\n",
              "    }\n",
              "    90% {\n",
              "      border-color: transparent;\n",
              "      border-bottom-color: var(--fill-color);\n",
              "    }\n",
              "  }\n",
              "</style>\n",
              "\n",
              "  <script>\n",
              "    async function quickchart(key) {\n",
              "      const quickchartButtonEl =\n",
              "        document.querySelector('#' + key + ' button');\n",
              "      quickchartButtonEl.disabled = true;  // To prevent multiple clicks.\n",
              "      quickchartButtonEl.classList.add('colab-df-spinner');\n",
              "      try {\n",
              "        const charts = await google.colab.kernel.invokeFunction(\n",
              "            'suggestCharts', [key], {});\n",
              "      } catch (error) {\n",
              "        console.error('Error during call to suggestCharts:', error);\n",
              "      }\n",
              "      quickchartButtonEl.classList.remove('colab-df-spinner');\n",
              "      quickchartButtonEl.classList.add('colab-df-quickchart-complete');\n",
              "    }\n",
              "    (() => {\n",
              "      let quickchartButtonEl =\n",
              "        document.querySelector('#df-8630390c-f75d-433a-a3b6-58bc9b324b50 button');\n",
              "      quickchartButtonEl.style.display =\n",
              "        google.colab.kernel.accessAllowed ? 'block' : 'none';\n",
              "    })();\n",
              "  </script>\n",
              "</div>\n",
              "    </div>\n",
              "  </div>\n"
            ]
          },
          "metadata": {},
          "execution_count": 45
        }
      ]
    },
    {
      "cell_type": "markdown",
      "source": [
        "## BBT1-35 - Filtrar datos, reducir volumen de orders y reviews"
      ],
      "metadata": {
        "id": "kGHu-bPwxgV6"
      }
    },
    {
      "cell_type": "markdown",
      "source": [
        "COMO: desarrollador\n",
        "QUIERO: Filtrar el DataFrame de órdenes para resguardar las revisiones con puntaje mayor o igual a 3 y mayor importe de la órden.   \n",
        "PARA: Reducir el volumen de datos y trabajar solo con las revisiones de las órdenes con mayor ingreso."
      ],
      "metadata": {
        "id": "v37sFWOQxkq6"
      }
    },
    {
      "cell_type": "code",
      "source": [
        "query_bbt1_35 = '''\n",
        "    SELECT\n",
        "        o.order_id,\n",
        "        o.order_item_id,\n",
        "        o.product_id,\n",
        "        o.seller_id,\n",
        "        o.shipping_limit_date,\n",
        "        SUM(o.price) AS total_price,\n",
        "        o.freight_value\n",
        "    FROM order_items AS o\n",
        "    INNER JOIN order_review AS r\n",
        "        ON o.order_id = r.order_id\n",
        "    WHERE r.review_score >= 3\n",
        "    GROUP BY o.order_id\n",
        ";\n",
        "'''\n",
        "# bt1_35 = pd.read_sql_query(query_bt1_35, conn).reset_index(drop=True)\n",
        "bbt1_35 = pd.read_sql_query(query_bbt1_35, conn)\n",
        "bbt1_35.head(5)"
      ],
      "metadata": {
        "colab": {
          "base_uri": "https://localhost:8080/",
          "height": 0
        },
        "id": "wc7Icp6dxlF0",
        "outputId": "f4ba8011-26cf-4f59-a985-52acd681c029"
      },
      "execution_count": 46,
      "outputs": [
        {
          "output_type": "execute_result",
          "data": {
            "text/plain": [
              "                           order_id  order_item_id  \\\n",
              "0  00010242fe8c5a6d1ba2dd792cb16214              1   \n",
              "1  00018f77f2f0320c557190d7a144bdd3              1   \n",
              "2  000229ec398224ef6ca0657da4fc703e              1   \n",
              "3  00024acbcdf0a6daa1e931b038114c75              1   \n",
              "4  00042b26cf59d7ce69dfabb4e55b4fd9              1   \n",
              "\n",
              "                         product_id                         seller_id  \\\n",
              "0  4244733e06e7ecb4970a6e2683c13e61  48436dade18ac8b2bce089ec2a041202   \n",
              "1  e5f2d52b802189ee658865ca93d83a8f  dd7ddc04e1b6c2c614352b383efe2d36   \n",
              "2  c777355d18b72b67abbeef9df44fd0fd  5b51032eddd242adc84c38acab88f23d   \n",
              "3  7634da152a4610f1595efa32f14722fc  9d7a1d34a5052409006425275ba1c2b4   \n",
              "4  ac6c3623068f30de03045865e4e10089  df560393f3a51e74553ab94004ba5c87   \n",
              "\n",
              "   shipping_limit_date  total_price  freight_value  \n",
              "0  2017-09-19 09:45:35        58.90          13.29  \n",
              "1  2017-05-03 11:05:13       239.90          19.93  \n",
              "2  2018-01-18 14:48:30       199.00          17.87  \n",
              "3  2018-08-15 10:10:18        12.99          12.79  \n",
              "4  2017-02-13 13:57:51       199.90          18.14  "
            ],
            "text/html": [
              "\n",
              "  <div id=\"df-357ddaca-cae5-4d8e-b377-ffc0694e42f1\" class=\"colab-df-container\">\n",
              "    <div>\n",
              "<style scoped>\n",
              "    .dataframe tbody tr th:only-of-type {\n",
              "        vertical-align: middle;\n",
              "    }\n",
              "\n",
              "    .dataframe tbody tr th {\n",
              "        vertical-align: top;\n",
              "    }\n",
              "\n",
              "    .dataframe thead th {\n",
              "        text-align: right;\n",
              "    }\n",
              "</style>\n",
              "<table border=\"1\" class=\"dataframe\">\n",
              "  <thead>\n",
              "    <tr style=\"text-align: right;\">\n",
              "      <th></th>\n",
              "      <th>order_id</th>\n",
              "      <th>order_item_id</th>\n",
              "      <th>product_id</th>\n",
              "      <th>seller_id</th>\n",
              "      <th>shipping_limit_date</th>\n",
              "      <th>total_price</th>\n",
              "      <th>freight_value</th>\n",
              "    </tr>\n",
              "  </thead>\n",
              "  <tbody>\n",
              "    <tr>\n",
              "      <th>0</th>\n",
              "      <td>00010242fe8c5a6d1ba2dd792cb16214</td>\n",
              "      <td>1</td>\n",
              "      <td>4244733e06e7ecb4970a6e2683c13e61</td>\n",
              "      <td>48436dade18ac8b2bce089ec2a041202</td>\n",
              "      <td>2017-09-19 09:45:35</td>\n",
              "      <td>58.90</td>\n",
              "      <td>13.29</td>\n",
              "    </tr>\n",
              "    <tr>\n",
              "      <th>1</th>\n",
              "      <td>00018f77f2f0320c557190d7a144bdd3</td>\n",
              "      <td>1</td>\n",
              "      <td>e5f2d52b802189ee658865ca93d83a8f</td>\n",
              "      <td>dd7ddc04e1b6c2c614352b383efe2d36</td>\n",
              "      <td>2017-05-03 11:05:13</td>\n",
              "      <td>239.90</td>\n",
              "      <td>19.93</td>\n",
              "    </tr>\n",
              "    <tr>\n",
              "      <th>2</th>\n",
              "      <td>000229ec398224ef6ca0657da4fc703e</td>\n",
              "      <td>1</td>\n",
              "      <td>c777355d18b72b67abbeef9df44fd0fd</td>\n",
              "      <td>5b51032eddd242adc84c38acab88f23d</td>\n",
              "      <td>2018-01-18 14:48:30</td>\n",
              "      <td>199.00</td>\n",
              "      <td>17.87</td>\n",
              "    </tr>\n",
              "    <tr>\n",
              "      <th>3</th>\n",
              "      <td>00024acbcdf0a6daa1e931b038114c75</td>\n",
              "      <td>1</td>\n",
              "      <td>7634da152a4610f1595efa32f14722fc</td>\n",
              "      <td>9d7a1d34a5052409006425275ba1c2b4</td>\n",
              "      <td>2018-08-15 10:10:18</td>\n",
              "      <td>12.99</td>\n",
              "      <td>12.79</td>\n",
              "    </tr>\n",
              "    <tr>\n",
              "      <th>4</th>\n",
              "      <td>00042b26cf59d7ce69dfabb4e55b4fd9</td>\n",
              "      <td>1</td>\n",
              "      <td>ac6c3623068f30de03045865e4e10089</td>\n",
              "      <td>df560393f3a51e74553ab94004ba5c87</td>\n",
              "      <td>2017-02-13 13:57:51</td>\n",
              "      <td>199.90</td>\n",
              "      <td>18.14</td>\n",
              "    </tr>\n",
              "  </tbody>\n",
              "</table>\n",
              "</div>\n",
              "    <div class=\"colab-df-buttons\">\n",
              "\n",
              "  <div class=\"colab-df-container\">\n",
              "    <button class=\"colab-df-convert\" onclick=\"convertToInteractive('df-357ddaca-cae5-4d8e-b377-ffc0694e42f1')\"\n",
              "            title=\"Convert this dataframe to an interactive table.\"\n",
              "            style=\"display:none;\">\n",
              "\n",
              "  <svg xmlns=\"http://www.w3.org/2000/svg\" height=\"24px\" viewBox=\"0 -960 960 960\">\n",
              "    <path d=\"M120-120v-720h720v720H120Zm60-500h600v-160H180v160Zm220 220h160v-160H400v160Zm0 220h160v-160H400v160ZM180-400h160v-160H180v160Zm440 0h160v-160H620v160ZM180-180h160v-160H180v160Zm440 0h160v-160H620v160Z\"/>\n",
              "  </svg>\n",
              "    </button>\n",
              "\n",
              "  <style>\n",
              "    .colab-df-container {\n",
              "      display:flex;\n",
              "      gap: 12px;\n",
              "    }\n",
              "\n",
              "    .colab-df-convert {\n",
              "      background-color: #E8F0FE;\n",
              "      border: none;\n",
              "      border-radius: 50%;\n",
              "      cursor: pointer;\n",
              "      display: none;\n",
              "      fill: #1967D2;\n",
              "      height: 32px;\n",
              "      padding: 0 0 0 0;\n",
              "      width: 32px;\n",
              "    }\n",
              "\n",
              "    .colab-df-convert:hover {\n",
              "      background-color: #E2EBFA;\n",
              "      box-shadow: 0px 1px 2px rgba(60, 64, 67, 0.3), 0px 1px 3px 1px rgba(60, 64, 67, 0.15);\n",
              "      fill: #174EA6;\n",
              "    }\n",
              "\n",
              "    .colab-df-buttons div {\n",
              "      margin-bottom: 4px;\n",
              "    }\n",
              "\n",
              "    [theme=dark] .colab-df-convert {\n",
              "      background-color: #3B4455;\n",
              "      fill: #D2E3FC;\n",
              "    }\n",
              "\n",
              "    [theme=dark] .colab-df-convert:hover {\n",
              "      background-color: #434B5C;\n",
              "      box-shadow: 0px 1px 3px 1px rgba(0, 0, 0, 0.15);\n",
              "      filter: drop-shadow(0px 1px 2px rgba(0, 0, 0, 0.3));\n",
              "      fill: #FFFFFF;\n",
              "    }\n",
              "  </style>\n",
              "\n",
              "    <script>\n",
              "      const buttonEl =\n",
              "        document.querySelector('#df-357ddaca-cae5-4d8e-b377-ffc0694e42f1 button.colab-df-convert');\n",
              "      buttonEl.style.display =\n",
              "        google.colab.kernel.accessAllowed ? 'block' : 'none';\n",
              "\n",
              "      async function convertToInteractive(key) {\n",
              "        const element = document.querySelector('#df-357ddaca-cae5-4d8e-b377-ffc0694e42f1');\n",
              "        const dataTable =\n",
              "          await google.colab.kernel.invokeFunction('convertToInteractive',\n",
              "                                                    [key], {});\n",
              "        if (!dataTable) return;\n",
              "\n",
              "        const docLinkHtml = 'Like what you see? Visit the ' +\n",
              "          '<a target=\"_blank\" href=https://colab.research.google.com/notebooks/data_table.ipynb>data table notebook</a>'\n",
              "          + ' to learn more about interactive tables.';\n",
              "        element.innerHTML = '';\n",
              "        dataTable['output_type'] = 'display_data';\n",
              "        await google.colab.output.renderOutput(dataTable, element);\n",
              "        const docLink = document.createElement('div');\n",
              "        docLink.innerHTML = docLinkHtml;\n",
              "        element.appendChild(docLink);\n",
              "      }\n",
              "    </script>\n",
              "  </div>\n",
              "\n",
              "\n",
              "<div id=\"df-29df3bfb-7c2c-4756-9eda-0a2c33778125\">\n",
              "  <button class=\"colab-df-quickchart\" onclick=\"quickchart('df-29df3bfb-7c2c-4756-9eda-0a2c33778125')\"\n",
              "            title=\"Suggest charts.\"\n",
              "            style=\"display:none;\">\n",
              "\n",
              "<svg xmlns=\"http://www.w3.org/2000/svg\" height=\"24px\"viewBox=\"0 0 24 24\"\n",
              "     width=\"24px\">\n",
              "    <g>\n",
              "        <path d=\"M19 3H5c-1.1 0-2 .9-2 2v14c0 1.1.9 2 2 2h14c1.1 0 2-.9 2-2V5c0-1.1-.9-2-2-2zM9 17H7v-7h2v7zm4 0h-2V7h2v10zm4 0h-2v-4h2v4z\"/>\n",
              "    </g>\n",
              "</svg>\n",
              "  </button>\n",
              "\n",
              "<style>\n",
              "  .colab-df-quickchart {\n",
              "      --bg-color: #E8F0FE;\n",
              "      --fill-color: #1967D2;\n",
              "      --hover-bg-color: #E2EBFA;\n",
              "      --hover-fill-color: #174EA6;\n",
              "      --disabled-fill-color: #AAA;\n",
              "      --disabled-bg-color: #DDD;\n",
              "  }\n",
              "\n",
              "  [theme=dark] .colab-df-quickchart {\n",
              "      --bg-color: #3B4455;\n",
              "      --fill-color: #D2E3FC;\n",
              "      --hover-bg-color: #434B5C;\n",
              "      --hover-fill-color: #FFFFFF;\n",
              "      --disabled-bg-color: #3B4455;\n",
              "      --disabled-fill-color: #666;\n",
              "  }\n",
              "\n",
              "  .colab-df-quickchart {\n",
              "    background-color: var(--bg-color);\n",
              "    border: none;\n",
              "    border-radius: 50%;\n",
              "    cursor: pointer;\n",
              "    display: none;\n",
              "    fill: var(--fill-color);\n",
              "    height: 32px;\n",
              "    padding: 0;\n",
              "    width: 32px;\n",
              "  }\n",
              "\n",
              "  .colab-df-quickchart:hover {\n",
              "    background-color: var(--hover-bg-color);\n",
              "    box-shadow: 0 1px 2px rgba(60, 64, 67, 0.3), 0 1px 3px 1px rgba(60, 64, 67, 0.15);\n",
              "    fill: var(--button-hover-fill-color);\n",
              "  }\n",
              "\n",
              "  .colab-df-quickchart-complete:disabled,\n",
              "  .colab-df-quickchart-complete:disabled:hover {\n",
              "    background-color: var(--disabled-bg-color);\n",
              "    fill: var(--disabled-fill-color);\n",
              "    box-shadow: none;\n",
              "  }\n",
              "\n",
              "  .colab-df-spinner {\n",
              "    border: 2px solid var(--fill-color);\n",
              "    border-color: transparent;\n",
              "    border-bottom-color: var(--fill-color);\n",
              "    animation:\n",
              "      spin 1s steps(1) infinite;\n",
              "  }\n",
              "\n",
              "  @keyframes spin {\n",
              "    0% {\n",
              "      border-color: transparent;\n",
              "      border-bottom-color: var(--fill-color);\n",
              "      border-left-color: var(--fill-color);\n",
              "    }\n",
              "    20% {\n",
              "      border-color: transparent;\n",
              "      border-left-color: var(--fill-color);\n",
              "      border-top-color: var(--fill-color);\n",
              "    }\n",
              "    30% {\n",
              "      border-color: transparent;\n",
              "      border-left-color: var(--fill-color);\n",
              "      border-top-color: var(--fill-color);\n",
              "      border-right-color: var(--fill-color);\n",
              "    }\n",
              "    40% {\n",
              "      border-color: transparent;\n",
              "      border-right-color: var(--fill-color);\n",
              "      border-top-color: var(--fill-color);\n",
              "    }\n",
              "    60% {\n",
              "      border-color: transparent;\n",
              "      border-right-color: var(--fill-color);\n",
              "    }\n",
              "    80% {\n",
              "      border-color: transparent;\n",
              "      border-right-color: var(--fill-color);\n",
              "      border-bottom-color: var(--fill-color);\n",
              "    }\n",
              "    90% {\n",
              "      border-color: transparent;\n",
              "      border-bottom-color: var(--fill-color);\n",
              "    }\n",
              "  }\n",
              "</style>\n",
              "\n",
              "  <script>\n",
              "    async function quickchart(key) {\n",
              "      const quickchartButtonEl =\n",
              "        document.querySelector('#' + key + ' button');\n",
              "      quickchartButtonEl.disabled = true;  // To prevent multiple clicks.\n",
              "      quickchartButtonEl.classList.add('colab-df-spinner');\n",
              "      try {\n",
              "        const charts = await google.colab.kernel.invokeFunction(\n",
              "            'suggestCharts', [key], {});\n",
              "      } catch (error) {\n",
              "        console.error('Error during call to suggestCharts:', error);\n",
              "      }\n",
              "      quickchartButtonEl.classList.remove('colab-df-spinner');\n",
              "      quickchartButtonEl.classList.add('colab-df-quickchart-complete');\n",
              "    }\n",
              "    (() => {\n",
              "      let quickchartButtonEl =\n",
              "        document.querySelector('#df-29df3bfb-7c2c-4756-9eda-0a2c33778125 button');\n",
              "      quickchartButtonEl.style.display =\n",
              "        google.colab.kernel.accessAllowed ? 'block' : 'none';\n",
              "    })();\n",
              "  </script>\n",
              "</div>\n",
              "    </div>\n",
              "  </div>\n"
            ]
          },
          "metadata": {},
          "execution_count": 46
        }
      ]
    },
    {
      "cell_type": "markdown",
      "source": [
        "## BBT1-36 - Filtrar datos, reducir volumen de orders_items, products y products_category_translation"
      ],
      "metadata": {
        "id": "w_bcxdGLxo4l"
      }
    },
    {
      "cell_type": "markdown",
      "source": [
        "COMO: desarrollador\n",
        "QUIERO: Filtrar el DataFrame de las órdenes con mayor o igual importe al promedio de venta y resguardarlos junto con la información de la categoría traducida.\n",
        "PARA: Reducir el volumen de datos y trabajar solo con las órdenes de mayor ingreso al promedio y entender cuales son las categorías de los productos.."
      ],
      "metadata": {
        "id": "N3J2ib2ZxqbI"
      }
    },
    {
      "cell_type": "code",
      "source": [
        "query_bbt1_36 = '''\n",
        "    SELECT oi.order_id, c.product_category_name_english, oi.price\n",
        "    FROM order_items AS oi\n",
        "    INNER JOIN products AS p\n",
        "        ON oi.product_id = p.product_id\n",
        "    INNER JOIN category AS c\n",
        "        ON p.product_category_name = c.product_category_name\n",
        "    WHERE oi.price > (SELECT avg(price) FROM order_items)\n",
        "    GROUP BY oi.order_id\n",
        "    ORDER BY oi.price DESC\n",
        ";\n",
        "'''\n",
        "bbt1_36 = pd.read_sql_query(query_bbt1_36, conn)\n",
        "bbt1_36.head(5)"
      ],
      "metadata": {
        "colab": {
          "base_uri": "https://localhost:8080/",
          "height": 0
        },
        "id": "aL_zWu6_xrft",
        "outputId": "7f6199dd-e684-4c9a-c994-c766bbe96057"
      },
      "execution_count": 47,
      "outputs": [
        {
          "output_type": "execute_result",
          "data": {
            "text/plain": [
              "                           order_id product_category_name_english   price\n",
              "0  0812eb902a67711a1cb742b3cdaa65ae                    housewares  6735.0\n",
              "1  fefacc66af859508bf1a7934eab1e97f                     computers  6729.0\n",
              "2  f5136e38d1a14a4dbd87dff67da82701                           art  6499.0\n",
              "3  a96610ab360d42a2e5335a3998b4718a              small_appliances  4799.0\n",
              "4  199af31afc78c699f0dbf71fb178d4d4              small_appliances  4690.0"
            ],
            "text/html": [
              "\n",
              "  <div id=\"df-8140e46b-5407-4440-b62b-b83a57a73d74\" class=\"colab-df-container\">\n",
              "    <div>\n",
              "<style scoped>\n",
              "    .dataframe tbody tr th:only-of-type {\n",
              "        vertical-align: middle;\n",
              "    }\n",
              "\n",
              "    .dataframe tbody tr th {\n",
              "        vertical-align: top;\n",
              "    }\n",
              "\n",
              "    .dataframe thead th {\n",
              "        text-align: right;\n",
              "    }\n",
              "</style>\n",
              "<table border=\"1\" class=\"dataframe\">\n",
              "  <thead>\n",
              "    <tr style=\"text-align: right;\">\n",
              "      <th></th>\n",
              "      <th>order_id</th>\n",
              "      <th>product_category_name_english</th>\n",
              "      <th>price</th>\n",
              "    </tr>\n",
              "  </thead>\n",
              "  <tbody>\n",
              "    <tr>\n",
              "      <th>0</th>\n",
              "      <td>0812eb902a67711a1cb742b3cdaa65ae</td>\n",
              "      <td>housewares</td>\n",
              "      <td>6735.0</td>\n",
              "    </tr>\n",
              "    <tr>\n",
              "      <th>1</th>\n",
              "      <td>fefacc66af859508bf1a7934eab1e97f</td>\n",
              "      <td>computers</td>\n",
              "      <td>6729.0</td>\n",
              "    </tr>\n",
              "    <tr>\n",
              "      <th>2</th>\n",
              "      <td>f5136e38d1a14a4dbd87dff67da82701</td>\n",
              "      <td>art</td>\n",
              "      <td>6499.0</td>\n",
              "    </tr>\n",
              "    <tr>\n",
              "      <th>3</th>\n",
              "      <td>a96610ab360d42a2e5335a3998b4718a</td>\n",
              "      <td>small_appliances</td>\n",
              "      <td>4799.0</td>\n",
              "    </tr>\n",
              "    <tr>\n",
              "      <th>4</th>\n",
              "      <td>199af31afc78c699f0dbf71fb178d4d4</td>\n",
              "      <td>small_appliances</td>\n",
              "      <td>4690.0</td>\n",
              "    </tr>\n",
              "  </tbody>\n",
              "</table>\n",
              "</div>\n",
              "    <div class=\"colab-df-buttons\">\n",
              "\n",
              "  <div class=\"colab-df-container\">\n",
              "    <button class=\"colab-df-convert\" onclick=\"convertToInteractive('df-8140e46b-5407-4440-b62b-b83a57a73d74')\"\n",
              "            title=\"Convert this dataframe to an interactive table.\"\n",
              "            style=\"display:none;\">\n",
              "\n",
              "  <svg xmlns=\"http://www.w3.org/2000/svg\" height=\"24px\" viewBox=\"0 -960 960 960\">\n",
              "    <path d=\"M120-120v-720h720v720H120Zm60-500h600v-160H180v160Zm220 220h160v-160H400v160Zm0 220h160v-160H400v160ZM180-400h160v-160H180v160Zm440 0h160v-160H620v160ZM180-180h160v-160H180v160Zm440 0h160v-160H620v160Z\"/>\n",
              "  </svg>\n",
              "    </button>\n",
              "\n",
              "  <style>\n",
              "    .colab-df-container {\n",
              "      display:flex;\n",
              "      gap: 12px;\n",
              "    }\n",
              "\n",
              "    .colab-df-convert {\n",
              "      background-color: #E8F0FE;\n",
              "      border: none;\n",
              "      border-radius: 50%;\n",
              "      cursor: pointer;\n",
              "      display: none;\n",
              "      fill: #1967D2;\n",
              "      height: 32px;\n",
              "      padding: 0 0 0 0;\n",
              "      width: 32px;\n",
              "    }\n",
              "\n",
              "    .colab-df-convert:hover {\n",
              "      background-color: #E2EBFA;\n",
              "      box-shadow: 0px 1px 2px rgba(60, 64, 67, 0.3), 0px 1px 3px 1px rgba(60, 64, 67, 0.15);\n",
              "      fill: #174EA6;\n",
              "    }\n",
              "\n",
              "    .colab-df-buttons div {\n",
              "      margin-bottom: 4px;\n",
              "    }\n",
              "\n",
              "    [theme=dark] .colab-df-convert {\n",
              "      background-color: #3B4455;\n",
              "      fill: #D2E3FC;\n",
              "    }\n",
              "\n",
              "    [theme=dark] .colab-df-convert:hover {\n",
              "      background-color: #434B5C;\n",
              "      box-shadow: 0px 1px 3px 1px rgba(0, 0, 0, 0.15);\n",
              "      filter: drop-shadow(0px 1px 2px rgba(0, 0, 0, 0.3));\n",
              "      fill: #FFFFFF;\n",
              "    }\n",
              "  </style>\n",
              "\n",
              "    <script>\n",
              "      const buttonEl =\n",
              "        document.querySelector('#df-8140e46b-5407-4440-b62b-b83a57a73d74 button.colab-df-convert');\n",
              "      buttonEl.style.display =\n",
              "        google.colab.kernel.accessAllowed ? 'block' : 'none';\n",
              "\n",
              "      async function convertToInteractive(key) {\n",
              "        const element = document.querySelector('#df-8140e46b-5407-4440-b62b-b83a57a73d74');\n",
              "        const dataTable =\n",
              "          await google.colab.kernel.invokeFunction('convertToInteractive',\n",
              "                                                    [key], {});\n",
              "        if (!dataTable) return;\n",
              "\n",
              "        const docLinkHtml = 'Like what you see? Visit the ' +\n",
              "          '<a target=\"_blank\" href=https://colab.research.google.com/notebooks/data_table.ipynb>data table notebook</a>'\n",
              "          + ' to learn more about interactive tables.';\n",
              "        element.innerHTML = '';\n",
              "        dataTable['output_type'] = 'display_data';\n",
              "        await google.colab.output.renderOutput(dataTable, element);\n",
              "        const docLink = document.createElement('div');\n",
              "        docLink.innerHTML = docLinkHtml;\n",
              "        element.appendChild(docLink);\n",
              "      }\n",
              "    </script>\n",
              "  </div>\n",
              "\n",
              "\n",
              "<div id=\"df-9c8c1043-d18f-4410-96b1-358178de4da6\">\n",
              "  <button class=\"colab-df-quickchart\" onclick=\"quickchart('df-9c8c1043-d18f-4410-96b1-358178de4da6')\"\n",
              "            title=\"Suggest charts.\"\n",
              "            style=\"display:none;\">\n",
              "\n",
              "<svg xmlns=\"http://www.w3.org/2000/svg\" height=\"24px\"viewBox=\"0 0 24 24\"\n",
              "     width=\"24px\">\n",
              "    <g>\n",
              "        <path d=\"M19 3H5c-1.1 0-2 .9-2 2v14c0 1.1.9 2 2 2h14c1.1 0 2-.9 2-2V5c0-1.1-.9-2-2-2zM9 17H7v-7h2v7zm4 0h-2V7h2v10zm4 0h-2v-4h2v4z\"/>\n",
              "    </g>\n",
              "</svg>\n",
              "  </button>\n",
              "\n",
              "<style>\n",
              "  .colab-df-quickchart {\n",
              "      --bg-color: #E8F0FE;\n",
              "      --fill-color: #1967D2;\n",
              "      --hover-bg-color: #E2EBFA;\n",
              "      --hover-fill-color: #174EA6;\n",
              "      --disabled-fill-color: #AAA;\n",
              "      --disabled-bg-color: #DDD;\n",
              "  }\n",
              "\n",
              "  [theme=dark] .colab-df-quickchart {\n",
              "      --bg-color: #3B4455;\n",
              "      --fill-color: #D2E3FC;\n",
              "      --hover-bg-color: #434B5C;\n",
              "      --hover-fill-color: #FFFFFF;\n",
              "      --disabled-bg-color: #3B4455;\n",
              "      --disabled-fill-color: #666;\n",
              "  }\n",
              "\n",
              "  .colab-df-quickchart {\n",
              "    background-color: var(--bg-color);\n",
              "    border: none;\n",
              "    border-radius: 50%;\n",
              "    cursor: pointer;\n",
              "    display: none;\n",
              "    fill: var(--fill-color);\n",
              "    height: 32px;\n",
              "    padding: 0;\n",
              "    width: 32px;\n",
              "  }\n",
              "\n",
              "  .colab-df-quickchart:hover {\n",
              "    background-color: var(--hover-bg-color);\n",
              "    box-shadow: 0 1px 2px rgba(60, 64, 67, 0.3), 0 1px 3px 1px rgba(60, 64, 67, 0.15);\n",
              "    fill: var(--button-hover-fill-color);\n",
              "  }\n",
              "\n",
              "  .colab-df-quickchart-complete:disabled,\n",
              "  .colab-df-quickchart-complete:disabled:hover {\n",
              "    background-color: var(--disabled-bg-color);\n",
              "    fill: var(--disabled-fill-color);\n",
              "    box-shadow: none;\n",
              "  }\n",
              "\n",
              "  .colab-df-spinner {\n",
              "    border: 2px solid var(--fill-color);\n",
              "    border-color: transparent;\n",
              "    border-bottom-color: var(--fill-color);\n",
              "    animation:\n",
              "      spin 1s steps(1) infinite;\n",
              "  }\n",
              "\n",
              "  @keyframes spin {\n",
              "    0% {\n",
              "      border-color: transparent;\n",
              "      border-bottom-color: var(--fill-color);\n",
              "      border-left-color: var(--fill-color);\n",
              "    }\n",
              "    20% {\n",
              "      border-color: transparent;\n",
              "      border-left-color: var(--fill-color);\n",
              "      border-top-color: var(--fill-color);\n",
              "    }\n",
              "    30% {\n",
              "      border-color: transparent;\n",
              "      border-left-color: var(--fill-color);\n",
              "      border-top-color: var(--fill-color);\n",
              "      border-right-color: var(--fill-color);\n",
              "    }\n",
              "    40% {\n",
              "      border-color: transparent;\n",
              "      border-right-color: var(--fill-color);\n",
              "      border-top-color: var(--fill-color);\n",
              "    }\n",
              "    60% {\n",
              "      border-color: transparent;\n",
              "      border-right-color: var(--fill-color);\n",
              "    }\n",
              "    80% {\n",
              "      border-color: transparent;\n",
              "      border-right-color: var(--fill-color);\n",
              "      border-bottom-color: var(--fill-color);\n",
              "    }\n",
              "    90% {\n",
              "      border-color: transparent;\n",
              "      border-bottom-color: var(--fill-color);\n",
              "    }\n",
              "  }\n",
              "</style>\n",
              "\n",
              "  <script>\n",
              "    async function quickchart(key) {\n",
              "      const quickchartButtonEl =\n",
              "        document.querySelector('#' + key + ' button');\n",
              "      quickchartButtonEl.disabled = true;  // To prevent multiple clicks.\n",
              "      quickchartButtonEl.classList.add('colab-df-spinner');\n",
              "      try {\n",
              "        const charts = await google.colab.kernel.invokeFunction(\n",
              "            'suggestCharts', [key], {});\n",
              "      } catch (error) {\n",
              "        console.error('Error during call to suggestCharts:', error);\n",
              "      }\n",
              "      quickchartButtonEl.classList.remove('colab-df-spinner');\n",
              "      quickchartButtonEl.classList.add('colab-df-quickchart-complete');\n",
              "    }\n",
              "    (() => {\n",
              "      let quickchartButtonEl =\n",
              "        document.querySelector('#df-9c8c1043-d18f-4410-96b1-358178de4da6 button');\n",
              "      quickchartButtonEl.style.display =\n",
              "        google.colab.kernel.accessAllowed ? 'block' : 'none';\n",
              "    })();\n",
              "  </script>\n",
              "</div>\n",
              "    </div>\n",
              "  </div>\n"
            ]
          },
          "metadata": {},
          "execution_count": 47
        }
      ]
    },
    {
      "cell_type": "markdown",
      "source": [
        "## BBT1-37 - Filtrar datos, reducir volumen de orders, payments y customers"
      ],
      "metadata": {
        "id": "6d4tCRhfxwyc"
      }
    },
    {
      "cell_type": "markdown",
      "source": [
        "Descripción\n",
        "\n",
        "COMO: desarrollador QUIERO: Filtrar el DataFrame de órdenes tomando sólo aquellos compras realizadas tarjeta de crédito y cuyo importe sea mayor que el promedio de los pagos resguardando la información requerida junto con las ciudades de los clientes.\n",
        "PARA: Reducir el volumen de datos y trabajar solo con aquelas órdenes que tienen un monto representativo con tarjeta de crédito y entender de que ciudades corresponden."
      ],
      "metadata": {
        "id": "6MQaKxg0x2Ef"
      }
    },
    {
      "cell_type": "code",
      "source": [
        "query_bbt1_37 = '''\n",
        "    SELECT\n",
        "        o.*,\n",
        "        op.payment_type,\n",
        "        c.customer_city,\n",
        "        c.customer_state\n",
        "    FROM orders as o\n",
        "    INNER JOIN order_payments AS op\n",
        "        ON o.order_id = op.order_id\n",
        "    INNER JOIN customers AS c\n",
        "        ON o.customer_id = c.customer_id\n",
        "    WHERE op.payment_type = 'credit_card'\n",
        "        AND op.payment_value > (SELECT avg(payment_value) FROM order_payments)\n",
        ";\n",
        "'''\n",
        "bbt1_37 = pd.read_sql_query(query_bbt1_37, conn)\n",
        "bbt1_37.head(5)"
      ],
      "metadata": {
        "colab": {
          "base_uri": "https://localhost:8080/",
          "height": 0
        },
        "id": "j-hJPsOqx2oq",
        "outputId": "b0737cdb-2027-4e5a-f6f1-d3449e1433a7"
      },
      "execution_count": 48,
      "outputs": [
        {
          "output_type": "execute_result",
          "data": {
            "text/plain": [
              "   index                          order_id                       customer_id  \\\n",
              "0  90161  1f78449c87a54faf9e96e88ba1491fa9  68c9dafdf193586c290b19c71541357a   \n",
              "1  42220  d88e0d5fa41661ce03cf6cf336527646  fe0c5425832ac53c3be5cb4aea25b60f   \n",
              "2  16686  12e5cfe0e4716b59afb0e0f4a3bd6570  041cd6848abb3d3ca45e83dc971488fd   \n",
              "3  56184  8ac09207f415d55acff302df7d6a895c  2d8bf5f6862af587af2e0b085a04bf0d   \n",
              "4  76165  4214cda550ece8ee66441f459dc33a8c  be4ecdb7c9401fd98ed01456634cfcb2   \n",
              "\n",
              "  order_status order_purchase_timestamp    order_approved_at  \\\n",
              "0    delivered      2018-07-22 14:07:35  2018-07-23 11:32:08   \n",
              "1    delivered      2017-11-28 15:53:29  2017-11-28 16:17:30   \n",
              "2    delivered      2018-03-22 09:46:07  2018-03-23 09:48:20   \n",
              "3    delivered      2018-01-29 14:50:01  2018-01-29 15:18:37   \n",
              "4    delivered      2017-03-21 17:39:19  2017-03-21 17:39:19   \n",
              "\n",
              "  order_delivered_carrier_date order_delivered_customer_date  \\\n",
              "0          2018-07-23 12:58:00           2018-07-28 15:03:04   \n",
              "1          2017-12-12 23:22:02           2017-12-19 20:49:52   \n",
              "2          2018-03-28 15:32:48           2018-04-26 16:38:53   \n",
              "3          2018-01-30 17:36:57           2018-02-01 15:43:08   \n",
              "4          2017-03-22 10:26:53           2017-03-30 15:05:20   \n",
              "\n",
              "  order_estimated_delivery_date payment_type            customer_city  \\\n",
              "0           2018-08-14 00:00:00  credit_card           campina grande   \n",
              "1           2017-12-18 00:00:00  credit_card                  marilia   \n",
              "2           2018-04-12 00:00:00  credit_card  cachoeiro de itapemirim   \n",
              "3           2018-02-14 00:00:00  credit_card                  diadema   \n",
              "4           2017-04-25 00:00:00  credit_card                   pacaja   \n",
              "\n",
              "  customer_state  \n",
              "0             PB  \n",
              "1             SP  \n",
              "2             ES  \n",
              "3             SP  \n",
              "4             PA  "
            ],
            "text/html": [
              "\n",
              "  <div id=\"df-72b221d9-cb9a-4433-a86e-f0b13b9786b2\" class=\"colab-df-container\">\n",
              "    <div>\n",
              "<style scoped>\n",
              "    .dataframe tbody tr th:only-of-type {\n",
              "        vertical-align: middle;\n",
              "    }\n",
              "\n",
              "    .dataframe tbody tr th {\n",
              "        vertical-align: top;\n",
              "    }\n",
              "\n",
              "    .dataframe thead th {\n",
              "        text-align: right;\n",
              "    }\n",
              "</style>\n",
              "<table border=\"1\" class=\"dataframe\">\n",
              "  <thead>\n",
              "    <tr style=\"text-align: right;\">\n",
              "      <th></th>\n",
              "      <th>index</th>\n",
              "      <th>order_id</th>\n",
              "      <th>customer_id</th>\n",
              "      <th>order_status</th>\n",
              "      <th>order_purchase_timestamp</th>\n",
              "      <th>order_approved_at</th>\n",
              "      <th>order_delivered_carrier_date</th>\n",
              "      <th>order_delivered_customer_date</th>\n",
              "      <th>order_estimated_delivery_date</th>\n",
              "      <th>payment_type</th>\n",
              "      <th>customer_city</th>\n",
              "      <th>customer_state</th>\n",
              "    </tr>\n",
              "  </thead>\n",
              "  <tbody>\n",
              "    <tr>\n",
              "      <th>0</th>\n",
              "      <td>90161</td>\n",
              "      <td>1f78449c87a54faf9e96e88ba1491fa9</td>\n",
              "      <td>68c9dafdf193586c290b19c71541357a</td>\n",
              "      <td>delivered</td>\n",
              "      <td>2018-07-22 14:07:35</td>\n",
              "      <td>2018-07-23 11:32:08</td>\n",
              "      <td>2018-07-23 12:58:00</td>\n",
              "      <td>2018-07-28 15:03:04</td>\n",
              "      <td>2018-08-14 00:00:00</td>\n",
              "      <td>credit_card</td>\n",
              "      <td>campina grande</td>\n",
              "      <td>PB</td>\n",
              "    </tr>\n",
              "    <tr>\n",
              "      <th>1</th>\n",
              "      <td>42220</td>\n",
              "      <td>d88e0d5fa41661ce03cf6cf336527646</td>\n",
              "      <td>fe0c5425832ac53c3be5cb4aea25b60f</td>\n",
              "      <td>delivered</td>\n",
              "      <td>2017-11-28 15:53:29</td>\n",
              "      <td>2017-11-28 16:17:30</td>\n",
              "      <td>2017-12-12 23:22:02</td>\n",
              "      <td>2017-12-19 20:49:52</td>\n",
              "      <td>2017-12-18 00:00:00</td>\n",
              "      <td>credit_card</td>\n",
              "      <td>marilia</td>\n",
              "      <td>SP</td>\n",
              "    </tr>\n",
              "    <tr>\n",
              "      <th>2</th>\n",
              "      <td>16686</td>\n",
              "      <td>12e5cfe0e4716b59afb0e0f4a3bd6570</td>\n",
              "      <td>041cd6848abb3d3ca45e83dc971488fd</td>\n",
              "      <td>delivered</td>\n",
              "      <td>2018-03-22 09:46:07</td>\n",
              "      <td>2018-03-23 09:48:20</td>\n",
              "      <td>2018-03-28 15:32:48</td>\n",
              "      <td>2018-04-26 16:38:53</td>\n",
              "      <td>2018-04-12 00:00:00</td>\n",
              "      <td>credit_card</td>\n",
              "      <td>cachoeiro de itapemirim</td>\n",
              "      <td>ES</td>\n",
              "    </tr>\n",
              "    <tr>\n",
              "      <th>3</th>\n",
              "      <td>56184</td>\n",
              "      <td>8ac09207f415d55acff302df7d6a895c</td>\n",
              "      <td>2d8bf5f6862af587af2e0b085a04bf0d</td>\n",
              "      <td>delivered</td>\n",
              "      <td>2018-01-29 14:50:01</td>\n",
              "      <td>2018-01-29 15:18:37</td>\n",
              "      <td>2018-01-30 17:36:57</td>\n",
              "      <td>2018-02-01 15:43:08</td>\n",
              "      <td>2018-02-14 00:00:00</td>\n",
              "      <td>credit_card</td>\n",
              "      <td>diadema</td>\n",
              "      <td>SP</td>\n",
              "    </tr>\n",
              "    <tr>\n",
              "      <th>4</th>\n",
              "      <td>76165</td>\n",
              "      <td>4214cda550ece8ee66441f459dc33a8c</td>\n",
              "      <td>be4ecdb7c9401fd98ed01456634cfcb2</td>\n",
              "      <td>delivered</td>\n",
              "      <td>2017-03-21 17:39:19</td>\n",
              "      <td>2017-03-21 17:39:19</td>\n",
              "      <td>2017-03-22 10:26:53</td>\n",
              "      <td>2017-03-30 15:05:20</td>\n",
              "      <td>2017-04-25 00:00:00</td>\n",
              "      <td>credit_card</td>\n",
              "      <td>pacaja</td>\n",
              "      <td>PA</td>\n",
              "    </tr>\n",
              "  </tbody>\n",
              "</table>\n",
              "</div>\n",
              "    <div class=\"colab-df-buttons\">\n",
              "\n",
              "  <div class=\"colab-df-container\">\n",
              "    <button class=\"colab-df-convert\" onclick=\"convertToInteractive('df-72b221d9-cb9a-4433-a86e-f0b13b9786b2')\"\n",
              "            title=\"Convert this dataframe to an interactive table.\"\n",
              "            style=\"display:none;\">\n",
              "\n",
              "  <svg xmlns=\"http://www.w3.org/2000/svg\" height=\"24px\" viewBox=\"0 -960 960 960\">\n",
              "    <path d=\"M120-120v-720h720v720H120Zm60-500h600v-160H180v160Zm220 220h160v-160H400v160Zm0 220h160v-160H400v160ZM180-400h160v-160H180v160Zm440 0h160v-160H620v160ZM180-180h160v-160H180v160Zm440 0h160v-160H620v160Z\"/>\n",
              "  </svg>\n",
              "    </button>\n",
              "\n",
              "  <style>\n",
              "    .colab-df-container {\n",
              "      display:flex;\n",
              "      gap: 12px;\n",
              "    }\n",
              "\n",
              "    .colab-df-convert {\n",
              "      background-color: #E8F0FE;\n",
              "      border: none;\n",
              "      border-radius: 50%;\n",
              "      cursor: pointer;\n",
              "      display: none;\n",
              "      fill: #1967D2;\n",
              "      height: 32px;\n",
              "      padding: 0 0 0 0;\n",
              "      width: 32px;\n",
              "    }\n",
              "\n",
              "    .colab-df-convert:hover {\n",
              "      background-color: #E2EBFA;\n",
              "      box-shadow: 0px 1px 2px rgba(60, 64, 67, 0.3), 0px 1px 3px 1px rgba(60, 64, 67, 0.15);\n",
              "      fill: #174EA6;\n",
              "    }\n",
              "\n",
              "    .colab-df-buttons div {\n",
              "      margin-bottom: 4px;\n",
              "    }\n",
              "\n",
              "    [theme=dark] .colab-df-convert {\n",
              "      background-color: #3B4455;\n",
              "      fill: #D2E3FC;\n",
              "    }\n",
              "\n",
              "    [theme=dark] .colab-df-convert:hover {\n",
              "      background-color: #434B5C;\n",
              "      box-shadow: 0px 1px 3px 1px rgba(0, 0, 0, 0.15);\n",
              "      filter: drop-shadow(0px 1px 2px rgba(0, 0, 0, 0.3));\n",
              "      fill: #FFFFFF;\n",
              "    }\n",
              "  </style>\n",
              "\n",
              "    <script>\n",
              "      const buttonEl =\n",
              "        document.querySelector('#df-72b221d9-cb9a-4433-a86e-f0b13b9786b2 button.colab-df-convert');\n",
              "      buttonEl.style.display =\n",
              "        google.colab.kernel.accessAllowed ? 'block' : 'none';\n",
              "\n",
              "      async function convertToInteractive(key) {\n",
              "        const element = document.querySelector('#df-72b221d9-cb9a-4433-a86e-f0b13b9786b2');\n",
              "        const dataTable =\n",
              "          await google.colab.kernel.invokeFunction('convertToInteractive',\n",
              "                                                    [key], {});\n",
              "        if (!dataTable) return;\n",
              "\n",
              "        const docLinkHtml = 'Like what you see? Visit the ' +\n",
              "          '<a target=\"_blank\" href=https://colab.research.google.com/notebooks/data_table.ipynb>data table notebook</a>'\n",
              "          + ' to learn more about interactive tables.';\n",
              "        element.innerHTML = '';\n",
              "        dataTable['output_type'] = 'display_data';\n",
              "        await google.colab.output.renderOutput(dataTable, element);\n",
              "        const docLink = document.createElement('div');\n",
              "        docLink.innerHTML = docLinkHtml;\n",
              "        element.appendChild(docLink);\n",
              "      }\n",
              "    </script>\n",
              "  </div>\n",
              "\n",
              "\n",
              "<div id=\"df-a8b215cb-afe5-4d5a-a294-b5a9db3d19b8\">\n",
              "  <button class=\"colab-df-quickchart\" onclick=\"quickchart('df-a8b215cb-afe5-4d5a-a294-b5a9db3d19b8')\"\n",
              "            title=\"Suggest charts.\"\n",
              "            style=\"display:none;\">\n",
              "\n",
              "<svg xmlns=\"http://www.w3.org/2000/svg\" height=\"24px\"viewBox=\"0 0 24 24\"\n",
              "     width=\"24px\">\n",
              "    <g>\n",
              "        <path d=\"M19 3H5c-1.1 0-2 .9-2 2v14c0 1.1.9 2 2 2h14c1.1 0 2-.9 2-2V5c0-1.1-.9-2-2-2zM9 17H7v-7h2v7zm4 0h-2V7h2v10zm4 0h-2v-4h2v4z\"/>\n",
              "    </g>\n",
              "</svg>\n",
              "  </button>\n",
              "\n",
              "<style>\n",
              "  .colab-df-quickchart {\n",
              "      --bg-color: #E8F0FE;\n",
              "      --fill-color: #1967D2;\n",
              "      --hover-bg-color: #E2EBFA;\n",
              "      --hover-fill-color: #174EA6;\n",
              "      --disabled-fill-color: #AAA;\n",
              "      --disabled-bg-color: #DDD;\n",
              "  }\n",
              "\n",
              "  [theme=dark] .colab-df-quickchart {\n",
              "      --bg-color: #3B4455;\n",
              "      --fill-color: #D2E3FC;\n",
              "      --hover-bg-color: #434B5C;\n",
              "      --hover-fill-color: #FFFFFF;\n",
              "      --disabled-bg-color: #3B4455;\n",
              "      --disabled-fill-color: #666;\n",
              "  }\n",
              "\n",
              "  .colab-df-quickchart {\n",
              "    background-color: var(--bg-color);\n",
              "    border: none;\n",
              "    border-radius: 50%;\n",
              "    cursor: pointer;\n",
              "    display: none;\n",
              "    fill: var(--fill-color);\n",
              "    height: 32px;\n",
              "    padding: 0;\n",
              "    width: 32px;\n",
              "  }\n",
              "\n",
              "  .colab-df-quickchart:hover {\n",
              "    background-color: var(--hover-bg-color);\n",
              "    box-shadow: 0 1px 2px rgba(60, 64, 67, 0.3), 0 1px 3px 1px rgba(60, 64, 67, 0.15);\n",
              "    fill: var(--button-hover-fill-color);\n",
              "  }\n",
              "\n",
              "  .colab-df-quickchart-complete:disabled,\n",
              "  .colab-df-quickchart-complete:disabled:hover {\n",
              "    background-color: var(--disabled-bg-color);\n",
              "    fill: var(--disabled-fill-color);\n",
              "    box-shadow: none;\n",
              "  }\n",
              "\n",
              "  .colab-df-spinner {\n",
              "    border: 2px solid var(--fill-color);\n",
              "    border-color: transparent;\n",
              "    border-bottom-color: var(--fill-color);\n",
              "    animation:\n",
              "      spin 1s steps(1) infinite;\n",
              "  }\n",
              "\n",
              "  @keyframes spin {\n",
              "    0% {\n",
              "      border-color: transparent;\n",
              "      border-bottom-color: var(--fill-color);\n",
              "      border-left-color: var(--fill-color);\n",
              "    }\n",
              "    20% {\n",
              "      border-color: transparent;\n",
              "      border-left-color: var(--fill-color);\n",
              "      border-top-color: var(--fill-color);\n",
              "    }\n",
              "    30% {\n",
              "      border-color: transparent;\n",
              "      border-left-color: var(--fill-color);\n",
              "      border-top-color: var(--fill-color);\n",
              "      border-right-color: var(--fill-color);\n",
              "    }\n",
              "    40% {\n",
              "      border-color: transparent;\n",
              "      border-right-color: var(--fill-color);\n",
              "      border-top-color: var(--fill-color);\n",
              "    }\n",
              "    60% {\n",
              "      border-color: transparent;\n",
              "      border-right-color: var(--fill-color);\n",
              "    }\n",
              "    80% {\n",
              "      border-color: transparent;\n",
              "      border-right-color: var(--fill-color);\n",
              "      border-bottom-color: var(--fill-color);\n",
              "    }\n",
              "    90% {\n",
              "      border-color: transparent;\n",
              "      border-bottom-color: var(--fill-color);\n",
              "    }\n",
              "  }\n",
              "</style>\n",
              "\n",
              "  <script>\n",
              "    async function quickchart(key) {\n",
              "      const quickchartButtonEl =\n",
              "        document.querySelector('#' + key + ' button');\n",
              "      quickchartButtonEl.disabled = true;  // To prevent multiple clicks.\n",
              "      quickchartButtonEl.classList.add('colab-df-spinner');\n",
              "      try {\n",
              "        const charts = await google.colab.kernel.invokeFunction(\n",
              "            'suggestCharts', [key], {});\n",
              "      } catch (error) {\n",
              "        console.error('Error during call to suggestCharts:', error);\n",
              "      }\n",
              "      quickchartButtonEl.classList.remove('colab-df-spinner');\n",
              "      quickchartButtonEl.classList.add('colab-df-quickchart-complete');\n",
              "    }\n",
              "    (() => {\n",
              "      let quickchartButtonEl =\n",
              "        document.querySelector('#df-a8b215cb-afe5-4d5a-a294-b5a9db3d19b8 button');\n",
              "      quickchartButtonEl.style.display =\n",
              "        google.colab.kernel.accessAllowed ? 'block' : 'none';\n",
              "    })();\n",
              "  </script>\n",
              "</div>\n",
              "    </div>\n",
              "  </div>\n"
            ]
          },
          "metadata": {},
          "execution_count": 48
        }
      ]
    },
    {
      "cell_type": "markdown",
      "source": [
        "## BBT1-38 Carga de datos, generacion de archivos .csv de customers y orders"
      ],
      "metadata": {
        "id": "ZW4mcBay-JwX"
      }
    },
    {
      "cell_type": "markdown",
      "source": [
        "**Descripción**\n",
        "\n",
        "COMO: desarrollador\n",
        "\n",
        "QUIERO: Generar archivos .csv a partir del Dataframe generado de customers y orders.\n",
        "\n",
        "Los archivos deben cumplir los siguientes requerimientos:\n",
        "\n",
        "*     Contener cabecera.\n",
        "*   Separador “,”.\n",
        "\n",
        "\n",
        "\n",
        "Ser guardados en un directorio llamado Results\\Analysis_A.\n"
      ],
      "metadata": {
        "id": "y9yqlci__ZAE"
      }
    },
    {
      "cell_type": "code",
      "source": [
        "import os"
      ],
      "metadata": {
        "id": "veKuzaiN0L6G"
      },
      "execution_count": 49,
      "outputs": []
    },
    {
      "cell_type": "code",
      "source": [
        "#Si no esta creado el directorio, lo crea\n",
        "if not os.path.exists('Results/Analysis_A'):\n",
        "  os.makedirs('Results/Analysis_A')\n",
        "\n",
        "csv_filename = 'BBT1_38.csv'\n",
        "\n",
        "csv_path = 'Results/Analysis_A/' + csv_filename\n",
        "\n",
        "BBT1_31.to_csv(path_or_buf=csv_path, index=False, sep=',', header=True)\n",
        "\n",
        "print(f'Archivo CSV guardado en: {csv_path}')"
      ],
      "metadata": {
        "colab": {
          "base_uri": "https://localhost:8080/"
        },
        "id": "evfZfbVj0NW5",
        "outputId": "0c00d4a1-6e66-4757-9bad-b676e02d8f0e"
      },
      "execution_count": 183,
      "outputs": [
        {
          "output_type": "stream",
          "name": "stdout",
          "text": [
            "Archivo CSV guardado en: Results/Analysis_A/BBT1_38.csv\n"
          ]
        }
      ]
    },
    {
      "cell_type": "markdown",
      "source": [
        "## BBT1-39 Carga de datos, generacion de archivos .csv de orders y orders_items"
      ],
      "metadata": {
        "id": "y7NEPlmRATaO"
      }
    },
    {
      "cell_type": "markdown",
      "source": [
        "**Descripción**\n",
        "\n",
        "COMO: desarrollador\n",
        "\n",
        "QUIERO: Generar archivos .csv a partir del Dataframe generado de orders y orders_items.\n",
        "\n",
        "Los archivos deben cumplir los siguientes requerimientos:\n",
        "Contener cabecera.\n",
        "\n",
        "Separador “,”.\n",
        "\n",
        "Ser guardados en un directorio llamado Results\\Analysis_B.\n",
        "\n"
      ],
      "metadata": {
        "id": "OX8LtcLhBPBZ"
      }
    },
    {
      "cell_type": "code",
      "source": [
        "#Si no esta creado el directorio, lo crea\n",
        "if not os.path.exists('Results/Analysis_B'):\n",
        "  os.makedirs('Results/Analysis_B')\n",
        "\n",
        "csv_filename = 'BBT1_39.csv'\n",
        "\n",
        "csv_path = 'Results/Analysis_B/' + csv_filename\n",
        "\n",
        "bt_29.to_csv(path_or_buf=csv_path, index=False, sep=',', header=True)\n",
        "\n",
        "print(f'Archivo CSV guardado en: {csv_path}')"
      ],
      "metadata": {
        "colab": {
          "base_uri": "https://localhost:8080/"
        },
        "id": "OoXWZdhc3cKB",
        "outputId": "f8a3a05c-b9a8-4b8d-ccdf-8c874fb265bc"
      },
      "execution_count": 51,
      "outputs": [
        {
          "output_type": "stream",
          "name": "stdout",
          "text": [
            "Archivo CSV guardado en: Results/Analysis_B/BBT1_39.csv\n"
          ]
        }
      ]
    },
    {
      "cell_type": "markdown",
      "source": [
        "## BBT1-40 Carga de datos, generacion de archivos .csv de orders_items y sellers"
      ],
      "metadata": {
        "id": "gi0j0wb4Bznl"
      }
    },
    {
      "cell_type": "markdown",
      "source": [
        "**Descripción**\n",
        "COMO: desarrollador\n",
        "\n",
        "QUIERO: Generar archivos .csv a partir del Dataframe generado de orders_items y sellers.\n",
        "\n",
        "Los archivos deben cumplir los siguientes requerimientos:\n",
        "\n",
        "*     Contener cabecera.\n",
        "*   Separador “,”.\n",
        "\n",
        "\n",
        "\n",
        "Ser guardados en un directorio llamado Results\\Analysis_C."
      ],
      "metadata": {
        "id": "7VVP1TsoB_1Q"
      }
    },
    {
      "cell_type": "code",
      "source": [
        "#Si no esta creado el directorio, lo crea\n",
        "if not os.path.exists('Results/Analysis_C'):\n",
        "  os.makedirs('Results/Analysis_C')\n",
        "\n",
        "csv_filename = 'BBT1_40.csv'\n",
        "\n",
        "csv_path = 'Results/Analysis_C/' + csv_filename\n",
        "\n",
        "query_30.to_csv(path_or_buf=csv_path, index=False, sep=',', header=True)\n",
        "\n",
        "print(f'Archivo CSV guardado en: {csv_path}')"
      ],
      "metadata": {
        "colab": {
          "base_uri": "https://localhost:8080/"
        },
        "id": "d_4JCu6Y3mS_",
        "outputId": "dce97acf-5966-4d6b-d670-a1ce96077849"
      },
      "execution_count": 52,
      "outputs": [
        {
          "output_type": "stream",
          "name": "stdout",
          "text": [
            "Archivo CSV guardado en: Results/Analysis_C/BBT1_40.csv\n"
          ]
        }
      ]
    },
    {
      "cell_type": "markdown",
      "source": [
        "## BBT1-41 Carga de datos, generacion de archivos .csv de orders_items y products"
      ],
      "metadata": {
        "id": "aG2Za9VDvGV2"
      }
    },
    {
      "cell_type": "markdown",
      "source": [
        "Generar archivos .csv a partir del Dataframe generado de orders_items y products.\n",
        "Los archivos deben cumplir los siguientes requerimientos:\n",
        "Contener cabecera.\n",
        "Separador “,”.\n",
        "Ser guardados en un directorio llamado Results\\Analysis_D.\n",
        "PARA: Resguardar los datos enriquecidos, según requerimiento."
      ],
      "metadata": {
        "id": "8ThioTeTvPma"
      }
    },
    {
      "cell_type": "code",
      "source": [
        "#Si no esta creado el directorio, lo crea\n",
        "if not os.path.exists('Results/Analysis_D'):\n",
        "  os.makedirs('Results/Analysis_D')\n",
        "\n",
        "csv_filename = 'BBT1_31.csv'\n",
        "\n",
        "csv_path = 'Results/Analysis_D/' + csv_filename\n",
        "\n",
        "BBT1_31.to_csv(path_or_buf=csv_path, index=False, sep=',', header=True)\n",
        "\n",
        "print(f'Archivo CSV guardado en: {csv_path}')"
      ],
      "metadata": {
        "colab": {
          "base_uri": "https://localhost:8080/"
        },
        "id": "fSE968g94OfP",
        "outputId": "c0fc73b5-eb71-4de4-83d9-4643c8169b0f"
      },
      "execution_count": 53,
      "outputs": [
        {
          "output_type": "stream",
          "name": "stdout",
          "text": [
            "Archivo CSV guardado en: Results/Analysis_D/BBT1_31.csv\n"
          ]
        }
      ]
    },
    {
      "cell_type": "markdown",
      "source": [
        "## BBT1-42 Carga de datos, generacion de archivos .csv  de order y payments"
      ],
      "metadata": {
        "id": "g-3iovN_vJa7"
      }
    },
    {
      "cell_type": "markdown",
      "source": [
        "Generar archivos .csv a partir del Dataframe generado de orders y payments.\n",
        "Los archivos deben cumplir los siguientes requerimientos:\n",
        "Contener cabecera.\n",
        "Separador “,”.\n",
        "Ser guardados en un directorio llamado Results\\Analysis_E.\n",
        "PARA: Resguardar los datos enriquecidos, según requerimiento."
      ],
      "metadata": {
        "id": "E2YaWnzFvVFo"
      }
    },
    {
      "cell_type": "code",
      "source": [
        "#Si no esta creado el directorio, lo crea\n",
        "if not os.path.exists('Results/Analysis_E'):\n",
        "  os.makedirs('Results/Analysis_E')\n",
        "\n",
        "csv_filename = 'BBT1_32.csv'\n",
        "\n",
        "csv_path = 'Results/Analysis_E/' + csv_filename\n",
        "\n",
        "BBT1_32.to_csv(path_or_buf=csv_path, index=False, sep=',', header=True)\n",
        "\n",
        "print(f'Archivo CSV guardado en: {csv_path}')"
      ],
      "metadata": {
        "colab": {
          "base_uri": "https://localhost:8080/"
        },
        "id": "nQZLKEGR4Y3t",
        "outputId": "a8aeeceb-947f-41d2-c250-5d2cc5e967a0"
      },
      "execution_count": 54,
      "outputs": [
        {
          "output_type": "stream",
          "name": "stdout",
          "text": [
            "Archivo CSV guardado en: Results/Analysis_E/BBT1_32.csv\n"
          ]
        }
      ]
    },
    {
      "cell_type": "markdown",
      "source": [
        "Se realiza el guardado de la segunda consulta del filtrado tambien."
      ],
      "metadata": {
        "id": "kLd7Q_mI6M6g"
      }
    },
    {
      "cell_type": "code",
      "source": [
        "#Si no esta creado el directorio, lo crea\n",
        "if not os.path.exists('Results/Analysis_E'):\n",
        "  os.makedirs('Results/Analysis_E')\n",
        "\n",
        "csv_filename = 'BBT1_32.bis.csv'\n",
        "\n",
        "csv_path = 'Results/Analysis_E/' + csv_filename\n",
        "\n",
        "BBT1_32_bis.to_csv(path_or_buf=csv_path, index=False, sep=',', header=True)\n",
        "\n",
        "print(f'Archivo CSV guardado en: {csv_path}')"
      ],
      "metadata": {
        "colab": {
          "base_uri": "https://localhost:8080/"
        },
        "id": "e3XJMX7i4gpN",
        "outputId": "4243d104-4e77-4702-942b-2d39bcd978b9"
      },
      "execution_count": 55,
      "outputs": [
        {
          "output_type": "stream",
          "name": "stdout",
          "text": [
            "Archivo CSV guardado en: Results/Analysis_E/BBT1_32.bis.csv\n"
          ]
        }
      ]
    },
    {
      "cell_type": "markdown",
      "source": [
        "## BBT1-43 Carga de datos, generación de archivos .csv de customers y geolocation2"
      ],
      "metadata": {
        "id": "gpbXeEilACr7"
      }
    },
    {
      "cell_type": "markdown",
      "source": [
        "COMO: desarrollador\n",
        "\n",
        "QUIERO: Generar archivos .csv a partir del Dataframe generado de customers y geolocations.\n",
        "Los archivos deben cumplir los siguientes requerimientos:\n",
        "\n",
        "*   Contener cabecera.\n",
        "*   Separador \",\".\n",
        "*   Ser guardados en un directorio llamado Results\\Analysis_F.\n",
        "\n",
        "PARA: Resguardar los datos enriquecidos, según requerimiento."
      ],
      "metadata": {
        "id": "OLEvwrhRAFlb"
      }
    },
    {
      "cell_type": "code",
      "source": [
        "import os"
      ],
      "metadata": {
        "id": "f8V7foiCGTzN"
      },
      "execution_count": 56,
      "outputs": []
    },
    {
      "cell_type": "code",
      "source": [
        "#Si no esta creado el directorio, lo crea\n",
        "if not os.path.exists('Results/Analysis_F'):\n",
        "  os.makedirs('Results/Analysis_F')\n",
        "\n",
        "csv_filename = 'BBT1-33.csv'\n",
        "\n",
        "csv_path = 'Results/Analysis_F/' + csv_filename\n",
        "\n",
        "filtro_clientes_ciudad.to_csv(path_or_buf=csv_path, index=False, sep=',', header=True)\n",
        "\n",
        "print(f'Archivo CSV guardado en: {csv_path}')"
      ],
      "metadata": {
        "id": "7NWCkUw_AxGe",
        "colab": {
          "base_uri": "https://localhost:8080/"
        },
        "outputId": "2d9dd5f4-cd58-47b8-929c-6dd62d3c7705"
      },
      "execution_count": 57,
      "outputs": [
        {
          "output_type": "stream",
          "name": "stdout",
          "text": [
            "Archivo CSV guardado en: Results/Analysis_F/BBT1-33.csv\n"
          ]
        }
      ]
    },
    {
      "cell_type": "markdown",
      "source": [
        "## BBT1-44 Carga de datos, generación de archivos .csv de orders y geolocation2"
      ],
      "metadata": {
        "id": "gC525MCNAhno"
      }
    },
    {
      "cell_type": "markdown",
      "source": [
        "COMO: desarrollador\n",
        "\n",
        "QUIERO: Generar archivos .csv a partir del Dataframe generado de orders y geolocations. Los archivos deben cumplir los siguientes requerimientos:\n",
        "*   Contener cabecera.\n",
        "*   Separador \",\".\n",
        "*   Ser guardados en un directorio llamado Results\\Analysis_G.\n",
        "\n",
        "PARA: Resguardar los datos enriquecidos, según requerimiento."
      ],
      "metadata": {
        "id": "_pVO5NW_Ajj-"
      }
    },
    {
      "cell_type": "code",
      "source": [
        "#Si no esta creado el directorio, lo crea\n",
        "if not os.path.exists('Results/Analysis_G'):\n",
        "  os.makedirs('Results/Analysis_G')\n",
        "\n",
        "csv_filename = 'BBT1-34.csv'\n",
        "\n",
        "csv_path = 'Results/Analysis_G/' + csv_filename\n",
        "\n",
        "filtro_ordenes_ciudad.to_csv(path_or_buf=csv_path, index=False, sep=',', header=True)\n",
        "\n",
        "print(f'Archivo CSV guardado en: {csv_path}')"
      ],
      "metadata": {
        "id": "KthWq1EJAxfL",
        "colab": {
          "base_uri": "https://localhost:8080/"
        },
        "outputId": "4fc58bc3-768c-4146-b838-f2fc6f95de77"
      },
      "execution_count": 58,
      "outputs": [
        {
          "output_type": "stream",
          "name": "stdout",
          "text": [
            "Archivo CSV guardado en: Results/Analysis_G/BBT1-34.csv\n"
          ]
        }
      ]
    },
    {
      "cell_type": "markdown",
      "source": [
        "## BBT1-45 - Carga de datos, generacion de archivos .csv de orders y reviews"
      ],
      "metadata": {
        "id": "6TF8_i7sxCOo"
      }
    },
    {
      "cell_type": "markdown",
      "source": [
        "Descripción\n",
        "\n",
        "COMO: desarrollador\n",
        "QUIERO: Generar archivos .csv a partir del Dataframe generado de orders y reviews. Los archivos deben cumplir los siguientes requerimientos:\n",
        "Contener cabecera.\n",
        "Separador “,”.\n",
        "Ser guardados en un directorio llamado Results\\Analysis_H.\n",
        "PARA: Resguardar los datos enriquecidos, según requerimiento."
      ],
      "metadata": {
        "id": "AP7Z6JpuxEVF"
      }
    },
    {
      "cell_type": "code",
      "source": [
        "'''\n",
        "Formato para hacer las consultas\n",
        "\n",
        "BT1_NN.to_sql('Query_BT1_NN', conn, index=True, if_exists='replace')\n",
        "'''"
      ],
      "metadata": {
        "colab": {
          "base_uri": "https://localhost:8080/",
          "height": 0
        },
        "id": "O4fAJnJ8xF9U",
        "outputId": "ea41922a-88af-457f-9ab9-0c2a6fdf39f4"
      },
      "execution_count": 59,
      "outputs": [
        {
          "output_type": "execute_result",
          "data": {
            "text/plain": [
              "\"\\nFormato para hacer las consultas\\n\\nBT1_NN.to_sql('Query_BT1_NN', conn, index=True, if_exists='replace')\\n\""
            ],
            "application/vnd.google.colaboratory.intrinsic+json": {
              "type": "string"
            }
          },
          "metadata": {},
          "execution_count": 59
        }
      ]
    },
    {
      "cell_type": "code",
      "source": [
        "#Si no esta creado el directorio, lo crea\n",
        "if not os.path.exists('Results/Analysis_H'):\n",
        "  os.makedirs('Results/Analysis_H')\n",
        "\n",
        "csv_filename = 'bbt1_35.csv'\n",
        "\n",
        "csv_path = 'Results/Analysis_H/' + csv_filename\n",
        "\n",
        "bbt1_35.to_csv(path_or_buf=csv_path, index=False, sep=',', header=True)\n",
        "\n",
        "print(f'Archivo CSV guardado en: {csv_path}')"
      ],
      "metadata": {
        "colab": {
          "base_uri": "https://localhost:8080/"
        },
        "id": "ITYnzcxm4pGO",
        "outputId": "01e707c8-69ee-44af-863c-ccdb2573dad9"
      },
      "execution_count": 60,
      "outputs": [
        {
          "output_type": "stream",
          "name": "stdout",
          "text": [
            "Archivo CSV guardado en: Results/Analysis_H/bbt1_35.csv\n"
          ]
        }
      ]
    },
    {
      "cell_type": "markdown",
      "source": [
        "## BBT1-46 - Carga de datos, generacion de archivos .csv de orders_items, products y products_category_translation"
      ],
      "metadata": {
        "id": "pqvN3B6PxN-m"
      }
    },
    {
      "cell_type": "markdown",
      "source": [
        "Descripción\n",
        "\n",
        "COMO: desarrollador\n",
        "QUIERO: Generar archivos .csv a partir del Dataframe generado de orders_items, products y products_category_translation. Los archivos deben cumplir los siguientes requerimientos:\n",
        "Contener cabecera.\n",
        "Separador “,”.\n",
        "Ser guardados en un directorio llamado Results\\Analysis_I.\n",
        "PARA: Resguardar los datos enriquecidos, según requerimiento."
      ],
      "metadata": {
        "id": "bxVHTngHxQfE"
      }
    },
    {
      "cell_type": "code",
      "source": [
        "#Si no esta creado el directorio, lo crea\n",
        "if not os.path.exists('Results/Analysis_I'):\n",
        "  os.makedirs('Results/Analysis_I')\n",
        "\n",
        "csv_filename = 'bbt1_36.csv'\n",
        "\n",
        "csv_path = 'Results/Analysis_I/' + csv_filename\n",
        "\n",
        "bbt1_36.to_csv(path_or_buf=csv_path, index=False, sep=',', header=True)\n",
        "\n",
        "print(f'Archivo CSV guardado en: {csv_path}')"
      ],
      "metadata": {
        "colab": {
          "base_uri": "https://localhost:8080/"
        },
        "id": "B25MNHex41jk",
        "outputId": "613ea229-abcf-4918-8030-954ca89bb850"
      },
      "execution_count": 61,
      "outputs": [
        {
          "output_type": "stream",
          "name": "stdout",
          "text": [
            "Archivo CSV guardado en: Results/Analysis_I/bbt1_36.csv\n"
          ]
        }
      ]
    },
    {
      "cell_type": "markdown",
      "source": [
        "## BBT1-47 - Carga de datos, generacion de archivos .csv de orders, payments y customers"
      ],
      "metadata": {
        "id": "a_L3VzYyxUck"
      }
    },
    {
      "cell_type": "markdown",
      "source": [
        "Descripción\n",
        "\n",
        "COMO: desarrollador\n",
        "QUIERO: Generar archivos .csv a partir del Dataframe generado de orders, payments y customers. Los archivos deben cumplir los siguientes requerimientos:\n",
        "Contener cabecera.\n",
        "Separador “,”.\n",
        "Ser guardados en un directorio llamado Results\\Analysis_J.\n",
        "PARA: Resguardar los datos enriquecidos, según requerimiento."
      ],
      "metadata": {
        "id": "IR3IZtzMxWvq"
      }
    },
    {
      "cell_type": "code",
      "source": [
        "#Si no esta creado el directorio, lo crea\n",
        "if not os.path.exists('Results/Analysis_J'):\n",
        "  os.makedirs('Results/Analysis_J')\n",
        "\n",
        "csv_filename = 'bbt1_37.csv'\n",
        "\n",
        "csv_path = 'Results/Analysis_J/' + csv_filename\n",
        "\n",
        "bbt1_37.to_csv(path_or_buf=csv_path, index=False, sep=',', header=True)\n",
        "\n",
        "print(f'Archivo CSV guardado en: {csv_path}')"
      ],
      "metadata": {
        "colab": {
          "base_uri": "https://localhost:8080/"
        },
        "id": "nIyEAwL94-pD",
        "outputId": "b761f277-b03d-42ec-ba0c-37cae0cb616e"
      },
      "execution_count": 62,
      "outputs": [
        {
          "output_type": "stream",
          "name": "stdout",
          "text": [
            "Archivo CSV guardado en: Results/Analysis_J/bbt1_37.csv\n"
          ]
        }
      ]
    },
    {
      "cell_type": "markdown",
      "source": [
        "## BBT1-48 Extraccion de datos desde .csv, análisis A"
      ],
      "metadata": {
        "id": "1sQsvxu0GCqu"
      }
    },
    {
      "cell_type": "markdown",
      "source": [
        "**Descripción**\n",
        "\n",
        "COMO: desarrollador\n",
        "\n",
        "QUIERO: Cargar los datos del análisis A generados en un DataFrame.\n",
        "\n",
        "PARA: Poder analizar el conjunto de datos."
      ],
      "metadata": {
        "id": "hjR0ro_dGfVb"
      }
    },
    {
      "cell_type": "code",
      "source": [
        "!pip install pyspark"
      ],
      "metadata": {
        "id": "8W7amOFKGL7T",
        "colab": {
          "base_uri": "https://localhost:8080/"
        },
        "outputId": "f06886f1-3b37-403b-cea0-fd04a107c9e1"
      },
      "execution_count": 63,
      "outputs": [
        {
          "output_type": "stream",
          "name": "stdout",
          "text": [
            "Collecting pyspark\n",
            "  Downloading pyspark-3.4.1.tar.gz (310.8 MB)\n",
            "\u001b[2K     \u001b[90m━━━━━━━━━━━━━━━━━━━━━━━━━━━━━━━━━━━━━━━\u001b[0m \u001b[32m310.8/310.8 MB\u001b[0m \u001b[31m2.0 MB/s\u001b[0m eta \u001b[36m0:00:00\u001b[0m\n",
            "\u001b[?25h  Preparing metadata (setup.py) ... \u001b[?25l\u001b[?25hdone\n",
            "Requirement already satisfied: py4j==0.10.9.7 in /usr/local/lib/python3.10/dist-packages (from pyspark) (0.10.9.7)\n",
            "Building wheels for collected packages: pyspark\n",
            "  Building wheel for pyspark (setup.py) ... \u001b[?25l\u001b[?25hdone\n",
            "  Created wheel for pyspark: filename=pyspark-3.4.1-py2.py3-none-any.whl size=311285387 sha256=ee135daea7064c989c5545d1586f0ae238c5eb587ab1f79c64c0624b29328cea\n",
            "  Stored in directory: /root/.cache/pip/wheels/0d/77/a3/ff2f74cc9ab41f8f594dabf0579c2a7c6de920d584206e0834\n",
            "Successfully built pyspark\n",
            "Installing collected packages: pyspark\n",
            "Successfully installed pyspark-3.4.1\n"
          ]
        }
      ]
    },
    {
      "cell_type": "code",
      "source": [
        "from pyspark.sql import SparkSession\n",
        "spark = SparkSession.builder.getOrCreate()"
      ],
      "metadata": {
        "id": "8l4m6kF3JiMe"
      },
      "execution_count": 64,
      "outputs": []
    },
    {
      "cell_type": "code",
      "source": [
        "path_bbt1_38 = '/content/Results/Analysis_A'\n",
        "bbt1_48_spark = spark.read.load(path_bbt1_38, format='csv', sep=',', inferSchema='true', header='true')\n",
        "bbt1_48_spark.show(5)"
      ],
      "metadata": {
        "id": "TZGzdXpnL4bM",
        "colab": {
          "base_uri": "https://localhost:8080/"
        },
        "outputId": "62301272-16b1-4cde-8c22-1cda535438b1"
      },
      "execution_count": 184,
      "outputs": [
        {
          "output_type": "stream",
          "name": "stdout",
          "text": [
            "+--------------------+--------------------+------------------------+\n",
            "|  customer_unique_id|            order_id|order_purchase_timestamp|\n",
            "+--------------------+--------------------+------------------------+\n",
            "|0000366f3b9a7992b...|e22acc9c116caa3f2...|     2018-05-10 10:56:27|\n",
            "|0000b849f77a49e4a...|3594e05a005ac4d06...|     2018-05-07 11:11:27|\n",
            "|0000f46a3911fa3c0...|b33ec3b6993371814...|     2017-03-10 21:05:03|\n",
            "|0000f6ccb0745a6a4...|41272756ecddd9a9e...|     2017-10-12 20:29:41|\n",
            "|0004aac84e0df4da2...|d957021f1127559cd...|     2017-11-14 19:45:42|\n",
            "+--------------------+--------------------+------------------------+\n",
            "only showing top 5 rows\n",
            "\n"
          ]
        }
      ]
    },
    {
      "cell_type": "markdown",
      "source": [
        "## BBT1-49 Extraccion de datos desde .csv, análisis B"
      ],
      "metadata": {
        "id": "Ra4NVqw2GjuI"
      }
    },
    {
      "cell_type": "markdown",
      "source": [
        "**Descripción**\n",
        "\n",
        "COMO: desarrollador\n",
        "\n",
        "QUIERO: Cargar los datos del análisis B generados en un DataFrame.\n",
        "\n",
        "PARA: Poder analizar el conjunto de datos."
      ],
      "metadata": {
        "id": "E-0AuVS7Gr0q"
      }
    },
    {
      "cell_type": "code",
      "source": [
        "path_bbt1_49 = '/content/Results/Analysis_B/BBT1_39.csv'\n",
        "bbt1_49_spark = spark.read.load(path_bbt1_49, format='csv', sep=',', inferSchema='true', header='true')\n",
        "bbt1_49_spark.show(5)"
      ],
      "metadata": {
        "id": "TB-Gvz2gGrGU",
        "colab": {
          "base_uri": "https://localhost:8080/"
        },
        "outputId": "240a2d72-a532-4d99-9a0c-97d63b5cf755"
      },
      "execution_count": 66,
      "outputs": [
        {
          "output_type": "stream",
          "name": "stdout",
          "text": [
            "+--------------------+------------+------------------------+-------------------+----------------------------+-----------------------------+-----------------------------+--------------------+-------------+--------------------+--------------------+-------------------+------+-------------+\n",
            "|         customer_id|order_status|order_purchase_timestamp|  order_approved_at|order_delivered_carrier_date|order_delivered_customer_date|order_estimated_delivery_date|            order_id|order_item_id|          product_id|           seller_id|shipping_limit_date| price|freight_value|\n",
            "+--------------------+------------+------------------------+-------------------+----------------------------+-----------------------------+-----------------------------+--------------------+-------------+--------------------+--------------------+-------------------+------+-------------+\n",
            "|c6e2731c5b391845f...|   delivered|     2017-02-12 20:37:36|2017-02-12 20:45:12|         2017-02-16 09:23:13|          2017-03-03 14:23:18|          2017-03-09 00:00:00|0812eb902a67711a1...|            1|489ae2aa008f02150...|e3b4998c7a498169d...|2017-02-16 20:37:36|6735.0|       194.31|\n",
            "|f48d464a0baaea338...|   delivered|     2018-07-25 18:10:17|2018-07-27 04:05:13|         2018-08-03 14:42:00|          2018-08-15 14:57:50|          2018-08-10 00:00:00|fefacc66af859508b...|            1|69c590f7ffc7bf8db...|80ceebb4ee9b31afb...|2018-08-02 04:05:13|6729.0|       193.21|\n",
            "|3fd6777bbce08a352...|   delivered|     2017-05-24 18:14:34|2017-05-26 02:45:17|         2017-05-26 11:20:47|          2017-06-05 17:09:48|          2017-06-28 00:00:00|f5136e38d1a14a4db...|            1|1bdf5e6731585cf01...|ee27a8f15b1dded4d...|2017-06-15 02:45:17|6499.0|       227.66|\n",
            "|df55c14d1476a9a34...|   delivered|     2017-04-01 15:58:40|2017-04-03 13:25:18|         2017-04-11 15:10:34|          2017-04-17 11:04:45|          2017-05-02 00:00:00|a96610ab360d42a2e...|            1|a6492cc69376c469a...|59417c56835dd8e2e...|2017-04-18 13:25:18|4799.0|       151.34|\n",
            "|24bbf5fd2f2e1b359...|   delivered|     2017-04-18 18:50:13|2017-04-19 15:50:15|         2017-04-25 13:39:59|          2017-05-07 10:42:39|          2017-05-15 00:00:00|199af31afc78c699f...|            1|c3ed642d592594bb6...|59417c56835dd8e2e...|2017-05-09 15:50:15|4690.0|        74.34|\n",
            "+--------------------+------------+------------------------+-------------------+----------------------------+-----------------------------+-----------------------------+--------------------+-------------+--------------------+--------------------+-------------------+------+-------------+\n",
            "only showing top 5 rows\n",
            "\n"
          ]
        }
      ]
    },
    {
      "cell_type": "markdown",
      "source": [
        "## BBT1-50 Extraccion de datos desde .csv, análisis C"
      ],
      "metadata": {
        "id": "-kVXbS9dGw1Q"
      }
    },
    {
      "cell_type": "markdown",
      "source": [
        "**Descripción**\n",
        "\n",
        "COMO: desarrollador\n",
        "\n",
        "QUIERO: Cargar los datos del análisis C generados en un DataFrame.\n",
        "\n",
        "PARA: Poder analizar el conjunto de datos."
      ],
      "metadata": {
        "id": "sLHr3NwjG3wY"
      }
    },
    {
      "cell_type": "code",
      "source": [
        "path_bbt1_50 = '/content/Results/Analysis_C/BBT1_40.csv'\n",
        "bbt1_50_spark = spark.read.load(path_bbt1_50, format='csv', sep=',', inferSchema='true', header='true')\n",
        "bbt1_50_spark.show(5)"
      ],
      "metadata": {
        "id": "V0QUm1kzG2wW",
        "colab": {
          "base_uri": "https://localhost:8080/"
        },
        "outputId": "8de8b003-8946-4c77-cc7a-48b8322e99f2"
      },
      "execution_count": 67,
      "outputs": [
        {
          "output_type": "stream",
          "name": "stdout",
          "text": [
            "+--------------------+-------------+--------------------+-------------------+-----+-------------+----------------------+-----------+------------+\n",
            "|           seller_id|order_item_id|          product_id|shipping_limit_date|price|freight_value|seller_zip_code_prefix|seller_city|seller_state|\n",
            "+--------------------+-------------+--------------------+-------------------+-----+-------------+----------------------+-----------+------------+\n",
            "|0015a82c2db000af6...|            1|a2ff5a97bf95719e3...|2017-10-12 22:24:16|895.0|        21.02|                  9080|santo andre|          SP|\n",
            "|0015a82c2db000af6...|            1|a2ff5a97bf95719e3...|2017-10-18 14:49:22|895.0|        21.02|                  9080|santo andre|          SP|\n",
            "|0015a82c2db000af6...|            1|a2ff5a97bf95719e3...|2017-10-24 23:56:20|895.0|        21.02|                  9080|santo andre|          SP|\n",
            "|001cca7ae9ae17fb1...|            1|e251ebd2858be1aa7...|2017-05-05 15:10:21|199.0|        17.09|                 29156|  cariacica|          ES|\n",
            "|001cca7ae9ae17fb1...|            1|98a8c2fa16d7239c6...|2018-04-17 11:10:23|169.0|       114.62|                 29156|  cariacica|          ES|\n",
            "+--------------------+-------------+--------------------+-------------------+-----+-------------+----------------------+-----------+------------+\n",
            "only showing top 5 rows\n",
            "\n"
          ]
        }
      ]
    },
    {
      "cell_type": "markdown",
      "source": [
        "## BBT1-51 Extraccion de datos desde .csv, análisis D"
      ],
      "metadata": {
        "id": "wRRYigMlvZ0K"
      }
    },
    {
      "cell_type": "markdown",
      "source": [
        "QUIERO: Cargar los datos del análisis D generados en un DataFrame.\n",
        "PARA: Poder analizar el conjunto de datos."
      ],
      "metadata": {
        "id": "qNtMtNlQvacl"
      }
    },
    {
      "cell_type": "code",
      "source": [
        "#!pip install pyspark"
      ],
      "metadata": {
        "id": "SYz103NrvimV"
      },
      "execution_count": null,
      "outputs": []
    },
    {
      "cell_type": "code",
      "source": [
        "from pyspark.sql import SparkSession\n",
        "spark = SparkSession.builder.getOrCreate()"
      ],
      "metadata": {
        "id": "8pcaooN1uHcw"
      },
      "execution_count": 68,
      "outputs": []
    },
    {
      "cell_type": "code",
      "source": [
        "from pyspark.sql.functions  import date_format"
      ],
      "metadata": {
        "id": "W5KGEQzOnJAO"
      },
      "execution_count": 71,
      "outputs": []
    },
    {
      "cell_type": "code",
      "source": [
        "path_bbt1_31 = '/content/Results/Analysis_D/BBT1_31.csv'\n",
        "bbt1_21_spark = spark.read.load(path_bbt1_31, format='csv', sep=',', inferSchema='true', header='true')\n",
        "\n",
        "#Transformo la columna year_month a año.\n",
        "bbt1_21_spark = bbt1_21_spark.withColumn(\"year\", date_format(\"year_month\", \"yyyy\"))\n",
        "bbt1_21_spark.show(6)"
      ],
      "metadata": {
        "colab": {
          "base_uri": "https://localhost:8080/"
        },
        "id": "ebLjdAoPuIEU",
        "outputId": "95fee4ce-a50d-4ca9-9139-8ae149275278"
      },
      "execution_count": 131,
      "outputs": [
        {
          "output_type": "stream",
          "name": "stdout",
          "text": [
            "+--------------------+---------------------+------+-------------+-------------------+----+\n",
            "|          product_id|product_category_name| price|freight_value|         year_month|year|\n",
            "+--------------------+---------------------+------+-------------+-------------------+----+\n",
            "|4c50dcc50f1512f46...|                 null|3980.0|        62.74|2017-02-01 00:00:00|2017|\n",
            "|0e030462875259ec0...|                 null|2740.0|         54.5|2017-05-01 00:00:00|2017|\n",
            "|eed5cbd74fac3bd79...|                 null|1989.0|        34.58|2017-10-01 00:00:00|2017|\n",
            "|2b69866f22de8dad6...| agro_industria_e_...|2990.0|       194.55|2017-11-01 00:00:00|2017|\n",
            "|b7a60a397d4efd05c...| agro_industria_e_...|2399.0|        68.33|2017-11-01 00:00:00|2017|\n",
            "|cd2f5c10e4e8dbc70...| agro_industria_e_...|2199.0|       116.83|2017-12-01 00:00:00|2017|\n",
            "+--------------------+---------------------+------+-------------+-------------------+----+\n",
            "only showing top 6 rows\n",
            "\n"
          ]
        }
      ]
    },
    {
      "cell_type": "markdown",
      "source": [
        "## BBT1-52 Extraccion de datos desde .csv, análisis E"
      ],
      "metadata": {
        "id": "Zh5XCGP7va6U"
      }
    },
    {
      "cell_type": "markdown",
      "source": [
        "QUIERO: Cargar los datos del análisis E generados en un DataFrame.\n",
        "PARA: Poder analizar el conjunto de datos."
      ],
      "metadata": {
        "id": "GOqiA84rvbLi"
      }
    },
    {
      "cell_type": "code",
      "source": [
        "from pyspark.sql import SparkSession\n",
        "spark = SparkSession.builder.getOrCreate()"
      ],
      "metadata": {
        "id": "x8-ple7xvoDc"
      },
      "execution_count": 75,
      "outputs": []
    },
    {
      "cell_type": "code",
      "source": [
        "path_bbt1_32 = '/content/Results/Analysis_E/BBT1_32.csv'\n",
        "bbt1_32_spark = spark.read.load(path_bbt1_32, format='csv', sep=',', inferSchema='true', header='true')\n",
        "\n",
        "#Transformo la columna year_month a año y mes.\n",
        "bbt1_32_spark = bbt1_32_spark.withColumn(\"year_month\", date_format(\"year_month\", \"yyyy-MM\"))\n",
        "bbt1_32_spark.show(5)"
      ],
      "metadata": {
        "colab": {
          "base_uri": "https://localhost:8080/"
        },
        "id": "oWs5pt-lurs8",
        "outputId": "e2aa1b61-55b0-4e3a-a3e0-e235d37e1294"
      },
      "execution_count": 76,
      "outputs": [
        {
          "output_type": "stream",
          "name": "stdout",
          "text": [
            "+----------+--------------------+--------------------+------------+------------+-------------+-----------+\n",
            "|year_month|         customer_id|            order_id|order_status|payment_type|payment_value|total_price|\n",
            "+----------+--------------------+--------------------+------------+------------+-------------+-----------+\n",
            "|   2017-09|1617b1357756262bf...|03caa2c082116e1d3...|   delivered| credit_card|     13664.08|   13664.08|\n",
            "|   2018-07|ec5b2ba62e5743423...|736e1922ae60d0d6a...|   delivered|      boleto|      7274.88|    7274.88|\n",
            "|   2017-02|c6e2731c5b391845f...|0812eb902a67711a1...|   delivered| credit_card|      6929.31|    6929.31|\n",
            "|   2018-07|f48d464a0baaea338...|fefacc66af859508b...|   delivered|      boleto|      6922.21|    6922.21|\n",
            "|   2017-05|3fd6777bbce08a352...|f5136e38d1a14a4db...|   delivered|      boleto|      6726.66|    6726.66|\n",
            "+----------+--------------------+--------------------+------------+------------+-------------+-----------+\n",
            "only showing top 5 rows\n",
            "\n"
          ]
        }
      ]
    },
    {
      "cell_type": "markdown",
      "source": [
        "Extraccion de datos desde segunda tabla creada anteriormente"
      ],
      "metadata": {
        "id": "hf1v0T3163N-"
      }
    },
    {
      "cell_type": "code",
      "source": [
        "from pyspark.sql import SparkSession\n",
        "spark = SparkSession.builder.getOrCreate()"
      ],
      "metadata": {
        "id": "7xNRZVkV66su"
      },
      "execution_count": 73,
      "outputs": []
    },
    {
      "cell_type": "code",
      "source": [
        "path_bbt1_32_bis = '/content/Results/Analysis_E/BBT1_32.bis.csv'\n",
        "bbt1_32_bis_spark = spark.read.load(path_bbt1_32_bis, format='csv', sep=',', inferSchema='true', header='true')\n",
        "\n",
        "bbt1_32_bis_spark.show(5)"
      ],
      "metadata": {
        "colab": {
          "base_uri": "https://localhost:8080/"
        },
        "id": "mqnaRBjb67yV",
        "outputId": "7f0487f1-1b7a-4fdf-ceee-c4a7a655f23f"
      },
      "execution_count": 81,
      "outputs": [
        {
          "output_type": "stream",
          "name": "stdout",
          "text": [
            "+------------+--------------------+------------------+\n",
            "|payment_type|       ingreso_total|cant_transacciones|\n",
            "+------------+--------------------+------------------+\n",
            "| credit_card|1.2542084189999174E7|             76795|\n",
            "|      boleto|   2869361.269999859|             19784|\n",
            "|     voucher|  379436.87000000296|              5775|\n",
            "|  debit_card|   217989.7899999995|              1529|\n",
            "| not_defined|                 0.0|                 3|\n",
            "+------------+--------------------+------------------+\n",
            "\n"
          ]
        }
      ]
    },
    {
      "cell_type": "markdown",
      "source": [
        "## BBT1-53 Extracción de datos desde .csv, análisis F"
      ],
      "metadata": {
        "id": "hM3yRZnnA0hP"
      }
    },
    {
      "cell_type": "markdown",
      "source": [
        "COMO: desarrollador\n",
        "\n",
        "QUIERO: Cargar los datos del análisis F generados en un DataFrame.\n",
        "\n",
        "PARA: Poder analizar el conjunto de datos."
      ],
      "metadata": {
        "id": "aXfz0ePOA62d"
      }
    },
    {
      "cell_type": "markdown",
      "source": [
        "Se instala e importa la librería necesaria para trabajar con PySpark"
      ],
      "metadata": {
        "id": "niweCbnPNBkE"
      }
    },
    {
      "cell_type": "code",
      "source": [
        "#!pip install pyspark\n",
        "from pyspark.sql import SparkSession"
      ],
      "metadata": {
        "id": "2vQ1ydRdA6Yk"
      },
      "execution_count": 82,
      "outputs": []
    },
    {
      "cell_type": "markdown",
      "source": [
        "Se inicia la sesión en PySpark"
      ],
      "metadata": {
        "id": "bFP1kmuXNNMu"
      }
    },
    {
      "cell_type": "code",
      "source": [
        "spark = SparkSession.builder.getOrCreate()"
      ],
      "metadata": {
        "id": "mtq0ELrGNMg_"
      },
      "execution_count": 83,
      "outputs": []
    },
    {
      "cell_type": "code",
      "source": [
        "bbt1_53_spark = spark.read.csv(\"/content/Results/Analysis_F/BBT1-33.csv\", header=True, inferSchema=True, sep=',')"
      ],
      "metadata": {
        "id": "n8ObGlwBOTuu"
      },
      "execution_count": 84,
      "outputs": []
    },
    {
      "cell_type": "code",
      "source": [
        "bbt1_53_spark.show(5)"
      ],
      "metadata": {
        "colab": {
          "base_uri": "https://localhost:8080/"
        },
        "id": "mYKQjNaXPDaA",
        "outputId": "1080e518-ab1f-465c-b904-e2851bfd08fa"
      },
      "execution_count": 85,
      "outputs": [
        {
          "output_type": "stream",
          "name": "stdout",
          "text": [
            "+--------------------+---------------------------+-------------------+------------------+-------------------+\n",
            "|  customer_unique_id|geolocation_zip_code_prefix|   promedio_latitud| promedio_longitud|   geolocation_city|\n",
            "+--------------------+---------------------------+-------------------+------------------+-------------------+\n",
            "|e1feae9083c4c2895...|                      38540|-18.474476487136116| -47.4078365252738|abadia dos dourados|\n",
            "|afddf43a03a994162...|                      38540|-18.474476487136116| -47.4078365252738|abadia dos dourados|\n",
            "|64ee476500a01beb9...|                      38540|-18.474476487136116| -47.4078365252738|abadia dos dourados|\n",
            "|8d76b559181609308...|                      72940|-16.193742416316265|-48.70952130337259|          abadiania|\n",
            "|ca1a0307fe782c912...|                      35620|-19.158206495625087| -45.4463002987293|             abaete|\n",
            "+--------------------+---------------------------+-------------------+------------------+-------------------+\n",
            "only showing top 5 rows\n",
            "\n"
          ]
        }
      ]
    },
    {
      "cell_type": "markdown",
      "source": [
        "## BBT1-54 Extracción de datos desde .csv, análisis G"
      ],
      "metadata": {
        "id": "AJ9oYa0cBIbp"
      }
    },
    {
      "cell_type": "markdown",
      "source": [
        "COMO: desarrollador\n",
        "\n",
        "QUIERO: Cargar los datos del análisis G generados en un DataFrame.\n",
        "\n",
        "PARA: Poder analizar el conjunto de datos."
      ],
      "metadata": {
        "id": "a0ewfdLyBOyT"
      }
    },
    {
      "cell_type": "code",
      "source": [
        "bbt1_54_spark = spark.read.csv(\"/content/Results/Analysis_G/BBT1-34.csv\", header=True, inferSchema=True, sep=',')"
      ],
      "metadata": {
        "id": "-X__LEU_BZaH"
      },
      "execution_count": 86,
      "outputs": []
    },
    {
      "cell_type": "code",
      "source": [
        "bbt1_54_spark.show(5)"
      ],
      "metadata": {
        "colab": {
          "base_uri": "https://localhost:8080/"
        },
        "id": "dpLL5BjJPQh1",
        "outputId": "688ade98-7d4b-4b28-de03-677458cd4ad1"
      },
      "execution_count": 87,
      "outputs": [
        {
          "output_type": "stream",
          "name": "stdout",
          "text": [
            "+--------------------+---------------------------+-------------------+------------------+-------------------+------------------------+\n",
            "|            order_id|geolocation_zip_code_prefix|   promedio_latitud| promedio_longitud|   geolocation_city|order_purchase_timestamp|\n",
            "+--------------------+---------------------------+-------------------+------------------+-------------------+------------------------+\n",
            "|0a9a43ac5fe59c6c4...|                      38540|-18.474476487136116| -47.4078365252738|abadia dos dourados|     2018-07-02 08:00:35|\n",
            "|50ba38c4dc467baab...|                      38540|-18.474476487136116| -47.4078365252738|abadia dos dourados|     2018-03-02 21:32:44|\n",
            "|d99e6849f7676dade...|                      38540|-18.474476487136116| -47.4078365252738|abadia dos dourados|     2017-09-02 22:37:17|\n",
            "|3f1294f87d79b57f5...|                      72940|-16.193742416316265|-48.70952130337259|          abadiania|     2018-01-28 14:21:58|\n",
            "|5525ea8ee9e6150fa...|                      35620|-19.158206495625087| -45.4463002987293|             abaete|     2018-08-20 21:33:48|\n",
            "+--------------------+---------------------------+-------------------+------------------+-------------------+------------------------+\n",
            "only showing top 5 rows\n",
            "\n"
          ]
        }
      ]
    },
    {
      "cell_type": "markdown",
      "source": [
        "## BBT1-55 - Extraccion de datos desde .csv, análisis H"
      ],
      "metadata": {
        "id": "hWQT0B0zwl7V"
      }
    },
    {
      "cell_type": "markdown",
      "source": [
        "Descripción\n",
        "\n",
        "COMO: desarrollador\n",
        "QUIERO: Cargar los datos del análisis H generados en un DataFrame.\n",
        "PARA: Poder analizar el conjunto de datos."
      ],
      "metadata": {
        "id": "I9xrZKlkwp4S"
      }
    },
    {
      "cell_type": "code",
      "source": [
        "# !pip install pyspark\n",
        "from pyspark.sql import SparkSession\n",
        "spark = SparkSession.builder.getOrCreate()"
      ],
      "metadata": {
        "id": "goK1W491wrdL"
      },
      "execution_count": 88,
      "outputs": []
    },
    {
      "cell_type": "code",
      "source": [
        "path_bbt1_35 = '/content/Results/Analysis_H/bbt1_35.csv'\n",
        "bbt1_35_spark = spark.read.load(path_bbt1_35, format='csv', sep=',', inferSchema='true', header='true')\n",
        "bbt1_35_spark.show(5)"
      ],
      "metadata": {
        "id": "Dz2cZ5fMwtA2",
        "colab": {
          "base_uri": "https://localhost:8080/"
        },
        "outputId": "3d1a3e70-513b-42d5-c97f-0d9344e99353"
      },
      "execution_count": 89,
      "outputs": [
        {
          "output_type": "stream",
          "name": "stdout",
          "text": [
            "+--------------------+-------------+--------------------+--------------------+-------------------+-----------+-------------+\n",
            "|            order_id|order_item_id|          product_id|           seller_id|shipping_limit_date|total_price|freight_value|\n",
            "+--------------------+-------------+--------------------+--------------------+-------------------+-----------+-------------+\n",
            "|00010242fe8c5a6d1...|            1|4244733e06e7ecb49...|48436dade18ac8b2b...|2017-09-19 09:45:35|       58.9|        13.29|\n",
            "|00018f77f2f0320c5...|            1|e5f2d52b802189ee6...|dd7ddc04e1b6c2c61...|2017-05-03 11:05:13|      239.9|        19.93|\n",
            "|000229ec398224ef6...|            1|c777355d18b72b67a...|5b51032eddd242adc...|2018-01-18 14:48:30|      199.0|        17.87|\n",
            "|00024acbcdf0a6daa...|            1|7634da152a4610f15...|9d7a1d34a50524090...|2018-08-15 10:10:18|      12.99|        12.79|\n",
            "|00042b26cf59d7ce6...|            1|ac6c3623068f30de0...|df560393f3a51e745...|2017-02-13 13:57:51|      199.9|        18.14|\n",
            "+--------------------+-------------+--------------------+--------------------+-------------------+-----------+-------------+\n",
            "only showing top 5 rows\n",
            "\n"
          ]
        }
      ]
    },
    {
      "cell_type": "markdown",
      "source": [
        "## BBT1-56 - Extraccion de datos desde .csv, análisis I"
      ],
      "metadata": {
        "id": "XRnBskB7wvUW"
      }
    },
    {
      "cell_type": "markdown",
      "source": [
        "Descripción\n",
        "\n",
        "COMO: desarrollador\n",
        "QUIERO: Cargar los datos del análisis I generados en un DataFrame.\n",
        "PARA: Poder analizar el conjunto de datos."
      ],
      "metadata": {
        "id": "ibFIauvxwy7X"
      }
    },
    {
      "cell_type": "code",
      "source": [
        "path_bbt1_36 = '/content/Results/Analysis_I/bbt1_36.csv'\n",
        "bbt1_36_spark = spark.read.load(path_bbt1_36, format='csv', sep=',', inferSchema='true', header='true')\n",
        "bbt1_36_spark.show(5)"
      ],
      "metadata": {
        "id": "4XHrGg7_w0vW",
        "colab": {
          "base_uri": "https://localhost:8080/"
        },
        "outputId": "d6e7c33e-79a5-49f0-efb8-b3a008c98adc"
      },
      "execution_count": 90,
      "outputs": [
        {
          "output_type": "stream",
          "name": "stdout",
          "text": [
            "+--------------------+-----------------------------+------+\n",
            "|            order_id|product_category_name_english| price|\n",
            "+--------------------+-----------------------------+------+\n",
            "|0812eb902a67711a1...|                   housewares|6735.0|\n",
            "|fefacc66af859508b...|                    computers|6729.0|\n",
            "|f5136e38d1a14a4db...|                          art|6499.0|\n",
            "|a96610ab360d42a2e...|             small_appliances|4799.0|\n",
            "|199af31afc78c699f...|             small_appliances|4690.0|\n",
            "+--------------------+-----------------------------+------+\n",
            "only showing top 5 rows\n",
            "\n"
          ]
        }
      ]
    },
    {
      "cell_type": "markdown",
      "source": [
        "## BBT1-57 - Extraccion de datos desde .csv, análisis J"
      ],
      "metadata": {
        "id": "VXiY7C9lw3am"
      }
    },
    {
      "cell_type": "markdown",
      "source": [
        "Descripción\n",
        "\n",
        "COMO: desarrollador\n",
        "QUIERO: Cargar los datos del análisis J generados en un DataFrame.\n",
        "PARA: Poder analizar el conjunto de datos."
      ],
      "metadata": {
        "id": "AoDTvozMw5dk"
      }
    },
    {
      "cell_type": "code",
      "source": [
        "path_bbt1_37 = '/content/Results/Analysis_J/bbt1_37.csv'\n",
        "bbt1_37_spark = spark.read.load(path_bbt1_37, format='csv', sep=',', inferSchema='true', header='true')\n",
        "bbt1_37_spark.show(5)"
      ],
      "metadata": {
        "id": "NM09fuKXw6ll",
        "colab": {
          "base_uri": "https://localhost:8080/"
        },
        "outputId": "1c5184b9-7053-4b72-966d-d5cb8a88852e"
      },
      "execution_count": 91,
      "outputs": [
        {
          "output_type": "stream",
          "name": "stdout",
          "text": [
            "+-----+--------------------+--------------------+------------+------------------------+-------------------+----------------------------+-----------------------------+-----------------------------+------------+--------------------+--------------+\n",
            "|index|            order_id|         customer_id|order_status|order_purchase_timestamp|  order_approved_at|order_delivered_carrier_date|order_delivered_customer_date|order_estimated_delivery_date|payment_type|       customer_city|customer_state|\n",
            "+-----+--------------------+--------------------+------------+------------------------+-------------------+----------------------------+-----------------------------+-----------------------------+------------+--------------------+--------------+\n",
            "|90161|1f78449c87a54faf9...|68c9dafdf193586c2...|   delivered|     2018-07-22 14:07:35|2018-07-23 11:32:08|         2018-07-23 12:58:00|          2018-07-28 15:03:04|          2018-08-14 00:00:00| credit_card|      campina grande|            PB|\n",
            "|42220|d88e0d5fa41661ce0...|fe0c5425832ac53c3...|   delivered|     2017-11-28 15:53:29|2017-11-28 16:17:30|         2017-12-12 23:22:02|          2017-12-19 20:49:52|          2017-12-18 00:00:00| credit_card|             marilia|            SP|\n",
            "|16686|12e5cfe0e4716b59a...|041cd6848abb3d3ca...|   delivered|     2018-03-22 09:46:07|2018-03-23 09:48:20|         2018-03-28 15:32:48|          2018-04-26 16:38:53|          2018-04-12 00:00:00| credit_card|cachoeiro de itap...|            ES|\n",
            "|56184|8ac09207f415d55ac...|2d8bf5f6862af587a...|   delivered|     2018-01-29 14:50:01|2018-01-29 15:18:37|         2018-01-30 17:36:57|          2018-02-01 15:43:08|          2018-02-14 00:00:00| credit_card|             diadema|            SP|\n",
            "|76165|4214cda550ece8ee6...|be4ecdb7c9401fd98...|   delivered|     2017-03-21 17:39:19|2017-03-21 17:39:19|         2017-03-22 10:26:53|          2017-03-30 15:05:20|          2017-04-25 00:00:00| credit_card|              pacaja|            PA|\n",
            "+-----+--------------------+--------------------+------------+------------------------+-------------------+----------------------------+-----------------------------+-----------------------------+------------+--------------------+--------------+\n",
            "only showing top 5 rows\n",
            "\n"
          ]
        }
      ]
    },
    {
      "cell_type": "markdown",
      "metadata": {
        "id": "Za24VX4_nnkU"
      },
      "source": [
        "## BBT1 - 58 Creacion de vistas temporales, análisis A"
      ]
    },
    {
      "cell_type": "markdown",
      "metadata": {
        "id": "y-AQ2AzAnnkU"
      },
      "source": [
        "**Descripción**\n",
        "\n",
        "COMO: desarrollador\n",
        "\n",
        "QUIERO: Generar una vista temporal a partir del DataFrame de Análisis A.\n",
        "\n",
        "PARA: Preparar los datos para trabajar con SparkSQL."
      ]
    },
    {
      "cell_type": "code",
      "execution_count": 186,
      "metadata": {
        "id": "n4XEogKwnnkU"
      },
      "outputs": [],
      "source": [
        "bbt1_48_spark.createOrReplaceTempView(\"vista_temporal_bbt1_48\")"
      ]
    },
    {
      "cell_type": "code",
      "source": [
        "# Visualizacion\n",
        "consulta_A = spark.sql('SELECT * FROM vista_temporal_bbt1_48')\n",
        "consulta_A.show(5)"
      ],
      "metadata": {
        "colab": {
          "base_uri": "https://localhost:8080/"
        },
        "id": "dDNLmtZBp3L0",
        "outputId": "5e95d770-0b67-4886-bb2a-2f3cd1e94173"
      },
      "execution_count": 187,
      "outputs": [
        {
          "output_type": "stream",
          "name": "stdout",
          "text": [
            "+--------------------+--------------------+------------------------+\n",
            "|  customer_unique_id|            order_id|order_purchase_timestamp|\n",
            "+--------------------+--------------------+------------------------+\n",
            "|0000366f3b9a7992b...|e22acc9c116caa3f2...|     2018-05-10 10:56:27|\n",
            "|0000b849f77a49e4a...|3594e05a005ac4d06...|     2018-05-07 11:11:27|\n",
            "|0000f46a3911fa3c0...|b33ec3b6993371814...|     2017-03-10 21:05:03|\n",
            "|0000f6ccb0745a6a4...|41272756ecddd9a9e...|     2017-10-12 20:29:41|\n",
            "|0004aac84e0df4da2...|d957021f1127559cd...|     2017-11-14 19:45:42|\n",
            "+--------------------+--------------------+------------------------+\n",
            "only showing top 5 rows\n",
            "\n"
          ]
        }
      ]
    },
    {
      "cell_type": "markdown",
      "metadata": {
        "id": "_CYX1eUQnnkU"
      },
      "source": [
        "## BBT1 - 59 Creacion de vistas temporales, análisis B"
      ]
    },
    {
      "cell_type": "markdown",
      "metadata": {
        "id": "-lZTpfz_nnkU"
      },
      "source": [
        "**Descripción**\n",
        "\n",
        "COMO: desarrollador\n",
        "\n",
        "QUIERO: Generar una vista temporal a partir del DataFrame de Análisis B.\n",
        "\n",
        "PARA: Preparar los datos para trabajar con SparkSQL."
      ]
    },
    {
      "cell_type": "code",
      "execution_count": 94,
      "metadata": {
        "id": "le6D7olOnnkU"
      },
      "outputs": [],
      "source": [
        "bbt1_49_spark.createOrReplaceTempView(\"vista_temporal_bbt1_49\")"
      ]
    },
    {
      "cell_type": "code",
      "source": [
        "# Visualizacion\n",
        "consulta_B = spark.sql('SELECT * FROM vista_temporal_bbt1_49')\n",
        "consulta_B.show(5)"
      ],
      "metadata": {
        "colab": {
          "base_uri": "https://localhost:8080/"
        },
        "id": "xMguMZZ4qLXD",
        "outputId": "733a9de9-e597-428e-c854-a3fabe7e669f"
      },
      "execution_count": 95,
      "outputs": [
        {
          "output_type": "stream",
          "name": "stdout",
          "text": [
            "+--------------------+------------+------------------------+-------------------+----------------------------+-----------------------------+-----------------------------+--------------------+-------------+--------------------+--------------------+-------------------+------+-------------+\n",
            "|         customer_id|order_status|order_purchase_timestamp|  order_approved_at|order_delivered_carrier_date|order_delivered_customer_date|order_estimated_delivery_date|            order_id|order_item_id|          product_id|           seller_id|shipping_limit_date| price|freight_value|\n",
            "+--------------------+------------+------------------------+-------------------+----------------------------+-----------------------------+-----------------------------+--------------------+-------------+--------------------+--------------------+-------------------+------+-------------+\n",
            "|c6e2731c5b391845f...|   delivered|     2017-02-12 20:37:36|2017-02-12 20:45:12|         2017-02-16 09:23:13|          2017-03-03 14:23:18|          2017-03-09 00:00:00|0812eb902a67711a1...|            1|489ae2aa008f02150...|e3b4998c7a498169d...|2017-02-16 20:37:36|6735.0|       194.31|\n",
            "|f48d464a0baaea338...|   delivered|     2018-07-25 18:10:17|2018-07-27 04:05:13|         2018-08-03 14:42:00|          2018-08-15 14:57:50|          2018-08-10 00:00:00|fefacc66af859508b...|            1|69c590f7ffc7bf8db...|80ceebb4ee9b31afb...|2018-08-02 04:05:13|6729.0|       193.21|\n",
            "|3fd6777bbce08a352...|   delivered|     2017-05-24 18:14:34|2017-05-26 02:45:17|         2017-05-26 11:20:47|          2017-06-05 17:09:48|          2017-06-28 00:00:00|f5136e38d1a14a4db...|            1|1bdf5e6731585cf01...|ee27a8f15b1dded4d...|2017-06-15 02:45:17|6499.0|       227.66|\n",
            "|df55c14d1476a9a34...|   delivered|     2017-04-01 15:58:40|2017-04-03 13:25:18|         2017-04-11 15:10:34|          2017-04-17 11:04:45|          2017-05-02 00:00:00|a96610ab360d42a2e...|            1|a6492cc69376c469a...|59417c56835dd8e2e...|2017-04-18 13:25:18|4799.0|       151.34|\n",
            "|24bbf5fd2f2e1b359...|   delivered|     2017-04-18 18:50:13|2017-04-19 15:50:15|         2017-04-25 13:39:59|          2017-05-07 10:42:39|          2017-05-15 00:00:00|199af31afc78c699f...|            1|c3ed642d592594bb6...|59417c56835dd8e2e...|2017-05-09 15:50:15|4690.0|        74.34|\n",
            "+--------------------+------------+------------------------+-------------------+----------------------------+-----------------------------+-----------------------------+--------------------+-------------+--------------------+--------------------+-------------------+------+-------------+\n",
            "only showing top 5 rows\n",
            "\n"
          ]
        }
      ]
    },
    {
      "cell_type": "markdown",
      "metadata": {
        "id": "Fb9BQRvJnnkU"
      },
      "source": [
        "## BBT1 - 60 Creacion de vistas temporales, análisis C"
      ]
    },
    {
      "cell_type": "markdown",
      "metadata": {
        "id": "QcX1Q0VTnnkU"
      },
      "source": [
        "**Descripción**\n",
        "\n",
        "COMO: desarrollador\n",
        "\n",
        "QUIERO: Generar una vista temporal a partir del DataFrame de Análisis C.\n",
        "\n",
        "PARA: Preparar los datos para trabajar con SparkSQL."
      ]
    },
    {
      "cell_type": "code",
      "execution_count": 96,
      "metadata": {
        "id": "tZ570EmdnnkU"
      },
      "outputs": [],
      "source": [
        "bbt1_50_spark.createOrReplaceTempView(\"vista_temporal_bbt1_50\")"
      ]
    },
    {
      "cell_type": "code",
      "source": [
        "# Visualizacion\n",
        "consulta_C = spark.sql('SELECT * FROM vista_temporal_bbt1_50')\n",
        "consulta_C.show(5)"
      ],
      "metadata": {
        "colab": {
          "base_uri": "https://localhost:8080/"
        },
        "id": "m-_djDhWqO-x",
        "outputId": "36061767-e95d-4006-d9d8-486fdb704404"
      },
      "execution_count": 97,
      "outputs": [
        {
          "output_type": "stream",
          "name": "stdout",
          "text": [
            "+--------------------+-------------+--------------------+-------------------+-----+-------------+----------------------+-----------+------------+\n",
            "|           seller_id|order_item_id|          product_id|shipping_limit_date|price|freight_value|seller_zip_code_prefix|seller_city|seller_state|\n",
            "+--------------------+-------------+--------------------+-------------------+-----+-------------+----------------------+-----------+------------+\n",
            "|0015a82c2db000af6...|            1|a2ff5a97bf95719e3...|2017-10-12 22:24:16|895.0|        21.02|                  9080|santo andre|          SP|\n",
            "|0015a82c2db000af6...|            1|a2ff5a97bf95719e3...|2017-10-18 14:49:22|895.0|        21.02|                  9080|santo andre|          SP|\n",
            "|0015a82c2db000af6...|            1|a2ff5a97bf95719e3...|2017-10-24 23:56:20|895.0|        21.02|                  9080|santo andre|          SP|\n",
            "|001cca7ae9ae17fb1...|            1|e251ebd2858be1aa7...|2017-05-05 15:10:21|199.0|        17.09|                 29156|  cariacica|          ES|\n",
            "|001cca7ae9ae17fb1...|            1|98a8c2fa16d7239c6...|2018-04-17 11:10:23|169.0|       114.62|                 29156|  cariacica|          ES|\n",
            "+--------------------+-------------+--------------------+-------------------+-----+-------------+----------------------+-----------+------------+\n",
            "only showing top 5 rows\n",
            "\n"
          ]
        }
      ]
    },
    {
      "cell_type": "markdown",
      "source": [
        "## BBT1-61 Creacion de vistas temporales, análisis D"
      ],
      "metadata": {
        "id": "JNY_pDm7BxpD"
      }
    },
    {
      "cell_type": "markdown",
      "source": [
        "Generar una vista temporal a partir del DataFrame de Análisis D.\n",
        "PARA: Preparar los datos para trabajar con SparkSQL."
      ],
      "metadata": {
        "id": "Z1roY-Q9B478"
      }
    },
    {
      "cell_type": "code",
      "source": [
        "# Creo vista temporal a partir de DF de Analisis D\n",
        "bbt1_21_spark.createOrReplaceTempView('Vista_D')"
      ],
      "metadata": {
        "id": "74EPOJ0nCB5s"
      },
      "execution_count": 135,
      "outputs": []
    },
    {
      "cell_type": "code",
      "source": [
        "# Visualizacion\n",
        "consulta_vista_D = spark.sql('SELECT * FROM Vista_D')\n",
        "consulta_vista_D.show(6)"
      ],
      "metadata": {
        "colab": {
          "base_uri": "https://localhost:8080/"
        },
        "id": "upIeFZsPevqj",
        "outputId": "207b68a1-14e4-4c49-b760-5be6fd4e5120"
      },
      "execution_count": 136,
      "outputs": [
        {
          "output_type": "stream",
          "name": "stdout",
          "text": [
            "+--------------------+---------------------+------+-------------+-------------------+----+\n",
            "|          product_id|product_category_name| price|freight_value|         year_month|year|\n",
            "+--------------------+---------------------+------+-------------+-------------------+----+\n",
            "|4c50dcc50f1512f46...|                 null|3980.0|        62.74|2017-02-01 00:00:00|2017|\n",
            "|0e030462875259ec0...|                 null|2740.0|         54.5|2017-05-01 00:00:00|2017|\n",
            "|eed5cbd74fac3bd79...|                 null|1989.0|        34.58|2017-10-01 00:00:00|2017|\n",
            "|2b69866f22de8dad6...| agro_industria_e_...|2990.0|       194.55|2017-11-01 00:00:00|2017|\n",
            "|b7a60a397d4efd05c...| agro_industria_e_...|2399.0|        68.33|2017-11-01 00:00:00|2017|\n",
            "|cd2f5c10e4e8dbc70...| agro_industria_e_...|2199.0|       116.83|2017-12-01 00:00:00|2017|\n",
            "+--------------------+---------------------+------+-------------+-------------------+----+\n",
            "only showing top 6 rows\n",
            "\n"
          ]
        }
      ]
    },
    {
      "cell_type": "markdown",
      "source": [
        "## BBT1-62 Creacion de vistas temporales, análisis E"
      ],
      "metadata": {
        "id": "EAcdmJe3ByLg"
      }
    },
    {
      "cell_type": "markdown",
      "source": [
        "Generar una vista temporal a partir del DataFrame de Análisis E.\n",
        "PARA: Preparar los datos para trabajar con SparkSQL."
      ],
      "metadata": {
        "id": "ZvE8z3-mCDXB"
      }
    },
    {
      "cell_type": "code",
      "source": [
        "# Creo vista temporal a partir de DF de Analisis E\n",
        "bbt1_32_spark.createOrReplaceTempView('Vista_E')"
      ],
      "metadata": {
        "id": "CXs-BmpGCGGS"
      },
      "execution_count": 100,
      "outputs": []
    },
    {
      "cell_type": "code",
      "source": [
        "# Visualizacion\n",
        "consulta_vista_E = spark.sql('SELECT * FROM Vista_E')\n",
        "consulta_vista_E.show(5)"
      ],
      "metadata": {
        "colab": {
          "base_uri": "https://localhost:8080/"
        },
        "id": "vxhq_4nUi-lm",
        "outputId": "6ca22990-75c5-4526-af4d-a21cf7739965"
      },
      "execution_count": 101,
      "outputs": [
        {
          "output_type": "stream",
          "name": "stdout",
          "text": [
            "+----------+--------------------+--------------------+------------+------------+-------------+-----------+\n",
            "|year_month|         customer_id|            order_id|order_status|payment_type|payment_value|total_price|\n",
            "+----------+--------------------+--------------------+------------+------------+-------------+-----------+\n",
            "|   2017-09|1617b1357756262bf...|03caa2c082116e1d3...|   delivered| credit_card|     13664.08|   13664.08|\n",
            "|   2018-07|ec5b2ba62e5743423...|736e1922ae60d0d6a...|   delivered|      boleto|      7274.88|    7274.88|\n",
            "|   2017-02|c6e2731c5b391845f...|0812eb902a67711a1...|   delivered| credit_card|      6929.31|    6929.31|\n",
            "|   2018-07|f48d464a0baaea338...|fefacc66af859508b...|   delivered|      boleto|      6922.21|    6922.21|\n",
            "|   2017-05|3fd6777bbce08a352...|f5136e38d1a14a4db...|   delivered|      boleto|      6726.66|    6726.66|\n",
            "+----------+--------------------+--------------------+------------+------------+-------------+-----------+\n",
            "only showing top 5 rows\n",
            "\n"
          ]
        }
      ]
    },
    {
      "cell_type": "code",
      "source": [
        "# Creo vista temporal a partir de DF de Analisis E - Anexo Metodos de pago\n",
        "bbt1_32_bis_spark.createOrReplaceTempView('Vista_E_bis')"
      ],
      "metadata": {
        "id": "31pF-NH0jSGW"
      },
      "execution_count": 102,
      "outputs": []
    },
    {
      "cell_type": "code",
      "source": [
        "# Visualizacion\n",
        "consulta_vista_E_bis = spark.sql('SELECT * FROM Vista_E_bis')\n",
        "consulta_vista_E_bis.show(5)"
      ],
      "metadata": {
        "colab": {
          "base_uri": "https://localhost:8080/"
        },
        "id": "Fz3v-3lejRvV",
        "outputId": "4616100a-ebf4-46a9-9e6f-04cc99c4983f"
      },
      "execution_count": 103,
      "outputs": [
        {
          "output_type": "stream",
          "name": "stdout",
          "text": [
            "+------------+--------------------+------------------+\n",
            "|payment_type|       ingreso_total|cant_transacciones|\n",
            "+------------+--------------------+------------------+\n",
            "| credit_card|1.2542084189999174E7|             76795|\n",
            "|      boleto|   2869361.269999859|             19784|\n",
            "|     voucher|  379436.87000000296|              5775|\n",
            "|  debit_card|   217989.7899999995|              1529|\n",
            "| not_defined|                 0.0|                 3|\n",
            "+------------+--------------------+------------------+\n",
            "\n"
          ]
        }
      ]
    },
    {
      "cell_type": "markdown",
      "source": [
        "## BBT1-63 Creacion de vistas temporales, análisis F"
      ],
      "metadata": {
        "id": "bFSEma2-wXQa"
      }
    },
    {
      "cell_type": "markdown",
      "source": [
        "COMO: desarrollador.\n",
        "\n",
        "QUIERO: Generar una vista temporal a partir del DataFrame de Análisis F.\n",
        "\n",
        "PARA: Preparar los datos para trabajar con SparkSQL."
      ],
      "metadata": {
        "id": "t-iU1iDswqfV"
      }
    },
    {
      "cell_type": "code",
      "source": [
        "#Creación de vista temporal Análisis F\n",
        "bbt1_53_spark.createOrReplaceTempView('customers_geolocation2')\n",
        "\n",
        "#Visualización\n",
        "vista_F = spark.sql('SELECT * FROM customers_geolocation2')\n",
        "vista_F.show(10)"
      ],
      "metadata": {
        "id": "KKeURrQjwu6O",
        "colab": {
          "base_uri": "https://localhost:8080/"
        },
        "outputId": "b60fc4a6-d783-4845-c7d9-c0b84764e9ff"
      },
      "execution_count": 104,
      "outputs": [
        {
          "output_type": "stream",
          "name": "stdout",
          "text": [
            "+--------------------+---------------------------+-------------------+------------------+-------------------+\n",
            "|  customer_unique_id|geolocation_zip_code_prefix|   promedio_latitud| promedio_longitud|   geolocation_city|\n",
            "+--------------------+---------------------------+-------------------+------------------+-------------------+\n",
            "|e1feae9083c4c2895...|                      38540|-18.474476487136116| -47.4078365252738|abadia dos dourados|\n",
            "|afddf43a03a994162...|                      38540|-18.474476487136116| -47.4078365252738|abadia dos dourados|\n",
            "|64ee476500a01beb9...|                      38540|-18.474476487136116| -47.4078365252738|abadia dos dourados|\n",
            "|8d76b559181609308...|                      72940|-16.193742416316265|-48.70952130337259|          abadiania|\n",
            "|ca1a0307fe782c912...|                      35620|-19.158206495625087| -45.4463002987293|             abaete|\n",
            "|ab26557b289641b50...|                      35620|-19.158206495625087| -45.4463002987293|             abaete|\n",
            "|a0e363eb99ec5c321...|                      35620|-19.158206495625087| -45.4463002987293|             abaete|\n",
            "|8f7f547488a056607...|                      35620|-19.158206495625087| -45.4463002987293|             abaete|\n",
            "|8b8545eb716cbef02...|                      35620|-19.158206495625087| -45.4463002987293|             abaete|\n",
            "|5bd046eccd966d97c...|                      35620|-19.158206495625087| -45.4463002987293|             abaete|\n",
            "+--------------------+---------------------------+-------------------+------------------+-------------------+\n",
            "only showing top 10 rows\n",
            "\n"
          ]
        }
      ]
    },
    {
      "cell_type": "markdown",
      "source": [
        "## BBT1-64 Creacion de vistas temporales, análisis G"
      ],
      "metadata": {
        "id": "Glo0kEdmwvG8"
      }
    },
    {
      "cell_type": "markdown",
      "source": [
        "COMO: desarrollador.\n",
        "\n",
        "QUIERO: Generar una vista temporal a partir del DataFrame de Análisis G.\n",
        "\n",
        "PARA: Preparar los datos para trabajar con SparkSQL."
      ],
      "metadata": {
        "id": "6RRLnNrQw5j-"
      }
    },
    {
      "cell_type": "code",
      "source": [
        "#Creación de vista temporal Análisis G\n",
        "bbt1_54_spark.createOrReplaceTempView('orders_geolocation2')\n",
        "\n",
        "#Visualización\n",
        "vista_G = spark.sql('SELECT * FROM orders_geolocation2')\n",
        "vista_G.show(10)"
      ],
      "metadata": {
        "id": "WHLnMKKDw9iT",
        "colab": {
          "base_uri": "https://localhost:8080/"
        },
        "outputId": "ec46b69c-53ac-49d7-93d7-fd664b928adf"
      },
      "execution_count": 105,
      "outputs": [
        {
          "output_type": "stream",
          "name": "stdout",
          "text": [
            "+--------------------+---------------------------+-------------------+------------------+-------------------+------------------------+\n",
            "|            order_id|geolocation_zip_code_prefix|   promedio_latitud| promedio_longitud|   geolocation_city|order_purchase_timestamp|\n",
            "+--------------------+---------------------------+-------------------+------------------+-------------------+------------------------+\n",
            "|0a9a43ac5fe59c6c4...|                      38540|-18.474476487136116| -47.4078365252738|abadia dos dourados|     2018-07-02 08:00:35|\n",
            "|50ba38c4dc467baab...|                      38540|-18.474476487136116| -47.4078365252738|abadia dos dourados|     2018-03-02 21:32:44|\n",
            "|d99e6849f7676dade...|                      38540|-18.474476487136116| -47.4078365252738|abadia dos dourados|     2017-09-02 22:37:17|\n",
            "|3f1294f87d79b57f5...|                      72940|-16.193742416316265|-48.70952130337259|          abadiania|     2018-01-28 14:21:58|\n",
            "|5525ea8ee9e6150fa...|                      35620|-19.158206495625087| -45.4463002987293|             abaete|     2018-08-20 21:33:48|\n",
            "|1c2f555edfc445e72...|                      35620|-19.158206495625087| -45.4463002987293|             abaete|     2018-06-28 16:12:59|\n",
            "|4ccc4e96e0fa5c35e...|                      35620|-19.158206495625087| -45.4463002987293|             abaete|     2018-06-01 15:21:45|\n",
            "|74bdc516d1c6a8e16...|                      35620|-19.158206495625087| -45.4463002987293|             abaete|     2018-03-27 11:00:09|\n",
            "|33d425553bc88c255...|                      35620|-19.158206495625087| -45.4463002987293|             abaete|     2018-03-05 12:47:02|\n",
            "|807756ebd577f0253...|                      35620|-19.158206495625087| -45.4463002987293|             abaete|     2017-11-23 16:47:19|\n",
            "+--------------------+---------------------------+-------------------+------------------+-------------------+------------------------+\n",
            "only showing top 10 rows\n",
            "\n"
          ]
        }
      ]
    },
    {
      "cell_type": "markdown",
      "source": [
        "## BBT1-65 - Creacion de vistas temporales, análisis H"
      ],
      "metadata": {
        "id": "BNqIOkDlbebn"
      }
    },
    {
      "cell_type": "markdown",
      "source": [
        "Descripción\n",
        "\n",
        "COMO: desarrollador\n",
        "QUIERO: Generar una vista temporal a partir del DataFrame de Análisis H.\n",
        "PARA: Preparar los datos para trabajar con SparkSQL."
      ],
      "metadata": {
        "id": "ay73-k4Jby1R"
      }
    },
    {
      "cell_type": "code",
      "source": [
        "from pyspark.sql import SQLContext\n",
        "sqlContext = SQLContext(spark)\n",
        "\n",
        "bbt1_35_spark.registerTempTable('df_analysis_h')\n",
        "newDF_h = sqlContext.sql('Select * from df_analysis_h')\n",
        "newDF_h.show(2)"
      ],
      "metadata": {
        "colab": {
          "base_uri": "https://localhost:8080/"
        },
        "id": "A1D3qxElb0ic",
        "outputId": "eba5027a-8788-41dd-b648-27ca0c470477"
      },
      "execution_count": 106,
      "outputs": [
        {
          "output_type": "stream",
          "name": "stderr",
          "text": [
            "/usr/local/lib/python3.10/dist-packages/pyspark/sql/context.py:112: FutureWarning: Deprecated in 3.0.0. Use SparkSession.builder.getOrCreate() instead.\n",
            "  warnings.warn(\n",
            "/usr/local/lib/python3.10/dist-packages/pyspark/sql/dataframe.py:330: FutureWarning: Deprecated in 2.0, use createOrReplaceTempView instead.\n",
            "  warnings.warn(\"Deprecated in 2.0, use createOrReplaceTempView instead.\", FutureWarning)\n"
          ]
        },
        {
          "output_type": "stream",
          "name": "stdout",
          "text": [
            "+--------------------+-------------+--------------------+--------------------+-------------------+-----------+-------------+\n",
            "|            order_id|order_item_id|          product_id|           seller_id|shipping_limit_date|total_price|freight_value|\n",
            "+--------------------+-------------+--------------------+--------------------+-------------------+-----------+-------------+\n",
            "|00010242fe8c5a6d1...|            1|4244733e06e7ecb49...|48436dade18ac8b2b...|2017-09-19 09:45:35|       58.9|        13.29|\n",
            "|00018f77f2f0320c5...|            1|e5f2d52b802189ee6...|dd7ddc04e1b6c2c61...|2017-05-03 11:05:13|      239.9|        19.93|\n",
            "+--------------------+-------------+--------------------+--------------------+-------------------+-----------+-------------+\n",
            "only showing top 2 rows\n",
            "\n"
          ]
        }
      ]
    },
    {
      "cell_type": "markdown",
      "source": [
        "## BBT1-66 - Creacion de vistas temporales, análisis I"
      ],
      "metadata": {
        "id": "XuKA18egcBeZ"
      }
    },
    {
      "cell_type": "markdown",
      "source": [
        "Descripción\n",
        "\n",
        "COMO: desarrollador\n",
        "QUIERO: Generar una vista temporal a partir del DataFrame de Análisis I.\n",
        "PARA: Preparar los datos para trabajar con SparkSQL."
      ],
      "metadata": {
        "id": "1CQtaPrbcGUR"
      }
    },
    {
      "cell_type": "code",
      "source": [
        "bbt1_36_spark.registerTempTable('df_analysis_i')\n",
        "newDF_i = sqlContext.sql('Select * from df_analysis_i')\n",
        "newDF_i.show(2)"
      ],
      "metadata": {
        "colab": {
          "base_uri": "https://localhost:8080/"
        },
        "id": "QZ7GN560cIGW",
        "outputId": "87916e85-c386-42a6-ce2c-7d2b6af84ab3"
      },
      "execution_count": 107,
      "outputs": [
        {
          "output_type": "stream",
          "name": "stdout",
          "text": [
            "+--------------------+-----------------------------+------+\n",
            "|            order_id|product_category_name_english| price|\n",
            "+--------------------+-----------------------------+------+\n",
            "|0812eb902a67711a1...|                   housewares|6735.0|\n",
            "|fefacc66af859508b...|                    computers|6729.0|\n",
            "+--------------------+-----------------------------+------+\n",
            "only showing top 2 rows\n",
            "\n"
          ]
        }
      ]
    },
    {
      "cell_type": "markdown",
      "source": [
        "## BBT1-67 - Creacion de vistas temporales, análisis J"
      ],
      "metadata": {
        "id": "KgzOGU3xcKJr"
      }
    },
    {
      "cell_type": "markdown",
      "source": [
        "Descripción\n",
        "\n",
        "COMO: desarrollador\n",
        "QUIERO: Generar una vista temporal a partir del DataFrame de Análisis J.\n",
        "PARA: Preparar los datos para trabajar con SparkSQL."
      ],
      "metadata": {
        "id": "845rpnUUcM8-"
      }
    },
    {
      "cell_type": "code",
      "source": [
        "bbt1_37_spark.registerTempTable('df_analysis_j')\n",
        "newDF_j = sqlContext.sql('Select * from df_analysis_j')\n",
        "newDF_j.show(2)"
      ],
      "metadata": {
        "colab": {
          "base_uri": "https://localhost:8080/"
        },
        "id": "vd0SYesTcO7M",
        "outputId": "5a1f022b-1b31-4f23-c9f5-0bbd634d5422"
      },
      "execution_count": 108,
      "outputs": [
        {
          "output_type": "stream",
          "name": "stdout",
          "text": [
            "+-----+--------------------+--------------------+------------+------------------------+-------------------+----------------------------+-----------------------------+-----------------------------+------------+--------------+--------------+\n",
            "|index|            order_id|         customer_id|order_status|order_purchase_timestamp|  order_approved_at|order_delivered_carrier_date|order_delivered_customer_date|order_estimated_delivery_date|payment_type| customer_city|customer_state|\n",
            "+-----+--------------------+--------------------+------------+------------------------+-------------------+----------------------------+-----------------------------+-----------------------------+------------+--------------+--------------+\n",
            "|90161|1f78449c87a54faf9...|68c9dafdf193586c2...|   delivered|     2018-07-22 14:07:35|2018-07-23 11:32:08|         2018-07-23 12:58:00|          2018-07-28 15:03:04|          2018-08-14 00:00:00| credit_card|campina grande|            PB|\n",
            "|42220|d88e0d5fa41661ce0...|fe0c5425832ac53c3...|   delivered|     2017-11-28 15:53:29|2017-11-28 16:17:30|         2017-12-12 23:22:02|          2017-12-19 20:49:52|          2017-12-18 00:00:00| credit_card|       marilia|            SP|\n",
            "+-----+--------------------+--------------------+------------+------------------------+-------------------+----------------------------+-----------------------------+-----------------------------+------------+--------------+--------------+\n",
            "only showing top 2 rows\n",
            "\n"
          ]
        }
      ]
    },
    {
      "cell_type": "markdown",
      "metadata": {
        "id": "YfiKrYWennkU"
      },
      "source": [
        "## BBT1 - 68 Querys en spark SQL, análisis A"
      ]
    },
    {
      "cell_type": "markdown",
      "metadata": {
        "id": "89q_fI_jnnkU"
      },
      "source": [
        "**Descripción**\n",
        "\n",
        "QUIERO: Generar una consulta que cumpla los siguientes puntos:\n",
        "\n",
        "Totalizar por las órdenes más vendidas por cliente, año y mes sumando monto, calculando monto máximo, mínimo y promedio de compra.\n",
        "\n",
        "\n",
        "PARA: Enriquecer el análisis de los datos según requerimiento. Para entender las frecuencia de compra y la incidencia por cliente.\n"
      ]
    },
    {
      "cell_type": "code",
      "source": [
        "#Tengo que traer la tabla order_payment\n",
        "query_temp = \"SELECT * FROM order_payments\"\n",
        "df = pd.read_sql_query(query_temp, conn)"
      ],
      "metadata": {
        "id": "VnHlcM9wEFUy"
      },
      "execution_count": 188,
      "outputs": []
    },
    {
      "cell_type": "code",
      "source": [
        "# Guardar los datos en un archivo CSV\n",
        "df.to_csv('order_payments.csv', index=False)"
      ],
      "metadata": {
        "id": "hdtvwuBFEUfi"
      },
      "execution_count": 189,
      "outputs": []
    },
    {
      "cell_type": "code",
      "source": [
        "# Carga el archivo CSV en un DataFrame de PySpark\n",
        "df = spark.read.csv(\"order_payments.csv\", header=True, inferSchema=True)"
      ],
      "metadata": {
        "id": "oVb0PS-2EjBW"
      },
      "execution_count": 190,
      "outputs": []
    },
    {
      "cell_type": "code",
      "source": [
        "# Crea una vista temporal a partir del DataFrame\n",
        "df.createOrReplaceTempView(\"vista_temporal_order_payments\")"
      ],
      "metadata": {
        "id": "RDehpZ7tEoO0"
      },
      "execution_count": 191,
      "outputs": []
    },
    {
      "cell_type": "code",
      "source": [
        "# Visualizacion\n",
        "df_order_payments = spark.sql('SELECT * FROM vista_temporal_order_payments')\n",
        "df_order_payments.show(5)"
      ],
      "metadata": {
        "colab": {
          "base_uri": "https://localhost:8080/"
        },
        "id": "6_MYvzGOEqBy",
        "outputId": "5f5f6211-b261-4a35-febb-469d3fc6aeb8"
      },
      "execution_count": 192,
      "outputs": [
        {
          "output_type": "stream",
          "name": "stdout",
          "text": [
            "+-----+--------------------+------------------+------------+--------------------+-------------+\n",
            "|index|            order_id|payment_sequential|payment_type|payment_installments|payment_value|\n",
            "+-----+--------------------+------------------+------------+--------------------+-------------+\n",
            "|    0|b81ef226f3fe1789b...|                 1| credit_card|                   8|        99.33|\n",
            "|    1|a9810da82917af2d9...|                 1| credit_card|                   1|        24.39|\n",
            "|    2|25e8ea4e93396b6fa...|                 1| credit_card|                   1|        65.71|\n",
            "|    3|ba78997921bbcdc13...|                 1| credit_card|                   8|       107.78|\n",
            "|    4|42fdf880ba16b47b5...|                 1| credit_card|                   2|       128.45|\n",
            "+-----+--------------------+------------------+------------+--------------------+-------------+\n",
            "only showing top 5 rows\n",
            "\n"
          ]
        }
      ]
    },
    {
      "cell_type": "code",
      "execution_count": 193,
      "metadata": {
        "id": "IaJbKlh8nnkU",
        "colab": {
          "base_uri": "https://localhost:8080/"
        },
        "outputId": "d2c4f5c6-cea7-4ff2-ae6b-91fb21f359eb"
      },
      "outputs": [
        {
          "output_type": "stream",
          "name": "stdout",
          "text": [
            "+--------------------+--------------------+------------------------+------+\n",
            "|  customer_unique_id|            order_id|order_purchase_timestamp| monto|\n",
            "+--------------------+--------------------+------------------------+------+\n",
            "|0000366f3b9a7992b...|e22acc9c116caa3f2...|     2018-05-10 10:56:27| 141.9|\n",
            "|0000b849f77a49e4a...|3594e05a005ac4d06...|     2018-05-07 11:11:27| 27.19|\n",
            "|0000f46a3911fa3c0...|b33ec3b6993371814...|     2017-03-10 21:05:03| 86.22|\n",
            "|0000f6ccb0745a6a4...|41272756ecddd9a9e...|     2017-10-12 20:29:41| 43.62|\n",
            "|0004aac84e0df4da2...|d957021f1127559cd...|     2017-11-14 19:45:42|196.89|\n",
            "+--------------------+--------------------+------------------------+------+\n",
            "only showing top 5 rows\n",
            "\n"
          ]
        }
      ],
      "source": [
        "query_bbt1_68 = '''\n",
        "SELECT\n",
        "    t.customer_unique_id,\n",
        "    t.order_id,\n",
        "    t.order_purchase_timestamp,\n",
        "    op.payment_value AS monto\n",
        "FROM\n",
        "    vista_temporal_bbt1_48 AS t\n",
        "JOIN\n",
        "    vista_temporal_order_payments AS op\n",
        "ON\n",
        "    t.order_id = op.order_id;\n",
        "'''\n",
        "\n",
        "resultado_bbt1_68 = spark.sql(query_bbt1_68)\n",
        "resultado_bbt1_68.show(5)\n"
      ]
    },
    {
      "cell_type": "code",
      "source": [
        "query_bbt1_68 = '''\n",
        "SELECT\n",
        "    t.customer_unique_id,\n",
        "    ANY_VALUE(t.order_id) AS order_id,  -- Usar ANY_VALUE para order_id\n",
        "    YEAR(t.order_purchase_timestamp) AS anio,\n",
        "    MONTH(t.order_purchase_timestamp) AS mes,\n",
        "    COUNT(*) AS total_transacciones,\n",
        "    ROUND(SUM(op.payment_value), 2) AS monto_total,\n",
        "    ROUND(MAX(op.payment_value), 2) AS monto_max,\n",
        "    ROUND(MIN(op.payment_value), 2) AS monto_min,\n",
        "    ROUND(AVG(op.payment_value), 2) AS monto_promedio\n",
        "\n",
        "FROM\n",
        "    vista_temporal_bbt1_48 AS t\n",
        "JOIN\n",
        "    vista_temporal_order_payments AS op\n",
        "ON\n",
        "    t.order_id = op.order_id\n",
        "GROUP BY\n",
        "    t.customer_unique_id,\n",
        "    anio,\n",
        "    mes\n",
        "HAVING\n",
        "    COUNT(*) >= 1  -- Solo considerar clientes con al menos una orden\n",
        "ORDER BY\n",
        "    total_transacciones DESC,  -- Ordenar por transacciones descendentes\n",
        "    customer_unique_id,  -- Luego por ID de cliente\n",
        "    anio,  -- Luego por año\n",
        "    mes  -- Finalmente por mes\n",
        "'''\n",
        "\n",
        "resultado_bbt1_68 = spark.sql(query_bbt1_68)\n",
        "resultado_bbt1_68.show(5)\n",
        "\n"
      ],
      "metadata": {
        "id": "5-wi1z9kFrE1",
        "colab": {
          "base_uri": "https://localhost:8080/"
        },
        "outputId": "f1781a46-0f4e-4934-b98f-0b6ba50ee2b2"
      },
      "execution_count": 194,
      "outputs": [
        {
          "output_type": "stream",
          "name": "stdout",
          "text": [
            "+--------------------+--------------------+----+---+-------------------+-----------+---------+---------+--------------+\n",
            "|  customer_unique_id|            order_id|anio|mes|total_transacciones|monto_total|monto_max|monto_min|monto_promedio|\n",
            "+--------------------+--------------------+----+---+-------------------+-----------+---------+---------+--------------+\n",
            "|8af7ac63b2efbcbd8...|fa65dad1b0e818e3c...|2017|  4|                 29|     457.99|    150.0|      0.0|         15.79|\n",
            "|569aa12b73b5f7ede...|ccf804e764ed5650c...|2017|  6|                 26|      62.68|     23.1|     0.97|          2.41|\n",
            "|2524dcec233c3766f...|285c2e15bebd4ac83...|2017| 12|                 22|      40.85|     4.07|      1.0|          1.86|\n",
            "|9a736b248f67d166d...|895ab968e7bb0d565...|2017|  8|                 21|     161.32|     16.7|     0.24|          7.68|\n",
            "|24f12460aad399ba1...|ee9ca989fc93ba09a...|2017|  5|                 19|      82.73|    12.49|     1.68|          4.35|\n",
            "+--------------------+--------------------+----+---+-------------------+-----------+---------+---------+--------------+\n",
            "only showing top 5 rows\n",
            "\n"
          ]
        }
      ]
    },
    {
      "cell_type": "markdown",
      "metadata": {
        "id": "kuBowGD6nnkV"
      },
      "source": [
        "## BBT1 - 69 Querys en spark SQL, análisis B"
      ]
    },
    {
      "cell_type": "markdown",
      "metadata": {
        "id": "qxrrAoLXnnkV"
      },
      "source": [
        "**Descripción**\n",
        "\n",
        "COMO: desarrollador\n",
        "\n",
        "QUIERO: Generar una consulta que cumpla los siguientes puntos:\n",
        "\n",
        "Totalizar por las órdenes más vendidas año y mes de aprobacion de la orden sumando monto y promedio de compra.\n",
        "\n",
        "\n",
        "PARA: Enriquecer el análisis de los datos según requerimiento. Para entender las frecuencia de compra y de aprobaciones."
      ]
    },
    {
      "cell_type": "code",
      "execution_count": 116,
      "metadata": {
        "colab": {
          "base_uri": "https://localhost:8080/"
        },
        "id": "2j66Sz7-nnkV",
        "outputId": "74e2689e-38a5-4e15-f8ef-956633a2c4cf"
      },
      "outputs": [
        {
          "output_type": "stream",
          "name": "stdout",
          "text": [
            "+-------------------+-----------+--------------+\n",
            "|anio_mes_aprobacion|monto_total|monto_promedio|\n",
            "+-------------------+-----------+--------------+\n",
            "|            2018-05| 1162658.66|        145.24|\n",
            "|            2018-03| 1152122.73|        141.17|\n",
            "|            2017-11| 1144522.18|         137.1|\n",
            "|            2018-04| 1122249.13|        147.24|\n",
            "|            2018-01| 1088490.41|        136.45|\n",
            "|            2018-07| 1024509.62|        149.59|\n",
            "|            2018-08| 1024351.84|        139.69|\n",
            "|            2018-06| 1016280.31|        146.23|\n",
            "|            2018-02|  966941.35|        128.87|\n",
            "|            2017-12|  883266.29|        137.54|\n",
            "|            2017-10|  755452.07|        146.72|\n",
            "|            2017-09|  702490.39|        147.03|\n",
            "|            2017-08|   661638.1|        136.08|\n",
            "|            2017-05|  582679.89|        142.71|\n",
            "|            2017-07|  573767.68|        130.58|\n",
            "|            2017-06|  503864.48|        141.42|\n",
            "|            2017-03|  425452.15|        142.82|\n",
            "|            2017-04|  405530.21|        154.66|\n",
            "|            2017-02|  284700.91|        148.67|\n",
            "|            2017-01|  128579.38|        148.48|\n",
            "+-------------------+-----------+--------------+\n",
            "only showing top 20 rows\n",
            "\n"
          ]
        }
      ],
      "source": [
        "query_bbt1_69= \"\"\"\n",
        "SELECT\n",
        "    SUBSTRING(order_approved_at, 1, 7) AS anio_mes_aprobacion,\n",
        "    ROUND(SUM(price + freight_value),2) AS monto_total,\n",
        "    ROUND(AVG(price + freight_value),2) AS monto_promedio\n",
        "    --agregar columna anual\n",
        "FROM\n",
        "    vista_temporal_bbt1_49\n",
        "GROUP BY\n",
        "    SUBSTRING(order_approved_at, 1, 7)\n",
        "ORDER BY\n",
        "    monto_total DESC --ordenar por fecha\n",
        "\"\"\"\n",
        "#Preguntar si se tendria que sumar el costo de envio o no\n",
        "resultado_bbt1_69 = spark.sql(query_bbt1_69)\n",
        "\n",
        "# Mostrar los resultados\n",
        "resultado_bbt1_69.show()\n"
      ]
    },
    {
      "cell_type": "markdown",
      "metadata": {
        "id": "GG4KI6zKnnkV"
      },
      "source": [
        "## BBT1 - 70 Querys en spark SQL, análisis C"
      ]
    },
    {
      "cell_type": "markdown",
      "metadata": {
        "id": "w6G_FbvYnnkV"
      },
      "source": [
        "**Descripción**\n",
        "\n",
        "COMO: desarrollador\n",
        "\n",
        "QUIERO: Generar una consulta que cumpla los siguientes puntos:\n",
        "\n",
        "Totalizar por las órdenes más vendidas por ciudad del vendedor, año y mes limite de entrega sumando monto de envio y promedio de monto de envio.\n",
        "\n",
        "\n",
        "PARA: Enriquecer el análisis de los datos según requerimiento. Para entender las frecuencia de compra y la incidencia de los envios por ciudad del vendedor."
      ]
    },
    {
      "cell_type": "code",
      "execution_count": 117,
      "metadata": {
        "colab": {
          "base_uri": "https://localhost:8080/"
        },
        "id": "Xz-j9rE-nnkV",
        "outputId": "701a8020-1e3c-4836-9a2f-66e438b138b2"
      },
      "outputs": [
        {
          "output_type": "stream",
          "name": "stdout",
          "text": [
            "+--------------+-----------------------+-----------------+--------------------+------------+\n",
            "|   seller_city|anio_mes_limite_entrega|monto_total_envio|promedio_monto_envio|Precio_total|\n",
            "+--------------+-----------------------+-----------------+--------------------+------------+\n",
            "|     sao paulo|                2018-08|          5959.15|                22.4|     62204.0|\n",
            "|     sao paulo|                2018-07|          4826.89|               25.14|     53420.0|\n",
            "|     sao paulo|                2018-05|          3273.88|                24.8|     44581.0|\n",
            "|     sao paulo|                2018-06|          3004.71|               24.43|     31416.0|\n",
            "|     sao paulo|                2018-03|          2996.55|               27.24|     34564.0|\n",
            "|     sao paulo|                2018-04|          2416.34|               21.77|     30451.0|\n",
            "|     sao paulo|                2017-11|          2296.78|                23.2|     25416.0|\n",
            "|     sao paulo|                2017-12|          1995.66|               23.48|     26345.0|\n",
            "|     sao paulo|                2018-02|          1904.51|               24.42|     25183.0|\n",
            "|     sao paulo|                2017-08|          1770.33|               31.06|     15725.0|\n",
            "|     sao paulo|                2018-01|          1717.72|               24.89|     20057.0|\n",
            "|     sao paulo|                2017-09|          1498.79|               22.04|     16269.0|\n",
            "|rio de janeiro|                2018-08|          1404.56|               28.66|     16448.0|\n",
            "|     sao paulo|                2017-03|          1401.72|               20.92|     17654.0|\n",
            "|     sao paulo|                2017-07|          1235.59|               25.22|     18597.0|\n",
            "|     sao paulo|                2017-05|          1211.07|               20.18|      7920.0|\n",
            "|     sao paulo|                2017-10|          1206.82|               28.07|     16640.0|\n",
            "|     sao paulo|                2017-02|          1125.86|               26.81|     14329.0|\n",
            "|     guarulhos|                2018-08|          1106.39|               24.05|      9160.0|\n",
            "|      sorocaba|                2018-08|          1092.03|                78.0|      8311.0|\n",
            "+--------------+-----------------------+-----------------+--------------------+------------+\n",
            "only showing top 20 rows\n",
            "\n"
          ]
        }
      ],
      "source": [
        "# Ejecutar la consulta SQL en la vista temporal\n",
        "consulta_sql = \"\"\"\n",
        "SELECT\n",
        "    seller_city,\n",
        "    SUBSTRING(shipping_limit_date, 1, 7) AS anio_mes_limite_entrega,\n",
        "    ROUND(SUM(freight_value),2) AS monto_total_envio,\n",
        "    ROUND(AVG(freight_value),2) AS promedio_monto_envio,\n",
        "    ROUND(SUM(price)) AS Precio_total\n",
        "    --\n",
        "\n",
        "FROM\n",
        "    vista_temporal_bbt1_50\n",
        "GROUP BY\n",
        "    seller_city,\n",
        "    SUBSTRING(shipping_limit_date, 1, 7)\n",
        "ORDER BY\n",
        "    monto_total_envio DESC --order por fecha\n",
        "\"\"\"\n",
        "\n",
        "resultado_70 = spark.sql(consulta_sql)\n",
        "\n",
        "# Mostrar los resultados\n",
        "resultado_70.show()\n"
      ]
    },
    {
      "cell_type": "code",
      "source": [
        "from pyspark.sql import functions as F\n",
        "from pyspark.sql.functions import count\n",
        "from pyspark.sql.functions import col\n",
        "\n",
        "from pyspark.sql import functions as F\n",
        "\n",
        "# Agrupa por ciudad de vendedor y cuenta la cantidad de vendedores en cada ciudad\n",
        "vendedores_por_ciudad = resultado_70.groupBy(\"seller_city\").agg(count(\"*\").alias(\"cantidad_vendedores\"))\n",
        "\n",
        "# Ordena en orden descendente por la cantidad de vendedores\n",
        "vendedores_por_ciudad = vendedores_por_ciudad.orderBy(\"cantidad_vendedores\", ascending=False)"
      ],
      "metadata": {
        "id": "jcZSkYtoJGss"
      },
      "execution_count": 118,
      "outputs": []
    },
    {
      "cell_type": "code",
      "source": [
        "# Toma los primeros 10 registros (top 10 ciudades con más vendedores)\n",
        "top_10_ciudades_vendedores = vendedores_por_ciudad.limit(10)\n",
        "top_10_ciudades_vendedores.show()"
      ],
      "metadata": {
        "colab": {
          "base_uri": "https://localhost:8080/"
        },
        "id": "-A5372GVMnJ8",
        "outputId": "8cbcef22-025d-43a0-f34d-002bf510c9f9"
      },
      "execution_count": 119,
      "outputs": [
        {
          "output_type": "stream",
          "name": "stdout",
          "text": [
            "+--------------+-------------------+\n",
            "|   seller_city|cantidad_vendedores|\n",
            "+--------------+-------------------+\n",
            "|     sao paulo|                 22|\n",
            "|      campinas|                 21|\n",
            "|      londrina|                 21|\n",
            "|      curitiba|                 21|\n",
            "|rio de janeiro|                 21|\n",
            "|ribeirao preto|                 20|\n",
            "|      ibitinga|                 20|\n",
            "|        osasco|                 20|\n",
            "|belo horizonte|                 20|\n",
            "|       maringa|                 19|\n",
            "+--------------+-------------------+\n",
            "\n"
          ]
        }
      ]
    },
    {
      "cell_type": "code",
      "source": [
        "import pandas as pd\n",
        "import matplotlib.pyplot as plt\n",
        "\n",
        "def plot_top_cities(top_cities_df):\n",
        "    # Ordenar las ciudades por cantidad de vendedores (mayor a menor)\n",
        "    top_cities_df = top_cities_df.sort_values(by=\"cantidad_vendedores\", ascending=False)\n",
        "\n",
        "    # Grafica los datos\n",
        "    plt.figure(figsize=(12, 6))\n",
        "    bar_plot = plt.bar(top_cities_df[\"seller_city\"], top_cities_df[\"cantidad_vendedores\"], color=\"skyblue\")\n",
        "\n",
        "    # Agrega etiquetas de cantidad y porcentaje en las barras\n",
        "    total_vendedores = top_cities_df[\"cantidad_vendedores\"].sum()\n",
        "    for bar in bar_plot:\n",
        "        height = bar.get_height()\n",
        "        city = top_cities_df[top_cities_df[\"cantidad_vendedores\"] == height][\"seller_city\"].values[0]\n",
        "        percentage = (height / total_vendedores) * 100\n",
        "        plt.annotate(f\"{int(height)} ({percentage:.1f}%)\",\n",
        "                     xy=(bar.get_x() + bar.get_width() / 2, height),\n",
        "                     xytext=(0, 3),\n",
        "                     textcoords=\"offset points\",\n",
        "                     ha=\"center\", va=\"bottom\", fontsize=10)\n",
        "\n",
        "    plt.title(\"Top 10 Ciudades con Más Vendedores\")\n",
        "    plt.xlabel(\"Ciudad de Vendedor\")\n",
        "    plt.ylabel(\"Cantidad de Vendedores\")\n",
        "    plt.xticks(rotation=45)\n",
        "    plt.grid(axis=\"y\", linestyle=\"--\", alpha=0.7)\n",
        "    plt.legend([\"Cantidad de Vendedores\"], loc=\"upper right\")  # Leyenda\n",
        "\n",
        "    plt.show()\n",
        "\n",
        "# Convierte el resultado a un DataFrame de Pandas para la visualización\n",
        "top_10_ciudades_df = top_10_ciudades_vendedores.toPandas()\n",
        "\n",
        "# Muestra el resultado\n",
        "print(\"Top 10 Ciudades con Más Vendedores:\")\n",
        "print(top_10_ciudades_df)\n",
        "\n",
        "# Grafica los datos\n",
        "plot_top_cities(top_10_ciudades_df)\n"
      ],
      "metadata": {
        "colab": {
          "base_uri": "https://localhost:8080/",
          "height": 0
        },
        "id": "tiqDU9sgEIJ3",
        "outputId": "58860d84-e912-4410-df3e-c0eaa89d9dfd"
      },
      "execution_count": 120,
      "outputs": [
        {
          "output_type": "stream",
          "name": "stdout",
          "text": [
            "Top 10 Ciudades con Más Vendedores:\n",
            "      seller_city  cantidad_vendedores\n",
            "0       sao paulo                   22\n",
            "1        campinas                   21\n",
            "2        londrina                   21\n",
            "3        curitiba                   21\n",
            "4  rio de janeiro                   21\n",
            "5  ribeirao preto                   20\n",
            "6        ibitinga                   20\n",
            "7          osasco                   20\n",
            "8  belo horizonte                   20\n",
            "9         maringa                   19\n"
          ]
        },
        {
          "output_type": "display_data",
          "data": {
            "text/plain": [
              "<Figure size 1200x600 with 1 Axes>"
            ],
            "image/png": "[encoded data removed]"
          },
          "metadata": {}
        }
      ]
    },
    {
      "cell_type": "code",
      "source": [
        "import matplotlib.pyplot as plt\n",
        "\n",
        "def plot_top_cities(top_cities_df, total_vendedores):\n",
        "    # Ordenar las ciudades por cantidad de vendedores (mayor a menor)\n",
        "    top_cities_df = top_cities_df.sort_values(by=\"cantidad_vendedores\", ascending=False)\n",
        "\n",
        "    # Grafica los datos\n",
        "    plt.figure(figsize=(12, 6))\n",
        "    bar_plot = plt.bar(top_cities_df[\"seller_city\"], top_cities_df[\"cantidad_vendedores\"], color=\"skyblue\")\n",
        "\n",
        "    # Agrega etiquetas de cantidad y porcentaje en las barras\n",
        "    for bar in bar_plot:\n",
        "        height = bar.get_height()\n",
        "        city = top_cities_df[top_cities_df[\"cantidad_vendedores\"] == height][\"seller_city\"].values[0]\n",
        "        percentage = (height / total_vendedores) * 100\n",
        "        plt.annotate(f\"{int(height)} ({percentage:.1f}%)\",\n",
        "                     xy=(bar.get_x() + bar.get_width() / 2, height),\n",
        "                     xytext=(0, 3),\n",
        "                     textcoords=\"offset points\",\n",
        "                     ha=\"center\", va=\"bottom\", fontsize=10)\n",
        "\n",
        "    plt.title(\"Top 10 Ciudades con Más Vendedores\")\n",
        "    plt.xlabel(\"Ciudad de Vendedor\")\n",
        "    plt.ylabel(\"Cantidad de Vendedores\")\n",
        "    plt.xticks(rotation=45)\n",
        "    plt.grid(axis=\"y\", linestyle=\"--\", alpha=0.7)\n",
        "    plt.legend([\"Cantidad de Vendedores\"], loc=\"upper right\")  # Leyenda\n",
        "\n",
        "    plt.show()\n",
        "\n",
        "# Convierte el resultado a un DataFrame de Pandas para la visualización\n",
        "top_10_ciudades_df = top_10_ciudades_vendedores.toPandas()\n",
        "vendedores_por_ciudad_df = vendedores_por_ciudad.toPandas()\n",
        "\n",
        "# Calcula el total de vendedores fuera de la función y pásalo como argumento\n",
        "total_vendedores = vendedores_por_ciudad_df[\"cantidad_vendedores\"].sum()\n",
        "\n",
        "# Muestra el resultado\n",
        "print(\"Top 10 Ciudades con Más Vendedores:\")\n",
        "print(top_10_ciudades_df)\n",
        "\n",
        "# Grafica los datos\n",
        "plot_top_cities(top_10_ciudades_df, total_vendedores)\n"
      ],
      "metadata": {
        "colab": {
          "base_uri": "https://localhost:8080/",
          "height": 0
        },
        "id": "7DnE_xHU7ij7",
        "outputId": "b06a31c2-ff60-41b7-de4b-fcad6803b198"
      },
      "execution_count": 121,
      "outputs": [
        {
          "output_type": "stream",
          "name": "stdout",
          "text": [
            "Top 10 Ciudades con Más Vendedores:\n",
            "      seller_city  cantidad_vendedores\n",
            "0       sao paulo                   22\n",
            "1        campinas                   21\n",
            "2        londrina                   21\n",
            "3        curitiba                   21\n",
            "4  rio de janeiro                   21\n",
            "5  ribeirao preto                   20\n",
            "6        ibitinga                   20\n",
            "7          osasco                   20\n",
            "8  belo horizonte                   20\n",
            "9         maringa                   19\n"
          ]
        },
        {
          "output_type": "display_data",
          "data": {
            "text/plain": [
              "<Figure size 1200x600 with 1 Axes>"
            ],
            "image/png": "[encoded data removed]"
          },
          "metadata": {}
        }
      ]
    },
    {
      "cell_type": "code",
      "source": [
        "# Agrupar los datos por seller_city y calcular la suma del precio_total\n",
        "precio_total_por_ciudad = resultado_70.groupby('seller_city').agg(F.sum('Precio_total').alias('Precio_total')).toPandas()\n",
        "\n",
        "# Ordenar el DataFrame por precio_total de manera descendente y tomar el Top 10\n",
        "precio_total_por_ciudad = precio_total_por_ciudad.sort_values(by='Precio_total', ascending=False).head(10)\n",
        "\n",
        "# Crear el gráfico de barras\n",
        "plt.figure(figsize=(12, 6))\n",
        "bar_plot = plt.bar(precio_total_por_ciudad['seller_city'], precio_total_por_ciudad['Precio_total'], color='skyblue')\n",
        "\n",
        "# Agregar etiquetas de datos en las barras (precio)\n",
        "for bar in bar_plot:\n",
        "    height = bar.get_height()\n",
        "    plt.annotate(f\"${height:.2f}\",\n",
        "                 xy=(bar.get_x() + bar.get_width() / 2, height),\n",
        "                 xytext=(0, 3),\n",
        "                 textcoords=\"offset points\",\n",
        "                 ha=\"center\", va=\"bottom\", fontsize=10)\n",
        "\n",
        "# Configuración adicional\n",
        "plt.title(\"Monto Total de ventas por ciudad (Top 10)\")\n",
        "plt.xlabel(\"Ciudad de Vendedor\")\n",
        "plt.ylabel(\"Monto Total\")\n",
        "plt.xticks(rotation=45)\n",
        "plt.grid(axis=\"y\", linestyle=\"--\", alpha=0.7)\n",
        "plt.legend([\"Monto total\"], loc=\"upper right\")\n",
        "\n",
        "plt.show()\n",
        "\n"
      ],
      "metadata": {
        "colab": {
          "base_uri": "https://localhost:8080/",
          "height": 0
        },
        "id": "dMMCbpF9JBgu",
        "outputId": "4439b3b9-19c3-4863-b83b-f01a1d63ee18"
      },
      "execution_count": 122,
      "outputs": [
        {
          "output_type": "display_data",
          "data": {
            "text/plain": [
              "<Figure size 1200x600 with 1 Axes>"
            ],
            "image/png": "[encoded data removed]"
          },
          "metadata": {}
        }
      ]
    },
    {
      "cell_type": "markdown",
      "source": [
        "## BBT1-71 Querys en spark SQL, análisis D"
      ],
      "metadata": {
        "id": "nD7Ar0ObByqT"
      }
    },
    {
      "cell_type": "markdown",
      "source": [
        "COMO: desarrollador\n",
        "QUIERO: Generar una consulta que cumpla los siguientes puntos:\n",
        "Totalizar por las órdenes más vendidas por categoria, por año y mes limite de entrega sumando monto de envio y promedio de monto de envio.\n",
        "\n",
        "PARA: Enriquecer el análisis de los datos según requerimiento. Para entender las frecuencia de compra y la incidencia de los envios por categoria de los productos."
      ],
      "metadata": {
        "id": "sjss8pfUCUUr"
      }
    },
    {
      "cell_type": "code",
      "source": [
        "from pyspark.sql.functions import year, month\n",
        "from pyspark.sql.window import Window\n",
        "from pyspark.sql.functions import sum, avg, row_number"
      ],
      "metadata": {
        "id": "Q9lMPC6DrLHq"
      },
      "execution_count": 123,
      "outputs": []
    },
    {
      "cell_type": "code",
      "source": [
        "spark = SparkSession.builder.appName(\"ConsultaSparkSQL\").getOrCreate()"
      ],
      "metadata": {
        "id": "tp2f5ZPRuUcI"
      },
      "execution_count": 124,
      "outputs": []
    },
    {
      "cell_type": "markdown",
      "source": [
        "Dado que dicha consulta proviene de un filtrado de tres datos por categoria, la frecuencia de compra iba a dar una sola unidad mensual, por lo cual se realizó el filtro solamente por año."
      ],
      "metadata": {
        "id": "4UykCaXqPaPb"
      }
    },
    {
      "cell_type": "code",
      "source": [
        "analisis_D = spark.sql(\"\"\"\n",
        "    SELECT\n",
        "        product_category_name,\n",
        "        year,\n",
        "        ROUND(SUM(freight_value),2) AS total_monto_envio,\n",
        "        ROUND(AVG(freight_value),2) AS promedio_monto_envio,\n",
        "        count(freight_value) AS cant_envios\n",
        "    FROM\n",
        "        Vista_D\n",
        "    GROUP BY\n",
        "        product_category_name, year\n",
        "    ORDER BY total_monto_envio DESC\n",
        "    LIMIT 20\n",
        "\"\"\")\n",
        "\n",
        "analisis_D.show()"
      ],
      "metadata": {
        "colab": {
          "base_uri": "https://localhost:8080/"
        },
        "id": "A-V37ptIvybY",
        "outputId": "d8c2bfdc-a414-4ab1-bb5d-d468ffa3bc84"
      },
      "execution_count": 137,
      "outputs": [
        {
          "output_type": "stream",
          "name": "stdout",
          "text": [
            "+---------------------+----+-----------------+--------------------+-----------+\n",
            "|product_category_name|year|total_monto_envio|promedio_monto_envio|cant_envios|\n",
            "+---------------------+----+-----------------+--------------------+-----------+\n",
            "| utilidades_domest...|2018|           750.56|              375.28|          2|\n",
            "|                bebes|2018|            538.0|              179.33|          3|\n",
            "|        esporte_lazer|2018|           493.66|              164.55|          3|\n",
            "|      cama_mesa_banho|2018|            476.7|               158.9|          3|\n",
            "|          eletronicos|2018|           428.42|              142.81|          3|\n",
            "|      eletroportateis|2017|           421.44|              140.48|          3|\n",
            "| agro_industria_e_...|2017|           379.71|              126.57|          3|\n",
            "| industria_comerci...|2018|           360.14|              180.07|          2|\n",
            "|     eletrodomesticos|2018|           348.45|              116.15|          3|\n",
            "|             pet_shop|2017|           322.76|              107.59|          3|\n",
            "|          moveis_sala|2017|           307.62|              153.81|          2|\n",
            "|                  pcs|2018|           284.99|               142.5|          2|\n",
            "|   eletrodomesticos_2|2018|           278.54|               92.85|          3|\n",
            "|            papelaria|2018|           278.46|              139.23|          2|\n",
            "|     moveis_decoracao|2018|           256.85|              128.43|          2|\n",
            "|                artes|2017|           245.52|              122.76|          2|\n",
            "|    moveis_escritorio|2018|            242.1|              121.05|          2|\n",
            "|   ferramentas_jardim|2018|           224.01|               74.67|          3|\n",
            "| portateis_casa_fo...|2018|           223.15|               74.38|          3|\n",
            "|         beleza_saude|2017|           212.57|              106.29|          2|\n",
            "+---------------------+----+-----------------+--------------------+-----------+\n",
            "\n"
          ]
        }
      ]
    },
    {
      "cell_type": "markdown",
      "source": [
        "## BBT1-72 Querys en spark SQL, análisis E"
      ],
      "metadata": {
        "id": "tyA86MZ-BzDC"
      }
    },
    {
      "cell_type": "markdown",
      "source": [
        "Descripción\n",
        "\n",
        "COMO: desarrollador\n",
        "QUIERO: Generar una consulta que cumpla los siguientes puntos:\n",
        "Totalizar por las órdenes más vendidas por método de pago, por año y mes sumando monto y promedio de compra..\n",
        "\n",
        "PARA: Enriquecer el análisis de los datos según requerimiento. Para entender las frecuencia de compra y la incidencia de los métodos de pago."
      ],
      "metadata": {
        "id": "SLlQgY5ECbXM"
      }
    },
    {
      "cell_type": "code",
      "source": [
        "analisis_E = spark.sql(\"\"\"\n",
        "    SELECT\n",
        "        payment_type,\n",
        "        year_month,\n",
        "        ROUND(SUM(payment_value),2) AS total_ingresos,\n",
        "        ROUND(AVG(payment_value),2) AS promedio_ingresos,\n",
        "        count(payment_type) as cant_transacciones\n",
        "    FROM\n",
        "        Vista_E\n",
        "    WHERE payment_type = 'credit_card' OR payment_type = 'boleto'\n",
        "          OR payment_type = 'debit_card' OR payment_type = 'voucher'\n",
        "    GROUP BY\n",
        "        payment_type, year_month\n",
        "    ORDER BY year_month ASC\n",
        "    limit 10\n",
        "\"\"\")\n",
        "\n",
        "analisis_E.show()"
      ],
      "metadata": {
        "id": "P-Fi8J0iCghf",
        "colab": {
          "base_uri": "https://localhost:8080/"
        },
        "outputId": "1bfd0d32-e715-49aa-82a5-752ed5d967f0"
      },
      "execution_count": 133,
      "outputs": [
        {
          "output_type": "stream",
          "name": "stdout",
          "text": [
            "+------------+----------+--------------+-----------------+------------------+\n",
            "|payment_type|year_month|total_ingresos|promedio_ingresos|cant_transacciones|\n",
            "+------------+----------+--------------+-----------------+------------------+\n",
            "| credit_card|   2016-09|        252.24|            84.08|                 3|\n",
            "|      boleto|   2016-10|       9679.06|           153.64|                63|\n",
            "| credit_card|   2016-10|      48290.62|           190.12|               254|\n",
            "|  debit_card|   2016-10|        241.73|           120.87|                 2|\n",
            "|     voucher|   2016-10|        879.07|            38.22|                23|\n",
            "| credit_card|   2016-12|         19.62|            19.62|                 1|\n",
            "|      boleto|   2017-01|      24074.43|           122.21|               197|\n",
            "|  debit_card|   2017-01|        743.53|            82.61|                 9|\n",
            "| credit_card|   2017-01|     109615.68|           188.02|               583|\n",
            "|     voucher|   2017-01|        4054.4|            66.47|                61|\n",
            "+------------+----------+--------------+-----------------+------------------+\n",
            "\n"
          ]
        }
      ]
    },
    {
      "cell_type": "code",
      "source": [
        "import seaborn as sns\n",
        "import matplotlib.pyplot as plt\n",
        "import pandas as pd\n",
        "\n",
        "payment_type = [row.payment_type for row in analisis_E.collect()]\n",
        "year_month = [row.year_month for row in analisis_E.collect()]\n",
        "total_ingresos = [row.total_ingresos for row in analisis_E.collect()]\n",
        "\n",
        "# Crear un DataFrame a partir de las listas\n",
        "data = pd.DataFrame({'Fecha': year_month, 'Total Ingresos': total_ingresos, 'Payment Type': payment_type})\n",
        "\n",
        "# Paleta de colores para el gráfico\n",
        "palette_color = sns.color_palette('pastel')\n",
        "\n",
        "# Crear un gráfico de series con Seaborn separando por Payment Type\n",
        "plt.figure(figsize=(10, 5))\n",
        "sns.lineplot(data=data, x='Fecha', y='Total Ingresos', hue='Payment Type', palette='pastel', markers=True, marker='o')\n",
        "plt.xlabel('Fecha')\n",
        "plt.ylabel('Total Ventas')\n",
        "plt.title('Total Ventas por Forma de Pago')\n",
        "plt.xticks(rotation=90)\n",
        "plt.legend(title='Método de Pago')\n",
        "\n",
        "# Modificar los nombres de las etiquetas en la leyenda\n",
        "font = {'size': 8}\n",
        "etiquetas_personalizadas = ['Tarjeta de crédito', 'Voucher', 'Tarjeta de débito', 'Boleto']\n",
        "plt.legend(title='Método de Pago', labels=etiquetas_personalizadas, loc='center right', prop=font)\n",
        "\n",
        "# Mostrar el gráfico\n",
        "plt.tight_layout()\n",
        "plt.show()\n"
      ],
      "metadata": {
        "colab": {
          "base_uri": "https://localhost:8080/",
          "height": 507
        },
        "id": "9DlQkrw-6ig3",
        "outputId": "d42f7ebb-7dbf-4de3-8db2-5d5cc1cefe86"
      },
      "execution_count": null,
      "outputs": [
        {
          "output_type": "display_data",
          "data": {
            "text/plain": [
              "<Figure size 1000x500 with 1 Axes>"
            ],
            "image/png": "[encoded data removed]"
          },
          "metadata": {}
        }
      ]
    },
    {
      "cell_type": "markdown",
      "source": [
        "## BBT1-73 Querys en spark SQL, análisis F"
      ],
      "metadata": {
        "id": "BH0Uoi-yw9z8"
      }
    },
    {
      "cell_type": "markdown",
      "source": [
        "COMO: desarrollador.\n",
        "\n",
        "QUIERO: Generar una consulta que cumpla los siguientes puntos:\n",
        "Calcular la distancia de los clientes de su vecino mas cercano sacando luego el promedio de distancia por ciudad.\n",
        "\n",
        "PARA: Enriquecer el análisis de los datos según requerimiento. Para entender la incidencia de las ubicaciones geográficas de los clientes, en este caso se puede llegar a determinar un futuro análisis de cluster de clientes."
      ],
      "metadata": {
        "id": "vvgSro-FxDjp"
      }
    },
    {
      "cell_type": "markdown",
      "source": [
        "Se calculo la distancia a la ciudad más cercana ya que al haber realizado promedios de latitud y longitud anteriormente calcular la distancia de los clientes de su vecino más cercano no era posible.\n",
        "\n",
        "Como se buscan las ciudades más cercanas, se necesita tener un unico zip_code por ciudad, motivo por el cual se utiliza DISTINCT."
      ],
      "metadata": {
        "id": "XUNQIts6XYMF"
      }
    },
    {
      "cell_type": "code",
      "source": [
        "bbt1_73 = spark.sql(\n",
        "    '''\n",
        "    SELECT DISTINCT geolocation_zip_code_prefix, promedio_latitud, promedio_longitud ,geolocation_city\n",
        "    FROM customers_geolocation2\n",
        "    '''\n",
        ")\n",
        "bbt1_73.show(10)"
      ],
      "metadata": {
        "colab": {
          "base_uri": "https://localhost:8080/"
        },
        "id": "lSlm7Bnp5c6h",
        "outputId": "2efff3ec-841d-4056-9785-44233c5103c4"
      },
      "execution_count": 157,
      "outputs": [
        {
          "output_type": "stream",
          "name": "stdout",
          "text": [
            "+---------------------------+-------------------+-------------------+----------------+\n",
            "|geolocation_zip_code_prefix|   promedio_latitud|  promedio_longitud|geolocation_city|\n",
            "+---------------------------+-------------------+-------------------+----------------+\n",
            "|                      89188|-27.268552042340644|-49.711969364664384|      agronomica|\n",
            "|                      62970| -5.519712483344855| -38.26737385532683|      alto santo|\n",
            "|                      47830|-12.305739641294254|  -44.5388124087167|     baianopolis|\n",
            "|                      35975|-19.859866222327437| -43.45074764371449| barão de cocais|\n",
            "|                      89500|  -26.7781945518277| -51.01186246927613|         cacador|\n",
            "|                      16500|-21.803200599395232| -49.60221269289015|      cafelandia|\n",
            "|                       7700|-23.362945113345816| -46.74096686271874|        caieiras|\n",
            "|                      13073| -22.88460270536805| -47.06730188388011|        campinas|\n",
            "|                      61635| -3.738620434522034| -38.60979229377179|         caucaia|\n",
            "|                      95096|-29.177882694685692|-51.189896495629775|   caxias do sul|\n",
            "+---------------------------+-------------------+-------------------+----------------+\n",
            "only showing top 10 rows\n",
            "\n"
          ]
        }
      ]
    },
    {
      "cell_type": "markdown",
      "source": [
        "Se realiza un groupby y count del código postal para corroborar que tengamos solo 1 por ciudad."
      ],
      "metadata": {
        "id": "qfpJn0z4Javi"
      }
    },
    {
      "cell_type": "code",
      "source": [
        "bbt1_73.groupby('geolocation_zip_code_prefix').count().sort('count', ascending=False).show(5)"
      ],
      "metadata": {
        "colab": {
          "base_uri": "https://localhost:8080/"
        },
        "id": "NWHzcK4J7CS3",
        "outputId": "4080df73-d9e1-445d-92a8-f52d046f36db"
      },
      "execution_count": 158,
      "outputs": [
        {
          "output_type": "stream",
          "name": "stdout",
          "text": [
            "+---------------------------+-----+\n",
            "|geolocation_zip_code_prefix|count|\n",
            "+---------------------------+-----+\n",
            "|                      76110|    1|\n",
            "|                       6654|    1|\n",
            "|                      75705|    1|\n",
            "|                      65220|    1|\n",
            "|                      36525|    1|\n",
            "+---------------------------+-----+\n",
            "only showing top 5 rows\n",
            "\n"
          ]
        }
      ]
    },
    {
      "cell_type": "markdown",
      "source": [
        "Se crea una vista temporal de la tabla bbt1_73 para luego poder utilizarla dentro de la consulta spark.sql"
      ],
      "metadata": {
        "id": "g7ejRxBHS-Rg"
      }
    },
    {
      "cell_type": "code",
      "source": [
        "#Creación de vista temporal de la tabla bbt1_73\n",
        "bbt1_73.createOrReplaceTempView('bbt1_73_vt')"
      ],
      "metadata": {
        "id": "7sDDYdu6Rl4R"
      },
      "execution_count": 159,
      "outputs": []
    },
    {
      "cell_type": "code",
      "source": [
        "#Visualización de la vista temporal\n",
        "vista_bbt1_73 = spark.sql('SELECT * FROM bbt1_73_vt')\n",
        "vista_bbt1_73.show(10)"
      ],
      "metadata": {
        "colab": {
          "base_uri": "https://localhost:8080/"
        },
        "id": "RQBdu1fkTJR1",
        "outputId": "152bef15-b113-42a8-8ad1-574afffced8f"
      },
      "execution_count": 160,
      "outputs": [
        {
          "output_type": "stream",
          "name": "stdout",
          "text": [
            "+---------------------------+-------------------+-------------------+----------------+\n",
            "|geolocation_zip_code_prefix|   promedio_latitud|  promedio_longitud|geolocation_city|\n",
            "+---------------------------+-------------------+-------------------+----------------+\n",
            "|                      89188|-27.268552042340644|-49.711969364664384|      agronomica|\n",
            "|                      62970| -5.519712483344855| -38.26737385532683|      alto santo|\n",
            "|                      47830|-12.305739641294254|  -44.5388124087167|     baianopolis|\n",
            "|                      35975|-19.859866222327437| -43.45074764371449| barão de cocais|\n",
            "|                      89500|  -26.7781945518277| -51.01186246927613|         cacador|\n",
            "|                      16500|-21.803200599395232| -49.60221269289015|      cafelandia|\n",
            "|                       7700|-23.362945113345816| -46.74096686271874|        caieiras|\n",
            "|                      13073| -22.88460270536805| -47.06730188388011|        campinas|\n",
            "|                      61635| -3.738620434522034| -38.60979229377179|         caucaia|\n",
            "|                      95096|-29.177882694685692|-51.189896495629775|   caxias do sul|\n",
            "+---------------------------+-------------------+-------------------+----------------+\n",
            "only showing top 10 rows\n",
            "\n"
          ]
        }
      ]
    },
    {
      "cell_type": "code",
      "source": [
        "query_bbt1_73 = spark.sql(\n",
        "'''\n",
        "WITH ranked_distance AS (\n",
        "    SELECT\n",
        "        a.geolocation_zip_code_prefix AS zip_code_a, a.promedio_latitud AS promedio_latitud_a, a.promedio_longitud AS promedio_longitud_a, a.geolocation_city AS ciudad,\n",
        "        b.geolocation_zip_code_prefix AS zip_code_b, b.promedio_latitud AS promedio_latitud_b, b.promedio_longitud AS promedio_longitud_b, b.geolocation_city AS ciudad_mas_cercana,\n",
        "        SQRT(POW(a.promedio_latitud - b.promedio_latitud, 2) + POW(a.promedio_longitud - b.promedio_longitud, 2)) AS distancia,\n",
        "        ROW_NUMBER() OVER (PARTITION BY a.geolocation_zip_code_prefix ORDER BY SQRT(POW(a.promedio_latitud - b.promedio_latitud, 2) + POW(a.promedio_longitud - b.promedio_longitud, 2))) AS rank\n",
        "    FROM bbt1_73_vt a\n",
        "    CROSS JOIN bbt1_73_vt b\n",
        ")\n",
        "SELECT\n",
        "    zip_code_a,\n",
        "    promedio_latitud_a,\n",
        "    promedio_longitud_a,\n",
        "    ciudad,\n",
        "    zip_code_b AS zip_code_ciudad_mas_cercana,\n",
        "    promedio_latitud_b,\n",
        "    promedio_longitud_b,\n",
        "    ciudad_mas_cercana,\n",
        "    distancia AS distancia_mas_cercana\n",
        "FROM ranked_distance\n",
        "WHERE rank = 2;\n",
        "'''\n",
        ")"
      ],
      "metadata": {
        "id": "z7oKU3ncQvML"
      },
      "execution_count": 161,
      "outputs": []
    },
    {
      "cell_type": "code",
      "source": [
        "query_bbt1_73.show(5)"
      ],
      "metadata": {
        "colab": {
          "base_uri": "https://localhost:8080/"
        },
        "id": "QtZ04ZnOR9nz",
        "outputId": "464ad914-bdb7-4d34-fb4f-7eab86b394d0"
      },
      "execution_count": 162,
      "outputs": [
        {
          "output_type": "stream",
          "name": "stdout",
          "text": [
            "+----------+-------------------+-------------------+---------------+---------------------------+-------------------+-------------------+------------------+---------------------+\n",
            "|zip_code_a| promedio_latitud_a|promedio_longitud_a|         ciudad|zip_code_ciudad_mas_cercana| promedio_latitud_b|promedio_longitud_b|ciudad_mas_cercana|distancia_mas_cercana|\n",
            "+----------+-------------------+-------------------+---------------+---------------------------+-------------------+-------------------+------------------+---------------------+\n",
            "|      6622|-23.546703359402944| -46.89983624019375|        jandira|                       6631|-23.544998282452386| -46.90430341342511|           jandira| 0.004781519014530466|\n",
            "|      6654|-23.538905805876308| -46.92410128109349|        itapevi|                       6653|-23.547053538149342| -46.92972088164854|           itapevi|  0.00989774982465045|\n",
            "|      6773| -23.64222988760007| -46.79178002502203|taboao da serra|                       6775|-23.636703761017003| -46.79412240682531|   taboão da serra| 0.006002068603775292|\n",
            "|      7417|-23.383802377088497|-46.323443431962765|          aruja|                       7401|  -23.3891304354913| -46.32152216968716|             aruja|  0.00566387279830302|\n",
            "|      7850| -23.33177705443752| -46.72469723063618|franco da rocha|                       7802|-23.326393975496433|    -46.72867070568|   franco da rocha| 0.006690743068586813|\n",
            "+----------+-------------------+-------------------+---------------+---------------------------+-------------------+-------------------+------------------+---------------------+\n",
            "only showing top 5 rows\n",
            "\n"
          ]
        }
      ]
    },
    {
      "cell_type": "markdown",
      "source": [
        "## BBT1-74 Querys en spark SQL, análisis G"
      ],
      "metadata": {
        "id": "lD7R5HP2xIIs"
      }
    },
    {
      "cell_type": "markdown",
      "source": [
        "COMO: desarrollador.\n",
        "\n",
        "QUIERO: Generar una consulta que cumpla los siguientes puntos:\n",
        "Calcular el monto máximo, mínimo y promedio de compra por ciudad, año y mes de compra.\n",
        "\n",
        "PARA: Enriquecer el análisis de los datos según requerimiento. Para entender el comportamiento de comprar por ciudad a lo largo del tiempo."
      ],
      "metadata": {
        "id": "TptcnT40xRxw"
      }
    },
    {
      "cell_type": "markdown",
      "source": [
        "Se tranformó el csv de order_payments a un DataFrame de Spark y se creo una vista temporal de la tabla mencionada.\n",
        "\n",
        "Esto se realizó debido a que se requería la utilización de un join entre orders_geolocation2 y order_payments ya que la tabla temporal ordes_geolocation2 no poseía precios para calcular los montos pedidos en la consigna."
      ],
      "metadata": {
        "id": "jVF1KZDjjo9i"
      }
    },
    {
      "cell_type": "code",
      "source": [
        "#Creación DataFrame de Spark a partir del cvs de order_payments\n",
        "order_payments_spark = spark.read.csv('/content/Copia de ecommerce_order_payments_dataset.csv', header=True, inferSchema=True, sep=',')"
      ],
      "metadata": {
        "id": "BgPB7q8uGj1c"
      },
      "execution_count": 163,
      "outputs": []
    },
    {
      "cell_type": "code",
      "source": [
        "#Creación de vista temporal de la tabla order_payments\n",
        "order_payments_spark.createOrReplaceTempView('order_payments')"
      ],
      "metadata": {
        "id": "kOyFNH1lG0G_"
      },
      "execution_count": 164,
      "outputs": []
    },
    {
      "cell_type": "code",
      "source": [
        "#Visualización de la vista temporal\n",
        "vista_order_payments = spark.sql('SELECT * FROM order_payments')\n",
        "vista_order_payments.show(10)"
      ],
      "metadata": {
        "colab": {
          "base_uri": "https://localhost:8080/"
        },
        "id": "5NortPXtcUfa",
        "outputId": "8d1180f6-d397-48b3-d811-29e63e9ee723"
      },
      "execution_count": 165,
      "outputs": [
        {
          "output_type": "stream",
          "name": "stdout",
          "text": [
            "+--------------------+------------------+------------+--------------------+-------------+\n",
            "|            order_id|payment_sequential|payment_type|payment_installments|payment_value|\n",
            "+--------------------+------------------+------------+--------------------+-------------+\n",
            "|b81ef226f3fe1789b...|                 1| credit_card|                   8|        99.33|\n",
            "|a9810da82917af2d9...|                 1| credit_card|                   1|        24.39|\n",
            "|25e8ea4e93396b6fa...|                 1| credit_card|                   1|        65.71|\n",
            "|ba78997921bbcdc13...|                 1| credit_card|                   8|       107.78|\n",
            "|42fdf880ba16b47b5...|                 1| credit_card|                   2|       128.45|\n",
            "|298fcdf1f73eb413e...|                 1| credit_card|                   2|        96.12|\n",
            "|771ee386b001f0620...|                 1| credit_card|                   1|        81.16|\n",
            "|3d7239c394a212faa...|                 1| credit_card|                   3|        51.84|\n",
            "|1f78449c87a54faf9...|                 1| credit_card|                   6|       341.09|\n",
            "|0573b5e23cbd79800...|                 1|      boleto|                   1|        51.95|\n",
            "+--------------------+------------------+------------+--------------------+-------------+\n",
            "only showing top 10 rows\n",
            "\n"
          ]
        }
      ]
    },
    {
      "cell_type": "code",
      "source": [
        "bbt1_74 = spark.sql(\n",
        "    '''\n",
        "    SELECT o.geolocation_city, YEAR(order_purchase_timestamp) as anio, MONTH(order_purchase_timestamp) as mes, MAX(op.payment_value) as monto_maximo, MIN(op.payment_value) as monto_minimo, AVG(payment_value) as monto_promedio, COUNT(geolocation_city) as cantidad_de_compras\n",
        "    FROM orders_geolocation2 o\n",
        "    JOIN order_payments op\n",
        "    ON o.order_id = op.order_id\n",
        "    GROUP BY o.geolocation_city, anio, mes\n",
        "    ORDER BY o.geolocation_city\n",
        "    '''\n",
        ")\n",
        "bbt1_74.show()"
      ],
      "metadata": {
        "colab": {
          "base_uri": "https://localhost:8080/"
        },
        "id": "3UroRNKaxUwG",
        "outputId": "7f1f671c-eece-4986-ec1a-2d5265172fd5"
      },
      "execution_count": 172,
      "outputs": [
        {
          "output_type": "stream",
          "name": "stdout",
          "text": [
            "+-------------------+----+---+------------+------------+--------------+-------------------+\n",
            "|   geolocation_city|anio|mes|monto_maximo|monto_minimo|monto_promedio|cantidad_de_compras|\n",
            "+-------------------+----+---+------------+------------+--------------+-------------------+\n",
            "|abadia dos dourados|2018|  3|      219.63|      219.63|        219.63|                  1|\n",
            "|abadia dos dourados|2018|  7|       58.28|       58.28|         58.28|                  1|\n",
            "|abadia dos dourados|2017|  9|      135.59|      135.59|        135.59|                  1|\n",
            "|          abadiania|2018|  1|     1025.52|     1025.52|       1025.52|                  1|\n",
            "|             abaete|2017|  8|      466.89|      466.89|        466.89|                  1|\n",
            "|             abaete|2017|  7|      206.07|        82.7|       144.385|                  2|\n",
            "|             abaete|2018|  8|      109.39|      109.39|        109.39|                  1|\n",
            "|             abaete|2018|  6|       240.6|       148.0|         194.3|                  2|\n",
            "|             abaete|2017|  2|      154.23|      154.23|        154.23|                  1|\n",
            "|             abaete|2018|  3|      123.89|       66.39|         95.14|                  2|\n",
            "|             abaete|2017|  5|      220.97|      220.97|        220.97|                  1|\n",
            "|             abaete|2017| 11|       77.41|       50.27|         63.84|                  2|\n",
            "|         abaetetuba|2017| 12|      619.65|      619.65|        619.65|                  1|\n",
            "|         abaetetuba|2017|  9|       64.05|       64.05|         64.05|                  1|\n",
            "|         abaetetuba|2017|  6|     1537.04|     1537.04|       1537.04|                  1|\n",
            "|         abaetetuba|2018|  3|      164.45|       76.94|       120.695|                  2|\n",
            "|         abaetetuba|2017|  4|      283.66|      283.66|        283.66|                  1|\n",
            "|         abaetetuba|2018|  7|       114.7|       114.7|         114.7|                  1|\n",
            "|         abaetetuba|2018|  8|      700.53|      203.08|       451.805|                  2|\n",
            "|         abaetetuba|2018|  4|        35.0|       31.94|         33.47|                  2|\n",
            "+-------------------+----+---+------------+------------+--------------+-------------------+\n",
            "only showing top 20 rows\n",
            "\n"
          ]
        }
      ]
    },
    {
      "cell_type": "markdown",
      "source": [
        "Se agrego la columna llamada 'cantidad_de_compras' porque al analizar el resultado de la query inicial, se observó que algunas ciudades en determinado año y mes presentaban el mismo valor de monto máximo, mínimo y promedio, por lo tanto, se supuso que habia sido realizada una sola compra. Efectivamente, con la columna nueva, se pudo corroborar la presunción: que haya filas donde el monto máximo, mínimo y promedio es igual se debe a que en esa fecha y esa ciudad se realizó una única compra."
      ],
      "metadata": {
        "id": "o8B2YpkrgvTn"
      }
    },
    {
      "cell_type": "markdown",
      "source": [
        "## BBT1-75 - Querys en spark SQL, análisis H"
      ],
      "metadata": {
        "id": "uHpL1ioDcVi1"
      }
    },
    {
      "cell_type": "markdown",
      "source": [
        "Descripción\n",
        "\n",
        "COMO: desarrollador\n",
        "QUIERO: Generar una consulta que cumpla los siguientes puntos: Calcular el puntaje máximo, mínimo, promedio de compra y de las órdenes agrupadas por año, mes.\n",
        "PARA: Enriquecer el análisis de los datos según requerimiento. Para entender el nivel de satisfacción de los compradores respecto al consumo mensual en promedio."
      ],
      "metadata": {
        "id": "FAEmsJoecZQz"
      }
    },
    {
      "cell_type": "code",
      "source": [
        "query_spark_bbt1_75 = '''\n",
        "    SELECT\n",
        "        YEAR(shipping_limit_date) AS year,\n",
        "        MONTH(shipping_limit_date) AS month,\n",
        "        MAX(total_price) AS max_price,\n",
        "        MIN(total_price) AS min_price,\n",
        "        AVG(total_price) AS avg_price\n",
        "    FROM df_analysis_h\n",
        "    GROUP BY 1, 2\n",
        "    ORDER BY 1 DESC, 2 DESC\n",
        ";\n",
        "'''\n",
        "\n",
        "bbt1_75_spark = sqlContext.sql(query_spark_bbt1_75)"
      ],
      "metadata": {
        "id": "Yrn9_UnJcanh"
      },
      "execution_count": 138,
      "outputs": []
    },
    {
      "cell_type": "code",
      "source": [
        "bbt1_75_spark.show(10)"
      ],
      "metadata": {
        "colab": {
          "base_uri": "https://localhost:8080/"
        },
        "id": "90TLzmBEccVs",
        "outputId": "5038d2f7-4ec5-4631-e995-f671d85dd9cb"
      },
      "execution_count": 139,
      "outputs": [
        {
          "output_type": "stream",
          "name": "stdout",
          "text": [
            "+----+-----+---------+---------+------------------+\n",
            "|year|month|max_price|min_price|         avg_price|\n",
            "+----+-----+---------+---------+------------------+\n",
            "|2020|    4|   199.98|   199.98|            199.98|\n",
            "|2018|    9|   2299.0|      6.9|191.93549295774645|\n",
            "|2018|    8|  4399.87|      2.2|   133.58644031142|\n",
            "|2018|    7|   3089.0|      3.0|131.12004005340506|\n",
            "|2018|    6|   4590.0|      3.5|142.30326728972028|\n",
            "|2018|    5|   3930.0|     0.85|140.13866616541472|\n",
            "|2018|    4|  4099.99|     4.99| 140.9586136685558|\n",
            "|2018|    3|   3700.0|     4.99|128.35428046861426|\n",
            "|2018|    2|   3690.0|     2.99|122.25218257733947|\n",
            "|2018|    1|   2110.0|      5.2|121.22936877667188|\n",
            "+----+-----+---------+---------+------------------+\n",
            "only showing top 10 rows\n",
            "\n"
          ]
        }
      ]
    },
    {
      "cell_type": "code",
      "source": [
        "from matplotlib import pyplot as plt"
      ],
      "metadata": {
        "id": "mKZgymB4cfFK"
      },
      "execution_count": 140,
      "outputs": []
    },
    {
      "cell_type": "code",
      "source": [
        "bbt1_75_pandas = bbt1_75_spark.toPandas()\n",
        "bbt1_75_pandas.head(1)"
      ],
      "metadata": {
        "colab": {
          "base_uri": "https://localhost:8080/",
          "height": 81
        },
        "id": "Zm2M8xtRcfhD",
        "outputId": "a16427cf-0084-45ff-b95e-b31430ec4501"
      },
      "execution_count": 141,
      "outputs": [
        {
          "output_type": "execute_result",
          "data": {
            "text/plain": [
              "   year  month  max_price  min_price  avg_price\n",
              "0  2020      4     199.98     199.98     199.98"
            ],
            "text/html": [
              "\n",
              "  <div id=\"df-eb0a0250-ee99-4bf5-962c-a3ddc2a835e3\" class=\"colab-df-container\">\n",
              "    <div>\n",
              "<style scoped>\n",
              "    .dataframe tbody tr th:only-of-type {\n",
              "        vertical-align: middle;\n",
              "    }\n",
              "\n",
              "    .dataframe tbody tr th {\n",
              "        vertical-align: top;\n",
              "    }\n",
              "\n",
              "    .dataframe thead th {\n",
              "        text-align: right;\n",
              "    }\n",
              "</style>\n",
              "<table border=\"1\" class=\"dataframe\">\n",
              "  <thead>\n",
              "    <tr style=\"text-align: right;\">\n",
              "      <th></th>\n",
              "      <th>year</th>\n",
              "      <th>month</th>\n",
              "      <th>max_price</th>\n",
              "      <th>min_price</th>\n",
              "      <th>avg_price</th>\n",
              "    </tr>\n",
              "  </thead>\n",
              "  <tbody>\n",
              "    <tr>\n",
              "      <th>0</th>\n",
              "      <td>2020</td>\n",
              "      <td>4</td>\n",
              "      <td>199.98</td>\n",
              "      <td>199.98</td>\n",
              "      <td>199.98</td>\n",
              "    </tr>\n",
              "  </tbody>\n",
              "</table>\n",
              "</div>\n",
              "    <div class=\"colab-df-buttons\">\n",
              "\n",
              "  <div class=\"colab-df-container\">\n",
              "    <button class=\"colab-df-convert\" onclick=\"convertToInteractive('df-eb0a0250-ee99-4bf5-962c-a3ddc2a835e3')\"\n",
              "            title=\"Convert this dataframe to an interactive table.\"\n",
              "            style=\"display:none;\">\n",
              "\n",
              "  <svg xmlns=\"http://www.w3.org/2000/svg\" height=\"24px\" viewBox=\"0 -960 960 960\">\n",
              "    <path d=\"M120-120v-720h720v720H120Zm60-500h600v-160H180v160Zm220 220h160v-160H400v160Zm0 220h160v-160H400v160ZM180-400h160v-160H180v160Zm440 0h160v-160H620v160ZM180-180h160v-160H180v160Zm440 0h160v-160H620v160Z\"/>\n",
              "  </svg>\n",
              "    </button>\n",
              "\n",
              "  <style>\n",
              "    .colab-df-container {\n",
              "      display:flex;\n",
              "      gap: 12px;\n",
              "    }\n",
              "\n",
              "    .colab-df-convert {\n",
              "      background-color: #E8F0FE;\n",
              "      border: none;\n",
              "      border-radius: 50%;\n",
              "      cursor: pointer;\n",
              "      display: none;\n",
              "      fill: #1967D2;\n",
              "      height: 32px;\n",
              "      padding: 0 0 0 0;\n",
              "      width: 32px;\n",
              "    }\n",
              "\n",
              "    .colab-df-convert:hover {\n",
              "      background-color: #E2EBFA;\n",
              "      box-shadow: 0px 1px 2px rgba(60, 64, 67, 0.3), 0px 1px 3px 1px rgba(60, 64, 67, 0.15);\n",
              "      fill: #174EA6;\n",
              "    }\n",
              "\n",
              "    .colab-df-buttons div {\n",
              "      margin-bottom: 4px;\n",
              "    }\n",
              "\n",
              "    [theme=dark] .colab-df-convert {\n",
              "      background-color: #3B4455;\n",
              "      fill: #D2E3FC;\n",
              "    }\n",
              "\n",
              "    [theme=dark] .colab-df-convert:hover {\n",
              "      background-color: #434B5C;\n",
              "      box-shadow: 0px 1px 3px 1px rgba(0, 0, 0, 0.15);\n",
              "      filter: drop-shadow(0px 1px 2px rgba(0, 0, 0, 0.3));\n",
              "      fill: #FFFFFF;\n",
              "    }\n",
              "  </style>\n",
              "\n",
              "    <script>\n",
              "      const buttonEl =\n",
              "        document.querySelector('#df-eb0a0250-ee99-4bf5-962c-a3ddc2a835e3 button.colab-df-convert');\n",
              "      buttonEl.style.display =\n",
              "        google.colab.kernel.accessAllowed ? 'block' : 'none';\n",
              "\n",
              "      async function convertToInteractive(key) {\n",
              "        const element = document.querySelector('#df-eb0a0250-ee99-4bf5-962c-a3ddc2a835e3');\n",
              "        const dataTable =\n",
              "          await google.colab.kernel.invokeFunction('convertToInteractive',\n",
              "                                                    [key], {});\n",
              "        if (!dataTable) return;\n",
              "\n",
              "        const docLinkHtml = 'Like what you see? Visit the ' +\n",
              "          '<a target=\"_blank\" href=https://colab.research.google.com/notebooks/data_table.ipynb>data table notebook</a>'\n",
              "          + ' to learn more about interactive tables.';\n",
              "        element.innerHTML = '';\n",
              "        dataTable['output_type'] = 'display_data';\n",
              "        await google.colab.output.renderOutput(dataTable, element);\n",
              "        const docLink = document.createElement('div');\n",
              "        docLink.innerHTML = docLinkHtml;\n",
              "        element.appendChild(docLink);\n",
              "      }\n",
              "    </script>\n",
              "  </div>\n",
              "\n",
              "    </div>\n",
              "  </div>\n"
            ]
          },
          "metadata": {},
          "execution_count": 141
        }
      ]
    },
    {
      "cell_type": "code",
      "source": [
        "# Tu código para crear el gráfico de barras\n",
        "ax = bbt1_75_pandas[['year', 'avg_price']].groupby('year').mean().plot(kind='bar')\n",
        "plt.title('Promedio de precios por año', fontsize=20)\n",
        "plt.ylabel('Precios promedio (en $)')\n",
        "plt.xlabel('Años')\n",
        "plt.xticks(rotation=45)\n",
        "plt.tight_layout()\n",
        "\n",
        "# Agrega etiquetas de valor sobre las barras\n",
        "ax.bar_label(ax.containers[0], fmt='%.2f', label_type='edge', fontsize=10, color='black')\n",
        "\n",
        "# Modificamos el texto de la leyenda y su posición\n",
        "handles, labels = plt.gca().get_legend_handles_labels()\n",
        "new_labels = ['Precio promedio']\n",
        "plt.legend(handles, new_labels, loc='upper left')\n",
        "\n",
        "# Mostramos el gráfico\n",
        "plt.show()\n",
        "plt.savefig('grafico_de_barra.png')"
      ],
      "metadata": {
        "colab": {
          "base_uri": "https://localhost:8080/",
          "height": 505
        },
        "id": "6CLLzoM7clsD",
        "outputId": "e464b80c-60d7-4423-d6ec-4b770092d9c7"
      },
      "execution_count": 142,
      "outputs": [
        {
          "output_type": "display_data",
          "data": {
            "text/plain": [
              "<Figure size 640x480 with 1 Axes>"
            ],
            "image/png": "[encoded data removed]"
          },
          "metadata": {}
        },
        {
          "output_type": "display_data",
          "data": {
            "text/plain": [
              "<Figure size 640x480 with 0 Axes>"
            ]
          },
          "metadata": {}
        }
      ]
    },
    {
      "cell_type": "markdown",
      "source": [
        "## BBT1-76 - Querys en spark SQL, análisis I"
      ],
      "metadata": {
        "id": "67-9UVmUcmtf"
      }
    },
    {
      "cell_type": "markdown",
      "source": [
        "Descripción\n",
        "\n",
        "COMO: desarrollador\n",
        "QUIERO: Generar una consulta que cumpla los siguientes puntos: Calcular el maximo monto mensual por categoria de producto y estado de envío, agrupado por año y mes de envio.\n",
        "PARA: Enriquecer el análisis de los datos según requerimiento. Para entender el comportamiento de compra de los productos y su estado de envío mensual."
      ],
      "metadata": {
        "id": "hXGp9_jgcpEU"
      }
    },
    {
      "cell_type": "code",
      "source": [
        "query_bbt1_76 = '''\n",
        "    SELECT\n",
        "        YEAR(dj.order_delivered_carrier_date) AS year,\n",
        "        MONTH(dj.order_delivered_carrier_date) AS month,\n",
        "        di.product_category_name_english,\n",
        "        dj.order_status,\n",
        "        MAX(dh.total_price) AS max_monthly_price\n",
        "    FROM\n",
        "        df_analysis_h AS dh\n",
        "    JOIN\n",
        "        df_analysis_i AS di\n",
        "            ON dh.order_id = di.order_id\n",
        "    JOIN\n",
        "        df_analysis_j AS dj\n",
        "        ON dh.order_id = dj.order_id\n",
        "    GROUP BY\n",
        "        1, 2, 3, 4\n",
        "    ORDER BY\n",
        "        3 ASC, 1 DESC, 2 ASC\n",
        "    ;\n",
        "'''\n",
        "\n",
        "bbt1_76_spark = spark.sql(query_bbt1_76)\n",
        "\n",
        "bbt1_76_spark.show(10)"
      ],
      "metadata": {
        "colab": {
          "base_uri": "https://localhost:8080/"
        },
        "id": "6FORTJo5cqtZ",
        "outputId": "7ca029f4-1b14-4566-cc45-2b4f2f44fa1e"
      },
      "execution_count": 143,
      "outputs": [
        {
          "output_type": "stream",
          "name": "stdout",
          "text": [
            "+----+-----+-----------------------------+------------+-----------------+\n",
            "|year|month|product_category_name_english|order_status|max_monthly_price|\n",
            "+----+-----+-----------------------------+------------+-----------------+\n",
            "|2018|    1|         agro_industry_and...|   delivered|           934.94|\n",
            "|2018|    2|         agro_industry_and...|   delivered|            824.0|\n",
            "|2018|    3|         agro_industry_and...|   delivered|            940.5|\n",
            "|2018|    4|         agro_industry_and...|   delivered|            465.0|\n",
            "|2018|    5|         agro_industry_and...|   delivered|           1180.0|\n",
            "|2018|    6|         agro_industry_and...|   delivered|           1234.0|\n",
            "|2018|    7|         agro_industry_and...|   delivered|            940.5|\n",
            "|2018|    8|         agro_industry_and...|   delivered|           1899.0|\n",
            "|2017|    5|         agro_industry_and...|   delivered|           869.97|\n",
            "|2017|    7|         agro_industry_and...|   delivered|           1180.0|\n",
            "+----+-----+-----------------------------+------------+-----------------+\n",
            "only showing top 10 rows\n",
            "\n"
          ]
        }
      ]
    },
    {
      "cell_type": "code",
      "source": [
        "bbt1_76_pandas = bbt1_76_spark.toPandas()"
      ],
      "metadata": {
        "id": "1gu0_bJycuRi"
      },
      "execution_count": 144,
      "outputs": []
    },
    {
      "cell_type": "code",
      "source": [
        "# Use matplotlib to plot the results of bbt1_76_pandas as a pie chart of order_status\n",
        "\n",
        "bbt1_76_pandas[['year', 'order_status']].groupby(['year']).value_counts().to_frame()"
      ],
      "metadata": {
        "colab": {
          "base_uri": "https://localhost:8080/",
          "height": 269
        },
        "id": "cIYLeok_cuvQ",
        "outputId": "b8d47206-880d-43c3-8a95-efd5d57ed325"
      },
      "execution_count": 145,
      "outputs": [
        {
          "output_type": "execute_result",
          "data": {
            "text/plain": [
              "                       0\n",
              "year   order_status     \n",
              "2016.0 delivered      22\n",
              "2017.0 delivered     488\n",
              "       shipped        32\n",
              "2018.0 delivered     401\n",
              "       shipped        31\n",
              "       canceled        3"
            ],
            "text/html": [
              "\n",
              "  <div id=\"df-44a4158b-fe78-4887-9923-0e4388e7dea1\" class=\"colab-df-container\">\n",
              "    <div>\n",
              "<style scoped>\n",
              "    .dataframe tbody tr th:only-of-type {\n",
              "        vertical-align: middle;\n",
              "    }\n",
              "\n",
              "    .dataframe tbody tr th {\n",
              "        vertical-align: top;\n",
              "    }\n",
              "\n",
              "    .dataframe thead th {\n",
              "        text-align: right;\n",
              "    }\n",
              "</style>\n",
              "<table border=\"1\" class=\"dataframe\">\n",
              "  <thead>\n",
              "    <tr style=\"text-align: right;\">\n",
              "      <th></th>\n",
              "      <th></th>\n",
              "      <th>0</th>\n",
              "    </tr>\n",
              "    <tr>\n",
              "      <th>year</th>\n",
              "      <th>order_status</th>\n",
              "      <th></th>\n",
              "    </tr>\n",
              "  </thead>\n",
              "  <tbody>\n",
              "    <tr>\n",
              "      <th>2016.0</th>\n",
              "      <th>delivered</th>\n",
              "      <td>22</td>\n",
              "    </tr>\n",
              "    <tr>\n",
              "      <th rowspan=\"2\" valign=\"top\">2017.0</th>\n",
              "      <th>delivered</th>\n",
              "      <td>488</td>\n",
              "    </tr>\n",
              "    <tr>\n",
              "      <th>shipped</th>\n",
              "      <td>32</td>\n",
              "    </tr>\n",
              "    <tr>\n",
              "      <th rowspan=\"3\" valign=\"top\">2018.0</th>\n",
              "      <th>delivered</th>\n",
              "      <td>401</td>\n",
              "    </tr>\n",
              "    <tr>\n",
              "      <th>shipped</th>\n",
              "      <td>31</td>\n",
              "    </tr>\n",
              "    <tr>\n",
              "      <th>canceled</th>\n",
              "      <td>3</td>\n",
              "    </tr>\n",
              "  </tbody>\n",
              "</table>\n",
              "</div>\n",
              "    <div class=\"colab-df-buttons\">\n",
              "\n",
              "  <div class=\"colab-df-container\">\n",
              "    <button class=\"colab-df-convert\" onclick=\"convertToInteractive('df-44a4158b-fe78-4887-9923-0e4388e7dea1')\"\n",
              "            title=\"Convert this dataframe to an interactive table.\"\n",
              "            style=\"display:none;\">\n",
              "\n",
              "  <svg xmlns=\"http://www.w3.org/2000/svg\" height=\"24px\" viewBox=\"0 -960 960 960\">\n",
              "    <path d=\"M120-120v-720h720v720H120Zm60-500h600v-160H180v160Zm220 220h160v-160H400v160Zm0 220h160v-160H400v160ZM180-400h160v-160H180v160Zm440 0h160v-160H620v160ZM180-180h160v-160H180v160Zm440 0h160v-160H620v160Z\"/>\n",
              "  </svg>\n",
              "    </button>\n",
              "\n",
              "  <style>\n",
              "    .colab-df-container {\n",
              "      display:flex;\n",
              "      gap: 12px;\n",
              "    }\n",
              "\n",
              "    .colab-df-convert {\n",
              "      background-color: #E8F0FE;\n",
              "      border: none;\n",
              "      border-radius: 50%;\n",
              "      cursor: pointer;\n",
              "      display: none;\n",
              "      fill: #1967D2;\n",
              "      height: 32px;\n",
              "      padding: 0 0 0 0;\n",
              "      width: 32px;\n",
              "    }\n",
              "\n",
              "    .colab-df-convert:hover {\n",
              "      background-color: #E2EBFA;\n",
              "      box-shadow: 0px 1px 2px rgba(60, 64, 67, 0.3), 0px 1px 3px 1px rgba(60, 64, 67, 0.15);\n",
              "      fill: #174EA6;\n",
              "    }\n",
              "\n",
              "    .colab-df-buttons div {\n",
              "      margin-bottom: 4px;\n",
              "    }\n",
              "\n",
              "    [theme=dark] .colab-df-convert {\n",
              "      background-color: #3B4455;\n",
              "      fill: #D2E3FC;\n",
              "    }\n",
              "\n",
              "    [theme=dark] .colab-df-convert:hover {\n",
              "      background-color: #434B5C;\n",
              "      box-shadow: 0px 1px 3px 1px rgba(0, 0, 0, 0.15);\n",
              "      filter: drop-shadow(0px 1px 2px rgba(0, 0, 0, 0.3));\n",
              "      fill: #FFFFFF;\n",
              "    }\n",
              "  </style>\n",
              "\n",
              "    <script>\n",
              "      const buttonEl =\n",
              "        document.querySelector('#df-44a4158b-fe78-4887-9923-0e4388e7dea1 button.colab-df-convert');\n",
              "      buttonEl.style.display =\n",
              "        google.colab.kernel.accessAllowed ? 'block' : 'none';\n",
              "\n",
              "      async function convertToInteractive(key) {\n",
              "        const element = document.querySelector('#df-44a4158b-fe78-4887-9923-0e4388e7dea1');\n",
              "        const dataTable =\n",
              "          await google.colab.kernel.invokeFunction('convertToInteractive',\n",
              "                                                    [key], {});\n",
              "        if (!dataTable) return;\n",
              "\n",
              "        const docLinkHtml = 'Like what you see? Visit the ' +\n",
              "          '<a target=\"_blank\" href=https://colab.research.google.com/notebooks/data_table.ipynb>data table notebook</a>'\n",
              "          + ' to learn more about interactive tables.';\n",
              "        element.innerHTML = '';\n",
              "        dataTable['output_type'] = 'display_data';\n",
              "        await google.colab.output.renderOutput(dataTable, element);\n",
              "        const docLink = document.createElement('div');\n",
              "        docLink.innerHTML = docLinkHtml;\n",
              "        element.appendChild(docLink);\n",
              "      }\n",
              "    </script>\n",
              "  </div>\n",
              "\n",
              "\n",
              "<div id=\"df-230422d0-13b2-44fe-a3ba-5995d041191c\">\n",
              "  <button class=\"colab-df-quickchart\" onclick=\"quickchart('df-230422d0-13b2-44fe-a3ba-5995d041191c')\"\n",
              "            title=\"Suggest charts.\"\n",
              "            style=\"display:none;\">\n",
              "\n",
              "<svg xmlns=\"http://www.w3.org/2000/svg\" height=\"24px\"viewBox=\"0 0 24 24\"\n",
              "     width=\"24px\">\n",
              "    <g>\n",
              "        <path d=\"M19 3H5c-1.1 0-2 .9-2 2v14c0 1.1.9 2 2 2h14c1.1 0 2-.9 2-2V5c0-1.1-.9-2-2-2zM9 17H7v-7h2v7zm4 0h-2V7h2v10zm4 0h-2v-4h2v4z\"/>\n",
              "    </g>\n",
              "</svg>\n",
              "  </button>\n",
              "\n",
              "<style>\n",
              "  .colab-df-quickchart {\n",
              "      --bg-color: #E8F0FE;\n",
              "      --fill-color: #1967D2;\n",
              "      --hover-bg-color: #E2EBFA;\n",
              "      --hover-fill-color: #174EA6;\n",
              "      --disabled-fill-color: #AAA;\n",
              "      --disabled-bg-color: #DDD;\n",
              "  }\n",
              "\n",
              "  [theme=dark] .colab-df-quickchart {\n",
              "      --bg-color: #3B4455;\n",
              "      --fill-color: #D2E3FC;\n",
              "      --hover-bg-color: #434B5C;\n",
              "      --hover-fill-color: #FFFFFF;\n",
              "      --disabled-bg-color: #3B4455;\n",
              "      --disabled-fill-color: #666;\n",
              "  }\n",
              "\n",
              "  .colab-df-quickchart {\n",
              "    background-color: var(--bg-color);\n",
              "    border: none;\n",
              "    border-radius: 50%;\n",
              "    cursor: pointer;\n",
              "    display: none;\n",
              "    fill: var(--fill-color);\n",
              "    height: 32px;\n",
              "    padding: 0;\n",
              "    width: 32px;\n",
              "  }\n",
              "\n",
              "  .colab-df-quickchart:hover {\n",
              "    background-color: var(--hover-bg-color);\n",
              "    box-shadow: 0 1px 2px rgba(60, 64, 67, 0.3), 0 1px 3px 1px rgba(60, 64, 67, 0.15);\n",
              "    fill: var(--button-hover-fill-color);\n",
              "  }\n",
              "\n",
              "  .colab-df-quickchart-complete:disabled,\n",
              "  .colab-df-quickchart-complete:disabled:hover {\n",
              "    background-color: var(--disabled-bg-color);\n",
              "    fill: var(--disabled-fill-color);\n",
              "    box-shadow: none;\n",
              "  }\n",
              "\n",
              "  .colab-df-spinner {\n",
              "    border: 2px solid var(--fill-color);\n",
              "    border-color: transparent;\n",
              "    border-bottom-color: var(--fill-color);\n",
              "    animation:\n",
              "      spin 1s steps(1) infinite;\n",
              "  }\n",
              "\n",
              "  @keyframes spin {\n",
              "    0% {\n",
              "      border-color: transparent;\n",
              "      border-bottom-color: var(--fill-color);\n",
              "      border-left-color: var(--fill-color);\n",
              "    }\n",
              "    20% {\n",
              "      border-color: transparent;\n",
              "      border-left-color: var(--fill-color);\n",
              "      border-top-color: var(--fill-color);\n",
              "    }\n",
              "    30% {\n",
              "      border-color: transparent;\n",
              "      border-left-color: var(--fill-color);\n",
              "      border-top-color: var(--fill-color);\n",
              "      border-right-color: var(--fill-color);\n",
              "    }\n",
              "    40% {\n",
              "      border-color: transparent;\n",
              "      border-right-color: var(--fill-color);\n",
              "      border-top-color: var(--fill-color);\n",
              "    }\n",
              "    60% {\n",
              "      border-color: transparent;\n",
              "      border-right-color: var(--fill-color);\n",
              "    }\n",
              "    80% {\n",
              "      border-color: transparent;\n",
              "      border-right-color: var(--fill-color);\n",
              "      border-bottom-color: var(--fill-color);\n",
              "    }\n",
              "    90% {\n",
              "      border-color: transparent;\n",
              "      border-bottom-color: var(--fill-color);\n",
              "    }\n",
              "  }\n",
              "</style>\n",
              "\n",
              "  <script>\n",
              "    async function quickchart(key) {\n",
              "      const quickchartButtonEl =\n",
              "        document.querySelector('#' + key + ' button');\n",
              "      quickchartButtonEl.disabled = true;  // To prevent multiple clicks.\n",
              "      quickchartButtonEl.classList.add('colab-df-spinner');\n",
              "      try {\n",
              "        const charts = await google.colab.kernel.invokeFunction(\n",
              "            'suggestCharts', [key], {});\n",
              "      } catch (error) {\n",
              "        console.error('Error during call to suggestCharts:', error);\n",
              "      }\n",
              "      quickchartButtonEl.classList.remove('colab-df-spinner');\n",
              "      quickchartButtonEl.classList.add('colab-df-quickchart-complete');\n",
              "    }\n",
              "    (() => {\n",
              "      let quickchartButtonEl =\n",
              "        document.querySelector('#df-230422d0-13b2-44fe-a3ba-5995d041191c button');\n",
              "      quickchartButtonEl.style.display =\n",
              "        google.colab.kernel.accessAllowed ? 'block' : 'none';\n",
              "    })();\n",
              "  </script>\n",
              "</div>\n",
              "    </div>\n",
              "  </div>\n"
            ]
          },
          "metadata": {},
          "execution_count": 145
        }
      ]
    },
    {
      "cell_type": "code",
      "source": [
        "bbt1_76_pandas[['order_status']].value_counts().head(3)"
      ],
      "metadata": {
        "colab": {
          "base_uri": "https://localhost:8080/"
        },
        "id": "ZMIJq9q0cxT9",
        "outputId": "32c5a239-59c8-421b-ad85-f6d1f626b29c"
      },
      "execution_count": 146,
      "outputs": [
        {
          "output_type": "execute_result",
          "data": {
            "text/plain": [
              "order_status\n",
              "delivered       913\n",
              "shipped          63\n",
              "canceled         14\n",
              "dtype: int64"
            ]
          },
          "metadata": {},
          "execution_count": 146
        }
      ]
    },
    {
      "cell_type": "code",
      "source": [
        "bbt1_76_pandas[['order_status']].value_counts().head(3).plot( \\\n",
        "    kind='pie',\n",
        "    autopct='%.1f',\n",
        "    figsize=(5, 5),\n",
        "    legend=True,\n",
        "    title='Order Status',\n",
        "    explode=(0.1, 0.2, 0.3),\n",
        "    labels=['Delivered', 'Shipped', 'Canceled'],\n",
        "    labeldistance=1.1,\n",
        "    fontsize=10,\n",
        "    ylabel='')\n",
        "\n",
        "plt.title('Order Status', fontsize=20)\n",
        "plt.tight_layout()\n",
        "plt.legend(loc='lower left', fontsize=10)\n",
        "plt.show()"
      ],
      "metadata": {
        "colab": {
          "base_uri": "https://localhost:8080/",
          "height": 399
        },
        "id": "w3rrpKdIcxnS",
        "outputId": "056358ad-79d7-4474-ca17-80473e5cb89e"
      },
      "execution_count": 147,
      "outputs": [
        {
          "output_type": "display_data",
          "data": {
            "text/plain": [
              "<Figure size 500x500 with 1 Axes>"
            ],
            "image/png": "[encoded data removed]"
          },
          "metadata": {}
        }
      ]
    },
    {
      "cell_type": "code",
      "source": [
        "plt.savefig('grafico_de_torta.png')"
      ],
      "metadata": {
        "colab": {
          "base_uri": "https://localhost:8080/",
          "height": 35
        },
        "id": "hF9H4iGVc0Wj",
        "outputId": "18bde3b1-e09e-4d17-95e8-a11c2f2616e6"
      },
      "execution_count": 148,
      "outputs": [
        {
          "output_type": "display_data",
          "data": {
            "text/plain": [
              "<Figure size 640x480 with 0 Axes>"
            ]
          },
          "metadata": {}
        }
      ]
    },
    {
      "cell_type": "markdown",
      "source": [
        "## BBT1-77 - Querys en spark SQL, análisis J"
      ],
      "metadata": {
        "id": "9JuuokmXc1vN"
      }
    },
    {
      "cell_type": "markdown",
      "source": [
        "Descripción\n",
        "\n",
        "COMO: desarrollador\n",
        "QUIERO: Generar una consulta que cumpla los siguientes puntos: Calcular el momto máximo de compra por ciudad, agrupando tambien por mes y año.\n",
        "PARA: Enriquecer el análisis de los datos según requerimiento. Para entender variabilidad de preferencias de compra de los clientes por ciudad, mes a mes segun el medio de pago con tarjeta de crédito."
      ],
      "metadata": {
        "id": "NThbbo4gc3x-"
      }
    },
    {
      "cell_type": "code",
      "source": [
        "query_bbt1_77 = '''\n",
        "    SELECT\n",
        "        j.customer_city,\n",
        "        EXTRACT(YEAR FROM j.order_delivered_carrier_date) AS year,\n",
        "        EXTRACT(MONTH FROM j.order_delivered_carrier_date) AS month,\n",
        "        MAX(h.total_price) AS max_purchase_amount\n",
        "    FROM\n",
        "        df_analysis_j AS j\n",
        "    JOIN\n",
        "    df_analysis_h AS h\n",
        "        ON j.order_id = h.order_id\n",
        "    GROUP BY\n",
        "        1, 2, 3\n",
        "    ORDER BY\n",
        "        1 ASC, 2 ASC, 3 ASC\n",
        ";\n",
        "'''\n",
        "bbt1_77_spark = spark.sql(query_bbt1_77)\n",
        "\n",
        "bbt1_77_spark.show(10)"
      ],
      "metadata": {
        "colab": {
          "base_uri": "https://localhost:8080/"
        },
        "id": "N5RnS1kkc5iT",
        "outputId": "2c47b861-4a99-4c8c-94f3-30531c64bf88"
      },
      "execution_count": 149,
      "outputs": [
        {
          "output_type": "stream",
          "name": "stdout",
          "text": [
            "+-------------------+----+-----+-------------------+\n",
            "|      customer_city|year|month|max_purchase_amount|\n",
            "+-------------------+----+-----+-------------------+\n",
            "|abadia dos dourados|2018|    3|              199.0|\n",
            "|          abadiania|2018|    2|             949.99|\n",
            "|             abaete|2017|    5|              208.9|\n",
            "|             abaete|2017|    7|             189.99|\n",
            "|             abaete|2017|    9|              449.0|\n",
            "|             abaete|2018|    6|              225.9|\n",
            "|         abaetetuba|2017|    4|             255.61|\n",
            "|         abaetetuba|2017|   12|             580.27|\n",
            "|         abaetetuba|2018|    3|               70.8|\n",
            "|         abaetetuba|2018|    5|              797.6|\n",
            "+-------------------+----+-----+-------------------+\n",
            "only showing top 10 rows\n",
            "\n"
          ]
        }
      ]
    },
    {
      "cell_type": "markdown",
      "metadata": {
        "id": "dAQym9sgnnkV"
      },
      "source": [
        "## BBT1 - 78 Carga de datos, generacion de archivos .parquet de análisis A"
      ]
    },
    {
      "cell_type": "markdown",
      "metadata": {
        "id": "AMHu-4MOnnkV"
      },
      "source": [
        "**Descripción**\n",
        "\n",
        "COMO: desarrollador\n",
        "\n",
        "QUIERO: Guardar las agregaciones generadas en un archivo parquet dentro de un directorio llamado Results_Parquets\\Analysis_A, XXXXXXX.\n",
        "\n",
        "PARA: Dar acceso a los datos a otros interesados."
      ]
    },
    {
      "cell_type": "code",
      "execution_count": 195,
      "metadata": {
        "id": "TCqNkSnMnnkV",
        "colab": {
          "base_uri": "https://localhost:8080/"
        },
        "outputId": "9dc4c213-2654-44d6-9fc6-57bb6301c7c7"
      },
      "outputs": [
        {
          "output_type": "stream",
          "name": "stdout",
          "text": [
            "Archivo Parquet guardado en: Results_Parquets/Analysis_A/BBT1_78\n"
          ]
        }
      ],
      "source": [
        "ruta_guardado = 'Results_Parquets/Analysis_A/BBT1_78'\n",
        "resultado_bbt1_68.write.parquet(ruta_guardado)\n",
        "print(f'Archivo Parquet guardado en: {ruta_guardado}')"
      ]
    },
    {
      "cell_type": "markdown",
      "metadata": {
        "id": "rdB5y0X8nnkV"
      },
      "source": [
        "## BBT1 - 79 Carga de datos, generacion de archivos .parquet de análisis B"
      ]
    },
    {
      "cell_type": "markdown",
      "metadata": {
        "id": "YK2Yc0m8nnkV"
      },
      "source": [
        "**Descripción**\n",
        "\n",
        "COMO: desarrollador\n",
        "\n",
        "QUIERO: Guardar las agregaciones generadas en un archivo parquet dentro de un directorio llamado Results_Parquets\\Analysis_B, XXXXXXX.\n",
        "\n",
        "PARA: Dar acceso a los datos a otros interesados."
      ]
    },
    {
      "cell_type": "code",
      "execution_count": 151,
      "metadata": {
        "id": "7_TrpZ0annkV",
        "colab": {
          "base_uri": "https://localhost:8080/"
        },
        "outputId": "8be0eb7c-9847-455f-aedf-8e7ab3d606ad"
      },
      "outputs": [
        {
          "output_type": "stream",
          "name": "stdout",
          "text": [
            "Archivo Parquet guardado en: Results_Parquets/Analysis_B/BBT1_79\n"
          ]
        }
      ],
      "source": [
        "ruta_guardado = 'Results_Parquets/Analysis_B/BBT1_79'\n",
        "resultado_bbt1_69.write.parquet(ruta_guardado)\n",
        "print(f'Archivo Parquet guardado en: {ruta_guardado}')"
      ]
    },
    {
      "cell_type": "markdown",
      "metadata": {
        "id": "3ApNJd9UnnkV"
      },
      "source": [
        "## BBT1 - 80 Carga de datos, generacion de archivos .parquet de análisis C"
      ]
    },
    {
      "cell_type": "markdown",
      "metadata": {
        "id": "r-delmZBnnkV"
      },
      "source": [
        "**Descripción**\n",
        "\n",
        "COMO: desarrollador\n",
        "\n",
        "QUIERO: Guardar las agregaciones generadas en un archivo parquet dentro de un directorio llamado Results_Parquets\\Analysis_C, XXXXXXX.\n",
        "\n",
        "PARA: Dar acceso a los datos a otros interesados.\n"
      ]
    },
    {
      "cell_type": "code",
      "execution_count": 152,
      "metadata": {
        "id": "AbvbcRtznnkV",
        "colab": {
          "base_uri": "https://localhost:8080/"
        },
        "outputId": "78767866-6a73-44d1-bb92-e409f51368ca"
      },
      "outputs": [
        {
          "output_type": "stream",
          "name": "stdout",
          "text": [
            "Archivo Parquet guardado en: Results_Parquets/Analysis_C/BBT1_80\n"
          ]
        }
      ],
      "source": [
        "ruta_guardado = 'Results_Parquets/Analysis_C/BBT1_80'\n",
        "resultado_70.write.parquet(ruta_guardado)\n",
        "print(f'Archivo Parquet guardado en: {ruta_guardado}')"
      ]
    },
    {
      "cell_type": "markdown",
      "source": [
        "## BBT1-81 Carga de datos, generacion de archivos .parquet de análisis D"
      ],
      "metadata": {
        "id": "mjCItvfCNtdy"
      }
    },
    {
      "cell_type": "markdown",
      "source": [
        "COMO: desarrollador\n",
        "QUIERO: Guardar las agregaciones generadas en un archivo parquet dentro de un directorio llamado Results_Parquets\\Analysis_D, XXXXXXX.\n",
        "PARA: Dar acceso a los datos a otros interesados."
      ],
      "metadata": {
        "id": "fWlfsn7wNsVw"
      }
    },
    {
      "cell_type": "code",
      "source": [
        "ruta_guardado = 'Results_Parquets\\Analysis_D/BBT1_71'\n",
        "analisis_D.write.parquet(ruta_guardado)\n",
        "\n",
        "print(f'Archivo Parquet guardado en: {ruta_guardado}')"
      ],
      "metadata": {
        "colab": {
          "base_uri": "https://localhost:8080/"
        },
        "id": "gN180353DCif",
        "outputId": "3f2b9bf8-b461-4051-f4d0-718942d03b51"
      },
      "execution_count": 153,
      "outputs": [
        {
          "output_type": "stream",
          "name": "stdout",
          "text": [
            "Archivo Parquet guardado en: Results_Parquets\\Analysis_D/BBT1_71\n"
          ]
        }
      ]
    },
    {
      "cell_type": "markdown",
      "source": [
        "## BBT1-82 Carga de datos, generacion de archivos .parquet de análisis E"
      ],
      "metadata": {
        "id": "KLKMgEDBN-5g"
      }
    },
    {
      "cell_type": "markdown",
      "source": [
        "COMO: desarrollador\n",
        "QUIERO: Guardar las agregaciones generadas en un archivo parquet dentro de un directorio llamado Results_Parquets\\Analysis_E, XXXXXXX.\n",
        "PARA: Dar acceso a los datos a otros interesados."
      ],
      "metadata": {
        "id": "O63wRa29OGNb"
      }
    },
    {
      "cell_type": "code",
      "source": [
        "ruta_guardado = 'Results_Parquets\\Analysis_E/BBT1_72'\n",
        "analisis_E.write.parquet(ruta_guardado)\n",
        "\n",
        "print(f'Archivo Parquet guardado en: {ruta_guardado}')"
      ],
      "metadata": {
        "colab": {
          "base_uri": "https://localhost:8080/"
        },
        "id": "IPLfut42DGe6",
        "outputId": "5bada634-389a-4bec-bd6d-e8b1bee7011f"
      },
      "execution_count": 154,
      "outputs": [
        {
          "output_type": "stream",
          "name": "stdout",
          "text": [
            "Archivo Parquet guardado en: Results_Parquets\\Analysis_E/BBT1_72\n"
          ]
        }
      ]
    },
    {
      "cell_type": "markdown",
      "source": [
        "## BBT1-83 Carga de datos, generación de archivos .parquet de análisis F"
      ],
      "metadata": {
        "id": "KmmKIyjAxZRj"
      }
    },
    {
      "cell_type": "markdown",
      "source": [
        "COMO: desarrollador.\n",
        "\n",
        "QUIERO: Guardar las agregaciones generadas en un archivo parquet dentro de un directorio llamado Results_Parquets\\Analysis_F, XXXXXXX.\n",
        "\n",
        "PARA: Dar acceso a los datos a otros interesados."
      ],
      "metadata": {
        "id": "luNFZ5TFxb4g"
      }
    },
    {
      "cell_type": "code",
      "source": [
        "ruta_guardado = 'Results_Parquets\\Analysis_F/BBT1_73'\n",
        "query_bbt1_73.write.parquet(ruta_guardado)\n",
        "\n",
        "print(f'Archivo Parquet guardado en: {ruta_guardado}')"
      ],
      "metadata": {
        "id": "t_ODpIpxxf11",
        "colab": {
          "base_uri": "https://localhost:8080/"
        },
        "outputId": "2f095d10-95e0-47d4-8748-5e5289724bcc"
      },
      "execution_count": 168,
      "outputs": [
        {
          "output_type": "stream",
          "name": "stdout",
          "text": [
            "Archivo Parquet guardado en: Results_Parquets\\Analysis_F/BBT1_73\n"
          ]
        }
      ]
    },
    {
      "cell_type": "markdown",
      "source": [
        "## BBT1-84 Carga de datos, generación de archivos .parquet de análisis G"
      ],
      "metadata": {
        "id": "TE6fIat_xgFq"
      }
    },
    {
      "cell_type": "markdown",
      "source": [
        "COMO: desarrollador.\n",
        "\n",
        "QUIERO: Guardar las agregaciones generadas en un archivo parquet dentro de un directorio llamado Results_Parquets\\Analysis_G, XXXXXXX.\n",
        "\n",
        "PARA: Dar acceso a los datos a otros interesados."
      ],
      "metadata": {
        "id": "I2g8YeoRxnEv"
      }
    },
    {
      "cell_type": "code",
      "source": [
        "ruta_guardado = 'Results_Parquets\\Analysis_G/BBT1_74'\n",
        "bbt1_74.write.mode('overwrite').parquet(ruta_guardado)\n",
        "print(f'Archivo Parquet guardado en: {ruta_guardado}')"
      ],
      "metadata": {
        "id": "yucdfWiuxrd6",
        "colab": {
          "base_uri": "https://localhost:8080/"
        },
        "outputId": "2625b678-e4b5-4a15-f4e5-302efb843623"
      },
      "execution_count": 197,
      "outputs": [
        {
          "output_type": "stream",
          "name": "stdout",
          "text": [
            "Archivo Parquet guardado en: Results_Parquets\\Analysis_G/BBT1_74\n"
          ]
        }
      ]
    },
    {
      "cell_type": "markdown",
      "source": [
        "## BBT1-85 - Carga de datos, generacion de archivos .parquet de análisis H"
      ],
      "metadata": {
        "id": "zcWJ-BTVc9gU"
      }
    },
    {
      "cell_type": "markdown",
      "source": [
        "Descripción\n",
        "\n",
        "COMO: desarrollador\n",
        "QUIERO: Guardar las agregaciones generadas en un archivo parquet dentro de un directorio llamado Results_Parquets\\Analysis_H, XXXXXXX.\n",
        "PARA: Dar acceso a los datos a otros interesados."
      ],
      "metadata": {
        "id": "fizrn_aWc__3"
      }
    },
    {
      "cell_type": "code",
      "source": [
        "ruta_guardado = 'Results_Parquet/Analysis_H/BBT1_75.parquet'\n",
        "\n",
        "bbt1_75_spark.write.mode('overwrite').parquet('./Results_Parquet/Analysis_H/BBT1_75.parquet')\n",
        "print(f'Archivo Parquet guardado en: {ruta_guardado}')"
      ],
      "metadata": {
        "colab": {
          "base_uri": "https://localhost:8080/"
        },
        "id": "wx92oHC1dCwK",
        "outputId": "841bfc99-5f2e-46b0-a75d-49132dd0d6ef"
      },
      "execution_count": 198,
      "outputs": [
        {
          "output_type": "stream",
          "name": "stdout",
          "text": [
            "Archivo Parquet guardado en: Results_Parquet/Analysis_H/BBT1_75.parquet\n"
          ]
        }
      ]
    },
    {
      "cell_type": "markdown",
      "source": [
        "## BBT1-86 - Carga de datos, generacion de archivos .parquet de análisis I"
      ],
      "metadata": {
        "id": "fw6wZmkOdGJv"
      }
    },
    {
      "cell_type": "markdown",
      "source": [
        "Descripción\n",
        "\n",
        "COMO: desarrollador\n",
        "QUIERO: Guardar las agregaciones generadas en un archivo parquet dentro de un directorio llamado Results_Parquets\\Analysis_I, XXXXXXX.\n",
        "PARA: Dar acceso a los datos a otros interesados."
      ],
      "metadata": {
        "id": "-WR3LIFddJ85"
      }
    },
    {
      "cell_type": "code",
      "source": [
        "ruta_guardado = 'Results_Parquet/Analysis_I/BBT1_76.parquet'\n",
        "bbt1_76_spark.write.parquet('./Results_Parquet/Analysis_I/BBT1_76.parquet')\n",
        "print(f'Archivo Parquet guardado en: {ruta_guardado}')"
      ],
      "metadata": {
        "colab": {
          "base_uri": "https://localhost:8080/"
        },
        "id": "w2bRwKvGdJqQ",
        "outputId": "f2c60b46-44ff-4b73-bb80-6cd5ae0eea6d"
      },
      "execution_count": 178,
      "outputs": [
        {
          "output_type": "stream",
          "name": "stdout",
          "text": [
            "Archivo Parquet guardado en: Results_Parquet/Analysis_I/BBT1_76.parquet\n"
          ]
        }
      ]
    },
    {
      "cell_type": "markdown",
      "source": [
        "## BBT1-87 - Carga de datos, generacion de archivos .parquet de análisis J"
      ],
      "metadata": {
        "id": "HoIuQglGdNe1"
      }
    },
    {
      "cell_type": "markdown",
      "source": [
        "Descripción\n",
        "\n",
        "COMO: desarrollador\n",
        "QUIERO: Guardar las agregaciones generadas en un archivo parquet dentro de un directorio llamado Results_Parquets\\Analysis_J, XXXXXXX.\n",
        "PARA: Dar acceso a los datos a otros interesados."
      ],
      "metadata": {
        "id": "plmMyJ4ndQZd"
      }
    },
    {
      "cell_type": "code",
      "source": [
        "ruta_guardado = 'Results_Parquet/Analysis_J/BBT1_77.parquet'\n",
        "bbt1_77_spark.write.parquet('./Results_Parquet/Analysis_J/BBT1_77.parquet')\n",
        "print(f'Archivo Parquet guardado en: {ruta_guardado}')"
      ],
      "metadata": {
        "colab": {
          "base_uri": "https://localhost:8080/"
        },
        "id": "4zIyfegmdRui",
        "outputId": "f5fcbd65-06fd-4729-e759-480715da5ee2"
      },
      "execution_count": 179,
      "outputs": [
        {
          "output_type": "stream",
          "name": "stdout",
          "text": [
            "Archivo Parquet guardado en: Results_Parquet/Analysis_J/BBT1_77.parquet\n"
          ]
        }
      ]
    }
  ],
  "metadata": {
    "colab": {
      "provenance": [],
      "collapsed_sections": [
        "FJFs_T5xvlBv",
        "Hv9PVZwUtwde",
        "n1b92XBOux2X",
        "0YVOJBQBvBED",
        "-S-ueznfbVDQ",
        "xdZNIKZ4bVDQ",
        "QnwHqr2sbVDR",
        "IqwOPFS5bVDR",
        "4_L9g8b5bVDR",
        "TNTPS8JfbVDR",
        "HRacMdAXbVDR",
        "5QOdEJcHm9It",
        "q96K3ZO5oVyG",
        "lanmpUKYuZbU",
        "K0An880Yv6-Q",
        "ZfS4QagA_iAA",
        "kGHu-bPwxgV6",
        "w_bcxdGLxo4l",
        "6d4tCRhfxwyc",
        "y7NEPlmRATaO",
        "gi0j0wb4Bznl",
        "aG2Za9VDvGV2",
        "gpbXeEilACr7",
        "gC525MCNAhno",
        "6TF8_i7sxCOo",
        "pqvN3B6PxN-m",
        "a_L3VzYyxUck",
        "EAcdmJe3ByLg",
        "bFSEma2-wXQa",
        "Glo0kEdmwvG8",
        "BNqIOkDlbebn",
        "XuKA18egcBeZ",
        "KgzOGU3xcKJr",
        "GG4KI6zKnnkV"
      ]
    },
    "kernelspec": {
      "display_name": "Python 3",
      "name": "python3"
    },
    "language_info": {
      "codemirror_mode": {
        "name": "ipython",
        "version": 3
      },
      "file_extension": ".py",
      "mimetype": "text/x-python",
      "name": "python",
      "nbconvert_exporter": "python",
      "pygments_lexer": "ipython3",
      "version": "3.11.4"
    }
  },
  "nbformat": 4,
  "nbformat_minor": 0
}