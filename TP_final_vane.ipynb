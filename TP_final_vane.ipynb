{
  "cells": [
    {
      "cell_type": "markdown",
      "metadata": {
        "id": "D5swiFXGtQNi"
      },
      "source": [
        "# Proyecto X"
      ]
    },
    {
      "cell_type": "markdown",
      "metadata": {
        "id": "FJFs_T5xvlBv"
      },
      "source": [
        "## Lectura de los datos y exploración de los encabezados de los archivos."
      ]
    },
    {
      "cell_type": "code",
      "execution_count": 1,
      "metadata": {
        "id": "dDoeFBjQv4pR"
      },
      "outputs": [],
      "source": [
        "import pandas as pd"
      ]
    },
    {
      "cell_type": "code",
      "execution_count": 2,
      "metadata": {
        "id": "4oAl0GY5vRLk"
      },
      "outputs": [],
      "source": [
        "geolocation = pd.read_csv('/content/Copia de ecommerce_geolocation_dataset.csv')\n",
        "customers = pd.read_csv('/content/Copia de ecommerce_customers_dataset.csv')\n",
        "order_items = pd.read_csv('/content/Copia de ecommerce_order_items_dataset.csv')\n",
        "order_payments = pd.read_csv('/content/Copia de ecommerce_order_payments_dataset.csv')\n",
        "order_reviews = pd.read_csv('/content/Copia de ecommerce_order_reviews_dataset.csv')\n",
        "orders = pd.read_csv('/content/Copia de ecommerce_orders_dataset.csv')\n",
        "products = pd.read_csv('/content/Copia de ecommerce_products_dataset.csv')\n",
        "sellers = pd.read_csv('/content/Copia de ecommerce_sellers_dataset.csv')\n",
        "category_names = pd.read_csv('/content/Copia de product_category_name_translation.csv')"
      ]
    },
    {
      "cell_type": "code",
      "execution_count": 3,
      "metadata": {
        "colab": {
          "base_uri": "https://localhost:8080/"
        },
        "id": "UdCM6FD9x34w",
        "outputId": "35c692d7-4e9d-4f18-e5b0-ef9ed9415a27"
      },
      "outputs": [
        {
          "output_type": "stream",
          "name": "stdout",
          "text": [
            "['geolocation_zip_code_prefix', 'geolocation_lat', 'geolocation_lng', 'geolocation_city', 'geolocation_state']\n"
          ]
        }
      ],
      "source": [
        "print(geolocation.columns.tolist())"
      ]
    },
    {
      "cell_type": "code",
      "execution_count": 4,
      "metadata": {
        "colab": {
          "base_uri": "https://localhost:8080/"
        },
        "id": "WH_g1J_0yLeq",
        "outputId": "d5bf9cbb-e5fa-452e-987e-e144d456cbae"
      },
      "outputs": [
        {
          "output_type": "stream",
          "name": "stdout",
          "text": [
            "['customer_id', 'customer_unique_id', 'customer_zip_code_prefix', 'customer_city', 'customer_state']\n"
          ]
        }
      ],
      "source": [
        "print(customers.columns.tolist())"
      ]
    },
    {
      "cell_type": "code",
      "execution_count": 5,
      "metadata": {
        "colab": {
          "base_uri": "https://localhost:8080/"
        },
        "id": "AfB6m4G6yT3f",
        "outputId": "94187bcb-2450-4098-f90d-986c8d2c7843"
      },
      "outputs": [
        {
          "output_type": "stream",
          "name": "stdout",
          "text": [
            "['order_id', 'order_item_id', 'product_id', 'seller_id', 'shipping_limit_date', 'price', 'freight_value']\n"
          ]
        }
      ],
      "source": [
        "print(order_items.columns.tolist())"
      ]
    },
    {
      "cell_type": "code",
      "execution_count": 6,
      "metadata": {
        "colab": {
          "base_uri": "https://localhost:8080/"
        },
        "id": "auQmphxMybOM",
        "outputId": "8fae52eb-f849-43c0-ca36-90f57f36b127"
      },
      "outputs": [
        {
          "output_type": "stream",
          "name": "stdout",
          "text": [
            "['order_id', 'payment_sequential', 'payment_type', 'payment_installments', 'payment_value']\n"
          ]
        }
      ],
      "source": [
        "print(order_payments.columns.tolist())"
      ]
    },
    {
      "cell_type": "code",
      "execution_count": 7,
      "metadata": {
        "colab": {
          "base_uri": "https://localhost:8080/"
        },
        "id": "4AdZtJXJybLe",
        "outputId": "9684aaf6-b7ab-4094-9fce-9ba5813d74aa"
      },
      "outputs": [
        {
          "output_type": "stream",
          "name": "stdout",
          "text": [
            "['review_id', 'order_id', 'review_score', 'review_comment_title', 'review_comment_message', 'review_creation_date', 'review_answer_timestamp']\n"
          ]
        }
      ],
      "source": [
        "print(order_reviews.columns.tolist())"
      ]
    },
    {
      "cell_type": "code",
      "execution_count": 8,
      "metadata": {
        "colab": {
          "base_uri": "https://localhost:8080/"
        },
        "id": "vRoIAUpMybIu",
        "outputId": "8aa1b21b-5a14-4b37-a416-5215856d0552"
      },
      "outputs": [
        {
          "output_type": "stream",
          "name": "stdout",
          "text": [
            "['order_id', 'customer_id', 'order_status', 'order_purchase_timestamp', 'order_approved_at', 'order_delivered_carrier_date', 'order_delivered_customer_date', 'order_estimated_delivery_date']\n"
          ]
        }
      ],
      "source": [
        "print(orders.columns.tolist())"
      ]
    },
    {
      "cell_type": "code",
      "execution_count": 9,
      "metadata": {
        "colab": {
          "base_uri": "https://localhost:8080/"
        },
        "id": "5mlHmDfVybFS",
        "outputId": "d7ee92bf-02e6-414d-f41a-d049047761a0"
      },
      "outputs": [
        {
          "output_type": "stream",
          "name": "stdout",
          "text": [
            "['product_id', 'product_category_name', 'product_name_lenght', 'product_description_lenght', 'product_photos_qty', 'product_weight_g', 'product_length_cm', 'product_height_cm', 'product_width_cm']\n"
          ]
        }
      ],
      "source": [
        "print(products.columns.tolist())"
      ]
    },
    {
      "cell_type": "code",
      "execution_count": 10,
      "metadata": {
        "colab": {
          "base_uri": "https://localhost:8080/"
        },
        "id": "w78VArU-ybBr",
        "outputId": "06ab87cc-cfcb-4e05-96c9-0b8825f4fd7f"
      },
      "outputs": [
        {
          "output_type": "stream",
          "name": "stdout",
          "text": [
            "['seller_id', 'seller_zip_code_prefix', 'seller_city', 'seller_state']\n"
          ]
        }
      ],
      "source": [
        "print(sellers.columns.tolist())"
      ]
    },
    {
      "cell_type": "code",
      "execution_count": 11,
      "metadata": {
        "colab": {
          "base_uri": "https://localhost:8080/"
        },
        "id": "RrZuNnQHya-K",
        "outputId": "40d5ae8b-32cf-41a1-f881-88055477c541"
      },
      "outputs": [
        {
          "output_type": "stream",
          "name": "stdout",
          "text": [
            "['product_category_name', 'product_category_name_english']\n"
          ]
        }
      ],
      "source": [
        "print(category_names.columns.tolist())"
      ]
    },
    {
      "cell_type": "markdown",
      "metadata": {
        "id": "7efjGfOGtVP0"
      },
      "source": [
        "## BBT1-14 Creación de la base de datos y carga de datos"
      ]
    },
    {
      "cell_type": "markdown",
      "source": [
        "Crear una conexión a la base de datos de SQLite llamada ecommerce.db Importar los archivos y guardar los DataFrames en la base de datos como tablas:\n",
        "\n",
        "ecommerce_customers_dataset.csv\n",
        "\n",
        "ecommerce_order_items_dataset.csv\n",
        "\n",
        "ecommerce_order_payments_dataset.csv\n",
        "\n",
        "ecommerce_order_reviews_dataset.csv\n",
        "\n",
        "ecommerce_orders_dataset.csv\n",
        "\n",
        "ecommerce_products_dataset.csv\n",
        "\n",
        "ecommerce_sellers_dataset.csv\n",
        "\n",
        "product_category_name_translation.csv"
      ],
      "metadata": {
        "id": "cmtLdMg2oSRl"
      }
    },
    {
      "cell_type": "code",
      "execution_count": 12,
      "metadata": {
        "id": "6cGRlxuEs7PZ",
        "colab": {
          "base_uri": "https://localhost:8080/",
          "height": 227
        },
        "outputId": "86580c4c-b2f9-4c41-9225-97881374e528"
      },
      "outputs": [
        {
          "output_type": "error",
          "ename": "OperationalError",
          "evalue": "ignored",
          "traceback": [
            "\u001b[0;31m---------------------------------------------------------------------------\u001b[0m",
            "\u001b[0;31mOperationalError\u001b[0m                          Traceback (most recent call last)",
            "\u001b[0;32m<ipython-input-12-1d4352ad806a>\u001b[0m in \u001b[0;36m<cell line: 83>\u001b[0;34m()\u001b[0m\n\u001b[1;32m     81\u001b[0m );\n\u001b[1;32m     82\u001b[0m '''\n\u001b[0;32m---> 83\u001b[0;31m \u001b[0mcursor\u001b[0m\u001b[0;34m.\u001b[0m\u001b[0mexecutescript\u001b[0m\u001b[0;34m(\u001b[0m\u001b[0mscript\u001b[0m\u001b[0;34m)\u001b[0m\u001b[0;34m\u001b[0m\u001b[0;34m\u001b[0m\u001b[0m\n\u001b[0m\u001b[1;32m     84\u001b[0m \u001b[0mconn\u001b[0m\u001b[0;34m.\u001b[0m\u001b[0mcommit\u001b[0m\u001b[0;34m(\u001b[0m\u001b[0;34m)\u001b[0m\u001b[0;34m\u001b[0m\u001b[0;34m\u001b[0m\u001b[0m\n",
            "\u001b[0;31mOperationalError\u001b[0m: near \"(\": syntax error"
          ]
        }
      ],
      "source": [
        "import sqlite3 as sql\n",
        "\n",
        "#Conexion a la base de datos\n",
        "conn = sql.connect('ecommerce.db')\n",
        "cursor = conn.cursor()\n",
        "\n",
        "#script de creacion de tablas\n",
        "script = '''\n",
        "CREATE TABLE products (\n",
        "    product_id TEXT PRIMARY KEY,\n",
        "    product_category_name TEXT,\n",
        "    product_name_lenght REAL,\n",
        "    product_description_lenght REAL,\n",
        "    product_photos_qty REAL,\n",
        "    product_weight_g REAL,\n",
        "    product_length_cm REAL,\n",
        "    product_height_cm REAL,\n",
        "    product_width_cm REAL\n",
        ");\n",
        "CREATE TABLE order_items (\n",
        "    order_id TEXT,\n",
        "    order_item_id INTEGER,\n",
        "    product_id TEXT,\n",
        "    seller_id TEXT,\n",
        "    shipping_limit_date TEXT,\n",
        "    price REAL,\n",
        "    freight_value REAL,\n",
        "    PRIMARY KEY (order_id, order_item_id)\n",
        ");\n",
        "CREATE TABLE order_payments (\n",
        "    order_id TEXT,\n",
        "    payment_sequential INTEGER,\n",
        "    payment_type TEXT,\n",
        "    payment_installments INTEGER,\n",
        "    payment_value REAL,\n",
        "    PRIMARY KEY(order_id,payment_sequential)\n",
        ");\n",
        "CREATE TABLE orders (\n",
        "    order_id TEXT PRIMARY KEY,\n",
        "    customer_id TEXT,\n",
        "    order_status TEXT,\n",
        "    order_purchase_timestamp TEXT,\n",
        "    order_approved_at TEXT,\n",
        "    order_delivered_carrier_date TEXT,\n",
        "    order_delivered_customer_date TEXT,\n",
        "    order_estimated_delivery_date TEXT\n",
        ");\n",
        "CREATE TABLE customers (\n",
        "    customer_id TEXT PRIMARY KEY,\n",
        "    customer_unique_id TEXT,\n",
        "    customer_zip_code_prefix INTEGER,\n",
        "    customer_city TEXT,\n",
        "    customer_state TEXT\n",
        ");\n",
        "CREATE TABLE geolocation(\n",
        "  geolocation_zip_code_prefix INTEGER PRIMARY KEY ,\n",
        "  geolocation_lat REAL,\n",
        "  geolocation_lng REAL,\n",
        "  geolocation_city TEXT,\n",
        "  geolocation_state TEXT\n",
        ");\n",
        "CREATE TABLE order_review(\n",
        "  review_id TEXT,\n",
        "  order_id TEXT,\n",
        "  review_score INT,\n",
        "  review_comment_title TEXT,\n",
        "  review_comment_message TEXT,\n",
        "  review_creation_date TEXT,\n",
        "  review_answer_timestamp TEXT\n",
        "  PRIMARY KEY(order_id,review_id)\n",
        ");\n",
        "CREATE TABLE sellers(\n",
        "  seller_id TEXT PRIMARY KEY,\n",
        "  seller_zip_code_prefix INTEGER,\n",
        "  seller_city TEXT,\n",
        "  seller_state TEXT\n",
        ");\n",
        "CREATE TABLE category(\n",
        "  product_category_name TEXT,\n",
        "  product_category_name_english TEXT\n",
        ");\n",
        "'''\n",
        "cursor.executescript(script)\n",
        "conn.commit()\n"
      ]
    },
    {
      "cell_type": "markdown",
      "metadata": {
        "id": "3TIQciNRu1Bh"
      },
      "source": [
        "Inserción de los datos de los csv a la base de datos"
      ]
    },
    {
      "cell_type": "code",
      "execution_count": 13,
      "metadata": {
        "colab": {
          "base_uri": "https://localhost:8080/"
        },
        "id": "zFrpa5i6t2i9",
        "outputId": "4aad9e96-2b04-4581-9b76-69e547780398"
      },
      "outputs": [
        {
          "output_type": "execute_result",
          "data": {
            "text/plain": [
              "71"
            ]
          },
          "metadata": {},
          "execution_count": 13
        }
      ],
      "source": [
        "geolocation.to_sql('geolocation',conn, index=True, if_exists='replace')\n",
        "customers.to_sql('customers',conn, index=True, if_exists='replace')\n",
        "order_items.to_sql('order_items',conn, index=True, if_exists = 'replace')\n",
        "order_payments.to_sql('order_payments',conn, index=True, if_exists = 'replace')\n",
        "order_reviews.to_sql('order_review',conn, index=True, if_exists = 'replace')\n",
        "orders.to_sql('orders',conn, index=True, if_exists = 'replace')\n",
        "products.to_sql('products',conn, index=True, if_exists = 'replace')\n",
        "sellers.to_sql('sellers',conn, index=True, if_exists = 'replace')\n",
        "category_names.to_sql('category',conn, index=True, if_exists = 'replace')"
      ]
    },
    {
      "cell_type": "markdown",
      "metadata": {
        "id": "drRonGF4uLWO"
      },
      "source": [
        "**Creación de tabla geolocation2 con latitudes y longitudes promedio.**\n",
        "\n",
        "Con el fin de evitar la duplicidad de datos usando el criterio de promediar latitudes y longitudes agrupando por código postal."
      ]
    },
    {
      "cell_type": "code",
      "execution_count": 14,
      "metadata": {
        "id": "3cjW9UXjuLWO"
      },
      "outputs": [],
      "source": [
        "query_geo = '''\n",
        "  SELECT geolocation_zip_code_prefix, AVG(geolocation_lat) as promedio_latitud, AVG(geolocation_lng) as promedio_longitud, geolocation_city, geolocation_state\n",
        "  FROM geolocation\n",
        "  GROUP BY geolocation_zip_code_prefix\n",
        "  ORDER BY geolocation_zip_code_prefix;\n",
        "  '''\n",
        "geo_2 = pd.read_sql_query(query_geo, conn)\n",
        "\n",
        "geo_2.set_index('geolocation_zip_code_prefix', inplace=True)"
      ]
    },
    {
      "cell_type": "code",
      "execution_count": 15,
      "metadata": {
        "id": "vhwxqzkWuLWO",
        "colab": {
          "base_uri": "https://localhost:8080/",
          "height": 238
        },
        "outputId": "4a4692fa-9e53-4e0c-db8d-7c69297c7f53"
      },
      "outputs": [
        {
          "output_type": "execute_result",
          "data": {
            "text/plain": [
              "                             promedio_latitud  promedio_longitud  \\\n",
              "geolocation_zip_code_prefix                                        \n",
              "1001                               -23.550190         -46.634024   \n",
              "1002                               -23.548146         -46.634979   \n",
              "1003                               -23.548994         -46.635731   \n",
              "1004                               -23.549799         -46.634757   \n",
              "1005                               -23.549456         -46.636733   \n",
              "\n",
              "                            geolocation_city geolocation_state  \n",
              "geolocation_zip_code_prefix                                     \n",
              "1001                               sao paulo                SP  \n",
              "1002                               sao paulo                SP  \n",
              "1003                               sao paulo                SP  \n",
              "1004                               sao paulo                SP  \n",
              "1005                               sao paulo                SP  "
            ],
            "text/html": [
              "\n",
              "  <div id=\"df-6462a225-5d24-405a-9441-790b04566cec\" class=\"colab-df-container\">\n",
              "    <div>\n",
              "<style scoped>\n",
              "    .dataframe tbody tr th:only-of-type {\n",
              "        vertical-align: middle;\n",
              "    }\n",
              "\n",
              "    .dataframe tbody tr th {\n",
              "        vertical-align: top;\n",
              "    }\n",
              "\n",
              "    .dataframe thead th {\n",
              "        text-align: right;\n",
              "    }\n",
              "</style>\n",
              "<table border=\"1\" class=\"dataframe\">\n",
              "  <thead>\n",
              "    <tr style=\"text-align: right;\">\n",
              "      <th></th>\n",
              "      <th>promedio_latitud</th>\n",
              "      <th>promedio_longitud</th>\n",
              "      <th>geolocation_city</th>\n",
              "      <th>geolocation_state</th>\n",
              "    </tr>\n",
              "    <tr>\n",
              "      <th>geolocation_zip_code_prefix</th>\n",
              "      <th></th>\n",
              "      <th></th>\n",
              "      <th></th>\n",
              "      <th></th>\n",
              "    </tr>\n",
              "  </thead>\n",
              "  <tbody>\n",
              "    <tr>\n",
              "      <th>1001</th>\n",
              "      <td>-23.550190</td>\n",
              "      <td>-46.634024</td>\n",
              "      <td>sao paulo</td>\n",
              "      <td>SP</td>\n",
              "    </tr>\n",
              "    <tr>\n",
              "      <th>1002</th>\n",
              "      <td>-23.548146</td>\n",
              "      <td>-46.634979</td>\n",
              "      <td>sao paulo</td>\n",
              "      <td>SP</td>\n",
              "    </tr>\n",
              "    <tr>\n",
              "      <th>1003</th>\n",
              "      <td>-23.548994</td>\n",
              "      <td>-46.635731</td>\n",
              "      <td>sao paulo</td>\n",
              "      <td>SP</td>\n",
              "    </tr>\n",
              "    <tr>\n",
              "      <th>1004</th>\n",
              "      <td>-23.549799</td>\n",
              "      <td>-46.634757</td>\n",
              "      <td>sao paulo</td>\n",
              "      <td>SP</td>\n",
              "    </tr>\n",
              "    <tr>\n",
              "      <th>1005</th>\n",
              "      <td>-23.549456</td>\n",
              "      <td>-46.636733</td>\n",
              "      <td>sao paulo</td>\n",
              "      <td>SP</td>\n",
              "    </tr>\n",
              "  </tbody>\n",
              "</table>\n",
              "</div>\n",
              "    <div class=\"colab-df-buttons\">\n",
              "\n",
              "  <div class=\"colab-df-container\">\n",
              "    <button class=\"colab-df-convert\" onclick=\"convertToInteractive('df-6462a225-5d24-405a-9441-790b04566cec')\"\n",
              "            title=\"Convert this dataframe to an interactive table.\"\n",
              "            style=\"display:none;\">\n",
              "\n",
              "  <svg xmlns=\"http://www.w3.org/2000/svg\" height=\"24px\" viewBox=\"0 -960 960 960\">\n",
              "    <path d=\"M120-120v-720h720v720H120Zm60-500h600v-160H180v160Zm220 220h160v-160H400v160Zm0 220h160v-160H400v160ZM180-400h160v-160H180v160Zm440 0h160v-160H620v160ZM180-180h160v-160H180v160Zm440 0h160v-160H620v160Z\"/>\n",
              "  </svg>\n",
              "    </button>\n",
              "\n",
              "  <style>\n",
              "    .colab-df-container {\n",
              "      display:flex;\n",
              "      gap: 12px;\n",
              "    }\n",
              "\n",
              "    .colab-df-convert {\n",
              "      background-color: #E8F0FE;\n",
              "      border: none;\n",
              "      border-radius: 50%;\n",
              "      cursor: pointer;\n",
              "      display: none;\n",
              "      fill: #1967D2;\n",
              "      height: 32px;\n",
              "      padding: 0 0 0 0;\n",
              "      width: 32px;\n",
              "    }\n",
              "\n",
              "    .colab-df-convert:hover {\n",
              "      background-color: #E2EBFA;\n",
              "      box-shadow: 0px 1px 2px rgba(60, 64, 67, 0.3), 0px 1px 3px 1px rgba(60, 64, 67, 0.15);\n",
              "      fill: #174EA6;\n",
              "    }\n",
              "\n",
              "    .colab-df-buttons div {\n",
              "      margin-bottom: 4px;\n",
              "    }\n",
              "\n",
              "    [theme=dark] .colab-df-convert {\n",
              "      background-color: #3B4455;\n",
              "      fill: #D2E3FC;\n",
              "    }\n",
              "\n",
              "    [theme=dark] .colab-df-convert:hover {\n",
              "      background-color: #434B5C;\n",
              "      box-shadow: 0px 1px 3px 1px rgba(0, 0, 0, 0.15);\n",
              "      filter: drop-shadow(0px 1px 2px rgba(0, 0, 0, 0.3));\n",
              "      fill: #FFFFFF;\n",
              "    }\n",
              "  </style>\n",
              "\n",
              "    <script>\n",
              "      const buttonEl =\n",
              "        document.querySelector('#df-6462a225-5d24-405a-9441-790b04566cec button.colab-df-convert');\n",
              "      buttonEl.style.display =\n",
              "        google.colab.kernel.accessAllowed ? 'block' : 'none';\n",
              "\n",
              "      async function convertToInteractive(key) {\n",
              "        const element = document.querySelector('#df-6462a225-5d24-405a-9441-790b04566cec');\n",
              "        const dataTable =\n",
              "          await google.colab.kernel.invokeFunction('convertToInteractive',\n",
              "                                                    [key], {});\n",
              "        if (!dataTable) return;\n",
              "\n",
              "        const docLinkHtml = 'Like what you see? Visit the ' +\n",
              "          '<a target=\"_blank\" href=https://colab.research.google.com/notebooks/data_table.ipynb>data table notebook</a>'\n",
              "          + ' to learn more about interactive tables.';\n",
              "        element.innerHTML = '';\n",
              "        dataTable['output_type'] = 'display_data';\n",
              "        await google.colab.output.renderOutput(dataTable, element);\n",
              "        const docLink = document.createElement('div');\n",
              "        docLink.innerHTML = docLinkHtml;\n",
              "        element.appendChild(docLink);\n",
              "      }\n",
              "    </script>\n",
              "  </div>\n",
              "\n",
              "\n",
              "<div id=\"df-2cdba0f0-efbb-483b-9275-a5004f6233d4\">\n",
              "  <button class=\"colab-df-quickchart\" onclick=\"quickchart('df-2cdba0f0-efbb-483b-9275-a5004f6233d4')\"\n",
              "            title=\"Suggest charts.\"\n",
              "            style=\"display:none;\">\n",
              "\n",
              "<svg xmlns=\"http://www.w3.org/2000/svg\" height=\"24px\"viewBox=\"0 0 24 24\"\n",
              "     width=\"24px\">\n",
              "    <g>\n",
              "        <path d=\"M19 3H5c-1.1 0-2 .9-2 2v14c0 1.1.9 2 2 2h14c1.1 0 2-.9 2-2V5c0-1.1-.9-2-2-2zM9 17H7v-7h2v7zm4 0h-2V7h2v10zm4 0h-2v-4h2v4z\"/>\n",
              "    </g>\n",
              "</svg>\n",
              "  </button>\n",
              "\n",
              "<style>\n",
              "  .colab-df-quickchart {\n",
              "      --bg-color: #E8F0FE;\n",
              "      --fill-color: #1967D2;\n",
              "      --hover-bg-color: #E2EBFA;\n",
              "      --hover-fill-color: #174EA6;\n",
              "      --disabled-fill-color: #AAA;\n",
              "      --disabled-bg-color: #DDD;\n",
              "  }\n",
              "\n",
              "  [theme=dark] .colab-df-quickchart {\n",
              "      --bg-color: #3B4455;\n",
              "      --fill-color: #D2E3FC;\n",
              "      --hover-bg-color: #434B5C;\n",
              "      --hover-fill-color: #FFFFFF;\n",
              "      --disabled-bg-color: #3B4455;\n",
              "      --disabled-fill-color: #666;\n",
              "  }\n",
              "\n",
              "  .colab-df-quickchart {\n",
              "    background-color: var(--bg-color);\n",
              "    border: none;\n",
              "    border-radius: 50%;\n",
              "    cursor: pointer;\n",
              "    display: none;\n",
              "    fill: var(--fill-color);\n",
              "    height: 32px;\n",
              "    padding: 0;\n",
              "    width: 32px;\n",
              "  }\n",
              "\n",
              "  .colab-df-quickchart:hover {\n",
              "    background-color: var(--hover-bg-color);\n",
              "    box-shadow: 0 1px 2px rgba(60, 64, 67, 0.3), 0 1px 3px 1px rgba(60, 64, 67, 0.15);\n",
              "    fill: var(--button-hover-fill-color);\n",
              "  }\n",
              "\n",
              "  .colab-df-quickchart-complete:disabled,\n",
              "  .colab-df-quickchart-complete:disabled:hover {\n",
              "    background-color: var(--disabled-bg-color);\n",
              "    fill: var(--disabled-fill-color);\n",
              "    box-shadow: none;\n",
              "  }\n",
              "\n",
              "  .colab-df-spinner {\n",
              "    border: 2px solid var(--fill-color);\n",
              "    border-color: transparent;\n",
              "    border-bottom-color: var(--fill-color);\n",
              "    animation:\n",
              "      spin 1s steps(1) infinite;\n",
              "  }\n",
              "\n",
              "  @keyframes spin {\n",
              "    0% {\n",
              "      border-color: transparent;\n",
              "      border-bottom-color: var(--fill-color);\n",
              "      border-left-color: var(--fill-color);\n",
              "    }\n",
              "    20% {\n",
              "      border-color: transparent;\n",
              "      border-left-color: var(--fill-color);\n",
              "      border-top-color: var(--fill-color);\n",
              "    }\n",
              "    30% {\n",
              "      border-color: transparent;\n",
              "      border-left-color: var(--fill-color);\n",
              "      border-top-color: var(--fill-color);\n",
              "      border-right-color: var(--fill-color);\n",
              "    }\n",
              "    40% {\n",
              "      border-color: transparent;\n",
              "      border-right-color: var(--fill-color);\n",
              "      border-top-color: var(--fill-color);\n",
              "    }\n",
              "    60% {\n",
              "      border-color: transparent;\n",
              "      border-right-color: var(--fill-color);\n",
              "    }\n",
              "    80% {\n",
              "      border-color: transparent;\n",
              "      border-right-color: var(--fill-color);\n",
              "      border-bottom-color: var(--fill-color);\n",
              "    }\n",
              "    90% {\n",
              "      border-color: transparent;\n",
              "      border-bottom-color: var(--fill-color);\n",
              "    }\n",
              "  }\n",
              "</style>\n",
              "\n",
              "  <script>\n",
              "    async function quickchart(key) {\n",
              "      const quickchartButtonEl =\n",
              "        document.querySelector('#' + key + ' button');\n",
              "      quickchartButtonEl.disabled = true;  // To prevent multiple clicks.\n",
              "      quickchartButtonEl.classList.add('colab-df-spinner');\n",
              "      try {\n",
              "        const charts = await google.colab.kernel.invokeFunction(\n",
              "            'suggestCharts', [key], {});\n",
              "      } catch (error) {\n",
              "        console.error('Error during call to suggestCharts:', error);\n",
              "      }\n",
              "      quickchartButtonEl.classList.remove('colab-df-spinner');\n",
              "      quickchartButtonEl.classList.add('colab-df-quickchart-complete');\n",
              "    }\n",
              "    (() => {\n",
              "      let quickchartButtonEl =\n",
              "        document.querySelector('#df-2cdba0f0-efbb-483b-9275-a5004f6233d4 button');\n",
              "      quickchartButtonEl.style.display =\n",
              "        google.colab.kernel.accessAllowed ? 'block' : 'none';\n",
              "    })();\n",
              "  </script>\n",
              "</div>\n",
              "    </div>\n",
              "  </div>\n"
            ]
          },
          "metadata": {},
          "execution_count": 15
        }
      ],
      "source": [
        "geo_2.to_sql('geolocation2', conn, index=True, if_exists='replace')\n",
        "geo_2.head(5)"
      ]
    },
    {
      "cell_type": "markdown",
      "metadata": {
        "id": "SPsdEoCquLWP"
      },
      "source": [
        "## BBT1-21  Extracción de datos desde las tablas orders_items y products"
      ]
    },
    {
      "cell_type": "markdown",
      "source": [
        "Crear un DataFrame que contenga el JOIN de la tabla orders_items (oi) y tabla products (p).  \n",
        "Extraer los datos de items con categorias"
      ],
      "metadata": {
        "id": "IuL1x_1qmnco"
      }
    },
    {
      "cell_type": "code",
      "execution_count": 16,
      "metadata": {
        "id": "BmeMIuxauLWP",
        "colab": {
          "base_uri": "https://localhost:8080/",
          "height": 206
        },
        "outputId": "41d7f7f9-7199-44bd-dd9d-91fe7a869b24"
      },
      "outputs": [
        {
          "output_type": "execute_result",
          "data": {
            "text/plain": [
              "   index                          order_id  order_item_id  \\\n",
              "0    123  0046e1d57f4c07c8c92ab26be8c3dfc0              1   \n",
              "1    125  00482f2670787292280e0a8153d82467              1   \n",
              "2    132  004f5d8f238e8908e6864b874eda3391              1   \n",
              "3    142  0057199db02d1a5ef41bacbf41f8f63b              1   \n",
              "4    171  006cb7cafc99b29548d4f412c7f9f493              1   \n",
              "\n",
              "                         product_id                         seller_id  \\\n",
              "0  ff6caf9340512b8bf6d2a2a6df032cfa  38e6dada03429a47197d5d584d793b41   \n",
              "1  a9c404971d1a5b1cbc2e4070e02731fd  702835e4b785b67a084280efca355756   \n",
              "2  5a848e4ab52fd5445cdc07aab1c40e48  c826c40d7b19f62a09e2d7c5e7295ee2   \n",
              "3  41eee23c25f7a574dfaf8d5c151dbb12  e5a3438891c0bfdb9394643f95273d8e   \n",
              "4  e10758160da97891c2fdcbc35f0f031d  323ce52b5b81df2cd804b017b7f09aa7   \n",
              "\n",
              "   shipping_limit_date   price  freight_value product_category_name  \n",
              "0  2017-10-02 15:49:17    7.79           7.78                  None  \n",
              "1  2017-02-17 16:18:07    7.60          10.96                  None  \n",
              "2  2018-03-06 09:29:25  122.99          15.61                  None  \n",
              "3  2018-01-25 09:07:51   20.30          16.79                  None  \n",
              "4  2018-02-22 13:35:28   56.00          14.14                  None  "
            ],
            "text/html": [
              "\n",
              "  <div id=\"df-671cd076-cc7e-4cc5-99c3-f43ebd4fdac6\" class=\"colab-df-container\">\n",
              "    <div>\n",
              "<style scoped>\n",
              "    .dataframe tbody tr th:only-of-type {\n",
              "        vertical-align: middle;\n",
              "    }\n",
              "\n",
              "    .dataframe tbody tr th {\n",
              "        vertical-align: top;\n",
              "    }\n",
              "\n",
              "    .dataframe thead th {\n",
              "        text-align: right;\n",
              "    }\n",
              "</style>\n",
              "<table border=\"1\" class=\"dataframe\">\n",
              "  <thead>\n",
              "    <tr style=\"text-align: right;\">\n",
              "      <th></th>\n",
              "      <th>index</th>\n",
              "      <th>order_id</th>\n",
              "      <th>order_item_id</th>\n",
              "      <th>product_id</th>\n",
              "      <th>seller_id</th>\n",
              "      <th>shipping_limit_date</th>\n",
              "      <th>price</th>\n",
              "      <th>freight_value</th>\n",
              "      <th>product_category_name</th>\n",
              "    </tr>\n",
              "  </thead>\n",
              "  <tbody>\n",
              "    <tr>\n",
              "      <th>0</th>\n",
              "      <td>123</td>\n",
              "      <td>0046e1d57f4c07c8c92ab26be8c3dfc0</td>\n",
              "      <td>1</td>\n",
              "      <td>ff6caf9340512b8bf6d2a2a6df032cfa</td>\n",
              "      <td>38e6dada03429a47197d5d584d793b41</td>\n",
              "      <td>2017-10-02 15:49:17</td>\n",
              "      <td>7.79</td>\n",
              "      <td>7.78</td>\n",
              "      <td>None</td>\n",
              "    </tr>\n",
              "    <tr>\n",
              "      <th>1</th>\n",
              "      <td>125</td>\n",
              "      <td>00482f2670787292280e0a8153d82467</td>\n",
              "      <td>1</td>\n",
              "      <td>a9c404971d1a5b1cbc2e4070e02731fd</td>\n",
              "      <td>702835e4b785b67a084280efca355756</td>\n",
              "      <td>2017-02-17 16:18:07</td>\n",
              "      <td>7.60</td>\n",
              "      <td>10.96</td>\n",
              "      <td>None</td>\n",
              "    </tr>\n",
              "    <tr>\n",
              "      <th>2</th>\n",
              "      <td>132</td>\n",
              "      <td>004f5d8f238e8908e6864b874eda3391</td>\n",
              "      <td>1</td>\n",
              "      <td>5a848e4ab52fd5445cdc07aab1c40e48</td>\n",
              "      <td>c826c40d7b19f62a09e2d7c5e7295ee2</td>\n",
              "      <td>2018-03-06 09:29:25</td>\n",
              "      <td>122.99</td>\n",
              "      <td>15.61</td>\n",
              "      <td>None</td>\n",
              "    </tr>\n",
              "    <tr>\n",
              "      <th>3</th>\n",
              "      <td>142</td>\n",
              "      <td>0057199db02d1a5ef41bacbf41f8f63b</td>\n",
              "      <td>1</td>\n",
              "      <td>41eee23c25f7a574dfaf8d5c151dbb12</td>\n",
              "      <td>e5a3438891c0bfdb9394643f95273d8e</td>\n",
              "      <td>2018-01-25 09:07:51</td>\n",
              "      <td>20.30</td>\n",
              "      <td>16.79</td>\n",
              "      <td>None</td>\n",
              "    </tr>\n",
              "    <tr>\n",
              "      <th>4</th>\n",
              "      <td>171</td>\n",
              "      <td>006cb7cafc99b29548d4f412c7f9f493</td>\n",
              "      <td>1</td>\n",
              "      <td>e10758160da97891c2fdcbc35f0f031d</td>\n",
              "      <td>323ce52b5b81df2cd804b017b7f09aa7</td>\n",
              "      <td>2018-02-22 13:35:28</td>\n",
              "      <td>56.00</td>\n",
              "      <td>14.14</td>\n",
              "      <td>None</td>\n",
              "    </tr>\n",
              "  </tbody>\n",
              "</table>\n",
              "</div>\n",
              "    <div class=\"colab-df-buttons\">\n",
              "\n",
              "  <div class=\"colab-df-container\">\n",
              "    <button class=\"colab-df-convert\" onclick=\"convertToInteractive('df-671cd076-cc7e-4cc5-99c3-f43ebd4fdac6')\"\n",
              "            title=\"Convert this dataframe to an interactive table.\"\n",
              "            style=\"display:none;\">\n",
              "\n",
              "  <svg xmlns=\"http://www.w3.org/2000/svg\" height=\"24px\" viewBox=\"0 -960 960 960\">\n",
              "    <path d=\"M120-120v-720h720v720H120Zm60-500h600v-160H180v160Zm220 220h160v-160H400v160Zm0 220h160v-160H400v160ZM180-400h160v-160H180v160Zm440 0h160v-160H620v160ZM180-180h160v-160H180v160Zm440 0h160v-160H620v160Z\"/>\n",
              "  </svg>\n",
              "    </button>\n",
              "\n",
              "  <style>\n",
              "    .colab-df-container {\n",
              "      display:flex;\n",
              "      gap: 12px;\n",
              "    }\n",
              "\n",
              "    .colab-df-convert {\n",
              "      background-color: #E8F0FE;\n",
              "      border: none;\n",
              "      border-radius: 50%;\n",
              "      cursor: pointer;\n",
              "      display: none;\n",
              "      fill: #1967D2;\n",
              "      height: 32px;\n",
              "      padding: 0 0 0 0;\n",
              "      width: 32px;\n",
              "    }\n",
              "\n",
              "    .colab-df-convert:hover {\n",
              "      background-color: #E2EBFA;\n",
              "      box-shadow: 0px 1px 2px rgba(60, 64, 67, 0.3), 0px 1px 3px 1px rgba(60, 64, 67, 0.15);\n",
              "      fill: #174EA6;\n",
              "    }\n",
              "\n",
              "    .colab-df-buttons div {\n",
              "      margin-bottom: 4px;\n",
              "    }\n",
              "\n",
              "    [theme=dark] .colab-df-convert {\n",
              "      background-color: #3B4455;\n",
              "      fill: #D2E3FC;\n",
              "    }\n",
              "\n",
              "    [theme=dark] .colab-df-convert:hover {\n",
              "      background-color: #434B5C;\n",
              "      box-shadow: 0px 1px 3px 1px rgba(0, 0, 0, 0.15);\n",
              "      filter: drop-shadow(0px 1px 2px rgba(0, 0, 0, 0.3));\n",
              "      fill: #FFFFFF;\n",
              "    }\n",
              "  </style>\n",
              "\n",
              "    <script>\n",
              "      const buttonEl =\n",
              "        document.querySelector('#df-671cd076-cc7e-4cc5-99c3-f43ebd4fdac6 button.colab-df-convert');\n",
              "      buttonEl.style.display =\n",
              "        google.colab.kernel.accessAllowed ? 'block' : 'none';\n",
              "\n",
              "      async function convertToInteractive(key) {\n",
              "        const element = document.querySelector('#df-671cd076-cc7e-4cc5-99c3-f43ebd4fdac6');\n",
              "        const dataTable =\n",
              "          await google.colab.kernel.invokeFunction('convertToInteractive',\n",
              "                                                    [key], {});\n",
              "        if (!dataTable) return;\n",
              "\n",
              "        const docLinkHtml = 'Like what you see? Visit the ' +\n",
              "          '<a target=\"_blank\" href=https://colab.research.google.com/notebooks/data_table.ipynb>data table notebook</a>'\n",
              "          + ' to learn more about interactive tables.';\n",
              "        element.innerHTML = '';\n",
              "        dataTable['output_type'] = 'display_data';\n",
              "        await google.colab.output.renderOutput(dataTable, element);\n",
              "        const docLink = document.createElement('div');\n",
              "        docLink.innerHTML = docLinkHtml;\n",
              "        element.appendChild(docLink);\n",
              "      }\n",
              "    </script>\n",
              "  </div>\n",
              "\n",
              "\n",
              "<div id=\"df-0432e9a4-3ceb-4ea3-9036-f7ba52dc9ae8\">\n",
              "  <button class=\"colab-df-quickchart\" onclick=\"quickchart('df-0432e9a4-3ceb-4ea3-9036-f7ba52dc9ae8')\"\n",
              "            title=\"Suggest charts.\"\n",
              "            style=\"display:none;\">\n",
              "\n",
              "<svg xmlns=\"http://www.w3.org/2000/svg\" height=\"24px\"viewBox=\"0 0 24 24\"\n",
              "     width=\"24px\">\n",
              "    <g>\n",
              "        <path d=\"M19 3H5c-1.1 0-2 .9-2 2v14c0 1.1.9 2 2 2h14c1.1 0 2-.9 2-2V5c0-1.1-.9-2-2-2zM9 17H7v-7h2v7zm4 0h-2V7h2v10zm4 0h-2v-4h2v4z\"/>\n",
              "    </g>\n",
              "</svg>\n",
              "  </button>\n",
              "\n",
              "<style>\n",
              "  .colab-df-quickchart {\n",
              "      --bg-color: #E8F0FE;\n",
              "      --fill-color: #1967D2;\n",
              "      --hover-bg-color: #E2EBFA;\n",
              "      --hover-fill-color: #174EA6;\n",
              "      --disabled-fill-color: #AAA;\n",
              "      --disabled-bg-color: #DDD;\n",
              "  }\n",
              "\n",
              "  [theme=dark] .colab-df-quickchart {\n",
              "      --bg-color: #3B4455;\n",
              "      --fill-color: #D2E3FC;\n",
              "      --hover-bg-color: #434B5C;\n",
              "      --hover-fill-color: #FFFFFF;\n",
              "      --disabled-bg-color: #3B4455;\n",
              "      --disabled-fill-color: #666;\n",
              "  }\n",
              "\n",
              "  .colab-df-quickchart {\n",
              "    background-color: var(--bg-color);\n",
              "    border: none;\n",
              "    border-radius: 50%;\n",
              "    cursor: pointer;\n",
              "    display: none;\n",
              "    fill: var(--fill-color);\n",
              "    height: 32px;\n",
              "    padding: 0;\n",
              "    width: 32px;\n",
              "  }\n",
              "\n",
              "  .colab-df-quickchart:hover {\n",
              "    background-color: var(--hover-bg-color);\n",
              "    box-shadow: 0 1px 2px rgba(60, 64, 67, 0.3), 0 1px 3px 1px rgba(60, 64, 67, 0.15);\n",
              "    fill: var(--button-hover-fill-color);\n",
              "  }\n",
              "\n",
              "  .colab-df-quickchart-complete:disabled,\n",
              "  .colab-df-quickchart-complete:disabled:hover {\n",
              "    background-color: var(--disabled-bg-color);\n",
              "    fill: var(--disabled-fill-color);\n",
              "    box-shadow: none;\n",
              "  }\n",
              "\n",
              "  .colab-df-spinner {\n",
              "    border: 2px solid var(--fill-color);\n",
              "    border-color: transparent;\n",
              "    border-bottom-color: var(--fill-color);\n",
              "    animation:\n",
              "      spin 1s steps(1) infinite;\n",
              "  }\n",
              "\n",
              "  @keyframes spin {\n",
              "    0% {\n",
              "      border-color: transparent;\n",
              "      border-bottom-color: var(--fill-color);\n",
              "      border-left-color: var(--fill-color);\n",
              "    }\n",
              "    20% {\n",
              "      border-color: transparent;\n",
              "      border-left-color: var(--fill-color);\n",
              "      border-top-color: var(--fill-color);\n",
              "    }\n",
              "    30% {\n",
              "      border-color: transparent;\n",
              "      border-left-color: var(--fill-color);\n",
              "      border-top-color: var(--fill-color);\n",
              "      border-right-color: var(--fill-color);\n",
              "    }\n",
              "    40% {\n",
              "      border-color: transparent;\n",
              "      border-right-color: var(--fill-color);\n",
              "      border-top-color: var(--fill-color);\n",
              "    }\n",
              "    60% {\n",
              "      border-color: transparent;\n",
              "      border-right-color: var(--fill-color);\n",
              "    }\n",
              "    80% {\n",
              "      border-color: transparent;\n",
              "      border-right-color: var(--fill-color);\n",
              "      border-bottom-color: var(--fill-color);\n",
              "    }\n",
              "    90% {\n",
              "      border-color: transparent;\n",
              "      border-bottom-color: var(--fill-color);\n",
              "    }\n",
              "  }\n",
              "</style>\n",
              "\n",
              "  <script>\n",
              "    async function quickchart(key) {\n",
              "      const quickchartButtonEl =\n",
              "        document.querySelector('#' + key + ' button');\n",
              "      quickchartButtonEl.disabled = true;  // To prevent multiple clicks.\n",
              "      quickchartButtonEl.classList.add('colab-df-spinner');\n",
              "      try {\n",
              "        const charts = await google.colab.kernel.invokeFunction(\n",
              "            'suggestCharts', [key], {});\n",
              "      } catch (error) {\n",
              "        console.error('Error during call to suggestCharts:', error);\n",
              "      }\n",
              "      quickchartButtonEl.classList.remove('colab-df-spinner');\n",
              "      quickchartButtonEl.classList.add('colab-df-quickchart-complete');\n",
              "    }\n",
              "    (() => {\n",
              "      let quickchartButtonEl =\n",
              "        document.querySelector('#df-0432e9a4-3ceb-4ea3-9036-f7ba52dc9ae8 button');\n",
              "      quickchartButtonEl.style.display =\n",
              "        google.colab.kernel.accessAllowed ? 'block' : 'none';\n",
              "    })();\n",
              "  </script>\n",
              "</div>\n",
              "    </div>\n",
              "  </div>\n"
            ]
          },
          "metadata": {},
          "execution_count": 16
        }
      ],
      "source": [
        "BBT1_21_query = '''\n",
        "SELECT oi.*, p.product_category_name\n",
        "FROM order_items oi\n",
        "JOIN products p ON oi.product_id = p.product_id\n",
        "ORDER BY p.product_category_name ASC;\n",
        "'''\n",
        "\n",
        "BBT1_21 = pd.read_sql_query(BBT1_21_query, conn)\n",
        "BBT1_21.head(5)"
      ]
    },
    {
      "cell_type": "markdown",
      "metadata": {
        "id": "v0mDxMlMuLWP"
      },
      "source": [
        "## BBT1-22 Extracción de datos desde las tablas order y payments"
      ]
    },
    {
      "cell_type": "markdown",
      "source": [
        "Crear un DataFrame que contenga el JOIN de la tabla orders (o) y tabla payments (op). Extraer los datos de órdenes con sus pagos asociados."
      ],
      "metadata": {
        "id": "TidPHdE_m1KB"
      }
    },
    {
      "cell_type": "code",
      "execution_count": 76,
      "metadata": {
        "id": "Q5zZFJwNuLWP",
        "colab": {
          "base_uri": "https://localhost:8080/",
          "height": 226
        },
        "outputId": "776501f4-6de7-45a3-d781-fd4c62b27222"
      },
      "outputs": [
        {
          "output_type": "execute_result",
          "data": {
            "text/plain": [
              "                        customer_id                          order_id  \\\n",
              "0  9ef432eb6251297304e76186b10a928d  e481f51cbdc54678b7cc49136f2d6af7   \n",
              "1  9ef432eb6251297304e76186b10a928d  e481f51cbdc54678b7cc49136f2d6af7   \n",
              "2  9ef432eb6251297304e76186b10a928d  e481f51cbdc54678b7cc49136f2d6af7   \n",
              "3  b0830fb4747a6c6d20dea0b8c802d7ef  53cdb2fc8bc7dce0b6741e2150273451   \n",
              "4  41ce2a54c0b03bf3443c3d931a367089  47770eb9100c2d0c44946d9cf07ec65d   \n",
              "\n",
              "  order_status payment_type  payment_value  payment_sequential  \\\n",
              "0    delivered  credit_card          18.12                   1   \n",
              "1    delivered      voucher          18.59                   2   \n",
              "2    delivered      voucher           2.00                   3   \n",
              "3    delivered       boleto         141.46                   1   \n",
              "4    delivered  credit_card         179.12                   1   \n",
              "\n",
              "   payment_installments order_purchase_timestamp    order_approved_at  \\\n",
              "0                     1      2017-10-02 10:56:33  2017-10-02 11:07:15   \n",
              "1                     1      2017-10-02 10:56:33  2017-10-02 11:07:15   \n",
              "2                     1      2017-10-02 10:56:33  2017-10-02 11:07:15   \n",
              "3                     1      2018-07-24 20:41:37  2018-07-26 03:24:27   \n",
              "4                     3      2018-08-08 08:38:49  2018-08-08 08:55:23   \n",
              "\n",
              "  order_delivered_carrier_date order_delivered_customer_date  \\\n",
              "0          2017-10-04 19:55:00           2017-10-10 21:25:13   \n",
              "1          2017-10-04 19:55:00           2017-10-10 21:25:13   \n",
              "2          2017-10-04 19:55:00           2017-10-10 21:25:13   \n",
              "3          2018-07-26 14:31:00           2018-08-07 15:27:45   \n",
              "4          2018-08-08 13:50:00           2018-08-17 18:06:29   \n",
              "\n",
              "  order_estimated_delivery_date  \n",
              "0           2017-10-18 00:00:00  \n",
              "1           2017-10-18 00:00:00  \n",
              "2           2017-10-18 00:00:00  \n",
              "3           2018-08-13 00:00:00  \n",
              "4           2018-09-04 00:00:00  "
            ],
            "text/html": [
              "\n",
              "  <div id=\"df-afb25240-569e-42ab-97eb-0d475c29d08c\" class=\"colab-df-container\">\n",
              "    <div>\n",
              "<style scoped>\n",
              "    .dataframe tbody tr th:only-of-type {\n",
              "        vertical-align: middle;\n",
              "    }\n",
              "\n",
              "    .dataframe tbody tr th {\n",
              "        vertical-align: top;\n",
              "    }\n",
              "\n",
              "    .dataframe thead th {\n",
              "        text-align: right;\n",
              "    }\n",
              "</style>\n",
              "<table border=\"1\" class=\"dataframe\">\n",
              "  <thead>\n",
              "    <tr style=\"text-align: right;\">\n",
              "      <th></th>\n",
              "      <th>customer_id</th>\n",
              "      <th>order_id</th>\n",
              "      <th>order_status</th>\n",
              "      <th>payment_type</th>\n",
              "      <th>payment_value</th>\n",
              "      <th>payment_sequential</th>\n",
              "      <th>payment_installments</th>\n",
              "      <th>order_purchase_timestamp</th>\n",
              "      <th>order_approved_at</th>\n",
              "      <th>order_delivered_carrier_date</th>\n",
              "      <th>order_delivered_customer_date</th>\n",
              "      <th>order_estimated_delivery_date</th>\n",
              "    </tr>\n",
              "  </thead>\n",
              "  <tbody>\n",
              "    <tr>\n",
              "      <th>0</th>\n",
              "      <td>9ef432eb6251297304e76186b10a928d</td>\n",
              "      <td>e481f51cbdc54678b7cc49136f2d6af7</td>\n",
              "      <td>delivered</td>\n",
              "      <td>credit_card</td>\n",
              "      <td>18.12</td>\n",
              "      <td>1</td>\n",
              "      <td>1</td>\n",
              "      <td>2017-10-02 10:56:33</td>\n",
              "      <td>2017-10-02 11:07:15</td>\n",
              "      <td>2017-10-04 19:55:00</td>\n",
              "      <td>2017-10-10 21:25:13</td>\n",
              "      <td>2017-10-18 00:00:00</td>\n",
              "    </tr>\n",
              "    <tr>\n",
              "      <th>1</th>\n",
              "      <td>9ef432eb6251297304e76186b10a928d</td>\n",
              "      <td>e481f51cbdc54678b7cc49136f2d6af7</td>\n",
              "      <td>delivered</td>\n",
              "      <td>voucher</td>\n",
              "      <td>18.59</td>\n",
              "      <td>2</td>\n",
              "      <td>1</td>\n",
              "      <td>2017-10-02 10:56:33</td>\n",
              "      <td>2017-10-02 11:07:15</td>\n",
              "      <td>2017-10-04 19:55:00</td>\n",
              "      <td>2017-10-10 21:25:13</td>\n",
              "      <td>2017-10-18 00:00:00</td>\n",
              "    </tr>\n",
              "    <tr>\n",
              "      <th>2</th>\n",
              "      <td>9ef432eb6251297304e76186b10a928d</td>\n",
              "      <td>e481f51cbdc54678b7cc49136f2d6af7</td>\n",
              "      <td>delivered</td>\n",
              "      <td>voucher</td>\n",
              "      <td>2.00</td>\n",
              "      <td>3</td>\n",
              "      <td>1</td>\n",
              "      <td>2017-10-02 10:56:33</td>\n",
              "      <td>2017-10-02 11:07:15</td>\n",
              "      <td>2017-10-04 19:55:00</td>\n",
              "      <td>2017-10-10 21:25:13</td>\n",
              "      <td>2017-10-18 00:00:00</td>\n",
              "    </tr>\n",
              "    <tr>\n",
              "      <th>3</th>\n",
              "      <td>b0830fb4747a6c6d20dea0b8c802d7ef</td>\n",
              "      <td>53cdb2fc8bc7dce0b6741e2150273451</td>\n",
              "      <td>delivered</td>\n",
              "      <td>boleto</td>\n",
              "      <td>141.46</td>\n",
              "      <td>1</td>\n",
              "      <td>1</td>\n",
              "      <td>2018-07-24 20:41:37</td>\n",
              "      <td>2018-07-26 03:24:27</td>\n",
              "      <td>2018-07-26 14:31:00</td>\n",
              "      <td>2018-08-07 15:27:45</td>\n",
              "      <td>2018-08-13 00:00:00</td>\n",
              "    </tr>\n",
              "    <tr>\n",
              "      <th>4</th>\n",
              "      <td>41ce2a54c0b03bf3443c3d931a367089</td>\n",
              "      <td>47770eb9100c2d0c44946d9cf07ec65d</td>\n",
              "      <td>delivered</td>\n",
              "      <td>credit_card</td>\n",
              "      <td>179.12</td>\n",
              "      <td>1</td>\n",
              "      <td>3</td>\n",
              "      <td>2018-08-08 08:38:49</td>\n",
              "      <td>2018-08-08 08:55:23</td>\n",
              "      <td>2018-08-08 13:50:00</td>\n",
              "      <td>2018-08-17 18:06:29</td>\n",
              "      <td>2018-09-04 00:00:00</td>\n",
              "    </tr>\n",
              "  </tbody>\n",
              "</table>\n",
              "</div>\n",
              "    <div class=\"colab-df-buttons\">\n",
              "\n",
              "  <div class=\"colab-df-container\">\n",
              "    <button class=\"colab-df-convert\" onclick=\"convertToInteractive('df-afb25240-569e-42ab-97eb-0d475c29d08c')\"\n",
              "            title=\"Convert this dataframe to an interactive table.\"\n",
              "            style=\"display:none;\">\n",
              "\n",
              "  <svg xmlns=\"http://www.w3.org/2000/svg\" height=\"24px\" viewBox=\"0 -960 960 960\">\n",
              "    <path d=\"M120-120v-720h720v720H120Zm60-500h600v-160H180v160Zm220 220h160v-160H400v160Zm0 220h160v-160H400v160ZM180-400h160v-160H180v160Zm440 0h160v-160H620v160ZM180-180h160v-160H180v160Zm440 0h160v-160H620v160Z\"/>\n",
              "  </svg>\n",
              "    </button>\n",
              "\n",
              "  <style>\n",
              "    .colab-df-container {\n",
              "      display:flex;\n",
              "      gap: 12px;\n",
              "    }\n",
              "\n",
              "    .colab-df-convert {\n",
              "      background-color: #E8F0FE;\n",
              "      border: none;\n",
              "      border-radius: 50%;\n",
              "      cursor: pointer;\n",
              "      display: none;\n",
              "      fill: #1967D2;\n",
              "      height: 32px;\n",
              "      padding: 0 0 0 0;\n",
              "      width: 32px;\n",
              "    }\n",
              "\n",
              "    .colab-df-convert:hover {\n",
              "      background-color: #E2EBFA;\n",
              "      box-shadow: 0px 1px 2px rgba(60, 64, 67, 0.3), 0px 1px 3px 1px rgba(60, 64, 67, 0.15);\n",
              "      fill: #174EA6;\n",
              "    }\n",
              "\n",
              "    .colab-df-buttons div {\n",
              "      margin-bottom: 4px;\n",
              "    }\n",
              "\n",
              "    [theme=dark] .colab-df-convert {\n",
              "      background-color: #3B4455;\n",
              "      fill: #D2E3FC;\n",
              "    }\n",
              "\n",
              "    [theme=dark] .colab-df-convert:hover {\n",
              "      background-color: #434B5C;\n",
              "      box-shadow: 0px 1px 3px 1px rgba(0, 0, 0, 0.15);\n",
              "      filter: drop-shadow(0px 1px 2px rgba(0, 0, 0, 0.3));\n",
              "      fill: #FFFFFF;\n",
              "    }\n",
              "  </style>\n",
              "\n",
              "    <script>\n",
              "      const buttonEl =\n",
              "        document.querySelector('#df-afb25240-569e-42ab-97eb-0d475c29d08c button.colab-df-convert');\n",
              "      buttonEl.style.display =\n",
              "        google.colab.kernel.accessAllowed ? 'block' : 'none';\n",
              "\n",
              "      async function convertToInteractive(key) {\n",
              "        const element = document.querySelector('#df-afb25240-569e-42ab-97eb-0d475c29d08c');\n",
              "        const dataTable =\n",
              "          await google.colab.kernel.invokeFunction('convertToInteractive',\n",
              "                                                    [key], {});\n",
              "        if (!dataTable) return;\n",
              "\n",
              "        const docLinkHtml = 'Like what you see? Visit the ' +\n",
              "          '<a target=\"_blank\" href=https://colab.research.google.com/notebooks/data_table.ipynb>data table notebook</a>'\n",
              "          + ' to learn more about interactive tables.';\n",
              "        element.innerHTML = '';\n",
              "        dataTable['output_type'] = 'display_data';\n",
              "        await google.colab.output.renderOutput(dataTable, element);\n",
              "        const docLink = document.createElement('div');\n",
              "        docLink.innerHTML = docLinkHtml;\n",
              "        element.appendChild(docLink);\n",
              "      }\n",
              "    </script>\n",
              "  </div>\n",
              "\n",
              "\n",
              "<div id=\"df-ed3c8ebd-0a78-4491-9f2e-1a8b05359bc7\">\n",
              "  <button class=\"colab-df-quickchart\" onclick=\"quickchart('df-ed3c8ebd-0a78-4491-9f2e-1a8b05359bc7')\"\n",
              "            title=\"Suggest charts.\"\n",
              "            style=\"display:none;\">\n",
              "\n",
              "<svg xmlns=\"http://www.w3.org/2000/svg\" height=\"24px\"viewBox=\"0 0 24 24\"\n",
              "     width=\"24px\">\n",
              "    <g>\n",
              "        <path d=\"M19 3H5c-1.1 0-2 .9-2 2v14c0 1.1.9 2 2 2h14c1.1 0 2-.9 2-2V5c0-1.1-.9-2-2-2zM9 17H7v-7h2v7zm4 0h-2V7h2v10zm4 0h-2v-4h2v4z\"/>\n",
              "    </g>\n",
              "</svg>\n",
              "  </button>\n",
              "\n",
              "<style>\n",
              "  .colab-df-quickchart {\n",
              "      --bg-color: #E8F0FE;\n",
              "      --fill-color: #1967D2;\n",
              "      --hover-bg-color: #E2EBFA;\n",
              "      --hover-fill-color: #174EA6;\n",
              "      --disabled-fill-color: #AAA;\n",
              "      --disabled-bg-color: #DDD;\n",
              "  }\n",
              "\n",
              "  [theme=dark] .colab-df-quickchart {\n",
              "      --bg-color: #3B4455;\n",
              "      --fill-color: #D2E3FC;\n",
              "      --hover-bg-color: #434B5C;\n",
              "      --hover-fill-color: #FFFFFF;\n",
              "      --disabled-bg-color: #3B4455;\n",
              "      --disabled-fill-color: #666;\n",
              "  }\n",
              "\n",
              "  .colab-df-quickchart {\n",
              "    background-color: var(--bg-color);\n",
              "    border: none;\n",
              "    border-radius: 50%;\n",
              "    cursor: pointer;\n",
              "    display: none;\n",
              "    fill: var(--fill-color);\n",
              "    height: 32px;\n",
              "    padding: 0;\n",
              "    width: 32px;\n",
              "  }\n",
              "\n",
              "  .colab-df-quickchart:hover {\n",
              "    background-color: var(--hover-bg-color);\n",
              "    box-shadow: 0 1px 2px rgba(60, 64, 67, 0.3), 0 1px 3px 1px rgba(60, 64, 67, 0.15);\n",
              "    fill: var(--button-hover-fill-color);\n",
              "  }\n",
              "\n",
              "  .colab-df-quickchart-complete:disabled,\n",
              "  .colab-df-quickchart-complete:disabled:hover {\n",
              "    background-color: var(--disabled-bg-color);\n",
              "    fill: var(--disabled-fill-color);\n",
              "    box-shadow: none;\n",
              "  }\n",
              "\n",
              "  .colab-df-spinner {\n",
              "    border: 2px solid var(--fill-color);\n",
              "    border-color: transparent;\n",
              "    border-bottom-color: var(--fill-color);\n",
              "    animation:\n",
              "      spin 1s steps(1) infinite;\n",
              "  }\n",
              "\n",
              "  @keyframes spin {\n",
              "    0% {\n",
              "      border-color: transparent;\n",
              "      border-bottom-color: var(--fill-color);\n",
              "      border-left-color: var(--fill-color);\n",
              "    }\n",
              "    20% {\n",
              "      border-color: transparent;\n",
              "      border-left-color: var(--fill-color);\n",
              "      border-top-color: var(--fill-color);\n",
              "    }\n",
              "    30% {\n",
              "      border-color: transparent;\n",
              "      border-left-color: var(--fill-color);\n",
              "      border-top-color: var(--fill-color);\n",
              "      border-right-color: var(--fill-color);\n",
              "    }\n",
              "    40% {\n",
              "      border-color: transparent;\n",
              "      border-right-color: var(--fill-color);\n",
              "      border-top-color: var(--fill-color);\n",
              "    }\n",
              "    60% {\n",
              "      border-color: transparent;\n",
              "      border-right-color: var(--fill-color);\n",
              "    }\n",
              "    80% {\n",
              "      border-color: transparent;\n",
              "      border-right-color: var(--fill-color);\n",
              "      border-bottom-color: var(--fill-color);\n",
              "    }\n",
              "    90% {\n",
              "      border-color: transparent;\n",
              "      border-bottom-color: var(--fill-color);\n",
              "    }\n",
              "  }\n",
              "</style>\n",
              "\n",
              "  <script>\n",
              "    async function quickchart(key) {\n",
              "      const quickchartButtonEl =\n",
              "        document.querySelector('#' + key + ' button');\n",
              "      quickchartButtonEl.disabled = true;  // To prevent multiple clicks.\n",
              "      quickchartButtonEl.classList.add('colab-df-spinner');\n",
              "      try {\n",
              "        const charts = await google.colab.kernel.invokeFunction(\n",
              "            'suggestCharts', [key], {});\n",
              "      } catch (error) {\n",
              "        console.error('Error during call to suggestCharts:', error);\n",
              "      }\n",
              "      quickchartButtonEl.classList.remove('colab-df-spinner');\n",
              "      quickchartButtonEl.classList.add('colab-df-quickchart-complete');\n",
              "    }\n",
              "    (() => {\n",
              "      let quickchartButtonEl =\n",
              "        document.querySelector('#df-ed3c8ebd-0a78-4491-9f2e-1a8b05359bc7 button');\n",
              "      quickchartButtonEl.style.display =\n",
              "        google.colab.kernel.accessAllowed ? 'block' : 'none';\n",
              "    })();\n",
              "  </script>\n",
              "</div>\n",
              "    </div>\n",
              "  </div>\n"
            ]
          },
          "metadata": {},
          "execution_count": 76
        }
      ],
      "source": [
        "BBT1_22_query = '''\n",
        "  SELECT o.customer_id, o.order_id, o.order_status, op.payment_type, op.payment_value,\n",
        "         op.payment_sequential, op.payment_installments, o.order_purchase_timestamp, o.order_approved_at,\n",
        "         o.order_delivered_carrier_date, o.order_delivered_customer_date, o.order_estimated_delivery_date\n",
        "  FROM orders o\n",
        "  JOIN order_payments op ON o.order_id = op.order_id\n",
        "  ;\n",
        "'''\n",
        "\n",
        "BBT1_22 = pd.read_sql_query(BBT1_22_query, conn)\n",
        "BBT1_22.head(5)"
      ]
    },
    {
      "cell_type": "markdown",
      "source": [
        "## BBT1-31 Filtrar datos, reducir volumen de orders_items y products"
      ],
      "metadata": {
        "id": "lanmpUKYuZbU"
      }
    },
    {
      "cell_type": "markdown",
      "source": [
        "Filtrar el DataFrame de las categorías e ítems para resguardar los 3 ítems de mayor importe.   \n",
        "PARA: Reducir el volumen de datos y trabajar solo con los ítems que mayor ingreso generan por categoría."
      ],
      "metadata": {
        "id": "CpYRv8sgum7e"
      }
    },
    {
      "cell_type": "code",
      "source": [
        "#Guardar el DF en la base de datos como tabla\n",
        "BBT1_21.to_sql('Query_BBT1_21', conn, if_exists='replace', index=True)"
      ],
      "metadata": {
        "colab": {
          "base_uri": "https://localhost:8080/"
        },
        "id": "f7eDZwZyy8LU",
        "outputId": "ccc4c8dc-ad87-4933-8e80-00c79de3528a"
      },
      "execution_count": 18,
      "outputs": [
        {
          "output_type": "execute_result",
          "data": {
            "text/plain": [
              "112650"
            ]
          },
          "metadata": {},
          "execution_count": 18
        }
      ]
    },
    {
      "cell_type": "code",
      "source": [
        "#Filtrar el DataFrame de las categorías e ítems para resguardar los 3 ítems de mayor importe por categoria\n",
        "\n",
        "BBT1_31_query = '''\n",
        "SELECT product_id, product_category_name, price, freight_value, year_month\n",
        "FROM (\n",
        "  SELECT product_id, product_category_name, price, freight_value, strftime('%Y-%m', shipping_limit_date) AS year_month,\n",
        "         ROW_NUMBER() OVER (PARTITION BY product_category_name ORDER BY price DESC) AS rn\n",
        "  FROM Query_BBT1_21\n",
        ") ranked\n",
        "  WHERE rn <=3\n",
        "  ORDER BY product_category_name ASC;\n",
        "'''\n",
        "\n",
        "BBT1_31 = pd.read_sql_query(BBT1_31_query, conn)\n",
        "BBT1_31.head(9)"
      ],
      "metadata": {
        "colab": {
          "base_uri": "https://localhost:8080/",
          "height": 332
        },
        "id": "wf_8_iOOx0RY",
        "outputId": "ea0e0541-a0eb-4dd2-f2d0-b0b25bde0bf0"
      },
      "execution_count": 19,
      "outputs": [
        {
          "output_type": "execute_result",
          "data": {
            "text/plain": [
              "                         product_id      product_category_name    price  \\\n",
              "0  4c50dcc50f1512f46096d6ef0142c4a9                       None  3980.00   \n",
              "1  0e030462875259ec0cb868f7ecf1fd5e                       None  2740.00   \n",
              "2  eed5cbd74fac3bd79b7c7ec95fa7507d                       None  1989.00   \n",
              "3  2b69866f22de8dad69c976771daba91c  agro_industria_e_comercio  2990.00   \n",
              "4  b7a60a397d4efd05c1b5d398fb9f9097  agro_industria_e_comercio  2399.00   \n",
              "5  cd2f5c10e4e8dbc701f0bb68a09fdfe8  agro_industria_e_comercio  2199.00   \n",
              "6  21b4d9c7183dd6f20f584f35c09bd361                  alimentos   274.99   \n",
              "7  618c65cb5359281b2c830b9f3f2e1f36                  alimentos   219.00   \n",
              "8  53d71d8d9d6878f6f0b9fe0ed79445d5                  alimentos   210.00   \n",
              "\n",
              "   freight_value year_month  \n",
              "0          62.74    2017-02  \n",
              "1          54.50    2017-05  \n",
              "2          34.58    2017-10  \n",
              "3         194.55    2017-11  \n",
              "4          68.33    2017-11  \n",
              "5         116.83    2017-12  \n",
              "6          10.74    2017-09  \n",
              "7          19.58    2018-08  \n",
              "8          16.57    2018-06  "
            ],
            "text/html": [
              "\n",
              "  <div id=\"df-d5835c3f-5ab6-4a4a-a7c7-93f515f27e20\" class=\"colab-df-container\">\n",
              "    <div>\n",
              "<style scoped>\n",
              "    .dataframe tbody tr th:only-of-type {\n",
              "        vertical-align: middle;\n",
              "    }\n",
              "\n",
              "    .dataframe tbody tr th {\n",
              "        vertical-align: top;\n",
              "    }\n",
              "\n",
              "    .dataframe thead th {\n",
              "        text-align: right;\n",
              "    }\n",
              "</style>\n",
              "<table border=\"1\" class=\"dataframe\">\n",
              "  <thead>\n",
              "    <tr style=\"text-align: right;\">\n",
              "      <th></th>\n",
              "      <th>product_id</th>\n",
              "      <th>product_category_name</th>\n",
              "      <th>price</th>\n",
              "      <th>freight_value</th>\n",
              "      <th>year_month</th>\n",
              "    </tr>\n",
              "  </thead>\n",
              "  <tbody>\n",
              "    <tr>\n",
              "      <th>0</th>\n",
              "      <td>4c50dcc50f1512f46096d6ef0142c4a9</td>\n",
              "      <td>None</td>\n",
              "      <td>3980.00</td>\n",
              "      <td>62.74</td>\n",
              "      <td>2017-02</td>\n",
              "    </tr>\n",
              "    <tr>\n",
              "      <th>1</th>\n",
              "      <td>0e030462875259ec0cb868f7ecf1fd5e</td>\n",
              "      <td>None</td>\n",
              "      <td>2740.00</td>\n",
              "      <td>54.50</td>\n",
              "      <td>2017-05</td>\n",
              "    </tr>\n",
              "    <tr>\n",
              "      <th>2</th>\n",
              "      <td>eed5cbd74fac3bd79b7c7ec95fa7507d</td>\n",
              "      <td>None</td>\n",
              "      <td>1989.00</td>\n",
              "      <td>34.58</td>\n",
              "      <td>2017-10</td>\n",
              "    </tr>\n",
              "    <tr>\n",
              "      <th>3</th>\n",
              "      <td>2b69866f22de8dad69c976771daba91c</td>\n",
              "      <td>agro_industria_e_comercio</td>\n",
              "      <td>2990.00</td>\n",
              "      <td>194.55</td>\n",
              "      <td>2017-11</td>\n",
              "    </tr>\n",
              "    <tr>\n",
              "      <th>4</th>\n",
              "      <td>b7a60a397d4efd05c1b5d398fb9f9097</td>\n",
              "      <td>agro_industria_e_comercio</td>\n",
              "      <td>2399.00</td>\n",
              "      <td>68.33</td>\n",
              "      <td>2017-11</td>\n",
              "    </tr>\n",
              "    <tr>\n",
              "      <th>5</th>\n",
              "      <td>cd2f5c10e4e8dbc701f0bb68a09fdfe8</td>\n",
              "      <td>agro_industria_e_comercio</td>\n",
              "      <td>2199.00</td>\n",
              "      <td>116.83</td>\n",
              "      <td>2017-12</td>\n",
              "    </tr>\n",
              "    <tr>\n",
              "      <th>6</th>\n",
              "      <td>21b4d9c7183dd6f20f584f35c09bd361</td>\n",
              "      <td>alimentos</td>\n",
              "      <td>274.99</td>\n",
              "      <td>10.74</td>\n",
              "      <td>2017-09</td>\n",
              "    </tr>\n",
              "    <tr>\n",
              "      <th>7</th>\n",
              "      <td>618c65cb5359281b2c830b9f3f2e1f36</td>\n",
              "      <td>alimentos</td>\n",
              "      <td>219.00</td>\n",
              "      <td>19.58</td>\n",
              "      <td>2018-08</td>\n",
              "    </tr>\n",
              "    <tr>\n",
              "      <th>8</th>\n",
              "      <td>53d71d8d9d6878f6f0b9fe0ed79445d5</td>\n",
              "      <td>alimentos</td>\n",
              "      <td>210.00</td>\n",
              "      <td>16.57</td>\n",
              "      <td>2018-06</td>\n",
              "    </tr>\n",
              "  </tbody>\n",
              "</table>\n",
              "</div>\n",
              "    <div class=\"colab-df-buttons\">\n",
              "\n",
              "  <div class=\"colab-df-container\">\n",
              "    <button class=\"colab-df-convert\" onclick=\"convertToInteractive('df-d5835c3f-5ab6-4a4a-a7c7-93f515f27e20')\"\n",
              "            title=\"Convert this dataframe to an interactive table.\"\n",
              "            style=\"display:none;\">\n",
              "\n",
              "  <svg xmlns=\"http://www.w3.org/2000/svg\" height=\"24px\" viewBox=\"0 -960 960 960\">\n",
              "    <path d=\"M120-120v-720h720v720H120Zm60-500h600v-160H180v160Zm220 220h160v-160H400v160Zm0 220h160v-160H400v160ZM180-400h160v-160H180v160Zm440 0h160v-160H620v160ZM180-180h160v-160H180v160Zm440 0h160v-160H620v160Z\"/>\n",
              "  </svg>\n",
              "    </button>\n",
              "\n",
              "  <style>\n",
              "    .colab-df-container {\n",
              "      display:flex;\n",
              "      gap: 12px;\n",
              "    }\n",
              "\n",
              "    .colab-df-convert {\n",
              "      background-color: #E8F0FE;\n",
              "      border: none;\n",
              "      border-radius: 50%;\n",
              "      cursor: pointer;\n",
              "      display: none;\n",
              "      fill: #1967D2;\n",
              "      height: 32px;\n",
              "      padding: 0 0 0 0;\n",
              "      width: 32px;\n",
              "    }\n",
              "\n",
              "    .colab-df-convert:hover {\n",
              "      background-color: #E2EBFA;\n",
              "      box-shadow: 0px 1px 2px rgba(60, 64, 67, 0.3), 0px 1px 3px 1px rgba(60, 64, 67, 0.15);\n",
              "      fill: #174EA6;\n",
              "    }\n",
              "\n",
              "    .colab-df-buttons div {\n",
              "      margin-bottom: 4px;\n",
              "    }\n",
              "\n",
              "    [theme=dark] .colab-df-convert {\n",
              "      background-color: #3B4455;\n",
              "      fill: #D2E3FC;\n",
              "    }\n",
              "\n",
              "    [theme=dark] .colab-df-convert:hover {\n",
              "      background-color: #434B5C;\n",
              "      box-shadow: 0px 1px 3px 1px rgba(0, 0, 0, 0.15);\n",
              "      filter: drop-shadow(0px 1px 2px rgba(0, 0, 0, 0.3));\n",
              "      fill: #FFFFFF;\n",
              "    }\n",
              "  </style>\n",
              "\n",
              "    <script>\n",
              "      const buttonEl =\n",
              "        document.querySelector('#df-d5835c3f-5ab6-4a4a-a7c7-93f515f27e20 button.colab-df-convert');\n",
              "      buttonEl.style.display =\n",
              "        google.colab.kernel.accessAllowed ? 'block' : 'none';\n",
              "\n",
              "      async function convertToInteractive(key) {\n",
              "        const element = document.querySelector('#df-d5835c3f-5ab6-4a4a-a7c7-93f515f27e20');\n",
              "        const dataTable =\n",
              "          await google.colab.kernel.invokeFunction('convertToInteractive',\n",
              "                                                    [key], {});\n",
              "        if (!dataTable) return;\n",
              "\n",
              "        const docLinkHtml = 'Like what you see? Visit the ' +\n",
              "          '<a target=\"_blank\" href=https://colab.research.google.com/notebooks/data_table.ipynb>data table notebook</a>'\n",
              "          + ' to learn more about interactive tables.';\n",
              "        element.innerHTML = '';\n",
              "        dataTable['output_type'] = 'display_data';\n",
              "        await google.colab.output.renderOutput(dataTable, element);\n",
              "        const docLink = document.createElement('div');\n",
              "        docLink.innerHTML = docLinkHtml;\n",
              "        element.appendChild(docLink);\n",
              "      }\n",
              "    </script>\n",
              "  </div>\n",
              "\n",
              "\n",
              "<div id=\"df-4de17ddf-8982-4e4e-8e4a-9f779fe48d4e\">\n",
              "  <button class=\"colab-df-quickchart\" onclick=\"quickchart('df-4de17ddf-8982-4e4e-8e4a-9f779fe48d4e')\"\n",
              "            title=\"Suggest charts.\"\n",
              "            style=\"display:none;\">\n",
              "\n",
              "<svg xmlns=\"http://www.w3.org/2000/svg\" height=\"24px\"viewBox=\"0 0 24 24\"\n",
              "     width=\"24px\">\n",
              "    <g>\n",
              "        <path d=\"M19 3H5c-1.1 0-2 .9-2 2v14c0 1.1.9 2 2 2h14c1.1 0 2-.9 2-2V5c0-1.1-.9-2-2-2zM9 17H7v-7h2v7zm4 0h-2V7h2v10zm4 0h-2v-4h2v4z\"/>\n",
              "    </g>\n",
              "</svg>\n",
              "  </button>\n",
              "\n",
              "<style>\n",
              "  .colab-df-quickchart {\n",
              "      --bg-color: #E8F0FE;\n",
              "      --fill-color: #1967D2;\n",
              "      --hover-bg-color: #E2EBFA;\n",
              "      --hover-fill-color: #174EA6;\n",
              "      --disabled-fill-color: #AAA;\n",
              "      --disabled-bg-color: #DDD;\n",
              "  }\n",
              "\n",
              "  [theme=dark] .colab-df-quickchart {\n",
              "      --bg-color: #3B4455;\n",
              "      --fill-color: #D2E3FC;\n",
              "      --hover-bg-color: #434B5C;\n",
              "      --hover-fill-color: #FFFFFF;\n",
              "      --disabled-bg-color: #3B4455;\n",
              "      --disabled-fill-color: #666;\n",
              "  }\n",
              "\n",
              "  .colab-df-quickchart {\n",
              "    background-color: var(--bg-color);\n",
              "    border: none;\n",
              "    border-radius: 50%;\n",
              "    cursor: pointer;\n",
              "    display: none;\n",
              "    fill: var(--fill-color);\n",
              "    height: 32px;\n",
              "    padding: 0;\n",
              "    width: 32px;\n",
              "  }\n",
              "\n",
              "  .colab-df-quickchart:hover {\n",
              "    background-color: var(--hover-bg-color);\n",
              "    box-shadow: 0 1px 2px rgba(60, 64, 67, 0.3), 0 1px 3px 1px rgba(60, 64, 67, 0.15);\n",
              "    fill: var(--button-hover-fill-color);\n",
              "  }\n",
              "\n",
              "  .colab-df-quickchart-complete:disabled,\n",
              "  .colab-df-quickchart-complete:disabled:hover {\n",
              "    background-color: var(--disabled-bg-color);\n",
              "    fill: var(--disabled-fill-color);\n",
              "    box-shadow: none;\n",
              "  }\n",
              "\n",
              "  .colab-df-spinner {\n",
              "    border: 2px solid var(--fill-color);\n",
              "    border-color: transparent;\n",
              "    border-bottom-color: var(--fill-color);\n",
              "    animation:\n",
              "      spin 1s steps(1) infinite;\n",
              "  }\n",
              "\n",
              "  @keyframes spin {\n",
              "    0% {\n",
              "      border-color: transparent;\n",
              "      border-bottom-color: var(--fill-color);\n",
              "      border-left-color: var(--fill-color);\n",
              "    }\n",
              "    20% {\n",
              "      border-color: transparent;\n",
              "      border-left-color: var(--fill-color);\n",
              "      border-top-color: var(--fill-color);\n",
              "    }\n",
              "    30% {\n",
              "      border-color: transparent;\n",
              "      border-left-color: var(--fill-color);\n",
              "      border-top-color: var(--fill-color);\n",
              "      border-right-color: var(--fill-color);\n",
              "    }\n",
              "    40% {\n",
              "      border-color: transparent;\n",
              "      border-right-color: var(--fill-color);\n",
              "      border-top-color: var(--fill-color);\n",
              "    }\n",
              "    60% {\n",
              "      border-color: transparent;\n",
              "      border-right-color: var(--fill-color);\n",
              "    }\n",
              "    80% {\n",
              "      border-color: transparent;\n",
              "      border-right-color: var(--fill-color);\n",
              "      border-bottom-color: var(--fill-color);\n",
              "    }\n",
              "    90% {\n",
              "      border-color: transparent;\n",
              "      border-bottom-color: var(--fill-color);\n",
              "    }\n",
              "  }\n",
              "</style>\n",
              "\n",
              "  <script>\n",
              "    async function quickchart(key) {\n",
              "      const quickchartButtonEl =\n",
              "        document.querySelector('#' + key + ' button');\n",
              "      quickchartButtonEl.disabled = true;  // To prevent multiple clicks.\n",
              "      quickchartButtonEl.classList.add('colab-df-spinner');\n",
              "      try {\n",
              "        const charts = await google.colab.kernel.invokeFunction(\n",
              "            'suggestCharts', [key], {});\n",
              "      } catch (error) {\n",
              "        console.error('Error during call to suggestCharts:', error);\n",
              "      }\n",
              "      quickchartButtonEl.classList.remove('colab-df-spinner');\n",
              "      quickchartButtonEl.classList.add('colab-df-quickchart-complete');\n",
              "    }\n",
              "    (() => {\n",
              "      let quickchartButtonEl =\n",
              "        document.querySelector('#df-4de17ddf-8982-4e4e-8e4a-9f779fe48d4e button');\n",
              "      quickchartButtonEl.style.display =\n",
              "        google.colab.kernel.accessAllowed ? 'block' : 'none';\n",
              "    })();\n",
              "  </script>\n",
              "</div>\n",
              "    </div>\n",
              "  </div>\n"
            ]
          },
          "metadata": {},
          "execution_count": 19
        }
      ]
    },
    {
      "cell_type": "markdown",
      "source": [
        "## BBT1-32 Filtrar datos, reducir volumen de order y payments"
      ],
      "metadata": {
        "id": "fzQNkPz_u3mA"
      }
    },
    {
      "cell_type": "markdown",
      "source": [
        "Filtrar el DataFrame de órdenes y pagos para resguardar los 3 pagos de mayor importe por cliente.   \n",
        "PARA: Reducir el volumen de datos y trabajar solo con los clientes que generan mas ingreso y analizar sus métodos de pagos."
      ],
      "metadata": {
        "id": "tFKbd0EKu7ea"
      }
    },
    {
      "cell_type": "code",
      "source": [
        "#Guardar el DF en la base de datos como tabla\n",
        "BBT1_22.to_sql('Query_BBT1_22', conn, if_exists='replace', index=True)"
      ],
      "metadata": {
        "id": "WWZXZMQBu-Jn",
        "colab": {
          "base_uri": "https://localhost:8080/"
        },
        "outputId": "4ebe0395-fcb2-4338-d0e9-01873bda698d"
      },
      "execution_count": 20,
      "outputs": [
        {
          "output_type": "execute_result",
          "data": {
            "text/plain": [
              "103886"
            ]
          },
          "metadata": {},
          "execution_count": 20
        }
      ]
    },
    {
      "cell_type": "markdown",
      "source": [
        "A fin de analizar la ordenes de mayor valor, y poder a su vez analizar sus métodos de pago, se crea una CTE que sume los pagos parciales por método de pago de cada orden, para poder en primera instancia reconocer las ordenes de mayor valor y luego analizar luego sus métodos de pago.\n",
        "Dado que los clientes que generaron mayores ingresos no realizaron más de 3 pagos, se limitan a 20 los registros para analisis."
      ],
      "metadata": {
        "id": "MXGVaD7W9f0r"
      }
    },
    {
      "cell_type": "code",
      "source": [
        "#Filtrar el DataFrame de ordenes y pagos para resguardar las ordenes que generaron mayores ingresos.\n",
        "\n",
        "BBT1_32_query = '''\n",
        "WITH OrderTotal AS (\n",
        "    SELECT order_id, sum(payment_value) as total_price\n",
        "    FROM Query_BBT1_22\n",
        "    GROUP BY order_id\n",
        "  )\n",
        "\n",
        "  SELECT strftime('%Y-%m', order_purchase_timestamp) AS year_month, q.customer_id, q.order_id, q.order_status, q.payment_type, q.payment_value, ot.total_price\n",
        "  FROM Query_BBT1_22 q\n",
        "  JOIN OrderTotal ot ON ot.order_id = q.order_id\n",
        "  ORDER BY total_price DESC, customer_id\n",
        "  LIMIT 20\n",
        "  ;\n",
        "\n",
        "'''\n",
        "\n",
        "BBT1_32 = pd.read_sql_query(BBT1_32_query, conn)\n",
        "BBT1_32"
      ],
      "metadata": {
        "colab": {
          "base_uri": "https://localhost:8080/",
          "height": 677
        },
        "id": "FNTEGcGEWXcO",
        "outputId": "d59e5aa8-74c1-4f5d-8e06-80a2c1feb951"
      },
      "execution_count": 95,
      "outputs": [
        {
          "output_type": "execute_result",
          "data": {
            "text/plain": [
              "   year_month                       customer_id  \\\n",
              "0     2017-09  1617b1357756262bfa56ab541c47bc16   \n",
              "1     2018-07  ec5b2ba62e574342386871631fafd3fc   \n",
              "2     2017-02  c6e2731c5b391845f6800c97401a43a9   \n",
              "3     2018-07  f48d464a0baaea338cb25f816991ab1f   \n",
              "4     2017-05  3fd6777bbce08a352fddd04e4a7cc8f6   \n",
              "5     2017-11  05455dfa7cd02f13d132aa7a6a9729c6   \n",
              "6     2017-04  df55c14d1476a9a3467f131269c2477f   \n",
              "7     2018-07  e0a2412720e9ea4f26c1ac985f6a7358   \n",
              "8     2017-04  24bbf5fd2f2e1b359ee7de94defc4a15   \n",
              "9     2018-06  3d979689f636322c62418b6346b1c6d2   \n",
              "10    2018-08  1afc82cd60e303ef09b4ef9837c9505c   \n",
              "11    2018-05  cc803a2c412833101651d3f90ca7de24   \n",
              "12    2017-04  926b6a6fb8b6081e00b335edaf578d35   \n",
              "13    2017-04  926b6a6fb8b6081e00b335edaf578d35   \n",
              "14    2018-03  35a413c7ca3c69756cb75867d6311c0d   \n",
              "15    2018-07  e9b0d0eb3015ef1c9ce6cf5b9dcbee9f   \n",
              "16    2017-02  3be2c536886b2ea4668eced3a80dd0bb   \n",
              "17    2018-06  eb7a157e8da9c488cd4ddc48711f1097   \n",
              "18    2018-06  eb7a157e8da9c488cd4ddc48711f1097   \n",
              "19    2017-03  c6695e3b1e48680db36b487419fb0398   \n",
              "\n",
              "                            order_id order_status payment_type  payment_value  \\\n",
              "0   03caa2c082116e1d31e67e9ae3700499    delivered  credit_card       13664.08   \n",
              "1   736e1922ae60d0d6a89247b851902527    delivered       boleto        7274.88   \n",
              "2   0812eb902a67711a1cb742b3cdaa65ae    delivered  credit_card        6929.31   \n",
              "3   fefacc66af859508bf1a7934eab1e97f    delivered       boleto        6922.21   \n",
              "4   f5136e38d1a14a4dbd87dff67da82701    delivered       boleto        6726.66   \n",
              "5   2cc9089445046817a7539d90805e6e5a    delivered       boleto        6081.54   \n",
              "6   a96610ab360d42a2e5335a3998b4718a    delivered  credit_card        4950.34   \n",
              "7   b4c4b76c642808cbe472a32b86cddc95     canceled  credit_card        4809.44   \n",
              "8   199af31afc78c699f0dbf71fb178d4d4    delivered  credit_card        4764.34   \n",
              "9   8dbc85d1447242f3b127dda390d56e19    delivered  credit_card        4681.78   \n",
              "10  426a9742b533fc6fed17d1fd6d143d7e    delivered  credit_card        4513.32   \n",
              "11  d2f270487125ddc41fd134c4003ad1d7    delivered   debit_card        4445.50   \n",
              "12  80dfedb6d17bf23539beeef3c768f4d7    delivered  credit_card        3360.66   \n",
              "13  80dfedb6d17bf23539beeef3c768f4d7    delivered  credit_card         834.10   \n",
              "14  68101694e5c5dc7330c91e1bbc36214f    delivered  credit_card        4175.26   \n",
              "15  b239ca7cd485940b31882363b52e6674    delivered   debit_card        4163.51   \n",
              "16  9a3966c23190dbdbaabed08e8429c006    delivered  credit_card        4042.74   \n",
              "17  9de73f3e6157169ad6c32b9f313c7dcb    delivered  credit_card        3899.00   \n",
              "18  9de73f3e6157169ad6c32b9f313c7dcb    delivered  credit_card         135.44   \n",
              "19  86c4eab1571921a6a6e248ed312f5a5a    delivered  credit_card        4016.91   \n",
              "\n",
              "    total_price  \n",
              "0      13664.08  \n",
              "1       7274.88  \n",
              "2       6929.31  \n",
              "3       6922.21  \n",
              "4       6726.66  \n",
              "5       6081.54  \n",
              "6       4950.34  \n",
              "7       4809.44  \n",
              "8       4764.34  \n",
              "9       4681.78  \n",
              "10      4513.32  \n",
              "11      4445.50  \n",
              "12      4194.76  \n",
              "13      4194.76  \n",
              "14      4175.26  \n",
              "15      4163.51  \n",
              "16      4042.74  \n",
              "17      4034.44  \n",
              "18      4034.44  \n",
              "19      4016.91  "
            ],
            "text/html": [
              "\n",
              "  <div id=\"df-0f9dbfd5-09c8-4836-a363-1e7484c149a3\" class=\"colab-df-container\">\n",
              "    <div>\n",
              "<style scoped>\n",
              "    .dataframe tbody tr th:only-of-type {\n",
              "        vertical-align: middle;\n",
              "    }\n",
              "\n",
              "    .dataframe tbody tr th {\n",
              "        vertical-align: top;\n",
              "    }\n",
              "\n",
              "    .dataframe thead th {\n",
              "        text-align: right;\n",
              "    }\n",
              "</style>\n",
              "<table border=\"1\" class=\"dataframe\">\n",
              "  <thead>\n",
              "    <tr style=\"text-align: right;\">\n",
              "      <th></th>\n",
              "      <th>year_month</th>\n",
              "      <th>customer_id</th>\n",
              "      <th>order_id</th>\n",
              "      <th>order_status</th>\n",
              "      <th>payment_type</th>\n",
              "      <th>payment_value</th>\n",
              "      <th>total_price</th>\n",
              "    </tr>\n",
              "  </thead>\n",
              "  <tbody>\n",
              "    <tr>\n",
              "      <th>0</th>\n",
              "      <td>2017-09</td>\n",
              "      <td>1617b1357756262bfa56ab541c47bc16</td>\n",
              "      <td>03caa2c082116e1d31e67e9ae3700499</td>\n",
              "      <td>delivered</td>\n",
              "      <td>credit_card</td>\n",
              "      <td>13664.08</td>\n",
              "      <td>13664.08</td>\n",
              "    </tr>\n",
              "    <tr>\n",
              "      <th>1</th>\n",
              "      <td>2018-07</td>\n",
              "      <td>ec5b2ba62e574342386871631fafd3fc</td>\n",
              "      <td>736e1922ae60d0d6a89247b851902527</td>\n",
              "      <td>delivered</td>\n",
              "      <td>boleto</td>\n",
              "      <td>7274.88</td>\n",
              "      <td>7274.88</td>\n",
              "    </tr>\n",
              "    <tr>\n",
              "      <th>2</th>\n",
              "      <td>2017-02</td>\n",
              "      <td>c6e2731c5b391845f6800c97401a43a9</td>\n",
              "      <td>0812eb902a67711a1cb742b3cdaa65ae</td>\n",
              "      <td>delivered</td>\n",
              "      <td>credit_card</td>\n",
              "      <td>6929.31</td>\n",
              "      <td>6929.31</td>\n",
              "    </tr>\n",
              "    <tr>\n",
              "      <th>3</th>\n",
              "      <td>2018-07</td>\n",
              "      <td>f48d464a0baaea338cb25f816991ab1f</td>\n",
              "      <td>fefacc66af859508bf1a7934eab1e97f</td>\n",
              "      <td>delivered</td>\n",
              "      <td>boleto</td>\n",
              "      <td>6922.21</td>\n",
              "      <td>6922.21</td>\n",
              "    </tr>\n",
              "    <tr>\n",
              "      <th>4</th>\n",
              "      <td>2017-05</td>\n",
              "      <td>3fd6777bbce08a352fddd04e4a7cc8f6</td>\n",
              "      <td>f5136e38d1a14a4dbd87dff67da82701</td>\n",
              "      <td>delivered</td>\n",
              "      <td>boleto</td>\n",
              "      <td>6726.66</td>\n",
              "      <td>6726.66</td>\n",
              "    </tr>\n",
              "    <tr>\n",
              "      <th>5</th>\n",
              "      <td>2017-11</td>\n",
              "      <td>05455dfa7cd02f13d132aa7a6a9729c6</td>\n",
              "      <td>2cc9089445046817a7539d90805e6e5a</td>\n",
              "      <td>delivered</td>\n",
              "      <td>boleto</td>\n",
              "      <td>6081.54</td>\n",
              "      <td>6081.54</td>\n",
              "    </tr>\n",
              "    <tr>\n",
              "      <th>6</th>\n",
              "      <td>2017-04</td>\n",
              "      <td>df55c14d1476a9a3467f131269c2477f</td>\n",
              "      <td>a96610ab360d42a2e5335a3998b4718a</td>\n",
              "      <td>delivered</td>\n",
              "      <td>credit_card</td>\n",
              "      <td>4950.34</td>\n",
              "      <td>4950.34</td>\n",
              "    </tr>\n",
              "    <tr>\n",
              "      <th>7</th>\n",
              "      <td>2018-07</td>\n",
              "      <td>e0a2412720e9ea4f26c1ac985f6a7358</td>\n",
              "      <td>b4c4b76c642808cbe472a32b86cddc95</td>\n",
              "      <td>canceled</td>\n",
              "      <td>credit_card</td>\n",
              "      <td>4809.44</td>\n",
              "      <td>4809.44</td>\n",
              "    </tr>\n",
              "    <tr>\n",
              "      <th>8</th>\n",
              "      <td>2017-04</td>\n",
              "      <td>24bbf5fd2f2e1b359ee7de94defc4a15</td>\n",
              "      <td>199af31afc78c699f0dbf71fb178d4d4</td>\n",
              "      <td>delivered</td>\n",
              "      <td>credit_card</td>\n",
              "      <td>4764.34</td>\n",
              "      <td>4764.34</td>\n",
              "    </tr>\n",
              "    <tr>\n",
              "      <th>9</th>\n",
              "      <td>2018-06</td>\n",
              "      <td>3d979689f636322c62418b6346b1c6d2</td>\n",
              "      <td>8dbc85d1447242f3b127dda390d56e19</td>\n",
              "      <td>delivered</td>\n",
              "      <td>credit_card</td>\n",
              "      <td>4681.78</td>\n",
              "      <td>4681.78</td>\n",
              "    </tr>\n",
              "    <tr>\n",
              "      <th>10</th>\n",
              "      <td>2018-08</td>\n",
              "      <td>1afc82cd60e303ef09b4ef9837c9505c</td>\n",
              "      <td>426a9742b533fc6fed17d1fd6d143d7e</td>\n",
              "      <td>delivered</td>\n",
              "      <td>credit_card</td>\n",
              "      <td>4513.32</td>\n",
              "      <td>4513.32</td>\n",
              "    </tr>\n",
              "    <tr>\n",
              "      <th>11</th>\n",
              "      <td>2018-05</td>\n",
              "      <td>cc803a2c412833101651d3f90ca7de24</td>\n",
              "      <td>d2f270487125ddc41fd134c4003ad1d7</td>\n",
              "      <td>delivered</td>\n",
              "      <td>debit_card</td>\n",
              "      <td>4445.50</td>\n",
              "      <td>4445.50</td>\n",
              "    </tr>\n",
              "    <tr>\n",
              "      <th>12</th>\n",
              "      <td>2017-04</td>\n",
              "      <td>926b6a6fb8b6081e00b335edaf578d35</td>\n",
              "      <td>80dfedb6d17bf23539beeef3c768f4d7</td>\n",
              "      <td>delivered</td>\n",
              "      <td>credit_card</td>\n",
              "      <td>3360.66</td>\n",
              "      <td>4194.76</td>\n",
              "    </tr>\n",
              "    <tr>\n",
              "      <th>13</th>\n",
              "      <td>2017-04</td>\n",
              "      <td>926b6a6fb8b6081e00b335edaf578d35</td>\n",
              "      <td>80dfedb6d17bf23539beeef3c768f4d7</td>\n",
              "      <td>delivered</td>\n",
              "      <td>credit_card</td>\n",
              "      <td>834.10</td>\n",
              "      <td>4194.76</td>\n",
              "    </tr>\n",
              "    <tr>\n",
              "      <th>14</th>\n",
              "      <td>2018-03</td>\n",
              "      <td>35a413c7ca3c69756cb75867d6311c0d</td>\n",
              "      <td>68101694e5c5dc7330c91e1bbc36214f</td>\n",
              "      <td>delivered</td>\n",
              "      <td>credit_card</td>\n",
              "      <td>4175.26</td>\n",
              "      <td>4175.26</td>\n",
              "    </tr>\n",
              "    <tr>\n",
              "      <th>15</th>\n",
              "      <td>2018-07</td>\n",
              "      <td>e9b0d0eb3015ef1c9ce6cf5b9dcbee9f</td>\n",
              "      <td>b239ca7cd485940b31882363b52e6674</td>\n",
              "      <td>delivered</td>\n",
              "      <td>debit_card</td>\n",
              "      <td>4163.51</td>\n",
              "      <td>4163.51</td>\n",
              "    </tr>\n",
              "    <tr>\n",
              "      <th>16</th>\n",
              "      <td>2017-02</td>\n",
              "      <td>3be2c536886b2ea4668eced3a80dd0bb</td>\n",
              "      <td>9a3966c23190dbdbaabed08e8429c006</td>\n",
              "      <td>delivered</td>\n",
              "      <td>credit_card</td>\n",
              "      <td>4042.74</td>\n",
              "      <td>4042.74</td>\n",
              "    </tr>\n",
              "    <tr>\n",
              "      <th>17</th>\n",
              "      <td>2018-06</td>\n",
              "      <td>eb7a157e8da9c488cd4ddc48711f1097</td>\n",
              "      <td>9de73f3e6157169ad6c32b9f313c7dcb</td>\n",
              "      <td>delivered</td>\n",
              "      <td>credit_card</td>\n",
              "      <td>3899.00</td>\n",
              "      <td>4034.44</td>\n",
              "    </tr>\n",
              "    <tr>\n",
              "      <th>18</th>\n",
              "      <td>2018-06</td>\n",
              "      <td>eb7a157e8da9c488cd4ddc48711f1097</td>\n",
              "      <td>9de73f3e6157169ad6c32b9f313c7dcb</td>\n",
              "      <td>delivered</td>\n",
              "      <td>credit_card</td>\n",
              "      <td>135.44</td>\n",
              "      <td>4034.44</td>\n",
              "    </tr>\n",
              "    <tr>\n",
              "      <th>19</th>\n",
              "      <td>2017-03</td>\n",
              "      <td>c6695e3b1e48680db36b487419fb0398</td>\n",
              "      <td>86c4eab1571921a6a6e248ed312f5a5a</td>\n",
              "      <td>delivered</td>\n",
              "      <td>credit_card</td>\n",
              "      <td>4016.91</td>\n",
              "      <td>4016.91</td>\n",
              "    </tr>\n",
              "  </tbody>\n",
              "</table>\n",
              "</div>\n",
              "    <div class=\"colab-df-buttons\">\n",
              "\n",
              "  <div class=\"colab-df-container\">\n",
              "    <button class=\"colab-df-convert\" onclick=\"convertToInteractive('df-0f9dbfd5-09c8-4836-a363-1e7484c149a3')\"\n",
              "            title=\"Convert this dataframe to an interactive table.\"\n",
              "            style=\"display:none;\">\n",
              "\n",
              "  <svg xmlns=\"http://www.w3.org/2000/svg\" height=\"24px\" viewBox=\"0 -960 960 960\">\n",
              "    <path d=\"M120-120v-720h720v720H120Zm60-500h600v-160H180v160Zm220 220h160v-160H400v160Zm0 220h160v-160H400v160ZM180-400h160v-160H180v160Zm440 0h160v-160H620v160ZM180-180h160v-160H180v160Zm440 0h160v-160H620v160Z\"/>\n",
              "  </svg>\n",
              "    </button>\n",
              "\n",
              "  <style>\n",
              "    .colab-df-container {\n",
              "      display:flex;\n",
              "      gap: 12px;\n",
              "    }\n",
              "\n",
              "    .colab-df-convert {\n",
              "      background-color: #E8F0FE;\n",
              "      border: none;\n",
              "      border-radius: 50%;\n",
              "      cursor: pointer;\n",
              "      display: none;\n",
              "      fill: #1967D2;\n",
              "      height: 32px;\n",
              "      padding: 0 0 0 0;\n",
              "      width: 32px;\n",
              "    }\n",
              "\n",
              "    .colab-df-convert:hover {\n",
              "      background-color: #E2EBFA;\n",
              "      box-shadow: 0px 1px 2px rgba(60, 64, 67, 0.3), 0px 1px 3px 1px rgba(60, 64, 67, 0.15);\n",
              "      fill: #174EA6;\n",
              "    }\n",
              "\n",
              "    .colab-df-buttons div {\n",
              "      margin-bottom: 4px;\n",
              "    }\n",
              "\n",
              "    [theme=dark] .colab-df-convert {\n",
              "      background-color: #3B4455;\n",
              "      fill: #D2E3FC;\n",
              "    }\n",
              "\n",
              "    [theme=dark] .colab-df-convert:hover {\n",
              "      background-color: #434B5C;\n",
              "      box-shadow: 0px 1px 3px 1px rgba(0, 0, 0, 0.15);\n",
              "      filter: drop-shadow(0px 1px 2px rgba(0, 0, 0, 0.3));\n",
              "      fill: #FFFFFF;\n",
              "    }\n",
              "  </style>\n",
              "\n",
              "    <script>\n",
              "      const buttonEl =\n",
              "        document.querySelector('#df-0f9dbfd5-09c8-4836-a363-1e7484c149a3 button.colab-df-convert');\n",
              "      buttonEl.style.display =\n",
              "        google.colab.kernel.accessAllowed ? 'block' : 'none';\n",
              "\n",
              "      async function convertToInteractive(key) {\n",
              "        const element = document.querySelector('#df-0f9dbfd5-09c8-4836-a363-1e7484c149a3');\n",
              "        const dataTable =\n",
              "          await google.colab.kernel.invokeFunction('convertToInteractive',\n",
              "                                                    [key], {});\n",
              "        if (!dataTable) return;\n",
              "\n",
              "        const docLinkHtml = 'Like what you see? Visit the ' +\n",
              "          '<a target=\"_blank\" href=https://colab.research.google.com/notebooks/data_table.ipynb>data table notebook</a>'\n",
              "          + ' to learn more about interactive tables.';\n",
              "        element.innerHTML = '';\n",
              "        dataTable['output_type'] = 'display_data';\n",
              "        await google.colab.output.renderOutput(dataTable, element);\n",
              "        const docLink = document.createElement('div');\n",
              "        docLink.innerHTML = docLinkHtml;\n",
              "        element.appendChild(docLink);\n",
              "      }\n",
              "    </script>\n",
              "  </div>\n",
              "\n",
              "\n",
              "<div id=\"df-5538f601-b3a9-48c7-8bb4-2946bda9424e\">\n",
              "  <button class=\"colab-df-quickchart\" onclick=\"quickchart('df-5538f601-b3a9-48c7-8bb4-2946bda9424e')\"\n",
              "            title=\"Suggest charts.\"\n",
              "            style=\"display:none;\">\n",
              "\n",
              "<svg xmlns=\"http://www.w3.org/2000/svg\" height=\"24px\"viewBox=\"0 0 24 24\"\n",
              "     width=\"24px\">\n",
              "    <g>\n",
              "        <path d=\"M19 3H5c-1.1 0-2 .9-2 2v14c0 1.1.9 2 2 2h14c1.1 0 2-.9 2-2V5c0-1.1-.9-2-2-2zM9 17H7v-7h2v7zm4 0h-2V7h2v10zm4 0h-2v-4h2v4z\"/>\n",
              "    </g>\n",
              "</svg>\n",
              "  </button>\n",
              "\n",
              "<style>\n",
              "  .colab-df-quickchart {\n",
              "      --bg-color: #E8F0FE;\n",
              "      --fill-color: #1967D2;\n",
              "      --hover-bg-color: #E2EBFA;\n",
              "      --hover-fill-color: #174EA6;\n",
              "      --disabled-fill-color: #AAA;\n",
              "      --disabled-bg-color: #DDD;\n",
              "  }\n",
              "\n",
              "  [theme=dark] .colab-df-quickchart {\n",
              "      --bg-color: #3B4455;\n",
              "      --fill-color: #D2E3FC;\n",
              "      --hover-bg-color: #434B5C;\n",
              "      --hover-fill-color: #FFFFFF;\n",
              "      --disabled-bg-color: #3B4455;\n",
              "      --disabled-fill-color: #666;\n",
              "  }\n",
              "\n",
              "  .colab-df-quickchart {\n",
              "    background-color: var(--bg-color);\n",
              "    border: none;\n",
              "    border-radius: 50%;\n",
              "    cursor: pointer;\n",
              "    display: none;\n",
              "    fill: var(--fill-color);\n",
              "    height: 32px;\n",
              "    padding: 0;\n",
              "    width: 32px;\n",
              "  }\n",
              "\n",
              "  .colab-df-quickchart:hover {\n",
              "    background-color: var(--hover-bg-color);\n",
              "    box-shadow: 0 1px 2px rgba(60, 64, 67, 0.3), 0 1px 3px 1px rgba(60, 64, 67, 0.15);\n",
              "    fill: var(--button-hover-fill-color);\n",
              "  }\n",
              "\n",
              "  .colab-df-quickchart-complete:disabled,\n",
              "  .colab-df-quickchart-complete:disabled:hover {\n",
              "    background-color: var(--disabled-bg-color);\n",
              "    fill: var(--disabled-fill-color);\n",
              "    box-shadow: none;\n",
              "  }\n",
              "\n",
              "  .colab-df-spinner {\n",
              "    border: 2px solid var(--fill-color);\n",
              "    border-color: transparent;\n",
              "    border-bottom-color: var(--fill-color);\n",
              "    animation:\n",
              "      spin 1s steps(1) infinite;\n",
              "  }\n",
              "\n",
              "  @keyframes spin {\n",
              "    0% {\n",
              "      border-color: transparent;\n",
              "      border-bottom-color: var(--fill-color);\n",
              "      border-left-color: var(--fill-color);\n",
              "    }\n",
              "    20% {\n",
              "      border-color: transparent;\n",
              "      border-left-color: var(--fill-color);\n",
              "      border-top-color: var(--fill-color);\n",
              "    }\n",
              "    30% {\n",
              "      border-color: transparent;\n",
              "      border-left-color: var(--fill-color);\n",
              "      border-top-color: var(--fill-color);\n",
              "      border-right-color: var(--fill-color);\n",
              "    }\n",
              "    40% {\n",
              "      border-color: transparent;\n",
              "      border-right-color: var(--fill-color);\n",
              "      border-top-color: var(--fill-color);\n",
              "    }\n",
              "    60% {\n",
              "      border-color: transparent;\n",
              "      border-right-color: var(--fill-color);\n",
              "    }\n",
              "    80% {\n",
              "      border-color: transparent;\n",
              "      border-right-color: var(--fill-color);\n",
              "      border-bottom-color: var(--fill-color);\n",
              "    }\n",
              "    90% {\n",
              "      border-color: transparent;\n",
              "      border-bottom-color: var(--fill-color);\n",
              "    }\n",
              "  }\n",
              "</style>\n",
              "\n",
              "  <script>\n",
              "    async function quickchart(key) {\n",
              "      const quickchartButtonEl =\n",
              "        document.querySelector('#' + key + ' button');\n",
              "      quickchartButtonEl.disabled = true;  // To prevent multiple clicks.\n",
              "      quickchartButtonEl.classList.add('colab-df-spinner');\n",
              "      try {\n",
              "        const charts = await google.colab.kernel.invokeFunction(\n",
              "            'suggestCharts', [key], {});\n",
              "      } catch (error) {\n",
              "        console.error('Error during call to suggestCharts:', error);\n",
              "      }\n",
              "      quickchartButtonEl.classList.remove('colab-df-spinner');\n",
              "      quickchartButtonEl.classList.add('colab-df-quickchart-complete');\n",
              "    }\n",
              "    (() => {\n",
              "      let quickchartButtonEl =\n",
              "        document.querySelector('#df-5538f601-b3a9-48c7-8bb4-2946bda9424e button');\n",
              "      quickchartButtonEl.style.display =\n",
              "        google.colab.kernel.accessAllowed ? 'block' : 'none';\n",
              "    })();\n",
              "  </script>\n",
              "</div>\n",
              "    </div>\n",
              "  </div>\n"
            ]
          },
          "metadata": {},
          "execution_count": 95
        }
      ]
    },
    {
      "cell_type": "code",
      "source": [
        "#Guardar el DF en la base de datos como tabla para analizar\n",
        "BBT1_32.to_sql('Query_BBT1_32', conn, if_exists='replace', index=True)"
      ],
      "metadata": {
        "colab": {
          "base_uri": "https://localhost:8080/"
        },
        "id": "2Cb91-twhedm",
        "outputId": "31d3d19d-6014-41a3-83e3-8ee3e1d72f45"
      },
      "execution_count": 58,
      "outputs": [
        {
          "output_type": "execute_result",
          "data": {
            "text/plain": [
              "50"
            ]
          },
          "metadata": {},
          "execution_count": 58
        }
      ]
    },
    {
      "cell_type": "markdown",
      "source": [
        "Se genera segundo filtro sobre el DF generado en esta story para analizar los métodos de pago de las ordenes que generaron mayores ingresos."
      ],
      "metadata": {
        "id": "tW0HJDHOiWk7"
      }
    },
    {
      "cell_type": "code",
      "source": [
        "BBT1_32_query_bis = '''\n",
        "SELECT year_month, payment_type, sum(payment_value) AS ingreso_total, count(payment_type) as cant_transacciones\n",
        "FROM Query_BBT1_32\n",
        "GROUP BY payment_type, year_month\n",
        "ORDER BY ingreso_total DESC\n",
        ";\n",
        "'''\n",
        "\n",
        "BBT1_32_bis = pd.read_sql_query(BBT1_32_query_bis, conn)\n",
        "BBT1_32_bis"
      ],
      "metadata": {
        "colab": {
          "base_uri": "https://localhost:8080/",
          "height": 833
        },
        "id": "0z79d5XlhCLI",
        "outputId": "d9e893f8-2768-4406-ef1c-47aec47c928c"
      },
      "execution_count": 59,
      "outputs": [
        {
          "output_type": "execute_result",
          "data": {
            "text/plain": [
              "   year_month payment_type  ingreso_total  cant_transacciones\n",
              "0     2018-06  credit_card       18337.92                   6\n",
              "1     2017-02  credit_card       18310.74                   4\n",
              "2     2018-07       boleto       17603.56                   3\n",
              "3     2017-04  credit_card       13909.44                   4\n",
              "4     2017-03  credit_card       13885.58                   4\n",
              "5     2017-09  credit_card       13664.08                   1\n",
              "6     2018-08  credit_card       10940.80                   3\n",
              "7     2017-05       boleto       10393.08                   2\n",
              "8     2018-07  credit_card        7993.78                   2\n",
              "9     2018-03  credit_card        7967.85                   2\n",
              "10    2018-05       boleto        7175.28                   2\n",
              "11    2018-04  credit_card        6736.18                   2\n",
              "12    2018-08      voucher        6368.68                   2\n",
              "13    2017-10  credit_card        6253.00                   2\n",
              "14    2017-11       boleto        6081.54                   1\n",
              "15    2018-05   debit_card        4445.50                   1\n",
              "16    2018-07   debit_card        4163.51                   1\n",
              "17    2018-01  credit_card        3826.80                   1\n",
              "18    2018-02  credit_card        3358.24                   1\n",
              "19    2017-11  credit_card        3184.55                   1\n",
              "20    2018-02       boleto        3155.82                   1\n",
              "21    2017-06  credit_card        3048.27                   1\n",
              "22    2017-07       boleto        3041.73                   1\n",
              "23    2017-12  credit_card        2183.41                   1\n",
              "24    2017-12      voucher        1113.99                   1"
            ],
            "text/html": [
              "\n",
              "  <div id=\"df-fc4943be-b0bc-479c-897d-0bd25df87747\" class=\"colab-df-container\">\n",
              "    <div>\n",
              "<style scoped>\n",
              "    .dataframe tbody tr th:only-of-type {\n",
              "        vertical-align: middle;\n",
              "    }\n",
              "\n",
              "    .dataframe tbody tr th {\n",
              "        vertical-align: top;\n",
              "    }\n",
              "\n",
              "    .dataframe thead th {\n",
              "        text-align: right;\n",
              "    }\n",
              "</style>\n",
              "<table border=\"1\" class=\"dataframe\">\n",
              "  <thead>\n",
              "    <tr style=\"text-align: right;\">\n",
              "      <th></th>\n",
              "      <th>year_month</th>\n",
              "      <th>payment_type</th>\n",
              "      <th>ingreso_total</th>\n",
              "      <th>cant_transacciones</th>\n",
              "    </tr>\n",
              "  </thead>\n",
              "  <tbody>\n",
              "    <tr>\n",
              "      <th>0</th>\n",
              "      <td>2018-06</td>\n",
              "      <td>credit_card</td>\n",
              "      <td>18337.92</td>\n",
              "      <td>6</td>\n",
              "    </tr>\n",
              "    <tr>\n",
              "      <th>1</th>\n",
              "      <td>2017-02</td>\n",
              "      <td>credit_card</td>\n",
              "      <td>18310.74</td>\n",
              "      <td>4</td>\n",
              "    </tr>\n",
              "    <tr>\n",
              "      <th>2</th>\n",
              "      <td>2018-07</td>\n",
              "      <td>boleto</td>\n",
              "      <td>17603.56</td>\n",
              "      <td>3</td>\n",
              "    </tr>\n",
              "    <tr>\n",
              "      <th>3</th>\n",
              "      <td>2017-04</td>\n",
              "      <td>credit_card</td>\n",
              "      <td>13909.44</td>\n",
              "      <td>4</td>\n",
              "    </tr>\n",
              "    <tr>\n",
              "      <th>4</th>\n",
              "      <td>2017-03</td>\n",
              "      <td>credit_card</td>\n",
              "      <td>13885.58</td>\n",
              "      <td>4</td>\n",
              "    </tr>\n",
              "    <tr>\n",
              "      <th>5</th>\n",
              "      <td>2017-09</td>\n",
              "      <td>credit_card</td>\n",
              "      <td>13664.08</td>\n",
              "      <td>1</td>\n",
              "    </tr>\n",
              "    <tr>\n",
              "      <th>6</th>\n",
              "      <td>2018-08</td>\n",
              "      <td>credit_card</td>\n",
              "      <td>10940.80</td>\n",
              "      <td>3</td>\n",
              "    </tr>\n",
              "    <tr>\n",
              "      <th>7</th>\n",
              "      <td>2017-05</td>\n",
              "      <td>boleto</td>\n",
              "      <td>10393.08</td>\n",
              "      <td>2</td>\n",
              "    </tr>\n",
              "    <tr>\n",
              "      <th>8</th>\n",
              "      <td>2018-07</td>\n",
              "      <td>credit_card</td>\n",
              "      <td>7993.78</td>\n",
              "      <td>2</td>\n",
              "    </tr>\n",
              "    <tr>\n",
              "      <th>9</th>\n",
              "      <td>2018-03</td>\n",
              "      <td>credit_card</td>\n",
              "      <td>7967.85</td>\n",
              "      <td>2</td>\n",
              "    </tr>\n",
              "    <tr>\n",
              "      <th>10</th>\n",
              "      <td>2018-05</td>\n",
              "      <td>boleto</td>\n",
              "      <td>7175.28</td>\n",
              "      <td>2</td>\n",
              "    </tr>\n",
              "    <tr>\n",
              "      <th>11</th>\n",
              "      <td>2018-04</td>\n",
              "      <td>credit_card</td>\n",
              "      <td>6736.18</td>\n",
              "      <td>2</td>\n",
              "    </tr>\n",
              "    <tr>\n",
              "      <th>12</th>\n",
              "      <td>2018-08</td>\n",
              "      <td>voucher</td>\n",
              "      <td>6368.68</td>\n",
              "      <td>2</td>\n",
              "    </tr>\n",
              "    <tr>\n",
              "      <th>13</th>\n",
              "      <td>2017-10</td>\n",
              "      <td>credit_card</td>\n",
              "      <td>6253.00</td>\n",
              "      <td>2</td>\n",
              "    </tr>\n",
              "    <tr>\n",
              "      <th>14</th>\n",
              "      <td>2017-11</td>\n",
              "      <td>boleto</td>\n",
              "      <td>6081.54</td>\n",
              "      <td>1</td>\n",
              "    </tr>\n",
              "    <tr>\n",
              "      <th>15</th>\n",
              "      <td>2018-05</td>\n",
              "      <td>debit_card</td>\n",
              "      <td>4445.50</td>\n",
              "      <td>1</td>\n",
              "    </tr>\n",
              "    <tr>\n",
              "      <th>16</th>\n",
              "      <td>2018-07</td>\n",
              "      <td>debit_card</td>\n",
              "      <td>4163.51</td>\n",
              "      <td>1</td>\n",
              "    </tr>\n",
              "    <tr>\n",
              "      <th>17</th>\n",
              "      <td>2018-01</td>\n",
              "      <td>credit_card</td>\n",
              "      <td>3826.80</td>\n",
              "      <td>1</td>\n",
              "    </tr>\n",
              "    <tr>\n",
              "      <th>18</th>\n",
              "      <td>2018-02</td>\n",
              "      <td>credit_card</td>\n",
              "      <td>3358.24</td>\n",
              "      <td>1</td>\n",
              "    </tr>\n",
              "    <tr>\n",
              "      <th>19</th>\n",
              "      <td>2017-11</td>\n",
              "      <td>credit_card</td>\n",
              "      <td>3184.55</td>\n",
              "      <td>1</td>\n",
              "    </tr>\n",
              "    <tr>\n",
              "      <th>20</th>\n",
              "      <td>2018-02</td>\n",
              "      <td>boleto</td>\n",
              "      <td>3155.82</td>\n",
              "      <td>1</td>\n",
              "    </tr>\n",
              "    <tr>\n",
              "      <th>21</th>\n",
              "      <td>2017-06</td>\n",
              "      <td>credit_card</td>\n",
              "      <td>3048.27</td>\n",
              "      <td>1</td>\n",
              "    </tr>\n",
              "    <tr>\n",
              "      <th>22</th>\n",
              "      <td>2017-07</td>\n",
              "      <td>boleto</td>\n",
              "      <td>3041.73</td>\n",
              "      <td>1</td>\n",
              "    </tr>\n",
              "    <tr>\n",
              "      <th>23</th>\n",
              "      <td>2017-12</td>\n",
              "      <td>credit_card</td>\n",
              "      <td>2183.41</td>\n",
              "      <td>1</td>\n",
              "    </tr>\n",
              "    <tr>\n",
              "      <th>24</th>\n",
              "      <td>2017-12</td>\n",
              "      <td>voucher</td>\n",
              "      <td>1113.99</td>\n",
              "      <td>1</td>\n",
              "    </tr>\n",
              "  </tbody>\n",
              "</table>\n",
              "</div>\n",
              "    <div class=\"colab-df-buttons\">\n",
              "\n",
              "  <div class=\"colab-df-container\">\n",
              "    <button class=\"colab-df-convert\" onclick=\"convertToInteractive('df-fc4943be-b0bc-479c-897d-0bd25df87747')\"\n",
              "            title=\"Convert this dataframe to an interactive table.\"\n",
              "            style=\"display:none;\">\n",
              "\n",
              "  <svg xmlns=\"http://www.w3.org/2000/svg\" height=\"24px\" viewBox=\"0 -960 960 960\">\n",
              "    <path d=\"M120-120v-720h720v720H120Zm60-500h600v-160H180v160Zm220 220h160v-160H400v160Zm0 220h160v-160H400v160ZM180-400h160v-160H180v160Zm440 0h160v-160H620v160ZM180-180h160v-160H180v160Zm440 0h160v-160H620v160Z\"/>\n",
              "  </svg>\n",
              "    </button>\n",
              "\n",
              "  <style>\n",
              "    .colab-df-container {\n",
              "      display:flex;\n",
              "      gap: 12px;\n",
              "    }\n",
              "\n",
              "    .colab-df-convert {\n",
              "      background-color: #E8F0FE;\n",
              "      border: none;\n",
              "      border-radius: 50%;\n",
              "      cursor: pointer;\n",
              "      display: none;\n",
              "      fill: #1967D2;\n",
              "      height: 32px;\n",
              "      padding: 0 0 0 0;\n",
              "      width: 32px;\n",
              "    }\n",
              "\n",
              "    .colab-df-convert:hover {\n",
              "      background-color: #E2EBFA;\n",
              "      box-shadow: 0px 1px 2px rgba(60, 64, 67, 0.3), 0px 1px 3px 1px rgba(60, 64, 67, 0.15);\n",
              "      fill: #174EA6;\n",
              "    }\n",
              "\n",
              "    .colab-df-buttons div {\n",
              "      margin-bottom: 4px;\n",
              "    }\n",
              "\n",
              "    [theme=dark] .colab-df-convert {\n",
              "      background-color: #3B4455;\n",
              "      fill: #D2E3FC;\n",
              "    }\n",
              "\n",
              "    [theme=dark] .colab-df-convert:hover {\n",
              "      background-color: #434B5C;\n",
              "      box-shadow: 0px 1px 3px 1px rgba(0, 0, 0, 0.15);\n",
              "      filter: drop-shadow(0px 1px 2px rgba(0, 0, 0, 0.3));\n",
              "      fill: #FFFFFF;\n",
              "    }\n",
              "  </style>\n",
              "\n",
              "    <script>\n",
              "      const buttonEl =\n",
              "        document.querySelector('#df-fc4943be-b0bc-479c-897d-0bd25df87747 button.colab-df-convert');\n",
              "      buttonEl.style.display =\n",
              "        google.colab.kernel.accessAllowed ? 'block' : 'none';\n",
              "\n",
              "      async function convertToInteractive(key) {\n",
              "        const element = document.querySelector('#df-fc4943be-b0bc-479c-897d-0bd25df87747');\n",
              "        const dataTable =\n",
              "          await google.colab.kernel.invokeFunction('convertToInteractive',\n",
              "                                                    [key], {});\n",
              "        if (!dataTable) return;\n",
              "\n",
              "        const docLinkHtml = 'Like what you see? Visit the ' +\n",
              "          '<a target=\"_blank\" href=https://colab.research.google.com/notebooks/data_table.ipynb>data table notebook</a>'\n",
              "          + ' to learn more about interactive tables.';\n",
              "        element.innerHTML = '';\n",
              "        dataTable['output_type'] = 'display_data';\n",
              "        await google.colab.output.renderOutput(dataTable, element);\n",
              "        const docLink = document.createElement('div');\n",
              "        docLink.innerHTML = docLinkHtml;\n",
              "        element.appendChild(docLink);\n",
              "      }\n",
              "    </script>\n",
              "  </div>\n",
              "\n",
              "\n",
              "<div id=\"df-f801ac76-4f9d-4314-aeb8-873a8be59fc4\">\n",
              "  <button class=\"colab-df-quickchart\" onclick=\"quickchart('df-f801ac76-4f9d-4314-aeb8-873a8be59fc4')\"\n",
              "            title=\"Suggest charts.\"\n",
              "            style=\"display:none;\">\n",
              "\n",
              "<svg xmlns=\"http://www.w3.org/2000/svg\" height=\"24px\"viewBox=\"0 0 24 24\"\n",
              "     width=\"24px\">\n",
              "    <g>\n",
              "        <path d=\"M19 3H5c-1.1 0-2 .9-2 2v14c0 1.1.9 2 2 2h14c1.1 0 2-.9 2-2V5c0-1.1-.9-2-2-2zM9 17H7v-7h2v7zm4 0h-2V7h2v10zm4 0h-2v-4h2v4z\"/>\n",
              "    </g>\n",
              "</svg>\n",
              "  </button>\n",
              "\n",
              "<style>\n",
              "  .colab-df-quickchart {\n",
              "      --bg-color: #E8F0FE;\n",
              "      --fill-color: #1967D2;\n",
              "      --hover-bg-color: #E2EBFA;\n",
              "      --hover-fill-color: #174EA6;\n",
              "      --disabled-fill-color: #AAA;\n",
              "      --disabled-bg-color: #DDD;\n",
              "  }\n",
              "\n",
              "  [theme=dark] .colab-df-quickchart {\n",
              "      --bg-color: #3B4455;\n",
              "      --fill-color: #D2E3FC;\n",
              "      --hover-bg-color: #434B5C;\n",
              "      --hover-fill-color: #FFFFFF;\n",
              "      --disabled-bg-color: #3B4455;\n",
              "      --disabled-fill-color: #666;\n",
              "  }\n",
              "\n",
              "  .colab-df-quickchart {\n",
              "    background-color: var(--bg-color);\n",
              "    border: none;\n",
              "    border-radius: 50%;\n",
              "    cursor: pointer;\n",
              "    display: none;\n",
              "    fill: var(--fill-color);\n",
              "    height: 32px;\n",
              "    padding: 0;\n",
              "    width: 32px;\n",
              "  }\n",
              "\n",
              "  .colab-df-quickchart:hover {\n",
              "    background-color: var(--hover-bg-color);\n",
              "    box-shadow: 0 1px 2px rgba(60, 64, 67, 0.3), 0 1px 3px 1px rgba(60, 64, 67, 0.15);\n",
              "    fill: var(--button-hover-fill-color);\n",
              "  }\n",
              "\n",
              "  .colab-df-quickchart-complete:disabled,\n",
              "  .colab-df-quickchart-complete:disabled:hover {\n",
              "    background-color: var(--disabled-bg-color);\n",
              "    fill: var(--disabled-fill-color);\n",
              "    box-shadow: none;\n",
              "  }\n",
              "\n",
              "  .colab-df-spinner {\n",
              "    border: 2px solid var(--fill-color);\n",
              "    border-color: transparent;\n",
              "    border-bottom-color: var(--fill-color);\n",
              "    animation:\n",
              "      spin 1s steps(1) infinite;\n",
              "  }\n",
              "\n",
              "  @keyframes spin {\n",
              "    0% {\n",
              "      border-color: transparent;\n",
              "      border-bottom-color: var(--fill-color);\n",
              "      border-left-color: var(--fill-color);\n",
              "    }\n",
              "    20% {\n",
              "      border-color: transparent;\n",
              "      border-left-color: var(--fill-color);\n",
              "      border-top-color: var(--fill-color);\n",
              "    }\n",
              "    30% {\n",
              "      border-color: transparent;\n",
              "      border-left-color: var(--fill-color);\n",
              "      border-top-color: var(--fill-color);\n",
              "      border-right-color: var(--fill-color);\n",
              "    }\n",
              "    40% {\n",
              "      border-color: transparent;\n",
              "      border-right-color: var(--fill-color);\n",
              "      border-top-color: var(--fill-color);\n",
              "    }\n",
              "    60% {\n",
              "      border-color: transparent;\n",
              "      border-right-color: var(--fill-color);\n",
              "    }\n",
              "    80% {\n",
              "      border-color: transparent;\n",
              "      border-right-color: var(--fill-color);\n",
              "      border-bottom-color: var(--fill-color);\n",
              "    }\n",
              "    90% {\n",
              "      border-color: transparent;\n",
              "      border-bottom-color: var(--fill-color);\n",
              "    }\n",
              "  }\n",
              "</style>\n",
              "\n",
              "  <script>\n",
              "    async function quickchart(key) {\n",
              "      const quickchartButtonEl =\n",
              "        document.querySelector('#' + key + ' button');\n",
              "      quickchartButtonEl.disabled = true;  // To prevent multiple clicks.\n",
              "      quickchartButtonEl.classList.add('colab-df-spinner');\n",
              "      try {\n",
              "        const charts = await google.colab.kernel.invokeFunction(\n",
              "            'suggestCharts', [key], {});\n",
              "      } catch (error) {\n",
              "        console.error('Error during call to suggestCharts:', error);\n",
              "      }\n",
              "      quickchartButtonEl.classList.remove('colab-df-spinner');\n",
              "      quickchartButtonEl.classList.add('colab-df-quickchart-complete');\n",
              "    }\n",
              "    (() => {\n",
              "      let quickchartButtonEl =\n",
              "        document.querySelector('#df-f801ac76-4f9d-4314-aeb8-873a8be59fc4 button');\n",
              "      quickchartButtonEl.style.display =\n",
              "        google.colab.kernel.accessAllowed ? 'block' : 'none';\n",
              "    })();\n",
              "  </script>\n",
              "</div>\n",
              "    </div>\n",
              "  </div>\n"
            ]
          },
          "metadata": {},
          "execution_count": 59
        }
      ]
    },
    {
      "cell_type": "markdown",
      "source": [
        "## BBT1-41 Carga de datos, generacion de archivos .csv de orders_items y products"
      ],
      "metadata": {
        "id": "aG2Za9VDvGV2"
      }
    },
    {
      "cell_type": "markdown",
      "source": [
        "Generar archivos .csv a partir del Dataframe generado de orders_items y products.\n",
        "Los archivos deben cumplir los siguientes requerimientos:\n",
        "Contener cabecera.\n",
        "Separador “,”.\n",
        "Ser guardados en un directorio llamado Results\\Analysis_D.\n",
        "PARA: Resguardar los datos enriquecidos, según requerimiento."
      ],
      "metadata": {
        "id": "8ThioTeTvPma"
      }
    },
    {
      "cell_type": "markdown",
      "source": [
        "**Se omite la creación del directorio y se asume que el directorio especificado ya existe:**"
      ],
      "metadata": {
        "id": "6ZQ9FmjDmlEr"
      }
    },
    {
      "cell_type": "code",
      "source": [
        "#Nombre del archivo.csv\n",
        "csv_filename = 'BBT1_31.csv'\n",
        "\n",
        "# Ruta completa del archivo CSV\n",
        "csv_path = 'Results/Analysis_D/' + csv_filename\n",
        "\n",
        "BBT1_31.to_csv('BBT1_31.csv', index=False, sep=',', header=True)\n",
        "\n",
        "print(f'Archivo CSV guardado en: {csv_path}')"
      ],
      "metadata": {
        "id": "OXecJs3TvWb8",
        "colab": {
          "base_uri": "https://localhost:8080/"
        },
        "outputId": "6bb66d0c-c04d-481e-ed3a-7c22e962a5d8"
      },
      "execution_count": 24,
      "outputs": [
        {
          "output_type": "stream",
          "name": "stdout",
          "text": [
            "Archivo CSV guardado en: Results/Analysis_D/BBT1_31.csv\n"
          ]
        }
      ]
    },
    {
      "cell_type": "markdown",
      "source": [
        "## BBT1-42 Carga de datos, generacion de archivos .csv  de order y payments"
      ],
      "metadata": {
        "id": "g-3iovN_vJa7"
      }
    },
    {
      "cell_type": "markdown",
      "source": [
        "Generar archivos .csv a partir del Dataframe generado de orders y payments.\n",
        "Los archivos deben cumplir los siguientes requerimientos:\n",
        "Contener cabecera.\n",
        "Separador “,”.\n",
        "Ser guardados en un directorio llamado Results\\Analysis_E.\n",
        "PARA: Resguardar los datos enriquecidos, según requerimiento."
      ],
      "metadata": {
        "id": "E2YaWnzFvVFo"
      }
    },
    {
      "cell_type": "markdown",
      "source": [
        "**Se omite la creación del directorio y se asume que el directorio especificado ya existe:**"
      ],
      "metadata": {
        "id": "KS6roAlznrKm"
      }
    },
    {
      "cell_type": "code",
      "source": [
        "#Nombre del archivo.csv\n",
        "csv_filename = 'BBT1_32.csv'\n",
        "\n",
        "# Ruta completa del archivo CSV\n",
        "csv_path = 'Results/Analysis_E/' + csv_filename\n",
        "\n",
        "BBT1_32.to_csv('BBT1_32.csv', index=False, sep=',', header=True)\n",
        "\n",
        "print(f'Archivo CSV guardado en: {csv_path}')"
      ],
      "metadata": {
        "id": "1rjx3hBkvW-w",
        "colab": {
          "base_uri": "https://localhost:8080/"
        },
        "outputId": "cf3db3af-d4b6-4bec-c749-a1f401e63469"
      },
      "execution_count": 60,
      "outputs": [
        {
          "output_type": "stream",
          "name": "stdout",
          "text": [
            "Archivo CSV guardado en: Results/Analysis_E/BBT1_32.csv\n"
          ]
        }
      ]
    },
    {
      "cell_type": "markdown",
      "source": [
        "Se realiza el guardado de la segunda consulta del filtrado tambien."
      ],
      "metadata": {
        "id": "kLd7Q_mI6M6g"
      }
    },
    {
      "cell_type": "code",
      "source": [
        "#Nombre del archivo.csv\n",
        "csv_filename = 'BBT1_32_bis.csv'\n",
        "\n",
        "# Ruta completa del archivo CSV\n",
        "csv_path = 'Results/Analysis_E/' + csv_filename\n",
        "\n",
        "BBT1_32_bis.to_csv('BBT1_32_bis.csv', index=False, sep=',', header=True)\n",
        "\n",
        "print(f'Archivo CSV guardado en: {csv_path}')"
      ],
      "metadata": {
        "colab": {
          "base_uri": "https://localhost:8080/"
        },
        "id": "CdUgS5Ib6GCs",
        "outputId": "b3e0df4c-3b70-4096-a0fa-3c9aead8ffee"
      },
      "execution_count": 61,
      "outputs": [
        {
          "output_type": "stream",
          "name": "stdout",
          "text": [
            "Archivo CSV guardado en: Results/Analysis_E/BBT1_32_bis.csv\n"
          ]
        }
      ]
    },
    {
      "cell_type": "markdown",
      "source": [
        "## BBT1-51 Extraccion de datos desde .csv, análisis D"
      ],
      "metadata": {
        "id": "wRRYigMlvZ0K"
      }
    },
    {
      "cell_type": "markdown",
      "source": [
        "QUIERO: Cargar los datos del análisis D generados en un DataFrame.\n",
        "PARA: Poder analizar el conjunto de datos."
      ],
      "metadata": {
        "id": "qNtMtNlQvacl"
      }
    },
    {
      "cell_type": "code",
      "source": [
        "!pip install pyspark"
      ],
      "metadata": {
        "id": "SYz103NrvimV"
      },
      "execution_count": null,
      "outputs": []
    },
    {
      "cell_type": "code",
      "source": [
        "from pyspark.sql import SparkSession\n",
        "from pyspark.sql.functions import date_format\n",
        "spark = SparkSession.builder.getOrCreate()"
      ],
      "metadata": {
        "id": "8pcaooN1uHcw"
      },
      "execution_count": 28,
      "outputs": []
    },
    {
      "cell_type": "code",
      "source": [
        "path_bbt1_31 = '/content/BBT1_31.csv'\n",
        "bbt1_21_spark = spark.read.load(path_bbt1_31, format='csv', sep=',', inferSchema='true', header='true')\n",
        "\n",
        "#Transformo la columna year_month a año y mes.\n",
        "bbt1_21_spark = bbt1_21_spark.withColumn(\"year\", date_format(\"year_month\", \"yyyy\"))\n",
        "bbt1_21_spark.show(6)"
      ],
      "metadata": {
        "colab": {
          "base_uri": "https://localhost:8080/"
        },
        "id": "ebLjdAoPuIEU",
        "outputId": "086a3d91-48e4-4e40-f191-8da3fe9e670f"
      },
      "execution_count": 29,
      "outputs": [
        {
          "output_type": "stream",
          "name": "stdout",
          "text": [
            "+--------------------+---------------------+------+-------------+-------------------+----+\n",
            "|          product_id|product_category_name| price|freight_value|         year_month|year|\n",
            "+--------------------+---------------------+------+-------------+-------------------+----+\n",
            "|4c50dcc50f1512f46...|                 null|3980.0|        62.74|2017-02-01 00:00:00|2017|\n",
            "|0e030462875259ec0...|                 null|2740.0|         54.5|2017-05-01 00:00:00|2017|\n",
            "|eed5cbd74fac3bd79...|                 null|1989.0|        34.58|2017-10-01 00:00:00|2017|\n",
            "|2b69866f22de8dad6...| agro_industria_e_...|2990.0|       194.55|2017-11-01 00:00:00|2017|\n",
            "|b7a60a397d4efd05c...| agro_industria_e_...|2399.0|        68.33|2017-11-01 00:00:00|2017|\n",
            "|cd2f5c10e4e8dbc70...| agro_industria_e_...|2199.0|       116.83|2017-12-01 00:00:00|2017|\n",
            "+--------------------+---------------------+------+-------------+-------------------+----+\n",
            "only showing top 6 rows\n",
            "\n"
          ]
        }
      ]
    },
    {
      "cell_type": "markdown",
      "source": [
        "## BBT1-52 Extraccion de datos desde .csv, análisis E"
      ],
      "metadata": {
        "id": "Zh5XCGP7va6U"
      }
    },
    {
      "cell_type": "markdown",
      "source": [
        "QUIERO: Cargar los datos del análisis E generados en un DataFrame.\n",
        "PARA: Poder analizar el conjunto de datos."
      ],
      "metadata": {
        "id": "GOqiA84rvbLi"
      }
    },
    {
      "cell_type": "code",
      "source": [
        "from pyspark.sql import SparkSession\n",
        "spark = SparkSession.builder.getOrCreate()"
      ],
      "metadata": {
        "id": "x8-ple7xvoDc"
      },
      "execution_count": 62,
      "outputs": []
    },
    {
      "cell_type": "code",
      "source": [
        "path_bbt1_32 = '/content/BBT1_32.csv'\n",
        "bbt1_32_spark = spark.read.load(path_bbt1_32, format='csv', sep=',', inferSchema='true', header='true')\n",
        "\n",
        "#Transformo la columna year_month a año y mes.\n",
        "bbt1_32_spark = bbt1_32_spark.withColumn(\"year_month\", date_format(\"year_month\", \"yyyy-MM\"))\n",
        "bbt1_32_spark.show(5)"
      ],
      "metadata": {
        "colab": {
          "base_uri": "https://localhost:8080/"
        },
        "id": "oWs5pt-lurs8",
        "outputId": "19addecf-43dc-4650-e779-7e84104cee72"
      },
      "execution_count": 63,
      "outputs": [
        {
          "output_type": "stream",
          "name": "stdout",
          "text": [
            "+----------+--------------------+--------------------+------------+------------+-------------+-----------+\n",
            "|year_month|         customer_id|            order_id|order_status|payment_type|payment_value|total_price|\n",
            "+----------+--------------------+--------------------+------------+------------+-------------+-----------+\n",
            "|   2017-09|1617b1357756262bf...|03caa2c082116e1d3...|   delivered| credit_card|     13664.08|   13664.08|\n",
            "|   2018-07|ec5b2ba62e5743423...|736e1922ae60d0d6a...|   delivered|      boleto|      7274.88|    7274.88|\n",
            "|   2017-02|c6e2731c5b391845f...|0812eb902a67711a1...|   delivered| credit_card|      6929.31|    6929.31|\n",
            "|   2018-07|f48d464a0baaea338...|fefacc66af859508b...|   delivered|      boleto|      6922.21|    6922.21|\n",
            "|   2017-05|3fd6777bbce08a352...|f5136e38d1a14a4db...|   delivered|      boleto|      6726.66|    6726.66|\n",
            "+----------+--------------------+--------------------+------------+------------+-------------+-----------+\n",
            "only showing top 5 rows\n",
            "\n"
          ]
        }
      ]
    },
    {
      "cell_type": "markdown",
      "source": [
        "Extraccion de datos desde segunda tabla creada anteriormente"
      ],
      "metadata": {
        "id": "hf1v0T3163N-"
      }
    },
    {
      "cell_type": "code",
      "source": [
        "from pyspark.sql import SparkSession\n",
        "spark = SparkSession.builder.getOrCreate()"
      ],
      "metadata": {
        "id": "7xNRZVkV66su"
      },
      "execution_count": 64,
      "outputs": []
    },
    {
      "cell_type": "code",
      "source": [
        "path_bbt1_32_bis = '/content/BBT1_32_bis.csv'\n",
        "bbt1_32_bis_spark = spark.read.load(path_bbt1_32_bis, format='csv', sep=',', inferSchema='true', header='true')\n",
        "\n",
        "#Transformo la columna year_month a año y mes.\n",
        "bbt1_32_bis_spark = bbt1_32_bis_spark.withColumn(\"year_month\", date_format(\"year_month\", \"yyyy-MM\"))\n",
        "bbt1_32_bis_spark.show(5)"
      ],
      "metadata": {
        "colab": {
          "base_uri": "https://localhost:8080/"
        },
        "id": "mqnaRBjb67yV",
        "outputId": "38fa70a9-2093-49ee-f0ea-60c7b57307a4"
      },
      "execution_count": 65,
      "outputs": [
        {
          "output_type": "stream",
          "name": "stdout",
          "text": [
            "+----------+------------+------------------+------------------+\n",
            "|year_month|payment_type|     ingreso_total|cant_transacciones|\n",
            "+----------+------------+------------------+------------------+\n",
            "|   2018-06| credit_card|          18337.92|                 6|\n",
            "|   2017-02| credit_card|18310.739999999998|                 4|\n",
            "|   2018-07|      boleto|          17603.56|                 3|\n",
            "|   2017-04| credit_card|          13909.44|                 4|\n",
            "|   2017-03| credit_card|13885.580000000002|                 4|\n",
            "+----------+------------+------------------+------------------+\n",
            "only showing top 5 rows\n",
            "\n"
          ]
        }
      ]
    },
    {
      "cell_type": "markdown",
      "source": [
        "## BBT1-61 Creacion de vistas temporales, análisis D"
      ],
      "metadata": {
        "id": "JNY_pDm7BxpD"
      }
    },
    {
      "cell_type": "markdown",
      "source": [
        "Generar una vista temporal a partir del DataFrame de Análisis D.\n",
        "PARA: Preparar los datos para trabajar con SparkSQL."
      ],
      "metadata": {
        "id": "Z1roY-Q9B478"
      }
    },
    {
      "cell_type": "code",
      "source": [
        "# Creo vista temporal a partir de DF de Analisis D\n",
        "bbt1_21_spark.createOrReplaceTempView('Vista_D')"
      ],
      "metadata": {
        "id": "74EPOJ0nCB5s"
      },
      "execution_count": 34,
      "outputs": []
    },
    {
      "cell_type": "code",
      "source": [
        "# Visualizacion\n",
        "consulta_vista_D = spark.sql('SELECT * FROM Vista_D')\n",
        "consulta_vista_D.show(6)"
      ],
      "metadata": {
        "colab": {
          "base_uri": "https://localhost:8080/"
        },
        "id": "upIeFZsPevqj",
        "outputId": "e062d8d9-dadd-43f0-f999-14a8dacdaebe"
      },
      "execution_count": 35,
      "outputs": [
        {
          "output_type": "stream",
          "name": "stdout",
          "text": [
            "+--------------------+---------------------+------+-------------+-------------------+----+\n",
            "|          product_id|product_category_name| price|freight_value|         year_month|year|\n",
            "+--------------------+---------------------+------+-------------+-------------------+----+\n",
            "|4c50dcc50f1512f46...|                 null|3980.0|        62.74|2017-02-01 00:00:00|2017|\n",
            "|0e030462875259ec0...|                 null|2740.0|         54.5|2017-05-01 00:00:00|2017|\n",
            "|eed5cbd74fac3bd79...|                 null|1989.0|        34.58|2017-10-01 00:00:00|2017|\n",
            "|2b69866f22de8dad6...| agro_industria_e_...|2990.0|       194.55|2017-11-01 00:00:00|2017|\n",
            "|b7a60a397d4efd05c...| agro_industria_e_...|2399.0|        68.33|2017-11-01 00:00:00|2017|\n",
            "|cd2f5c10e4e8dbc70...| agro_industria_e_...|2199.0|       116.83|2017-12-01 00:00:00|2017|\n",
            "+--------------------+---------------------+------+-------------+-------------------+----+\n",
            "only showing top 6 rows\n",
            "\n"
          ]
        }
      ]
    },
    {
      "cell_type": "markdown",
      "source": [
        "## BBT1-62 Creacion de vistas temporales, análisis E"
      ],
      "metadata": {
        "id": "EAcdmJe3ByLg"
      }
    },
    {
      "cell_type": "markdown",
      "source": [
        "Generar una vista temporal a partir del DataFrame de Análisis E.\n",
        "PARA: Preparar los datos para trabajar con SparkSQL."
      ],
      "metadata": {
        "id": "ZvE8z3-mCDXB"
      }
    },
    {
      "cell_type": "code",
      "source": [
        "# Creo vista temporal a partir de DF de Analisis E\n",
        "bbt1_32_spark.createOrReplaceTempView('Vista_E')"
      ],
      "metadata": {
        "id": "CXs-BmpGCGGS"
      },
      "execution_count": 66,
      "outputs": []
    },
    {
      "cell_type": "code",
      "source": [
        "# Visualizacion\n",
        "consulta_vista_E = spark.sql('SELECT * FROM Vista_E')\n",
        "consulta_vista_E.show(5)"
      ],
      "metadata": {
        "colab": {
          "base_uri": "https://localhost:8080/"
        },
        "id": "vxhq_4nUi-lm",
        "outputId": "01bf2061-5458-4962-f105-f6dcfb8d0a47"
      },
      "execution_count": 67,
      "outputs": [
        {
          "output_type": "stream",
          "name": "stdout",
          "text": [
            "+----------+--------------------+--------------------+------------+------------+-------------+-----------+\n",
            "|year_month|         customer_id|            order_id|order_status|payment_type|payment_value|total_price|\n",
            "+----------+--------------------+--------------------+------------+------------+-------------+-----------+\n",
            "|   2017-09|1617b1357756262bf...|03caa2c082116e1d3...|   delivered| credit_card|     13664.08|   13664.08|\n",
            "|   2018-07|ec5b2ba62e5743423...|736e1922ae60d0d6a...|   delivered|      boleto|      7274.88|    7274.88|\n",
            "|   2017-02|c6e2731c5b391845f...|0812eb902a67711a1...|   delivered| credit_card|      6929.31|    6929.31|\n",
            "|   2018-07|f48d464a0baaea338...|fefacc66af859508b...|   delivered|      boleto|      6922.21|    6922.21|\n",
            "|   2017-05|3fd6777bbce08a352...|f5136e38d1a14a4db...|   delivered|      boleto|      6726.66|    6726.66|\n",
            "+----------+--------------------+--------------------+------------+------------+-------------+-----------+\n",
            "only showing top 5 rows\n",
            "\n"
          ]
        }
      ]
    },
    {
      "cell_type": "code",
      "source": [
        "# Creo vista temporal a partir de DF de Analisis E - Anexo Metodos de pago\n",
        "bbt1_32_bis_spark.createOrReplaceTempView('Vista_E_bis')"
      ],
      "metadata": {
        "id": "31pF-NH0jSGW"
      },
      "execution_count": 68,
      "outputs": []
    },
    {
      "cell_type": "code",
      "source": [
        "# Visualizacion\n",
        "consulta_vista_E_bis = spark.sql('SELECT * FROM Vista_E_bis')\n",
        "consulta_vista_E_bis.show(5)"
      ],
      "metadata": {
        "colab": {
          "base_uri": "https://localhost:8080/"
        },
        "id": "Fz3v-3lejRvV",
        "outputId": "a485e2fd-5143-4544-c7c9-7315a5863ecd"
      },
      "execution_count": 69,
      "outputs": [
        {
          "output_type": "stream",
          "name": "stdout",
          "text": [
            "+----------+------------+------------------+------------------+\n",
            "|year_month|payment_type|     ingreso_total|cant_transacciones|\n",
            "+----------+------------+------------------+------------------+\n",
            "|   2018-06| credit_card|          18337.92|                 6|\n",
            "|   2017-02| credit_card|18310.739999999998|                 4|\n",
            "|   2018-07|      boleto|          17603.56|                 3|\n",
            "|   2017-04| credit_card|          13909.44|                 4|\n",
            "|   2017-03| credit_card|13885.580000000002|                 4|\n",
            "+----------+------------+------------------+------------------+\n",
            "only showing top 5 rows\n",
            "\n"
          ]
        }
      ]
    },
    {
      "cell_type": "markdown",
      "source": [
        "## BBT1-71 Querys en spark SQL, análisis D"
      ],
      "metadata": {
        "id": "nD7Ar0ObByqT"
      }
    },
    {
      "cell_type": "markdown",
      "source": [
        "COMO: desarrollador\n",
        "QUIERO: Generar una consulta que cumpla los siguientes puntos:\n",
        "Totalizar por las órdenes más vendidas por categoria, por año y mes limite de entrega sumando monto de envio y promedio de monto de envio.\n",
        "\n",
        "PARA: Enriquecer el análisis de los datos según requerimiento. Para entender las frecuencia de compra y la incidencia de los envios por categoria de los productos."
      ],
      "metadata": {
        "id": "sjss8pfUCUUr"
      }
    },
    {
      "cell_type": "code",
      "source": [
        "from pyspark.sql.functions import year, month\n",
        "from pyspark.sql.window import Window\n",
        "from pyspark.sql.functions import sum, avg, row_number"
      ],
      "metadata": {
        "id": "Q9lMPC6DrLHq"
      },
      "execution_count": 40,
      "outputs": []
    },
    {
      "cell_type": "code",
      "source": [
        "spark = SparkSession.builder.appName(\"ConsultaSparkSQL\").getOrCreate()"
      ],
      "metadata": {
        "id": "tp2f5ZPRuUcI"
      },
      "execution_count": 52,
      "outputs": []
    },
    {
      "cell_type": "markdown",
      "source": [
        "Dado que dicha consulta proviene de un filtrado de tres datos por categoria, la frecuencia de compra iba a dar una sola unidad mensual, por lo cual se realizó el filtro solamente por año."
      ],
      "metadata": {
        "id": "4UykCaXqPaPb"
      }
    },
    {
      "cell_type": "code",
      "source": [
        "analisis_D = spark.sql(\"\"\"\n",
        "    SELECT\n",
        "        product_category_name,\n",
        "        year,\n",
        "        ROUND(SUM(freight_value),2) AS total_monto_envio,\n",
        "        ROUND(AVG(freight_value),2) AS promedio_monto_envio,\n",
        "        count(freight_value) AS cant_envios\n",
        "    FROM\n",
        "        Vista_D\n",
        "    GROUP BY\n",
        "        product_category_name, year\n",
        "    ORDER BY total_monto_envio DESC\n",
        "    LIMIT 20\n",
        "\"\"\")\n",
        "\n",
        "analisis_D.show()"
      ],
      "metadata": {
        "colab": {
          "base_uri": "https://localhost:8080/"
        },
        "id": "A-V37ptIvybY",
        "outputId": "bd00c62e-e12a-438e-99e7-936b24640c42"
      },
      "execution_count": 41,
      "outputs": [
        {
          "output_type": "stream",
          "name": "stdout",
          "text": [
            "+---------------------+----+-----------------+--------------------+-----------+\n",
            "|product_category_name|year|total_monto_envio|promedio_monto_envio|cant_envios|\n",
            "+---------------------+----+-----------------+--------------------+-----------+\n",
            "| utilidades_domest...|2018|           750.56|              375.28|          2|\n",
            "|                bebes|2018|            538.0|              179.33|          3|\n",
            "|        esporte_lazer|2018|           493.66|              164.55|          3|\n",
            "|      cama_mesa_banho|2018|            476.7|               158.9|          3|\n",
            "|          eletronicos|2018|           428.42|              142.81|          3|\n",
            "|      eletroportateis|2017|           421.44|              140.48|          3|\n",
            "| agro_industria_e_...|2017|           379.71|              126.57|          3|\n",
            "| industria_comerci...|2018|           360.14|              180.07|          2|\n",
            "|     eletrodomesticos|2018|           348.45|              116.15|          3|\n",
            "|             pet_shop|2017|           322.76|              107.59|          3|\n",
            "|          moveis_sala|2017|           307.62|              153.81|          2|\n",
            "|                  pcs|2018|           284.99|               142.5|          2|\n",
            "|   eletrodomesticos_2|2018|           278.54|               92.85|          3|\n",
            "|            papelaria|2018|           278.46|              139.23|          2|\n",
            "|     moveis_decoracao|2018|           256.85|              128.43|          2|\n",
            "|                artes|2017|           245.52|              122.76|          2|\n",
            "|    moveis_escritorio|2018|            242.1|              121.05|          2|\n",
            "|   ferramentas_jardim|2018|           224.01|               74.67|          3|\n",
            "| portateis_casa_fo...|2018|           223.15|               74.38|          3|\n",
            "|         beleza_saude|2017|           212.57|              106.29|          2|\n",
            "+---------------------+----+-----------------+--------------------+-----------+\n",
            "\n"
          ]
        }
      ]
    },
    {
      "cell_type": "markdown",
      "source": [
        "## BBT1-72 Querys en spark SQL, análisis E"
      ],
      "metadata": {
        "id": "tyA86MZ-BzDC"
      }
    },
    {
      "cell_type": "markdown",
      "source": [
        "Descripción\n",
        "\n",
        "COMO: desarrollador\n",
        "QUIERO: Generar una consulta que cumpla los siguientes puntos:\n",
        "Totalizar por las órdenes más vendidas por método de pago, por año y mes sumando monto y promedio de compra..\n",
        "\n",
        "PARA: Enriquecer el análisis de los datos según requerimiento. Para entender las frecuencia de compra y la incidencia de los métodos de pago."
      ],
      "metadata": {
        "id": "SLlQgY5ECbXM"
      }
    },
    {
      "cell_type": "code",
      "source": [
        "analisis_E = spark.sql(\"\"\"\n",
        "    SELECT\n",
        "        payment_type,\n",
        "        year_month,\n",
        "        ROUND(SUM(payment_value),2) AS total_ingresos,\n",
        "        ROUND(AVG(payment_value),2) AS promedio_ingresos,\n",
        "        count(payment_type) as cant_transacciones\n",
        "    FROM\n",
        "        Vista_E\n",
        "    GROUP BY\n",
        "        payment_type, year_month\n",
        "    ORDER BY year_month ASC\n",
        "\n",
        "\"\"\")\n",
        "\n",
        "analisis_E.show()"
      ],
      "metadata": {
        "id": "P-Fi8J0iCghf",
        "colab": {
          "base_uri": "https://localhost:8080/"
        },
        "outputId": "5c151901-06f8-46d1-941f-46035eb98fc1"
      },
      "execution_count": 78,
      "outputs": [
        {
          "output_type": "stream",
          "name": "stdout",
          "text": [
            "+------------+----------+--------------+-----------------+------------------+\n",
            "|payment_type|year_month|total_ingresos|promedio_ingresos|cant_transacciones|\n",
            "+------------+----------+--------------+-----------------+------------------+\n",
            "| credit_card|   2017-02|      18310.74|          4577.68|                 4|\n",
            "| credit_card|   2017-03|      13885.58|           3471.4|                 4|\n",
            "| credit_card|   2017-04|      13909.44|          3477.36|                 4|\n",
            "|      boleto|   2017-05|      10393.08|          5196.54|                 2|\n",
            "| credit_card|   2017-06|       3048.27|          3048.27|                 1|\n",
            "|      boleto|   2017-07|       3041.73|          3041.73|                 1|\n",
            "| credit_card|   2017-09|      13664.08|         13664.08|                 1|\n",
            "| credit_card|   2017-10|        6253.0|           3126.5|                 2|\n",
            "| credit_card|   2017-11|       3184.55|          3184.55|                 1|\n",
            "|      boleto|   2017-11|       6081.54|          6081.54|                 1|\n",
            "| credit_card|   2017-12|       2183.41|          2183.41|                 1|\n",
            "|     voucher|   2017-12|       1113.99|          1113.99|                 1|\n",
            "| credit_card|   2018-01|        3826.8|           3826.8|                 1|\n",
            "|      boleto|   2018-02|       3155.82|          3155.82|                 1|\n",
            "| credit_card|   2018-02|       3358.24|          3358.24|                 1|\n",
            "| credit_card|   2018-03|       7967.85|          3983.93|                 2|\n",
            "| credit_card|   2018-04|       6736.18|          3368.09|                 2|\n",
            "|  debit_card|   2018-05|        4445.5|           4445.5|                 1|\n",
            "|      boleto|   2018-05|       7175.28|          3587.64|                 2|\n",
            "| credit_card|   2018-06|      18337.92|          3056.32|                 6|\n",
            "+------------+----------+--------------+-----------------+------------------+\n",
            "only showing top 20 rows\n",
            "\n"
          ]
        }
      ]
    },
    {
      "cell_type": "markdown",
      "source": [
        "## BBT1-81 Carga de datos, generacion de archivos .parquet de análisis D"
      ],
      "metadata": {
        "id": "mjCItvfCNtdy"
      }
    },
    {
      "cell_type": "markdown",
      "source": [
        "COMO: desarrollador\n",
        "QUIERO: Guardar las agregaciones generadas en un archivo parquet dentro de un directorio llamado Results_Parquets\\Analysis_D, XXXXXXX.\n",
        "PARA: Dar acceso a los datos a otros interesados."
      ],
      "metadata": {
        "id": "fWlfsn7wNsVw"
      }
    },
    {
      "cell_type": "code",
      "source": [
        "ruta_guardado = 'Results_Parquets\\Analysis_D/BBT1_71'\n",
        "analisis_D.write.parquet(ruta_guardado)\n",
        "\n",
        "print(f'Archivo Parquet guardado en: {ruta_guardado}')"
      ],
      "metadata": {
        "colab": {
          "base_uri": "https://localhost:8080/"
        },
        "id": "gN180353DCif",
        "outputId": "b770fd9b-f764-4f34-f487-1105fba7776c"
      },
      "execution_count": 93,
      "outputs": [
        {
          "output_type": "stream",
          "name": "stdout",
          "text": [
            "Archivo Parquet guardado en: Results_Parquets\\Analysis_D/BBT1_71\n"
          ]
        }
      ]
    },
    {
      "cell_type": "markdown",
      "source": [
        "## BBT1-82 Carga de datos, generacion de archivos .parquet de análisis E"
      ],
      "metadata": {
        "id": "KLKMgEDBN-5g"
      }
    },
    {
      "cell_type": "markdown",
      "source": [
        "COMO: desarrollador\n",
        "QUIERO: Guardar las agregaciones generadas en un archivo parquet dentro de un directorio llamado Results_Parquets\\Analysis_E, XXXXXXX.\n",
        "PARA: Dar acceso a los datos a otros interesados."
      ],
      "metadata": {
        "id": "O63wRa29OGNb"
      }
    },
    {
      "cell_type": "code",
      "source": [
        "ruta_guardado = 'Results_Parquets\\Analysis_E/BBT1_72'\n",
        "analisis_E.write.parquet(ruta_guardado)\n",
        "\n",
        "print(f'Archivo Parquet guardado en: {ruta_guardado}')"
      ],
      "metadata": {
        "colab": {
          "base_uri": "https://localhost:8080/"
        },
        "id": "IPLfut42DGe6",
        "outputId": "b7aed140-b5af-4449-b475-b7acc7259a99"
      },
      "execution_count": 94,
      "outputs": [
        {
          "output_type": "stream",
          "name": "stdout",
          "text": [
            "Archivo Parquet guardado en: Results_Parquets\\Analysis_E/BBT1_72\n"
          ]
        }
      ]
    }
  ],
  "metadata": {
    "colab": {
      "provenance": [],
      "collapsed_sections": [
        "JNY_pDm7BxpD"
      ]
    },
    "kernelspec": {
      "display_name": "Python 3",
      "name": "python3"
    },
    "language_info": {
      "codemirror_mode": {
        "name": "ipython",
        "version": 3
      },
      "file_extension": ".py",
      "mimetype": "text/x-python",
      "name": "python",
      "nbconvert_exporter": "python",
      "pygments_lexer": "ipython3",
      "version": "3.11.4"
    }
  },
  "nbformat": 4,
  "nbformat_minor": 0
}